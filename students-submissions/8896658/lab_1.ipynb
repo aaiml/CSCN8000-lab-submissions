{
 "cells": [
  {
   "attachments": {},
   "cell_type": "markdown",
   "metadata": {},
   "source": [
    "**Lab 1 – Basic NumPy Operations**"
   ]
  },
  {
   "attachments": {},
   "cell_type": "markdown",
   "metadata": {},
   "source": [
    "1.Create an array that starts from the integer 1, ends at 20, incremented by 3."
   ]
  },
  {
   "cell_type": "code",
   "execution_count": 1,
   "metadata": {},
   "outputs": [],
   "source": [
    "#import numpy package\n",
    "import numpy as np"
   ]
  },
  {
   "cell_type": "code",
   "execution_count": 2,
   "metadata": {},
   "outputs": [
    {
     "data": {
      "text/plain": [
       "array([ 1,  4,  7, 10, 13, 16, 19])"
      ]
     },
     "execution_count": 2,
     "metadata": {},
     "output_type": "execute_result"
    }
   ],
   "source": [
    "arr1 = np.arange(1,20,3)\n",
    "arr1\n"
   ]
  },
  {
   "attachments": {},
   "cell_type": "markdown",
   "metadata": {},
   "source": [
    "2.Create a new array of shape 3 with random numbers between 0 and 1."
   ]
  },
  {
   "cell_type": "code",
   "execution_count": 3,
   "metadata": {},
   "outputs": [
    {
     "data": {
      "text/plain": [
       "array([0.62708271, 0.88523648, 0.61223287])"
      ]
     },
     "execution_count": 3,
     "metadata": {},
     "output_type": "execute_result"
    }
   ],
   "source": [
    "arr2=np.random.rand(3)\n",
    "arr2"
   ]
  },
  {
   "attachments": {},
   "cell_type": "markdown",
   "metadata": {},
   "source": [
    "3.Create a 2 D array [[10,20,45], [30,12,16], [42,17,56] and perform the following operations: \n",
    "     \n",
    "       Slice the 2D array to get the first two rows, slice the 2D array to get the last two rows."
   ]
  },
  {
   "cell_type": "code",
   "execution_count": 4,
   "metadata": {},
   "outputs": [
    {
     "name": "stdout",
     "output_type": "stream",
     "text": [
      "[[10 20 45]\n",
      " [30 12 16]]\n",
      "[[42 17 56]\n",
      " [30 12 16]]\n"
     ]
    }
   ],
   "source": [
    "arr3 = np.array([[10,20,45], [30,12,16], [42,17,56]])\n",
    "arr3\n",
    "\n",
    "# Slice the 2D array to get the first two rows\n",
    "first_two_rows =arr3[0:2]\n",
    "print(first_two_rows)\n",
    "\n",
    "# slice the 2D array to get the last two rows.\n",
    "last_two_rows =arr3[:0:-1]\n",
    "print(last_two_rows)"
   ]
  },
  {
   "attachments": {},
   "cell_type": "markdown",
   "metadata": {},
   "source": [
    "4.Create two 2x2 arrays and demonstrate how you can stack the elements vertically, horizontally, and split the arrays into smaller arrays."
   ]
  },
  {
   "cell_type": "code",
   "execution_count": 5,
   "metadata": {},
   "outputs": [
    {
     "name": "stdout",
     "output_type": "stream",
     "text": [
      "[[1 2 5 6]\n",
      " [3 4 7 8]]\n",
      "[[1 2]\n",
      " [3 4]\n",
      " [5 6]\n",
      " [7 8]]\n",
      "[array([[1, 2, 5, 6]]), array([[3, 4, 7, 8]])]\n",
      "[array([[1, 2],\n",
      "       [3, 4]]), array([[5, 6],\n",
      "       [7, 8]])]\n"
     ]
    }
   ],
   "source": [
    "arr4= np.array([[1,2],[3,4]])\n",
    "arr5 =np.array([[5,6],[7,8]])\n",
    "\n",
    "#stacking the elements horizontally\n",
    "h_stack=np.hstack([arr4,arr5])\n",
    "print(h_stack)\n",
    "\n",
    "#stacking the elements vertically\n",
    "v_stack=np.vstack([arr4,arr5])\n",
    "print(v_stack)\n",
    "\n",
    "#splitting the horizontal stack\n",
    "split_hstack=np.array_split(h_stack,2)\n",
    "print(split_hstack)\n",
    "\n",
    "##splitting the vertical stack\n",
    "split_vstack=np.array_split(v_stack,2)\n",
    "print(split_vstack)"
   ]
  },
  {
   "attachments": {},
   "cell_type": "markdown",
   "metadata": {},
   "source": [
    "5.Create two matrices X= ([[5, 7, 2], [4, 5, 6], [7, 4 ,2]]) Y= ([[4, 2], [6, 2], [4, 2]]), Is it possible to multiply these matrices? \n",
    "     \n",
    "      Demonstrate the case when it is not possible to."
   ]
  },
  {
   "cell_type": "code",
   "execution_count": 6,
   "metadata": {},
   "outputs": [
    {
     "data": {
      "text/plain": [
       "array([[70, 28],\n",
       "       [70, 30],\n",
       "       [60, 26]])"
      ]
     },
     "execution_count": 6,
     "metadata": {},
     "output_type": "execute_result"
    }
   ],
   "source": [
    "#creating 2 matrices\n",
    "X= ([[5, 7, 2], [4, 5, 6], [7, 4 ,2]]) \n",
    "Y= ([[4, 2], [6, 2], [4, 2]])\n",
    "\n",
    "#multiply x and y\n",
    "np.matmul(X,Y)"
   ]
  },
  {
   "attachments": {},
   "cell_type": "markdown",
   "metadata": {},
   "source": [
    "The above code is multiplied by (x,y), however it cannot be multiplied by (y,x) as the y has 3x2 matrix and x has 3x3 matrix.\n",
    "**so multiplying (y,x) is not possible.**"
   ]
  },
  {
   "attachments": {},
   "cell_type": "markdown",
   "metadata": {},
   "source": [
    "6.Create two arrays, x = ([2, -1, -8]) y = ([3, 1, -2]), Find the Shape, Number of dimensions of vector x.\n",
    "     \n",
    "      Reshape the vector x to a matrix of size (3,1) and determine the number of dimensions after reshaping y to a matrix of (3,1)."
   ]
  },
  {
   "cell_type": "code",
   "execution_count": 7,
   "metadata": {},
   "outputs": [
    {
     "name": "stdout",
     "output_type": "stream",
     "text": [
      "(3,)\n",
      "1\n",
      "[[ 2]\n",
      " [-1]\n",
      " [-8]]\n",
      "2\n"
     ]
    }
   ],
   "source": [
    "#creating 2 arrays\n",
    "x = np.array([2, -1, -8]) \n",
    "y = np.array([3, 1, -2])\n",
    "\n",
    "#printing the shape of x\n",
    "print(x.shape)\n",
    "\n",
    "#printing the dimension of x\n",
    "print(x.ndim)\n",
    "\n",
    "#reshaping x and y\n",
    "print(x.reshape(3,1))\n",
    "print(y.reshape(3,1).ndim)\n"
   ]
  },
  {
   "attachments": {},
   "cell_type": "markdown",
   "metadata": {},
   "source": [
    "7.How does broadcasting work? Demonstrate the subtraction, multiplication by considering a 3 x 3 matrix."
   ]
  },
  {
   "attachments": {},
   "cell_type": "markdown",
   "metadata": {},
   "source": [
    "Broadcasting describe how arrays with different shapes are treated during arithmetic operations, the smaller array is “broadcast” across the larger array so that they have compatible shapes."
   ]
  },
  {
   "cell_type": "code",
   "execution_count": 8,
   "metadata": {},
   "outputs": [
    {
     "name": "stdout",
     "output_type": "stream",
     "text": [
      "subtraction using broadcasting: \n",
      " [[-1. -2. -3.]\n",
      " [ 9.  8.  7.]\n",
      " [19. 18. 17.]]\n",
      "multiplication using broadcasting : \n",
      " [[ 0.  0.  0.]\n",
      " [10. 20. 30.]\n",
      " [20. 40. 60.]]\n"
     ]
    }
   ],
   "source": [
    "#creating a 3x3 matrix\n",
    "arr6 = np.array([[ 0.0,  0.0,  0.0],\n",
    "                 [10.0, 10.0, 10.0],\n",
    "                 [20.0, 20.0, 20.0]])\n",
    "arr7=np.array([1,2,3])# scalar\n",
    "\n",
    "\n",
    "# subtraction\n",
    "print(\"subtraction using broadcasting: \\n\",arr6-arr7)\n",
    "# multiplication\n",
    "print(\"multiplication using broadcasting : \\n\" ,arr6*arr7)\n"
   ]
  },
  {
   "attachments": {},
   "cell_type": "markdown",
   "metadata": {},
   "source": [
    "**PART-B**\n",
    "\n",
    "Solve the following two system of linear equations using matrices (find the values of x1 and x2) and \n",
    "      "
   ]
  },
  {
   "attachments": {},
   "cell_type": "markdown",
   "metadata": {},
   "source": [
    "determine the number of solutions using the functions.\n",
    "1. 2x1+3x2-4x3=6, x1-4x2=8"
   ]
  },
  {
   "cell_type": "code",
   "execution_count": 10,
   "metadata": {},
   "outputs": [
    {
     "name": "stdout",
     "output_type": "stream",
     "text": [
      " shape of a matrix is: \n",
      " (2, 3)\n",
      "shape of b matrix is: \n",
      " (2,)\n"
     ]
    }
   ],
   "source": [
    "a = np.array([[2,3,-4],[1,-4,0]])\n",
    "b =  np.array([6,8])\n",
    "\n",
    "#finding the shape\n",
    "print(\" shape of a matrix is: \\n\", a.shape)\n",
    "print(\"shape of b matrix is: \\n\", b.shape)\n",
    "\n",
    "#solving using linear algorithim ( which throws error)\n",
    "print(np.linalg.solve(a,b))"
   ]
  },
  {
   "attachments": {},
   "cell_type": "markdown",
   "metadata": {},
   "source": [
    "while finding the linalg it throws error\n",
    "\n",
    "The error \"Last 2 dimensions of the array must be square\" occurs when using the np.linalg.solve function in NumPy. This error indicates that the input matrix used for solving a system of linear equations should be square, meaning it has an equal number of rows and columns.\n",
    "\n",
    "In the given code snippet, the matrix X has dimensions 2x3, which means it is not a square matrix. To use np.linalg.solve, we need to provide a square matrix as the coefficient matrix.\n",
    "\n",
    "To resolve this issue, we can check the dimensions of the matrix X and ensure that it is a square matrix. If it is not square, we might need to review the system of equations or adjust the dimensions of the matrix accordingly."
   ]
  },
  {
   "attachments": {},
   "cell_type": "markdown",
   "metadata": {},
   "source": [
    " 2. 3y1-4y2+5y3=10,-y1+2y2-4y3=8"
   ]
  },
  {
   "cell_type": "code",
   "execution_count": 12,
   "metadata": {},
   "outputs": [
    {
     "name": "stdout",
     "output_type": "stream",
     "text": [
      "shape of c matrix is: \n",
      " (2, 3)\n",
      "shape of d matrix is: \n",
      " (2,)\n"
     ]
    }
   ],
   "source": [
    "c = np.array([[3,-4,5],[-1,2,-4]])\n",
    "\n",
    "# Defining the constants matrix for given set of equations\n",
    "d = np.array([10,8])\n",
    "\n",
    "#finding the shape\n",
    "print(\"shape of c matrix is: \\n\", c.shape)\n",
    "print(\"shape of d matrix is: \\n\", d.shape)\n",
    "\n",
    "\n",
    "#solving using linear algorithim ( which throws error)\n",
    "print(np.linalg.solve(c,d))"
   ]
  },
  {
   "attachments": {},
   "cell_type": "markdown",
   "metadata": {},
   "source": [
    "while finding the linalg it throws error\n",
    "\n",
    "The error \"Last 2 dimensions of the array must be square\" occurs when using the np.linalg.solve function in NumPy. This error indicates that the input matrix used for solving a system of linear equations should be square, meaning it has an equal number of rows and columns.\n",
    "\n",
    "In the given code snippet, the matrix X has dimensions 2x3, which means it is not a square matrix. To use np.linalg.solve, we need to provide a square matrix as the coefficient matrix.\n",
    "\n",
    "To resolve this issue, we can check the dimensions of the matrix X and ensure that it is a square matrix. If it is not square, we might need to review the system of equations or adjust the dimensions of the matrix accordingly."
   ]
  }
 ],
 "metadata": {
  "kernelspec": {
   "display_name": "CSCN8010_classic_ml`",
   "language": "python",
   "name": "cscn8010_classic_ml"
  },
  "language_info": {
   "codemirror_mode": {
    "name": "ipython",
    "version": 3
   },
   "file_extension": ".py",
   "mimetype": "text/x-python",
   "name": "python",
   "nbconvert_exporter": "python",
   "pygments_lexer": "ipython3",
   "version": "3.11.3"
  },
  "orig_nbformat": 4
 },
 "nbformat": 4,
 "nbformat_minor": 2
}
