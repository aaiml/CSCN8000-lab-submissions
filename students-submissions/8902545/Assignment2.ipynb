{
 "cells": [
  {
   "cell_type": "code",
   "execution_count": 1,
   "id": "b4e35f83-9f72-4232-b7ec-f38fc5fcf253",
   "metadata": {},
   "outputs": [],
   "source": [
    "from sklearn.metrics import accuracy_score\n",
    "from sklearn.tree import DecisionTreeClassifier\n",
    "from sklearn.ensemble import BaggingClassifier\n",
    "from sklearn.model_selection import train_test_split\n",
    "from sklearn.preprocessing import StandardScaler, LabelEncoder\n",
    "from sklearn.svm import SVC\n",
    "import pandas as pd\n",
    "import numpy as np\n",
    "from scipy.stats import zscore\n",
    "from sklearn.metrics import classification_report"
   ]
  },
  {
   "cell_type": "code",
   "execution_count": 2,
   "id": "c7bd06ef",
   "metadata": {},
   "outputs": [
    {
     "data": {
      "text/html": [
       "<div>\n",
       "<style scoped>\n",
       "    .dataframe tbody tr th:only-of-type {\n",
       "        vertical-align: middle;\n",
       "    }\n",
       "\n",
       "    .dataframe tbody tr th {\n",
       "        vertical-align: top;\n",
       "    }\n",
       "\n",
       "    .dataframe thead th {\n",
       "        text-align: right;\n",
       "    }\n",
       "</style>\n",
       "<table border=\"1\" class=\"dataframe\">\n",
       "  <thead>\n",
       "    <tr style=\"text-align: right;\">\n",
       "      <th></th>\n",
       "      <th>Age</th>\n",
       "      <th>RestingBP</th>\n",
       "      <th>Cholesterol</th>\n",
       "      <th>FastingBS</th>\n",
       "      <th>MaxHR</th>\n",
       "      <th>Oldpeak</th>\n",
       "      <th>HeartDisease</th>\n",
       "    </tr>\n",
       "  </thead>\n",
       "  <tbody>\n",
       "    <tr>\n",
       "      <th>count</th>\n",
       "      <td>918.000000</td>\n",
       "      <td>918.000000</td>\n",
       "      <td>918.000000</td>\n",
       "      <td>918.000000</td>\n",
       "      <td>918.000000</td>\n",
       "      <td>918.000000</td>\n",
       "      <td>918.000000</td>\n",
       "    </tr>\n",
       "    <tr>\n",
       "      <th>mean</th>\n",
       "      <td>53.510893</td>\n",
       "      <td>132.396514</td>\n",
       "      <td>198.799564</td>\n",
       "      <td>0.233115</td>\n",
       "      <td>136.809368</td>\n",
       "      <td>0.887364</td>\n",
       "      <td>0.553377</td>\n",
       "    </tr>\n",
       "    <tr>\n",
       "      <th>std</th>\n",
       "      <td>9.432617</td>\n",
       "      <td>18.514154</td>\n",
       "      <td>109.384145</td>\n",
       "      <td>0.423046</td>\n",
       "      <td>25.460334</td>\n",
       "      <td>1.066570</td>\n",
       "      <td>0.497414</td>\n",
       "    </tr>\n",
       "    <tr>\n",
       "      <th>min</th>\n",
       "      <td>28.000000</td>\n",
       "      <td>0.000000</td>\n",
       "      <td>0.000000</td>\n",
       "      <td>0.000000</td>\n",
       "      <td>60.000000</td>\n",
       "      <td>-2.600000</td>\n",
       "      <td>0.000000</td>\n",
       "    </tr>\n",
       "    <tr>\n",
       "      <th>25%</th>\n",
       "      <td>47.000000</td>\n",
       "      <td>120.000000</td>\n",
       "      <td>173.250000</td>\n",
       "      <td>0.000000</td>\n",
       "      <td>120.000000</td>\n",
       "      <td>0.000000</td>\n",
       "      <td>0.000000</td>\n",
       "    </tr>\n",
       "    <tr>\n",
       "      <th>50%</th>\n",
       "      <td>54.000000</td>\n",
       "      <td>130.000000</td>\n",
       "      <td>223.000000</td>\n",
       "      <td>0.000000</td>\n",
       "      <td>138.000000</td>\n",
       "      <td>0.600000</td>\n",
       "      <td>1.000000</td>\n",
       "    </tr>\n",
       "    <tr>\n",
       "      <th>75%</th>\n",
       "      <td>60.000000</td>\n",
       "      <td>140.000000</td>\n",
       "      <td>267.000000</td>\n",
       "      <td>0.000000</td>\n",
       "      <td>156.000000</td>\n",
       "      <td>1.500000</td>\n",
       "      <td>1.000000</td>\n",
       "    </tr>\n",
       "    <tr>\n",
       "      <th>max</th>\n",
       "      <td>77.000000</td>\n",
       "      <td>200.000000</td>\n",
       "      <td>603.000000</td>\n",
       "      <td>1.000000</td>\n",
       "      <td>202.000000</td>\n",
       "      <td>6.200000</td>\n",
       "      <td>1.000000</td>\n",
       "    </tr>\n",
       "  </tbody>\n",
       "</table>\n",
       "</div>"
      ],
      "text/plain": [
       "              Age   RestingBP  Cholesterol   FastingBS       MaxHR   \n",
       "count  918.000000  918.000000   918.000000  918.000000  918.000000  \\\n",
       "mean    53.510893  132.396514   198.799564    0.233115  136.809368   \n",
       "std      9.432617   18.514154   109.384145    0.423046   25.460334   \n",
       "min     28.000000    0.000000     0.000000    0.000000   60.000000   \n",
       "25%     47.000000  120.000000   173.250000    0.000000  120.000000   \n",
       "50%     54.000000  130.000000   223.000000    0.000000  138.000000   \n",
       "75%     60.000000  140.000000   267.000000    0.000000  156.000000   \n",
       "max     77.000000  200.000000   603.000000    1.000000  202.000000   \n",
       "\n",
       "          Oldpeak  HeartDisease  \n",
       "count  918.000000    918.000000  \n",
       "mean     0.887364      0.553377  \n",
       "std      1.066570      0.497414  \n",
       "min     -2.600000      0.000000  \n",
       "25%      0.000000      0.000000  \n",
       "50%      0.600000      1.000000  \n",
       "75%      1.500000      1.000000  \n",
       "max      6.200000      1.000000  "
      ]
     },
     "execution_count": 2,
     "metadata": {},
     "output_type": "execute_result"
    }
   ],
   "source": [
    "heart_df = pd.read_csv(r\"C:\\Users\\ekyus\\Downloads\\heart.csv\")\n",
    "heart_df.describe()"
   ]
  },
  {
   "cell_type": "code",
   "execution_count": 3,
   "id": "1312cec2",
   "metadata": {},
   "outputs": [
    {
     "name": "stdout",
     "output_type": "stream",
     "text": [
      "Column: Sex\n",
      "Unique Values and Counts:\n",
      "Sex\n",
      "M    725\n",
      "F    193\n",
      "Name: count, dtype: int64\n",
      "Column: ChestPainType\n",
      "Unique Values and Counts:\n",
      "ChestPainType\n",
      "ASY    496\n",
      "NAP    203\n",
      "ATA    173\n",
      "TA      46\n",
      "Name: count, dtype: int64\n",
      "Column: RestingECG\n",
      "Unique Values and Counts:\n",
      "RestingECG\n",
      "Normal    552\n",
      "LVH       188\n",
      "ST        178\n",
      "Name: count, dtype: int64\n",
      "Column: ExerciseAngina\n",
      "Unique Values and Counts:\n",
      "ExerciseAngina\n",
      "N    547\n",
      "Y    371\n",
      "Name: count, dtype: int64\n",
      "Column: ST_Slope\n",
      "Unique Values and Counts:\n",
      "ST_Slope\n",
      "Flat    460\n",
      "Up      395\n",
      "Down     63\n",
      "Name: count, dtype: int64\n"
     ]
    }
   ],
   "source": [
    "# Loop to display unique number of classes for each categorical variable\n",
    "for col in heart_df.select_dtypes(include=['object']).columns:\n",
    "    print(f\"Column: {col}\")\n",
    "    print(\"Unique Values and Counts:\")\n",
    "    print(heart_df[col].value_counts())\n"
   ]
  },
  {
   "cell_type": "code",
   "execution_count": 15,
   "id": "8a89d392",
   "metadata": {},
   "outputs": [],
   "source": [
    "## RestingECG and Sex have only two classes"
   ]
  },
  {
   "cell_type": "code",
   "execution_count": 4,
   "id": "5d3b87d3",
   "metadata": {},
   "outputs": [
    {
     "data": {
      "text/plain": [
       "(HeartDisease\n",
       " 1    508\n",
       " 0    410\n",
       " Name: count, dtype: int64,\n",
       " '\\n',\n",
       " Age               0\n",
       " Sex               0\n",
       " ChestPainType     0\n",
       " RestingBP         0\n",
       " Cholesterol       0\n",
       " FastingBS         0\n",
       " RestingECG        0\n",
       " MaxHR             0\n",
       " ExerciseAngina    0\n",
       " Oldpeak           0\n",
       " ST_Slope          0\n",
       " HeartDisease      0\n",
       " dtype: int64)"
      ]
     },
     "execution_count": 4,
     "metadata": {},
     "output_type": "execute_result"
    }
   ],
   "source": [
    "## The output variable class balance and the number of null values in the dataset\n",
    "heart_df['HeartDisease'].value_counts() ,\"\\n\",heart_df.isnull().sum()"
   ]
  },
  {
   "cell_type": "markdown",
   "id": "1aa52e97",
   "metadata": {},
   "source": [
    "Yay, no outliers"
   ]
  },
  {
   "cell_type": "code",
   "execution_count": 16,
   "id": "4e0a1e6a",
   "metadata": {},
   "outputs": [
    {
     "data": {
      "text/plain": [
       "(899, 12)"
      ]
     },
     "execution_count": 16,
     "metadata": {},
     "output_type": "execute_result"
    }
   ],
   "source": [
    "# Removing outliers using Z-score\n",
    "numeric_cols = heart_df.select_dtypes(include=[np.number]).columns.tolist()\n",
    "z_scores = np.abs(zscore(heart_df[numeric_cols]))\n",
    "outliers = (z_scores > 3)\n",
    "heart_df_no_outliers = heart_df[~outliers.any(axis=1)]\n",
    "heart_df_no_outliers.shape"
   ]
  },
  {
   "cell_type": "code",
   "execution_count": 18,
   "id": "657de776",
   "metadata": {},
   "outputs": [
    {
     "data": {
      "text/plain": [
       "0"
      ]
     },
     "execution_count": 18,
     "metadata": {},
     "output_type": "execute_result"
    }
   ],
   "source": [
    "## number of values removed\n",
    "heart_df.shape[1] - heart_df_no_outliers.shape[1]"
   ]
  },
  {
   "cell_type": "markdown",
   "id": "c220504e",
   "metadata": {},
   "source": [
    "We'll use label encoding for columns with two categories and one-hot encoding for columns with more than two categories."
   ]
  },
  {
   "cell_type": "code",
   "execution_count": 6,
   "id": "f5b99d1d",
   "metadata": {},
   "outputs": [
    {
     "name": "stderr",
     "output_type": "stream",
     "text": [
      "C:\\Users\\ekyus\\AppData\\Local\\Temp\\ipykernel_27060\\2594318214.py:5: SettingWithCopyWarning: \n",
      "A value is trying to be set on a copy of a slice from a DataFrame.\n",
      "Try using .loc[row_indexer,col_indexer] = value instead\n",
      "\n",
      "See the caveats in the documentation: https://pandas.pydata.org/pandas-docs/stable/user_guide/indexing.html#returning-a-view-versus-a-copy\n",
      "  heart_df_no_outliers[col] = le.fit_transform(heart_df_no_outliers[col])\n",
      "C:\\Users\\ekyus\\AppData\\Local\\Temp\\ipykernel_27060\\2594318214.py:5: SettingWithCopyWarning: \n",
      "A value is trying to be set on a copy of a slice from a DataFrame.\n",
      "Try using .loc[row_indexer,col_indexer] = value instead\n",
      "\n",
      "See the caveats in the documentation: https://pandas.pydata.org/pandas-docs/stable/user_guide/indexing.html#returning-a-view-versus-a-copy\n",
      "  heart_df_no_outliers[col] = le.fit_transform(heart_df_no_outliers[col])\n"
     ]
    }
   ],
   "source": [
    "# Label Encoding\n",
    "label_encode_cols = ['Sex', 'ExerciseAngina']\n",
    "le = LabelEncoder()\n",
    "for col in label_encode_cols:\n",
    "    heart_df_no_outliers[col] = le.fit_transform(heart_df_no_outliers[col])"
   ]
  },
  {
   "cell_type": "code",
   "execution_count": 7,
   "id": "46c286ce",
   "metadata": {},
   "outputs": [],
   "source": [
    "# One-Hot Encoding\n",
    "one_hot_encode_cols = ['ChestPainType', 'RestingECG', 'ST_Slope']\n",
    "heart_df_encoded = pd.get_dummies(heart_df_no_outliers, columns=one_hot_encode_cols)"
   ]
  },
  {
   "cell_type": "code",
   "execution_count": 8,
   "id": "df5f4ecf",
   "metadata": {},
   "outputs": [],
   "source": [
    "# Splitting and Scaling the data\n",
    "X = heart_df_encoded.drop(\"HeartDisease\", axis=1)\n",
    "y = heart_df_encoded[\"HeartDisease\"]\n",
    "X_train, X_test, y_train, y_test = train_test_split(X, y, test_size=0.3, random_state=42)\n",
    "scaler = StandardScaler()\n",
    "X_train_scaled = scaler.fit_transform(X_train)\n",
    "X_test_scaled = scaler.transform(X_test)"
   ]
  },
  {
   "cell_type": "code",
   "execution_count": 9,
   "id": "54db2d95",
   "metadata": {},
   "outputs": [
    {
     "name": "stdout",
     "output_type": "stream",
     "text": [
      "0.8481481481481481\n",
      "              precision    recall  f1-score   support\n",
      "\n",
      "           0       0.86      0.78      0.82       119\n",
      "           1       0.84      0.90      0.87       151\n",
      "\n",
      "    accuracy                           0.85       270\n",
      "   macro avg       0.85      0.84      0.84       270\n",
      "weighted avg       0.85      0.85      0.85       270\n",
      "\n"
     ]
    }
   ],
   "source": [
    "# SVM Models\n",
    "svm = SVC(kernel='linear', random_state=42)\n",
    "svm.fit(X_train_scaled, y_train)\n",
    "svm_predictions = svm.predict(X_test_scaled)\n",
    "svm_accuracy = accuracy_score(y_test, svm_predictions)\n",
    "svm_accuracy_report = classification_report(y_test, svm_predictions)\n",
    "print(svm_accuracy)\n",
    "print(svm_accuracy_report)\n"
   ]
  },
  {
   "cell_type": "code",
   "execution_count": 10,
   "id": "1e9eb2be",
   "metadata": {},
   "outputs": [
    {
     "name": "stdout",
     "output_type": "stream",
     "text": [
      "0.8444444444444444\n",
      "              precision    recall  f1-score   support\n",
      "\n",
      "           0       0.85      0.79      0.82       119\n",
      "           1       0.84      0.89      0.86       151\n",
      "\n",
      "    accuracy                           0.84       270\n",
      "   macro avg       0.84      0.84      0.84       270\n",
      "weighted avg       0.84      0.84      0.84       270\n",
      "\n"
     ]
    },
    {
     "name": "stderr",
     "output_type": "stream",
     "text": [
      "c:\\Users\\ekyus\\AppData\\Local\\Programs\\Python\\Python311\\Lib\\site-packages\\sklearn\\ensemble\\_base.py:156: FutureWarning: `base_estimator` was renamed to `estimator` in version 1.2 and will be removed in 1.4.\n",
      "  warnings.warn(\n"
     ]
    }
   ],
   "source": [
    "bagging_svm = BaggingClassifier(base_estimator=SVC(kernel='linear', random_state=42), n_estimators=10, random_state=42)\n",
    "bagging_svm.fit(X_train_scaled, y_train)\n",
    "bagging_svm_predictions = bagging_svm.predict(X_test_scaled)\n",
    "bagging_svm_accuracy = accuracy_score(y_test, bagging_svm_predictions)\n",
    "bagging_svm_accuracy_report = classification_report(y_test, bagging_svm_predictions)\n",
    "print(bagging_svm_accuracy)\n",
    "print(bagging_svm_accuracy_report)"
   ]
  },
  {
   "cell_type": "markdown",
   "id": "8a76038c",
   "metadata": {},
   "source": [
    "#### SVM: SVM seeks the best hyperplane to classify data. Bagging may not benefit SVM much since data subsets can have similar optimal hyperplanes."
   ]
  },
  {
   "cell_type": "code",
   "execution_count": 11,
   "id": "a59819b1",
   "metadata": {},
   "outputs": [
    {
     "name": "stdout",
     "output_type": "stream",
     "text": [
      "0.7703703703703704\n",
      "              precision    recall  f1-score   support\n",
      "\n",
      "           0       0.72      0.78      0.75       119\n",
      "           1       0.82      0.76      0.79       151\n",
      "\n",
      "    accuracy                           0.77       270\n",
      "   macro avg       0.77      0.77      0.77       270\n",
      "weighted avg       0.77      0.77      0.77       270\n",
      "\n"
     ]
    }
   ],
   "source": [
    "# Decision Tree Models\n",
    "dt = DecisionTreeClassifier(random_state=42)\n",
    "dt.fit(X_train_scaled, y_train)\n",
    "dt_predictions = dt.predict(X_test_scaled)\n",
    "dt_accuracy = accuracy_score(y_test, dt_predictions)\n",
    "dt_accuracy_report = classification_report(y_test, dt_predictions)\n",
    "print(dt_accuracy)\n",
    "print(dt_accuracy_report)"
   ]
  },
  {
   "cell_type": "code",
   "execution_count": 12,
   "id": "7c2ff477",
   "metadata": {},
   "outputs": [
    {
     "name": "stderr",
     "output_type": "stream",
     "text": [
      "c:\\Users\\ekyus\\AppData\\Local\\Programs\\Python\\Python311\\Lib\\site-packages\\sklearn\\ensemble\\_base.py:156: FutureWarning: `base_estimator` was renamed to `estimator` in version 1.2 and will be removed in 1.4.\n",
      "  warnings.warn(\n"
     ]
    },
    {
     "name": "stdout",
     "output_type": "stream",
     "text": [
      "0.8444444444444444\n",
      "              precision    recall  f1-score   support\n",
      "\n",
      "           0       0.80      0.86      0.83       119\n",
      "           1       0.88      0.83      0.86       151\n",
      "\n",
      "    accuracy                           0.84       270\n",
      "   macro avg       0.84      0.85      0.84       270\n",
      "weighted avg       0.85      0.84      0.84       270\n",
      "\n"
     ]
    }
   ],
   "source": [
    "bagging_dt = BaggingClassifier(base_estimator=DecisionTreeClassifier(random_state=42), n_estimators=10, random_state=42)\n",
    "bagging_dt.fit(X_train_scaled, y_train)\n",
    "bagging_dt_predictions = bagging_dt.predict(X_test_scaled)\n",
    "bagging_dt_accuracy = accuracy_score(y_test, bagging_dt_predictions)\n",
    "bagging_dt_accuracy_report = classification_report(y_test, bagging_dt_predictions)\n",
    "print(bagging_dt_accuracy)\n",
    "print(bagging_dt_accuracy_report)"
   ]
  },
  {
   "cell_type": "markdown",
   "id": "ad511f9e",
   "metadata": {},
   "source": [
    "#### Decision Tree: Trees, especially deep ones, can overfit. Bagging reduces overfitting by averaging multiple tree predictions, leading to better performance."
   ]
  },
  {
   "cell_type": "code",
   "execution_count": 14,
   "id": "1d036905",
   "metadata": {},
   "outputs": [],
   "source": [
    "### Bagging suits high variance, low bias models, like Decision Trees, that overfit. It reduces variance by averaging predictions, enhancing model generalization."
   ]
  }
 ],
 "metadata": {
  "kernelspec": {
   "display_name": "Python 3 (ipykernel)",
   "language": "python",
   "name": "python3"
  },
  "language_info": {
   "codemirror_mode": {
    "name": "ipython",
    "version": 3
   },
   "file_extension": ".py",
   "mimetype": "text/x-python",
   "name": "python",
   "nbconvert_exporter": "python",
   "pygments_lexer": "ipython3",
   "version": "3.11.3"
  }
 },
 "nbformat": 4,
 "nbformat_minor": 5
}
