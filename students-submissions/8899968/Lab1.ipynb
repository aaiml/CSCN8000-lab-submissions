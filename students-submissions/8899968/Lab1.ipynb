{
 "cells": [
  {
   "attachments": {},
   "cell_type": "markdown",
   "metadata": {},
   "source": [
    "## Lab 1 - Abijith Suresh km - 8899968"
   ]
  },
  {
   "attachments": {},
   "cell_type": "markdown",
   "metadata": {},
   "source": [
    "### Part A"
   ]
  },
  {
   "attachments": {},
   "cell_type": "markdown",
   "metadata": {},
   "source": [
    "1 . Create a Notebook to demonstrate NumPy Operations."
   ]
  },
  {
   "cell_type": "code",
   "execution_count": 32,
   "metadata": {},
   "outputs": [],
   "source": [
    "# importing the packages\n",
    "\n",
    "import numpy as np"
   ]
  },
  {
   "attachments": {},
   "cell_type": "markdown",
   "metadata": {},
   "source": [
    "2 . Create an array that starts from the integer 1, ends at 20, incremented by 3."
   ]
  },
  {
   "cell_type": "code",
   "execution_count": 33,
   "metadata": {},
   "outputs": [
    {
     "name": "stdout",
     "output_type": "stream",
     "text": [
      "[ 1  4  7 10 13 16 19]\n"
     ]
    }
   ],
   "source": [
    "array = np.arange(1,20,3) \n",
    "print(array)"
   ]
  },
  {
   "attachments": {},
   "cell_type": "markdown",
   "metadata": {},
   "source": [
    "3 . Create a new array of shape 3 with random numbers between 0 and 1."
   ]
  },
  {
   "cell_type": "code",
   "execution_count": 34,
   "metadata": {},
   "outputs": [
    {
     "data": {
      "text/plain": [
       "array([0.2284635 , 0.42188826, 0.98105328])"
      ]
     },
     "execution_count": 34,
     "metadata": {},
     "output_type": "execute_result"
    }
   ],
   "source": [
    "np.random.rand(3)"
   ]
  },
  {
   "attachments": {},
   "cell_type": "markdown",
   "metadata": {},
   "source": [
    "4 . Create a 2 D array [[10,20,45], [30,12,16], [42,17,56]] and perform the following operations: \n",
    "    \n",
    "Slice the 2D array to get the first two rows, slice the 2D array to get the last two rows."
   ]
  },
  {
   "cell_type": "code",
   "execution_count": 35,
   "metadata": {},
   "outputs": [
    {
     "name": "stdout",
     "output_type": "stream",
     "text": [
      "[[10 20 45]\n",
      " [30 12 16]]\n",
      "[[42 17 56]\n",
      " [30 12 16]]\n"
     ]
    }
   ],
   "source": [
    "array = np.array([[10,20,45], [30,12,16], [42,17,56]]) # 2D array created\n",
    "\n",
    "# Slicing first two row\n",
    "sF2R =array[0:2]\n",
    "print(sF2R)\n",
    "\n",
    "# Slicing last two row\n",
    "sL2R =array[:0:-1]\n",
    "print(sL2R)"
   ]
  },
  {
   "attachments": {},
   "cell_type": "markdown",
   "metadata": {},
   "source": [
    "5 . Create two 2x2 arrays and demonstrate how you can stack the elements vertically, horizontally, and split the arrays into smaller arrays."
   ]
  },
  {
   "cell_type": "code",
   "execution_count": 36,
   "metadata": {},
   "outputs": [
    {
     "name": "stdout",
     "output_type": "stream",
     "text": [
      "[[10 11]\n",
      " [12 13]\n",
      " [14 15]\n",
      " [16 17]]\n",
      "[[10 11 14 15]\n",
      " [12 13 16 17]]\n",
      "[array([[10, 11, 14, 15]]), array([[12, 13, 16, 17]])]\n",
      "[array([[10, 11],\n",
      "       [12, 13]]), array([[14, 15],\n",
      "       [16, 17]])]\n"
     ]
    }
   ],
   "source": [
    "array1 = np.array([[10,11],[12,13]])\n",
    "array2 = np.array([[14,15],[16,17]])\n",
    "\n",
    "#stacking the elements vertically\n",
    "verticalStacking = np.vstack([array1,array2])\n",
    "print(verticalStacking)\n",
    "\n",
    "#stacking the elements horizontally\n",
    "horizontalStacking = np.hstack([array1,array2])\n",
    "print(horizontalStacking)\n",
    "\n",
    "#splitting the horizontal stack\n",
    "splitHorizontalStack = np.array_split(horizontalStacking,2)\n",
    "print(splitHorizontalStack)\n",
    "\n",
    "##splitting the vertical stack\n",
    "splitVerticalStack=np.array_split(verticalStacking,2)\n",
    "print(splitVerticalStack)"
   ]
  },
  {
   "attachments": {},
   "cell_type": "markdown",
   "metadata": {},
   "source": [
    "6.Create two matrices X= ([[5, 7, 2], [4, 5, 6], [7, 4 ,2]]) Y= ([[4, 2], [6, 2], [4, 2]]), Is it possible to multiply these matrices? \n",
    "         \n",
    " Demonstrate the case when it is not possible to"
   ]
  },
  {
   "cell_type": "code",
   "execution_count": 37,
   "metadata": {},
   "outputs": [
    {
     "name": "stdout",
     "output_type": "stream",
     "text": [
      "[[70 28]\n",
      " [70 30]\n",
      " [60 26]]\n"
     ]
    }
   ],
   "source": [
    "matrices_X = np.array ([[5, 7, 2], [4, 5, 6], [7, 4 ,2]])\n",
    "matrices_Y = np.array ([[4, 2], [6, 2], [4, 2]])\n",
    "\n",
    "Z = matrices_X @ matrices_Y \n",
    "print(Z)"
   ]
  },
  {
   "attachments": {},
   "cell_type": "markdown",
   "metadata": {},
   "source": [
    "7 . Create two arrays, x = ([2, -1, -8]) y = ([3, 1, -2]), Find the Shape, Number of dimensions of vector x.\n",
    "         \n",
    "Reshape the vector x to a matrix of size (3,1) and determine the number of dimensions after reshaping y to a matrix of (3,1)."
   ]
  },
  {
   "cell_type": "code",
   "execution_count": 38,
   "metadata": {},
   "outputs": [
    {
     "name": "stdout",
     "output_type": "stream",
     "text": [
      "Shape of arrayX is : (3,)\n",
      "Shape of arrayY is : (3,)\n",
      "Number of dimension of vector is : 1\n",
      "The reshaped matrix  [[ 2]\n",
      " [-1]\n",
      " [-8]]\n",
      "The dimensions of y_reshaped is: 2\n"
     ]
    }
   ],
   "source": [
    "arrayX = np.array([2, -1, -8])\n",
    "arrayY = np.array([3,1,-2])\n",
    "\n",
    "print(\"Shape of arrayX is :\", arrayX.shape)\n",
    "print(\"Shape of arrayY is :\", arrayY.shape)\n",
    "print(\"Number of dimension of vector is :\", arrayX.ndim)\n",
    "\n",
    "# Reshape the vector X to (3,1)\n",
    "arrayXReshaped = arrayX.reshape(3,1)\n",
    "print(\"The reshaped matrix \", arrayXReshaped)\n",
    "\n",
    "# Number of dimensions after reshaping y to a matrix of (3,1)\n",
    "arrayYReshaped = arrayY.reshape(3,1)\n",
    "print(\"The dimensions of y_reshaped is:\", arrayYReshaped.ndim)\n"
   ]
  },
  {
   "attachments": {},
   "cell_type": "markdown",
   "metadata": {},
   "source": [
    "8 . How does broadcasting work? Demonstrate the subtraction, multiplication by considering a 3 x 3 matrix."
   ]
  },
  {
   "attachments": {},
   "cell_type": "markdown",
   "metadata": {},
   "source": [
    "Broadcasting : \n",
    "\n",
    "Broadcasting is a concept in array manipulation that allows arrays of different shapes to be used together in operations. When performing operations on arrays with different shapes, broadcasting ensures that the arrays are compatible by adjusting their shapes to match."
   ]
  },
  {
   "cell_type": "code",
   "execution_count": 39,
   "metadata": {},
   "outputs": [
    {
     "name": "stdout",
     "output_type": "stream",
     "text": [
      "[[0 1 2]\n",
      " [3 3 4]\n",
      " [5 6 7]]\n",
      "[[ 4  6  8]\n",
      " [10 10 12]\n",
      " [14 16 18]]\n"
     ]
    }
   ],
   "source": [
    "A = np.array ([[2, 3, 4],\n",
    "               [5, 5, 6],\n",
    "               [7, 8, 9]])\n",
    "B = 2\n",
    "\n",
    "# Substraction of matrix\n",
    "\n",
    "Substraction = A-B\n",
    "print(Substraction)\n",
    "\n",
    "# Multiplication of matrix\n",
    "\n",
    "multiplication = A*B\n",
    "print(multiplication)\n"
   ]
  },
  {
   "attachments": {},
   "cell_type": "markdown",
   "metadata": {},
   "source": [
    "### Part B"
   ]
  },
  {
   "attachments": {},
   "cell_type": "markdown",
   "metadata": {},
   "source": [
    "1 . Solve the following two system of linear equations using matrices (find the values of x1 and x2) and determine the number of solutions using the \n",
    "    functions. "
   ]
  },
  {
   "attachments": {},
   "cell_type": "markdown",
   "metadata": {},
   "source": [
    "1 . 2x1+3x2-4x3=6,x1-4x2=8\n"
   ]
  },
  {
   "cell_type": "code",
   "execution_count": 44,
   "metadata": {},
   "outputs": [
    {
     "name": "stdout",
     "output_type": "stream",
     "text": [
      " shape of a matrix is: \n",
      " (2, 3)\n",
      "shape of b matrix is: \n",
      " (2,)\n"
     ]
    }
   ],
   "source": [
    "\n",
    "# Define the coefficients matrix A\n",
    "A = np.array([[2, 3, -4], [1, -4, 0]])\n",
    "\n",
    "# Define the constants vector B\n",
    "B = np.array([6, 8])\n",
    "\n",
    "print(\" shape of a matrix is: \\n\", A.shape)\n",
    "\n",
    "print(\"shape of b matrix is: \\n\", B.shape)\n",
    "\n",
    "# Solve the system of equations\n",
    "\n",
    "X = np.linalg.solve(A, B)\n",
    "\n",
    "# finding the shape\n",
    "\n",
    "print(X)"
   ]
  },
  {
   "attachments": {},
   "cell_type": "markdown",
   "metadata": {},
   "source": [
    "Error will be thrown this is likely because the matrix is not invertible, meaning it is singular. In order to use np.linalg.solve() function to solve the linear equations, the coefficient matrix X must be non-singular."
   ]
  },
  {
   "attachments": {},
   "cell_type": "markdown",
   "metadata": {},
   "source": [
    "2 . 3y1-4y2+5y3=10,-y1+2y2-4y3=8"
   ]
  },
  {
   "cell_type": "code",
   "execution_count": 46,
   "metadata": {},
   "outputs": [
    {
     "name": "stdout",
     "output_type": "stream",
     "text": [
      " shape of a matrix is: \n",
      " (2, 3)\n",
      " shape of a matrix is: \n",
      " (2,)\n"
     ]
    }
   ],
   "source": [
    "X = np.array([[3,-4,5],[-1,2,-4]])\n",
    "\n",
    "# Constants matrix for given set of equations\n",
    "\n",
    "Y = np.array([10,8])\n",
    "\n",
    "#finding the shape\n",
    "print(\" shape of a matrix is: \\n\", X.shape)\n",
    "print(\" shape of a matrix is: \\n\", Y.shape)\n",
    "\n",
    "Z = np.linalg.solve(X, Y)\n",
    "#linalg it allows you to solve problems related to vectors, matrices, and linear equations\n",
    "print(Z)"
   ]
  },
  {
   "attachments": {},
   "cell_type": "markdown",
   "metadata": {},
   "source": [
    "Error will be thrown this is likely because the matrix is not invertible, meaning it is singular. In order to use np.linalg.solve() function to solve the linear equations, the coefficient matrix must be non-singular."
   ]
  }
 ],
 "metadata": {
  "kernelspec": {
   "display_name": "CSCN8010_classic_ml",
   "language": "python",
   "name": "cscn8010_classic_ml"
  },
  "language_info": {
   "codemirror_mode": {
    "name": "ipython",
    "version": 3
   },
   "file_extension": ".py",
   "mimetype": "text/x-python",
   "name": "python",
   "nbconvert_exporter": "python",
   "pygments_lexer": "ipython3",
   "version": "3.11.3"
  },
  "orig_nbformat": 4
 },
 "nbformat": 4,
 "nbformat_minor": 2
}
