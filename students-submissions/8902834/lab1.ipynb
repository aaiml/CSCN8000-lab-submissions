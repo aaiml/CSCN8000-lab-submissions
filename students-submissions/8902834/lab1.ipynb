{
 "cells": [
  {
   "attachments": {},
   "cell_type": "markdown",
   "metadata": {},
   "source": [
    "<h1 align = 'center'><B><U>Lab 1 - Basic NumPy Operations</U></B></h1>\n",
    "<h3 align = 'center'><B>Waseem Iqbal Shaikh (8902834)</B></h3>"
   ]
  },
  {
   "attachments": {},
   "cell_type": "markdown",
   "metadata": {},
   "source": [
    "<h3 align = 'center'><B><U>Part A</U></B></h3>"
   ]
  },
  {
   "attachments": {},
   "cell_type": "markdown",
   "metadata": {},
   "source": [
    "<h3><I><U>1. Create a Notebook to demonstrate NumPy Operations.</U></I></h3>"
   ]
  },
  {
   "cell_type": "code",
   "execution_count": 132,
   "metadata": {},
   "outputs": [],
   "source": [
    "import numpy as np"
   ]
  },
  {
   "attachments": {},
   "cell_type": "markdown",
   "metadata": {},
   "source": [
    "<h3><I><U>2. Create an array that starts from the integer 1, ends at 20, incremented by 3.</U></I></h3>"
   ]
  },
  {
   "cell_type": "code",
   "execution_count": 133,
   "metadata": {},
   "outputs": [
    {
     "data": {
      "text/plain": [
       "array([ 1,  4,  7, 10, 13, 16, 19])"
      ]
     },
     "execution_count": 133,
     "metadata": {},
     "output_type": "execute_result"
    }
   ],
   "source": [
    "array1 = np.arange(1,20,3)\n",
    "array1"
   ]
  },
  {
   "attachments": {},
   "cell_type": "markdown",
   "metadata": {},
   "source": [
    "<h3><I><U>3. Create a new array of shape 3 with random numbers between 0 and 1.</U></I></h3>"
   ]
  },
  {
   "cell_type": "code",
   "execution_count": 134,
   "metadata": {},
   "outputs": [
    {
     "name": "stdout",
     "output_type": "stream",
     "text": [
      "New array of shape 3 with random numbers between 0 and 1:-\n",
      " [[0.09705046 0.33198608 0.75071507]\n",
      " [0.68645698 0.44923455 0.06083376]\n",
      " [0.70109017 0.31067397 0.68795517]]\n"
     ]
    }
   ],
   "source": [
    "array2 = np.random.rand(3,3)\n",
    "print (\"New array of shape 3 with random numbers between 0 and 1:-\\n\", array2)"
   ]
  },
  {
   "attachments": {},
   "cell_type": "markdown",
   "metadata": {},
   "source": [
    "<h3><I><U>4. Create a 2 D array [[10,20,45], [30,12,16], [42,17,56]] and perform the following operations:<br><br></U>Slice the 2D array to get the first two rows, slice the 2D array to get the last two rows.</I></h3>"
   ]
  },
  {
   "cell_type": "code",
   "execution_count": 135,
   "metadata": {},
   "outputs": [
    {
     "name": "stdout",
     "output_type": "stream",
     "text": [
      "The first two rows of the 2D array:-\n",
      " [[10 20 45]\n",
      " [30 12 16]]\n",
      "The last two rows of 2D array:-\n",
      " [[30 12 16]\n",
      " [42 17 56]]\n"
     ]
    }
   ],
   "source": [
    "array3 = np.array([[10,20,45], [30,12,16], [42,17,56]])\n",
    "print(\"The first two rows of the 2D array:-\\n\", array3[0:2])\n",
    "print(\"The last two rows of 2D array:-\\n\", array3[1:3])"
   ]
  },
  {
   "attachments": {},
   "cell_type": "markdown",
   "metadata": {},
   "source": [
    "<h3><I><U>5. Create two 2x2 arrays and demonstrate how you can stack the elements vertically, horizontally, and split the arrays into smaller arrays.</U></I></h3>"
   ]
  },
  {
   "cell_type": "code",
   "execution_count": 136,
   "metadata": {},
   "outputs": [
    {
     "name": "stdout",
     "output_type": "stream",
     "text": [
      "Two arrays of 2x2:-\n",
      " [[1, 6], [1, 1]] \n",
      " [[1, 9], [9, 7]]\n",
      "Stacking elements vertically:-\n",
      " [[1 6]\n",
      " [1 1]\n",
      " [1 9]\n",
      " [9 7]]\n",
      "Stacking elements horizontally:-\n",
      " [[1 6 1 9]\n",
      " [1 1 9 7]]\n",
      "Splitting the arrays in smaller arrays:-\n",
      "[array([1]), array([6]), array([1]), array([1]), array([1]), array([9]), array([9]), array([7])]\n"
     ]
    }
   ],
   "source": [
    "array4 = [[1,6],[1,1]]\n",
    "array5 = [[1,9],[9,7]]\n",
    "print(\"Two arrays of 2x2:-\\n\", array4, \"\\n\", array5)\n",
    "verticalStack = np.vstack((array4,array5))\n",
    "print(\"Stacking elements vertically:-\\n\", verticalStack)\n",
    "horizontalStack = np.hstack((array4, array5))\n",
    "print(\"Stacking elements horizontally:-\\n\", horizontalStack)\n",
    "print(\"Splitting the arrays in smaller arrays:-\")\n",
    "jointArray = np.concatenate((array4,array5),axis=None)\n",
    "print(np.split(jointArray,jointArray.size))"
   ]
  },
  {
   "attachments": {},
   "cell_type": "markdown",
   "metadata": {},
   "source": [
    "<h3><I><U>6. Create two matrices X= ([[5, 7, 2], [4, 5, 6], [7, 4 ,2]]) Y= ([[4, 2], [6, 2], [4, 2]]), Is it possible to multiply these matrices? Demonstrate the case when it is not possible to.</U></I></h3>"
   ]
  },
  {
   "cell_type": "code",
   "execution_count": 137,
   "metadata": {},
   "outputs": [
    {
     "name": "stdout",
     "output_type": "stream",
     "text": [
      "Yes, the multiplication of X and Y array is possible because number of columns of X is equal to number of rows of Y. The multiplication of X and Y:-\n",
      " [[70 28]\n",
      " [70 30]\n",
      " [60 26]]\n",
      "The multiplication of Y and X is not possible because the number of columns of Y array is not equal to number of rows in X array. You can only multiply two matrices if their dimensions are compatible , which means the number of columns in the first matrix is the same as the number of rows in the second matrix. Below is the example of error that you will receive.:-\n"
     ]
    },
    {
     "ename": "ValueError",
     "evalue": "matmul: Input operand 1 has a mismatch in its core dimension 0, with gufunc signature (n?,k),(k,m?)->(n?,m?) (size 3 is different from 2)",
     "output_type": "error",
     "traceback": [
      "\u001b[1;31m---------------------------------------------------------------------------\u001b[0m",
      "\u001b[1;31mValueError\u001b[0m                                Traceback (most recent call last)",
      "Cell \u001b[1;32mIn[137], line 5\u001b[0m\n\u001b[0;32m      3\u001b[0m \u001b[39mprint\u001b[39m(\u001b[39m\"\u001b[39m\u001b[39mYes, the multiplication of X and Y array is possible because number of columns of X is equal to number of rows of Y. The multiplication of X and Y:-\u001b[39m\u001b[39m\\n\u001b[39;00m\u001b[39m\"\u001b[39m, np\u001b[39m.\u001b[39mmatmul(X,Y))\n\u001b[0;32m      4\u001b[0m \u001b[39mprint\u001b[39m(\u001b[39m\"\u001b[39m\u001b[39mThe multiplication of Y and X is not possible because the number of columns of Y array is not equal to number of rows in X array. You can only multiply two matrices if their dimensions are compatible , which means the number of columns in the first matrix is the same as the number of rows in the second matrix. Below is the example of error that you will receive.:-\u001b[39m\u001b[39m\"\u001b[39m)\n\u001b[1;32m----> 5\u001b[0m \u001b[39mprint\u001b[39m(\u001b[39m\"\u001b[39m\u001b[39mThe multiplication of X and Y array:-\u001b[39m\u001b[39m\\n\u001b[39;00m\u001b[39m\"\u001b[39m, np\u001b[39m.\u001b[39;49mmatmul(Y,X))\n",
      "\u001b[1;31mValueError\u001b[0m: matmul: Input operand 1 has a mismatch in its core dimension 0, with gufunc signature (n?,k),(k,m?)->(n?,m?) (size 3 is different from 2)"
     ]
    }
   ],
   "source": [
    "X = ([[5, 7, 2], [4, 5, 6], [7, 4 ,2]])\n",
    "Y = ([[4, 2], [6, 2], [4, 2]])\n",
    "print(\"Yes, the multiplication of X and Y array is possible because number of columns of X is equal to number of rows of Y. The multiplication of X and Y:-\\n\", np.matmul(X,Y))\n",
    "print(\"The multiplication of Y and X is not possible because the number of columns of Y array is not equal to number of rows in X array. You can only multiply two matrices if their dimensions are compatible , which means the number of columns in the first matrix is the same as the number of rows in the second matrix. Below is the example of error that you will receive.:-\")\n",
    "print(\"The multiplication of X and Y array:-\\n\", np.matmul(Y,X))\n"
   ]
  },
  {
   "attachments": {},
   "cell_type": "markdown",
   "metadata": {},
   "source": [
    "<h3><I><U>7. Create two arrays, x = ([2, -1, -8]) y = ([3, 1, -2]), Find the Shape, Number of dimensions of vector x. Reshape the vector x to a matrix of size (3,1) and determine the number of dimensions after reshaping y to a matrix of (3,1).</U></I></h3>"
   ]
  },
  {
   "cell_type": "code",
   "execution_count": null,
   "metadata": {},
   "outputs": [
    {
     "name": "stdout",
     "output_type": "stream",
     "text": [
      "The shape of x and y array:-\n",
      "The shape of x: (3,)\n",
      "The shape of y: (3,)\n",
      "The dimensions of x and y:-\n",
      "Dimension of x: 1\n",
      "Dimension of y: 1\n",
      "Reshaping x array to (3,1) matrix:-\n",
      "[[ 2]\n",
      " [-1]\n",
      " [-8]]\n",
      "Reshaping y array to (3,1) matrix:-\n",
      "[[ 3]\n",
      " [ 1]\n",
      " [-2]]\n",
      "Dimension of reshaped y array: 2\n"
     ]
    }
   ],
   "source": [
    "x = ([2, -1, -8])\n",
    "y = ([3, 1, -2])\n",
    "xArray = np.array(x)\n",
    "yArray = np.array(y)\n",
    "print(\"The shape of x and y array:-\")\n",
    "print(\"The shape of x:\", xArray.shape)\n",
    "print(\"The shape of y:\", yArray.shape)\n",
    "print(\"The dimensions of x and y:-\")\n",
    "print(\"Dimension of x:\", xArray.ndim)\n",
    "print(\"Dimension of y:\", yArray.ndim)\n",
    "print(\"Reshaping x array to (3,1) matrix:-\")\n",
    "print(xArray.reshape((3,1)))\n",
    "print(\"Reshaping y array to (3,1) matrix:-\")\n",
    "yReshape = yArray.reshape((3,1))\n",
    "print(yReshape)\n",
    "print(\"Dimension of reshaped y array:\", yReshape.ndim)\n"
   ]
  },
  {
   "attachments": {},
   "cell_type": "markdown",
   "metadata": {},
   "source": [
    "<h3><I><U>8. How does broadcasting work? Demonstrate the subtraction, multiplication by considering a 3 x 3 matrix.</U></I></h3>"
   ]
  },
  {
   "cell_type": "code",
   "execution_count": null,
   "metadata": {},
   "outputs": [
    {
     "name": "stdout",
     "output_type": "stream",
     "text": [
      "The way NumPy handles arrays with various shapes while performing arithmetic operations is known as broadcasting. Broadcasting is done between arrays of different dimensions.\n",
      "\n",
      "\n",
      "Let us consider the below array:\n",
      "[[2 7 1]\n",
      " [4 1 9]\n",
      " [9 4 3]]\n",
      "\n",
      "\n",
      "The subtraction of  [[2 7 1]\n",
      " [4 1 9]\n",
      " [9 4 3]] - 3 is \n",
      "\n",
      " [[-1  4 -2]\n",
      " [ 1 -2  6]\n",
      " [ 6  1  0]]\n",
      "\n",
      "\n",
      "The multiplication of [[2 7 1]\n",
      " [4 1 9]\n",
      " [9 4 3]] * 3 is \n",
      "\n",
      " [[ 6 21  3]\n",
      " [12  3 27]\n",
      " [27 12  9]]\n"
     ]
    }
   ],
   "source": [
    "print(\"The way NumPy handles arrays with various shapes while performing arithmetic operations is known as broadcasting. Broadcasting is done between arrays of different dimensions.\")\n",
    "array6 = np.array([[2,7,1],[4,1,9],[9,4,3]])\n",
    "subtraction = array6 - 3\n",
    "multiplication = array6 * 3\n",
    "print(\"\\n\\nLet us consider the below array:\")\n",
    "print(array6)\n",
    "print(\"\\n\\nThe subtraction of \", array6, \"- 3 is \\n\\n\", subtraction)\n",
    "print(\"\\n\\nThe multiplication of\", array6, \"* 3 is \\n\\n\", multiplication)"
   ]
  },
  {
   "attachments": {},
   "cell_type": "markdown",
   "metadata": {},
   "source": [
    "<h3 align = \"center\">Part B<B><U></U></B></h3>"
   ]
  },
  {
   "attachments": {},
   "cell_type": "markdown",
   "metadata": {},
   "source": [
    "<h3><I><U>1.Solve the following two system of linear equations using matrices (find the values of x1 and x2) and determine the number of solutions using the functions.</U><br><br>a. 2x1+3x2-4x3=6,x1-4x2=8</I></h3>"
   ]
  },
  {
   "cell_type": "code",
   "execution_count": null,
   "metadata": {},
   "outputs": [
    {
     "ename": "LinAlgError",
     "evalue": "Last 2 dimensions of the array must be square",
     "output_type": "error",
     "traceback": [
      "\u001b[1;31m---------------------------------------------------------------------------\u001b[0m",
      "\u001b[1;31mLinAlgError\u001b[0m                               Traceback (most recent call last)",
      "Cell \u001b[1;32mIn[119], line 3\u001b[0m\n\u001b[0;32m      1\u001b[0m coefficientArray \u001b[39m=\u001b[39m np\u001b[39m.\u001b[39marray([[\u001b[39m2\u001b[39m,\u001b[39m3\u001b[39m,\u001b[39m-\u001b[39m\u001b[39m4\u001b[39m],[\u001b[39m0\u001b[39m,\u001b[39m1\u001b[39m,\u001b[39m-\u001b[39m\u001b[39m4\u001b[39m]])\n\u001b[0;32m      2\u001b[0m constantArray \u001b[39m=\u001b[39m np\u001b[39m.\u001b[39marray([\u001b[39m6\u001b[39m,\u001b[39m8\u001b[39m])\n\u001b[1;32m----> 3\u001b[0m results \u001b[39m=\u001b[39m np\u001b[39m.\u001b[39;49mlinalg\u001b[39m.\u001b[39;49msolve(coefficientArray,constantArray)\n",
      "File \u001b[1;32m<__array_function__ internals>:200\u001b[0m, in \u001b[0;36msolve\u001b[1;34m(*args, **kwargs)\u001b[0m\n",
      "File \u001b[1;32md:\\Conestoga\\FML\\git_projects\\CSCN8010\\venv\\CSCN8010_classic_ml\\Lib\\site-packages\\numpy\\linalg\\linalg.py:373\u001b[0m, in \u001b[0;36msolve\u001b[1;34m(a, b)\u001b[0m\n\u001b[0;32m    371\u001b[0m a, _ \u001b[39m=\u001b[39m _makearray(a)\n\u001b[0;32m    372\u001b[0m _assert_stacked_2d(a)\n\u001b[1;32m--> 373\u001b[0m _assert_stacked_square(a)\n\u001b[0;32m    374\u001b[0m b, wrap \u001b[39m=\u001b[39m _makearray(b)\n\u001b[0;32m    375\u001b[0m t, result_t \u001b[39m=\u001b[39m _commonType(a, b)\n",
      "File \u001b[1;32md:\\Conestoga\\FML\\git_projects\\CSCN8010\\venv\\CSCN8010_classic_ml\\Lib\\site-packages\\numpy\\linalg\\linalg.py:190\u001b[0m, in \u001b[0;36m_assert_stacked_square\u001b[1;34m(*arrays)\u001b[0m\n\u001b[0;32m    188\u001b[0m m, n \u001b[39m=\u001b[39m a\u001b[39m.\u001b[39mshape[\u001b[39m-\u001b[39m\u001b[39m2\u001b[39m:]\n\u001b[0;32m    189\u001b[0m \u001b[39mif\u001b[39;00m m \u001b[39m!=\u001b[39m n:\n\u001b[1;32m--> 190\u001b[0m     \u001b[39mraise\u001b[39;00m LinAlgError(\u001b[39m'\u001b[39m\u001b[39mLast 2 dimensions of the array must be square\u001b[39m\u001b[39m'\u001b[39m)\n",
      "\u001b[1;31mLinAlgError\u001b[0m: Last 2 dimensions of the array must be square"
     ]
    }
   ],
   "source": [
    "coefficientArray = np.array([[2,3,-4],[0,1,-4]])\n",
    "constantArray = np.array([6,8])\n",
    "results = np.linalg.solve(coefficientArray,constantArray)"
   ]
  },
  {
   "attachments": {},
   "cell_type": "markdown",
   "metadata": {},
   "source": [
    "<h3>The coefficient matrix must have the same number of rows and columns for the linear system to be solvable. The number of coefficients of both the equation is not the same and so we cannot have a square coefficient matrix. Hence, we cannot find a solution for these equations.</h3>"
   ]
  },
  {
   "attachments": {},
   "cell_type": "markdown",
   "metadata": {},
   "source": [
    "<h3><I>b. 3y1-4y2+5y3=10,-y1+2y2-4y3=8</I></h3>"
   ]
  },
  {
   "cell_type": "code",
   "execution_count": null,
   "metadata": {},
   "outputs": [
    {
     "ename": "LinAlgError",
     "evalue": "Last 2 dimensions of the array must be square",
     "output_type": "error",
     "traceback": [
      "\u001b[1;31m---------------------------------------------------------------------------\u001b[0m",
      "\u001b[1;31mLinAlgError\u001b[0m                               Traceback (most recent call last)",
      "Cell \u001b[1;32mIn[118], line 3\u001b[0m\n\u001b[0;32m      1\u001b[0m coefficientArray \u001b[39m=\u001b[39m np\u001b[39m.\u001b[39marray([[\u001b[39m3\u001b[39m,\u001b[39m4\u001b[39m,\u001b[39m5\u001b[39m],[\u001b[39m-\u001b[39m\u001b[39m1\u001b[39m,\u001b[39m2\u001b[39m,\u001b[39m-\u001b[39m\u001b[39m4\u001b[39m]])\n\u001b[0;32m      2\u001b[0m constantArray \u001b[39m=\u001b[39m np\u001b[39m.\u001b[39marray([\u001b[39m10\u001b[39m,\u001b[39m8\u001b[39m])\n\u001b[1;32m----> 3\u001b[0m results \u001b[39m=\u001b[39m np\u001b[39m.\u001b[39;49mlinalg\u001b[39m.\u001b[39;49msolve(coefficientArray,constantArray)\n",
      "File \u001b[1;32m<__array_function__ internals>:200\u001b[0m, in \u001b[0;36msolve\u001b[1;34m(*args, **kwargs)\u001b[0m\n",
      "File \u001b[1;32md:\\Conestoga\\FML\\git_projects\\CSCN8010\\venv\\CSCN8010_classic_ml\\Lib\\site-packages\\numpy\\linalg\\linalg.py:373\u001b[0m, in \u001b[0;36msolve\u001b[1;34m(a, b)\u001b[0m\n\u001b[0;32m    371\u001b[0m a, _ \u001b[39m=\u001b[39m _makearray(a)\n\u001b[0;32m    372\u001b[0m _assert_stacked_2d(a)\n\u001b[1;32m--> 373\u001b[0m _assert_stacked_square(a)\n\u001b[0;32m    374\u001b[0m b, wrap \u001b[39m=\u001b[39m _makearray(b)\n\u001b[0;32m    375\u001b[0m t, result_t \u001b[39m=\u001b[39m _commonType(a, b)\n",
      "File \u001b[1;32md:\\Conestoga\\FML\\git_projects\\CSCN8010\\venv\\CSCN8010_classic_ml\\Lib\\site-packages\\numpy\\linalg\\linalg.py:190\u001b[0m, in \u001b[0;36m_assert_stacked_square\u001b[1;34m(*arrays)\u001b[0m\n\u001b[0;32m    188\u001b[0m m, n \u001b[39m=\u001b[39m a\u001b[39m.\u001b[39mshape[\u001b[39m-\u001b[39m\u001b[39m2\u001b[39m:]\n\u001b[0;32m    189\u001b[0m \u001b[39mif\u001b[39;00m m \u001b[39m!=\u001b[39m n:\n\u001b[1;32m--> 190\u001b[0m     \u001b[39mraise\u001b[39;00m LinAlgError(\u001b[39m'\u001b[39m\u001b[39mLast 2 dimensions of the array must be square\u001b[39m\u001b[39m'\u001b[39m)\n",
      "\u001b[1;31mLinAlgError\u001b[0m: Last 2 dimensions of the array must be square"
     ]
    }
   ],
   "source": [
    "coefficientArray = np.array([[3,4,5],[-1,2,-4]])\n",
    "constantArray = np.array([10,8])\n",
    "results = np.linalg.solve(coefficientArray,constantArray)"
   ]
  },
  {
   "attachments": {},
   "cell_type": "markdown",
   "metadata": {},
   "source": [
    "<h3>The above equations are not solvable because the coefficient matrix is not a square matrix. We need one more equation to have a square coefficient matrix.</h3>"
   ]
  }
 ],
 "metadata": {
  "kernelspec": {
   "display_name": "CSCN8010_classic_ml",
   "language": "python",
   "name": "python3"
  },
  "language_info": {
   "codemirror_mode": {
    "name": "ipython",
    "version": 3
   },
   "file_extension": ".py",
   "mimetype": "text/x-python",
   "name": "python",
   "nbconvert_exporter": "python",
   "pygments_lexer": "ipython3",
   "version": "3.11.3"
  },
  "orig_nbformat": 4
 },
 "nbformat": 4,
 "nbformat_minor": 2
}
