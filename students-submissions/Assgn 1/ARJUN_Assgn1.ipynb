{
 "cells": [
  {
   "cell_type": "markdown",
   "id": "776942f8",
   "metadata": {},
   "source": [
    "ARJUN KC(8773456)"
   ]
  },
  {
   "cell_type": "markdown",
   "id": "a16f9440",
   "metadata": {},
   "source": [
    "**Assignment 1**\n",
    "**CSCN8000 Artificial Intelligence Algorithms and Mathematics**\n",
    "\n",
    "1.\tGiven the symptoms exhibited in a patient and a database of anonymized patient records, predict whether the patient is likely to have an illness (Parkinson’s disease).\n",
    "    A model of this decision problem could be used by a program to provide decision support to medical professionals.\n",
    "  \t\n",
    "   You can follow the following steps :\n",
    "  \t\n",
    "   •\tData Analysis\n",
    "  \t\n",
    "   •\tData Preprocessing\n",
    "  \t\n",
    "   •\tData Standardization\n",
    "  \t\n",
    "   •\tModel Training\n",
    "  \t\n",
    "   •\tMeasure your model’s accuracy.\n",
    "  \t\n",
    "      a.\tUse 80% of samples as training data size.\n",
    "\n",
    "   •\tBuild a predictive system to verify that the model built is able to predict the patient’s Parkinson’s disease with one instance of the dataset.\n",
    "  \t\n",
    "You can download the Dataset from: https://archive.ics.uci.edu/dataset/470/parkinson+s+disease+classification  \n",
    "Notes:\n",
    "This lab should be submitted as a notebook and an HTML. Follow https://docs.github.com/en/pages/quickstart. "
   ]
  },
  {
   "cell_type": "code",
   "execution_count": 1,
   "id": "4387c858",
   "metadata": {},
   "outputs": [],
   "source": [
    "import numpy as np\n",
    "import pandas as pd\n",
    "import matplotlib.pyplot as plt\n",
    "import seaborn as sns\n",
    "import sklearn\n",
    "from sklearn.preprocessing import StandardScaler\n",
    "from sklearn.model_selection import train_test_split\n",
    "from sklearn.linear_model import LogisticRegression\n",
    "from sklearn.metrics import accuracy_score, classification_report,confusion_matrix\n",
    "from sklearn.linear_model import LinearRegression\n",
    "from sklearn.metrics import r2_score, mean_absolute_error, mean_squared_error\n",
    "sns.set_style(\"whitegrid\")"
   ]
  },
  {
   "cell_type": "markdown",
   "id": "528f10d5",
   "metadata": {},
   "source": [
    "### Loading Dataset and Doing EDA"
   ]
  },
  {
   "cell_type": "code",
   "execution_count": 49,
   "id": "fcb10570",
   "metadata": {},
   "outputs": [],
   "source": [
    "df_arj = pd.read_csv(\"pd_speech_features.csv\")"
   ]
  },
  {
   "cell_type": "code",
   "execution_count": 50,
   "id": "480cd1f5",
   "metadata": {},
   "outputs": [
    {
     "data": {
      "text/html": [
       "<div>\n",
       "<style scoped>\n",
       "    .dataframe tbody tr th:only-of-type {\n",
       "        vertical-align: middle;\n",
       "    }\n",
       "\n",
       "    .dataframe tbody tr th {\n",
       "        vertical-align: top;\n",
       "    }\n",
       "\n",
       "    .dataframe thead th {\n",
       "        text-align: right;\n",
       "    }\n",
       "</style>\n",
       "<table border=\"1\" class=\"dataframe\">\n",
       "  <thead>\n",
       "    <tr style=\"text-align: right;\">\n",
       "      <th></th>\n",
       "      <th>Unnamed: 0</th>\n",
       "      <th>Unnamed: 1</th>\n",
       "      <th>Baseline Features</th>\n",
       "      <th>Unnamed: 3</th>\n",
       "      <th>Unnamed: 4</th>\n",
       "      <th>Unnamed: 5</th>\n",
       "      <th>Unnamed: 6</th>\n",
       "      <th>Unnamed: 7</th>\n",
       "      <th>Unnamed: 8</th>\n",
       "      <th>Unnamed: 9</th>\n",
       "      <th>...</th>\n",
       "      <th>Unnamed: 745</th>\n",
       "      <th>Unnamed: 746</th>\n",
       "      <th>Unnamed: 747</th>\n",
       "      <th>Unnamed: 748</th>\n",
       "      <th>Unnamed: 749</th>\n",
       "      <th>Unnamed: 750</th>\n",
       "      <th>Unnamed: 751</th>\n",
       "      <th>Unnamed: 752</th>\n",
       "      <th>Unnamed: 753</th>\n",
       "      <th>Unnamed: 754</th>\n",
       "    </tr>\n",
       "  </thead>\n",
       "  <tbody>\n",
       "    <tr>\n",
       "      <th>0</th>\n",
       "      <td>id</td>\n",
       "      <td>gender</td>\n",
       "      <td>PPE</td>\n",
       "      <td>DFA</td>\n",
       "      <td>RPDE</td>\n",
       "      <td>numPulses</td>\n",
       "      <td>numPeriodsPulses</td>\n",
       "      <td>meanPeriodPulses</td>\n",
       "      <td>stdDevPeriodPulses</td>\n",
       "      <td>locPctJitter</td>\n",
       "      <td>...</td>\n",
       "      <td>tqwt_kurtosisValue_dec_28</td>\n",
       "      <td>tqwt_kurtosisValue_dec_29</td>\n",
       "      <td>tqwt_kurtosisValue_dec_30</td>\n",
       "      <td>tqwt_kurtosisValue_dec_31</td>\n",
       "      <td>tqwt_kurtosisValue_dec_32</td>\n",
       "      <td>tqwt_kurtosisValue_dec_33</td>\n",
       "      <td>tqwt_kurtosisValue_dec_34</td>\n",
       "      <td>tqwt_kurtosisValue_dec_35</td>\n",
       "      <td>tqwt_kurtosisValue_dec_36</td>\n",
       "      <td>class</td>\n",
       "    </tr>\n",
       "    <tr>\n",
       "      <th>1</th>\n",
       "      <td>0</td>\n",
       "      <td>1</td>\n",
       "      <td>0.85247</td>\n",
       "      <td>0.71826</td>\n",
       "      <td>0.57227</td>\n",
       "      <td>240</td>\n",
       "      <td>239</td>\n",
       "      <td>0.00806353</td>\n",
       "      <td>8.68E-05</td>\n",
       "      <td>0.00218</td>\n",
       "      <td>...</td>\n",
       "      <td>1.562</td>\n",
       "      <td>2.6445</td>\n",
       "      <td>3.8686</td>\n",
       "      <td>4.2105</td>\n",
       "      <td>5.1221</td>\n",
       "      <td>4.4625</td>\n",
       "      <td>2.6202</td>\n",
       "      <td>3.0004</td>\n",
       "      <td>18.9405</td>\n",
       "      <td>1</td>\n",
       "    </tr>\n",
       "    <tr>\n",
       "      <th>2</th>\n",
       "      <td>0</td>\n",
       "      <td>1</td>\n",
       "      <td>0.76686</td>\n",
       "      <td>0.69481</td>\n",
       "      <td>0.53966</td>\n",
       "      <td>234</td>\n",
       "      <td>233</td>\n",
       "      <td>0.008258256</td>\n",
       "      <td>7.31E-05</td>\n",
       "      <td>0.00195</td>\n",
       "      <td>...</td>\n",
       "      <td>1.5589</td>\n",
       "      <td>3.6107</td>\n",
       "      <td>23.5155</td>\n",
       "      <td>14.1962</td>\n",
       "      <td>11.0261</td>\n",
       "      <td>9.5082</td>\n",
       "      <td>6.5245</td>\n",
       "      <td>6.3431</td>\n",
       "      <td>45.178</td>\n",
       "      <td>1</td>\n",
       "    </tr>\n",
       "    <tr>\n",
       "      <th>3</th>\n",
       "      <td>0</td>\n",
       "      <td>1</td>\n",
       "      <td>0.85083</td>\n",
       "      <td>0.67604</td>\n",
       "      <td>0.58982</td>\n",
       "      <td>232</td>\n",
       "      <td>231</td>\n",
       "      <td>0.00833959</td>\n",
       "      <td>6.04E-05</td>\n",
       "      <td>0.00176</td>\n",
       "      <td>...</td>\n",
       "      <td>1.5643</td>\n",
       "      <td>2.3308</td>\n",
       "      <td>9.4959</td>\n",
       "      <td>10.7458</td>\n",
       "      <td>11.0177</td>\n",
       "      <td>4.8066</td>\n",
       "      <td>2.9199</td>\n",
       "      <td>3.1495</td>\n",
       "      <td>4.7666</td>\n",
       "      <td>1</td>\n",
       "    </tr>\n",
       "    <tr>\n",
       "      <th>4</th>\n",
       "      <td>1</td>\n",
       "      <td>0</td>\n",
       "      <td>0.41121</td>\n",
       "      <td>0.79672</td>\n",
       "      <td>0.59257</td>\n",
       "      <td>178</td>\n",
       "      <td>177</td>\n",
       "      <td>0.010857733</td>\n",
       "      <td>0.000182739</td>\n",
       "      <td>0.00419</td>\n",
       "      <td>...</td>\n",
       "      <td>3.7805</td>\n",
       "      <td>3.5664</td>\n",
       "      <td>5.2558</td>\n",
       "      <td>14.0403</td>\n",
       "      <td>4.2235</td>\n",
       "      <td>4.6857</td>\n",
       "      <td>4.846</td>\n",
       "      <td>6.265</td>\n",
       "      <td>4.0603</td>\n",
       "      <td>1</td>\n",
       "    </tr>\n",
       "  </tbody>\n",
       "</table>\n",
       "<p>5 rows × 755 columns</p>\n",
       "</div>"
      ],
      "text/plain": [
       "  Unnamed: 0 Unnamed: 1 Baseline Features Unnamed: 3 Unnamed: 4 Unnamed: 5  \\\n",
       "0         id     gender               PPE        DFA       RPDE  numPulses   \n",
       "1          0          1           0.85247    0.71826    0.57227        240   \n",
       "2          0          1           0.76686    0.69481    0.53966        234   \n",
       "3          0          1           0.85083    0.67604    0.58982        232   \n",
       "4          1          0           0.41121    0.79672    0.59257        178   \n",
       "\n",
       "         Unnamed: 6        Unnamed: 7          Unnamed: 8    Unnamed: 9  ...  \\\n",
       "0  numPeriodsPulses  meanPeriodPulses  stdDevPeriodPulses  locPctJitter  ...   \n",
       "1               239        0.00806353            8.68E-05       0.00218  ...   \n",
       "2               233       0.008258256            7.31E-05       0.00195  ...   \n",
       "3               231        0.00833959            6.04E-05       0.00176  ...   \n",
       "4               177       0.010857733         0.000182739       0.00419  ...   \n",
       "\n",
       "                Unnamed: 745               Unnamed: 746  \\\n",
       "0  tqwt_kurtosisValue_dec_28  tqwt_kurtosisValue_dec_29   \n",
       "1                      1.562                     2.6445   \n",
       "2                     1.5589                     3.6107   \n",
       "3                     1.5643                     2.3308   \n",
       "4                     3.7805                     3.5664   \n",
       "\n",
       "                Unnamed: 747               Unnamed: 748  \\\n",
       "0  tqwt_kurtosisValue_dec_30  tqwt_kurtosisValue_dec_31   \n",
       "1                     3.8686                     4.2105   \n",
       "2                    23.5155                    14.1962   \n",
       "3                     9.4959                    10.7458   \n",
       "4                     5.2558                    14.0403   \n",
       "\n",
       "                Unnamed: 749               Unnamed: 750  \\\n",
       "0  tqwt_kurtosisValue_dec_32  tqwt_kurtosisValue_dec_33   \n",
       "1                     5.1221                     4.4625   \n",
       "2                    11.0261                     9.5082   \n",
       "3                    11.0177                     4.8066   \n",
       "4                     4.2235                     4.6857   \n",
       "\n",
       "                Unnamed: 751               Unnamed: 752  \\\n",
       "0  tqwt_kurtosisValue_dec_34  tqwt_kurtosisValue_dec_35   \n",
       "1                     2.6202                     3.0004   \n",
       "2                     6.5245                     6.3431   \n",
       "3                     2.9199                     3.1495   \n",
       "4                      4.846                      6.265   \n",
       "\n",
       "                Unnamed: 753 Unnamed: 754  \n",
       "0  tqwt_kurtosisValue_dec_36        class  \n",
       "1                    18.9405            1  \n",
       "2                     45.178            1  \n",
       "3                     4.7666            1  \n",
       "4                     4.0603            1  \n",
       "\n",
       "[5 rows x 755 columns]"
      ]
     },
     "execution_count": 50,
     "metadata": {},
     "output_type": "execute_result"
    }
   ],
   "source": [
    "df_arj.head() #read the first 5 line of dataset"
   ]
  },
  {
   "cell_type": "code",
   "execution_count": 51,
   "id": "ac99d8eb",
   "metadata": {},
   "outputs": [
    {
     "data": {
      "text/plain": [
       "(757, 755)"
      ]
     },
     "execution_count": 51,
     "metadata": {},
     "output_type": "execute_result"
    }
   ],
   "source": [
    "df_arj.shape  #defines the shape of given dataset as row and columns"
   ]
  },
  {
   "cell_type": "code",
   "execution_count": 52,
   "id": "a598305e",
   "metadata": {},
   "outputs": [
    {
     "data": {
      "text/plain": [
       "Index(['Unnamed: 0', 'Unnamed: 1', 'Baseline Features', 'Unnamed: 3',\n",
       "       'Unnamed: 4', 'Unnamed: 5', 'Unnamed: 6', 'Unnamed: 7', 'Unnamed: 8',\n",
       "       'Unnamed: 9',\n",
       "       ...\n",
       "       'Unnamed: 745', 'Unnamed: 746', 'Unnamed: 747', 'Unnamed: 748',\n",
       "       'Unnamed: 749', 'Unnamed: 750', 'Unnamed: 751', 'Unnamed: 752',\n",
       "       'Unnamed: 753', 'Unnamed: 754'],\n",
       "      dtype='object', length=755)"
      ]
     },
     "execution_count": 52,
     "metadata": {},
     "output_type": "execute_result"
    }
   ],
   "source": [
    "df_arj.columns"
   ]
  },
  {
   "cell_type": "markdown",
   "id": "b6c3b4d8",
   "metadata": {},
   "source": [
    "#### Data Analysis"
   ]
  },
  {
   "cell_type": "markdown",
   "id": "70c54894",
   "metadata": {},
   "source": [
    "From dataset we can see that, our dataset has unwanted columns name like Unnamed:0,Unnamed:1 so lets make the dataset clear, clean and move for the further data analysis process"
   ]
  },
  {
   "cell_type": "markdown",
   "id": "02510907",
   "metadata": {},
   "source": [
    "Lets keep the first row ie index[0] as our column name because it has labeled columns name and makes easy for doing data anaylsis"
   ]
  },
  {
   "cell_type": "code",
   "execution_count": 53,
   "id": "9896d8a4",
   "metadata": {},
   "outputs": [],
   "source": [
    "df_arj.columns = df_arj.iloc[0]  # using index based selection to select the first row of dataset"
   ]
  },
  {
   "cell_type": "code",
   "execution_count": 54,
   "id": "d83a925b",
   "metadata": {},
   "outputs": [
    {
     "data": {
      "text/html": [
       "<div>\n",
       "<style scoped>\n",
       "    .dataframe tbody tr th:only-of-type {\n",
       "        vertical-align: middle;\n",
       "    }\n",
       "\n",
       "    .dataframe tbody tr th {\n",
       "        vertical-align: top;\n",
       "    }\n",
       "\n",
       "    .dataframe thead th {\n",
       "        text-align: right;\n",
       "    }\n",
       "</style>\n",
       "<table border=\"1\" class=\"dataframe\">\n",
       "  <thead>\n",
       "    <tr style=\"text-align: right;\">\n",
       "      <th></th>\n",
       "      <th>id</th>\n",
       "      <th>gender</th>\n",
       "      <th>PPE</th>\n",
       "      <th>DFA</th>\n",
       "      <th>RPDE</th>\n",
       "      <th>numPulses</th>\n",
       "      <th>numPeriodsPulses</th>\n",
       "      <th>meanPeriodPulses</th>\n",
       "      <th>stdDevPeriodPulses</th>\n",
       "      <th>locPctJitter</th>\n",
       "      <th>...</th>\n",
       "      <th>tqwt_kurtosisValue_dec_28</th>\n",
       "      <th>tqwt_kurtosisValue_dec_29</th>\n",
       "      <th>tqwt_kurtosisValue_dec_30</th>\n",
       "      <th>tqwt_kurtosisValue_dec_31</th>\n",
       "      <th>tqwt_kurtosisValue_dec_32</th>\n",
       "      <th>tqwt_kurtosisValue_dec_33</th>\n",
       "      <th>tqwt_kurtosisValue_dec_34</th>\n",
       "      <th>tqwt_kurtosisValue_dec_35</th>\n",
       "      <th>tqwt_kurtosisValue_dec_36</th>\n",
       "      <th>class</th>\n",
       "    </tr>\n",
       "  </thead>\n",
       "  <tbody>\n",
       "    <tr>\n",
       "      <th>0</th>\n",
       "      <td>id</td>\n",
       "      <td>gender</td>\n",
       "      <td>PPE</td>\n",
       "      <td>DFA</td>\n",
       "      <td>RPDE</td>\n",
       "      <td>numPulses</td>\n",
       "      <td>numPeriodsPulses</td>\n",
       "      <td>meanPeriodPulses</td>\n",
       "      <td>stdDevPeriodPulses</td>\n",
       "      <td>locPctJitter</td>\n",
       "      <td>...</td>\n",
       "      <td>tqwt_kurtosisValue_dec_28</td>\n",
       "      <td>tqwt_kurtosisValue_dec_29</td>\n",
       "      <td>tqwt_kurtosisValue_dec_30</td>\n",
       "      <td>tqwt_kurtosisValue_dec_31</td>\n",
       "      <td>tqwt_kurtosisValue_dec_32</td>\n",
       "      <td>tqwt_kurtosisValue_dec_33</td>\n",
       "      <td>tqwt_kurtosisValue_dec_34</td>\n",
       "      <td>tqwt_kurtosisValue_dec_35</td>\n",
       "      <td>tqwt_kurtosisValue_dec_36</td>\n",
       "      <td>class</td>\n",
       "    </tr>\n",
       "    <tr>\n",
       "      <th>1</th>\n",
       "      <td>0</td>\n",
       "      <td>1</td>\n",
       "      <td>0.85247</td>\n",
       "      <td>0.71826</td>\n",
       "      <td>0.57227</td>\n",
       "      <td>240</td>\n",
       "      <td>239</td>\n",
       "      <td>0.00806353</td>\n",
       "      <td>8.68E-05</td>\n",
       "      <td>0.00218</td>\n",
       "      <td>...</td>\n",
       "      <td>1.562</td>\n",
       "      <td>2.6445</td>\n",
       "      <td>3.8686</td>\n",
       "      <td>4.2105</td>\n",
       "      <td>5.1221</td>\n",
       "      <td>4.4625</td>\n",
       "      <td>2.6202</td>\n",
       "      <td>3.0004</td>\n",
       "      <td>18.9405</td>\n",
       "      <td>1</td>\n",
       "    </tr>\n",
       "    <tr>\n",
       "      <th>2</th>\n",
       "      <td>0</td>\n",
       "      <td>1</td>\n",
       "      <td>0.76686</td>\n",
       "      <td>0.69481</td>\n",
       "      <td>0.53966</td>\n",
       "      <td>234</td>\n",
       "      <td>233</td>\n",
       "      <td>0.008258256</td>\n",
       "      <td>7.31E-05</td>\n",
       "      <td>0.00195</td>\n",
       "      <td>...</td>\n",
       "      <td>1.5589</td>\n",
       "      <td>3.6107</td>\n",
       "      <td>23.5155</td>\n",
       "      <td>14.1962</td>\n",
       "      <td>11.0261</td>\n",
       "      <td>9.5082</td>\n",
       "      <td>6.5245</td>\n",
       "      <td>6.3431</td>\n",
       "      <td>45.178</td>\n",
       "      <td>1</td>\n",
       "    </tr>\n",
       "    <tr>\n",
       "      <th>3</th>\n",
       "      <td>0</td>\n",
       "      <td>1</td>\n",
       "      <td>0.85083</td>\n",
       "      <td>0.67604</td>\n",
       "      <td>0.58982</td>\n",
       "      <td>232</td>\n",
       "      <td>231</td>\n",
       "      <td>0.00833959</td>\n",
       "      <td>6.04E-05</td>\n",
       "      <td>0.00176</td>\n",
       "      <td>...</td>\n",
       "      <td>1.5643</td>\n",
       "      <td>2.3308</td>\n",
       "      <td>9.4959</td>\n",
       "      <td>10.7458</td>\n",
       "      <td>11.0177</td>\n",
       "      <td>4.8066</td>\n",
       "      <td>2.9199</td>\n",
       "      <td>3.1495</td>\n",
       "      <td>4.7666</td>\n",
       "      <td>1</td>\n",
       "    </tr>\n",
       "    <tr>\n",
       "      <th>4</th>\n",
       "      <td>1</td>\n",
       "      <td>0</td>\n",
       "      <td>0.41121</td>\n",
       "      <td>0.79672</td>\n",
       "      <td>0.59257</td>\n",
       "      <td>178</td>\n",
       "      <td>177</td>\n",
       "      <td>0.010857733</td>\n",
       "      <td>0.000182739</td>\n",
       "      <td>0.00419</td>\n",
       "      <td>...</td>\n",
       "      <td>3.7805</td>\n",
       "      <td>3.5664</td>\n",
       "      <td>5.2558</td>\n",
       "      <td>14.0403</td>\n",
       "      <td>4.2235</td>\n",
       "      <td>4.6857</td>\n",
       "      <td>4.846</td>\n",
       "      <td>6.265</td>\n",
       "      <td>4.0603</td>\n",
       "      <td>1</td>\n",
       "    </tr>\n",
       "    <tr>\n",
       "      <th>...</th>\n",
       "      <td>...</td>\n",
       "      <td>...</td>\n",
       "      <td>...</td>\n",
       "      <td>...</td>\n",
       "      <td>...</td>\n",
       "      <td>...</td>\n",
       "      <td>...</td>\n",
       "      <td>...</td>\n",
       "      <td>...</td>\n",
       "      <td>...</td>\n",
       "      <td>...</td>\n",
       "      <td>...</td>\n",
       "      <td>...</td>\n",
       "      <td>...</td>\n",
       "      <td>...</td>\n",
       "      <td>...</td>\n",
       "      <td>...</td>\n",
       "      <td>...</td>\n",
       "      <td>...</td>\n",
       "      <td>...</td>\n",
       "      <td>...</td>\n",
       "    </tr>\n",
       "    <tr>\n",
       "      <th>752</th>\n",
       "      <td>250</td>\n",
       "      <td>0</td>\n",
       "      <td>0.80903</td>\n",
       "      <td>0.56355</td>\n",
       "      <td>0.28385</td>\n",
       "      <td>417</td>\n",
       "      <td>416</td>\n",
       "      <td>0.004626942</td>\n",
       "      <td>5.22E-05</td>\n",
       "      <td>0.00064</td>\n",
       "      <td>...</td>\n",
       "      <td>3.0706</td>\n",
       "      <td>3.019</td>\n",
       "      <td>3.1212</td>\n",
       "      <td>2.4921</td>\n",
       "      <td>3.5844</td>\n",
       "      <td>3.54</td>\n",
       "      <td>3.3805</td>\n",
       "      <td>3.2003</td>\n",
       "      <td>6.8671</td>\n",
       "      <td>0</td>\n",
       "    </tr>\n",
       "    <tr>\n",
       "      <th>753</th>\n",
       "      <td>250</td>\n",
       "      <td>0</td>\n",
       "      <td>0.16084</td>\n",
       "      <td>0.56499</td>\n",
       "      <td>0.59194</td>\n",
       "      <td>415</td>\n",
       "      <td>413</td>\n",
       "      <td>0.004549703</td>\n",
       "      <td>0.000219994</td>\n",
       "      <td>0.00143</td>\n",
       "      <td>...</td>\n",
       "      <td>1.9704</td>\n",
       "      <td>1.7451</td>\n",
       "      <td>1.8277</td>\n",
       "      <td>2.4976</td>\n",
       "      <td>5.2981</td>\n",
       "      <td>4.2616</td>\n",
       "      <td>6.3042</td>\n",
       "      <td>10.9058</td>\n",
       "      <td>28.417</td>\n",
       "      <td>0</td>\n",
       "    </tr>\n",
       "    <tr>\n",
       "      <th>754</th>\n",
       "      <td>251</td>\n",
       "      <td>0</td>\n",
       "      <td>0.88389</td>\n",
       "      <td>0.72335</td>\n",
       "      <td>0.46815</td>\n",
       "      <td>381</td>\n",
       "      <td>380</td>\n",
       "      <td>0.005069271</td>\n",
       "      <td>0.000102654</td>\n",
       "      <td>0.00076</td>\n",
       "      <td>...</td>\n",
       "      <td>51.5607</td>\n",
       "      <td>44.4641</td>\n",
       "      <td>26.1586</td>\n",
       "      <td>6.3076</td>\n",
       "      <td>2.8601</td>\n",
       "      <td>2.5361</td>\n",
       "      <td>3.5377</td>\n",
       "      <td>3.3545</td>\n",
       "      <td>5.0424</td>\n",
       "      <td>0</td>\n",
       "    </tr>\n",
       "    <tr>\n",
       "      <th>755</th>\n",
       "      <td>251</td>\n",
       "      <td>0</td>\n",
       "      <td>0.83782</td>\n",
       "      <td>0.7489</td>\n",
       "      <td>0.49823</td>\n",
       "      <td>340</td>\n",
       "      <td>339</td>\n",
       "      <td>0.005679019</td>\n",
       "      <td>5.51E-05</td>\n",
       "      <td>0.00092</td>\n",
       "      <td>...</td>\n",
       "      <td>19.1607</td>\n",
       "      <td>12.8312</td>\n",
       "      <td>8.9434</td>\n",
       "      <td>2.2044</td>\n",
       "      <td>1.9496</td>\n",
       "      <td>1.9664</td>\n",
       "      <td>2.6801</td>\n",
       "      <td>2.8332</td>\n",
       "      <td>3.7131</td>\n",
       "      <td>0</td>\n",
       "    </tr>\n",
       "    <tr>\n",
       "      <th>756</th>\n",
       "      <td>251</td>\n",
       "      <td>0</td>\n",
       "      <td>0.81304</td>\n",
       "      <td>0.76471</td>\n",
       "      <td>0.46374</td>\n",
       "      <td>340</td>\n",
       "      <td>339</td>\n",
       "      <td>0.005675776</td>\n",
       "      <td>3.71E-05</td>\n",
       "      <td>0.00078</td>\n",
       "      <td>...</td>\n",
       "      <td>62.9927</td>\n",
       "      <td>21.8152</td>\n",
       "      <td>9.2457</td>\n",
       "      <td>4.8555</td>\n",
       "      <td>3.0551</td>\n",
       "      <td>3.0415</td>\n",
       "      <td>4.0116</td>\n",
       "      <td>2.6217</td>\n",
       "      <td>3.1527</td>\n",
       "      <td>0</td>\n",
       "    </tr>\n",
       "  </tbody>\n",
       "</table>\n",
       "<p>757 rows × 755 columns</p>\n",
       "</div>"
      ],
      "text/plain": [
       "0     id  gender      PPE      DFA     RPDE  numPulses  numPeriodsPulses  \\\n",
       "0     id  gender      PPE      DFA     RPDE  numPulses  numPeriodsPulses   \n",
       "1      0       1  0.85247  0.71826  0.57227        240               239   \n",
       "2      0       1  0.76686  0.69481  0.53966        234               233   \n",
       "3      0       1  0.85083  0.67604  0.58982        232               231   \n",
       "4      1       0  0.41121  0.79672  0.59257        178               177   \n",
       "..   ...     ...      ...      ...      ...        ...               ...   \n",
       "752  250       0  0.80903  0.56355  0.28385        417               416   \n",
       "753  250       0  0.16084  0.56499  0.59194        415               413   \n",
       "754  251       0  0.88389  0.72335  0.46815        381               380   \n",
       "755  251       0  0.83782   0.7489  0.49823        340               339   \n",
       "756  251       0  0.81304  0.76471  0.46374        340               339   \n",
       "\n",
       "0    meanPeriodPulses  stdDevPeriodPulses  locPctJitter  ...  \\\n",
       "0    meanPeriodPulses  stdDevPeriodPulses  locPctJitter  ...   \n",
       "1          0.00806353            8.68E-05       0.00218  ...   \n",
       "2         0.008258256            7.31E-05       0.00195  ...   \n",
       "3          0.00833959            6.04E-05       0.00176  ...   \n",
       "4         0.010857733         0.000182739       0.00419  ...   \n",
       "..                ...                 ...           ...  ...   \n",
       "752       0.004626942            5.22E-05       0.00064  ...   \n",
       "753       0.004549703         0.000219994       0.00143  ...   \n",
       "754       0.005069271         0.000102654       0.00076  ...   \n",
       "755       0.005679019            5.51E-05       0.00092  ...   \n",
       "756       0.005675776            3.71E-05       0.00078  ...   \n",
       "\n",
       "0    tqwt_kurtosisValue_dec_28  tqwt_kurtosisValue_dec_29  \\\n",
       "0    tqwt_kurtosisValue_dec_28  tqwt_kurtosisValue_dec_29   \n",
       "1                        1.562                     2.6445   \n",
       "2                       1.5589                     3.6107   \n",
       "3                       1.5643                     2.3308   \n",
       "4                       3.7805                     3.5664   \n",
       "..                         ...                        ...   \n",
       "752                     3.0706                      3.019   \n",
       "753                     1.9704                     1.7451   \n",
       "754                    51.5607                    44.4641   \n",
       "755                    19.1607                    12.8312   \n",
       "756                    62.9927                    21.8152   \n",
       "\n",
       "0    tqwt_kurtosisValue_dec_30  tqwt_kurtosisValue_dec_31  \\\n",
       "0    tqwt_kurtosisValue_dec_30  tqwt_kurtosisValue_dec_31   \n",
       "1                       3.8686                     4.2105   \n",
       "2                      23.5155                    14.1962   \n",
       "3                       9.4959                    10.7458   \n",
       "4                       5.2558                    14.0403   \n",
       "..                         ...                        ...   \n",
       "752                     3.1212                     2.4921   \n",
       "753                     1.8277                     2.4976   \n",
       "754                    26.1586                     6.3076   \n",
       "755                     8.9434                     2.2044   \n",
       "756                     9.2457                     4.8555   \n",
       "\n",
       "0    tqwt_kurtosisValue_dec_32  tqwt_kurtosisValue_dec_33  \\\n",
       "0    tqwt_kurtosisValue_dec_32  tqwt_kurtosisValue_dec_33   \n",
       "1                       5.1221                     4.4625   \n",
       "2                      11.0261                     9.5082   \n",
       "3                      11.0177                     4.8066   \n",
       "4                       4.2235                     4.6857   \n",
       "..                         ...                        ...   \n",
       "752                     3.5844                       3.54   \n",
       "753                     5.2981                     4.2616   \n",
       "754                     2.8601                     2.5361   \n",
       "755                     1.9496                     1.9664   \n",
       "756                     3.0551                     3.0415   \n",
       "\n",
       "0    tqwt_kurtosisValue_dec_34  tqwt_kurtosisValue_dec_35  \\\n",
       "0    tqwt_kurtosisValue_dec_34  tqwt_kurtosisValue_dec_35   \n",
       "1                       2.6202                     3.0004   \n",
       "2                       6.5245                     6.3431   \n",
       "3                       2.9199                     3.1495   \n",
       "4                        4.846                      6.265   \n",
       "..                         ...                        ...   \n",
       "752                     3.3805                     3.2003   \n",
       "753                     6.3042                    10.9058   \n",
       "754                     3.5377                     3.3545   \n",
       "755                     2.6801                     2.8332   \n",
       "756                     4.0116                     2.6217   \n",
       "\n",
       "0    tqwt_kurtosisValue_dec_36  class  \n",
       "0    tqwt_kurtosisValue_dec_36  class  \n",
       "1                      18.9405      1  \n",
       "2                       45.178      1  \n",
       "3                       4.7666      1  \n",
       "4                       4.0603      1  \n",
       "..                         ...    ...  \n",
       "752                     6.8671      0  \n",
       "753                     28.417      0  \n",
       "754                     5.0424      0  \n",
       "755                     3.7131      0  \n",
       "756                     3.1527      0  \n",
       "\n",
       "[757 rows x 755 columns]"
      ]
     },
     "execution_count": 54,
     "metadata": {},
     "output_type": "execute_result"
    }
   ],
   "source": [
    "df_arj  #we can see our column name has been changed and is similar to row first index"
   ]
  },
  {
   "cell_type": "code",
   "execution_count": 55,
   "id": "9f95f5e3",
   "metadata": {},
   "outputs": [],
   "source": [
    "df_arj.drop(index=0,inplace=True)  # now we drop the first row of index and our data has now labeled columns which is easy for data processing"
   ]
  },
  {
   "cell_type": "code",
   "execution_count": 56,
   "id": "4d1e6267",
   "metadata": {},
   "outputs": [],
   "source": [
    "df_arj.drop(columns=\"id\",inplace=True)"
   ]
  },
  {
   "cell_type": "code",
   "execution_count": 57,
   "id": "ba898c3d",
   "metadata": {},
   "outputs": [
    {
     "data": {
      "text/html": [
       "<div>\n",
       "<style scoped>\n",
       "    .dataframe tbody tr th:only-of-type {\n",
       "        vertical-align: middle;\n",
       "    }\n",
       "\n",
       "    .dataframe tbody tr th {\n",
       "        vertical-align: top;\n",
       "    }\n",
       "\n",
       "    .dataframe thead th {\n",
       "        text-align: right;\n",
       "    }\n",
       "</style>\n",
       "<table border=\"1\" class=\"dataframe\">\n",
       "  <thead>\n",
       "    <tr style=\"text-align: right;\">\n",
       "      <th></th>\n",
       "      <th>gender</th>\n",
       "      <th>PPE</th>\n",
       "      <th>DFA</th>\n",
       "      <th>RPDE</th>\n",
       "      <th>numPulses</th>\n",
       "      <th>numPeriodsPulses</th>\n",
       "      <th>meanPeriodPulses</th>\n",
       "      <th>stdDevPeriodPulses</th>\n",
       "      <th>locPctJitter</th>\n",
       "      <th>locAbsJitter</th>\n",
       "      <th>...</th>\n",
       "      <th>tqwt_kurtosisValue_dec_28</th>\n",
       "      <th>tqwt_kurtosisValue_dec_29</th>\n",
       "      <th>tqwt_kurtosisValue_dec_30</th>\n",
       "      <th>tqwt_kurtosisValue_dec_31</th>\n",
       "      <th>tqwt_kurtosisValue_dec_32</th>\n",
       "      <th>tqwt_kurtosisValue_dec_33</th>\n",
       "      <th>tqwt_kurtosisValue_dec_34</th>\n",
       "      <th>tqwt_kurtosisValue_dec_35</th>\n",
       "      <th>tqwt_kurtosisValue_dec_36</th>\n",
       "      <th>class</th>\n",
       "    </tr>\n",
       "  </thead>\n",
       "  <tbody>\n",
       "    <tr>\n",
       "      <th>1</th>\n",
       "      <td>1</td>\n",
       "      <td>0.85247</td>\n",
       "      <td>0.71826</td>\n",
       "      <td>0.57227</td>\n",
       "      <td>240</td>\n",
       "      <td>239</td>\n",
       "      <td>0.00806353</td>\n",
       "      <td>8.68E-05</td>\n",
       "      <td>0.00218</td>\n",
       "      <td>1.76E-05</td>\n",
       "      <td>...</td>\n",
       "      <td>1.562</td>\n",
       "      <td>2.6445</td>\n",
       "      <td>3.8686</td>\n",
       "      <td>4.2105</td>\n",
       "      <td>5.1221</td>\n",
       "      <td>4.4625</td>\n",
       "      <td>2.6202</td>\n",
       "      <td>3.0004</td>\n",
       "      <td>18.9405</td>\n",
       "      <td>1</td>\n",
       "    </tr>\n",
       "    <tr>\n",
       "      <th>2</th>\n",
       "      <td>1</td>\n",
       "      <td>0.76686</td>\n",
       "      <td>0.69481</td>\n",
       "      <td>0.53966</td>\n",
       "      <td>234</td>\n",
       "      <td>233</td>\n",
       "      <td>0.008258256</td>\n",
       "      <td>7.31E-05</td>\n",
       "      <td>0.00195</td>\n",
       "      <td>1.61E-05</td>\n",
       "      <td>...</td>\n",
       "      <td>1.5589</td>\n",
       "      <td>3.6107</td>\n",
       "      <td>23.5155</td>\n",
       "      <td>14.1962</td>\n",
       "      <td>11.0261</td>\n",
       "      <td>9.5082</td>\n",
       "      <td>6.5245</td>\n",
       "      <td>6.3431</td>\n",
       "      <td>45.178</td>\n",
       "      <td>1</td>\n",
       "    </tr>\n",
       "    <tr>\n",
       "      <th>3</th>\n",
       "      <td>1</td>\n",
       "      <td>0.85083</td>\n",
       "      <td>0.67604</td>\n",
       "      <td>0.58982</td>\n",
       "      <td>232</td>\n",
       "      <td>231</td>\n",
       "      <td>0.00833959</td>\n",
       "      <td>6.04E-05</td>\n",
       "      <td>0.00176</td>\n",
       "      <td>1.47E-05</td>\n",
       "      <td>...</td>\n",
       "      <td>1.5643</td>\n",
       "      <td>2.3308</td>\n",
       "      <td>9.4959</td>\n",
       "      <td>10.7458</td>\n",
       "      <td>11.0177</td>\n",
       "      <td>4.8066</td>\n",
       "      <td>2.9199</td>\n",
       "      <td>3.1495</td>\n",
       "      <td>4.7666</td>\n",
       "      <td>1</td>\n",
       "    </tr>\n",
       "    <tr>\n",
       "      <th>4</th>\n",
       "      <td>0</td>\n",
       "      <td>0.41121</td>\n",
       "      <td>0.79672</td>\n",
       "      <td>0.59257</td>\n",
       "      <td>178</td>\n",
       "      <td>177</td>\n",
       "      <td>0.010857733</td>\n",
       "      <td>0.000182739</td>\n",
       "      <td>0.00419</td>\n",
       "      <td>4.55E-05</td>\n",
       "      <td>...</td>\n",
       "      <td>3.7805</td>\n",
       "      <td>3.5664</td>\n",
       "      <td>5.2558</td>\n",
       "      <td>14.0403</td>\n",
       "      <td>4.2235</td>\n",
       "      <td>4.6857</td>\n",
       "      <td>4.846</td>\n",
       "      <td>6.265</td>\n",
       "      <td>4.0603</td>\n",
       "      <td>1</td>\n",
       "    </tr>\n",
       "    <tr>\n",
       "      <th>5</th>\n",
       "      <td>0</td>\n",
       "      <td>0.3279</td>\n",
       "      <td>0.79782</td>\n",
       "      <td>0.53028</td>\n",
       "      <td>236</td>\n",
       "      <td>235</td>\n",
       "      <td>0.008161574</td>\n",
       "      <td>0.002668863</td>\n",
       "      <td>0.00535</td>\n",
       "      <td>4.37E-05</td>\n",
       "      <td>...</td>\n",
       "      <td>6.1727</td>\n",
       "      <td>5.8416</td>\n",
       "      <td>6.0805</td>\n",
       "      <td>5.7621</td>\n",
       "      <td>7.7817</td>\n",
       "      <td>11.6891</td>\n",
       "      <td>8.2103</td>\n",
       "      <td>5.0559</td>\n",
       "      <td>6.1164</td>\n",
       "      <td>1</td>\n",
       "    </tr>\n",
       "  </tbody>\n",
       "</table>\n",
       "<p>5 rows × 754 columns</p>\n",
       "</div>"
      ],
      "text/plain": [
       "0 gender      PPE      DFA     RPDE numPulses numPeriodsPulses  \\\n",
       "1      1  0.85247  0.71826  0.57227       240              239   \n",
       "2      1  0.76686  0.69481  0.53966       234              233   \n",
       "3      1  0.85083  0.67604  0.58982       232              231   \n",
       "4      0  0.41121  0.79672  0.59257       178              177   \n",
       "5      0   0.3279  0.79782  0.53028       236              235   \n",
       "\n",
       "0 meanPeriodPulses stdDevPeriodPulses locPctJitter locAbsJitter  ...  \\\n",
       "1       0.00806353           8.68E-05      0.00218     1.76E-05  ...   \n",
       "2      0.008258256           7.31E-05      0.00195     1.61E-05  ...   \n",
       "3       0.00833959           6.04E-05      0.00176     1.47E-05  ...   \n",
       "4      0.010857733        0.000182739      0.00419     4.55E-05  ...   \n",
       "5      0.008161574        0.002668863      0.00535     4.37E-05  ...   \n",
       "\n",
       "0 tqwt_kurtosisValue_dec_28 tqwt_kurtosisValue_dec_29  \\\n",
       "1                     1.562                    2.6445   \n",
       "2                    1.5589                    3.6107   \n",
       "3                    1.5643                    2.3308   \n",
       "4                    3.7805                    3.5664   \n",
       "5                    6.1727                    5.8416   \n",
       "\n",
       "0 tqwt_kurtosisValue_dec_30 tqwt_kurtosisValue_dec_31  \\\n",
       "1                    3.8686                    4.2105   \n",
       "2                   23.5155                   14.1962   \n",
       "3                    9.4959                   10.7458   \n",
       "4                    5.2558                   14.0403   \n",
       "5                    6.0805                    5.7621   \n",
       "\n",
       "0 tqwt_kurtosisValue_dec_32 tqwt_kurtosisValue_dec_33  \\\n",
       "1                    5.1221                    4.4625   \n",
       "2                   11.0261                    9.5082   \n",
       "3                   11.0177                    4.8066   \n",
       "4                    4.2235                    4.6857   \n",
       "5                    7.7817                   11.6891   \n",
       "\n",
       "0 tqwt_kurtosisValue_dec_34 tqwt_kurtosisValue_dec_35  \\\n",
       "1                    2.6202                    3.0004   \n",
       "2                    6.5245                    6.3431   \n",
       "3                    2.9199                    3.1495   \n",
       "4                     4.846                     6.265   \n",
       "5                    8.2103                    5.0559   \n",
       "\n",
       "0 tqwt_kurtosisValue_dec_36 class  \n",
       "1                   18.9405     1  \n",
       "2                    45.178     1  \n",
       "3                    4.7666     1  \n",
       "4                    4.0603     1  \n",
       "5                    6.1164     1  \n",
       "\n",
       "[5 rows x 754 columns]"
      ]
     },
     "execution_count": 57,
     "metadata": {},
     "output_type": "execute_result"
    }
   ],
   "source": [
    "df_arj.head()"
   ]
  },
  {
   "cell_type": "code",
   "execution_count": 58,
   "id": "350681b5",
   "metadata": {},
   "outputs": [
    {
     "data": {
      "text/html": [
       "<div>\n",
       "<style scoped>\n",
       "    .dataframe tbody tr th:only-of-type {\n",
       "        vertical-align: middle;\n",
       "    }\n",
       "\n",
       "    .dataframe tbody tr th {\n",
       "        vertical-align: top;\n",
       "    }\n",
       "\n",
       "    .dataframe thead th {\n",
       "        text-align: right;\n",
       "    }\n",
       "</style>\n",
       "<table border=\"1\" class=\"dataframe\">\n",
       "  <thead>\n",
       "    <tr style=\"text-align: right;\">\n",
       "      <th></th>\n",
       "      <th>gender</th>\n",
       "      <th>PPE</th>\n",
       "      <th>DFA</th>\n",
       "      <th>RPDE</th>\n",
       "      <th>numPulses</th>\n",
       "      <th>numPeriodsPulses</th>\n",
       "      <th>meanPeriodPulses</th>\n",
       "      <th>stdDevPeriodPulses</th>\n",
       "      <th>locPctJitter</th>\n",
       "      <th>locAbsJitter</th>\n",
       "      <th>...</th>\n",
       "      <th>tqwt_kurtosisValue_dec_28</th>\n",
       "      <th>tqwt_kurtosisValue_dec_29</th>\n",
       "      <th>tqwt_kurtosisValue_dec_30</th>\n",
       "      <th>tqwt_kurtosisValue_dec_31</th>\n",
       "      <th>tqwt_kurtosisValue_dec_32</th>\n",
       "      <th>tqwt_kurtosisValue_dec_33</th>\n",
       "      <th>tqwt_kurtosisValue_dec_34</th>\n",
       "      <th>tqwt_kurtosisValue_dec_35</th>\n",
       "      <th>tqwt_kurtosisValue_dec_36</th>\n",
       "      <th>class</th>\n",
       "    </tr>\n",
       "  </thead>\n",
       "  <tbody>\n",
       "    <tr>\n",
       "      <th>count</th>\n",
       "      <td>756</td>\n",
       "      <td>756</td>\n",
       "      <td>756</td>\n",
       "      <td>756</td>\n",
       "      <td>756</td>\n",
       "      <td>756</td>\n",
       "      <td>756</td>\n",
       "      <td>756</td>\n",
       "      <td>756</td>\n",
       "      <td>756</td>\n",
       "      <td>...</td>\n",
       "      <td>756</td>\n",
       "      <td>756</td>\n",
       "      <td>756</td>\n",
       "      <td>756</td>\n",
       "      <td>756</td>\n",
       "      <td>756</td>\n",
       "      <td>756</td>\n",
       "      <td>756</td>\n",
       "      <td>756</td>\n",
       "      <td>756</td>\n",
       "    </tr>\n",
       "    <tr>\n",
       "      <th>unique</th>\n",
       "      <td>2</td>\n",
       "      <td>740</td>\n",
       "      <td>745</td>\n",
       "      <td>748</td>\n",
       "      <td>315</td>\n",
       "      <td>319</td>\n",
       "      <td>755</td>\n",
       "      <td>646</td>\n",
       "      <td>358</td>\n",
       "      <td>543</td>\n",
       "      <td>...</td>\n",
       "      <td>749</td>\n",
       "      <td>755</td>\n",
       "      <td>752</td>\n",
       "      <td>753</td>\n",
       "      <td>749</td>\n",
       "      <td>752</td>\n",
       "      <td>753</td>\n",
       "      <td>753</td>\n",
       "      <td>754</td>\n",
       "      <td>2</td>\n",
       "    </tr>\n",
       "    <tr>\n",
       "      <th>top</th>\n",
       "      <td>1</td>\n",
       "      <td>0.82273</td>\n",
       "      <td>0.72248</td>\n",
       "      <td>0.62128</td>\n",
       "      <td>237</td>\n",
       "      <td>236</td>\n",
       "      <td>0.006004477</td>\n",
       "      <td>7.17E-05</td>\n",
       "      <td>0.00076</td>\n",
       "      <td>1.39E-05</td>\n",
       "      <td>...</td>\n",
       "      <td>1.7726</td>\n",
       "      <td>4.0251</td>\n",
       "      <td>2.8454</td>\n",
       "      <td>4.2105</td>\n",
       "      <td>2.6829</td>\n",
       "      <td>3.1144</td>\n",
       "      <td>12.595</td>\n",
       "      <td>4.2391</td>\n",
       "      <td>3.2941</td>\n",
       "      <td>1</td>\n",
       "    </tr>\n",
       "    <tr>\n",
       "      <th>freq</th>\n",
       "      <td>390</td>\n",
       "      <td>3</td>\n",
       "      <td>2</td>\n",
       "      <td>2</td>\n",
       "      <td>9</td>\n",
       "      <td>8</td>\n",
       "      <td>2</td>\n",
       "      <td>3</td>\n",
       "      <td>9</td>\n",
       "      <td>10</td>\n",
       "      <td>...</td>\n",
       "      <td>2</td>\n",
       "      <td>2</td>\n",
       "      <td>2</td>\n",
       "      <td>2</td>\n",
       "      <td>2</td>\n",
       "      <td>2</td>\n",
       "      <td>2</td>\n",
       "      <td>2</td>\n",
       "      <td>2</td>\n",
       "      <td>564</td>\n",
       "    </tr>\n",
       "  </tbody>\n",
       "</table>\n",
       "<p>4 rows × 754 columns</p>\n",
       "</div>"
      ],
      "text/plain": [
       "0      gender      PPE      DFA     RPDE numPulses numPeriodsPulses  \\\n",
       "count     756      756      756      756       756              756   \n",
       "unique      2      740      745      748       315              319   \n",
       "top         1  0.82273  0.72248  0.62128       237              236   \n",
       "freq      390        3        2        2         9                8   \n",
       "\n",
       "0      meanPeriodPulses stdDevPeriodPulses locPctJitter locAbsJitter  ...  \\\n",
       "count               756                756          756          756  ...   \n",
       "unique              755                646          358          543  ...   \n",
       "top         0.006004477           7.17E-05      0.00076     1.39E-05  ...   \n",
       "freq                  2                  3            9           10  ...   \n",
       "\n",
       "0      tqwt_kurtosisValue_dec_28 tqwt_kurtosisValue_dec_29  \\\n",
       "count                        756                       756   \n",
       "unique                       749                       755   \n",
       "top                       1.7726                    4.0251   \n",
       "freq                           2                         2   \n",
       "\n",
       "0      tqwt_kurtosisValue_dec_30 tqwt_kurtosisValue_dec_31  \\\n",
       "count                        756                       756   \n",
       "unique                       752                       753   \n",
       "top                       2.8454                    4.2105   \n",
       "freq                           2                         2   \n",
       "\n",
       "0      tqwt_kurtosisValue_dec_32 tqwt_kurtosisValue_dec_33  \\\n",
       "count                        756                       756   \n",
       "unique                       749                       752   \n",
       "top                       2.6829                    3.1144   \n",
       "freq                           2                         2   \n",
       "\n",
       "0      tqwt_kurtosisValue_dec_34 tqwt_kurtosisValue_dec_35  \\\n",
       "count                        756                       756   \n",
       "unique                       753                       753   \n",
       "top                       12.595                    4.2391   \n",
       "freq                           2                         2   \n",
       "\n",
       "0      tqwt_kurtosisValue_dec_36 class  \n",
       "count                        756   756  \n",
       "unique                       754     2  \n",
       "top                       3.2941     1  \n",
       "freq                           2   564  \n",
       "\n",
       "[4 rows x 754 columns]"
      ]
     },
     "execution_count": 58,
     "metadata": {},
     "output_type": "execute_result"
    }
   ],
   "source": [
    "df_arj.describe() #gives the descriptive analysis of the dataset"
   ]
  },
  {
   "cell_type": "code",
   "execution_count": 59,
   "id": "8e6a1668",
   "metadata": {},
   "outputs": [
    {
     "data": {
      "text/plain": [
       "Index(['gender', 'PPE', 'DFA', 'RPDE', 'numPulses', 'numPeriodsPulses',\n",
       "       'meanPeriodPulses', 'stdDevPeriodPulses', 'locPctJitter',\n",
       "       'locAbsJitter',\n",
       "       ...\n",
       "       'tqwt_kurtosisValue_dec_28', 'tqwt_kurtosisValue_dec_29',\n",
       "       'tqwt_kurtosisValue_dec_30', 'tqwt_kurtosisValue_dec_31',\n",
       "       'tqwt_kurtosisValue_dec_32', 'tqwt_kurtosisValue_dec_33',\n",
       "       'tqwt_kurtosisValue_dec_34', 'tqwt_kurtosisValue_dec_35',\n",
       "       'tqwt_kurtosisValue_dec_36', 'class'],\n",
       "      dtype='object', name=0, length=754)"
      ]
     },
     "execution_count": 59,
     "metadata": {},
     "output_type": "execute_result"
    }
   ],
   "source": [
    "df_arj.columns  #now our columns name has been changed "
   ]
  },
  {
   "cell_type": "markdown",
   "id": "9ba98546",
   "metadata": {},
   "source": [
    "Since there are 755 columns in the dataset and we might not need all columns for analysis so we can drop the unncessary columns, do some data manipulation using pandas"
   ]
  },
  {
   "cell_type": "code",
   "execution_count": 60,
   "id": "09dccce7",
   "metadata": {},
   "outputs": [
    {
     "data": {
      "text/plain": [
       "Index(['gender', 'PPE', 'DFA', 'RPDE', 'numPulses', 'numPeriodsPulses'], dtype='object', name=0)"
      ]
     },
     "execution_count": 60,
     "metadata": {},
     "output_type": "execute_result"
    }
   ],
   "source": [
    "nw_columns = df_arj.columns[:6]  # I found these columns as important as compared to other so going to keep this data for new dataframe\n",
    "nw_columns           # later it can be used as independent variable"
   ]
  },
  {
   "cell_type": "code",
   "execution_count": 61,
   "id": "e83ea66b",
   "metadata": {},
   "outputs": [
    {
     "data": {
      "text/plain": [
       "1      1\n",
       "2      1\n",
       "3      1\n",
       "4      1\n",
       "5      1\n",
       "      ..\n",
       "752    0\n",
       "753    0\n",
       "754    0\n",
       "755    0\n",
       "756    0\n",
       "Name: class, Length: 756, dtype: object"
      ]
     },
     "execution_count": 61,
     "metadata": {},
     "output_type": "execute_result"
    }
   ],
   "source": [
    "nw_columns1 = df_arj[\"class\"]  #adding these too in new dataframe and used as dependednt variable \n",
    "nw_columns1"
   ]
  },
  {
   "cell_type": "markdown",
   "id": "7ff7c0f3",
   "metadata": {},
   "source": [
    "Making new dataframe by concatenating new selected columns"
   ]
  },
  {
   "cell_type": "code",
   "execution_count": 62,
   "id": "e043787e",
   "metadata": {},
   "outputs": [
    {
     "data": {
      "text/html": [
       "<div>\n",
       "<style scoped>\n",
       "    .dataframe tbody tr th:only-of-type {\n",
       "        vertical-align: middle;\n",
       "    }\n",
       "\n",
       "    .dataframe tbody tr th {\n",
       "        vertical-align: top;\n",
       "    }\n",
       "\n",
       "    .dataframe thead th {\n",
       "        text-align: right;\n",
       "    }\n",
       "</style>\n",
       "<table border=\"1\" class=\"dataframe\">\n",
       "  <thead>\n",
       "    <tr style=\"text-align: right;\">\n",
       "      <th></th>\n",
       "      <th>gender</th>\n",
       "      <th>PPE</th>\n",
       "      <th>DFA</th>\n",
       "      <th>RPDE</th>\n",
       "      <th>numPulses</th>\n",
       "      <th>numPeriodsPulses</th>\n",
       "      <th>class</th>\n",
       "    </tr>\n",
       "  </thead>\n",
       "  <tbody>\n",
       "    <tr>\n",
       "      <th>1</th>\n",
       "      <td>1</td>\n",
       "      <td>0.85247</td>\n",
       "      <td>0.71826</td>\n",
       "      <td>0.57227</td>\n",
       "      <td>240</td>\n",
       "      <td>239</td>\n",
       "      <td>1</td>\n",
       "    </tr>\n",
       "    <tr>\n",
       "      <th>2</th>\n",
       "      <td>1</td>\n",
       "      <td>0.76686</td>\n",
       "      <td>0.69481</td>\n",
       "      <td>0.53966</td>\n",
       "      <td>234</td>\n",
       "      <td>233</td>\n",
       "      <td>1</td>\n",
       "    </tr>\n",
       "    <tr>\n",
       "      <th>3</th>\n",
       "      <td>1</td>\n",
       "      <td>0.85083</td>\n",
       "      <td>0.67604</td>\n",
       "      <td>0.58982</td>\n",
       "      <td>232</td>\n",
       "      <td>231</td>\n",
       "      <td>1</td>\n",
       "    </tr>\n",
       "    <tr>\n",
       "      <th>4</th>\n",
       "      <td>0</td>\n",
       "      <td>0.41121</td>\n",
       "      <td>0.79672</td>\n",
       "      <td>0.59257</td>\n",
       "      <td>178</td>\n",
       "      <td>177</td>\n",
       "      <td>1</td>\n",
       "    </tr>\n",
       "    <tr>\n",
       "      <th>5</th>\n",
       "      <td>0</td>\n",
       "      <td>0.3279</td>\n",
       "      <td>0.79782</td>\n",
       "      <td>0.53028</td>\n",
       "      <td>236</td>\n",
       "      <td>235</td>\n",
       "      <td>1</td>\n",
       "    </tr>\n",
       "    <tr>\n",
       "      <th>...</th>\n",
       "      <td>...</td>\n",
       "      <td>...</td>\n",
       "      <td>...</td>\n",
       "      <td>...</td>\n",
       "      <td>...</td>\n",
       "      <td>...</td>\n",
       "      <td>...</td>\n",
       "    </tr>\n",
       "    <tr>\n",
       "      <th>752</th>\n",
       "      <td>0</td>\n",
       "      <td>0.80903</td>\n",
       "      <td>0.56355</td>\n",
       "      <td>0.28385</td>\n",
       "      <td>417</td>\n",
       "      <td>416</td>\n",
       "      <td>0</td>\n",
       "    </tr>\n",
       "    <tr>\n",
       "      <th>753</th>\n",
       "      <td>0</td>\n",
       "      <td>0.16084</td>\n",
       "      <td>0.56499</td>\n",
       "      <td>0.59194</td>\n",
       "      <td>415</td>\n",
       "      <td>413</td>\n",
       "      <td>0</td>\n",
       "    </tr>\n",
       "    <tr>\n",
       "      <th>754</th>\n",
       "      <td>0</td>\n",
       "      <td>0.88389</td>\n",
       "      <td>0.72335</td>\n",
       "      <td>0.46815</td>\n",
       "      <td>381</td>\n",
       "      <td>380</td>\n",
       "      <td>0</td>\n",
       "    </tr>\n",
       "    <tr>\n",
       "      <th>755</th>\n",
       "      <td>0</td>\n",
       "      <td>0.83782</td>\n",
       "      <td>0.7489</td>\n",
       "      <td>0.49823</td>\n",
       "      <td>340</td>\n",
       "      <td>339</td>\n",
       "      <td>0</td>\n",
       "    </tr>\n",
       "    <tr>\n",
       "      <th>756</th>\n",
       "      <td>0</td>\n",
       "      <td>0.81304</td>\n",
       "      <td>0.76471</td>\n",
       "      <td>0.46374</td>\n",
       "      <td>340</td>\n",
       "      <td>339</td>\n",
       "      <td>0</td>\n",
       "    </tr>\n",
       "  </tbody>\n",
       "</table>\n",
       "<p>756 rows × 7 columns</p>\n",
       "</div>"
      ],
      "text/plain": [
       "    gender      PPE      DFA     RPDE numPulses numPeriodsPulses class\n",
       "1        1  0.85247  0.71826  0.57227       240              239     1\n",
       "2        1  0.76686  0.69481  0.53966       234              233     1\n",
       "3        1  0.85083  0.67604  0.58982       232              231     1\n",
       "4        0  0.41121  0.79672  0.59257       178              177     1\n",
       "5        0   0.3279  0.79782  0.53028       236              235     1\n",
       "..     ...      ...      ...      ...       ...              ...   ...\n",
       "752      0  0.80903  0.56355  0.28385       417              416     0\n",
       "753      0  0.16084  0.56499  0.59194       415              413     0\n",
       "754      0  0.88389  0.72335  0.46815       381              380     0\n",
       "755      0  0.83782   0.7489  0.49823       340              339     0\n",
       "756      0  0.81304  0.76471  0.46374       340              339     0\n",
       "\n",
       "[756 rows x 7 columns]"
      ]
     },
     "execution_count": 62,
     "metadata": {},
     "output_type": "execute_result"
    }
   ],
   "source": [
    "arj_new_df = pd.concat([df_arj[nw_columns],nw_columns1],axis=1)\n",
    "arj_new_df   #we can see our new dataframe has been created"
   ]
  },
  {
   "cell_type": "code",
   "execution_count": 63,
   "id": "1cff4a1d",
   "metadata": {},
   "outputs": [
    {
     "data": {
      "text/plain": [
       "(756, 7)"
      ]
     },
     "execution_count": 63,
     "metadata": {},
     "output_type": "execute_result"
    }
   ],
   "source": [
    "arj_new_df.shape  #gives the total shape of the dataset as a row and columns after man"
   ]
  },
  {
   "cell_type": "code",
   "execution_count": 64,
   "id": "f3fd4056",
   "metadata": {},
   "outputs": [
    {
     "data": {
      "text/plain": [
       "gender              0\n",
       "PPE                 0\n",
       "DFA                 0\n",
       "RPDE                0\n",
       "numPulses           0\n",
       "numPeriodsPulses    0\n",
       "class               0\n",
       "dtype: int64"
      ]
     },
     "execution_count": 64,
     "metadata": {},
     "output_type": "execute_result"
    }
   ],
   "source": [
    "arj_new_df.isnull().sum()  #we can see there is no missing value"
   ]
  },
  {
   "cell_type": "code",
   "execution_count": 65,
   "id": "eb82e432",
   "metadata": {},
   "outputs": [
    {
     "name": "stdout",
     "output_type": "stream",
     "text": [
      "<class 'pandas.core.frame.DataFrame'>\n",
      "Int64Index: 756 entries, 1 to 756\n",
      "Data columns (total 7 columns):\n",
      " #   Column            Non-Null Count  Dtype \n",
      "---  ------            --------------  ----- \n",
      " 0   gender            756 non-null    object\n",
      " 1   PPE               756 non-null    object\n",
      " 2   DFA               756 non-null    object\n",
      " 3   RPDE              756 non-null    object\n",
      " 4   numPulses         756 non-null    object\n",
      " 5   numPeriodsPulses  756 non-null    object\n",
      " 6   class             756 non-null    object\n",
      "dtypes: object(7)\n",
      "memory usage: 47.2+ KB\n"
     ]
    }
   ],
   "source": [
    "arj_new_df.info()  #we can see there is no missing value as row and column has the same shape(756,755)"
   ]
  },
  {
   "cell_type": "code",
   "execution_count": 66,
   "id": "a9ae87c8",
   "metadata": {},
   "outputs": [
    {
     "name": "stdout",
     "output_type": "stream",
     "text": [
      "<class 'pandas.core.frame.DataFrame'>\n",
      "Int64Index: 756 entries, 1 to 756\n",
      "Data columns (total 7 columns):\n",
      " #   Column            Non-Null Count  Dtype  \n",
      "---  ------            --------------  -----  \n",
      " 0   gender            756 non-null    int64  \n",
      " 1   PPE               756 non-null    float64\n",
      " 2   DFA               756 non-null    float64\n",
      " 3   RPDE              756 non-null    float64\n",
      " 4   numPulses         756 non-null    int64  \n",
      " 5   numPeriodsPulses  756 non-null    int64  \n",
      " 6   class             756 non-null    int64  \n",
      "dtypes: float64(3), int64(4)\n",
      "memory usage: 47.2 KB\n"
     ]
    }
   ],
   "source": [
    "arj_new_df=arj_new_df.apply(pd.to_numeric,errors=\"coerce\") #converting all our data to inter and float as data was in object as string\n",
    "arj_new_df.info()"
   ]
  },
  {
   "cell_type": "markdown",
   "id": "2cacdbcb",
   "metadata": {},
   "source": [
    "From dataset, we got the information that feautre \"class\" has two element which is 0 and 1 where 0 is considered as no Parkinson disease , on the other hand 1 is considered as Parkinson disease "
   ]
  },
  {
   "cell_type": "code",
   "execution_count": 67,
   "id": "ab1e1b4f",
   "metadata": {},
   "outputs": [
    {
     "data": {
      "text/plain": [
       "756"
      ]
     },
     "execution_count": 67,
     "metadata": {},
     "output_type": "execute_result"
    }
   ],
   "source": [
    "len(arj_new_df[\"class\"]) #total class instances are 756"
   ]
  },
  {
   "cell_type": "code",
   "execution_count": 68,
   "id": "380d7972",
   "metadata": {},
   "outputs": [
    {
     "data": {
      "text/plain": [
       "array([1, 0], dtype=int64)"
      ]
     },
     "execution_count": 68,
     "metadata": {},
     "output_type": "execute_result"
    }
   ],
   "source": [
    "arj_new_df[\"class\"].unique() #we can see there are two unique element of array ie 0 and 1"
   ]
  },
  {
   "cell_type": "code",
   "execution_count": 69,
   "id": "861b7278",
   "metadata": {},
   "outputs": [
    {
     "data": {
      "text/plain": [
       "2"
      ]
     },
     "execution_count": 69,
     "metadata": {},
     "output_type": "execute_result"
    }
   ],
   "source": [
    "arj_new_df[\"class\"].nunique()  #there are total 2 unique array element"
   ]
  },
  {
   "cell_type": "markdown",
   "id": "71f6280b",
   "metadata": {},
   "source": [
    "From the class columns, lets see how many of them has no Parkinson disease and has Parkinson disease"
   ]
  },
  {
   "cell_type": "code",
   "execution_count": 70,
   "id": "eac103ea",
   "metadata": {},
   "outputs": [
    {
     "data": {
      "text/plain": [
       "1    564\n",
       "0    192\n",
       "Name: class, dtype: int64"
      ]
     },
     "execution_count": 70,
     "metadata": {},
     "output_type": "execute_result"
    }
   ],
   "source": [
    "arj_new_df[\"class\"].value_counts() #we can see that 284315 are normal transaction where as 492 are fraudulet transaction"
   ]
  },
  {
   "cell_type": "code",
   "execution_count": 71,
   "id": "68895b74",
   "metadata": {},
   "outputs": [
    {
     "data": {
      "image/png": "[encoded data removed]",
      "text/plain": [
       "<Figure size 576x432 with 1 Axes>"
      ]
     },
     "metadata": {},
     "output_type": "display_data"
    },
    {
     "name": "stdout",
     "output_type": "stream",
     "text": [
      "People with no_Parkinson_disease: 192\n",
      "People with Parkinson_disease: 564\n",
      "Portion of the Parkinson_disease is: 293.75\n"
     ]
    }
   ],
   "source": [
    "plt.figure(figsize=(8,6))\n",
    "arj_new_df[\"class\"].value_counts().plot(kind = \"pie\")\n",
    "plt.show()\n",
    "no_Parkinson_disease = 192\n",
    "Parkinson_disease = 564\n",
    "print(\"People with no_Parkinson_disease:\",no_Parkinson_disease)\n",
    "print(\"People with Parkinson_disease:\",Parkinson_disease)\n",
    "print(\"Portion of the Parkinson_disease is:\", round(Parkinson_disease/no_Parkinson_disease *100,3))"
   ]
  },
  {
   "cell_type": "markdown",
   "id": "a8dc086d",
   "metadata": {},
   "source": [
    "Lets see the count plot of Target variable ie class which has no_Parkinson_disease and Parkinson_disease"
   ]
  },
  {
   "cell_type": "code",
   "execution_count": 72,
   "id": "9d8251dc",
   "metadata": {},
   "outputs": [
    {
     "name": "stderr",
     "output_type": "stream",
     "text": [
      "C:\\Users\\Dell\\anaconda3\\lib\\site-packages\\seaborn\\_decorators.py:36: FutureWarning: Pass the following variable as a keyword arg: x. From version 0.12, the only valid positional argument will be `data`, and passing other arguments without an explicit keyword will result in an error or misinterpretation.\n",
      "  warnings.warn(\n"
     ]
    },
    {
     "data": {
      "image/png": "[encoded data removed]",
      "text/plain": [
       "<Figure size 576x432 with 1 Axes>"
      ]
     },
     "metadata": {},
     "output_type": "display_data"
    },
    {
     "name": "stdout",
     "output_type": "stream",
     "text": [
      "From this count plot we can see that more people have Parkinson disease\n"
     ]
    }
   ],
   "source": [
    "plt.figure(figsize=(8,6))\n",
    "sns.countplot(arj_new_df[\"class\"])\n",
    "plt.title(\"Count plot of target variable ie Class\")\n",
    "plt.tight_layout()\n",
    "plt.show()\n",
    "print(\"From this count plot we can see that more people have Parkinson disease\")"
   ]
  },
  {
   "cell_type": "code",
   "execution_count": 73,
   "id": "cf73de53",
   "metadata": {},
   "outputs": [
    {
     "name": "stderr",
     "output_type": "stream",
     "text": [
      "C:\\Users\\Dell\\anaconda3\\lib\\site-packages\\seaborn\\distributions.py:2619: FutureWarning: `distplot` is a deprecated function and will be removed in a future version. Please adapt your code to use either `displot` (a figure-level function with similar flexibility) or `histplot` (an axes-level function for histograms).\n",
      "  warnings.warn(msg, FutureWarning)\n"
     ]
    },
    {
     "data": {
      "image/png": "[encoded data removed]",
      "text/plain": [
       "<Figure size 576x432 with 1 Axes>"
      ]
     },
     "metadata": {},
     "output_type": "display_data"
    },
    {
     "name": "stdout",
     "output_type": "stream",
     "text": [
      "We can see that the distribution is Bimodal for class columns as it has two peak with two values \n"
     ]
    }
   ],
   "source": [
    "plt.figure(figsize=(8,6))\n",
    "sns.distplot(arj_new_df[\"class\"])\n",
    "plt.title(\"Distribution of Class columns\")\n",
    "plt.show()\n",
    "print(\"We can see that the distribution is Bimodal for class columns as it has two peak with two values \")\n"
   ]
  },
  {
   "cell_type": "markdown",
   "id": "5fdc3ce0",
   "metadata": {},
   "source": [
    "Lets see the correlation of features using Heatmap"
   ]
  },
  {
   "cell_type": "code",
   "execution_count": 74,
   "id": "4a3084df",
   "metadata": {
    "scrolled": true
   },
   "outputs": [],
   "source": [
    "#arj_col =['gender', 'PPE', 'DFA', 'RPDE', 'numPulses', 'numPeriodsPulses','class']\n",
    "#arj_new_df[arjun_to]=arj_new_df[arjun_to].apply(pd.to_numeric)\n"
   ]
  },
  {
   "cell_type": "code",
   "execution_count": 75,
   "id": "cabd9593",
   "metadata": {},
   "outputs": [
    {
     "data": {
      "image/png": "[encoded data removed]",
      "text/plain": [
       "<Figure size 720x576 with 2 Axes>"
      ]
     },
     "metadata": {},
     "output_type": "display_data"
    }
   ],
   "source": [
    "plt.figure(figsize=(10,8))\n",
    "sns.heatmap(arj_new_df.corr(),cmap=\"coolwarm\",annot=True,fmt=\".2f\")\n",
    "plt.title(\"Heatmap Correlation\")\n",
    "plt.show()"
   ]
  },
  {
   "cell_type": "markdown",
   "id": "0958e5f3",
   "metadata": {},
   "source": [
    "#### Data Preprocessing"
   ]
  },
  {
   "cell_type": "code",
   "execution_count": 76,
   "id": "7c353c6a",
   "metadata": {},
   "outputs": [],
   "source": [
    "X= arj_new_df.drop(columns=[\"class\"])  #defining the features or independent variable\n"
   ]
  },
  {
   "cell_type": "code",
   "execution_count": 77,
   "id": "a0e1e3a5",
   "metadata": {},
   "outputs": [],
   "source": [
    "y =arj_new_df[\"class\"]  #defining the target variable or dependent variable"
   ]
  },
  {
   "cell_type": "markdown",
   "id": "cafd970f",
   "metadata": {},
   "source": [
    "#### Data Standardization"
   ]
  },
  {
   "cell_type": "code",
   "execution_count": 78,
   "id": "6b04b2ee",
   "metadata": {},
   "outputs": [],
   "source": [
    "scal = StandardScaler()\n",
    "X_scal = scal.fit_transform(X)"
   ]
  },
  {
   "cell_type": "markdown",
   "id": "01f48f54",
   "metadata": {},
   "source": [
    "#### Spliting the data for Train and Test "
   ]
  },
  {
   "cell_type": "code",
   "execution_count": 79,
   "id": "46b5616f",
   "metadata": {},
   "outputs": [],
   "source": [
    "X_train, X_test, y_train, y_test = train_test_split(X, y, test_size=0.20, random_state=42)"
   ]
  },
  {
   "cell_type": "markdown",
   "id": "4fa27267",
   "metadata": {},
   "source": [
    "#### Building the model"
   ]
  },
  {
   "cell_type": "markdown",
   "id": "967bf7bb",
   "metadata": {},
   "source": [
    "Thus we are doing prediction wheather the patient has no Parkinson disease or Parkinson disease so i perfer to use logistice regression."
   ]
  },
  {
   "cell_type": "code",
   "execution_count": 80,
   "id": "419a6194",
   "metadata": {},
   "outputs": [],
   "source": [
    "log = LogisticRegression(max_iter=1000)"
   ]
  },
  {
   "cell_type": "code",
   "execution_count": 81,
   "id": "a80bf93c",
   "metadata": {},
   "outputs": [],
   "source": [
    "log =log.fit(X_train,y_train)"
   ]
  },
  {
   "cell_type": "markdown",
   "id": "7ec78862",
   "metadata": {},
   "source": [
    "#### Finally Evaluating the model performance"
   ]
  },
  {
   "cell_type": "code",
   "execution_count": 82,
   "id": "5fcb6a8b",
   "metadata": {},
   "outputs": [],
   "source": [
    "y_pred_test = log.predict(X_test)  #prediction on test data"
   ]
  },
  {
   "cell_type": "code",
   "execution_count": 83,
   "id": "3aca43af",
   "metadata": {},
   "outputs": [],
   "source": [
    "y_pred_train = log.predict(X_train)  #prediction on train data"
   ]
  },
  {
   "cell_type": "markdown",
   "id": "d14c10c2",
   "metadata": {},
   "source": [
    "#### Finding the accuracy"
   ]
  },
  {
   "cell_type": "markdown",
   "id": "070cc2f3",
   "metadata": {},
   "source": [
    "Finding the accuracy on Test data"
   ]
  },
  {
   "cell_type": "code",
   "execution_count": 84,
   "id": "fe38b35c",
   "metadata": {},
   "outputs": [
    {
     "name": "stdout",
     "output_type": "stream",
     "text": [
      "The accuracy of this test data  for Parkinson Prediction is 76.316\n"
     ]
    }
   ],
   "source": [
    "accu = accuracy_score(y_test,y_pred_test)\n",
    "print(f'The accuracy of this test data  for Parkinson Prediction is {round(accu *100,3)}')"
   ]
  },
  {
   "cell_type": "markdown",
   "id": "7abddd61",
   "metadata": {},
   "source": [
    "Finding the accuracy on Train data"
   ]
  },
  {
   "cell_type": "code",
   "execution_count": 85,
   "id": "c41342d1",
   "metadata": {},
   "outputs": [
    {
     "name": "stdout",
     "output_type": "stream",
     "text": [
      "The accuracy of this train model for Parkinson Prediction is 77.483\n"
     ]
    }
   ],
   "source": [
    "accu = accuracy_score(y_train,y_pred_train)\n",
    "print(f'The accuracy of this train model for Parkinson Prediction is {round(accu *100,3)}')"
   ]
  },
  {
   "cell_type": "markdown",
   "id": "7ba60e26",
   "metadata": {},
   "source": [
    "Calculating Confusion Matrix for both train and test data"
   ]
  },
  {
   "cell_type": "markdown",
   "id": "f4391d04",
   "metadata": {},
   "source": [
    "Confusion matrix on Train data"
   ]
  },
  {
   "cell_type": "code",
   "execution_count": 86,
   "id": "7bcd917d",
   "metadata": {},
   "outputs": [
    {
     "data": {
      "text/plain": [
       "array([[ 29, 125],\n",
       "       [ 11, 439]], dtype=int64)"
      ]
     },
     "execution_count": 86,
     "metadata": {},
     "output_type": "execute_result"
    }
   ],
   "source": [
    "conf_mat_tran = confusion_matrix(y_train,y_pred_train)\n",
    "conf_mat_tran"
   ]
  },
  {
   "cell_type": "markdown",
   "id": "58f2eebc",
   "metadata": {},
   "source": [
    "Confusion matrix on test data"
   ]
  },
  {
   "cell_type": "code",
   "execution_count": 87,
   "id": "f65ac1f6",
   "metadata": {},
   "outputs": [
    {
     "data": {
      "text/plain": [
       "array([[ 10,  28],\n",
       "       [  8, 106]], dtype=int64)"
      ]
     },
     "execution_count": 87,
     "metadata": {},
     "output_type": "execute_result"
    }
   ],
   "source": [
    "conf_mat_test = confusion_matrix(y_test,y_pred_test)\n",
    "conf_mat_test"
   ]
  },
  {
   "cell_type": "markdown",
   "id": "042be740",
   "metadata": {},
   "source": [
    "Ploting the confusion matrix for train data"
   ]
  },
  {
   "cell_type": "code",
   "execution_count": 88,
   "id": "0b5ce146",
   "metadata": {},
   "outputs": [
    {
     "data": {
      "image/png": "[encoded data removed]",
      "text/plain": [
       "<Figure size 576x432 with 2 Axes>"
      ]
     },
     "metadata": {},
     "output_type": "display_data"
    }
   ],
   "source": [
    "plt.figure(figsize=(8,6))\n",
    "sns.heatmap(conf_mat_tran,annot=True,fmt =\"d\",cmap =\"Blues\",xticklabels=[\"No Parkinson\",\"Parkinson\"],yticklabels=[\"No Parkinson\",\"Parkinson\"])\n",
    "plt.title(\"Confusion Matrix for Training Data\")\n",
    "plt.xlabel(\"Predicted Label\")\n",
    "plt.ylabel(\"True Label\")\n",
    "plt.show()"
   ]
  },
  {
   "cell_type": "code",
   "execution_count": 89,
   "id": "fcd386aa",
   "metadata": {},
   "outputs": [
    {
     "data": {
      "image/png": "[encoded data removed]",
      "text/plain": [
       "<Figure size 576x432 with 2 Axes>"
      ]
     },
     "metadata": {},
     "output_type": "display_data"
    }
   ],
   "source": [
    "plt.figure(figsize=(8,6))\n",
    "sns.heatmap(conf_mat_test,annot=True,fmt =\"d\",cmap =\"Blues\",xticklabels=[\"No Parkinson\",\"Parkinson\"],yticklabels=[\"No Parkinson\",\"Parkinson\"])\n",
    "plt.title(\"Confusion Matrix for Testing Data\")\n",
    "plt.xlabel(\"Predicted Label\")\n",
    "plt.ylabel(\"True Label\")\n",
    "plt.show()"
   ]
  },
  {
   "cell_type": "markdown",
   "id": "21b21194",
   "metadata": {},
   "source": [
    "Build a predictive system to verify that the model built is able to predict the patient’s Parkinson’s disease with one instance of the dataset."
   ]
  },
  {
   "cell_type": "code",
   "execution_count": 90,
   "id": "010648a5",
   "metadata": {},
   "outputs": [
    {
     "data": {
      "text/html": [
       "<div>\n",
       "<style scoped>\n",
       "    .dataframe tbody tr th:only-of-type {\n",
       "        vertical-align: middle;\n",
       "    }\n",
       "\n",
       "    .dataframe tbody tr th {\n",
       "        vertical-align: top;\n",
       "    }\n",
       "\n",
       "    .dataframe thead th {\n",
       "        text-align: right;\n",
       "    }\n",
       "</style>\n",
       "<table border=\"1\" class=\"dataframe\">\n",
       "  <thead>\n",
       "    <tr style=\"text-align: right;\">\n",
       "      <th></th>\n",
       "      <th>gender</th>\n",
       "      <th>PPE</th>\n",
       "      <th>DFA</th>\n",
       "      <th>RPDE</th>\n",
       "      <th>numPulses</th>\n",
       "      <th>numPeriodsPulses</th>\n",
       "      <th>class</th>\n",
       "    </tr>\n",
       "  </thead>\n",
       "  <tbody>\n",
       "    <tr>\n",
       "      <th>1</th>\n",
       "      <td>1</td>\n",
       "      <td>0.85247</td>\n",
       "      <td>0.71826</td>\n",
       "      <td>0.57227</td>\n",
       "      <td>240</td>\n",
       "      <td>239</td>\n",
       "      <td>1</td>\n",
       "    </tr>\n",
       "    <tr>\n",
       "      <th>2</th>\n",
       "      <td>1</td>\n",
       "      <td>0.76686</td>\n",
       "      <td>0.69481</td>\n",
       "      <td>0.53966</td>\n",
       "      <td>234</td>\n",
       "      <td>233</td>\n",
       "      <td>1</td>\n",
       "    </tr>\n",
       "    <tr>\n",
       "      <th>3</th>\n",
       "      <td>1</td>\n",
       "      <td>0.85083</td>\n",
       "      <td>0.67604</td>\n",
       "      <td>0.58982</td>\n",
       "      <td>232</td>\n",
       "      <td>231</td>\n",
       "      <td>1</td>\n",
       "    </tr>\n",
       "    <tr>\n",
       "      <th>4</th>\n",
       "      <td>0</td>\n",
       "      <td>0.41121</td>\n",
       "      <td>0.79672</td>\n",
       "      <td>0.59257</td>\n",
       "      <td>178</td>\n",
       "      <td>177</td>\n",
       "      <td>1</td>\n",
       "    </tr>\n",
       "    <tr>\n",
       "      <th>5</th>\n",
       "      <td>0</td>\n",
       "      <td>0.32790</td>\n",
       "      <td>0.79782</td>\n",
       "      <td>0.53028</td>\n",
       "      <td>236</td>\n",
       "      <td>235</td>\n",
       "      <td>1</td>\n",
       "    </tr>\n",
       "    <tr>\n",
       "      <th>...</th>\n",
       "      <td>...</td>\n",
       "      <td>...</td>\n",
       "      <td>...</td>\n",
       "      <td>...</td>\n",
       "      <td>...</td>\n",
       "      <td>...</td>\n",
       "      <td>...</td>\n",
       "    </tr>\n",
       "    <tr>\n",
       "      <th>752</th>\n",
       "      <td>0</td>\n",
       "      <td>0.80903</td>\n",
       "      <td>0.56355</td>\n",
       "      <td>0.28385</td>\n",
       "      <td>417</td>\n",
       "      <td>416</td>\n",
       "      <td>0</td>\n",
       "    </tr>\n",
       "    <tr>\n",
       "      <th>753</th>\n",
       "      <td>0</td>\n",
       "      <td>0.16084</td>\n",
       "      <td>0.56499</td>\n",
       "      <td>0.59194</td>\n",
       "      <td>415</td>\n",
       "      <td>413</td>\n",
       "      <td>0</td>\n",
       "    </tr>\n",
       "    <tr>\n",
       "      <th>754</th>\n",
       "      <td>0</td>\n",
       "      <td>0.88389</td>\n",
       "      <td>0.72335</td>\n",
       "      <td>0.46815</td>\n",
       "      <td>381</td>\n",
       "      <td>380</td>\n",
       "      <td>0</td>\n",
       "    </tr>\n",
       "    <tr>\n",
       "      <th>755</th>\n",
       "      <td>0</td>\n",
       "      <td>0.83782</td>\n",
       "      <td>0.74890</td>\n",
       "      <td>0.49823</td>\n",
       "      <td>340</td>\n",
       "      <td>339</td>\n",
       "      <td>0</td>\n",
       "    </tr>\n",
       "    <tr>\n",
       "      <th>756</th>\n",
       "      <td>0</td>\n",
       "      <td>0.81304</td>\n",
       "      <td>0.76471</td>\n",
       "      <td>0.46374</td>\n",
       "      <td>340</td>\n",
       "      <td>339</td>\n",
       "      <td>0</td>\n",
       "    </tr>\n",
       "  </tbody>\n",
       "</table>\n",
       "<p>756 rows × 7 columns</p>\n",
       "</div>"
      ],
      "text/plain": [
       "     gender      PPE      DFA     RPDE  numPulses  numPeriodsPulses  class\n",
       "1         1  0.85247  0.71826  0.57227        240               239      1\n",
       "2         1  0.76686  0.69481  0.53966        234               233      1\n",
       "3         1  0.85083  0.67604  0.58982        232               231      1\n",
       "4         0  0.41121  0.79672  0.59257        178               177      1\n",
       "5         0  0.32790  0.79782  0.53028        236               235      1\n",
       "..      ...      ...      ...      ...        ...               ...    ...\n",
       "752       0  0.80903  0.56355  0.28385        417               416      0\n",
       "753       0  0.16084  0.56499  0.59194        415               413      0\n",
       "754       0  0.88389  0.72335  0.46815        381               380      0\n",
       "755       0  0.83782  0.74890  0.49823        340               339      0\n",
       "756       0  0.81304  0.76471  0.46374        340               339      0\n",
       "\n",
       "[756 rows x 7 columns]"
      ]
     },
     "execution_count": 90,
     "metadata": {},
     "output_type": "execute_result"
    }
   ],
   "source": [
    "arj_new_df"
   ]
  },
  {
   "cell_type": "code",
   "execution_count": 91,
   "id": "9733affc",
   "metadata": {},
   "outputs": [
    {
     "data": {
      "text/plain": [
       "array([1], dtype=int64)"
      ]
     },
     "execution_count": 91,
     "metadata": {},
     "output_type": "execute_result"
    }
   ],
   "source": [
    "log.predict([[1,0.85247,0.71826,0.57227,240,239]])  #instance from 1st index"
   ]
  },
  {
   "cell_type": "code",
   "execution_count": 92,
   "id": "64c1d37b",
   "metadata": {},
   "outputs": [
    {
     "data": {
      "text/plain": [
       "array([0], dtype=int64)"
      ]
     },
     "execution_count": 92,
     "metadata": {},
     "output_type": "execute_result"
    }
   ],
   "source": [
    "log.predict([[0,0.80903,0.56355,0.28385,417,416]])  #instance from 752 index"
   ]
  },
  {
   "cell_type": "code",
   "execution_count": 93,
   "id": "9f041d78",
   "metadata": {},
   "outputs": [
    {
     "data": {
      "text/plain": [
       "array([1], dtype=int64)"
      ]
     },
     "execution_count": 93,
     "metadata": {},
     "output_type": "execute_result"
    }
   ],
   "source": [
    "log.predict([[0,0.41121,0.79672,0.59257,178,177]])  #instance from 4index"
   ]
  },
  {
   "cell_type": "markdown",
   "id": "9fbb31b0",
   "metadata": {},
   "source": [
    "After building model,we can see that model has predicted correctly for all instances where predicted output 1 is person with parkinson where as 0 is person without parkinson"
   ]
  }
 ],
 "metadata": {
  "kernelspec": {
   "display_name": "Python 3 (ipykernel)",
   "language": "python",
   "name": "python3"
  },
  "language_info": {
   "codemirror_mode": {
    "name": "ipython",
    "version": 3
   },
   "file_extension": ".py",
   "mimetype": "text/x-python",
   "name": "python",
   "nbconvert_exporter": "python",
   "pygments_lexer": "ipython3",
   "version": "3.9.7"
  }
 },
 "nbformat": 4,
 "nbformat_minor": 5
}
