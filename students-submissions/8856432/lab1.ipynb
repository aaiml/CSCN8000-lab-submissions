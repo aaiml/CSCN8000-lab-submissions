{
 "cells": [
  {
   "attachments": {},
   "cell_type": "markdown",
   "metadata": {},
   "source": [
    "#### PRAMOD KUNJUKUNJU SAJI\n",
    "#### 8856432\n",
    "#### Lab 1"
   ]
  },
  {
   "attachments": {},
   "cell_type": "markdown",
   "metadata": {},
   "source": [
    "#### **Part A**\n",
    "##### 1. Create a Notebook to demonstrate NumPy Operations."
   ]
  },
  {
   "cell_type": "code",
   "execution_count": 32,
   "metadata": {},
   "outputs": [],
   "source": [
    "import numpy as np"
   ]
  },
  {
   "attachments": {},
   "cell_type": "markdown",
   "metadata": {},
   "source": [
    "##### 2. Create an array that starts from the integer 1, ends at 20, incremented by 3."
   ]
  },
  {
   "cell_type": "code",
   "execution_count": 33,
   "metadata": {},
   "outputs": [
    {
     "data": {
      "text/plain": [
       "array([ 1,  4,  7, 10, 13, 16, 19])"
      ]
     },
     "execution_count": 33,
     "metadata": {},
     "output_type": "execute_result"
    }
   ],
   "source": [
    "np.arange(1, 20, 3)"
   ]
  },
  {
   "attachments": {},
   "cell_type": "markdown",
   "metadata": {},
   "source": [
    "##### 3. Create a new array of shape 3 with random numbers between 0 and 1."
   ]
  },
  {
   "cell_type": "code",
   "execution_count": 34,
   "metadata": {},
   "outputs": [
    {
     "data": {
      "text/plain": [
       "array([0.29114348, 0.01670939, 0.33501562])"
      ]
     },
     "execution_count": 34,
     "metadata": {},
     "output_type": "execute_result"
    }
   ],
   "source": [
    "np.random.rand(3)"
   ]
  },
  {
   "attachments": {},
   "cell_type": "markdown",
   "metadata": {},
   "source": [
    "##### 4. Create a 2 D array [[10,20,45], [30,12,16], [42,17,56]] and perform the following operations: \n",
    "##### Slice the 2D array to get the first two rows, slice the 2D array to get the last two rows."
   ]
  },
  {
   "cell_type": "code",
   "execution_count": 35,
   "metadata": {},
   "outputs": [
    {
     "name": "stdout",
     "output_type": "stream",
     "text": [
      "First 2 rows: \n",
      "[[10 20 45]\n",
      " [30 12 16]]\n",
      "Last 2 rows: \n",
      "[[30 12 16]\n",
      " [42 17 56]]\n"
     ]
    }
   ],
   "source": [
    "twoDArray = np.array([[10,20,45], [30,12,16], [42,17,56]])\n",
    "print('First 2 rows: ')\n",
    "print(twoDArray[:2])\n",
    "print('Last 2 rows: ')\n",
    "print(twoDArray[-2:])"
   ]
  },
  {
   "attachments": {},
   "cell_type": "markdown",
   "metadata": {},
   "source": [
    "#####  5. Create two 2x2 arrays and demonstrate how you can stack the elements vertically, horizontally, and split the arrays into smaller arrays."
   ]
  },
  {
   "cell_type": "code",
   "execution_count": 36,
   "metadata": {},
   "outputs": [
    {
     "name": "stdout",
     "output_type": "stream",
     "text": [
      "Vertically Stacked Array: \n",
      "[[90 80]\n",
      " [30 40]\n",
      " [10 20]\n",
      " [60 50]]\n",
      "Horizontally Stacked Array: \n",
      "[[10 20 90 80]\n",
      " [60 50 30 40]]\n",
      "Split vertically: \n",
      "[array([[90, 80],\n",
      "       [30, 40]]), array([[10, 20],\n",
      "       [60, 50]])]\n",
      "Split horizontally: \n",
      "[array([[10, 20],\n",
      "       [60, 50]]), array([[90, 80],\n",
      "       [30, 40]])]\n"
     ]
    }
   ],
   "source": [
    "# Inititalizing two 2x2 arrays\n",
    "firstArray = np.array([[90, 80], [30, 40]])\n",
    "secondArray = np.array([[10, 20], [60, 50]])\n",
    "\n",
    "# Stacking the arrays vertically\n",
    "verticalStack = np.vstack((firstArray, secondArray))\n",
    "print('Vertically Stacked Array: ')\n",
    "print(verticalStack)\n",
    "\n",
    "# Stacking the arrays horizontally\n",
    "horizontalStack = np.hstack((secondArray, firstArray))\n",
    "print('Horizontally Stacked Array: ')\n",
    "print(horizontalStack)\n",
    "\n",
    "# Splitting vertical array\n",
    "verticalSplitArray = np.vsplit(verticalStack, 2)\n",
    "print('Split vertically: ')\n",
    "print(verticalSplitArray)\n",
    "\n",
    "# Splitting horizontally array\n",
    "horizontalSplitArray = np.hsplit(horizontalStack, 2)\n",
    "print('Split horizontally: ')\n",
    "print(horizontalSplitArray)"
   ]
  },
  {
   "attachments": {},
   "cell_type": "markdown",
   "metadata": {},
   "source": [
    "##### 6. Create two matrices X= ([[5, 7, 2], [4, 5, 6], [7, 4 ,2]]) Y= ([[4, 2], [6, 2], [4, 2]]), Is it possible to multiply these matrices? \n",
    "#####     Demonstrate the case when it is not possible to."
   ]
  },
  {
   "cell_type": "code",
   "execution_count": 37,
   "metadata": {},
   "outputs": [
    {
     "name": "stdout",
     "output_type": "stream",
     "text": [
      "X * Y =  [[70 28]\n",
      " [70 30]\n",
      " [60 26]]\n",
      "Y * X is not possible as shapes are not in the right order\n"
     ]
    }
   ],
   "source": [
    "X = np.array([[5, 7, 2], [4, 5, 6], [7, 4, 2]])\n",
    "Y = np.array([[4, 2], [6, 2], [4, 2]])\n",
    "\n",
    "result1 = np.matmul(X, Y)\n",
    "print('X * Y = ', result1)\n",
    "\n",
    "print('Y * X is not possible as shapes are not in the right order')"
   ]
  },
  {
   "attachments": {},
   "cell_type": "markdown",
   "metadata": {},
   "source": [
    "##### 7. Create two arrays, x = ([2, -1, -8]) y = ([3, 1, -2]), Find the Shape, Number of dimensions of vector x.\n",
    "##### Reshape the vector x to a matrix of size (3,1) and determine the number of dimensions after reshaping y to a matrix of (3,1).\n",
    "      "
   ]
  },
  {
   "cell_type": "code",
   "execution_count": 38,
   "metadata": {},
   "outputs": [
    {
     "name": "stdout",
     "output_type": "stream",
     "text": [
      "Shape of x:  (3,)\n",
      "Number of dimensions of x:  1\n",
      "Reshaped x: \n",
      "[[ 2]\n",
      " [-1]\n",
      " [-8]]\n",
      "Number of dimensions of reshaped x:  2\n",
      "Reshaped y: \n",
      "[[ 3]\n",
      " [ 1]\n",
      " [-2]]\n",
      "Number of dimensions of reshaped y:  2\n"
     ]
    }
   ],
   "source": [
    "x = np.array([2, -1, -8])\n",
    "y = np.array([3, 1, -2])\n",
    "\n",
    "print('Shape of x: ', x.shape)\n",
    "print('Number of dimensions of x: ', x.ndim)\n",
    "\n",
    "xReshaped = x.reshape((3, 1))\n",
    "yReshaped = y.reshape((3, 1))\n",
    "\n",
    "print('Reshaped x: ')\n",
    "print(xReshaped)\n",
    "print('Number of dimensions of reshaped x: ', xReshaped.ndim)\n",
    "\n",
    "print(\"Reshaped y: \")\n",
    "print(yReshaped)\n",
    "print('Number of dimensions of reshaped y: ', yReshaped.ndim)"
   ]
  },
  {
   "attachments": {},
   "cell_type": "markdown",
   "metadata": {},
   "source": [
    "##### 8. How does broadcasting work? Demonstrate the subtraction, multiplication by considering a 3 x 3 matrix."
   ]
  },
  {
   "cell_type": "code",
   "execution_count": 39,
   "metadata": {},
   "outputs": [
    {
     "name": "stdout",
     "output_type": "stream",
     "text": [
      "Subtracted Matrix:  [[10 60 40]\n",
      " [80  0 50]\n",
      " [20 70 30]]\n",
      "Multiplied Matrix:  [[ 40 140 100]\n",
      " [180  20 120]\n",
      " [ 60 160  80]]\n"
     ]
    }
   ],
   "source": [
    "# Creating a 3x3 matrix\n",
    "matrix = np.array([[20, 70, 50],\n",
    "                   [90, 10, 60],\n",
    "                   [30, 80, 40]])\n",
    "\n",
    "# Subtraction\n",
    "subtractedMatrix = matrix - 10\n",
    "print(\"Subtracted Matrix: \", subtractedMatrix)\n",
    "\n",
    "# Multiplication\n",
    "multipliedMatrix = matrix * 2\n",
    "print(\"Multiplied Matrix: \", multipliedMatrix)"
   ]
  },
  {
   "attachments": {},
   "cell_type": "markdown",
   "metadata": {},
   "source": [
    " ##### 9. Add Markdown text, with a headline, that provides a very brief overview of the graphs (eg., one sentence for each).\n",
    " ##### Feel free to add additional Markdown elements (description/additional comments)\n",
    "        "
   ]
  },
  {
   "attachments": {},
   "cell_type": "markdown",
   "metadata": {},
   "source": [
    "##### 1. **Line graph** - representation of data points connected by straight lines to show the relationship between variables over time or other continuous intervals.\n",
    "\n",
    "##### 2. **Bar chart** - representation of categorical data using rectangular bars of different lengths to compare and display values or frequencies\n",
    "\n",
    "##### 3. **Histogram** - displays the distribution of numerical data using a series of contiguous bars, where the height of each bar represents the frequency or count of data within a specific range or bin\n",
    "\n",
    "##### 4. **Scatter plot** - representation of data points in which individual observations are plotted as dots on a two-dimensional coordinate system, allowing for the visualization of the relationship or correlation between two variables\n",
    "\n",
    "##### 5. **Box plot** - representation of the distribution of numerical data through quartiles, outliers, and the range of the data, displayed as a rectangular box with whiskers\n"
   ]
  },
  {
   "attachments": {},
   "cell_type": "markdown",
   "metadata": {},
   "source": [
    "#### **Part B**"
   ]
  },
  {
   "attachments": {},
   "cell_type": "markdown",
   "metadata": {},
   "source": [
    "#####     1. Solve the following two system of linear equations using matrices (find the values of x1 and x2) and determine the number of solutions using the functions. \n",
    "##### 1. 2x1+3x2-4x3=6,x1-4x2=8\n",
    "\t\n",
    "##### 2. 3y1-4y2+5y3=10,-y1+2y2-4y3=8"
   ]
  },
  {
   "cell_type": "code",
   "execution_count": 40,
   "metadata": {},
   "outputs": [
    {
     "ename": "LinAlgError",
     "evalue": "Last 2 dimensions of the array must be square",
     "output_type": "error",
     "traceback": [
      "\u001b[0;31m---------------------------------------------------------------------------\u001b[0m",
      "\u001b[0;31mLinAlgError\u001b[0m                               Traceback (most recent call last)",
      "Cell \u001b[0;32mIn[40], line 4\u001b[0m\n\u001b[1;32m      2\u001b[0m X \u001b[39m=\u001b[39m np\u001b[39m.\u001b[39marray([[\u001b[39m2\u001b[39m, \u001b[39m3\u001b[39m, \u001b[39m-\u001b[39m\u001b[39m4\u001b[39m], [\u001b[39m1\u001b[39m, \u001b[39m-\u001b[39m\u001b[39m4\u001b[39m, \u001b[39m0\u001b[39m]])\n\u001b[1;32m      3\u001b[0m y \u001b[39m=\u001b[39m np\u001b[39m.\u001b[39marray([\u001b[39m6\u001b[39m, \u001b[39m8\u001b[39m])\n\u001b[0;32m----> 4\u001b[0m z \u001b[39m=\u001b[39m np\u001b[39m.\u001b[39;49mlinalg\u001b[39m.\u001b[39;49msolve(X, y)\n",
      "File \u001b[0;32m<__array_function__ internals>:200\u001b[0m, in \u001b[0;36msolve\u001b[0;34m(*args, **kwargs)\u001b[0m\n",
      "File \u001b[0;32m~/Desktop/Applied Artificial Intelligence & Machine Learning/Machine-Learning-Programming/Lab/Untitled/CSCN8010/venv/CSCN8010_classic_ml1/lib/python3.9/site-packages/numpy/linalg/linalg.py:373\u001b[0m, in \u001b[0;36msolve\u001b[0;34m(a, b)\u001b[0m\n\u001b[1;32m    371\u001b[0m a, _ \u001b[39m=\u001b[39m _makearray(a)\n\u001b[1;32m    372\u001b[0m _assert_stacked_2d(a)\n\u001b[0;32m--> 373\u001b[0m _assert_stacked_square(a)\n\u001b[1;32m    374\u001b[0m b, wrap \u001b[39m=\u001b[39m _makearray(b)\n\u001b[1;32m    375\u001b[0m t, result_t \u001b[39m=\u001b[39m _commonType(a, b)\n",
      "File \u001b[0;32m~/Desktop/Applied Artificial Intelligence & Machine Learning/Machine-Learning-Programming/Lab/Untitled/CSCN8010/venv/CSCN8010_classic_ml1/lib/python3.9/site-packages/numpy/linalg/linalg.py:190\u001b[0m, in \u001b[0;36m_assert_stacked_square\u001b[0;34m(*arrays)\u001b[0m\n\u001b[1;32m    188\u001b[0m m, n \u001b[39m=\u001b[39m a\u001b[39m.\u001b[39mshape[\u001b[39m-\u001b[39m\u001b[39m2\u001b[39m:]\n\u001b[1;32m    189\u001b[0m \u001b[39mif\u001b[39;00m m \u001b[39m!=\u001b[39m n:\n\u001b[0;32m--> 190\u001b[0m     \u001b[39mraise\u001b[39;00m LinAlgError(\u001b[39m'\u001b[39m\u001b[39mLast 2 dimensions of the array must be square\u001b[39m\u001b[39m'\u001b[39m)\n",
      "\u001b[0;31mLinAlgError\u001b[0m: Last 2 dimensions of the array must be square"
     ]
    }
   ],
   "source": [
    "# Solving \"2x1+3x2-4x3=6,x1-4x2=8\"\n",
    "X = np.array([[2, 3, -4], [1, -4, 0]])\n",
    "y = np.array([6, 8])\n",
    "z = np.linalg.solve(X, y)"
   ]
  },
  {
   "attachments": {},
   "cell_type": "markdown",
   "metadata": {},
   "source": [
    "As the error states, **\"Last 2 dimensions of the array must be square\"**"
   ]
  },
  {
   "cell_type": "code",
   "execution_count": null,
   "metadata": {},
   "outputs": [
    {
     "ename": "LinAlgError",
     "evalue": "Last 2 dimensions of the array must be square",
     "output_type": "error",
     "traceback": [
      "\u001b[0;31m---------------------------------------------------------------------------\u001b[0m",
      "\u001b[0;31mLinAlgError\u001b[0m                               Traceback (most recent call last)",
      "Cell \u001b[0;32mIn[30], line 4\u001b[0m\n\u001b[1;32m      2\u001b[0m X \u001b[39m=\u001b[39m np\u001b[39m.\u001b[39marray([[\u001b[39m3\u001b[39m, \u001b[39m-\u001b[39m\u001b[39m4\u001b[39m, \u001b[39m-\u001b[39m\u001b[39m5\u001b[39m], [\u001b[39m-\u001b[39m\u001b[39m1\u001b[39m, \u001b[39m2\u001b[39m, \u001b[39m-\u001b[39m\u001b[39m4\u001b[39m]])\n\u001b[1;32m      3\u001b[0m y \u001b[39m=\u001b[39m np\u001b[39m.\u001b[39marray([\u001b[39m10\u001b[39m, \u001b[39m8\u001b[39m])\n\u001b[0;32m----> 4\u001b[0m z \u001b[39m=\u001b[39m np\u001b[39m.\u001b[39;49mlinalg\u001b[39m.\u001b[39;49msolve(X, y)\n",
      "File \u001b[0;32m<__array_function__ internals>:200\u001b[0m, in \u001b[0;36msolve\u001b[0;34m(*args, **kwargs)\u001b[0m\n",
      "File \u001b[0;32m~/Desktop/Applied Artificial Intelligence & Machine Learning/Machine-Learning-Programming/Lab/Untitled/CSCN8010/venv/CSCN8010_classic_ml1/lib/python3.9/site-packages/numpy/linalg/linalg.py:373\u001b[0m, in \u001b[0;36msolve\u001b[0;34m(a, b)\u001b[0m\n\u001b[1;32m    371\u001b[0m a, _ \u001b[39m=\u001b[39m _makearray(a)\n\u001b[1;32m    372\u001b[0m _assert_stacked_2d(a)\n\u001b[0;32m--> 373\u001b[0m _assert_stacked_square(a)\n\u001b[1;32m    374\u001b[0m b, wrap \u001b[39m=\u001b[39m _makearray(b)\n\u001b[1;32m    375\u001b[0m t, result_t \u001b[39m=\u001b[39m _commonType(a, b)\n",
      "File \u001b[0;32m~/Desktop/Applied Artificial Intelligence & Machine Learning/Machine-Learning-Programming/Lab/Untitled/CSCN8010/venv/CSCN8010_classic_ml1/lib/python3.9/site-packages/numpy/linalg/linalg.py:190\u001b[0m, in \u001b[0;36m_assert_stacked_square\u001b[0;34m(*arrays)\u001b[0m\n\u001b[1;32m    188\u001b[0m m, n \u001b[39m=\u001b[39m a\u001b[39m.\u001b[39mshape[\u001b[39m-\u001b[39m\u001b[39m2\u001b[39m:]\n\u001b[1;32m    189\u001b[0m \u001b[39mif\u001b[39;00m m \u001b[39m!=\u001b[39m n:\n\u001b[0;32m--> 190\u001b[0m     \u001b[39mraise\u001b[39;00m LinAlgError(\u001b[39m'\u001b[39m\u001b[39mLast 2 dimensions of the array must be square\u001b[39m\u001b[39m'\u001b[39m)\n",
      "\u001b[0;31mLinAlgError\u001b[0m: Last 2 dimensions of the array must be square"
     ]
    }
   ],
   "source": [
    "# Solving \"3y1-4y2+5y3=10,-y1+2y2-4y3=8\"\n",
    "X = np.array([[3, -4, -5], [-1, 2, -4]])\n",
    "y = np.array([10, 8])\n",
    "z = np.linalg.solve(X, y)"
   ]
  },
  {
   "attachments": {},
   "cell_type": "markdown",
   "metadata": {},
   "source": [
    "As the error states, **\"Last 2 dimensions of the array must be square\"**"
   ]
  }
 ],
 "metadata": {
  "kernelspec": {
   "display_name": "CSCN8010_classic_ml1",
   "language": "python",
   "name": "cscn8010_classic_ml1"
  },
  "language_info": {
   "codemirror_mode": {
    "name": "ipython",
    "version": 3
   },
   "file_extension": ".py",
   "mimetype": "text/x-python",
   "name": "python",
   "nbconvert_exporter": "python",
   "pygments_lexer": "ipython3",
   "version": "3.9.7"
  },
  "orig_nbformat": 4
 },
 "nbformat": 4,
 "nbformat_minor": 2
}
