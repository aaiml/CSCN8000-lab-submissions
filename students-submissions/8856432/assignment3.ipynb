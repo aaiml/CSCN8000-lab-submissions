{
 "cells": [
  {
   "cell_type": "markdown",
   "metadata": {},
   "source": [
    "Assignment 3 CSCN8000 Artificial Intelligence Algorithms and Mathematics"
   ]
  },
  {
   "cell_type": "markdown",
   "metadata": {},
   "source": [
    "#### PRAMOD KUNJUKUNJU SAJI - 8856432"
   ]
  },
  {
   "cell_type": "markdown",
   "metadata": {},
   "source": [
    "1.  Use iris flower dataset from sklearn library and try to form clusters of flowers using petal width and length features."
   ]
  },
  {
   "cell_type": "code",
   "execution_count": 373,
   "metadata": {},
   "outputs": [],
   "source": [
    "# Import necessary libraries\n",
    "import numpy as np\n",
    "import pandas as pd\n",
    "import matplotlib.pyplot as plt\n",
    "from scipy.stats import zscore\n",
    "from sklearn.cluster import KMeans\n",
    "from sklearn.preprocessing import LabelEncoder\n",
    "from sklearn.datasets import load_iris\n",
    "from sklearn.preprocessing import StandardScaler\n",
    "from sklearn.model_selection import train_test_split\n",
    "from sklearn.svm import SVC\n",
    "from sklearn.linear_model import LogisticRegression\n",
    "from sklearn.ensemble import RandomForestClassifier\n",
    "from sklearn.metrics import accuracy_score\n",
    "from sklearn.decomposition import PCA"
   ]
  },
  {
   "cell_type": "code",
   "execution_count": 374,
   "metadata": {},
   "outputs": [
    {
     "data": {
      "text/html": [
       "<div>\n",
       "<style scoped>\n",
       "    .dataframe tbody tr th:only-of-type {\n",
       "        vertical-align: middle;\n",
       "    }\n",
       "\n",
       "    .dataframe tbody tr th {\n",
       "        vertical-align: top;\n",
       "    }\n",
       "\n",
       "    .dataframe thead th {\n",
       "        text-align: right;\n",
       "    }\n",
       "</style>\n",
       "<table border=\"1\" class=\"dataframe\">\n",
       "  <thead>\n",
       "    <tr style=\"text-align: right;\">\n",
       "      <th></th>\n",
       "      <th>sepal length (cm)</th>\n",
       "      <th>sepal width (cm)</th>\n",
       "      <th>petal length (cm)</th>\n",
       "      <th>petal width (cm)</th>\n",
       "    </tr>\n",
       "  </thead>\n",
       "  <tbody>\n",
       "    <tr>\n",
       "      <th>0</th>\n",
       "      <td>5.1</td>\n",
       "      <td>3.5</td>\n",
       "      <td>1.4</td>\n",
       "      <td>0.2</td>\n",
       "    </tr>\n",
       "    <tr>\n",
       "      <th>1</th>\n",
       "      <td>4.9</td>\n",
       "      <td>3.0</td>\n",
       "      <td>1.4</td>\n",
       "      <td>0.2</td>\n",
       "    </tr>\n",
       "    <tr>\n",
       "      <th>2</th>\n",
       "      <td>4.7</td>\n",
       "      <td>3.2</td>\n",
       "      <td>1.3</td>\n",
       "      <td>0.2</td>\n",
       "    </tr>\n",
       "    <tr>\n",
       "      <th>3</th>\n",
       "      <td>4.6</td>\n",
       "      <td>3.1</td>\n",
       "      <td>1.5</td>\n",
       "      <td>0.2</td>\n",
       "    </tr>\n",
       "    <tr>\n",
       "      <th>4</th>\n",
       "      <td>5.0</td>\n",
       "      <td>3.6</td>\n",
       "      <td>1.4</td>\n",
       "      <td>0.2</td>\n",
       "    </tr>\n",
       "  </tbody>\n",
       "</table>\n",
       "</div>"
      ],
      "text/plain": [
       "   sepal length (cm)  sepal width (cm)  petal length (cm)  petal width (cm)\n",
       "0                5.1               3.5                1.4               0.2\n",
       "1                4.9               3.0                1.4               0.2\n",
       "2                4.7               3.2                1.3               0.2\n",
       "3                4.6               3.1                1.5               0.2\n",
       "4                5.0               3.6                1.4               0.2"
      ]
     },
     "execution_count": 374,
     "metadata": {},
     "output_type": "execute_result"
    }
   ],
   "source": [
    "# Load the Iris dataset from scikit-learn\n",
    "X_iris, y_iris = load_iris(return_X_y=True, as_frame=True)\n",
    "\n",
    "# Preview the data\n",
    "X_iris.head()"
   ]
  },
  {
   "cell_type": "markdown",
   "metadata": {},
   "source": [
    "Drop the other two features for simplicity."
   ]
  },
  {
   "cell_type": "code",
   "execution_count": 375,
   "metadata": {},
   "outputs": [
    {
     "data": {
      "text/html": [
       "<div>\n",
       "<style scoped>\n",
       "    .dataframe tbody tr th:only-of-type {\n",
       "        vertical-align: middle;\n",
       "    }\n",
       "\n",
       "    .dataframe tbody tr th {\n",
       "        vertical-align: top;\n",
       "    }\n",
       "\n",
       "    .dataframe thead th {\n",
       "        text-align: right;\n",
       "    }\n",
       "</style>\n",
       "<table border=\"1\" class=\"dataframe\">\n",
       "  <thead>\n",
       "    <tr style=\"text-align: right;\">\n",
       "      <th></th>\n",
       "      <th>petal length (cm)</th>\n",
       "      <th>petal width (cm)</th>\n",
       "    </tr>\n",
       "  </thead>\n",
       "  <tbody>\n",
       "    <tr>\n",
       "      <th>0</th>\n",
       "      <td>1.4</td>\n",
       "      <td>0.2</td>\n",
       "    </tr>\n",
       "    <tr>\n",
       "      <th>1</th>\n",
       "      <td>1.4</td>\n",
       "      <td>0.2</td>\n",
       "    </tr>\n",
       "    <tr>\n",
       "      <th>2</th>\n",
       "      <td>1.3</td>\n",
       "      <td>0.2</td>\n",
       "    </tr>\n",
       "    <tr>\n",
       "      <th>3</th>\n",
       "      <td>1.5</td>\n",
       "      <td>0.2</td>\n",
       "    </tr>\n",
       "    <tr>\n",
       "      <th>4</th>\n",
       "      <td>1.4</td>\n",
       "      <td>0.2</td>\n",
       "    </tr>\n",
       "  </tbody>\n",
       "</table>\n",
       "</div>"
      ],
      "text/plain": [
       "   petal length (cm)  petal width (cm)\n",
       "0                1.4               0.2\n",
       "1                1.4               0.2\n",
       "2                1.3               0.2\n",
       "3                1.5               0.2\n",
       "4                1.4               0.2"
      ]
     },
     "execution_count": 375,
     "metadata": {},
     "output_type": "execute_result"
    }
   ],
   "source": [
    "# Drop the first two columns of the iris dataset\n",
    "X_iris = X_iris.drop(['sepal length (cm)', 'sepal width (cm)'], axis=1)\n",
    "\n",
    "# Preview the data\n",
    "X_iris.head()"
   ]
  },
  {
   "cell_type": "markdown",
   "metadata": {},
   "source": [
    "Figure out if any preprocessing such as scaling would help here"
   ]
  },
  {
   "cell_type": "code",
   "execution_count": 376,
   "metadata": {},
   "outputs": [
    {
     "data": {
      "text/plain": [
       "array([[-1.34022653, -1.3154443 ],\n",
       "       [-1.34022653, -1.3154443 ],\n",
       "       [-1.39706395, -1.3154443 ],\n",
       "       [-1.2833891 , -1.3154443 ],\n",
       "       [-1.34022653, -1.3154443 ]])"
      ]
     },
     "execution_count": 376,
     "metadata": {},
     "output_type": "execute_result"
    }
   ],
   "source": [
    "# scaling\n",
    "X_iris_scaled = StandardScaler().fit_transform(X_iris)\n",
    "X_iris_scaled[:5]"
   ]
  },
  {
   "cell_type": "markdown",
   "metadata": {},
   "source": [
    "Draw elbow plot and from that figure out optimal value of k"
   ]
  },
  {
   "cell_type": "code",
   "execution_count": 377,
   "metadata": {},
   "outputs": [
    {
     "data": {
      "image/png": "[encoded data removed]",
      "text/plain": [
       "<Figure size 640x480 with 1 Axes>"
      ]
     },
     "metadata": {},
     "output_type": "display_data"
    }
   ],
   "source": [
    "# Find and plot the elbow point for the K-Means algorithm on the Iris dataset.\n",
    "kmeans_inertia_values = []\n",
    "for i in range(1, 11):\n",
    "    kmeans = KMeans(n_clusters=i, n_init=10)\n",
    "    kmeans.fit(X_iris_scaled)\n",
    "    kmeans_inertia_values.append(kmeans.inertia_)\n",
    "\n",
    "plt.plot(range(1,11), kmeans_inertia_values)\n",
    "plt.xlabel('Number of Clusters')\n",
    "plt.ylabel('K-Means Inertia')\n",
    "\n",
    "plt.show()"
   ]
  },
  {
   "cell_type": "markdown",
   "metadata": {},
   "source": [
    "Optimal value of k = 3"
   ]
  },
  {
   "cell_type": "markdown",
   "metadata": {},
   "source": [
    "2.  Use the heart dataset from the Resources Folder or access it from https://www.kaggle.com/fedesoriano/heart-failure-prediction"
   ]
  },
  {
   "cell_type": "markdown",
   "metadata": {},
   "source": [
    " Load heart disease dataset in pandas dataframe"
   ]
  },
  {
   "cell_type": "code",
   "execution_count": 378,
   "metadata": {},
   "outputs": [
    {
     "data": {
      "text/html": [
       "<div>\n",
       "<style scoped>\n",
       "    .dataframe tbody tr th:only-of-type {\n",
       "        vertical-align: middle;\n",
       "    }\n",
       "\n",
       "    .dataframe tbody tr th {\n",
       "        vertical-align: top;\n",
       "    }\n",
       "\n",
       "    .dataframe thead th {\n",
       "        text-align: right;\n",
       "    }\n",
       "</style>\n",
       "<table border=\"1\" class=\"dataframe\">\n",
       "  <thead>\n",
       "    <tr style=\"text-align: right;\">\n",
       "      <th></th>\n",
       "      <th>Age</th>\n",
       "      <th>Sex</th>\n",
       "      <th>ChestPainType</th>\n",
       "      <th>RestingBP</th>\n",
       "      <th>Cholesterol</th>\n",
       "      <th>FastingBS</th>\n",
       "      <th>RestingECG</th>\n",
       "      <th>MaxHR</th>\n",
       "      <th>ExerciseAngina</th>\n",
       "      <th>Oldpeak</th>\n",
       "      <th>ST_Slope</th>\n",
       "      <th>HeartDisease</th>\n",
       "    </tr>\n",
       "  </thead>\n",
       "  <tbody>\n",
       "    <tr>\n",
       "      <th>0</th>\n",
       "      <td>40</td>\n",
       "      <td>M</td>\n",
       "      <td>ATA</td>\n",
       "      <td>140</td>\n",
       "      <td>289</td>\n",
       "      <td>0</td>\n",
       "      <td>Normal</td>\n",
       "      <td>172</td>\n",
       "      <td>N</td>\n",
       "      <td>0.0</td>\n",
       "      <td>Up</td>\n",
       "      <td>0</td>\n",
       "    </tr>\n",
       "    <tr>\n",
       "      <th>1</th>\n",
       "      <td>49</td>\n",
       "      <td>F</td>\n",
       "      <td>NAP</td>\n",
       "      <td>160</td>\n",
       "      <td>180</td>\n",
       "      <td>0</td>\n",
       "      <td>Normal</td>\n",
       "      <td>156</td>\n",
       "      <td>N</td>\n",
       "      <td>1.0</td>\n",
       "      <td>Flat</td>\n",
       "      <td>1</td>\n",
       "    </tr>\n",
       "    <tr>\n",
       "      <th>2</th>\n",
       "      <td>37</td>\n",
       "      <td>M</td>\n",
       "      <td>ATA</td>\n",
       "      <td>130</td>\n",
       "      <td>283</td>\n",
       "      <td>0</td>\n",
       "      <td>ST</td>\n",
       "      <td>98</td>\n",
       "      <td>N</td>\n",
       "      <td>0.0</td>\n",
       "      <td>Up</td>\n",
       "      <td>0</td>\n",
       "    </tr>\n",
       "    <tr>\n",
       "      <th>3</th>\n",
       "      <td>48</td>\n",
       "      <td>F</td>\n",
       "      <td>ASY</td>\n",
       "      <td>138</td>\n",
       "      <td>214</td>\n",
       "      <td>0</td>\n",
       "      <td>Normal</td>\n",
       "      <td>108</td>\n",
       "      <td>Y</td>\n",
       "      <td>1.5</td>\n",
       "      <td>Flat</td>\n",
       "      <td>1</td>\n",
       "    </tr>\n",
       "    <tr>\n",
       "      <th>4</th>\n",
       "      <td>54</td>\n",
       "      <td>M</td>\n",
       "      <td>NAP</td>\n",
       "      <td>150</td>\n",
       "      <td>195</td>\n",
       "      <td>0</td>\n",
       "      <td>Normal</td>\n",
       "      <td>122</td>\n",
       "      <td>N</td>\n",
       "      <td>0.0</td>\n",
       "      <td>Up</td>\n",
       "      <td>0</td>\n",
       "    </tr>\n",
       "  </tbody>\n",
       "</table>\n",
       "</div>"
      ],
      "text/plain": [
       "   Age Sex ChestPainType  RestingBP  Cholesterol  FastingBS RestingECG  MaxHR   \n",
       "0   40   M           ATA        140          289          0     Normal    172  \\\n",
       "1   49   F           NAP        160          180          0     Normal    156   \n",
       "2   37   M           ATA        130          283          0         ST     98   \n",
       "3   48   F           ASY        138          214          0     Normal    108   \n",
       "4   54   M           NAP        150          195          0     Normal    122   \n",
       "\n",
       "  ExerciseAngina  Oldpeak ST_Slope  HeartDisease  \n",
       "0              N      0.0       Up             0  \n",
       "1              N      1.0     Flat             1  \n",
       "2              N      0.0       Up             0  \n",
       "3              Y      1.5     Flat             1  \n",
       "4              N      0.0       Up             0  "
      ]
     },
     "execution_count": 378,
     "metadata": {},
     "output_type": "execute_result"
    }
   ],
   "source": [
    "# Read the data from the file 'heart.csv'\n",
    "heart_df = pd.read_csv('heart.csv')\n",
    "\n",
    "# Preview the data\n",
    "heart_df.head()"
   ]
  },
  {
   "cell_type": "markdown",
   "metadata": {},
   "source": [
    "Remove outliers using Z score. Usual guideline is to remove anything that has Z score > 3 formula or Z score < -3"
   ]
  },
  {
   "cell_type": "code",
   "execution_count": 379,
   "metadata": {},
   "outputs": [
    {
     "data": {
      "text/plain": [
       "['Age', 'RestingBP', 'Cholesterol', 'MaxHR', 'Oldpeak']"
      ]
     },
     "execution_count": 379,
     "metadata": {},
     "output_type": "execute_result"
    }
   ],
   "source": [
    "# Get the numeric columns, drop the target and fasting blood sugar columns\n",
    "numeric_columns = heart_df.select_dtypes(include=['number']).drop(columns=['HeartDisease', 'FastingBS']).columns.tolist()\n",
    "numeric_columns"
   ]
  },
  {
   "cell_type": "code",
   "execution_count": 380,
   "metadata": {},
   "outputs": [
    {
     "name": "stdout",
     "output_type": "stream",
     "text": [
      "Count of records before : 918\n",
      "Count of records after : 899\n"
     ]
    }
   ],
   "source": [
    "# Apply z-score to the numeric columns\n",
    "z_score = zscore(heart_df[numeric_columns])\n",
    "heart_df_zscore_applied = heart_df[(z_score > -3).all(axis=1) & (z_score < 3).all(axis=1)]\n",
    "heart_df_zscore_applied.reset_index(drop=True, inplace=True)\n",
    "\n",
    "# Preview the data\n",
    "heart_df_zscore_applied.head()\n",
    "\n",
    "print(f'Count of records before : {len(heart_df)}')\n",
    "print(f'Count of records after : {len(heart_df_zscore_applied)}')"
   ]
  },
  {
   "cell_type": "markdown",
   "metadata": {},
   "source": [
    "Convert text columns to numbers using label encoding / one hot encoding"
   ]
  },
  {
   "cell_type": "code",
   "execution_count": 381,
   "metadata": {},
   "outputs": [
    {
     "data": {
      "text/plain": [
       "['Sex', 'ChestPainType', 'RestingECG', 'ExerciseAngina', 'ST_Slope']"
      ]
     },
     "execution_count": 381,
     "metadata": {},
     "output_type": "execute_result"
    }
   ],
   "source": [
    "# Get the non-numeric columns\n",
    "non_numeric_columns = heart_df_zscore_applied.select_dtypes(exclude=['number']).columns.tolist()\n",
    "non_numeric_columns"
   ]
  },
  {
   "cell_type": "code",
   "execution_count": 382,
   "metadata": {},
   "outputs": [
    {
     "data": {
      "text/html": [
       "<div>\n",
       "<style scoped>\n",
       "    .dataframe tbody tr th:only-of-type {\n",
       "        vertical-align: middle;\n",
       "    }\n",
       "\n",
       "    .dataframe tbody tr th {\n",
       "        vertical-align: top;\n",
       "    }\n",
       "\n",
       "    .dataframe thead th {\n",
       "        text-align: right;\n",
       "    }\n",
       "</style>\n",
       "<table border=\"1\" class=\"dataframe\">\n",
       "  <thead>\n",
       "    <tr style=\"text-align: right;\">\n",
       "      <th></th>\n",
       "      <th>Age</th>\n",
       "      <th>Sex</th>\n",
       "      <th>ChestPainType</th>\n",
       "      <th>RestingBP</th>\n",
       "      <th>Cholesterol</th>\n",
       "      <th>FastingBS</th>\n",
       "      <th>RestingECG</th>\n",
       "      <th>MaxHR</th>\n",
       "      <th>ExerciseAngina</th>\n",
       "      <th>Oldpeak</th>\n",
       "      <th>ST_Slope</th>\n",
       "      <th>HeartDisease</th>\n",
       "    </tr>\n",
       "  </thead>\n",
       "  <tbody>\n",
       "    <tr>\n",
       "      <th>0</th>\n",
       "      <td>40</td>\n",
       "      <td>1</td>\n",
       "      <td>1</td>\n",
       "      <td>140</td>\n",
       "      <td>289</td>\n",
       "      <td>0</td>\n",
       "      <td>1</td>\n",
       "      <td>172</td>\n",
       "      <td>0</td>\n",
       "      <td>0.0</td>\n",
       "      <td>2</td>\n",
       "      <td>0</td>\n",
       "    </tr>\n",
       "    <tr>\n",
       "      <th>1</th>\n",
       "      <td>49</td>\n",
       "      <td>0</td>\n",
       "      <td>2</td>\n",
       "      <td>160</td>\n",
       "      <td>180</td>\n",
       "      <td>0</td>\n",
       "      <td>1</td>\n",
       "      <td>156</td>\n",
       "      <td>0</td>\n",
       "      <td>1.0</td>\n",
       "      <td>1</td>\n",
       "      <td>1</td>\n",
       "    </tr>\n",
       "    <tr>\n",
       "      <th>2</th>\n",
       "      <td>37</td>\n",
       "      <td>1</td>\n",
       "      <td>1</td>\n",
       "      <td>130</td>\n",
       "      <td>283</td>\n",
       "      <td>0</td>\n",
       "      <td>2</td>\n",
       "      <td>98</td>\n",
       "      <td>0</td>\n",
       "      <td>0.0</td>\n",
       "      <td>2</td>\n",
       "      <td>0</td>\n",
       "    </tr>\n",
       "    <tr>\n",
       "      <th>3</th>\n",
       "      <td>48</td>\n",
       "      <td>0</td>\n",
       "      <td>0</td>\n",
       "      <td>138</td>\n",
       "      <td>214</td>\n",
       "      <td>0</td>\n",
       "      <td>1</td>\n",
       "      <td>108</td>\n",
       "      <td>1</td>\n",
       "      <td>1.5</td>\n",
       "      <td>1</td>\n",
       "      <td>1</td>\n",
       "    </tr>\n",
       "    <tr>\n",
       "      <th>4</th>\n",
       "      <td>54</td>\n",
       "      <td>1</td>\n",
       "      <td>2</td>\n",
       "      <td>150</td>\n",
       "      <td>195</td>\n",
       "      <td>0</td>\n",
       "      <td>1</td>\n",
       "      <td>122</td>\n",
       "      <td>0</td>\n",
       "      <td>0.0</td>\n",
       "      <td>2</td>\n",
       "      <td>0</td>\n",
       "    </tr>\n",
       "  </tbody>\n",
       "</table>\n",
       "</div>"
      ],
      "text/plain": [
       "   Age  Sex  ChestPainType  RestingBP  Cholesterol  FastingBS  RestingECG   \n",
       "0   40    1              1        140          289          0           1  \\\n",
       "1   49    0              2        160          180          0           1   \n",
       "2   37    1              1        130          283          0           2   \n",
       "3   48    0              0        138          214          0           1   \n",
       "4   54    1              2        150          195          0           1   \n",
       "\n",
       "   MaxHR  ExerciseAngina  Oldpeak  ST_Slope  HeartDisease  \n",
       "0    172               0      0.0         2             0  \n",
       "1    156               0      1.0         1             1  \n",
       "2     98               0      0.0         2             0  \n",
       "3    108               1      1.5         1             1  \n",
       "4    122               0      0.0         2             0  "
      ]
     },
     "execution_count": 382,
     "metadata": {},
     "output_type": "execute_result"
    }
   ],
   "source": [
    "# Encoding categorical data\n",
    "encoded_data = heart_df_zscore_applied.copy()\n",
    "label_encoder = LabelEncoder()\n",
    "for column in non_numeric_columns:\n",
    "    encoded_data[column] = label_encoder.fit_transform(heart_df_zscore_applied[column])\n",
    "\n",
    "# Preview the encoded data\n",
    "encoded_data.head()"
   ]
  },
  {
   "cell_type": "markdown",
   "metadata": {},
   "source": [
    "Apply scaling"
   ]
  },
  {
   "cell_type": "code",
   "execution_count": 383,
   "metadata": {},
   "outputs": [
    {
     "data": {
      "text/html": [
       "<div>\n",
       "<style scoped>\n",
       "    .dataframe tbody tr th:only-of-type {\n",
       "        vertical-align: middle;\n",
       "    }\n",
       "\n",
       "    .dataframe tbody tr th {\n",
       "        vertical-align: top;\n",
       "    }\n",
       "\n",
       "    .dataframe thead th {\n",
       "        text-align: right;\n",
       "    }\n",
       "</style>\n",
       "<table border=\"1\" class=\"dataframe\">\n",
       "  <thead>\n",
       "    <tr style=\"text-align: right;\">\n",
       "      <th></th>\n",
       "      <th>Age</th>\n",
       "      <th>Sex</th>\n",
       "      <th>ChestPainType</th>\n",
       "      <th>RestingBP</th>\n",
       "      <th>Cholesterol</th>\n",
       "      <th>FastingBS</th>\n",
       "      <th>RestingECG</th>\n",
       "      <th>MaxHR</th>\n",
       "      <th>ExerciseAngina</th>\n",
       "      <th>Oldpeak</th>\n",
       "      <th>ST_Slope</th>\n",
       "      <th>HeartDisease</th>\n",
       "    </tr>\n",
       "  </thead>\n",
       "  <tbody>\n",
       "    <tr>\n",
       "      <th>0</th>\n",
       "      <td>-1.428154</td>\n",
       "      <td>1</td>\n",
       "      <td>1</td>\n",
       "      <td>0.465900</td>\n",
       "      <td>0.849636</td>\n",
       "      <td>0</td>\n",
       "      <td>1</td>\n",
       "      <td>1.384320</td>\n",
       "      <td>0</td>\n",
       "      <td>-0.855469</td>\n",
       "      <td>2</td>\n",
       "      <td>0</td>\n",
       "    </tr>\n",
       "    <tr>\n",
       "      <th>1</th>\n",
       "      <td>-0.475855</td>\n",
       "      <td>0</td>\n",
       "      <td>2</td>\n",
       "      <td>1.634714</td>\n",
       "      <td>-0.168122</td>\n",
       "      <td>0</td>\n",
       "      <td>1</td>\n",
       "      <td>0.752973</td>\n",
       "      <td>0</td>\n",
       "      <td>0.137516</td>\n",
       "      <td>1</td>\n",
       "      <td>1</td>\n",
       "    </tr>\n",
       "    <tr>\n",
       "      <th>2</th>\n",
       "      <td>-1.745588</td>\n",
       "      <td>1</td>\n",
       "      <td>1</td>\n",
       "      <td>-0.118507</td>\n",
       "      <td>0.793612</td>\n",
       "      <td>0</td>\n",
       "      <td>2</td>\n",
       "      <td>-1.535661</td>\n",
       "      <td>0</td>\n",
       "      <td>-0.855469</td>\n",
       "      <td>2</td>\n",
       "      <td>0</td>\n",
       "    </tr>\n",
       "    <tr>\n",
       "      <th>3</th>\n",
       "      <td>-0.581666</td>\n",
       "      <td>0</td>\n",
       "      <td>0</td>\n",
       "      <td>0.349019</td>\n",
       "      <td>0.149344</td>\n",
       "      <td>0</td>\n",
       "      <td>1</td>\n",
       "      <td>-1.141069</td>\n",
       "      <td>1</td>\n",
       "      <td>0.634008</td>\n",
       "      <td>1</td>\n",
       "      <td>1</td>\n",
       "    </tr>\n",
       "    <tr>\n",
       "      <th>4</th>\n",
       "      <td>0.053200</td>\n",
       "      <td>1</td>\n",
       "      <td>2</td>\n",
       "      <td>1.050307</td>\n",
       "      <td>-0.028064</td>\n",
       "      <td>0</td>\n",
       "      <td>1</td>\n",
       "      <td>-0.588640</td>\n",
       "      <td>0</td>\n",
       "      <td>-0.855469</td>\n",
       "      <td>2</td>\n",
       "      <td>0</td>\n",
       "    </tr>\n",
       "  </tbody>\n",
       "</table>\n",
       "</div>"
      ],
      "text/plain": [
       "        Age  Sex  ChestPainType  RestingBP  Cholesterol  FastingBS   \n",
       "0 -1.428154    1              1   0.465900     0.849636          0  \\\n",
       "1 -0.475855    0              2   1.634714    -0.168122          0   \n",
       "2 -1.745588    1              1  -0.118507     0.793612          0   \n",
       "3 -0.581666    0              0   0.349019     0.149344          0   \n",
       "4  0.053200    1              2   1.050307    -0.028064          0   \n",
       "\n",
       "   RestingECG     MaxHR  ExerciseAngina   Oldpeak  ST_Slope  HeartDisease  \n",
       "0           1  1.384320               0 -0.855469         2             0  \n",
       "1           1  0.752973               0  0.137516         1             1  \n",
       "2           2 -1.535661               0 -0.855469         2             0  \n",
       "3           1 -1.141069               1  0.634008         1             1  \n",
       "4           1 -0.588640               0 -0.855469         2             0  "
      ]
     },
     "execution_count": 383,
     "metadata": {},
     "output_type": "execute_result"
    }
   ],
   "source": [
    "# Scale the numeric columns using StandardScaler\n",
    "scaled_df = encoded_data.copy()\n",
    "\n",
    "scaler = StandardScaler()\n",
    "scaled_data = scaler.fit_transform(scaled_df[numeric_columns])\n",
    "scaled_df[numeric_columns] = scaled_data\n",
    "\n",
    "# Preview the scaled data\n",
    "scaled_df.head()"
   ]
  },
  {
   "cell_type": "markdown",
   "metadata": {},
   "source": [
    "Build a classification model using various methods (SVM, logistic regression, random forest) and check which model gives you the best accuracy"
   ]
  },
  {
   "cell_type": "code",
   "execution_count": 384,
   "metadata": {},
   "outputs": [],
   "source": [
    "# Seperate data and target\n",
    "X_h = scaled_df.drop(scaled_df.columns[-1], axis=1)\n",
    "y_h = scaled_df[scaled_df.columns[-1]]\n",
    "\n",
    "# Split data into train and test\n",
    "X_h_train, X_h_test, y_h_train, y_h_test = train_test_split(X_h, y_h, test_size=0.2)\n",
    "\n",
    "# Support Vector Classification model\n",
    "svc_model = SVC(kernel='linear', random_state=123)\n",
    "svc_model.fit(X_h_train, y_h_train)\n",
    "\n",
    "# Logistic regression model\n",
    "logistic_reg_model = LogisticRegression(random_state=123)\n",
    "logistic_reg_model.fit(X_h_train, y_h_train)\n",
    "\n",
    "# Random Forest model\n",
    "random_forest_model = RandomForestClassifier(random_state=123)\n",
    "random_forest_model.fit(X_h_train, y_h_train)\n",
    "\n",
    "# Evaluate models\n",
    "svc_model_accuracy = accuracy_score(y_h_test, svc_model.predict(X_h_test))\n",
    "logistic_reg_model_accuracy = accuracy_score(y_h_test, logistic_reg_model.predict(X_h_test))\n",
    "random_forest_model_accuracy = accuracy_score(y_h_test, random_forest_model.predict(X_h_test))"
   ]
  },
  {
   "cell_type": "markdown",
   "metadata": {},
   "source": [
    "Now use PCA to reduce dimensions, retrain your model and see its impact on your model in terms of accuracy."
   ]
  },
  {
   "cell_type": "code",
   "execution_count": 385,
   "metadata": {},
   "outputs": [],
   "source": [
    "# Fit PCA to the data\n",
    "pca = PCA()\n",
    "transformed_data = pca.fit_transform(X_h)\n",
    "\n",
    "# Calculate cumulative explained variance\n",
    "explained_variance = np.cumsum(pca.explained_variance_ratio_)\n",
    "\n",
    "# Determine the number of components that explain at least 95% variance\n",
    "n_components = np.argmax(explained_variance >= 0.95) + 1\n",
    "\n",
    "# Create a new PCA instance with the determined number of components\n",
    "pca = PCA(n_components=n_components)\n",
    "transformed_data = pca.fit_transform(X_h)\n",
    "\n",
    "# Create a new dataframe with the transformed data and the target column\n",
    "transformed_df = pd.DataFrame(transformed_data, columns=[f\"component_{i+1}\" for i in range(n_components)])\n",
    "transformed_df['target'] = y_h.values\n",
    "\n",
    "# Split the data into train and test sets\n",
    "X_train_pca, X_test_pca, y_train_pca, y_test_pca = train_test_split(transformed_df.drop(columns=['target']), y, test_size=0.2, random_state=42)"
   ]
  },
  {
   "cell_type": "code",
   "execution_count": 386,
   "metadata": {},
   "outputs": [],
   "source": [
    "# Support Vector Classification model\n",
    "svc_model_pca = SVC(kernel='linear', random_state=123)\n",
    "svc_model_pca.fit(X_train_pca, y_train_pca)\n",
    "\n",
    "# Logistic regression model\n",
    "logistic_reg_model_pca = LogisticRegression(random_state=123)\n",
    "logistic_reg_model_pca.fit(X_train_pca, y_train_pca)\n",
    "\n",
    "# Random Forest model\n",
    "random_forest_model_pca = RandomForestClassifier(random_state=123)\n",
    "random_forest_model_pca.fit(X_train_pca, y_train_pca)\n",
    "\n",
    "# Evaluate models\n",
    "svc_model_accuracy_pca = accuracy_score(y_test_pca, svc_model_pca.predict(X_test_pca))\n",
    "logistic_reg_model_accuracy_pca = accuracy_score(y_test_pca, logistic_reg_model_pca.predict(X_test_pca))\n",
    "random_forest_model_accuracy_pca = accuracy_score(y_test_pca, random_forest_model_pca.predict(X_test_pca))"
   ]
  },
  {
   "cell_type": "code",
   "execution_count": 387,
   "metadata": {},
   "outputs": [
    {
     "name": "stdout",
     "output_type": "stream",
     "text": [
      "SVC:  0.8333333333333334\n",
      "Logistic regression:  0.8277777777777777\n",
      "Random Forest:  0.8611111111111112\n"
     ]
    }
   ],
   "source": [
    "# Print the accuracy of each model\n",
    "print('SVC: ', svc_model_accuracy)\n",
    "print('Logistic regression: ', logistic_reg_model_accuracy)\n",
    "print('Random Forest: ', random_forest_model_accuracy)"
   ]
  },
  {
   "cell_type": "markdown",
   "metadata": {},
   "source": [
    "Random Forest model gives the best accuracy"
   ]
  },
  {
   "cell_type": "code",
   "execution_count": 388,
   "metadata": {},
   "outputs": [
    {
     "name": "stdout",
     "output_type": "stream",
     "text": [
      "SVC - PCA:  0.8555555555555555\n",
      "Logistic regression - PCA:  0.8444444444444444\n",
      "Random Forest - PCA:  0.8333333333333334\n"
     ]
    }
   ],
   "source": [
    "# Print the accuracy of each model - PCA\n",
    "print('SVC - PCA: ', svc_model_accuracy_pca)\n",
    "print('Logistic regression - PCA: ', logistic_reg_model_accuracy_pca)\n",
    "print('Random Forest - PCA: ', random_forest_model_accuracy_pca)"
   ]
  },
  {
   "cell_type": "markdown",
   "metadata": {},
   "source": [
    "PCA increase the accuracy for SVM and Logistic regression models, but reduced the accuracy for the Random Forest model"
   ]
  }
 ],
 "metadata": {
  "kernelspec": {
   "display_name": "CSCN8010_classic_ml1",
   "language": "python",
   "name": "cscn8010_classic_ml1"
  },
  "language_info": {
   "codemirror_mode": {
    "name": "ipython",
    "version": 3
   },
   "file_extension": ".py",
   "mimetype": "text/x-python",
   "name": "python",
   "nbconvert_exporter": "python",
   "pygments_lexer": "ipython3",
   "version": "3.9.7"
  },
  "orig_nbformat": 4
 },
 "nbformat": 4,
 "nbformat_minor": 2
}
