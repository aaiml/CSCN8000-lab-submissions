{
 "cells": [
  {
   "attachments": {},
   "cell_type": "markdown",
   "metadata": {},
   "source": [
    "## Lab:- 1 Dhrushil Patel(8862870)\n",
    "\n",
    "### Part:- A\n",
    "\n",
    "#### 1. Create a Notebook to demonstrate NumPy Operations."
   ]
  },
  {
   "cell_type": "code",
   "execution_count": 14,
   "metadata": {},
   "outputs": [],
   "source": [
    "# importing the required libraries\n",
    "import numpy as np"
   ]
  },
  {
   "attachments": {},
   "cell_type": "markdown",
   "metadata": {},
   "source": [
    "####  2. Create an array that starts from the integer 1, ends at 20, incremented by 3."
   ]
  },
  {
   "cell_type": "code",
   "execution_count": 15,
   "metadata": {},
   "outputs": [
    {
     "name": "stdout",
     "output_type": "stream",
     "text": [
      "[ 1  4  7 10 13 16 19]\n"
     ]
    }
   ],
   "source": [
    "# creating an array using arange function:\n",
    "arr1 = np.arange(1, 20, 3)\n",
    "print(arr1)"
   ]
  },
  {
   "attachments": {},
   "cell_type": "markdown",
   "metadata": {},
   "source": [
    "#### 3. Create a new array of shape 3 with random numbers between 0 and 1."
   ]
  },
  {
   "cell_type": "code",
   "execution_count": 16,
   "metadata": {},
   "outputs": [
    {
     "name": "stdout",
     "output_type": "stream",
     "text": [
      "[0.36855877 0.59335918 0.09144022]\n"
     ]
    }
   ],
   "source": [
    "# creating an array using random function:\n",
    "arr2 = np.random.rand(3)\n",
    "print(arr2)"
   ]
  },
  {
   "attachments": {},
   "cell_type": "markdown",
   "metadata": {},
   "source": [
    "#### 4. Create a 2 D array [[10,20,45], [30,12,16], [42,17,56]] and perform the following operations: \n",
    "     \n",
    "#### Slice the 2D array to get the first two rows, slice the 2D array to get the last two rows."
   ]
  },
  {
   "cell_type": "code",
   "execution_count": 17,
   "metadata": {},
   "outputs": [
    {
     "name": "stdout",
     "output_type": "stream",
     "text": [
      "[[10 20 45]\n",
      " [30 12 16]\n",
      " [42 17 56]]\n",
      "Dimenstions of the array:  2\n"
     ]
    }
   ],
   "source": [
    "# creating an array using array function:\n",
    "arr3 = np.array([[10,20,45], [30,12,16], [42,17,56]])\n",
    "print(arr3)\n",
    "\n",
    "# print dimention of the array\n",
    "print(\"Dimenstions of the array: \", arr3.ndim)"
   ]
  },
  {
   "cell_type": "code",
   "execution_count": 18,
   "metadata": {},
   "outputs": [
    {
     "name": "stdout",
     "output_type": "stream",
     "text": [
      "First two rows:\n",
      "  [[10 20 45]\n",
      " [30 12 16]]\n",
      "\n",
      "Last two rows:\n",
      "  [[30 12 16]\n",
      " [42 17 56]]\n"
     ]
    }
   ],
   "source": [
    "# Slice the 2D array to get the first two rows.\n",
    "print(\"First two rows:\\n \", arr3[:2])\n",
    "\n",
    "#slice the 2D array to get the last two rows.\n",
    "print(\"\\nLast two rows:\\n \", arr3[1:])"
   ]
  },
  {
   "attachments": {},
   "cell_type": "markdown",
   "metadata": {},
   "source": [
    "#### 5. Create two 2x2 arrays and demonstrate how you can stack the elements vertically, horizontally, and split the arrays into smaller arrays."
   ]
  },
  {
   "cell_type": "code",
   "execution_count": 19,
   "metadata": {},
   "outputs": [
    {
     "name": "stdout",
     "output_type": "stream",
     "text": [
      "Vertical stacking:\n",
      " [[21 22]\n",
      " [23 24]\n",
      " [25 26]\n",
      " [27 28]]\n",
      "\n",
      " Horizontal stacking:\n",
      " [[21 22 25 26]\n",
      " [23 24 27 28]]\n",
      "\n",
      " Splitting vertically:\n",
      " [array([[21, 22]]), array([[23, 24]])]\n",
      "\n",
      " Splitting horizontally:\n",
      " [array([[21],\n",
      "       [23]]), array([[22],\n",
      "       [24]])]\n"
     ]
    }
   ],
   "source": [
    "# Creating a 2x2 arrays:\n",
    "arr4 = np.array([[21, 22], [23, 24]])\n",
    "arr5 = np.array([[25, 26], [27, 28]])\n",
    "\n",
    "# Vertically stacking the arrays:\n",
    "print(\"Vertical stacking:\\n\", np.vstack((arr4, arr5)))\n",
    "\n",
    "# Horizontally stacking the arrays:\n",
    "print(\"\\n Horizontal stacking:\\n\", np.hstack((arr4, arr5)))\n",
    "\n",
    "# Splititing the vertical array:\n",
    "print(\"\\n Splitting vertically:\\n\", np.vsplit(arr4, 2))\n",
    "\n",
    "# Splitting the horizontal array:\n",
    "print(\"\\n Splitting horizontally:\\n\", np.hsplit(arr4, 2))\n",
    "\n"
   ]
  },
  {
   "attachments": {},
   "cell_type": "markdown",
   "metadata": {},
   "source": [
    "#### 6. Create two matrices X= ([[5, 7, 2], [4, 5, 6], [7, 4 ,2]]) Y= ([[4, 2], [6, 2], [4, 2]]), Is it possible to multiply these matrices? "
   ]
  },
  {
   "cell_type": "code",
   "execution_count": 20,
   "metadata": {},
   "outputs": [
    {
     "name": "stdout",
     "output_type": "stream",
     "text": [
      "Shape of matrix A:  (3, 3)\n",
      "Shape of matrix B:  (3, 2)\n",
      "\n",
      " Multiplication of two matrices:\n",
      " [[ 84  90]\n",
      " [201 216]\n",
      " [318 342]]\n",
      "\n",
      " Shape of the final product:  (3, 2)\n"
     ]
    }
   ],
   "source": [
    "# Creating the two matrices:\n",
    "A = np.array([[1, 2, 3], [4, 5, 6], [7, 8, 9]])\n",
    "B = np.array([[10, 11], [13, 14], [16, 17]])\n",
    "\n",
    "# Print the Shape to these matrices:\n",
    "print(\"Shape of matrix A: \", A.shape)\n",
    "print(\"Shape of matrix B: \", B.shape)\n",
    "\n",
    "# Multiplying these two matrices:\n",
    "print(\"\\n Multiplication of two matrices:\\n\", np.dot(A, B))\n",
    "\n",
    "# print the shape of final product:\n",
    "print(\"\\n Shape of the final product: \", np.dot(A, B).shape)\n"
   ]
  },
  {
   "attachments": {},
   "cell_type": "markdown",
   "metadata": {},
   "source": [
    "So as per the upper out put we can say that we can do multilication with A and B matrix because in both of them have 3 row and 3 coloums, however in secound view we cany multipley B with A because the coloume and raw values are not matches with other."
   ]
  },
  {
   "attachments": {},
   "cell_type": "markdown",
   "metadata": {},
   "source": [
    "#### 7. Create two arrays, x = ([2, -1, -8]) y = ([3, 1, -2]), Find the Shape, Number of dimensions of vector x.\n",
    "     \n",
    "#### Reshape the vector x to a matrix of size (3,1) and determine the number of dimensions after reshaping y to a matrix of (3,1)."
   ]
  },
  {
   "cell_type": "code",
   "execution_count": 21,
   "metadata": {},
   "outputs": [
    {
     "name": "stdout",
     "output_type": "stream",
     "text": [
      "Shape of vector x:  (3,)\n",
      "Shape of vector y:  (3,)\n",
      "\n",
      "Dimensions of vector x:  1\n",
      "Dimensions of vector y:  1\n",
      "\n",
      "x after reshaping:\n",
      " [[ 2]\n",
      " [-1]\n",
      " [-8]]\n",
      "y after reshaping:\n",
      " [[ 3]\n",
      " [ 1]\n",
      " [-2]]\n",
      "\n",
      "Shape of x after reshaping:  (3, 1)\n",
      "Shape of y after reshaping:  (3, 1)\n",
      "\n",
      "Dimensions of x after reshaping:  2\n",
      "Dimensions of y after reshaping:  2\n"
     ]
    }
   ],
   "source": [
    "# Creating the two arrays x and y:\n",
    "x = np.array([2, -1, -8])\n",
    "y = np.array([3, 1, -2])\n",
    "\n",
    "# Shape of the vector x and y:\n",
    "print(\"Shape of vector x: \", x.shape)\n",
    "print(\"Shape of vector y: \", y.shape)\n",
    "\n",
    "# Dimensions of vector x and y:\n",
    "print(\"\\nDimensions of vector x: \", x.ndim)\n",
    "print(\"Dimensions of vector y: \", y.ndim)\n",
    "\n",
    "# Reshaping x and y to a matrix of size (3,1):\n",
    "x = x.reshape(3, 1)\n",
    "y = y.reshape(3, 1)\n",
    "\n",
    "# Printing out x and y after reshaping:\n",
    "print(\"\\nx after reshaping:\\n\", x)\n",
    "print(\"y after reshaping:\\n\", y)\n",
    "\n",
    "# Printing out the shape of x and y after reshaping:\n",
    "print(\"\\nShape of x after reshaping: \", x.shape)\n",
    "print(\"Shape of y after reshaping: \", y.shape)\n",
    "\n",
    "# Printing out the dimensions of both x and y after reshaping:\n",
    "print(\"\\nDimensions of x after reshaping: \", x.ndim)\n",
    "print(\"Dimensions of y after reshaping: \", y.ndim)\n"
   ]
  },
  {
   "attachments": {},
   "cell_type": "markdown",
   "metadata": {},
   "source": [
    "####  8. How does broadcasting work? Demonstrate the subtraction, multiplication by considering a 3 x 3 matrix."
   ]
  },
  {
   "attachments": {},
   "cell_type": "markdown",
   "metadata": {},
   "source": [
    "The phrase \"broadcasting\" refers to how Numpy handles exhibits with different forms when doing math operations. Numpy vectorizes the illustrated scenario by iterating over the lattice component by component whenever any math operation is done to a grid."
   ]
  },
  {
   "cell_type": "code",
   "execution_count": 22,
   "metadata": {},
   "outputs": [
    {
     "name": "stdout",
     "output_type": "stream",
     "text": [
      "Subtraction by broadcasting:\n",
      " [[11 12 13]\n",
      " [14 15 16]\n",
      " [17 18 19]]\n",
      "\n",
      "Multiplication by broadcasting:\n",
      " [[210 220 230]\n",
      " [240 250 260]\n",
      " [270 280 290]]\n"
     ]
    }
   ],
   "source": [
    "# Demonstrating arithematic operations with a 3 x 3 matrix\n",
    "# Creating a 3 x 3 matrix:\n",
    "A = np.array([[21, 22, 23], [24, 25, 26], [27, 28, 29]])\n",
    "B = 10\n",
    "\n",
    "# Illustrating the subtraction by broadcasting:\n",
    "print(\"Subtraction by broadcasting:\\n\", A - B)\n",
    "\n",
    "# Illustrating the multiplication by broadcasting:\n",
    "print(\"\\nMultiplication by broadcasting:\\n\", A * B)"
   ]
  },
  {
   "attachments": {},
   "cell_type": "markdown",
   "metadata": {},
   "source": [
    "### Part:- B\n",
    "\n",
    "#### 1. Solve the following two system of linear equations using matrices (find the values of x1 and x2) and \n",
    "#### determine the number of solutions using the functions. \n",
    "\n",
    "#### 1.2x1+3x2-4x3=6,x1-4x2=8\n",
    "#### 2. 3y1-4y2+5y3=10,-y1+2y2-4y3=8"
   ]
  },
  {
   "cell_type": "code",
   "execution_count": 23,
   "metadata": {},
   "outputs": [
    {
     "ename": "LinAlgError",
     "evalue": "Last 2 dimensions of the array must be square",
     "output_type": "error",
     "traceback": [
      "\u001b[1;31m---------------------------------------------------------------------------\u001b[0m",
      "\u001b[1;31mLinAlgError\u001b[0m                               Traceback (most recent call last)",
      "Cell \u001b[1;32mIn[23], line 7\u001b[0m\n\u001b[0;32m      4\u001b[0m B \u001b[39m=\u001b[39m np\u001b[39m.\u001b[39marray([\u001b[39m6\u001b[39m, \u001b[39m8\u001b[39m])\n\u001b[0;32m      6\u001b[0m \u001b[39m# Solving the system of linear equation:\u001b[39;00m\n\u001b[1;32m----> 7\u001b[0m \u001b[39mprint\u001b[39m(\u001b[39m\"\u001b[39m\u001b[39mSolution of the system of linear equation:\u001b[39m\u001b[39m\\n\u001b[39;00m\u001b[39m\"\u001b[39m, np\u001b[39m.\u001b[39;49mlinalg\u001b[39m.\u001b[39;49msolve(A, B))\n",
      "File \u001b[1;32m<__array_function__ internals>:200\u001b[0m, in \u001b[0;36msolve\u001b[1;34m(*args, **kwargs)\u001b[0m\n",
      "File \u001b[1;32md:\\CSCN8010\\CSCN8010\\venv\\CSCN8010_classic_ml\\Lib\\site-packages\\numpy\\linalg\\linalg.py:373\u001b[0m, in \u001b[0;36msolve\u001b[1;34m(a, b)\u001b[0m\n\u001b[0;32m    371\u001b[0m a, _ \u001b[39m=\u001b[39m _makearray(a)\n\u001b[0;32m    372\u001b[0m _assert_stacked_2d(a)\n\u001b[1;32m--> 373\u001b[0m _assert_stacked_square(a)\n\u001b[0;32m    374\u001b[0m b, wrap \u001b[39m=\u001b[39m _makearray(b)\n\u001b[0;32m    375\u001b[0m t, result_t \u001b[39m=\u001b[39m _commonType(a, b)\n",
      "File \u001b[1;32md:\\CSCN8010\\CSCN8010\\venv\\CSCN8010_classic_ml\\Lib\\site-packages\\numpy\\linalg\\linalg.py:190\u001b[0m, in \u001b[0;36m_assert_stacked_square\u001b[1;34m(*arrays)\u001b[0m\n\u001b[0;32m    188\u001b[0m m, n \u001b[39m=\u001b[39m a\u001b[39m.\u001b[39mshape[\u001b[39m-\u001b[39m\u001b[39m2\u001b[39m:]\n\u001b[0;32m    189\u001b[0m \u001b[39mif\u001b[39;00m m \u001b[39m!=\u001b[39m n:\n\u001b[1;32m--> 190\u001b[0m     \u001b[39mraise\u001b[39;00m LinAlgError(\u001b[39m'\u001b[39m\u001b[39mLast 2 dimensions of the array must be square\u001b[39m\u001b[39m'\u001b[39m)\n",
      "\u001b[1;31mLinAlgError\u001b[0m: Last 2 dimensions of the array must be square"
     ]
    }
   ],
   "source": [
    "# Solving Eq 1:\n",
    "# Creating the matrices:\n",
    "A = np.array([[1.2, 3, -4], [1, -4, 0]])\n",
    "B = np.array([6, 8])\n",
    "\n",
    "# Solving the system of linear equation:\n",
    "print(\"Solution of the system of linear equation:\\n\", np.linalg.solve(A, B))\n",
    "\n"
   ]
  },
  {
   "cell_type": "code",
   "execution_count": null,
   "metadata": {},
   "outputs": [
    {
     "name": "stdout",
     "output_type": "stream",
     "text": [
      "Shape of EQ-A:  (2, 3)\n"
     ]
    }
   ],
   "source": [
    "print(\"Shape of EQ-A: \", A.shape)"
   ]
  },
  {
   "attachments": {},
   "cell_type": "markdown",
   "metadata": {},
   "source": [
    "The error message \"LinAlgError: Last 2 Elements of the Exhibit Should Be Square\" reveals a problem with the code. The network eq1 is unquestionably not a square lattice, hence the number of lines isn't equal to the number of segments, which causes an error when using the linalg.solve feature.\n",
    "\n",
    "The network \"EQ-A\" in our instance is not square since it consists of two lines and three sections. We are unable to compute its determinant since the grid isn't square. Whether a lattice is solitary or non-particular must be determined by the determinant."
   ]
  },
  {
   "cell_type": "code",
   "execution_count": 24,
   "metadata": {},
   "outputs": [
    {
     "ename": "LinAlgError",
     "evalue": "Last 2 dimensions of the array must be square",
     "output_type": "error",
     "traceback": [
      "\u001b[1;31m---------------------------------------------------------------------------\u001b[0m",
      "\u001b[1;31mLinAlgError\u001b[0m                               Traceback (most recent call last)",
      "Cell \u001b[1;32mIn[24], line 7\u001b[0m\n\u001b[0;32m      4\u001b[0m B \u001b[39m=\u001b[39m np\u001b[39m.\u001b[39marray([\u001b[39m10\u001b[39m, \u001b[39m8\u001b[39m])\n\u001b[0;32m      6\u001b[0m \u001b[39m# Solving the system of linear equation:\u001b[39;00m\n\u001b[1;32m----> 7\u001b[0m \u001b[39mprint\u001b[39m(\u001b[39m\"\u001b[39m\u001b[39mSolution of the system of linear equation:\u001b[39m\u001b[39m\\n\u001b[39;00m\u001b[39m\"\u001b[39m, np\u001b[39m.\u001b[39;49mlinalg\u001b[39m.\u001b[39;49msolve(A, B))\n",
      "File \u001b[1;32m<__array_function__ internals>:200\u001b[0m, in \u001b[0;36msolve\u001b[1;34m(*args, **kwargs)\u001b[0m\n",
      "File \u001b[1;32md:\\CSCN8010\\CSCN8010\\venv\\CSCN8010_classic_ml\\Lib\\site-packages\\numpy\\linalg\\linalg.py:373\u001b[0m, in \u001b[0;36msolve\u001b[1;34m(a, b)\u001b[0m\n\u001b[0;32m    371\u001b[0m a, _ \u001b[39m=\u001b[39m _makearray(a)\n\u001b[0;32m    372\u001b[0m _assert_stacked_2d(a)\n\u001b[1;32m--> 373\u001b[0m _assert_stacked_square(a)\n\u001b[0;32m    374\u001b[0m b, wrap \u001b[39m=\u001b[39m _makearray(b)\n\u001b[0;32m    375\u001b[0m t, result_t \u001b[39m=\u001b[39m _commonType(a, b)\n",
      "File \u001b[1;32md:\\CSCN8010\\CSCN8010\\venv\\CSCN8010_classic_ml\\Lib\\site-packages\\numpy\\linalg\\linalg.py:190\u001b[0m, in \u001b[0;36m_assert_stacked_square\u001b[1;34m(*arrays)\u001b[0m\n\u001b[0;32m    188\u001b[0m m, n \u001b[39m=\u001b[39m a\u001b[39m.\u001b[39mshape[\u001b[39m-\u001b[39m\u001b[39m2\u001b[39m:]\n\u001b[0;32m    189\u001b[0m \u001b[39mif\u001b[39;00m m \u001b[39m!=\u001b[39m n:\n\u001b[1;32m--> 190\u001b[0m     \u001b[39mraise\u001b[39;00m LinAlgError(\u001b[39m'\u001b[39m\u001b[39mLast 2 dimensions of the array must be square\u001b[39m\u001b[39m'\u001b[39m)\n",
      "\u001b[1;31mLinAlgError\u001b[0m: Last 2 dimensions of the array must be square"
     ]
    }
   ],
   "source": [
    "# Solving Eq 2:\n",
    "# Creating the matrices:\n",
    "A = np.array([[3, -4, 5], [-1, 2, -4]])\n",
    "B = np.array([10, 8])\n",
    "\n",
    "# Solving the system of linear equation:\n",
    "print(\"Solution of the system of linear equation:\\n\", np.linalg.solve(A, B))"
   ]
  },
  {
   "cell_type": "code",
   "execution_count": 25,
   "metadata": {},
   "outputs": [
    {
     "name": "stdout",
     "output_type": "stream",
     "text": [
      "Shape of EQ-2:  (2, 3)\n"
     ]
    }
   ],
   "source": [
    "print(\"Shape of EQ-2: \", A.shape)"
   ]
  },
  {
   "attachments": {},
   "cell_type": "markdown",
   "metadata": {},
   "source": [
    "Due to a similar rationale, an error also occurs in this configuration. The fact that the structure \"EQ-2\" includes 2 lines and 3 sections further demonstrates that it is not a square lattice. Therefore, this condition is intractable, and we are unable to determine how many possible solutions there are."
   ]
  }
 ],
 "metadata": {
  "kernelspec": {
   "display_name": "CSCN8010_classic_ml",
   "language": "python",
   "name": "cscn8010_classic_ml"
  },
  "language_info": {
   "codemirror_mode": {
    "name": "ipython",
    "version": 3
   },
   "file_extension": ".py",
   "mimetype": "text/x-python",
   "name": "python",
   "nbconvert_exporter": "python",
   "pygments_lexer": "ipython3",
   "version": "3.11.3"
  },
  "orig_nbformat": 4
 },
 "nbformat": 4,
 "nbformat_minor": 2
}
