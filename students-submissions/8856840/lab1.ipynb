{
 "cells": [
  {
   "attachments": {},
   "cell_type": "markdown",
   "metadata": {},
   "source": [
    "# **Practical Lab-1 Dwarakanath Chandra (8856840)**"
   ]
  },
  {
   "attachments": {},
   "cell_type": "markdown",
   "metadata": {},
   "source": [
    "# **Basic Numpy Operations**"
   ]
  },
  {
   "attachments": {},
   "cell_type": "markdown",
   "metadata": {},
   "source": [
    "## **Part-A**"
   ]
  },
  {
   "attachments": {},
   "cell_type": "markdown",
   "metadata": {},
   "source": [
    "#### **1. Create a Notebook to demonstrate NumPy Operations.**"
   ]
  },
  {
   "attachments": {},
   "cell_type": "markdown",
   "metadata": {},
   "source": [
    "lab1.ipynb in the subfolder 8856840 inside student_submissions is the jupyter notebook created to demonstrate Numpy Operations."
   ]
  },
  {
   "cell_type": "code",
   "execution_count": 21,
   "metadata": {},
   "outputs": [],
   "source": [
    "# Importing numpy package as np\n",
    "\n",
    "import numpy as np"
   ]
  },
  {
   "attachments": {},
   "cell_type": "markdown",
   "metadata": {},
   "source": [
    "#### **2. Create an array that starts from the integer 1, ends at 20, incremented by 3.**"
   ]
  },
  {
   "cell_type": "code",
   "execution_count": 22,
   "metadata": {},
   "outputs": [
    {
     "data": {
      "text/plain": [
       "array([ 1,  4,  7, 10, 13, 16, 19])"
      ]
     },
     "execution_count": 22,
     "metadata": {},
     "output_type": "execute_result"
    }
   ],
   "source": [
    "np.arange(start = 1, stop = 20, step = 3) # Create an array starts with 1 ends at 20 with a difference of 3 between successive elements"
   ]
  },
  {
   "attachments": {},
   "cell_type": "markdown",
   "metadata": {},
   "source": [
    "#### **3. Create a new array of shape 3 with random numbers between 0 and 1.**"
   ]
  },
  {
   "cell_type": "code",
   "execution_count": 23,
   "metadata": {},
   "outputs": [
    {
     "data": {
      "text/plain": [
       "array([0.28520257, 0.21662104, 0.93135006])"
      ]
     },
     "execution_count": 23,
     "metadata": {},
     "output_type": "execute_result"
    }
   ],
   "source": [
    "np.random.rand(3) # Generates 3 random values between 0 and 1"
   ]
  },
  {
   "attachments": {},
   "cell_type": "markdown",
   "metadata": {},
   "source": [
    "#### **4. Create a 2 D array [[10,20,45], [30,12,16], [42,17,56]] and perform the following operations:**\n",
    "     \n",
    "##### **Slice the 2D array to get the first two rows**\n",
    "##### **Slice the 2D array to get the last two rows**"
   ]
  },
  {
   "cell_type": "code",
   "execution_count": 24,
   "metadata": {},
   "outputs": [
    {
     "name": "stdout",
     "output_type": "stream",
     "text": [
      "[[10 20 45]\n",
      " [30 12 16]\n",
      " [42 17 56]]\n",
      "The dimensions of the arr1:  2\n"
     ]
    }
   ],
   "source": [
    "arr1 = np.array([[10,20,45], [30,12,16], [42,17,56]]) # Creating a 3 X 3 matrix in 2 dimensions.\n",
    "print(arr1)\n",
    "print(\"The dimensions of the arr1: \", arr1.ndim) # ndim will give dimensions of a matrix"
   ]
  },
  {
   "cell_type": "code",
   "execution_count": 25,
   "metadata": {},
   "outputs": [
    {
     "data": {
      "text/plain": [
       "array([[10, 20, 45],\n",
       "       [30, 12, 16]])"
      ]
     },
     "execution_count": 25,
     "metadata": {},
     "output_type": "execute_result"
    }
   ],
   "source": [
    "# 4.a) Slicing the 2D-array arr1 to extract first 2 rows\n",
    "\n",
    "arr1[:2,:] # Slices the rows with index 0 and 1 and excludes row with index 2 and selects all column elements"
   ]
  },
  {
   "cell_type": "code",
   "execution_count": 26,
   "metadata": {},
   "outputs": [
    {
     "data": {
      "text/plain": [
       "array([[30, 12, 16],\n",
       "       [42, 17, 56]])"
      ]
     },
     "execution_count": 26,
     "metadata": {},
     "output_type": "execute_result"
    }
   ],
   "source": [
    "# 4.b) Slicing the 2D-array arr1 to extract last 2 rows\n",
    "\n",
    "arr1[-2:,:] # Slices the last 2 rows of the matrix irrespective of number of rows and also selects all column elements."
   ]
  },
  {
   "attachments": {},
   "cell_type": "markdown",
   "metadata": {},
   "source": [
    "#### **5. Create two 2x2 arrays and demonstrate how you can stack the elements vertically, horizontally, and split the arrays into smaller arrays.**"
   ]
  },
  {
   "cell_type": "code",
   "execution_count": 27,
   "metadata": {},
   "outputs": [
    {
     "name": "stdout",
     "output_type": "stream",
     "text": [
      "The horizontally stacked array is : \n",
      " [[11 12 15 16]\n",
      " [13 14 17 18]]\n",
      "The vertically stacked array is : \n",
      " [[11 12]\n",
      " [13 14]\n",
      " [15 16]\n",
      " [17 18]]\n",
      "The splitted arrays generated from h_array splitting are: \n",
      " [array([[11],\n",
      "       [13]]), array([[12],\n",
      "       [14]]), array([[15],\n",
      "       [17]]), array([[16],\n",
      "       [18]])]\n",
      "The splitted arrays generated from v_array splitting are: \n",
      " [array([[11, 12]]), array([[13, 14]]), array([[15, 16]]), array([[17, 18]])]\n"
     ]
    }
   ],
   "source": [
    "arr_1 = np.array([[11,12],[13,14]])\n",
    "arr_2 = np.array([[15,16],[17,18]])\n",
    "\n",
    "# Stacking the arr_1 & arr_2 horizontally\n",
    "\n",
    "h_array = np.hstack([arr_1,arr_2])\n",
    "print(\"The horizontally stacked array is : \\n\", h_array)\n",
    "# Stacking the arr_1 & arr_2 vertically\n",
    "v_array = np.vstack([arr_1,arr_2])\n",
    "print(\"The vertically stacked array is : \\n\", v_array)\n",
    "\n",
    "# Splitting the 2 x 4 horizontally stacked array into 4 smaller arrays along the columns\n",
    "\n",
    "split_h_array = np.array_split(h_array, indices_or_sections = 4, axis = 1) # Similar to np.vsplit(h_array, 4)\n",
    "print(\"The splitted arrays generated from h_array splitting are: \\n\", split_h_array)\n",
    "\n",
    "# Splitting the 4 x 2 horizontally stacked array into 4 smaller arrays along the rows\n",
    "\n",
    "split_v_array = np.array_split(v_array, indices_or_sections=4, axis = 0) # Similar to np.hsplit(v_array, 4)\n",
    "print(\"The splitted arrays generated from v_array splitting are: \\n\", split_v_array)"
   ]
  },
  {
   "attachments": {},
   "cell_type": "markdown",
   "metadata": {},
   "source": [
    "#### **6. Create two matrices X= ([[5, 7, 2], [4, 5, 6], [7, 4 ,2]]) Y= ([[4, 2], [6, 2], [4, 2]]), Is it possible to multiply these matrices? Demonstrate the case when it is not possible to.**"
   ]
  },
  {
   "cell_type": "code",
   "execution_count": 28,
   "metadata": {},
   "outputs": [
    {
     "name": "stdout",
     "output_type": "stream",
     "text": [
      "The shape of X matrix is: \n",
      " (3, 3)\n",
      "The shape of Y matrix is: \n",
      " (3, 2)\n",
      "The product of X and Y is a 3 X 2 matrix: \n",
      " [[70 28]\n",
      " [70 30]\n",
      " [60 26]]\n",
      "However, we can't multiple Y with X because there are 2 columns in Y matrix and 3 rows in the X matrix.\n",
      "As the count of columns in Y is not matching with count of rows in X, multiplication of Y with X matrix will not be possible in matrix algebra.\n",
      "Hence, np.matmul(Y, X) is not possible\n"
     ]
    }
   ],
   "source": [
    "# Creating the X and Y matrices\n",
    "\n",
    "X = np.array([[5, 7, 2], [4, 5, 6], [7, 4 ,2]])\n",
    "Y = np.array([[4, 2], [6, 2], [4, 2]])\n",
    "print(\"The shape of X matrix is: \\n\", X.shape)\n",
    "print(\"The shape of Y matrix is: \\n\", Y.shape)\n",
    "\n",
    "# Multiply X and Y matrices\n",
    "\n",
    "# As the number of columns in X matrix is equal to the number of rows in Y matrix, we can multiply X with Y\n",
    "\n",
    "Z = np.matmul(X, Y) # we can achieve the same with Z = X @ Y  or Z = X.dot(Y)\n",
    "\n",
    "print(\"The product of X and Y is a 3 X 2 matrix: \\n\", Z)\n",
    "\n",
    "print(\"However, we can't multiple Y with X because there are 2 columns in Y matrix and 3 rows in the X matrix.\\nAs the count of columns in Y is not matching with count of rows in X, multiplication of Y with X matrix will not be possible in matrix algebra.\\nHence, np.matmul(Y, X) is not possible\")"
   ]
  },
  {
   "attachments": {},
   "cell_type": "markdown",
   "metadata": {},
   "source": [
    "#### **7.Create two arrays, x = ([2, -1, -8]) y = ([3, 1, -2]), Find the Shape, Number of dimensions of vector x**\n",
    "     \n",
    "#### **Reshape the vector x to a matrix of size (3,1) and determine the number of dimensions after reshaping y to a matrix of (3,1).**"
   ]
  },
  {
   "cell_type": "code",
   "execution_count": 29,
   "metadata": {},
   "outputs": [
    {
     "name": "stdout",
     "output_type": "stream",
     "text": [
      "The shape of x is: \n",
      " (3,)\n",
      "The dimension of matrix x is: \n",
      " 1\n",
      "The reshaped matrix x is: \n",
      " [[ 2]\n",
      " [-1]\n",
      " [-8]]\n",
      "The reshaped matrix y is: \n",
      " [[ 3]\n",
      " [ 1]\n",
      " [-2]]\n",
      "The dimensions of y_reshaped is: \n",
      " 2\n"
     ]
    }
   ],
   "source": [
    "# Creating the arrays X and Y\n",
    "\n",
    "x = np.array([2, -1, -8])\n",
    "y = np.array([3, 1, -2])\n",
    "\n",
    "# Finding the shape and dimension of x\n",
    "print(\"The shape of x is: \\n\", x.shape)\n",
    "print(\"The dimension of matrix x is: \\n\", x.ndim)\n",
    "\n",
    "# Reshaping the vector x and y to a matrix of size (3,1)\n",
    "x_reshaped = x.reshape(3,1)\n",
    "y_reshaped = y.reshape(3,1)\n",
    "print(\"The reshaped matrix x is: \\n\", x_reshaped)\n",
    "print(\"The reshaped matrix y is: \\n\", y_reshaped)\n",
    "\n",
    "# Finding the number of dimensions of y_reshaped\n",
    "print(\"The dimensions of y_reshaped is: \\n\", y_reshaped.ndim)"
   ]
  },
  {
   "attachments": {},
   "cell_type": "markdown",
   "metadata": {},
   "source": [
    "#### **8. How does broadcasting work? Demonstrate the subtraction, multiplication by considering a 3 x 3 matrix.**"
   ]
  },
  {
   "attachments": {},
   "cell_type": "markdown",
   "metadata": {},
   "source": [
    "#### **Broadcasting:**\n",
    "##### When any arithmetic operation is applied on a matrix, numpy vectorizes the array operation by looping through the matrix element by element. This process is called as broadcasting."
   ]
  },
  {
   "cell_type": "code",
   "execution_count": 30,
   "metadata": {},
   "outputs": [
    {
     "name": "stdout",
     "output_type": "stream",
     "text": [
      "The matrix subtraction will happen element by element due to broadcasting and the result is: \n",
      " [[ 8  9 10]\n",
      " [11 12 13]\n",
      " [14 15 16]]\n",
      "The matrix multiplication will happen element by element due to broadcasting and the result is: \n",
      " [[20 22 24]\n",
      " [26 28 30]\n",
      " [32 34 36]]\n"
     ]
    }
   ],
   "source": [
    "# Consider a 3 x 3 matrix\n",
    "\n",
    "mat_a = np.array([[10,11,12],[13,14,15],[16,17,18]])\n",
    "b = 2 # Though b is defined as a scalar, numpy automatically consider it as a vector during array operations (vectorization)\n",
    "\n",
    "# Illustrating the subtraction by broadcasting\n",
    "\n",
    "mat_sub = mat_a - b\n",
    "print(\"The matrix subtraction will happen element by element due to broadcasting and the result is: \\n\", mat_sub)\n",
    "\n",
    "# Illustrate Multiplication by broadcasting\n",
    "\n",
    "mat_mul = mat_a * b\n",
    "print(\"The matrix multiplication will happen element by element due to broadcasting and the result is: \\n\", mat_mul)"
   ]
  },
  {
   "attachments": {},
   "cell_type": "markdown",
   "metadata": {},
   "source": [
    "## **Part-B**"
   ]
  },
  {
   "attachments": {},
   "cell_type": "markdown",
   "metadata": {},
   "source": [
    "#### **1.Solve the following two system of linear equations using matrices (find the values of x1 and x2) and determine the number of solutions using the functions.**\n",
    "##### **2x1+3x2-4x3=6, x1-4x2=8**\n",
    "##### **3y1-4y2+5y3=10,-y1+2y2-4y3=8**"
   ]
  },
  {
   "attachments": {},
   "cell_type": "markdown",
   "metadata": {},
   "source": [
    "### **Part-B 1A Solution:**"
   ]
  },
  {
   "cell_type": "code",
   "execution_count": 31,
   "metadata": {},
   "outputs": [
    {
     "name": "stdout",
     "output_type": "stream",
     "text": [
      "The shape of A matrix is: \n",
      " (2, 3)\n",
      "The shape of B matrix is: \n",
      " (2,)\n"
     ]
    }
   ],
   "source": [
    "# Defining the feature matrix for given set of solutions 2x1+3x2-4x3 = 6; x1-4x2+0x3 = 8\n",
    "\n",
    "A = np.array([[2,3,-4],[1,-4,0]])\n",
    "\n",
    "# Defining the constants matrix for given set of equations\n",
    "\n",
    "B = np.array([6,8])\n",
    "\n",
    "print(\"The shape of A matrix is: \\n\", A.shape)\n",
    "print(\"The shape of B matrix is: \\n\", B.shape)\n"
   ]
  },
  {
   "attachments": {},
   "cell_type": "markdown",
   "metadata": {},
   "source": [
    "##### **Checking the singularity of A matrix**\n",
    "\n",
    "##### det_X = np.linalg.det(A)\n",
    "\n",
    "##### To find the singularity of matrix A, we need to ensure the determinant of matrix A is a non-zero value.\n",
    "##### However, the shape of A matrix is 2 x 3, which is a non-square matrix. Hence, we can't calculate the determinant.\n",
    "##### Without finding the determinant, we can't apply inverse operation to matrix A and we don't have the idea whether we have no solutions, finite solutions, or infinite solutions.\n",
    "##### To find the solution matrix [x1, x2, x3], we need to find the inverse of A and multiply with matrix B.\n",
    "##### As we can't inverse the matrix A, it is impossible to find the solution for [x1, x2, x3]\n",
    "##### If we could have find determinant and ensure it is non-zero value, we can apply np.linalg.solve(A, B) to find the solution matrix.\n",
    "##### This is an alternate method to find the solution matrix using numpy operations.\n"
   ]
  },
  {
   "attachments": {},
   "cell_type": "markdown",
   "metadata": {},
   "source": [
    "### **Part-B 1B Solution:**"
   ]
  },
  {
   "cell_type": "code",
   "execution_count": 32,
   "metadata": {},
   "outputs": [
    {
     "name": "stdout",
     "output_type": "stream",
     "text": [
      "The shape of P matrix is: \n",
      " (2, 3)\n",
      "The shape of Q matrix is: \n",
      " (2,)\n"
     ]
    }
   ],
   "source": [
    "# Defining the feature matrix for given set of solutions 3y1-4y2+5y3 = 10; -y1+2y2-4y3 = 8\n",
    "\n",
    "P = np.array([[3,-4,5],[-1,2,-4]])\n",
    "\n",
    "# Defining the constants matrix for given set of equations\n",
    "\n",
    "Q = np.array([10,8])\n",
    "\n",
    "print(\"The shape of P matrix is: \\n\", P.shape)\n",
    "print(\"The shape of Q matrix is: \\n\", Q.shape)"
   ]
  },
  {
   "attachments": {},
   "cell_type": "markdown",
   "metadata": {},
   "source": [
    "##### **Checking the singularity of P matrix**\n",
    "\n",
    "##### This case is similar to the previous case.\n",
    "\n",
    "##### det_X = np.linalg.det(P)\n",
    "\n",
    "##### To find the singularity of matrix P, we need to ensure the determinant of matrix P is a non-zero value.\n",
    "##### However, the shape of P matrix is 2 x 3, which is a non-square matrix. Hence, we can't calculate the determinant.\n",
    "##### Without finding the determinant, we can't apply inverse operation to matrix P and we don't have the idea whether we have no solutions, finite solutions, or infinite solutions.\n",
    "##### To find the solution matrix [y1, y2, y3], we need to find the inverse of P and multiply with matrix Q.\n",
    "##### As we can't inverse the matrix P, it is impossible to find the solution for [y1, y2, y3]\n",
    "##### If we could have find determinant and ensure it is non-zero value, we can apply np.linalg.solve(P,Q) to find the solution matrix.\n",
    "##### This is an alternate method to find the solution matrix using numpy operations.\n"
   ]
  }
 ],
 "metadata": {
  "kernelspec": {
   "display_name": "CSCN8010_classic_ml",
   "language": "python",
   "name": "python3"
  },
  "language_info": {
   "codemirror_mode": {
    "name": "ipython",
    "version": 3
   },
   "file_extension": ".py",
   "mimetype": "text/x-python",
   "name": "python",
   "nbconvert_exporter": "python",
   "pygments_lexer": "ipython3",
   "version": "3.10.4"
  },
  "orig_nbformat": 4
 },
 "nbformat": 4,
 "nbformat_minor": 2
}
