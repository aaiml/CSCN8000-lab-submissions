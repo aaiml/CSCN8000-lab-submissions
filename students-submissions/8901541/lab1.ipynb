{
 "cells": [
  {
   "cell_type": "code",
   "execution_count": 1,
   "metadata": {},
   "outputs": [],
   "source": [
    "import numpy as np"
   ]
  },
  {
   "attachments": {},
   "cell_type": "markdown",
   "metadata": {},
   "source": [
    "**Creating a Array starting from 1, ending at 20, Increment by 3**"
   ]
  },
  {
   "cell_type": "code",
   "execution_count": 2,
   "metadata": {},
   "outputs": [
    {
     "name": "stdout",
     "output_type": "stream",
     "text": [
      "Array 1: [ 1  4  7 10 13 16 19]\n"
     ]
    }
   ],
   "source": [
    "arr1 = np.arange(1, 21, 3)\n",
    "print(\"Array 1:\", arr1)"
   ]
  },
  {
   "attachments": {},
   "cell_type": "markdown",
   "metadata": {},
   "source": [
    "**Create a new array of shape 3 with random numbers between 0 and 1**"
   ]
  },
  {
   "cell_type": "code",
   "execution_count": 3,
   "metadata": {},
   "outputs": [
    {
     "name": "stdout",
     "output_type": "stream",
     "text": [
      "Array 2: [0.11778592 0.28730826 0.83972439]\n"
     ]
    }
   ],
   "source": [
    "arr2 = np.random.rand(3)\n",
    "print(\"Array 2:\", arr2)"
   ]
  },
  {
   "attachments": {},
   "cell_type": "markdown",
   "metadata": {},
   "source": [
    "**Create a 2D array and perform slicing**"
   ]
  },
  {
   "cell_type": "code",
   "execution_count": 4,
   "metadata": {},
   "outputs": [
    {
     "name": "stdout",
     "output_type": "stream",
     "text": [
      "2D Array:\n",
      "[[15 25 30]\n",
      " [25 50 32]\n",
      " [55 89 63]]\n"
     ]
    }
   ],
   "source": [
    "arr3 = np.array([[15, 25, 30],[25, 50, 32],[55, 89, 63]])\n",
    "print(\"2D Array:\")\n",
    "print(arr3)"
   ]
  },
  {
   "attachments": {},
   "cell_type": "markdown",
   "metadata": {},
   "source": [
    "**Slice the 2D array to get the first two rows**"
   ]
  },
  {
   "cell_type": "code",
   "execution_count": 5,
   "metadata": {},
   "outputs": [
    {
     "name": "stdout",
     "output_type": "stream",
     "text": [
      "First Two Rows of a 2D Array:\n",
      "[[15 25 30]\n",
      " [25 50 32]]\n"
     ]
    }
   ],
   "source": [
    "firstTwoRows = arr3[:2]\n",
    "print(\"First Two Rows of a 2D Array:\")\n",
    "print(firstTwoRows)"
   ]
  },
  {
   "attachments": {},
   "cell_type": "markdown",
   "metadata": {},
   "source": [
    "**Slice the 2D array to get the last two rows**"
   ]
  },
  {
   "cell_type": "code",
   "execution_count": 6,
   "metadata": {},
   "outputs": [
    {
     "name": "stdout",
     "output_type": "stream",
     "text": [
      "Last two rows of a 2D Array:\n",
      "[[25 50 32]\n",
      " [55 89 63]]\n"
     ]
    }
   ],
   "source": [
    "lastTwoRows = arr3[1:]\n",
    "print(\"Last two rows of a 2D Array:\")\n",
    "print(lastTwoRows)"
   ]
  },
  {
   "attachments": {},
   "cell_type": "markdown",
   "metadata": {},
   "source": [
    "**Create two 2x2 arrays and demonstrate stacking and splitting**"
   ]
  },
  {
   "cell_type": "code",
   "execution_count": 7,
   "metadata": {},
   "outputs": [
    {
     "name": "stdout",
     "output_type": "stream",
     "text": [
      "Stacked Vertically\n",
      "[[1 2]\n",
      " [5 9]\n",
      " [7 6]\n",
      " [8 0]]\n",
      "Stacked Horizontally\n",
      "[[1 2 7 6]\n",
      " [5 9 8 0]]\n",
      "Split Vertically\n",
      "[array([[1, 2],\n",
      "       [5, 9]]), array([[7, 6],\n",
      "       [8, 0]])]\n",
      "Split Horizontally\n",
      "[array([[1, 2],\n",
      "       [5, 9]]), array([[7, 6],\n",
      "       [8, 0]])]\n"
     ]
    }
   ],
   "source": [
    "arr4 = np.array([[1,2],[5,9]])\n",
    "arr5 = np.array([[7,6],[8, 0]])\n",
    "\n",
    "#Stack Vertically\n",
    "vertical = np.vstack((arr4, arr5))\n",
    "print(\"Stacked Vertically\")\n",
    "print(vertical)\n",
    "\n",
    "#Stack Horizontally\n",
    "horizontal = np.hstack((arr4, arr5))\n",
    "print(\"Stacked Horizontally\")\n",
    "print(horizontal)\n",
    "\n",
    "#Split Vertically\n",
    "splitv= np.vsplit(vertical, 2)\n",
    "print(\"Split Vertically\")\n",
    "print(splitv)\n",
    "\n",
    "#Split Horizontally\n",
    "splith= np.hsplit(horizontal, 2)\n",
    "print(\"Split Horizontally\")\n",
    "print(splith)\n",
    "\n"
   ]
  },
  {
   "attachments": {},
   "cell_type": "markdown",
   "metadata": {},
   "source": [
    "**Matrix multiplication**"
   ]
  },
  {
   "cell_type": "code",
   "execution_count": 8,
   "metadata": {},
   "outputs": [
    {
     "name": "stdout",
     "output_type": "stream",
     "text": [
      "Matrix Multiplicatiion result:\n",
      "[[ 87 101]\n",
      " [ 40  58]\n",
      " [ 61  70]]\n"
     ]
    }
   ],
   "source": [
    "X= np.array([[4, 8, 9],[8, 2, 6],[7, 6, 4]])\n",
    "Y = np.array([[1, 2],[7, 6],[3, 5]])\n",
    "\n",
    "multiply = np.dot(X, Y)\n",
    "print(\"Matrix Multiplicatiion result:\")\n",
    "print(multiply)"
   ]
  },
  {
   "attachments": {},
   "cell_type": "markdown",
   "metadata": {},
   "source": [
    "**SShape and Dimensions of arrays**"
   ]
  },
  {
   "cell_type": "code",
   "execution_count": 9,
   "metadata": {},
   "outputs": [
    {
     "name": "stdout",
     "output_type": "stream",
     "text": [
      "Shape of X1: (3,)\n",
      "Number of dimensions of X1: 1\n",
      "[[ 7]\n",
      " [-6]\n",
      " [-4]]\n",
      "[[ 5]\n",
      " [ 2]\n",
      " [-3]]\n",
      "Dimensions after reshaping X1: 2\n",
      "Dimensions after reshaping Y1: 2\n"
     ]
    }
   ],
   "source": [
    "X1 = np.array([7, -6, -4])\n",
    "Y1 = np.array([5, 2, -3])\n",
    "\n",
    "print(\"Shape of X1:\", X1.shape)\n",
    "print(\"Number of dimensions of X1:\", X1.ndim)\n",
    " \n",
    "#Reshape X1 and Y1\n",
    "reshaped_X1 = X1.reshape((3,1))\n",
    "reshaped_Y1 = Y1.reshape((3,1))\n",
    "print(reshaped_X1)\n",
    "print(reshaped_Y1)\n",
    "print(\"Dimensions after reshaping X1:\", reshaped_X1.ndim)\n",
    "\n",
    "print(\"Dimensions after reshaping Y1:\", reshaped_Y1.ndim)"
   ]
  },
  {
   "attachments": {},
   "cell_type": "markdown",
   "metadata": {},
   "source": [
    "**Broadcasting in Numpy**"
   ]
  },
  {
   "cell_type": "code",
   "execution_count": 10,
   "metadata": {},
   "outputs": [
    {
     "name": "stdout",
     "output_type": "stream",
     "text": [
      "Subtracted matrix:\n",
      "[[0 0 0]\n",
      " [3 3 3]\n",
      " [6 6 6]]\n",
      "Multiplied matrix:\n",
      "[[ 1  4  9]\n",
      " [ 4 10 18]\n",
      " [ 7 16 27]]\n"
     ]
    }
   ],
   "source": [
    "matrix = np.array([[1, 2, 3], [4, 5, 6], [7, 8, 9]])\n",
    "vector = np.array([1, 2, 3])\n",
    "\n",
    "subtracted = matrix - vector\n",
    "print(\"Subtracted matrix:\")\n",
    "print(subtracted)\n",
    "\n",
    "multiplied = matrix * vector\n",
    "print(\"Multiplied matrix:\")\n",
    "print(multiplied)"
   ]
  },
  {
   "attachments": {},
   "cell_type": "markdown",
   "metadata": {},
   "source": [
    "**Solving the system of linear equations using matrices:**"
   ]
  },
  {
   "cell_type": "code",
   "execution_count": 11,
   "metadata": {},
   "outputs": [
    {
     "name": "stdout",
     "output_type": "stream",
     "text": [
      "x1 = 1.5094339622641508\n",
      "x2 = -1.6226415094339621\n"
     ]
    }
   ],
   "source": [
    "# coefficient matrix A\n",
    "A = np.array([[1.2, 3, -4], [1, -4, 0]])\n",
    "\n",
    "# constant matrix B\n",
    "B = np.array([[6], [8]])\n",
    "\n",
    "\n",
    "X, residuals, rank, singular_values = np.linalg.lstsq(A, B, rcond=None)\n",
    "\n",
    "# Print the values of x1 and x2\n",
    "print(\"x1 =\", X[0][0])\n",
    "print(\"x2 =\", X[1][0])\n"
   ]
  },
  {
   "cell_type": "code",
   "execution_count": 12,
   "metadata": {},
   "outputs": [
    {
     "name": "stdout",
     "output_type": "stream",
     "text": [
      "y1 = 7.460674157303374\n",
      "y2 = -4.629213483146074\n",
      "y3 = -6.179775280898881\n"
     ]
    }
   ],
   "source": [
    "# Coefficient matrix A\n",
    "A = np.array([[3, -4, 5], [-1, 2, -4]])\n",
    "\n",
    "# Constant matrix B\n",
    "B = np.array([[10], [8]])\n",
    "\n",
    "\n",
    "Y, residuals, rank, singular_values = np.linalg.lstsq(A, B, rcond=None)\n",
    "\n",
    "# Print the values of y1, y2, and y3\n",
    "print(\"y1 =\", Y[0][0])\n",
    "print(\"y2 =\", Y[1][0])\n",
    "print(\"y3 =\", Y[2][0])\n"
   ]
  }
 ],
 "metadata": {
  "kernelspec": {
   "display_name": "CSCN8010_classic_ml",
   "language": "python",
   "name": "python3"
  },
  "language_info": {
   "codemirror_mode": {
    "name": "ipython",
    "version": 3
   },
   "file_extension": ".py",
   "mimetype": "text/x-python",
   "name": "python",
   "nbconvert_exporter": "python",
   "pygments_lexer": "ipython3",
   "version": "3.11.3"
  },
  "orig_nbformat": 4
 },
 "nbformat": 4,
 "nbformat_minor": 2
}
