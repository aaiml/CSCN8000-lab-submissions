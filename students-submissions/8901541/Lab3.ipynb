{
 "cells": [
  {
   "cell_type": "markdown",
   "metadata": {},
   "source": [
    "**Part A: Credit Card Fraud Detection using Logistic Regression**"
   ]
  },
  {
   "cell_type": "code",
   "execution_count": 5,
   "metadata": {},
   "outputs": [
    {
     "name": "stdout",
     "output_type": "stream",
     "text": [
      "Accuracy: 0.999133925541004\n",
      "Confusion Matrix:\n",
      "[[85283    24]\n",
      " [   50    86]]\n",
      "Classification Report:\n",
      "              precision    recall  f1-score   support\n",
      "\n",
      "           0       1.00      1.00      1.00     85307\n",
      "           1       0.78      0.63      0.70       136\n",
      "\n",
      "    accuracy                           1.00     85443\n",
      "   macro avg       0.89      0.82      0.85     85443\n",
      "weighted avg       1.00      1.00      1.00     85443\n",
      "\n"
     ]
    }
   ],
   "source": [
    "import pandas as pd\n",
    "from sklearn.model_selection import train_test_split\n",
    "from sklearn.linear_model import LogisticRegression\n",
    "from sklearn.metrics import accuracy_score, confusion_matrix, classification_report\n",
    "\n",
    "# Step 1: Data Preprocessing and Analysis\n",
    "creditcard_data = pd.read_csv(\"creditcard.csv\")\n",
    "\n",
    "# Assuming the 'Class' column represents the target variable (0 for non-fraud, 1 for fraud)\n",
    "X = creditcard_data.drop(columns=[\"Class\"])\n",
    "y = creditcard_data[\"Class\"]\n",
    "\n",
    "# Split the data into training (70%) and testing (30%) sets\n",
    "X_train, X_test, y_train, y_test = train_test_split(X, y, test_size=0.3, random_state=42)\n",
    "\n",
    "# Step 2: Building the Logistic Regression Model with increased max_iter\n",
    "logistic_model = LogisticRegression(max_iter=1000, solver='lbfgs')\n",
    "logistic_model.fit(X_train, y_train)\n",
    "\n",
    "# Step 3: Evaluation\n",
    "y_pred = logistic_model.predict(X_test)\n",
    "\n",
    "accuracy = accuracy_score(y_test, y_pred)\n",
    "conf_matrix = confusion_matrix(y_test, y_pred)\n",
    "classification_rep = classification_report(y_test, y_pred)\n",
    "\n",
    "print(\"Accuracy:\", accuracy)\n",
    "print(\"Confusion Matrix:\")\n",
    "print(conf_matrix)\n",
    "print(\"Classification Report:\")\n",
    "print(classification_rep)\n"
   ]
  },
  {
   "cell_type": "markdown",
   "metadata": {},
   "source": [
    "The updated results show that the logistic regression model has improved its performance. <br>\n",
    "The accuracy is very high at approximately **99.91%**, and the confusion matrix and classification report <br>\n",
    "indicate that the model is able to detect both non-fraudulent (class 0) and fraudulent (class 1) transactions effectively."
   ]
  },
  {
   "cell_type": "markdown",
   "metadata": {},
   "source": [
    "**Part B: Insurance Cost Prediction using Linear Regression**"
   ]
  },
  {
   "cell_type": "code",
   "execution_count": 6,
   "metadata": {},
   "outputs": [
    {
     "name": "stdout",
     "output_type": "stream",
     "text": [
      "Mean Absolute Error: 4145.4505556276035\n",
      "Mean Squared Error: 33780509.57479167\n",
      "R-squared: 0.7696118054369009\n"
     ]
    }
   ],
   "source": [
    "import pandas as pd\n",
    "from sklearn.model_selection import train_test_split\n",
    "from sklearn.linear_model import LinearRegression\n",
    "from sklearn.compose import ColumnTransformer\n",
    "from sklearn.preprocessing import OneHotEncoder\n",
    "from sklearn.metrics import mean_absolute_error, mean_squared_error, r2_score\n",
    "\n",
    "# Step 1: Data Preprocessing and Analysis\n",
    "insurance_data = pd.read_csv(\"insurance.csv\")\n",
    "\n",
    "X = insurance_data.drop(columns=[\"charges\"])\n",
    "y = insurance_data[\"charges\"]\n",
    "\n",
    "# Identify categorical columns\n",
    "categorical_cols = [\"sex\", \"smoker\", \"region\"]\n",
    "\n",
    "# Perform one-hot encoding on categorical columns\n",
    "preprocessor = ColumnTransformer(transformers=[('cat', OneHotEncoder(), categorical_cols)], remainder='passthrough')\n",
    "X = preprocessor.fit_transform(X)\n",
    "\n",
    "# Split the data into training (70%) and testing (30%) sets\n",
    "X_train, X_test, y_train, y_test = train_test_split(X, y, test_size=0.3, random_state=42)\n",
    "\n",
    "# Step 2: Building the Linear Regression Model\n",
    "linear_model = LinearRegression()\n",
    "linear_model.fit(X_train, y_train)\n",
    "\n",
    "# Step 3: Evaluation\n",
    "y_pred = linear_model.predict(X_test)\n",
    "\n",
    "mae = mean_absolute_error(y_test, y_pred)\n",
    "mse = mean_squared_error(y_test, y_pred)\n",
    "r2 = r2_score(y_test, y_pred)\n",
    "\n",
    "print(\"Mean Absolute Error:\", mae)\n",
    "print(\"Mean Squared Error:\", mse)\n",
    "print(\"R-squared:\", r2)\n"
   ]
  },
  {
   "cell_type": "markdown",
   "metadata": {},
   "source": [
    "-> **Mean Absolute Error (MAE):** The MAE represents the average absolute difference between the actual and predicted values. <br>In this case, the average absolute difference is approximately **$4145.45**. Smaller MAE values indicate better performance.<br>\n",
    "\n",
    "-> **Mean Squared Error (MSE):** The MSE measures the average squared difference between the actual and predicted values. <br>In this case, the average squared difference is approximately **$33,780,509.57**. Smaller MSE values indicate better performance.\n",
    "\n",
    "-> **R-squared (Coefficient of Determination):** The R-squared value measures how well the model explains the variance in the target variable (insurance costs). <br>The R-squared value ranges from 0 to 1, where 1 represents a perfect fit. In this case, the R-squared value is approximately **0.77**, indicating that the model explains about **77%** of the variance in insurance costs."
   ]
  }
 ],
 "metadata": {
  "kernelspec": {
   "display_name": "CSCN8010_classic_ml",
   "language": "python",
   "name": "cscn8010_classic_ml"
  },
  "language_info": {
   "codemirror_mode": {
    "name": "ipython",
    "version": 3
   },
   "file_extension": ".py",
   "mimetype": "text/x-python",
   "name": "python",
   "nbconvert_exporter": "python",
   "pygments_lexer": "ipython3",
   "version": "3.11.3"
  },
  "orig_nbformat": 4
 },
 "nbformat": 4,
 "nbformat_minor": 2
}
