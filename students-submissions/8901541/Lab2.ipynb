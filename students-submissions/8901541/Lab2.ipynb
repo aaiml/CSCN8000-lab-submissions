{
 "cells": [
  {
   "attachments": {},
   "cell_type": "markdown",
   "metadata": {},
   "source": [
    "**Part-A**<br>\n",
    "\n",
    "Use the Lab2 dataset provided. Load the dataset and split it into test and train. After that, train the model using Gaussian and Multinominal classifiers and post which model performs better. Use the trained model to perform some predictions on test data."
   ]
  },
  {
   "cell_type": "code",
   "execution_count": 2,
   "metadata": {},
   "outputs": [
    {
     "name": "stdout",
     "output_type": "stream",
     "text": [
      "Gaussian Naive Bayes Accuracy: 0.9545893719806763\n",
      "Multinomial Naive Bayes Accuracy: 0.9719806763285024\n"
     ]
    }
   ],
   "source": [
    "import pandas as pd\n",
    "from sklearn.model_selection import train_test_split\n",
    "from sklearn.feature_extraction.text import CountVectorizer\n",
    "from sklearn.naive_bayes import GaussianNB, MultinomialNB\n",
    "from sklearn.metrics import accuracy_score\n",
    "\n",
    "# Load the dataset\n",
    "data = pd.read_csv('Lab2_dataset.csv')\n",
    "\n",
    "# Split the dataset into training and testing sets\n",
    "X = data['text']\n",
    "y = data['label']\n",
    "X_train, X_test, y_train, y_test = train_test_split(X, y, test_size=0.2, random_state=42)\n",
    "\n",
    "# Create a CountVectorizer\n",
    "vectorizer = CountVectorizer()\n",
    "X_train_vectorized = vectorizer.fit_transform(X_train)\n",
    "\n",
    "# Train Gaussian Naive Bayes classifier\n",
    "gnb = GaussianNB()\n",
    "gnb.fit(X_train_vectorized.toarray(), y_train)\n",
    "\n",
    "# Train Multinomial Naive Bayes classifier\n",
    "mnb = MultinomialNB()\n",
    "mnb.fit(X_train_vectorized, y_train)\n",
    "\n",
    "X_test_vectorized = vectorizer.transform(X_test)\n",
    "\n",
    "# Make predictions on test data\n",
    "gnb_predictions = gnb.predict(X_test_vectorized.toarray())\n",
    "mnb_predictions = mnb.predict(X_test_vectorized)\n",
    "\n",
    "# Evaluate the performance\n",
    "gnb_accuracy = accuracy_score(y_test, gnb_predictions)\n",
    "mnb_accuracy = accuracy_score(y_test, mnb_predictions)\n",
    "\n",
    "print(\"Gaussian Naive Bayes Accuracy:\", gnb_accuracy)\n",
    "print(\"Multinomial Naive Bayes Accuracy:\", mnb_accuracy)\n"
   ]
  },
  {
   "attachments": {},
   "cell_type": "markdown",
   "metadata": {},
   "source": [
    "Based on the output, the Multinomial Naive Bayes model performs better than the Gaussian Naive Bayes model for the given dataset. The accuracy of the Multinomial Naive Bayes model is 0.9719, while the accuracy of the Gaussian Naive Bayes model is 0.9546.\n",
    "\n",
    "Therefore, if accuracy is the sole criterion for determining the better-performing model, we would choose the Multinomial Naive Bayes model. However, it's important to note that accuracy alone may not always be the most reliable metric for evaluating a model's performance, especially in cases where the dataset is imbalanced or the cost of misclassification varies across different classes. It's recommended to consider other evaluation metrics and domain-specific requirements when selecting a model."
   ]
  },
  {
   "attachments": {},
   "cell_type": "markdown",
   "metadata": {},
   "source": [
    "**Part-B**<br>\n",
    "Use this air bnb new york city dataset and remove outliers based on price per night for a given apartment/home. You can demonstrate why using other techniques like mean/median/ percentile works. The task is to come up with a clean dataset that does not have outliers showcasing all the possibilities.\n"
   ]
  },
  {
   "cell_type": "code",
   "execution_count": 3,
   "metadata": {},
   "outputs": [
    {
     "name": "stdout",
     "output_type": "stream",
     "text": [
      "     id                                              name  host_id   \n",
      "0  2539                Clean & quiet apt home by the park     2787  \\\n",
      "1  2595                             Skylit Midtown Castle     2845   \n",
      "2  3647               THE VILLAGE OF HARLEM....NEW YORK !     4632   \n",
      "3  3831                   Cozy Entire Floor of Brownstone     4869   \n",
      "4  5022  Entire Apt: Spacious Studio/Loft by central park     7192   \n",
      "\n",
      "     host_name neighbourhood_group neighbourhood  latitude  longitude   \n",
      "0         John            Brooklyn    Kensington  40.64749  -73.97237  \\\n",
      "1     Jennifer           Manhattan       Midtown  40.75362  -73.98377   \n",
      "2    Elisabeth           Manhattan        Harlem  40.80902  -73.94190   \n",
      "3  LisaRoxanne            Brooklyn  Clinton Hill  40.68514  -73.95976   \n",
      "4        Laura           Manhattan   East Harlem  40.79851  -73.94399   \n",
      "\n",
      "         room_type  price  minimum_nights  number_of_reviews last_review   \n",
      "0     Private room    149               1                  9  2018-10-19  \\\n",
      "1  Entire home/apt    225               1                 45  2019-05-21   \n",
      "2     Private room    150               3                  0         NaN   \n",
      "3  Entire home/apt     89               1                270  2019-07-05   \n",
      "4  Entire home/apt     80              10                  9  2018-11-19   \n",
      "\n",
      "   reviews_per_month  calculated_host_listings_count  availability_365  \n",
      "0               0.21                               6               365  \n",
      "1               0.38                               2               355  \n",
      "2                NaN                               1               365  \n",
      "3               4.64                               1               194  \n",
      "4               0.10                               1                 0  \n"
     ]
    }
   ],
   "source": [
    "import pandas as pd\n",
    "\n",
    "# Load the dataset\n",
    "df = pd.read_csv(\"AB_NYC_2019.csv\")\n",
    "\n",
    "# Calculate the mean and standard deviation\n",
    "mean_price = df['price'].mean()\n",
    "std_price = df['price'].std()\n",
    "\n",
    "# lower and upper bounds for outliers\n",
    "lower_bound = mean_price - 3 * std_price\n",
    "upper_bound = mean_price + 3 * std_price\n",
    "\n",
    "# Remove outliers based on price per night\n",
    "clean_df = df[(df['price'] >= lower_bound) & (df['price'] <= upper_bound)]\n",
    "\n",
    "# you can remove outliers based on percentiles\n",
    "lower_percentile = df['price'].quantile(0.01)\n",
    "upper_percentile = df['price'].quantile(0.99)\n",
    "\n",
    "clean_df = df[(df['price'] >= lower_percentile) & (df['price'] <= upper_percentile)]\n",
    "\n",
    "# Print the first few rows of the clean dataset\n",
    "print(clean_df.head())\n"
   ]
  }
 ],
 "metadata": {
  "kernelspec": {
   "display_name": "CSCN8010_classic_ml",
   "language": "python",
   "name": "cscn8010_classic_ml"
  },
  "language_info": {
   "codemirror_mode": {
    "name": "ipython",
    "version": 3
   },
   "file_extension": ".py",
   "mimetype": "text/x-python",
   "name": "python",
   "nbconvert_exporter": "python",
   "pygments_lexer": "ipython3",
   "version": "3.11.3"
  },
  "orig_nbformat": 4
 },
 "nbformat": 4,
 "nbformat_minor": 2
}
