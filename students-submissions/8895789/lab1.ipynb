{
 "cells": [
  {
   "attachments": {},
   "cell_type": "markdown",
   "metadata": {},
   "source": [
    "## Lab 1 – Basic NumPy Operations \n",
    "\n",
    "### Student Name : Ramya Chandran\n",
    "### Student Number : 8895789\n",
    "\n",
    "### PART A"
   ]
  },
  {
   "attachments": {},
   "cell_type": "markdown",
   "metadata": {},
   "source": [
    "#### 1.Create a Notebook to demonstrate NumPy Operations."
   ]
  },
  {
   "cell_type": "code",
   "execution_count": 35,
   "metadata": {},
   "outputs": [],
   "source": [
    "import numpy as np"
   ]
  },
  {
   "attachments": {},
   "cell_type": "markdown",
   "metadata": {},
   "source": [
    "#### 2.Create an array that starts from the integer 1, ends at 20, incremented by 3."
   ]
  },
  {
   "cell_type": "code",
   "execution_count": 36,
   "metadata": {},
   "outputs": [
    {
     "data": {
      "text/plain": [
       "array([ 1,  4,  7, 10, 13, 16, 19])"
      ]
     },
     "execution_count": 36,
     "metadata": {},
     "output_type": "execute_result"
    }
   ],
   "source": [
    "arr_1 = np.arange(1, 20, 3)\n",
    "arr_1"
   ]
  },
  {
   "attachments": {},
   "cell_type": "markdown",
   "metadata": {},
   "source": [
    "#### 3.Create a new array of shape 3 with random numbers between 0 and 1."
   ]
  },
  {
   "cell_type": "code",
   "execution_count": 37,
   "metadata": {},
   "outputs": [
    {
     "name": "stdout",
     "output_type": "stream",
     "text": [
      "[0.35531666 0.68402037 0.58132769]\n"
     ]
    }
   ],
   "source": [
    "arr_2 = np.random.random(3)\n",
    "print(arr_2)"
   ]
  },
  {
   "attachments": {},
   "cell_type": "markdown",
   "metadata": {},
   "source": [
    "#### 4.Create a 2 D array [[10,20,45], [30,12,16], [42,17,56]] and perform the following operations: \n",
    "\n",
    "#### Slice the 2D array to get the first two rows, slice the 2D array to get the last two rows."
   ]
  },
  {
   "cell_type": "code",
   "execution_count": 38,
   "metadata": {},
   "outputs": [
    {
     "name": "stdout",
     "output_type": "stream",
     "text": [
      "First two rows:\n",
      "[[10 20 45]\n",
      " [30 12 16]]\n",
      "Last two rows:\n",
      "[[30 12 16]\n",
      " [42 17 56]]\n"
     ]
    }
   ],
   "source": [
    "# Create a 2D array\n",
    "arr_3 = np.array([[10, 20, 45], [30, 12, 16], [42, 17, 56]])\n",
    "\n",
    "# Slice the 2D array to get the first two rows\n",
    "first_two = arr_3[:2, :]\n",
    "print(\"First two rows:\")\n",
    "print(first_two)\n",
    "\n",
    "# Slice the 2D array to get the last two rows\n",
    "last_two = arr_3[1:, :]\n",
    "print(\"Last two rows:\")\n",
    "print(last_two)"
   ]
  },
  {
   "attachments": {},
   "cell_type": "markdown",
   "metadata": {},
   "source": [
    "#### 5.Create two 2x2 arrays and demonstrate how you can stack the elements vertically, horizontally, and split the arrays into smaller arrays."
   ]
  },
  {
   "cell_type": "code",
   "execution_count": 39,
   "metadata": {},
   "outputs": [
    {
     "name": "stdout",
     "output_type": "stream",
     "text": [
      "Vertical stack:\n",
      "[[1 2]\n",
      " [3 4]\n",
      " [5 6]\n",
      " [7 8]]\n",
      "Horizontal stack:\n",
      "[[1 2 5 6]\n",
      " [3 4 7 8]]\n",
      "Split vertically:\n",
      "[[1 2]\n",
      " [3 4]]\n",
      "[[5 6]\n",
      " [7 8]]\n",
      "Split horizontally:\n",
      "[[1 2]\n",
      " [3 4]]\n",
      "[[5 6]\n",
      " [7 8]]\n"
     ]
    }
   ],
   "source": [
    "# Create two 2x2 arrays\n",
    "arr_4 = np.array([[1, 2], [3, 4]])\n",
    "arr_5 = np.array([[5, 6], [7, 8]])\n",
    "\n",
    "# Stack arrays vertically\n",
    "ver_stack = np.vstack((arr_4, arr_5))\n",
    "print(\"Vertical stack:\")\n",
    "print(ver_stack)\n",
    "\n",
    "# Stack arrays horizontally\n",
    "hori_stack = np.hstack((arr_4, arr_5))\n",
    "print(\"Horizontal stack:\")\n",
    "print(hori_stack)\n",
    "\n",
    "# Split arrays into smaller arrays\n",
    "split_ver = np.vsplit(ver_stack, 2)\n",
    "print(\"Split vertically:\")\n",
    "for sub_array in split_ver:\n",
    "    print(sub_array)\n",
    "\n",
    "split_hori = np.hsplit(hori_stack, 2)\n",
    "print(\"Split horizontally:\")\n",
    "for sub_array in split_hori:\n",
    "    print(sub_array)\n"
   ]
  },
  {
   "attachments": {},
   "cell_type": "markdown",
   "metadata": {},
   "source": [
    "#### 6.Create two matrices X= ([[5, 7, 2], [4, 5, 6], [7, 4 ,2]]) Y= ([[4, 2], [6, 2], [4, 2]]), Is it possible to multiply these matrices? \n",
    "\n",
    "#### Demonstrate the case when it is not possible to."
   ]
  },
  {
   "cell_type": "code",
   "execution_count": 40,
   "metadata": {},
   "outputs": [
    {
     "name": "stdout",
     "output_type": "stream",
     "text": [
      "Shape of X:  (3, 3)\n",
      "Shape of Y:  (3, 2)\n",
      "The Matrix Multiplication of X * Y is \n",
      " [[70 28]\n",
      " [70 30]\n",
      " [60 26]]\n"
     ]
    }
   ],
   "source": [
    "X = np.array([[5, 7, 2], [4, 5, 6], [7, 4, 2]])\n",
    "Y = np.array([[4, 2], [6, 2], [4, 2]])\n",
    "\n",
    "print(\"Shape of X: \", X.shape)\n",
    "print(\"Shape of Y: \", Y.shape)\n",
    "\n",
    "print(\"The Matrix Multiplication of X * Y is \\n\", np.matmul(X, Y))\n",
    "# print(\"The Matrix Multiplication of X * Y is \\n\", np.matmul(Y, X))"
   ]
  },
  {
   "attachments": {},
   "cell_type": "markdown",
   "metadata": {},
   "source": [
    "Here the matrix multiplication of X * Y is possible since the number of columns of the first matrix and number of rows of thr second matrix are the same which is 3. So np.matmul provides an answer.\n",
    "\n",
    "When we try Y * X it throws an error since the number of columns in Y is 2 and number of rows in X is 3 so the matrix multiplication is not possible."
   ]
  },
  {
   "attachments": {},
   "cell_type": "markdown",
   "metadata": {},
   "source": [
    "####  7.Create two arrays, x = ([2, -1, -8]) y = ([3, 1, -2]), Find the Shape, Number of dimensions of vector x.\n",
    "\n",
    "#### Reshape the vector x to a matrix of size (3,1) and determine the number of dimensions after reshaping y to a matrix of (3,1)."
   ]
  },
  {
   "cell_type": "code",
   "execution_count": 41,
   "metadata": {},
   "outputs": [
    {
     "name": "stdout",
     "output_type": "stream",
     "text": [
      "Print the vector x:  [ 2 -1 -8]\n",
      "Shape of vector x: (3,)\n",
      "Number of dimensions of vector x: 1\n",
      "Print the x_reshaped:  [[ 2]\n",
      " [-1]\n",
      " [-8]]\n",
      "Shape of vector x_reshaped: (3, 1)\n",
      "Number of dimensions of vector x_reshaped: 2\n",
      "Print the y_reshaped:  [[ 3]\n",
      " [ 1]\n",
      " [-2]]\n",
      "Shape of vector y_reshaped: (3, 1)\n",
      "Number of dimensions of vector y_reshaped: 2\n"
     ]
    }
   ],
   "source": [
    "x = np.array([2, -1, -8])\n",
    "y = np.array([3, 1, -2])\n",
    "\n",
    "# Find the shape and number of dimensions of vector x\n",
    "print(\"Print the vector x: \", x)\n",
    "print(\"Shape of vector x:\", x.shape)\n",
    "print(\"Number of dimensions of vector x:\", x.ndim)\n",
    "\n",
    "# Reshape vector x and y to a matrix of size (3, 1) in two methods\n",
    "x_reshaped = x.reshape(3, 1)\n",
    "y_reshaped = np.reshape(y, (3, 1))\n",
    "\n",
    "# Find the shape and number of dimensions of vector x\n",
    "print(\"Print the x_reshaped: \", x_reshaped)\n",
    "print(\"Shape of vector x_reshaped:\", x_reshaped.shape)\n",
    "print(\"Number of dimensions of vector x_reshaped:\", x_reshaped.ndim)\n",
    "print(\"Print the y_reshaped: \", y_reshaped)\n",
    "print(\"Shape of vector y_reshaped:\", y_reshaped.shape)\n",
    "print(\"Number of dimensions of vector y_reshaped:\", y_reshaped.ndim)\n"
   ]
  },
  {
   "attachments": {},
   "cell_type": "markdown",
   "metadata": {},
   "source": [
    "After reshaping the vector array of one dimension is changed to the 2d matrix with dimension 2"
   ]
  },
  {
   "attachments": {},
   "cell_type": "markdown",
   "metadata": {},
   "source": [
    "#### 8. How does broadcasting work? Demonstrate the subtraction, multiplication by considering a 3 x 3 matrix."
   ]
  },
  {
   "cell_type": "code",
   "execution_count": 42,
   "metadata": {},
   "outputs": [
    {
     "name": "stdout",
     "output_type": "stream",
     "text": [
      "Subtraction result:\n",
      "[[-1  0  1]\n",
      " [ 2  3  4]\n",
      " [ 5  6  7]]\n",
      "Multiplication result:\n",
      "[[ 1  4  9]\n",
      " [ 4 10 18]\n",
      " [ 7 16 27]]\n"
     ]
    }
   ],
   "source": [
    "# Create a 3x3 matrix\n",
    "matrix = np.array([[1, 2, 3],\n",
    "                   [4, 5, 6],\n",
    "                   [7, 8, 9]])\n",
    "\n",
    "# Perform subtraction using broadcasting\n",
    "subtraction_result = matrix - 2\n",
    "print(\"Subtraction result:\")\n",
    "print(subtraction_result)\n",
    "\n",
    "# Perform multiplication using broadcasting\n",
    "multiplication_result = matrix * [1, 2, 3]\n",
    "print(\"Multiplication result:\")\n",
    "print(multiplication_result)"
   ]
  },
  {
   "attachments": {},
   "cell_type": "markdown",
   "metadata": {},
   "source": [
    "Subtraction : Broadcasting is used to subtract the scalar value 2 from each matrix member. The scalar 2 is implicitly broadcasted to all element in order to take the form of the matrix.\n",
    "\n",
    "Multiplication : In order to fit the geometry of the matrix, broadcasting extends the 1D array along the rows, enabling element-wise multiplication."
   ]
  },
  {
   "attachments": {},
   "cell_type": "markdown",
   "metadata": {},
   "source": [
    "### Part B "
   ]
  },
  {
   "attachments": {},
   "cell_type": "markdown",
   "metadata": {},
   "source": [
    "#### 1.Solve the following two system of linear equations using matrices (find the values of x1 and x2) and determine the number of solutions using the functions. \n",
    "* 2x1+3x2-4x3=6,x1-4x2=8\n",
    "* 3y1-4y2+5y3=10,-y1+2y2-4y3=8"
   ]
  },
  {
   "cell_type": "code",
   "execution_count": 43,
   "metadata": {},
   "outputs": [
    {
     "name": "stdout",
     "output_type": "stream",
     "text": [
      "(2, 3)\n",
      "(2, 1)\n"
     ]
    }
   ],
   "source": [
    "# Lets solve first set with X1, X2, X3\n",
    "A = np.array([[2, 3, -4], [1, -4, 0]])\n",
    "B = np.array([[6], [8]])\n",
    "\n",
    "# Solve the system of equations\n",
    "#np.linalg.solve(A, B)\n",
    "print(A.shape)\n",
    "print(B.shape)\n",
    "\n"
   ]
  },
  {
   "cell_type": "code",
   "execution_count": 44,
   "metadata": {},
   "outputs": [
    {
     "name": "stdout",
     "output_type": "stream",
     "text": [
      "(2, 3)\n",
      "(2, 1)\n"
     ]
    }
   ],
   "source": [
    "# Lets solve second set y1, y2, y3\n",
    "A = np.array([[3, -4, 5], [-1, 2, -4]])\n",
    "B = np.array([[10], [8]])\n",
    "\n",
    "# Solve the system of equations\n",
    "#np.linalg.solve(A, B)\n",
    "print(A.shape)\n",
    "print(B.shape)\n"
   ]
  },
  {
   "attachments": {},
   "cell_type": "markdown",
   "metadata": {},
   "source": [
    "Here both the set of equations doesnot contain the required number of equations. The coeffients to be found are 3 variables but the equations given is just 2. Number of equations should match the number of variables. "
   ]
  },
  {
   "cell_type": "code",
   "execution_count": null,
   "metadata": {},
   "outputs": [],
   "source": []
  }
 ],
 "metadata": {
  "kernelspec": {
   "display_name": "CSCN8010_classic_ml",
   "language": "python",
   "name": "python3"
  },
  "language_info": {
   "codemirror_mode": {
    "name": "ipython",
    "version": 3
   },
   "file_extension": ".py",
   "mimetype": "text/x-python",
   "name": "python",
   "nbconvert_exporter": "python",
   "pygments_lexer": "ipython3",
   "version": "3.8.1"
  },
  "orig_nbformat": 4
 },
 "nbformat": 4,
 "nbformat_minor": 2
}
