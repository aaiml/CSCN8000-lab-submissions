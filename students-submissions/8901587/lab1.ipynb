{
 "cells": [
  {
   "attachments": {},
   "cell_type": "markdown",
   "metadata": {},
   "source": [
    "Lab 1 - Ashkar kammala puthenpura abdulkhadar - 8901587\n",
    "\n",
    "Part A\n",
    "\n",
    "1 . Create a Notebook to demonstrate NumPy Operations."
   ]
  },
  {
   "cell_type": "code",
   "execution_count": 58,
   "metadata": {},
   "outputs": [],
   "source": [
    "import numpy as np # import numpy \n"
   ]
  },
  {
   "attachments": {},
   "cell_type": "markdown",
   "metadata": {},
   "source": [
    "2 . Create an array that starts from the integer 1, ends at 20, incremented by 3."
   ]
  },
  {
   "cell_type": "code",
   "execution_count": 59,
   "metadata": {},
   "outputs": [
    {
     "name": "stdout",
     "output_type": "stream",
     "text": [
      "[ 1  4  7 10 13 16 19]\n"
     ]
    }
   ],
   "source": [
    "arr1 = np.arange(1,20,3) \n",
    "print(arr1)"
   ]
  },
  {
   "attachments": {},
   "cell_type": "markdown",
   "metadata": {},
   "source": [
    "3. Create a new array of shape 3 with random numbers between 0 and 1"
   ]
  },
  {
   "cell_type": "code",
   "execution_count": 60,
   "metadata": {},
   "outputs": [
    {
     "data": {
      "text/plain": [
       "array([[0.10728251],\n",
       "       [0.80244088],\n",
       "       [0.73962651]])"
      ]
     },
     "execution_count": 60,
     "metadata": {},
     "output_type": "execute_result"
    }
   ],
   "source": [
    "\n",
    "\n",
    "arr2= np.random.rand(3,1)\n",
    "arr2"
   ]
  },
  {
   "attachments": {},
   "cell_type": "markdown",
   "metadata": {},
   "source": [
    "4 . Create a 2 D array [[10,20,45], [30,12,16], [42,17,56]] and perform the following operations:\n",
    "\n",
    "Slice the 2D array to get the first two rows, slice the 2D array to get the last two rows."
   ]
  },
  {
   "cell_type": "code",
   "execution_count": 61,
   "metadata": {},
   "outputs": [
    {
     "name": "stdout",
     "output_type": "stream",
     "text": [
      "[[10 20 45]\n",
      " [30 12 16]]\n",
      "[[42 17 56]\n",
      " [30 12 16]]\n"
     ]
    }
   ],
   "source": [
    "arr3 = np.array([[10,20,45], [30,12,16], [42,17,56]]) # two dimensional array asskgned to arr3\n",
    "arr2_first =arr3[0:2]#Slicing first two row\n",
    "print(arr2_first)\n",
    "arr2_last =arr3[:0:-1]# Slicing last two row\n",
    "print(arr2_last)"
   ]
  },
  {
   "attachments": {},
   "cell_type": "markdown",
   "metadata": {},
   "source": [
    "5 . Create two 2x2 arrays and demonstrate how you can stack the elements vertically, horizontally, and split the arrays into smaller arrays"
   ]
  },
  {
   "cell_type": "code",
   "execution_count": 62,
   "metadata": {},
   "outputs": [
    {
     "name": "stdout",
     "output_type": "stream",
     "text": [
      "[[1 2]\n",
      " [2 3]\n",
      " [4 5]\n",
      " [6 7]]\n",
      "[[1 2 4 5]\n",
      " [2 3 6 7]]\n",
      "[array([[1, 2, 4, 5]]), array([[2, 3, 6, 7]])]\n",
      "[array([[1, 2],\n",
      "       [2, 3]]), array([[4, 5],\n",
      "       [6, 7]])]\n"
     ]
    }
   ],
   "source": [
    "arr4 = np.array([[1,2],[2,3]])\n",
    "arr5 = np.array([[4,5],[6,7]])\n",
    "\n",
    "#stacking the elements vertically\n",
    "v_stack = np.vstack((arr4,arr5))\n",
    "print(v_stack)\n",
    "\n",
    "#stacking the elements horizontally\n",
    "h_stack = np.hstack((arr4,arr5))\n",
    "print(h_stack)\n",
    "\n",
    "#splitting the horizontal stack\n",
    "split_h_stack = np.array_split(h_stack,2)\n",
    "print(split_h_stack)\n",
    "\n",
    "##splitting the vertical stack\n",
    "split_v_stack=np.array_split(v_stack,2)\n",
    "print(split_v_stack)"
   ]
  },
  {
   "attachments": {},
   "cell_type": "markdown",
   "metadata": {},
   "source": [
    "6. Create two matrices X= ([[5, 7, 2], [4, 5, 6], [7, 4 ,2]]) Y= ([[4, 2], [6, 2], [4, 2]]), Is it possible to multiply these matrices?\n",
    "Demonstrate the case when it is not possible to.\n",
    "\n"
   ]
  },
  {
   "cell_type": "code",
   "execution_count": 63,
   "metadata": {},
   "outputs": [
    {
     "name": "stdout",
     "output_type": "stream",
     "text": [
      "(3, 3)\n",
      "(3, 2)\n"
     ]
    }
   ],
   "source": [
    "x = np.array([[5, 7, 2], [4, 5, 6], [7, 4 ,2]])\n",
    "y = np.array([[4, 2], [6, 2], [4, 2]])\n",
    "\n",
    "print(x.shape)\n",
    "print(y.shape)\n",
    "\n"
   ]
  },
  {
   "cell_type": "code",
   "execution_count": 64,
   "metadata": {},
   "outputs": [
    {
     "data": {
      "text/plain": [
       "array([[70, 28],\n",
       "       [70, 30],\n",
       "       [60, 26]])"
      ]
     },
     "execution_count": 64,
     "metadata": {},
     "output_type": "execute_result"
    }
   ],
   "source": [
    "x@y  # x is possible to multiple by y becuase of x first column number is equal to y's first raw number "
   ]
  },
  {
   "cell_type": "code",
   "execution_count": 65,
   "metadata": {},
   "outputs": [
    {
     "ename": "ValueError",
     "evalue": "matmul: Input operand 1 has a mismatch in its core dimension 0, with gufunc signature (n?,k),(k,m?)->(n?,m?) (size 3 is different from 2)",
     "output_type": "error",
     "traceback": [
      "\u001b[1;31m---------------------------------------------------------------------------\u001b[0m",
      "\u001b[1;31mValueError\u001b[0m                                Traceback (most recent call last)",
      "Cell \u001b[1;32mIn[65], line 1\u001b[0m\n\u001b[1;32m----> 1\u001b[0m y\u001b[39m@x\u001b[39;49m\n",
      "\u001b[1;31mValueError\u001b[0m: matmul: Input operand 1 has a mismatch in its core dimension 0, with gufunc signature (n?,k),(k,m?)->(n?,m?) (size 3 is different from 2)"
     ]
    }
   ],
   "source": [
    "y@x"
   ]
  },
  {
   "attachments": {},
   "cell_type": "markdown",
   "metadata": {},
   "source": [
    "y*x is not possible becuase y's first coloumn number is not equal to x's first raw number "
   ]
  },
  {
   "attachments": {},
   "cell_type": "markdown",
   "metadata": {},
   "source": [
    "7. Create two arrays, x = ([2, -1, -8]) y = ([3, 1, -2]), Find the Shape, Number of dimensions of vector x. Reshape the vector x to a matrix of size (3,1) and determine the number of dimensions after reshaping y to a matrix of (3,1).\n"
   ]
  },
  {
   "cell_type": "code",
   "execution_count": null,
   "metadata": {},
   "outputs": [
    {
     "name": "stdout",
     "output_type": "stream",
     "text": [
      "Shape of x: (3,)\n",
      "Number of dimensions in x  1\n",
      "Shape of y :  (3,)\n",
      "Number of dimensions in y : 1\n",
      "Shape of x : (3, 1)\n",
      "Number of dimensions in x : 2\n",
      "Shape of y : (3, 1)\n",
      "Number of dimensions in y :  2\n"
     ]
    }
   ],
   "source": [
    "x = np.array([2, -1, -8]) \n",
    "y = np.array([3, 1, -2])\n",
    "print('Shape of x:' , x.shape)\n",
    "print('Number of dimensions in x ',x.ndim)\n",
    "print('Shape of y : ',y.shape)\n",
    "print('Number of dimensions in y :', y.ndim)\n",
    "x = np.reshape(x, (3, 1))\n",
    "print('Shape of x :', x.shape)\n",
    "print('Number of dimensions in x :', x.ndim)\n",
    "\n",
    "y = np.reshape(y, (3,1))\n",
    "print('Shape of y :',y.shape)\n",
    "print('Number of dimensions in y : ',y.ndim)"
   ]
  },
  {
   "attachments": {},
   "cell_type": "markdown",
   "metadata": {},
   "source": [
    "8 . How does broadcasting work? Demonstrate the subtraction, multiplication by considering a 3 x 3 matrix.\n",
    "\n",
    "Broadcasting is a concept in array manipulation that allows arrays of different shapes to be used together in operations. When performing operations on arrays with different shapes, broadcasting ensures that the arrays are compatible by adjusting their shapes to match."
   ]
  },
  {
   "cell_type": "code",
   "execution_count": null,
   "metadata": {},
   "outputs": [
    {
     "name": "stdout",
     "output_type": "stream",
     "text": [
      "[[0 1 2]\n",
      " [3 3 4]\n",
      " [5 6 7]]\n",
      "[[ 4  6  8]\n",
      " [10 10 12]\n",
      " [14 16 18]]\n"
     ]
    }
   ],
   "source": [
    "A = np.array ([[2, 3, 4],\n",
    "               [5, 5, 6],\n",
    "               [7, 8, 9]])\n",
    "B = 2\n",
    "# Substraction of matrix\n",
    "Substraction = A-B\n",
    "print(Substraction)\n",
    "# Multiplication of matrix\n",
    "multiplication = A*B\n",
    "print(multiplication)"
   ]
  },
  {
   "attachments": {},
   "cell_type": "markdown",
   "metadata": {},
   "source": [
    "Part B\n",
    "\n",
    "1 . Solve the following two system of linear equations using matrices (find the values of x1 and x2) and determine the number of solutions using the functions.\n",
    "\n",
    "1.1 . 2x1+3x2-4x3=6,x1-4x2=8"
   ]
  },
  {
   "cell_type": "code",
   "execution_count": null,
   "metadata": {},
   "outputs": [
    {
     "name": "stdout",
     "output_type": "stream",
     "text": [
      " shape of a matrix is: \n",
      " (2, 3)\n",
      "shape of b matrix is: \n",
      " (2,)\n"
     ]
    },
    {
     "ename": "LinAlgError",
     "evalue": "Last 2 dimensions of the array must be square",
     "output_type": "error",
     "traceback": [
      "\u001b[1;31m---------------------------------------------------------------------------\u001b[0m",
      "\u001b[1;31mLinAlgError\u001b[0m                               Traceback (most recent call last)",
      "Cell \u001b[1;32mIn[47], line 13\u001b[0m\n\u001b[0;32m      9\u001b[0m \u001b[39mprint\u001b[39m(\u001b[39m\"\u001b[39m\u001b[39mshape of b matrix is: \u001b[39m\u001b[39m\\n\u001b[39;00m\u001b[39m\"\u001b[39m, solution\u001b[39m.\u001b[39mshape)\n\u001b[0;32m     11\u001b[0m \u001b[39m# Solve the system of equations\u001b[39;00m\n\u001b[1;32m---> 13\u001b[0m X \u001b[39m=\u001b[39m np\u001b[39m.\u001b[39;49mlinalg\u001b[39m.\u001b[39;49msolve(arr1,solution)\n\u001b[0;32m     15\u001b[0m \u001b[39m# finding the shape\u001b[39;00m\n\u001b[0;32m     17\u001b[0m \u001b[39mprint\u001b[39m(X)\n",
      "File \u001b[1;32m<__array_function__ internals>:200\u001b[0m, in \u001b[0;36msolve\u001b[1;34m(*args, **kwargs)\u001b[0m\n",
      "File \u001b[1;32mc:\\Users\\ashka\\Desktop\\New_folder\\New_folder\\CSCN8010\\venv\\CSCN8010_classic_ml\\Lib\\site-packages\\numpy\\linalg\\linalg.py:373\u001b[0m, in \u001b[0;36msolve\u001b[1;34m(a, b)\u001b[0m\n\u001b[0;32m    371\u001b[0m a, _ \u001b[39m=\u001b[39m _makearray(a)\n\u001b[0;32m    372\u001b[0m _assert_stacked_2d(a)\n\u001b[1;32m--> 373\u001b[0m _assert_stacked_square(a)\n\u001b[0;32m    374\u001b[0m b, wrap \u001b[39m=\u001b[39m _makearray(b)\n\u001b[0;32m    375\u001b[0m t, result_t \u001b[39m=\u001b[39m _commonType(a, b)\n",
      "File \u001b[1;32mc:\\Users\\ashka\\Desktop\\New_folder\\New_folder\\CSCN8010\\venv\\CSCN8010_classic_ml\\Lib\\site-packages\\numpy\\linalg\\linalg.py:190\u001b[0m, in \u001b[0;36m_assert_stacked_square\u001b[1;34m(*arrays)\u001b[0m\n\u001b[0;32m    188\u001b[0m m, n \u001b[39m=\u001b[39m a\u001b[39m.\u001b[39mshape[\u001b[39m-\u001b[39m\u001b[39m2\u001b[39m:]\n\u001b[0;32m    189\u001b[0m \u001b[39mif\u001b[39;00m m \u001b[39m!=\u001b[39m n:\n\u001b[1;32m--> 190\u001b[0m     \u001b[39mraise\u001b[39;00m LinAlgError(\u001b[39m'\u001b[39m\u001b[39mLast 2 dimensions of the array must be square\u001b[39m\u001b[39m'\u001b[39m)\n",
      "\u001b[1;31mLinAlgError\u001b[0m: Last 2 dimensions of the array must be square"
     ]
    }
   ],
   "source": [
    "arr1 = np.array([[2, 3, -4], [1, -4, 0]])#coefficient of matrix\n",
    "solution = np.array([6, 8])#constant vector!!!\n",
    "print(\" shape of a matrix is: \\n\", arr1.shape)\n",
    "print(\"shape of b matrix is: \\n\", solution.shape)\n",
    "# Solve the system of equations\n",
    "X = np.linalg.solve(arr1,solution)\n",
    "# finding the shape\n",
    "print(X)"
   ]
  },
  {
   "attachments": {},
   "cell_type": "markdown",
   "metadata": {},
   "source": [
    " The matrix is not invertible,so it is singular. when we use np.linalg.solve() function to solve the linear equations, the coefficient matrix X must be non-singular.if it not,  then the error will come up like this,"
   ]
  },
  {
   "attachments": {},
   "cell_type": "markdown",
   "metadata": {},
   "source": [
    "2 . 3y1-4y2+5y3=10,   -y1+2y2-4y3=8"
   ]
  },
  {
   "cell_type": "code",
   "execution_count": null,
   "metadata": {},
   "outputs": [
    {
     "name": "stdout",
     "output_type": "stream",
     "text": [
      " shape of a matrix is: \n",
      " (2, 3)\n",
      "shape of b matrix is: \n",
      " (2,)\n"
     ]
    },
    {
     "ename": "LinAlgError",
     "evalue": "Last 2 dimensions of the array must be square",
     "output_type": "error",
     "traceback": [
      "\u001b[1;31m---------------------------------------------------------------------------\u001b[0m",
      "\u001b[1;31mLinAlgError\u001b[0m                               Traceback (most recent call last)",
      "Cell \u001b[1;32mIn[48], line 6\u001b[0m\n\u001b[0;32m      4\u001b[0m \u001b[39mprint\u001b[39m(\u001b[39m\"\u001b[39m\u001b[39mshape of b matrix is: \u001b[39m\u001b[39m\\n\u001b[39;00m\u001b[39m\"\u001b[39m, solution\u001b[39m.\u001b[39mshape)\n\u001b[0;32m      5\u001b[0m \u001b[39m# Solve the system of equations\u001b[39;00m\n\u001b[1;32m----> 6\u001b[0m X \u001b[39m=\u001b[39m np\u001b[39m.\u001b[39;49mlinalg\u001b[39m.\u001b[39;49msolve(arr1,solution)\n\u001b[0;32m      7\u001b[0m \u001b[39m# finding the shape\u001b[39;00m\n\u001b[0;32m      8\u001b[0m \u001b[39mprint\u001b[39m(X)\n",
      "File \u001b[1;32m<__array_function__ internals>:200\u001b[0m, in \u001b[0;36msolve\u001b[1;34m(*args, **kwargs)\u001b[0m\n",
      "File \u001b[1;32mc:\\Users\\ashka\\Desktop\\New_folder\\New_folder\\CSCN8010\\venv\\CSCN8010_classic_ml\\Lib\\site-packages\\numpy\\linalg\\linalg.py:373\u001b[0m, in \u001b[0;36msolve\u001b[1;34m(a, b)\u001b[0m\n\u001b[0;32m    371\u001b[0m a, _ \u001b[39m=\u001b[39m _makearray(a)\n\u001b[0;32m    372\u001b[0m _assert_stacked_2d(a)\n\u001b[1;32m--> 373\u001b[0m _assert_stacked_square(a)\n\u001b[0;32m    374\u001b[0m b, wrap \u001b[39m=\u001b[39m _makearray(b)\n\u001b[0;32m    375\u001b[0m t, result_t \u001b[39m=\u001b[39m _commonType(a, b)\n",
      "File \u001b[1;32mc:\\Users\\ashka\\Desktop\\New_folder\\New_folder\\CSCN8010\\venv\\CSCN8010_classic_ml\\Lib\\site-packages\\numpy\\linalg\\linalg.py:190\u001b[0m, in \u001b[0;36m_assert_stacked_square\u001b[1;34m(*arrays)\u001b[0m\n\u001b[0;32m    188\u001b[0m m, n \u001b[39m=\u001b[39m a\u001b[39m.\u001b[39mshape[\u001b[39m-\u001b[39m\u001b[39m2\u001b[39m:]\n\u001b[0;32m    189\u001b[0m \u001b[39mif\u001b[39;00m m \u001b[39m!=\u001b[39m n:\n\u001b[1;32m--> 190\u001b[0m     \u001b[39mraise\u001b[39;00m LinAlgError(\u001b[39m'\u001b[39m\u001b[39mLast 2 dimensions of the array must be square\u001b[39m\u001b[39m'\u001b[39m)\n",
      "\u001b[1;31mLinAlgError\u001b[0m: Last 2 dimensions of the array must be square"
     ]
    }
   ],
   "source": [
    "arr1 = np.array([[3, -4, 5], [-1, 2, -4]])#coefficient of matrix\n",
    "solution = np.array([10, 8])#constant vector!!!\n",
    "print(\" shape of a matrix is: \\n\", arr1.shape)\n",
    "print(\"shape of b matrix is: \\n\", solution.shape)\n",
    "# Solve the system of equations\n",
    "X = np.linalg.solve(arr1,solution)\n",
    "# finding the shape\n",
    "print(X)"
   ]
  },
  {
   "attachments": {},
   "cell_type": "markdown",
   "metadata": {},
   "source": [
    "the same issue that appered in the above question, it is not invertabile ......"
   ]
  }
 ],
 "metadata": {
  "kernelspec": {
   "display_name": "CSCN8010_classic_ml",
   "language": "python",
   "name": "cscn8010_classic_ml"
  },
  "language_info": {
   "codemirror_mode": {
    "name": "ipython",
    "version": 3
   },
   "file_extension": ".py",
   "mimetype": "text/x-python",
   "name": "python",
   "nbconvert_exporter": "python",
   "pygments_lexer": "ipython3",
   "version": "3.11.3"
  },
  "orig_nbformat": 4
 },
 "nbformat": 4,
 "nbformat_minor": 2
}
