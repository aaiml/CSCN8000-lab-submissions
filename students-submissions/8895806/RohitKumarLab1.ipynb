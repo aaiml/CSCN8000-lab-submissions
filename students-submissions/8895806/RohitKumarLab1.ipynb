{
 "cells": [
  {
   "attachments": {},
   "cell_type": "markdown",
   "metadata": {},
   "source": [
    "# Practical Lab-1 Rohit Kumar 8895806\n",
    "\n",
    "###  Basic Numpy Operations\n",
    "\n",
    "##### Part-A"
   ]
  },
  {
   "attachments": {},
   "cell_type": "markdown",
   "metadata": {},
   "source": [
    "##### 1.Create a Notebook to demonstrate NumPy Operations."
   ]
  },
  {
   "cell_type": "code",
   "execution_count": 37,
   "metadata": {},
   "outputs": [],
   "source": [
    "import numpy as np"
   ]
  },
  {
   "attachments": {},
   "cell_type": "markdown",
   "metadata": {},
   "source": [
    "##### 2.Create an array that starts from the integer 1, ends at 20, incremented by 3."
   ]
  },
  {
   "cell_type": "code",
   "execution_count": 38,
   "metadata": {},
   "outputs": [
    {
     "name": "stdout",
     "output_type": "stream",
     "text": [
      "array_with_steps : [ 1  4  7 10 13 16 19]\n"
     ]
    }
   ],
   "source": [
    "array_with_steps = np.arange(1, 21, 3) # (start,stop, step)\n",
    "print(\"array_with_steps :\", array_with_steps)"
   ]
  },
  {
   "attachments": {},
   "cell_type": "markdown",
   "metadata": {},
   "source": [
    "##### 3.Create a new array of shape 3 with random numbers between 0 and 1."
   ]
  },
  {
   "cell_type": "code",
   "execution_count": 39,
   "metadata": {},
   "outputs": [
    {
     "name": "stdout",
     "output_type": "stream",
     "text": [
      "array_from_0_to_1 : [0.12250998 0.37764192 0.42874733]\n"
     ]
    }
   ],
   "source": [
    "array_from_0_to_1 = np.random.rand(3)\n",
    "print(\"array_from_0_to_1 :\",array_from_0_to_1)"
   ]
  },
  {
   "attachments": {},
   "cell_type": "markdown",
   "metadata": {},
   "source": [
    "#####  4.Create a 2 D array [[10,20,45], [30,12,16], [42,17,56]] and perform the following operations: \n",
    "         \n",
    "###### Slice the 2D array to get the first two rows, \n",
    "###### slice the 2D array to get the last two rows."
   ]
  },
  {
   "cell_type": "code",
   "execution_count": 40,
   "metadata": {},
   "outputs": [
    {
     "name": "stdout",
     "output_type": "stream",
     "text": [
      "Original array: [[10 20 45]\n",
      " [30 12 16]\n",
      " [42 17 56]]\n",
      "First two rows: [[10 20 45]\n",
      " [30 12 16]]\n",
      "Last two rows: [[30 12 16]\n",
      " [42 17 56]]\n"
     ]
    }
   ],
   "source": [
    "array_2d = np.array([[10, 20, 45], [30, 12, 16], [42, 17, 56]])\n",
    "print(\"Original array:\", array_2d)\n",
    "\n",
    "# Slice the 2D array to get the first two rows\n",
    "first_two_rows = array_2d[:2, :]\n",
    "print(\"First two rows:\", first_two_rows)\n",
    "\n",
    "# Slice the 2D array to get the last two rows\n",
    "last_two_rows = array_2d[1:, :]\n",
    "print(\"Last two rows:\", last_two_rows)"
   ]
  },
  {
   "attachments": {},
   "cell_type": "markdown",
   "metadata": {},
   "source": [
    "#### 5.Create two 2x2 arrays and demonstrate how you can stack the elements vertically, horizontally, and split the arrays into smaller arrays."
   ]
  },
  {
   "cell_type": "code",
   "execution_count": 41,
   "metadata": {},
   "outputs": [
    {
     "name": "stdout",
     "output_type": "stream",
     "text": [
      "[[101 102]\n",
      " [103 104]]\n",
      "[[105 106]\n",
      " [107 108]]\n"
     ]
    }
   ],
   "source": [
    "array_from_101_to_104 = np.array([[101, 102], [103, 104]])\n",
    "array_from_105_to_108 = np.array([[105, 106], [107, 108]])\n",
    "print(array_from_101_to_104)\n",
    "print(array_from_105_to_108)"
   ]
  },
  {
   "attachments": {},
   "cell_type": "markdown",
   "metadata": {},
   "source": [
    "#### vertically\n",
    "\n"
   ]
  },
  {
   "cell_type": "code",
   "execution_count": 42,
   "metadata": {},
   "outputs": [
    {
     "name": "stdout",
     "output_type": "stream",
     "text": [
      "[[101 102]\n",
      " [103 104]\n",
      " [105 106]\n",
      " [107 108]]\n"
     ]
    }
   ],
   "source": [
    "vertical = np.vstack((array_from_101_to_104, array_from_105_to_108))\n",
    "print(vertical)"
   ]
  },
  {
   "attachments": {},
   "cell_type": "markdown",
   "metadata": {},
   "source": [
    "#### horizontally"
   ]
  },
  {
   "cell_type": "code",
   "execution_count": 43,
   "metadata": {},
   "outputs": [
    {
     "name": "stdout",
     "output_type": "stream",
     "text": [
      "[[101 102]\n",
      " [103 104]\n",
      " [105 106]\n",
      " [107 108]]\n"
     ]
    }
   ],
   "source": [
    "horizontal = np.vstack((array_from_101_to_104, array_from_105_to_108))\n",
    "print(horizontal)"
   ]
  },
  {
   "attachments": {},
   "cell_type": "markdown",
   "metadata": {},
   "source": [
    "#### Split arrays into smaller arrays\n"
   ]
  },
  {
   "cell_type": "code",
   "execution_count": 44,
   "metadata": {},
   "outputs": [
    {
     "name": "stdout",
     "output_type": "stream",
     "text": [
      "Vertical split:\n",
      " [array([[101, 102],\n",
      "       [103, 104]]), array([[105, 106],\n",
      "       [107, 108]])]\n",
      "Horizontal split:\n",
      " [array([[101],\n",
      "       [103],\n",
      "       [105],\n",
      "       [107]]), array([[102],\n",
      "       [104],\n",
      "       [106],\n",
      "       [108]])]\n"
     ]
    }
   ],
   "source": [
    "\n",
    "splitted_vertical = np.vsplit(vertical, 2)\n",
    "print(\"Vertical split:\\n\", splitted_vertical)\n",
    "\n",
    "splitted_horizontal = np.hsplit(horizontal, 2)\n",
    "print(\"Horizontal split:\\n\", splitted_horizontal)"
   ]
  },
  {
   "attachments": {},
   "cell_type": "markdown",
   "metadata": {},
   "source": [
    "#### 6.Create two matrices X= ([[5, 7, 2], [4, 5, 6], [7, 4 ,2]]) Y= ([[4, 2], [6, 2], [4, 2]]), Is it possible to multiply these matrices? "
   ]
  },
  {
   "cell_type": "code",
   "execution_count": 45,
   "metadata": {},
   "outputs": [
    {
     "name": "stdout",
     "output_type": "stream",
     "text": [
      "[[70 28]\n",
      " [70 30]\n",
      " [60 26]]\n",
      "[[70 28]\n",
      " [70 30]\n",
      " [60 26]]\n",
      "Number of rows: 3\n",
      "Number of columns: 2\n"
     ]
    }
   ],
   "source": [
    "X = np.array([[5, 7, 2], [4, 5, 6], [7, 4, 2]])\n",
    "Y = np.array([[4, 2], [6, 2], [4, 2]])\n",
    "\n",
    "\n",
    "result = np.matmul(X, Y)\n",
    "print(result)\n",
    "\n",
    "# or\n",
    "\n",
    "result1 = np.dot(X, Y)\n",
    "print(result1)\n",
    "\n",
    "\n",
    "rows, columns = Y.shape\n",
    "print(\"Number of rows:\", rows)\n",
    "print(\"Number of columns:\", columns)"
   ]
  },
  {
   "attachments": {},
   "cell_type": "markdown",
   "metadata": {},
   "source": [
    " Way of calculation\n",
    "\n",
    "| First Column| Second      |\n",
    "| ----------- | ----------- |\n",
    "| 5x4 = 20    | 5x2 = 10       |\n",
    "| 5x6 = 30    | 7x2 = 14        |\n",
    "| 5x4 = 20                                  | 2x2 = 4   |\n",
    "| Total= 70                                 | Total= 28  |    \n",
    "| 4x4 = 16                                  | 4x2 = 8 |\n",
    "| 5x6 = 30                                  | 5x2 = 10 | \n",
    "| 6x4 = 24                                  | 6x2 = 12  | \n",
    "| Total= 70                                 | Total= 30 |\n",
    "| 7x4 = 28                                  | 7x2 = 14 |\n",
    "| 4x6 = 24                                  | 4x2 = 8  |\n",
    "| 2x4 = 8                                   | 2x2 = 4   |\n",
    "| Total= 60                                 | Total= 26 |"
   ]
  },
  {
   "attachments": {},
   "cell_type": "markdown",
   "metadata": {},
   "source": [
    "\n",
    "### Yes it is possible and shown in above example."
   ]
  },
  {
   "attachments": {},
   "cell_type": "markdown",
   "metadata": {},
   "source": [
    "#### 7.Create two arrays, x = ([2, -1, -8]) y = ([3, 1, -2]), Find the Shape, Number of dimensions of vector x."
   ]
  },
  {
   "cell_type": "code",
   "execution_count": 46,
   "metadata": {},
   "outputs": [
    {
     "name": "stdout",
     "output_type": "stream",
     "text": [
      "Shape of x: (3,)\n",
      "Shape of y: (3,)\n",
      "Number of dimensions x: 1\n",
      "Number of dimensions y: 1\n"
     ]
    }
   ],
   "source": [
    "x = np.array([2, -1, -8])\n",
    "y = np.array([3, 1, -2])\n",
    "\n",
    "\n",
    "print(\"Shape of x:\", x.shape)\n",
    "print(\"Shape of y:\", y.shape)\n",
    "\n",
    "\n",
    "print(\"Number of dimensions x:\", x.ndim)\n",
    "print(\"Number of dimensions y:\", y.ndim)"
   ]
  },
  {
   "attachments": {},
   "cell_type": "markdown",
   "metadata": {},
   "source": [
    "##### Reshape the vector x to a matrix of size (3,1) and determine the number of dimensions after reshaping y to a matrix of (3,1)."
   ]
  },
  {
   "cell_type": "code",
   "execution_count": 47,
   "metadata": {},
   "outputs": [
    {
     "name": "stdout",
     "output_type": "stream",
     "text": [
      "[[ 2]\n",
      " [-1]\n",
      " [-8]]\n",
      "[[ 3]\n",
      " [ 1]\n",
      " [-2]]\n",
      "Number of dimensions after reshaping x: 2\n",
      "Number of dimensions after reshaping y: 2\n"
     ]
    }
   ],
   "source": [
    "x_reshaped = x.reshape(3, 1)\n",
    "y_reshaped = y.reshape(3, 1)\n",
    "print(x_reshaped)\n",
    "print(y_reshaped)\n",
    "print(\"Number of dimensions after reshaping x:\", x_reshaped.ndim)\n",
    "print(\"Number of dimensions after reshaping y:\", y_reshaped.ndim)"
   ]
  },
  {
   "attachments": {},
   "cell_type": "markdown",
   "metadata": {},
   "source": [
    "#### 8. How does broadcasting work? Demonstrate the subtraction, multiplication by considering a 3 x 3 matrix."
   ]
  },
  {
   "attachments": {},
   "cell_type": "markdown",
   "metadata": {},
   "source": [
    "##### Broadcasting is a feature of NumPy which used for arithmetic operations on arrays with different matrix sizes."
   ]
  },
  {
   "cell_type": "code",
   "execution_count": 48,
   "metadata": {},
   "outputs": [
    {
     "name": "stdout",
     "output_type": "stream",
     "text": [
      "[[ 99 100]\n",
      " [101 102]]\n",
      "[[404 408]\n",
      " [412 416]]\n",
      "\n",
      "\n",
      "orignal matrix =\n",
      " [[5 7 2]\n",
      " [4 5 6]\n",
      " [7 4 2]]\n",
      "\n",
      "Minus 3\n",
      "[[ 2  4 -1]\n",
      " [ 1  2  3]\n",
      " [ 4  1 -1]]\n",
      "\n",
      "multiply with 3\n",
      "[[15 21  6]\n",
      " [12 15 18]\n",
      " [21 12  6]]\n"
     ]
    }
   ],
   "source": [
    "subtraction_result = array_from_101_to_104 - 2 # subtraction with 2\n",
    "print(subtraction_result)\n",
    "\n",
    "multiply_result = array_from_101_to_104 * 4  # multiply with 4\n",
    "print(multiply_result)\n",
    "\n",
    "\n",
    "print(f\"\\n\\norignal matrix =\\n {X}\\n\")\n",
    "\n",
    "# both operations of 3x3 matrix\n",
    "print(\"Minus 3\")\n",
    "result_3x3_matrix_sub = X - 3\n",
    "print(result_3x3_matrix_sub)\n",
    "\n",
    "print(\"\\nmultiply with 3\")\n",
    "result_3x3_matrix_mul = X * 3\n",
    "print(result_3x3_matrix_mul)\n"
   ]
  },
  {
   "attachments": {},
   "cell_type": "markdown",
   "metadata": {},
   "source": [
    "\n",
    "#### 9. Add Markdown text, with a headline, that provides a very brief overview of the graphs (e.g., one sentence for each). \n",
    "         \n",
    "Feel free to add additional Markdown elements (description/additional comments)\n",
    "\n",
    "\n",
    "\n",
    "# Document Title\n",
    "\n",
    "Short introduction.\n",
    "\n",
    "\n",
    "## Topic\n",
    "\n",
    "Content.\n",
    "\n",
    "## See also\n",
    "\n",
    "* https://link-to-more-info\n",
    "\n",
    "\n",
    "...text before.\n",
    "\n",
    "# Heading 1\n",
    "\n",
    "Text after...\n",
    "\n",
    "\n",
    "\n",
    "1.  Foo.\n",
    "1.  Bar.\n",
    "    1.  Foofoo.\n",
    "    1.  Barbar.\n",
    "1.  Baz.\n",
    "\n",
    "\n",
    "\n",
    "\n",
    "1.  2 spaces after a numbered list.\n",
    "    4 space indent for wrapped text.\n",
    "2.  2 spaces again.\n",
    "\n",
    "*   3 spaces after a bullet.\n",
    "    4 space indent for wrapped text.\n",
    "    1.  2 spaces after a numbered list.\n",
    "        8 space indent for the wrapped text of a nested list.\n",
    "    2.  Looks nice, don't it?\n",
    "*   3 spaces after a bullet.\n",
    "\n",
    "\n",
    "## Overview of Graphs\n",
    "\n",
    "### Line Graphs\n",
    "This is the most basic type of plot. A line plot is typically used to plot the relationship between two numerical variables.\n",
    "\n",
    "\n",
    "\n"
   ]
  },
  {
   "cell_type": "code",
   "execution_count": 49,
   "metadata": {},
   "outputs": [
    {
     "data": {
      "image/png": "[encoded data removed]",
      "text/plain": [
       "<Figure size 640x480 with 1 Axes>"
      ]
     },
     "metadata": {},
     "output_type": "display_data"
    }
   ],
   "source": [
    "import pandas as pd\n",
    "import matplotlib.pyplot as plt\n",
    " \n",
    "#number of ice creams sold during a week\n",
    "ice_cream = [35,33,65,44,75,88,101]\n",
    " \n",
    "plt.plot(ice_cream)\n",
    " \n",
    "plt.show()"
   ]
  },
  {
   "attachments": {},
   "cell_type": "markdown",
   "metadata": {},
   "source": [
    "## Pie Chart:\n",
    "A pie chart is a circular figure that depicts the percentage or proportion of data."
   ]
  },
  {
   "cell_type": "code",
   "execution_count": 50,
   "metadata": {},
   "outputs": [
    {
     "data": {
      "image/png": "[encoded data removed]",
      "text/plain": [
       "<Figure size 640x480 with 1 Axes>"
      ]
     },
     "metadata": {},
     "output_type": "display_data"
    }
   ],
   "source": [
    "x = [64.73,18.43,3.37,3.36,10.11]\n",
    "labels = ['Chrome', 'Safari', 'Edge', 'Firefox', 'Others']\n",
    " \n",
    "plt.pie(x, labels=labels,autopct='%.1f%%')\n",
    "plt.show()"
   ]
  },
  {
   "attachments": {},
   "cell_type": "markdown",
   "metadata": {},
   "source": [
    "## Scatter Plot:\n",
    "Another popular plot is scatter plot. It plots the relationship between two numeric features in a data set.\n",
    "\n"
   ]
  },
  {
   "cell_type": "code",
   "execution_count": 51,
   "metadata": {},
   "outputs": [
    {
     "data": {
      "image/png": "[encoded data removed]",
      "text/plain": [
       "<Figure size 640x480 with 1 Axes>"
      ]
     },
     "metadata": {},
     "output_type": "display_data"
    }
   ],
   "source": [
    "import pandas as pd \n",
    "import matplotlib.pyplot as plt\n",
    " \n",
    "ice_cream = [35,33,65,44,75,88,101]\n",
    "days = ['Mon','Tues','Wed','Thur','Fri','Sat','Sun']\n",
    " \n",
    "plt.scatter(ice_cream, days)\n",
    "plt.show()"
   ]
  },
  {
   "attachments": {},
   "cell_type": "markdown",
   "metadata": {},
   "source": [
    "## Bar Plot:\n",
    "When comparing data, bar charts are helpful. It compares different types of data using rectangular bars.\n",
    "\n",
    "\n"
   ]
  },
  {
   "cell_type": "code",
   "execution_count": 52,
   "metadata": {},
   "outputs": [
    {
     "data": {
      "image/png": "[encoded data removed]",
      "text/plain": [
       "<Figure size 640x480 with 1 Axes>"
      ]
     },
     "metadata": {},
     "output_type": "display_data"
    }
   ],
   "source": [
    "import pandas as pd \n",
    "import matplotlib.pyplot as plt\n",
    " \n",
    "ice_cream = [35,33,65,44,75,88,101]\n",
    "days = ['Mon','Tues','Wed','Thur','Fri','Sat','Sun']\n",
    " \n",
    "plt.bar(days, ice_cream)\n",
    "plt.show()"
   ]
  },
  {
   "attachments": {},
   "cell_type": "markdown",
   "metadata": {},
   "source": [
    "## Histogram Plot:\n",
    "A histogram graphically depicts the distribution of numerical data. The range of values is divided into equal-sized bins. The height of each bin represents the frequency of values in that bin.\n"
   ]
  },
  {
   "attachments": {},
   "cell_type": "markdown",
   "metadata": {},
   "source": [
    "## Box Plot:\n",
    "Box plot, also known as box-and-whisker plot, helps us to study the distribution of the data. It is a very convenient way to visualize the spread and skew of the data.\n",
    "\n"
   ]
  },
  {
   "cell_type": "code",
   "execution_count": 53,
   "metadata": {},
   "outputs": [
    {
     "data": {
      "image/png": "[encoded data removed]",
      "text/plain": [
       "<Figure size 1000x700 with 1 Axes>"
      ]
     },
     "metadata": {},
     "output_type": "display_data"
    }
   ],
   "source": [
    "import matplotlib.pyplot as plt\n",
    "import numpy as np\n",
    " \n",
    " \n",
    "np.random.seed(10)\n",
    "data = np.random.normal(100, 20, 200)\n",
    " \n",
    "fig = plt.figure(figsize =(10, 7))\n",
    " \n",
    "plt.boxplot(data)\n",
    " \n",
    "plt.show()"
   ]
  },
  {
   "attachments": {},
   "cell_type": "markdown",
   "metadata": {},
   "source": [
    "# Part B\n"
   ]
  },
  {
   "attachments": {},
   "cell_type": "markdown",
   "metadata": {},
   "source": [
    "#### 1.Solve the following two system of linear equations using matrices (find the values of x1 and x2) and determine the number of solutions using the functions. \n"
   ]
  },
  {
   "attachments": {},
   "cell_type": "markdown",
   "metadata": {},
   "source": [
    "##### Defining the feature matrix for given set of solutions 2x1+3x2-4x3 = 6; x1-4x2+0x3 = 8\n",
    "\n"
   ]
  },
  {
   "cell_type": "code",
   "execution_count": 54,
   "metadata": {},
   "outputs": [
    {
     "name": "stdout",
     "output_type": "stream",
     "text": [
      "The shape of A matrix is: \n",
      " (2, 3)\n",
      "The shape of B matrix is: \n",
      " (2,)\n"
     ]
    },
    {
     "ename": "LinAlgError",
     "evalue": "Last 2 dimensions of the array must be square",
     "output_type": "error",
     "traceback": [
      "\u001b[1;31m---------------------------------------------------------------------------\u001b[0m",
      "\u001b[1;31mLinAlgError\u001b[0m                               Traceback (most recent call last)",
      "Cell \u001b[1;32mIn[54], line 12\u001b[0m\n\u001b[0;32m      9\u001b[0m \u001b[39mprint\u001b[39m(\u001b[39m\"\u001b[39m\u001b[39mThe shape of A matrix is: \u001b[39m\u001b[39m\\n\u001b[39;00m\u001b[39m\"\u001b[39m, A\u001b[39m.\u001b[39mshape)\n\u001b[0;32m     10\u001b[0m \u001b[39mprint\u001b[39m(\u001b[39m\"\u001b[39m\u001b[39mThe shape of B matrix is: \u001b[39m\u001b[39m\\n\u001b[39;00m\u001b[39m\"\u001b[39m, B\u001b[39m.\u001b[39mshape)\n\u001b[1;32m---> 12\u001b[0m solution \u001b[39m=\u001b[39m np\u001b[39m.\u001b[39;49mlinalg\u001b[39m.\u001b[39;49msolve(A, B)\n",
      "File \u001b[1;32m<__array_function__ internals>:200\u001b[0m, in \u001b[0;36msolve\u001b[1;34m(*args, **kwargs)\u001b[0m\n",
      "File \u001b[1;32md:\\python\\Assignment 3\\venv\\CSCN8010_classic_ml\\Lib\\site-packages\\numpy\\linalg\\linalg.py:373\u001b[0m, in \u001b[0;36msolve\u001b[1;34m(a, b)\u001b[0m\n\u001b[0;32m    371\u001b[0m a, _ \u001b[39m=\u001b[39m _makearray(a)\n\u001b[0;32m    372\u001b[0m _assert_stacked_2d(a)\n\u001b[1;32m--> 373\u001b[0m _assert_stacked_square(a)\n\u001b[0;32m    374\u001b[0m b, wrap \u001b[39m=\u001b[39m _makearray(b)\n\u001b[0;32m    375\u001b[0m t, result_t \u001b[39m=\u001b[39m _commonType(a, b)\n",
      "File \u001b[1;32md:\\python\\Assignment 3\\venv\\CSCN8010_classic_ml\\Lib\\site-packages\\numpy\\linalg\\linalg.py:190\u001b[0m, in \u001b[0;36m_assert_stacked_square\u001b[1;34m(*arrays)\u001b[0m\n\u001b[0;32m    188\u001b[0m m, n \u001b[39m=\u001b[39m a\u001b[39m.\u001b[39mshape[\u001b[39m-\u001b[39m\u001b[39m2\u001b[39m:]\n\u001b[0;32m    189\u001b[0m \u001b[39mif\u001b[39;00m m \u001b[39m!=\u001b[39m n:\n\u001b[1;32m--> 190\u001b[0m     \u001b[39mraise\u001b[39;00m LinAlgError(\u001b[39m'\u001b[39m\u001b[39mLast 2 dimensions of the array must be square\u001b[39m\u001b[39m'\u001b[39m)\n",
      "\u001b[1;31mLinAlgError\u001b[0m: Last 2 dimensions of the array must be square"
     ]
    }
   ],
   "source": [
    "# Defining the feature matrix for given set of solutions 2x1+3x2-4x3 = 6; x1-4x2+0x3 = 8\n",
    "\n",
    "A = np.array([[2,3,-4],[1,-4,0]])\n",
    "\n",
    "# Defining the constants matrix for given set of equations\n",
    "\n",
    "B = np.array([6,8])\n",
    "\n",
    "print(\"The shape of A matrix is: \\n\", A.shape)\n",
    "print(\"The shape of B matrix is: \\n\", B.shape)\n",
    "\n",
    "solution = np.linalg.solve(A, B)\n"
   ]
  },
  {
   "attachments": {},
   "cell_type": "markdown",
   "metadata": {},
   "source": [
    "As I can check Error \"Last 2 dimensions of the array must be square\", A matrix is 2 x 3, which is a non-square matrix. Thats why it is not executing solution. "
   ]
  },
  {
   "cell_type": "code",
   "execution_count": null,
   "metadata": {},
   "outputs": [
    {
     "name": "stdout",
     "output_type": "stream",
     "text": [
      "The shape of P matrix is: \n",
      " (2, 3)\n",
      "The shape of Q matrix is: \n",
      " (3,)\n"
     ]
    },
    {
     "ename": "LinAlgError",
     "evalue": "Last 2 dimensions of the array must be square",
     "output_type": "error",
     "traceback": [
      "\u001b[1;31m---------------------------------------------------------------------------\u001b[0m",
      "\u001b[1;31mLinAlgError\u001b[0m                               Traceback (most recent call last)",
      "Cell \u001b[1;32mIn[215], line 13\u001b[0m\n\u001b[0;32m      9\u001b[0m \u001b[39mprint\u001b[39m(\u001b[39m\"\u001b[39m\u001b[39mThe shape of P matrix is: \u001b[39m\u001b[39m\\n\u001b[39;00m\u001b[39m\"\u001b[39m, P\u001b[39m.\u001b[39mshape)\n\u001b[0;32m     10\u001b[0m \u001b[39mprint\u001b[39m(\u001b[39m\"\u001b[39m\u001b[39mThe shape of Q matrix is: \u001b[39m\u001b[39m\\n\u001b[39;00m\u001b[39m\"\u001b[39m, Q\u001b[39m.\u001b[39mshape)\n\u001b[1;32m---> 13\u001b[0m solution \u001b[39m=\u001b[39m np\u001b[39m.\u001b[39;49mlinalg\u001b[39m.\u001b[39;49msolve(A, B)\n",
      "File \u001b[1;32m<__array_function__ internals>:200\u001b[0m, in \u001b[0;36msolve\u001b[1;34m(*args, **kwargs)\u001b[0m\n",
      "File \u001b[1;32m~\\AppData\\Roaming\\Python\\Python311\\site-packages\\numpy\\linalg\\linalg.py:373\u001b[0m, in \u001b[0;36msolve\u001b[1;34m(a, b)\u001b[0m\n\u001b[0;32m    371\u001b[0m a, _ \u001b[39m=\u001b[39m _makearray(a)\n\u001b[0;32m    372\u001b[0m _assert_stacked_2d(a)\n\u001b[1;32m--> 373\u001b[0m _assert_stacked_square(a)\n\u001b[0;32m    374\u001b[0m b, wrap \u001b[39m=\u001b[39m _makearray(b)\n\u001b[0;32m    375\u001b[0m t, result_t \u001b[39m=\u001b[39m _commonType(a, b)\n",
      "File \u001b[1;32m~\\AppData\\Roaming\\Python\\Python311\\site-packages\\numpy\\linalg\\linalg.py:190\u001b[0m, in \u001b[0;36m_assert_stacked_square\u001b[1;34m(*arrays)\u001b[0m\n\u001b[0;32m    188\u001b[0m m, n \u001b[39m=\u001b[39m a\u001b[39m.\u001b[39mshape[\u001b[39m-\u001b[39m\u001b[39m2\u001b[39m:]\n\u001b[0;32m    189\u001b[0m \u001b[39mif\u001b[39;00m m \u001b[39m!=\u001b[39m n:\n\u001b[1;32m--> 190\u001b[0m     \u001b[39mraise\u001b[39;00m LinAlgError(\u001b[39m'\u001b[39m\u001b[39mLast 2 dimensions of the array must be square\u001b[39m\u001b[39m'\u001b[39m)\n",
      "\u001b[1;31mLinAlgError\u001b[0m: Last 2 dimensions of the array must be square"
     ]
    }
   ],
   "source": [
    "#  3y1-4y2+5y3 = 10; -y1+2y2-4y3 = 8\n",
    "\n",
    "P = np.array([[3,-4,5],[-1,2,-4]])\n",
    "\n",
    "# Defining the constants matrix for given set of equations\n",
    "\n",
    "Q = np.array([10,8])\n",
    "\n",
    "print(\"The shape of P matrix is: \\n\", P.shape)\n",
    "print(\"The shape of Q matrix is: \\n\", Q.shape)"
   ]
  },
  {
   "attachments": {},
   "cell_type": "markdown",
   "metadata": {},
   "source": [
    "As this statement also same error in execution. Along with this same shape of this matrix too. "
   ]
  }
 ],
 "metadata": {
  "kernelspec": {
   "display_name": "CSCN8010_classic_ml",
   "language": "python",
   "name": "cscn8010_classic_ml"
  },
  "language_info": {
   "codemirror_mode": {
    "name": "ipython",
    "version": 3
   },
   "file_extension": ".py",
   "mimetype": "text/x-python",
   "name": "python",
   "nbconvert_exporter": "python",
   "pygments_lexer": "ipython3",
   "version": "3.11.3"
  },
  "orig_nbformat": 4
 },
 "nbformat": 4,
 "nbformat_minor": 2
}
