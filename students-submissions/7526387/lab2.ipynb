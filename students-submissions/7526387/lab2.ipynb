{
 "cells": [
  {
   "attachments": {},
   "cell_type": "markdown",
   "metadata": {},
   "source": [
    "# Lab #2\n",
    "#### Billy Parmenter - 7526387\n",
    "## Part A"
   ]
  },
  {
   "cell_type": "code",
   "execution_count": 1,
   "metadata": {},
   "outputs": [],
   "source": [
    "#imports\n",
    "import string\n",
    "import numpy as np\n",
    "import pandas as pd\n",
    "import matplotlib.pyplot as plt\n",
    "import seaborn as sns; \n",
    "sns.set()\n",
    "\n",
    "from sklearn.model_selection import train_test_split\n",
    "from sklearn.naive_bayes import MultinomialNB, GaussianNB\n",
    "from sklearn.feature_extraction.text import TfidfVectorizer, CountVectorizer\n",
    "from sklearn.pipeline import make_pipeline\n",
    "from sklearn.metrics import confusion_matrix, classification_report, accuracy_score\n",
    "\n",
    "from nltk.tokenize import word_tokenize\n",
    "from nltk.corpus import stopwords\n",
    "\n",
    "from scipy import stats\n",
    "\n",
    "lab2_csv_path = '../../practical_labs/Lab2_dataset.csv'\n",
    "airbnb_csv_path = '../../practical_labs/AB_NYC_2019.csv'"
   ]
  },
  {
   "cell_type": "code",
   "execution_count": 2,
   "metadata": {},
   "outputs": [],
   "source": [
    "def get_part_A_data(path):\n",
    "  data = pd.read_csv(path, header=0, names=['index','label', 'text', 'label_num'], index_col='index')\n",
    "  data = data.sort_index()\n",
    "  return data"
   ]
  },
  {
   "cell_type": "code",
   "execution_count": 3,
   "metadata": {},
   "outputs": [],
   "source": [
    "def clean_text(text): \n",
    "  tokens = word_tokenize(text)\n",
    "  \n",
    "  tokens = [w.lower() for w in tokens]\n",
    "  \n",
    "  table = str.maketrans('', '', string.punctuation)\n",
    "  stripped = [w.translate(table) for w in tokens]\n",
    "  \n",
    "  words = [word for word in stripped if word.isalpha()]\n",
    "  \n",
    "  stop_words = set(stopwords.words('english'))\n",
    "  words = [w for w in words if not w in stop_words]\n",
    "  \n",
    "  return \" \".join(words)"
   ]
  },
  {
   "cell_type": "code",
   "execution_count": 4,
   "metadata": {},
   "outputs": [],
   "source": [
    "def get_part_A_clean_data(path):\n",
    "  data = pd.read_csv(path, header=0, names=['index','label', 'text', 'label_num'], index_col='index')\n",
    "  data = data.sort_index()\n",
    "  data['text'] = data['text'].apply(clean_text)\n",
    "  return data"
   ]
  },
  {
   "cell_type": "code",
   "execution_count": 5,
   "metadata": {},
   "outputs": [],
   "source": [
    "def split_data(data):\n",
    "  matrix = CountVectorizer(max_features=1000)\n",
    "  X = matrix.fit_transform(data['text']).toarray()\n",
    "  y = data.iloc[:, 0]\n",
    "  X_train, X_test, y_train, y_test = train_test_split(X, y, test_size=0.2, random_state=42)\n",
    "  return X_train, X_test, y_train, y_test"
   ]
  },
  {
   "cell_type": "code",
   "execution_count": 6,
   "metadata": {},
   "outputs": [],
   "source": [
    "def evaluate_model(y_test, y_pred):\n",
    "  cm = confusion_matrix(y_test, y_pred)\n",
    "  cr = classification_report(y_test, y_pred)\n",
    "\n",
    "  accuracy = accuracy_score(y_test, y_pred)\n",
    "\n",
    "  sns.heatmap(cm.T, square=True, annot=True, fmt='d')\n",
    "  plt.xlabel('true label')\n",
    "  plt.ylabel('predicted label');\n",
    "  print(cr, \"Accuracy: \", accuracy)"
   ]
  },
  {
   "cell_type": "code",
   "execution_count": 7,
   "metadata": {},
   "outputs": [],
   "source": [
    "def fit_model(model, X_train, y_train):\n",
    "  model.fit(X_train, y_train)\n",
    "  return model"
   ]
  },
  {
   "cell_type": "code",
   "execution_count": 8,
   "metadata": {},
   "outputs": [],
   "source": [
    "def classify(model, data):\n",
    "  X_train, X_test, y_train, y_test = split_data(data)\n",
    "  model = fit_model(model, X_train, y_train)\n",
    "  y_pred = model.predict(X_test)\n",
    "  evaluate_model(y_test, y_pred)"
   ]
  },
  {
   "cell_type": "code",
   "execution_count": 9,
   "metadata": {},
   "outputs": [],
   "source": [
    "dirty_data = get_part_A_data(lab2_csv_path)\n",
    "clean_data = get_part_A_clean_data(lab2_csv_path)"
   ]
  },
  {
   "attachments": {},
   "cell_type": "markdown",
   "metadata": {},
   "source": [
    "### Multinomial"
   ]
  },
  {
   "cell_type": "code",
   "execution_count": 10,
   "metadata": {},
   "outputs": [
    {
     "name": "stdout",
     "output_type": "stream",
     "text": [
      "              precision    recall  f1-score   support\n",
      "\n",
      "         ham       0.97      0.93      0.95       718\n",
      "        spam       0.86      0.93      0.89       317\n",
      "\n",
      "    accuracy                           0.93      1035\n",
      "   macro avg       0.91      0.93      0.92      1035\n",
      "weighted avg       0.93      0.93      0.93      1035\n",
      " Accuracy:  0.9314009661835749\n"
     ]
    },
    {
     "data": {
      "image/png": "[encoded data removed]",
      "text/plain": [
       "<Figure size 432x288 with 2 Axes>"
      ]
     },
     "metadata": {
      "needs_background": "light"
     },
     "output_type": "display_data"
    }
   ],
   "source": [
    "classify(MultinomialNB(), dirty_data)"
   ]
  },
  {
   "cell_type": "code",
   "execution_count": 11,
   "metadata": {},
   "outputs": [
    {
     "name": "stdout",
     "output_type": "stream",
     "text": [
      "              precision    recall  f1-score   support\n",
      "\n",
      "         ham       0.96      0.94      0.95       718\n",
      "        spam       0.87      0.91      0.89       317\n",
      "\n",
      "    accuracy                           0.93      1035\n",
      "   macro avg       0.91      0.92      0.92      1035\n",
      "weighted avg       0.93      0.93      0.93      1035\n",
      " Accuracy:  0.9304347826086956\n"
     ]
    },
    {
     "data": {
      "image/png": "[encoded data removed]",
      "text/plain": [
       "<Figure size 432x288 with 2 Axes>"
      ]
     },
     "metadata": {
      "needs_background": "light"
     },
     "output_type": "display_data"
    }
   ],
   "source": [
    "classify(MultinomialNB(), clean_data)"
   ]
  },
  {
   "attachments": {},
   "cell_type": "markdown",
   "metadata": {},
   "source": [
    "### Gaussian"
   ]
  },
  {
   "cell_type": "code",
   "execution_count": 12,
   "metadata": {},
   "outputs": [
    {
     "name": "stdout",
     "output_type": "stream",
     "text": [
      "              precision    recall  f1-score   support\n",
      "\n",
      "         ham       0.99      0.94      0.96       718\n",
      "        spam       0.88      0.97      0.93       317\n",
      "\n",
      "    accuracy                           0.95      1035\n",
      "   macro avg       0.93      0.96      0.94      1035\n",
      "weighted avg       0.96      0.95      0.95      1035\n",
      " Accuracy:  0.9516908212560387\n"
     ]
    },
    {
     "data": {
      "image/png": "[encoded data removed]",
      "text/plain": [
       "<Figure size 432x288 with 2 Axes>"
      ]
     },
     "metadata": {
      "needs_background": "light"
     },
     "output_type": "display_data"
    }
   ],
   "source": [
    "classify(GaussianNB(), dirty_data)"
   ]
  },
  {
   "cell_type": "code",
   "execution_count": 13,
   "metadata": {},
   "outputs": [
    {
     "name": "stdout",
     "output_type": "stream",
     "text": [
      "              precision    recall  f1-score   support\n",
      "\n",
      "         ham       0.99      0.93      0.96       718\n",
      "        spam       0.86      0.97      0.91       317\n",
      "\n",
      "    accuracy                           0.94      1035\n",
      "   macro avg       0.92      0.95      0.93      1035\n",
      "weighted avg       0.95      0.94      0.94      1035\n",
      " Accuracy:  0.9420289855072463\n"
     ]
    },
    {
     "data": {
      "image/png": "[encoded data removed]",
      "text/plain": [
       "<Figure size 432x288 with 2 Axes>"
      ]
     },
     "metadata": {
      "needs_background": "light"
     },
     "output_type": "display_data"
    }
   ],
   "source": [
    "classify(GaussianNB(), clean_data)"
   ]
  },
  {
   "attachments": {},
   "cell_type": "markdown",
   "metadata": {},
   "source": [
    "### Observations\n",
    "I decided to also evaluate dirty vs clean data for both Multinomial and Gaussian calssification.\n",
    "\n",
    "Bassed on accuracy and recal I would suggest using Gaussian with, surprisingly, dirty data.\n",
    "\n",
    "## Part B"
   ]
  },
  {
   "cell_type": "code",
   "execution_count": 14,
   "metadata": {},
   "outputs": [],
   "source": [
    "def get_part_B_data(path):\n",
    "  data = pd.read_csv(path, header=0)\n",
    "  data = data.rename_axis('index')\n",
    "\n",
    "  return data"
   ]
  },
  {
   "cell_type": "code",
   "execution_count": 15,
   "metadata": {},
   "outputs": [],
   "source": [
    "def detect_outliers(method, data, threshold):\n",
    "    match method:\n",
    "        case \"mean\":\n",
    "            mean = np.mean(data)\n",
    "            std = np.std(data)\n",
    "            return data[abs(data - mean) > threshold * std]\n",
    "            \n",
    "        case \"median\":\n",
    "            median = np.median(data)\n",
    "            mad = np.median(np.abs(data - np.median(data, axis=0)), axis=0)\n",
    "            return data[np.abs(data - median) > threshold * mad]\n",
    "        \n",
    "        case \"percentile\":\n",
    "            percentile = np.percentile(data, threshold, axis=0)\n",
    "            return data[data > percentile]"
   ]
  },
  {
   "cell_type": "code",
   "execution_count": 16,
   "metadata": {},
   "outputs": [
    {
     "data": {
      "text/html": [
       "<div>\n",
       "<style scoped>\n",
       "    .dataframe tbody tr th:only-of-type {\n",
       "        vertical-align: middle;\n",
       "    }\n",
       "\n",
       "    .dataframe tbody tr th {\n",
       "        vertical-align: top;\n",
       "    }\n",
       "\n",
       "    .dataframe thead th {\n",
       "        text-align: right;\n",
       "    }\n",
       "</style>\n",
       "<table border=\"1\" class=\"dataframe\">\n",
       "  <thead>\n",
       "    <tr style=\"text-align: right;\">\n",
       "      <th></th>\n",
       "      <th>id</th>\n",
       "      <th>name</th>\n",
       "      <th>host_id</th>\n",
       "      <th>host_name</th>\n",
       "      <th>neighbourhood_group</th>\n",
       "      <th>neighbourhood</th>\n",
       "      <th>latitude</th>\n",
       "      <th>longitude</th>\n",
       "      <th>room_type</th>\n",
       "      <th>price</th>\n",
       "      <th>minimum_nights</th>\n",
       "      <th>number_of_reviews</th>\n",
       "      <th>last_review</th>\n",
       "      <th>reviews_per_month</th>\n",
       "      <th>calculated_host_listings_count</th>\n",
       "      <th>availability_365</th>\n",
       "    </tr>\n",
       "    <tr>\n",
       "      <th>index</th>\n",
       "      <th></th>\n",
       "      <th></th>\n",
       "      <th></th>\n",
       "      <th></th>\n",
       "      <th></th>\n",
       "      <th></th>\n",
       "      <th></th>\n",
       "      <th></th>\n",
       "      <th></th>\n",
       "      <th></th>\n",
       "      <th></th>\n",
       "      <th></th>\n",
       "      <th></th>\n",
       "      <th></th>\n",
       "      <th></th>\n",
       "      <th></th>\n",
       "    </tr>\n",
       "  </thead>\n",
       "  <tbody>\n",
       "    <tr>\n",
       "      <th>0</th>\n",
       "      <td>2539</td>\n",
       "      <td>Clean &amp; quiet apt home by the park</td>\n",
       "      <td>2787</td>\n",
       "      <td>John</td>\n",
       "      <td>Brooklyn</td>\n",
       "      <td>Kensington</td>\n",
       "      <td>40.64749</td>\n",
       "      <td>-73.97237</td>\n",
       "      <td>Private room</td>\n",
       "      <td>149</td>\n",
       "      <td>1</td>\n",
       "      <td>9</td>\n",
       "      <td>2018-10-19</td>\n",
       "      <td>0.21</td>\n",
       "      <td>6</td>\n",
       "      <td>365</td>\n",
       "    </tr>\n",
       "    <tr>\n",
       "      <th>1</th>\n",
       "      <td>2595</td>\n",
       "      <td>Skylit Midtown Castle</td>\n",
       "      <td>2845</td>\n",
       "      <td>Jennifer</td>\n",
       "      <td>Manhattan</td>\n",
       "      <td>Midtown</td>\n",
       "      <td>40.75362</td>\n",
       "      <td>-73.98377</td>\n",
       "      <td>Entire home/apt</td>\n",
       "      <td>225</td>\n",
       "      <td>1</td>\n",
       "      <td>45</td>\n",
       "      <td>2019-05-21</td>\n",
       "      <td>0.38</td>\n",
       "      <td>2</td>\n",
       "      <td>355</td>\n",
       "    </tr>\n",
       "    <tr>\n",
       "      <th>2</th>\n",
       "      <td>3647</td>\n",
       "      <td>THE VILLAGE OF HARLEM....NEW YORK !</td>\n",
       "      <td>4632</td>\n",
       "      <td>Elisabeth</td>\n",
       "      <td>Manhattan</td>\n",
       "      <td>Harlem</td>\n",
       "      <td>40.80902</td>\n",
       "      <td>-73.94190</td>\n",
       "      <td>Private room</td>\n",
       "      <td>150</td>\n",
       "      <td>3</td>\n",
       "      <td>0</td>\n",
       "      <td>NaN</td>\n",
       "      <td>NaN</td>\n",
       "      <td>1</td>\n",
       "      <td>365</td>\n",
       "    </tr>\n",
       "    <tr>\n",
       "      <th>3</th>\n",
       "      <td>3831</td>\n",
       "      <td>Cozy Entire Floor of Brownstone</td>\n",
       "      <td>4869</td>\n",
       "      <td>LisaRoxanne</td>\n",
       "      <td>Brooklyn</td>\n",
       "      <td>Clinton Hill</td>\n",
       "      <td>40.68514</td>\n",
       "      <td>-73.95976</td>\n",
       "      <td>Entire home/apt</td>\n",
       "      <td>89</td>\n",
       "      <td>1</td>\n",
       "      <td>270</td>\n",
       "      <td>2019-07-05</td>\n",
       "      <td>4.64</td>\n",
       "      <td>1</td>\n",
       "      <td>194</td>\n",
       "    </tr>\n",
       "    <tr>\n",
       "      <th>4</th>\n",
       "      <td>5022</td>\n",
       "      <td>Entire Apt: Spacious Studio/Loft by central park</td>\n",
       "      <td>7192</td>\n",
       "      <td>Laura</td>\n",
       "      <td>Manhattan</td>\n",
       "      <td>East Harlem</td>\n",
       "      <td>40.79851</td>\n",
       "      <td>-73.94399</td>\n",
       "      <td>Entire home/apt</td>\n",
       "      <td>80</td>\n",
       "      <td>10</td>\n",
       "      <td>9</td>\n",
       "      <td>2018-11-19</td>\n",
       "      <td>0.10</td>\n",
       "      <td>1</td>\n",
       "      <td>0</td>\n",
       "    </tr>\n",
       "  </tbody>\n",
       "</table>\n",
       "</div>"
      ],
      "text/plain": [
       "         id                                              name  host_id  \\\n",
       "index                                                                    \n",
       "0      2539                Clean & quiet apt home by the park     2787   \n",
       "1      2595                             Skylit Midtown Castle     2845   \n",
       "2      3647               THE VILLAGE OF HARLEM....NEW YORK !     4632   \n",
       "3      3831                   Cozy Entire Floor of Brownstone     4869   \n",
       "4      5022  Entire Apt: Spacious Studio/Loft by central park     7192   \n",
       "\n",
       "         host_name neighbourhood_group neighbourhood  latitude  longitude  \\\n",
       "index                                                                       \n",
       "0             John            Brooklyn    Kensington  40.64749  -73.97237   \n",
       "1         Jennifer           Manhattan       Midtown  40.75362  -73.98377   \n",
       "2        Elisabeth           Manhattan        Harlem  40.80902  -73.94190   \n",
       "3      LisaRoxanne            Brooklyn  Clinton Hill  40.68514  -73.95976   \n",
       "4            Laura           Manhattan   East Harlem  40.79851  -73.94399   \n",
       "\n",
       "             room_type  price  minimum_nights  number_of_reviews last_review  \\\n",
       "index                                                                          \n",
       "0         Private room    149               1                  9  2018-10-19   \n",
       "1      Entire home/apt    225               1                 45  2019-05-21   \n",
       "2         Private room    150               3                  0         NaN   \n",
       "3      Entire home/apt     89               1                270  2019-07-05   \n",
       "4      Entire home/apt     80              10                  9  2018-11-19   \n",
       "\n",
       "       reviews_per_month  calculated_host_listings_count  availability_365  \n",
       "index                                                                       \n",
       "0                   0.21                               6               365  \n",
       "1                   0.38                               2               355  \n",
       "2                    NaN                               1               365  \n",
       "3                   4.64                               1               194  \n",
       "4                   0.10                               1                 0  "
      ]
     },
     "execution_count": 16,
     "metadata": {},
     "output_type": "execute_result"
    }
   ],
   "source": [
    "data = get_part_B_data(airbnb_csv_path)\n",
    "data.head()"
   ]
  },
  {
   "cell_type": "code",
   "execution_count": 17,
   "metadata": {},
   "outputs": [
    {
     "data": {
      "text/plain": [
       "<Axes: >"
      ]
     },
     "execution_count": 17,
     "metadata": {},
     "output_type": "execute_result"
    },
    {
     "data": {
      "image/png": "[encoded data removed]",
      "text/plain": [
       "<Figure size 432x288 with 1 Axes>"
      ]
     },
     "metadata": {
      "needs_background": "light"
     },
     "output_type": "display_data"
    }
   ],
   "source": [
    "sns.boxplot(data.price)"
   ]
  },
  {
   "cell_type": "code",
   "execution_count": 18,
   "metadata": {},
   "outputs": [
    {
     "name": "stdout",
     "output_type": "stream",
     "text": [
      "767\n"
     ]
    },
    {
     "data": {
      "text/plain": [
       "<Axes: >"
      ]
     },
     "execution_count": 18,
     "metadata": {},
     "output_type": "execute_result"
    },
    {
     "data": {
      "image/png": "[encoded data removed]",
      "text/plain": [
       "<Figure size 432x288 with 1 Axes>"
      ]
     },
     "metadata": {
      "needs_background": "light"
     },
     "output_type": "display_data"
    }
   ],
   "source": [
    "\n",
    "mean_outlier_indexes = detect_outliers(\"mean\", data.price, 2)\n",
    "mean_cleaned_data = data.drop(mean_outlier_indexes.index)\n",
    "\n",
    "print(len(mean_outlier_indexes))\n",
    "sns.boxplot(mean_cleaned_data.price)"
   ]
  },
  {
   "cell_type": "code",
   "execution_count": 19,
   "metadata": {},
   "outputs": [
    {
     "name": "stdout",
     "output_type": "stream",
     "text": [
      "6485\n"
     ]
    },
    {
     "data": {
      "text/plain": [
       "<Axes: >"
      ]
     },
     "execution_count": 19,
     "metadata": {},
     "output_type": "execute_result"
    },
    {
     "data": {
      "image/png": "[encoded data removed]",
      "text/plain": [
       "<Figure size 432x288 with 1 Axes>"
      ]
     },
     "metadata": {
      "needs_background": "light"
     },
     "output_type": "display_data"
    }
   ],
   "source": [
    "median_outlier_indexes = detect_outliers(\"median\", data.price, 3)\n",
    "median_cleaned_data = data.drop(median_outlier_indexes.index)\n",
    "\n",
    "print(len(median_outlier_indexes))\n",
    "sns.boxplot(median_cleaned_data.price)"
   ]
  },
  {
   "cell_type": "code",
   "execution_count": 20,
   "metadata": {},
   "outputs": [
    {
     "name": "stdout",
     "output_type": "stream",
     "text": [
      "4878\n"
     ]
    },
    {
     "data": {
      "text/plain": [
       "<Axes: >"
      ]
     },
     "execution_count": 20,
     "metadata": {},
     "output_type": "execute_result"
    },
    {
     "data": {
      "image/png": "[encoded data removed]",
      "text/plain": [
       "<Figure size 432x288 with 1 Axes>"
      ]
     },
     "metadata": {
      "needs_background": "light"
     },
     "output_type": "display_data"
    }
   ],
   "source": [
    "percentile_outlier_indexes = detect_outliers(\"percentile\", data.price, 90)\n",
    "percentile_cleaned_data = data.drop(percentile_outlier_indexes.index)\n",
    "\n",
    "print(len(percentile_outlier_indexes))\n",
    "sns.boxplot(percentile_cleaned_data.price)"
   ]
  },
  {
   "attachments": {},
   "cell_type": "markdown",
   "metadata": {},
   "source": [
    "Because the data is skewed the median method is not reliable. Median and percentile both work much better, median at threshold of 3 and percentile at 90%. Although I would suggest percentile because at the 90% threshold it removes all outliers and less non-outlier data points than median."
   ]
  }
 ],
 "metadata": {
  "kernelspec": {
   "display_name": "Python 3",
   "language": "python",
   "name": "python3"
  },
  "language_info": {
   "codemirror_mode": {
    "name": "ipython",
    "version": 3
   },
   "file_extension": ".py",
   "mimetype": "text/x-python",
   "name": "python",
   "nbconvert_exporter": "python",
   "pygments_lexer": "ipython3",
   "version": "3.10.2"
  },
  "orig_nbformat": 4
 },
 "nbformat": 4,
 "nbformat_minor": 2
}
