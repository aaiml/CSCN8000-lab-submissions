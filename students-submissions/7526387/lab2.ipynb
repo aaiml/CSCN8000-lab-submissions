{
 "cells": [
  {
   "attachments": {},
   "cell_type": "markdown",
   "metadata": {},
   "source": [
    "# Lab #2\n",
    "#### Billy Parmenter - 7526387\n",
    "## Part A"
   ]
  },
  {
   "cell_type": "code",
   "execution_count": 1,
   "metadata": {},
   "outputs": [],
   "source": [
    "#imports\n",
    "import string\n",
    "import numpy as np\n",
    "import pandas as pd\n",
    "import matplotlib.pyplot as plt\n",
    "import seaborn as sns; \n",
    "sns.set()\n",
    "\n",
    "from sklearn.model_selection import train_test_split\n",
    "from sklearn.naive_bayes import MultinomialNB, GaussianNB\n",
    "from sklearn.feature_extraction.text import TfidfVectorizer, CountVectorizer\n",
    "from sklearn.pipeline import make_pipeline\n",
    "from sklearn.metrics import confusion_matrix, classification_report, accuracy_score\n",
    "\n",
    "from nltk.tokenize import word_tokenize\n",
    "from nltk.corpus import stopwords\n",
    "\n",
    "csv_path = '../../practical_labs/Lab2_dataset.csv'"
   ]
  },
  {
   "cell_type": "code",
   "execution_count": 2,
   "metadata": {},
   "outputs": [],
   "source": [
    "def get_dirty_data():\n",
    "  data = pd.read_csv(csv_path, header=0, names=['index','label', 'text', 'label_num'], index_col='index')\n",
    "  data = data.sort_index()\n",
    "  return data"
   ]
  },
  {
   "cell_type": "code",
   "execution_count": 3,
   "metadata": {},
   "outputs": [],
   "source": [
    "def clean_text(text): \n",
    "  tokens = word_tokenize(text)\n",
    "  \n",
    "  tokens = [w.lower() for w in tokens]\n",
    "  \n",
    "  table = str.maketrans('', '', string.punctuation)\n",
    "  stripped = [w.translate(table) for w in tokens]\n",
    "  \n",
    "  words = [word for word in stripped if word.isalpha()]\n",
    "  \n",
    "  stop_words = set(stopwords.words('english'))\n",
    "  words = [w for w in words if not w in stop_words]\n",
    "  \n",
    "  return \" \".join(words)"
   ]
  },
  {
   "cell_type": "code",
   "execution_count": 4,
   "metadata": {},
   "outputs": [],
   "source": [
    "def get_clean_data():\n",
    "  data = pd.read_csv(csv_path, header=0, names=['index','label', 'text', 'label_num'], index_col='index')\n",
    "  data = data.sort_index()\n",
    "  data['text'] = data['text'].apply(clean_text)\n",
    "  return data"
   ]
  },
  {
   "cell_type": "code",
   "execution_count": 5,
   "metadata": {},
   "outputs": [],
   "source": [
    "def split_data(data):\n",
    "  matrix = CountVectorizer(max_features=1000)\n",
    "  X = matrix.fit_transform(data['text']).toarray()\n",
    "  y = data.iloc[:, 0]\n",
    "  X_train, X_test, y_train, y_test = train_test_split(X, y, test_size=0.2, random_state=42)\n",
    "  return X_train, X_test, y_train, y_test"
   ]
  },
  {
   "cell_type": "code",
   "execution_count": 6,
   "metadata": {},
   "outputs": [],
   "source": [
    "def evaluate_model(y_test, y_pred):\n",
    "  cm = confusion_matrix(y_test, y_pred)\n",
    "  cr = classification_report(y_test, y_pred)\n",
    "\n",
    "  accuracy = accuracy_score(y_test, y_pred)\n",
    "\n",
    "  sns.heatmap(cm.T, square=True, annot=True, fmt='d')\n",
    "  plt.xlabel('true label')\n",
    "  plt.ylabel('predicted label');\n",
    "  print(cr, \"Accuracy: \", accuracy)"
   ]
  },
  {
   "cell_type": "code",
   "execution_count": 7,
   "metadata": {},
   "outputs": [],
   "source": [
    "def fit_model(model, X_train, y_train):\n",
    "  model.fit(X_train, y_train)\n",
    "  return model"
   ]
  },
  {
   "cell_type": "code",
   "execution_count": 8,
   "metadata": {},
   "outputs": [],
   "source": [
    "def classify(model, data):\n",
    "  X_train, X_test, y_train, y_test = split_data(data)\n",
    "  model = fit_model(model, X_train, y_train)\n",
    "  y_pred = model.predict(X_test)\n",
    "  evaluate_model(y_test, y_pred)"
   ]
  },
  {
   "cell_type": "code",
   "execution_count": 9,
   "metadata": {},
   "outputs": [],
   "source": [
    "dirty_data = get_dirty_data()\n",
    "clean_data = get_clean_data()"
   ]
  },
  {
   "attachments": {},
   "cell_type": "markdown",
   "metadata": {},
   "source": [
    "## Multinomial"
   ]
  },
  {
   "cell_type": "code",
   "execution_count": 10,
   "metadata": {},
   "outputs": [
    {
     "name": "stdout",
     "output_type": "stream",
     "text": [
      "              precision    recall  f1-score   support\n",
      "\n",
      "         ham       0.97      0.93      0.95       718\n",
      "        spam       0.86      0.93      0.89       317\n",
      "\n",
      "    accuracy                           0.93      1035\n",
      "   macro avg       0.91      0.93      0.92      1035\n",
      "weighted avg       0.93      0.93      0.93      1035\n",
      " Accuracy:  0.9314009661835749\n"
     ]
    },
    {
     "data": {
      "image/png": "[encoded data removed]",
      "text/plain": [
       "<Figure size 432x288 with 2 Axes>"
      ]
     },
     "metadata": {
      "needs_background": "light"
     },
     "output_type": "display_data"
    }
   ],
   "source": [
    "classify(MultinomialNB(), dirty_data)"
   ]
  },
  {
   "cell_type": "code",
   "execution_count": 11,
   "metadata": {},
   "outputs": [
    {
     "name": "stdout",
     "output_type": "stream",
     "text": [
      "              precision    recall  f1-score   support\n",
      "\n",
      "         ham       0.96      0.94      0.95       718\n",
      "        spam       0.87      0.91      0.89       317\n",
      "\n",
      "    accuracy                           0.93      1035\n",
      "   macro avg       0.91      0.92      0.92      1035\n",
      "weighted avg       0.93      0.93      0.93      1035\n",
      " Accuracy:  0.9304347826086956\n"
     ]
    },
    {
     "data": {
      "image/png": "[encoded data removed]",
      "text/plain": [
       "<Figure size 432x288 with 2 Axes>"
      ]
     },
     "metadata": {
      "needs_background": "light"
     },
     "output_type": "display_data"
    }
   ],
   "source": [
    "classify(MultinomialNB(), clean_data)"
   ]
  },
  {
   "attachments": {},
   "cell_type": "markdown",
   "metadata": {},
   "source": [
    "## Gaussian"
   ]
  },
  {
   "cell_type": "code",
   "execution_count": 12,
   "metadata": {},
   "outputs": [
    {
     "name": "stdout",
     "output_type": "stream",
     "text": [
      "              precision    recall  f1-score   support\n",
      "\n",
      "         ham       0.99      0.94      0.96       718\n",
      "        spam       0.88      0.97      0.93       317\n",
      "\n",
      "    accuracy                           0.95      1035\n",
      "   macro avg       0.93      0.96      0.94      1035\n",
      "weighted avg       0.96      0.95      0.95      1035\n",
      " Accuracy:  0.9516908212560387\n"
     ]
    },
    {
     "data": {
      "image/png": "[encoded data removed]",
      "text/plain": [
       "<Figure size 432x288 with 2 Axes>"
      ]
     },
     "metadata": {
      "needs_background": "light"
     },
     "output_type": "display_data"
    }
   ],
   "source": [
    "classify(GaussianNB(), dirty_data)"
   ]
  },
  {
   "cell_type": "code",
   "execution_count": 13,
   "metadata": {},
   "outputs": [
    {
     "name": "stdout",
     "output_type": "stream",
     "text": [
      "              precision    recall  f1-score   support\n",
      "\n",
      "         ham       0.99      0.93      0.96       718\n",
      "        spam       0.86      0.97      0.91       317\n",
      "\n",
      "    accuracy                           0.94      1035\n",
      "   macro avg       0.92      0.95      0.93      1035\n",
      "weighted avg       0.95      0.94      0.94      1035\n",
      " Accuracy:  0.9420289855072463\n"
     ]
    },
    {
     "data": {
      "image/png": "[encoded data removed]",
      "text/plain": [
       "<Figure size 432x288 with 2 Axes>"
      ]
     },
     "metadata": {
      "needs_background": "light"
     },
     "output_type": "display_data"
    }
   ],
   "source": [
    "classify(GaussianNB(), clean_data)"
   ]
  },
  {
   "cell_type": "markdown",
   "metadata": {},
   "source": [
    "### Observations\n",
    "I decided to also evaluate dirty vs clean data for both Multinomial and Gaussian calssification.\n",
    "\n",
    "Bassed on accuracy and recal I would suggest using Gaussian with, surprisingly, dirty data."
   ]
  }
 ],
 "metadata": {
  "kernelspec": {
   "display_name": "Python 3",
   "language": "python",
   "name": "python3"
  },
  "language_info": {
   "codemirror_mode": {
    "name": "ipython",
    "version": 3
   },
   "file_extension": ".py",
   "mimetype": "text/x-python",
   "name": "python",
   "nbconvert_exporter": "python",
   "pygments_lexer": "ipython3",
   "version": "3.10.2"
  },
  "orig_nbformat": 4
 },
 "nbformat": 4,
 "nbformat_minor": 2
}
