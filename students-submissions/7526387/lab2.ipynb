{
 "cells": [
  {
   "attachments": {},
   "cell_type": "markdown",
   "metadata": {},
   "source": [
    "# Lab #2\n",
    "#### Billy Parmenter - 7526387\n",
    "## Part A"
   ]
  },
  {
   "cell_type": "code",
   "execution_count": 1,
   "metadata": {},
   "outputs": [],
   "source": [
    "#imports\n",
    "import pandas as pd\n",
    "import matplotlib.pyplot as plt\n",
    "import seaborn as sns; \n",
    "sns.set()\n",
    "\n",
    "from sklearn.model_selection import train_test_split\n",
    "from sklearn.naive_bayes import MultinomialNB, GaussianNB\n",
    "from sklearn.feature_extraction.text import TfidfVectorizer, CountVectorizer\n",
    "from sklearn.pipeline import make_pipeline\n",
    "from sklearn.metrics import confusion_matrix, classification_report, accuracy_score\n",
    "from nltk.tokenize import word_tokenize\n",
    "\n",
    "csv_path = '../../practical_labs/Lab2_dataset.csv'"
   ]
  },
  {
   "cell_type": "code",
   "execution_count": 2,
   "metadata": {},
   "outputs": [],
   "source": [
    "def get_dirty_data():\n",
    "  data = pd.read_csv(csv_path, header=0, names=['index','label', 'text', 'label_num'], index_col='index')\n",
    "  data = data.sort_index()\n",
    "  return data"
   ]
  },
  {
   "cell_type": "code",
   "execution_count": 3,
   "metadata": {},
   "outputs": [],
   "source": [
    "def clean_text(text): \n",
    "  tokens = word_tokenize(text)\n",
    "  # convert to lower case\n",
    "  tokens = [w.lower() for w in tokens]\n",
    "  # remove punctuation from each word\n",
    "  import string\n",
    "  table = str.maketrans('', '', string.punctuation)\n",
    "  stripped = [w.translate(table) for w in tokens]\n",
    "  # remove remaining tokens that are not alphabetic\n",
    "  words = [word for word in stripped if word.isalpha()]\n",
    "  # filter out stop words\n",
    "  from nltk.corpus import stopwords\n",
    "  stop_words = set(stopwords.words('english'))\n",
    "  words = [w for w in words if not w in stop_words]\n",
    "  return \" \".join(words)"
   ]
  },
  {
   "cell_type": "code",
   "execution_count": 4,
   "metadata": {},
   "outputs": [],
   "source": [
    "def get_clean_data():\n",
    "  data = pd.read_csv(csv_path, header=0, names=['index','label', 'text', 'label_num'], index_col='index')\n",
    "  data = data.sort_index()\n",
    "  data['text'] = data['text'].apply(clean_text)\n",
    "  return data"
   ]
  },
  {
   "cell_type": "code",
   "execution_count": 5,
   "metadata": {},
   "outputs": [],
   "source": [
    "def evaluate_model(y_test, y_pred):\n",
    "  cm = confusion_matrix(y_test, y_pred)\n",
    "  cr = classification_report(y_test, y_pred)\n",
    "\n",
    "  accuracy = accuracy_score(y_test, y_pred)\n",
    "\n",
    "  sns.heatmap(cm.T, square=True, annot=True, fmt='d')\n",
    "  plt.xlabel('true label')\n",
    "  plt.ylabel('predicted label');\n",
    "  print(cr, \"Accuracy: \", accuracy)"
   ]
  },
  {
   "attachments": {},
   "cell_type": "markdown",
   "metadata": {},
   "source": [
    "## Multinomial"
   ]
  },
  {
   "cell_type": "code",
   "execution_count": 6,
   "metadata": {},
   "outputs": [],
   "source": [
    "def m_split_data(data):\n",
    "  X = data['text']\n",
    "  y = data['label']\n",
    "  X_train, X_test, y_train, y_test = train_test_split(X, y, test_size=0.2, random_state=42)\n",
    "  return X_train, X_test, y_train, y_test"
   ]
  },
  {
   "cell_type": "code",
   "execution_count": 7,
   "metadata": {},
   "outputs": [],
   "source": [
    "\n",
    "def m_fit_model(X_train, y_train):\n",
    "  model = make_pipeline(TfidfVectorizer(), MultinomialNB())\n",
    "  model.fit(X_train, y_train)\n",
    "  return model"
   ]
  },
  {
   "cell_type": "code",
   "execution_count": 8,
   "metadata": {},
   "outputs": [],
   "source": [
    "\n",
    "def multinomial_classification(data):\n",
    "  X_train, X_test, y_train, y_test = m_split_data(data)\n",
    "  m_model = m_fit_model(X_train, y_train)\n",
    "  y_pred = m_model.predict(X_test)\n",
    "  evaluate_model(y_test, y_pred)"
   ]
  },
  {
   "cell_type": "code",
   "execution_count": 9,
   "metadata": {},
   "outputs": [
    {
     "name": "stdout",
     "output_type": "stream",
     "text": [
      "              precision    recall  f1-score   support\n",
      "\n",
      "         ham       0.83      1.00      0.91       718\n",
      "        spam       1.00      0.53      0.70       317\n",
      "\n",
      "    accuracy                           0.86      1035\n",
      "   macro avg       0.91      0.77      0.80      1035\n",
      "weighted avg       0.88      0.86      0.84      1035\n",
      " Accuracy:  0.8570048309178744\n"
     ]
    },
    {
     "data": {
      "image/png": "[encoded data removed]",
      "text/plain": [
       "<Figure size 432x288 with 2 Axes>"
      ]
     },
     "metadata": {
      "needs_background": "light"
     },
     "output_type": "display_data"
    }
   ],
   "source": [
    "dirty_data = get_dirty_data()\n",
    "multinomial_classification(dirty_data)\n"
   ]
  },
  {
   "cell_type": "code",
   "execution_count": 10,
   "metadata": {},
   "outputs": [
    {
     "name": "stdout",
     "output_type": "stream",
     "text": [
      "              precision    recall  f1-score   support\n",
      "\n",
      "         ham       0.89      1.00      0.94       718\n",
      "        spam       1.00      0.71      0.83       317\n",
      "\n",
      "    accuracy                           0.91      1035\n",
      "   macro avg       0.94      0.85      0.88      1035\n",
      "weighted avg       0.92      0.91      0.91      1035\n",
      " Accuracy:  0.9101449275362319\n"
     ]
    },
    {
     "data": {
      "image/png": "[encoded data removed]",
      "text/plain": [
       "<Figure size 432x288 with 2 Axes>"
      ]
     },
     "metadata": {
      "needs_background": "light"
     },
     "output_type": "display_data"
    }
   ],
   "source": [
    "\n",
    "clean_data = get_clean_data()\n",
    "multinomial_classification(clean_data)\n"
   ]
  },
  {
   "attachments": {},
   "cell_type": "markdown",
   "metadata": {},
   "source": [
    "## Gaussian"
   ]
  },
  {
   "cell_type": "code",
   "execution_count": 11,
   "metadata": {},
   "outputs": [],
   "source": [
    "def g_split_data(data):\n",
    "  matrix = CountVectorizer(max_features=1000)\n",
    "  X = matrix.fit_transform(data['text']).toarray()\n",
    "  y = data.iloc[:, 0]\n",
    "  X_train, X_test, y_train, y_test = train_test_split(X, y)\n",
    "  \n",
    "  return X_train, X_test, y_train, y_test"
   ]
  },
  {
   "cell_type": "code",
   "execution_count": 12,
   "metadata": {},
   "outputs": [],
   "source": [
    "def g_fit_model(X_train, y_train):\n",
    "  model = GaussianNB()\n",
    "  model.fit(X_train, y_train)\n",
    "  return model"
   ]
  },
  {
   "cell_type": "code",
   "execution_count": 13,
   "metadata": {},
   "outputs": [],
   "source": [
    "def gaussian_classification(data):\n",
    "  X_train, X_test, y_train, y_test = g_split_data(data)\n",
    "  g_model = g_fit_model(X_train, y_train)\n",
    "  y_pred = g_model.predict(X_test)\n",
    "  evaluate_model(y_test, y_pred)"
   ]
  },
  {
   "cell_type": "code",
   "execution_count": 14,
   "metadata": {},
   "outputs": [
    {
     "name": "stdout",
     "output_type": "stream",
     "text": [
      "              precision    recall  f1-score   support\n",
      "\n",
      "         ham       0.99      0.95      0.97       921\n",
      "        spam       0.88      0.97      0.92       372\n",
      "\n",
      "    accuracy                           0.95      1293\n",
      "   macro avg       0.93      0.96      0.94      1293\n",
      "weighted avg       0.95      0.95      0.95      1293\n",
      " Accuracy:  0.951276102088167\n"
     ]
    },
    {
     "data": {
      "image/png": "[encoded data removed]",
      "text/plain": [
       "<Figure size 432x288 with 2 Axes>"
      ]
     },
     "metadata": {
      "needs_background": "light"
     },
     "output_type": "display_data"
    }
   ],
   "source": [
    "dirty_data = get_dirty_data()\n",
    "gaussian_classification(dirty_data)"
   ]
  },
  {
   "cell_type": "code",
   "execution_count": 15,
   "metadata": {},
   "outputs": [
    {
     "name": "stdout",
     "output_type": "stream",
     "text": [
      "              precision    recall  f1-score   support\n",
      "\n",
      "         ham       0.99      0.92      0.95       930\n",
      "        spam       0.83      0.96      0.89       363\n",
      "\n",
      "    accuracy                           0.94      1293\n",
      "   macro avg       0.91      0.94      0.92      1293\n",
      "weighted avg       0.94      0.94      0.94      1293\n",
      " Accuracy:  0.9358081979891725\n"
     ]
    },
    {
     "data": {
      "image/png": "[encoded data removed]",
      "text/plain": [
       "<Figure size 432x288 with 2 Axes>"
      ]
     },
     "metadata": {
      "needs_background": "light"
     },
     "output_type": "display_data"
    }
   ],
   "source": [
    "clean_data = get_clean_data()\n",
    "gaussian_classification(clean_data)"
   ]
  }
 ],
 "metadata": {
  "kernelspec": {
   "display_name": "Python 3",
   "language": "python",
   "name": "python3"
  },
  "language_info": {
   "codemirror_mode": {
    "name": "ipython",
    "version": 3
   },
   "file_extension": ".py",
   "mimetype": "text/x-python",
   "name": "python",
   "nbconvert_exporter": "python",
   "pygments_lexer": "ipython3",
   "version": "3.10.2"
  },
  "orig_nbformat": 4
 },
 "nbformat": 4,
 "nbformat_minor": 2
}
