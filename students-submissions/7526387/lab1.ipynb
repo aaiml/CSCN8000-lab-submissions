{
 "cells": [
  {
   "attachments": {},
   "cell_type": "markdown",
   "metadata": {},
   "source": [
    "# Lab #1\n",
    "#### Billy Parmenter - 7526387\n",
    "## Part A"
   ]
  },
  {
   "cell_type": "code",
   "execution_count": 87,
   "metadata": {},
   "outputs": [],
   "source": [
    "import numpy as np"
   ]
  },
  {
   "attachments": {},
   "cell_type": "markdown",
   "metadata": {},
   "source": [
    "Create an array that starts from the integer 1, ends at 20, incremented by 3."
   ]
  },
  {
   "cell_type": "code",
   "execution_count": 88,
   "metadata": {},
   "outputs": [
    {
     "data": {
      "text/plain": [
       "array([ 1,  4,  7, 10, 13, 16, 19])"
      ]
     },
     "execution_count": 88,
     "metadata": {},
     "output_type": "execute_result"
    }
   ],
   "source": [
    "arr = np.arange(1, 20, 3)\n",
    "arr"
   ]
  },
  {
   "attachments": {},
   "cell_type": "markdown",
   "metadata": {},
   "source": [
    "Create a new array of shape 3 with random numbers between 0 and 1."
   ]
  },
  {
   "cell_type": "code",
   "execution_count": 89,
   "metadata": {},
   "outputs": [
    {
     "data": {
      "text/plain": [
       "array([0.3777329 , 0.98244909, 0.12061864])"
      ]
     },
     "execution_count": 89,
     "metadata": {},
     "output_type": "execute_result"
    }
   ],
   "source": [
    "arr = np.random.rand(3)\n",
    "arr"
   ]
  },
  {
   "attachments": {},
   "cell_type": "markdown",
   "metadata": {},
   "source": [
    "Create a 2 D array [[10,20,45], [30,12,16], [42,17,56]] and perform the following operations:  \n",
    "- Slice the 2D array to get the first two rows.\n",
    "- Slice the 2D array to get the last two rows."
   ]
  },
  {
   "cell_type": "code",
   "execution_count": 90,
   "metadata": {},
   "outputs": [
    {
     "data": {
      "text/plain": [
       "array([[10, 20, 45],\n",
       "       [30, 12, 16]])"
      ]
     },
     "execution_count": 90,
     "metadata": {},
     "output_type": "execute_result"
    }
   ],
   "source": [
    "arr = np.array([[10,20,45], [30,12,16], [42,17,56]])\n",
    "arr[:2]"
   ]
  },
  {
   "cell_type": "code",
   "execution_count": 91,
   "metadata": {},
   "outputs": [
    {
     "data": {
      "text/plain": [
       "array([[30, 12, 16],\n",
       "       [42, 17, 56]])"
      ]
     },
     "execution_count": 91,
     "metadata": {},
     "output_type": "execute_result"
    }
   ],
   "source": [
    "arr[-2:]"
   ]
  },
  {
   "attachments": {},
   "cell_type": "markdown",
   "metadata": {},
   "source": [
    "Create two 2x2 arrays and demonstrate how you can:\n",
    "- stack the elements \n",
    "    - vertically\n",
    "    - horizontally\n",
    "- split the arrays into smaller arrays."
   ]
  },
  {
   "cell_type": "code",
   "execution_count": 92,
   "metadata": {},
   "outputs": [
    {
     "data": {
      "text/plain": [
       "array([[[ 1,  2],\n",
       "        [ 3,  4]],\n",
       "\n",
       "       [[11, 12],\n",
       "        [13, 14]]])"
      ]
     },
     "execution_count": 92,
     "metadata": {},
     "output_type": "execute_result"
    }
   ],
   "source": [
    "arr1 = np.array([[1,2],[3,4]])\n",
    "arr2 = np.array([[11,12],[13,14]])\n",
    "np.stack((arr1, arr2), axis=0)"
   ]
  },
  {
   "cell_type": "code",
   "execution_count": 93,
   "metadata": {},
   "outputs": [
    {
     "data": {
      "text/plain": [
       "array([[[ 1,  2],\n",
       "        [11, 12]],\n",
       "\n",
       "       [[ 3,  4],\n",
       "        [13, 14]]])"
      ]
     },
     "execution_count": 93,
     "metadata": {},
     "output_type": "execute_result"
    }
   ],
   "source": [
    "np.stack((arr1, arr2), axis=1)"
   ]
  },
  {
   "attachments": {},
   "cell_type": "markdown",
   "metadata": {},
   "source": [
    "Create two matrices X= ([[5, 7, 2], [4, 5, 6], [7, 4 ,2]]) Y= ([[4, 2], [6, 2], [4, 2]])\n",
    "- Is it possible to multiply these matrices?\n",
    "- Demonstrate the case when it is not possible to."
   ]
  },
  {
   "cell_type": "code",
   "execution_count": 94,
   "metadata": {},
   "outputs": [],
   "source": [
    "X = np.array([[5, 7, 2], [4, 5, 6], [7, 4 ,2]])\n",
    "Y = np.array([[4, 2], [6, 2], [4, 2]])"
   ]
  },
  {
   "cell_type": "code",
   "execution_count": 95,
   "metadata": {},
   "outputs": [
    {
     "data": {
      "text/plain": [
       "array([[70, 28],\n",
       "       [70, 30],\n",
       "       [60, 26]])"
      ]
     },
     "execution_count": 95,
     "metadata": {},
     "output_type": "execute_result"
    }
   ],
   "source": [
    "np.dot(X,Y)"
   ]
  },
  {
   "cell_type": "code",
   "execution_count": 96,
   "metadata": {},
   "outputs": [
    {
     "ename": "ValueError",
     "evalue": "shapes (3,3) and (2,3) not aligned: 3 (dim 1) != 2 (dim 0)",
     "output_type": "error",
     "traceback": [
      "\u001b[0;31m---------------------------------------------------------------------------\u001b[0m",
      "\u001b[0;31mValueError\u001b[0m                                Traceback (most recent call last)",
      "Cell \u001b[0;32mIn[96], line 2\u001b[0m\n\u001b[1;32m      1\u001b[0m Y \u001b[39m=\u001b[39m np\u001b[39m.\u001b[39mreshape(Y,[\u001b[39m2\u001b[39m, \u001b[39m3\u001b[39m])\n\u001b[0;32m----> 2\u001b[0m np\u001b[39m.\u001b[39;49mdot(X,Y)\n",
      "File \u001b[0;32m<__array_function__ internals>:200\u001b[0m, in \u001b[0;36mdot\u001b[0;34m(*args, **kwargs)\u001b[0m\n",
      "\u001b[0;31mValueError\u001b[0m: shapes (3,3) and (2,3) not aligned: 3 (dim 1) != 2 (dim 0)"
     ]
    }
   ],
   "source": [
    "Y = np.reshape(Y,[2, 3])\n",
    "np.dot(X,Y)\n"
   ]
  },
  {
   "attachments": {},
   "cell_type": "markdown",
   "metadata": {},
   "source": [
    "Create two arrays, x = ([2, -1, -8]) y = ([3, 1, -2])\n",
    "- For vector X find:\n",
    "    - Shape\n",
    "    - Number of dimensions \n",
    "- Reshape the vector x to a matrix of size (3,1) \n",
    "- determine the number of dimensions after reshaping y to a matrix of (3,1)."
   ]
  },
  {
   "cell_type": "code",
   "execution_count": 97,
   "metadata": {},
   "outputs": [
    {
     "data": {
      "text/plain": [
       "(3,)"
      ]
     },
     "execution_count": 97,
     "metadata": {},
     "output_type": "execute_result"
    }
   ],
   "source": [
    "X = np.array([2, -1, -8])\n",
    "Y = np.array([3, 1, -2])\n",
    "X.shape"
   ]
  },
  {
   "cell_type": "code",
   "execution_count": 98,
   "metadata": {},
   "outputs": [
    {
     "data": {
      "text/plain": [
       "1"
      ]
     },
     "execution_count": 98,
     "metadata": {},
     "output_type": "execute_result"
    }
   ],
   "source": [
    "X.ndim"
   ]
  },
  {
   "cell_type": "code",
   "execution_count": 99,
   "metadata": {},
   "outputs": [
    {
     "data": {
      "text/plain": [
       "(3, 1)"
      ]
     },
     "execution_count": 99,
     "metadata": {},
     "output_type": "execute_result"
    }
   ],
   "source": [
    "X = np.reshape(X,[3,1])\n",
    "Y = np.reshape(Y,[3,1])\n",
    "Y.shape"
   ]
  },
  {
   "cell_type": "code",
   "execution_count": 100,
   "metadata": {},
   "outputs": [
    {
     "data": {
      "text/plain": [
       "2"
      ]
     },
     "execution_count": 100,
     "metadata": {},
     "output_type": "execute_result"
    }
   ],
   "source": [
    "Y.ndim"
   ]
  },
  {
   "attachments": {},
   "cell_type": "markdown",
   "metadata": {},
   "source": [
    "How does broadcasting work? \n",
    "- Demonstrate the following on a 3 x 3 matrix:\n",
    "    - subtraction\n",
    "    - multiplication"
   ]
  },
  {
   "cell_type": "code",
   "execution_count": 101,
   "metadata": {},
   "outputs": [
    {
     "data": {
      "text/plain": [
       "array([[1, 2, 3],\n",
       "       [4, 5, 6],\n",
       "       [7, 8, 9]])"
      ]
     },
     "execution_count": 101,
     "metadata": {},
     "output_type": "execute_result"
    }
   ],
   "source": [
    "mat = np.array([[1,2,3],[4,5,6],[7,8,9]])\n",
    "mat"
   ]
  },
  {
   "cell_type": "code",
   "execution_count": 102,
   "metadata": {},
   "outputs": [
    {
     "data": {
      "text/plain": [
       "array([[-1,  0,  1],\n",
       "       [ 2,  3,  4],\n",
       "       [ 5,  6,  7]])"
      ]
     },
     "execution_count": 102,
     "metadata": {},
     "output_type": "execute_result"
    }
   ],
   "source": [
    "mat - 2"
   ]
  },
  {
   "cell_type": "code",
   "execution_count": 103,
   "metadata": {},
   "outputs": [
    {
     "data": {
      "text/plain": [
       "array([[ 2,  4,  6],\n",
       "       [ 8, 10, 12],\n",
       "       [14, 16, 18]])"
      ]
     },
     "execution_count": 103,
     "metadata": {},
     "output_type": "execute_result"
    }
   ],
   "source": [
    "mat * 2"
   ]
  },
  {
   "attachments": {},
   "cell_type": "markdown",
   "metadata": {},
   "source": [
    "## Part B\n",
    "\n",
    "Solve the following two system of linear equations using matrices \n",
    "- Find the values for the variables\n",
    "- Determine the number of solutions\n",
    "\n",
    "<br>System 1:\n",
    "> $2x1+3x2-4x3=6$<br>$x1-4x2=8$"
   ]
  },
  {
   "cell_type": "code",
   "execution_count": 104,
   "metadata": {},
   "outputs": [
    {
     "ename": "ValueError",
     "evalue": "setting an array element with a sequence. The requested array has an inhomogeneous shape after 1 dimensions. The detected shape was (2,) + inhomogeneous part.",
     "output_type": "error",
     "traceback": [
      "\u001b[0;31m---------------------------------------------------------------------------\u001b[0m",
      "\u001b[0;31mValueError\u001b[0m                                Traceback (most recent call last)",
      "Cell \u001b[0;32mIn[104], line 1\u001b[0m\n\u001b[0;32m----> 1\u001b[0m Ax \u001b[39m=\u001b[39m np\u001b[39m.\u001b[39;49marray([[\u001b[39m2\u001b[39;49m,\u001b[39m3\u001b[39;49m,\u001b[39m-\u001b[39;49m\u001b[39m4\u001b[39;49m],[\u001b[39m1\u001b[39;49m,\u001b[39m-\u001b[39;49m\u001b[39m4\u001b[39;49m]])\n\u001b[1;32m      2\u001b[0m Bx \u001b[39m=\u001b[39m np\u001b[39m.\u001b[39marray([\u001b[39m6\u001b[39m,\u001b[39m8\u001b[39m])\n\u001b[1;32m      3\u001b[0m Xx \u001b[39m=\u001b[39m np\u001b[39m.\u001b[39mlinalg\u001b[39m.\u001b[39msolve(Ax, Bx)\n",
      "\u001b[0;31mValueError\u001b[0m: setting an array element with a sequence. The requested array has an inhomogeneous shape after 1 dimensions. The detected shape was (2,) + inhomogeneous part."
     ]
    }
   ],
   "source": [
    "Ax = np.array([[2,3,-4],[1,-4]])\n",
    "Bx = np.array([6,8])\n",
    "Xx = np.linalg.solve(Ax, Bx)"
   ]
  },
  {
   "attachments": {},
   "cell_type": "markdown",
   "metadata": {},
   "source": [
    "System 2:\n",
    "> $3y1-4y2+5y3=10$<br>$-y1+2y2-4y3=8$"
   ]
  },
  {
   "cell_type": "code",
   "execution_count": 105,
   "metadata": {},
   "outputs": [
    {
     "ename": "LinAlgError",
     "evalue": "Last 2 dimensions of the array must be square",
     "output_type": "error",
     "traceback": [
      "\u001b[0;31m---------------------------------------------------------------------------\u001b[0m",
      "\u001b[0;31mLinAlgError\u001b[0m                               Traceback (most recent call last)",
      "Cell \u001b[0;32mIn[105], line 3\u001b[0m\n\u001b[1;32m      1\u001b[0m Ay \u001b[39m=\u001b[39m np\u001b[39m.\u001b[39marray([[\u001b[39m3\u001b[39m,\u001b[39m-\u001b[39m\u001b[39m4\u001b[39m,\u001b[39m5\u001b[39m],[\u001b[39m-\u001b[39m\u001b[39m1\u001b[39m,\u001b[39m2\u001b[39m,\u001b[39m-\u001b[39m\u001b[39m4\u001b[39m]])\n\u001b[1;32m      2\u001b[0m By \u001b[39m=\u001b[39m np\u001b[39m.\u001b[39marray([\u001b[39m10\u001b[39m,\u001b[39m8\u001b[39m])\n\u001b[0;32m----> 3\u001b[0m Xy \u001b[39m=\u001b[39m np\u001b[39m.\u001b[39;49mlinalg\u001b[39m.\u001b[39;49msolve(Ay, By)\n",
      "File \u001b[0;32m<__array_function__ internals>:200\u001b[0m, in \u001b[0;36msolve\u001b[0;34m(*args, **kwargs)\u001b[0m\n",
      "File \u001b[0;32m~/.local/lib/python3.10/site-packages/numpy/linalg/linalg.py:373\u001b[0m, in \u001b[0;36msolve\u001b[0;34m(a, b)\u001b[0m\n\u001b[1;32m    371\u001b[0m a, _ \u001b[39m=\u001b[39m _makearray(a)\n\u001b[1;32m    372\u001b[0m _assert_stacked_2d(a)\n\u001b[0;32m--> 373\u001b[0m _assert_stacked_square(a)\n\u001b[1;32m    374\u001b[0m b, wrap \u001b[39m=\u001b[39m _makearray(b)\n\u001b[1;32m    375\u001b[0m t, result_t \u001b[39m=\u001b[39m _commonType(a, b)\n",
      "File \u001b[0;32m~/.local/lib/python3.10/site-packages/numpy/linalg/linalg.py:190\u001b[0m, in \u001b[0;36m_assert_stacked_square\u001b[0;34m(*arrays)\u001b[0m\n\u001b[1;32m    188\u001b[0m m, n \u001b[39m=\u001b[39m a\u001b[39m.\u001b[39mshape[\u001b[39m-\u001b[39m\u001b[39m2\u001b[39m:]\n\u001b[1;32m    189\u001b[0m \u001b[39mif\u001b[39;00m m \u001b[39m!=\u001b[39m n:\n\u001b[0;32m--> 190\u001b[0m     \u001b[39mraise\u001b[39;00m LinAlgError(\u001b[39m'\u001b[39m\u001b[39mLast 2 dimensions of the array must be square\u001b[39m\u001b[39m'\u001b[39m)\n",
      "\u001b[0;31mLinAlgError\u001b[0m: Last 2 dimensions of the array must be square"
     ]
    }
   ],
   "source": [
    "Ay = np.array([[3,-4,5],[-1,2,-4]])\n",
    "By = np.array([10,8])\n",
    "Xy = np.linalg.solve(Ay, By)"
   ]
  },
  {
   "attachments": {},
   "cell_type": "markdown",
   "metadata": {},
   "source": [
    "There is no solutions for either system.\n",
    "- The first system has too many variables ($x3$) to have a solution.\n",
    "- The second system does not have enough functions to solve for 3 variables."
   ]
  }
 ],
 "metadata": {
  "kernelspec": {
   "display_name": "Python 3",
   "language": "python",
   "name": "python3"
  },
  "language_info": {
   "codemirror_mode": {
    "name": "ipython",
    "version": 3
   },
   "file_extension": ".py",
   "mimetype": "text/x-python",
   "name": "python",
   "nbconvert_exporter": "python",
   "pygments_lexer": "ipython3",
   "version": "3.10.11"
  },
  "orig_nbformat": 4
 },
 "nbformat": 4,
 "nbformat_minor": 2
}
