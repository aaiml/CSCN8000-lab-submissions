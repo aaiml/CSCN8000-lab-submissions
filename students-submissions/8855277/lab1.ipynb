{
 "cells": [
  {
   "attachments": {},
   "cell_type": "markdown",
   "metadata": {},
   "source": [
    "# Lifei Wang \n",
    "## 8855277\n",
    "## CSCN8000-Lab1"
   ]
  },
  {
   "attachments": {},
   "cell_type": "markdown",
   "metadata": {},
   "source": [
    "### Part A:"
   ]
  },
  {
   "attachments": {},
   "cell_type": "markdown",
   "metadata": {},
   "source": [
    "1. Create a Notebook to demonstrate NumPy Operations."
   ]
  },
  {
   "cell_type": "code",
   "execution_count": 1,
   "metadata": {},
   "outputs": [],
   "source": [
    "import numpy as np"
   ]
  },
  {
   "attachments": {},
   "cell_type": "markdown",
   "metadata": {},
   "source": [
    "2. Create an array that starts from the integer 1, ends at 20, incremented by 3.\n"
   ]
  },
  {
   "cell_type": "code",
   "execution_count": 2,
   "metadata": {},
   "outputs": [
    {
     "data": {
      "text/plain": [
       "array([ 1,  4,  7, 10, 13, 16, 19])"
      ]
     },
     "execution_count": 2,
     "metadata": {},
     "output_type": "execute_result"
    }
   ],
   "source": [
    "arr1 = np.arange(1, 20, 3, dtype=int)\n",
    "arr1"
   ]
  },
  {
   "attachments": {},
   "cell_type": "markdown",
   "metadata": {},
   "source": [
    "3. Create a new array of shape 3 with random numbers between 0 and 1.\n"
   ]
  },
  {
   "cell_type": "code",
   "execution_count": 3,
   "metadata": {},
   "outputs": [
    {
     "data": {
      "text/plain": [
       "array([0.5881308 , 0.89771373, 0.89153073])"
      ]
     },
     "execution_count": 3,
     "metadata": {},
     "output_type": "execute_result"
    }
   ],
   "source": [
    "np.random.seed(20)\n",
    "arr2 = np.random.rand(3)\n",
    "arr2"
   ]
  },
  {
   "attachments": {},
   "cell_type": "markdown",
   "metadata": {},
   "source": [
    "4. Create a 2D array [[10,20,45], [30,12,16], [42,17,56]] and perform the following operations: \n",
    "         \n",
    "    Slice the 2D array to get the first two rows, slice the 2D array to get the last two rows."
   ]
  },
  {
   "cell_type": "code",
   "execution_count": 4,
   "metadata": {},
   "outputs": [
    {
     "name": "stdout",
     "output_type": "stream",
     "text": [
      "2D array: \n",
      " [[10 20 45]\n",
      " [30 12 16]\n",
      " [42 17 56]]\n",
      "First two rows: \n",
      " [[10 20 45]\n",
      " [30 12 16]]\n",
      "Last two rows: \n",
      " [[30 12 16]\n",
      " [42 17 56]]\n"
     ]
    }
   ],
   "source": [
    "arr3 = np.array([[10,20,45], [30,12,16], [42,17,56]])\n",
    "print('2D array: \\n', arr3)\n",
    "arr3_first_2rows = arr3[:2, :]\n",
    "print('First two rows: \\n', arr3_first_2rows)\n",
    "arr3_last_2rows = arr3[1:, :]\n",
    "print('Last two rows: \\n', arr3_last_2rows)\n"
   ]
  },
  {
   "attachments": {},
   "cell_type": "markdown",
   "metadata": {},
   "source": [
    "5. Create two 2x2 arrays and demonstrate how you can stack the elements vertically, horizontally, and split the arrays into smaller arrays."
   ]
  },
  {
   "cell_type": "code",
   "execution_count": 5,
   "metadata": {},
   "outputs": [
    {
     "name": "stdout",
     "output_type": "stream",
     "text": [
      "The first 2D array: \n",
      " [[9 4]\n",
      " [6 7]]\n",
      "The second 2D array: \n",
      " [[2 0]\n",
      " [6 8]]\n",
      "Stack vertically: \n",
      " [[9 4]\n",
      " [6 7]\n",
      " [2 0]\n",
      " [6 8]]\n",
      "Stack horizontally: \n",
      " [[9 4 2 0]\n",
      " [6 7 6 8]]\n",
      "Split vertically: \n",
      " [array([[9, 4],\n",
      "       [6, 7]]), array([[2, 0],\n",
      "       [6, 8]])]\n",
      "Split horizontally: \n",
      " [array([[9, 4],\n",
      "       [6, 7]]), array([[2, 0],\n",
      "       [6, 8]])]\n"
     ]
    },
    {
     "data": {
      "text/plain": [
       "<function numpy.split(ary, indices_or_sections, axis=0)>"
      ]
     },
     "execution_count": 5,
     "metadata": {},
     "output_type": "execute_result"
    }
   ],
   "source": [
    "# create 2D arrays\n",
    "arr4 = np.random.randint(10, size=(2,2))\n",
    "print('The first 2D array: \\n', arr4)\n",
    "arr5 = np.random.randint(10, size=(2,2))\n",
    "print('The second 2D array: \\n', arr5)\n",
    "\n",
    "# stack vertically\n",
    "stack_vertical =  np.vstack((arr4, arr5))\n",
    "print('Stack vertically: \\n', stack_vertical)\n",
    "\n",
    "# stack horizontally\n",
    "stack_horizontal = np.hstack((arr4, arr5))\n",
    "print('Stack horizontally: \\n', stack_horizontal)\n",
    "\n",
    "# split vertically\n",
    "split_vertical = np.vsplit(stack_vertical, 2)\n",
    "print('Split vertically: \\n', split_vertical)\n",
    "\n",
    "# split horizontally\n",
    "split_horizontal = np.hsplit(stack_horizontal, 2)\n",
    "print('Split horizontally: \\n', split_horizontal)\n",
    "np.split"
   ]
  },
  {
   "attachments": {},
   "cell_type": "markdown",
   "metadata": {},
   "source": [
    "6. Create two matrices X= ([[5, 7, 2], [4, 5, 6], [7, 4 ,2]]) Y= ([[4, 2], [6, 2], [4, 2]]), Is it possible to multiply these matrices? \n",
    "         \n",
    "    Demonstrate the case when it is not possible to."
   ]
  },
  {
   "cell_type": "code",
   "execution_count": 12,
   "metadata": {},
   "outputs": [
    {
     "name": "stdout",
     "output_type": "stream",
     "text": [
      "matrix x:\n",
      " [[5 7 2]\n",
      " [4 5 6]\n",
      " [7 4 2]]\n",
      "matrix y:\n",
      " [[4 2]\n",
      " [6 2]\n",
      " [4 2]]\n",
      "multiply x by y:\n",
      " [[70 28]\n",
      " [70 30]\n",
      " [60 26]]\n"
     ]
    }
   ],
   "source": [
    "x = np.matrix([[5, 7, 2], [4, 5, 6], [7, 4 ,2]])\n",
    "print('matrix x:\\n', x)\n",
    "y = np.matrix([[4, 2], [6, 2], [4, 2]])\n",
    "print('matrix y:\\n',y)\n",
    "print('multiply x by y:\\n', x*y)\n",
    "\n",
    "# when x and y have different dimensions, it is not possible to multiply them\n",
    "y_2 = np.matrix([[4, 2], [6, 2]])\n",
    "# in this case, x can not be multiplied by y_2"
   ]
  },
  {
   "attachments": {},
   "cell_type": "markdown",
   "metadata": {},
   "source": [
    "7. Create two arrays, x = ([2, -1, -8]) y = ([3, 1, -2]), Find the Shape, Number of dimensions of vector x.\n",
    "\n",
    "\n",
    "    Reshape the vector x to a matrix of size (3,1) and determine the number of dimensions after reshaping y to a matrix of (3,1)."
   ]
  },
  {
   "cell_type": "code",
   "execution_count": 23,
   "metadata": {},
   "outputs": [
    {
     "name": "stdout",
     "output_type": "stream",
     "text": [
      "x: \n",
      " [ 2 -1 -8]\n",
      "shape of x:  (3,)\n",
      "number of dimensions:  1\n",
      "\n",
      "reshape_x: \n",
      " [[ 2]\n",
      " [-1]\n",
      " [-8]]\n",
      "number of dimensions of reshape_x:  2\n",
      "\n",
      "y: \n",
      " [ 3  1 -2]\n",
      "shape of y:  (3,)\n",
      "number of dimensions of y:  1\n",
      "\n",
      "reshape_y: \n",
      " [[ 3]\n",
      " [ 1]\n",
      " [-2]]\n",
      "number of dimensions of reshape_y:  2\n"
     ]
    }
   ],
   "source": [
    "x = np.array([2, -1, -8])\n",
    "print('x: \\n', x)\n",
    "print('shape of x: ', x.shape)\n",
    "print('number of dimensions: ', x.ndim)\n",
    "\n",
    "# reshape x to matrix of size (3,1)\n",
    "reshape_x = np.reshape(x, (3,1))\n",
    "print('\\nreshape_x: \\n', reshape_x)\n",
    "print('number of dimensions of reshape_x: ', reshape_x.ndim)\n",
    "\n",
    "y = np.array([3, 1, -2])\n",
    "print('\\ny: \\n', y)\n",
    "print('shape of y: ', y.shape)\n",
    "print('number of dimensions of y: ', y.ndim)\n",
    "reshape_y = np.reshape(y, (3,1))\n",
    "print('\\nreshape_y: \\n', reshape_y)\n",
    "print('number of dimensions of reshape_y: ', reshape_y.ndim)\n",
    "\n"
   ]
  },
  {
   "attachments": {},
   "cell_type": "markdown",
   "metadata": {},
   "source": [
    "8. How does broadcasting work? Demonstrate the subtraction, multiplication by considering a 3 x 3 matrix."
   ]
  },
  {
   "cell_type": "code",
   "execution_count": 28,
   "metadata": {},
   "outputs": [
    {
     "name": "stdout",
     "output_type": "stream",
     "text": [
      "3x3 matrix: \n",
      " [[4 8 6]\n",
      " [2 3 1]\n",
      " [5 2 1]]\n",
      "\n",
      "matrix subtraction: \n",
      " [[-6 -2 -4]\n",
      " [-8 -7 -9]\n",
      " [-5 -8 -9]]\n",
      "\n",
      "matrix multiplication: \n",
      " [[20 40 30]\n",
      " [10 15  5]\n",
      " [25 10  5]]\n"
     ]
    }
   ],
   "source": [
    "# create a 3x3 matrix\n",
    "arr6 = np.random.randint(10, size=(3,3))\n",
    "print('3x3 matrix: \\n', arr6)\n",
    "\n",
    "# broadcast by subtraction\n",
    "arr6_sub = arr6 - 10\n",
    "print('\\nmatrix subtraction: \\n', arr6_sub)\n",
    "\n",
    "# broadcast by multiplication\n",
    "arr6_mul = arr6 * 5\n",
    "print('\\nmatrix multiplication: \\n', arr6_mul)"
   ]
  },
  {
   "attachments": {},
   "cell_type": "markdown",
   "metadata": {},
   "source": [
    "9. Add Markdown text, with a headline, that provides a very brief overview of the graphs (e.g., one sentence for each). \n",
    "         \n",
    "    Feel free to add additional Markdown elements (description/additional comments)"
   ]
  },
  {
   "attachments": {},
   "cell_type": "markdown",
   "metadata": {},
   "source": [
    "### Graphs\n",
    "* **scatter plot**\n",
    "    * represent relationship between two variables using individual dots and markers\n",
    "* **Histogram graph**\n",
    "    * graphical representation of distribution of dataset by dividing into bins\n",
    "    * display the frequency of data within each bin\n",
    "* **Bar chart**\n",
    "    * represent frequency of categorical data with rectangular bars\n",
    "* **Line graph**\n",
    "    * display data points connected with straight lines\n",
    "    * show trends, change over time\n",
    "* **Pie chart**\n",
    "    * represent proportion or percentage of dataset in a circular graph\n",
    "* **Area graph**\n",
    "    * represent cumulative total or distribution of data\n",
    "* **Heatmap**\n",
    "    * represent data using colored matrix\n",
    "    * visualize intensity or concentration\n",
    "* **Box plot**\n",
    "    * display summary of data distribution\n",
    "    * include min, 1st quartile, 2nd quartile(median), 3rd quartile, max, and outliers\n",
    "    * provide insights of central tendency, spread and skewness of data"
   ]
  },
  {
   "attachments": {},
   "cell_type": "markdown",
   "metadata": {},
   "source": [
    "10. Push the notebook to your lab-submission fork, and create a PR"
   ]
  },
  {
   "attachments": {},
   "cell_type": "markdown",
   "metadata": {},
   "source": [
    "### Part B:"
   ]
  },
  {
   "attachments": {},
   "cell_type": "markdown",
   "metadata": {},
   "source": [
    "1. Solve the following two system of linear equations using matrices (find the values of x1 and x2) and \n",
    "    determine the number of solutions using the functions. \n",
    "\n",
    "\t$2x1+3x2-4x3=6$\n",
    "\n",
    "\t$x1-4x2=8$\n",
    "\n",
    "\t<br>\n",
    "\t\t\n",
    "\t$3y1-4y2+5y3=10$\n",
    "\n",
    "\t$-y1+2y2-4y3=8$"
   ]
  },
  {
   "cell_type": "code",
   "execution_count": 47,
   "metadata": {},
   "outputs": [
    {
     "name": "stdout",
     "output_type": "stream",
     "text": [
      "Result of 1st system of linear equations:  (array([ 1.6692112, -1.5826972, -1.8524173]), array([], dtype=float64), 2, array([5.8874361 , 3.36720896]))\n"
     ]
    }
   ],
   "source": [
    "# solve system 1 of linear equations\n",
    "a = np.array([[2, 3, -4], [1, -4, 0]])\n",
    "b = np.array([6, 8])\n",
    "# result_1 = np.linalg.solve(a, b)\n",
    "print('Result of 1st system of linear equations: ', result_1)\n",
    "\n",
    "# it can not be solved since it is not squared matrix and will report linalg error"
   ]
  },
  {
   "cell_type": "code",
   "execution_count": 48,
   "metadata": {},
   "outputs": [
    {
     "name": "stdout",
     "output_type": "stream",
     "text": [
      "Result of 2nd system of linear equations:  (array([ 7.46067416, -4.62921348, -6.17977528]), array([], dtype=float64), 2, array([8.35006167, 1.12980976]))\n"
     ]
    }
   ],
   "source": [
    "# solve system 2 of linear equations\n",
    "c = np.array([[3, -4, 5], [-1, 2, -4]])\n",
    "d = np.array([10, 8])\n",
    "# result_2 = np.linalg.solve(c, d)\n",
    "print('Result of 2nd system of linear equations: ', result_2)\n",
    "\n",
    "# it can not be solved since it is not squared matrix and will report linalg error"
   ]
  },
  {
   "cell_type": "code",
   "execution_count": 56,
   "metadata": {},
   "outputs": [
    {
     "name": "stdout",
     "output_type": "stream",
     "text": [
      "augmented matrix:\n",
      " [[ 2  3 -4  6]\n",
      " [ 1 -4  0  8]]\n",
      "number of variables: 3\n",
      "rank of arr1: 2\n",
      "rank of augmented matrix: 2\n",
      "number of solutions: Infinite Solutions \n",
      "\n",
      "augmented matrix:\n",
      " [[ 3 -4  5 10]\n",
      " [-1  2 -4  8]]\n",
      "number of variables: 3\n",
      "rank of arr1: 2\n",
      "rank of augmented matrix: 2\n",
      "number of solutions: Infinite Solutions \n",
      "\n"
     ]
    }
   ],
   "source": [
    "# create a function to determine how many solutions\n",
    "def num_solutions(arr1, arr2):\n",
    "    # get augmented matrix\n",
    "    augmented_matrix = np.column_stack((arr1, arr2))\n",
    "    print('augmented matrix:\\n', augmented_matrix)\n",
    "\n",
    "    # Number of how many variables\n",
    "    num_vars = arr1.shape[1]\n",
    "    print('number of variables:', num_vars)\n",
    "\n",
    "    # get rank of arr1 and augment matrix\n",
    "    rank_arr1 = np.linalg.matrix_rank(arr1)\n",
    "    print('rank of arr1:', rank_arr1)\n",
    "\n",
    "    rank_augmented_matrix = np.linalg.matrix_rank(augmented_matrix)\n",
    "    print('rank of augmented matrix:', rank_augmented_matrix)\n",
    "\n",
    "    if rank_arr1 == rank_augmented_matrix == num_vars:\n",
    "        solutions = 'Unique Solution'\n",
    "    elif rank_arr1 == rank_augmented_matrix < num_vars:\n",
    "        solutions = 'Infinite Solutions'\n",
    "    else:\n",
    "        solutions = 'No solution'\n",
    "\n",
    "    print('number of solutions:', solutions, '\\n')\n",
    "\n",
    "num_solutions(a, b)\n",
    "num_solutions(c, d)"
   ]
  },
  {
   "attachments": {},
   "cell_type": "markdown",
   "metadata": {},
   "source": [
    "2. Publish the notebook as an HTML using GitHub Pages\n",
    "\t\n",
    "\tIn the PR description (created above) - add the direct link to the HTML."
   ]
  }
 ],
 "metadata": {
  "kernelspec": {
   "display_name": "Python 3",
   "language": "python",
   "name": "python3"
  },
  "language_info": {
   "codemirror_mode": {
    "name": "ipython",
    "version": 3
   },
   "file_extension": ".py",
   "mimetype": "text/x-python",
   "name": "python",
   "nbconvert_exporter": "python",
   "pygments_lexer": "ipython3",
   "version": "3.11.4"
  },
  "orig_nbformat": 4
 },
 "nbformat": 4,
 "nbformat_minor": 2
}
