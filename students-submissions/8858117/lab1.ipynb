{
 "cells": [
  {
   "attachments": {},
   "cell_type": "markdown",
   "metadata": {},
   "source": [
    "### Lab 1 – Basic NumPy Operations \n",
    "#### Student Name : Aswani P U\n",
    "#### Student Id : 8858117"
   ]
  },
  {
   "attachments": {},
   "cell_type": "markdown",
   "metadata": {},
   "source": [
    "#### Part A\n",
    "1.Create a Notebook to demonstrate NumPy Operations.\n"
   ]
  },
  {
   "cell_type": "code",
   "execution_count": 2,
   "metadata": {},
   "outputs": [],
   "source": [
    "# Import numpy package\n",
    "import numpy as np"
   ]
  },
  {
   "attachments": {},
   "cell_type": "markdown",
   "metadata": {},
   "source": [
    " 2.Create an array that starts from the integer 1, ends at 20, incremented by 3."
   ]
  },
  {
   "cell_type": "code",
   "execution_count": 3,
   "metadata": {},
   "outputs": [
    {
     "data": {
      "text/plain": [
       "array([ 1,  4,  7, 10, 13, 16, 19])"
      ]
     },
     "execution_count": 3,
     "metadata": {},
     "output_type": "execute_result"
    }
   ],
   "source": [
    "int_array = np.arange(1,20,3) \n",
    "int_array"
   ]
  },
  {
   "attachments": {},
   "cell_type": "markdown",
   "metadata": {},
   "source": [
    "3.Create a new array of shape 3 with random numbers between 0 and 1."
   ]
  },
  {
   "cell_type": "code",
   "execution_count": 4,
   "metadata": {},
   "outputs": [
    {
     "data": {
      "text/plain": [
       "array([0.94429921, 0.89996506, 0.34751065])"
      ]
     },
     "execution_count": 4,
     "metadata": {},
     "output_type": "execute_result"
    }
   ],
   "source": [
    "np.random.rand(3)"
   ]
  },
  {
   "attachments": {},
   "cell_type": "markdown",
   "metadata": {},
   "source": [
    "4 . Create a 2 D array [[10,20,45], [30,12,16], [42,17,56]] and perform the following operations:\n",
    "\n",
    "Slice the 2D array to get the first two rows, slice the 2D array to get the last two rows."
   ]
  },
  {
   "cell_type": "code",
   "execution_count": 5,
   "metadata": {},
   "outputs": [
    {
     "name": "stdout",
     "output_type": "stream",
     "text": [
      "2D array : \n",
      " [[10 20 45]\n",
      " [30 12 16]\n",
      " [42 17 56]]\n",
      "First 2 rows of Array : \n",
      " [[10 20 45]\n",
      " [30 12 16]]\n",
      "Last two rows : \n",
      " [[30 12 16]\n",
      " [42 17 56]]\n"
     ]
    }
   ],
   "source": [
    "# Create 2D array\n",
    "original_array = np.array([[10,20,45], [30,12,16], [42,17,56]]) \n",
    "print(\"2D array : \\n\", original_array)\n",
    "\n",
    "# Slice first two rows\n",
    "first_two_rows = original_array[0:2]\n",
    "print(\"First 2 rows of Array : \\n\", first_two_rows)\n",
    "\n",
    "# Slice last two rows\n",
    "last_two_rows =original_array[-2:,:]\n",
    "print(\"Last two rows : \\n\", last_two_rows)"
   ]
  },
  {
   "attachments": {},
   "cell_type": "markdown",
   "metadata": {},
   "source": [
    "5.Create two 2x2 arrays and demonstrate how you can stack the elements vertically, horizontally, and split the arrays into smaller arrays."
   ]
  },
  {
   "cell_type": "code",
   "execution_count": 6,
   "metadata": {},
   "outputs": [
    {
     "name": "stdout",
     "output_type": "stream",
     "text": [
      "The horizontally stacked array : \n",
      " [[24 25 44 45]\n",
      " [34 35 45 46]]\n",
      "The vertically stacked array : \n",
      " [[24 25]\n",
      " [34 35]\n",
      " [44 45]\n",
      " [45 46]]\n",
      "Splitted  h_array : \n",
      " [array([[24],\n",
      "       [34]]), array([[25],\n",
      "       [35]]), array([[44],\n",
      "       [45]]), array([[45],\n",
      "       [46]])]\n",
      "Splitted v_array : \n",
      " [array([[24, 25],\n",
      "       [34, 35]]), array([[44, 45],\n",
      "       [45, 46]])]\n"
     ]
    }
   ],
   "source": [
    "# Create 2x2 arrays\n",
    "arr_1 = np.array([[24,25],[34,35]])\n",
    "arr_2 = np.array([[44,45],[45,46]])\n",
    "\n",
    "# Stack arrays horizontally\n",
    "h_array = np.hstack([arr_1,arr_2])\n",
    "print(\"The horizontally stacked array : \\n\", h_array)\n",
    "\n",
    "# Stack vertically\n",
    "v_array = np.vstack([arr_1,arr_2])\n",
    "print(\"The vertically stacked array : \\n\", v_array)\n",
    "\n",
    "# Split the h_array\n",
    "sp_h_array = np.array_split(h_array, indices_or_sections = 4, axis = 1) \n",
    "print(\"Splitted  h_array : \\n\", sp_h_array)\n",
    "\n",
    "# Split v_array\n",
    "sp_v_array = np.array_split(v_array, indices_or_sections=2, axis = 0) \n",
    "print(\"Splitted v_array : \\n\", sp_v_array)"
   ]
  },
  {
   "attachments": {},
   "cell_type": "markdown",
   "metadata": {},
   "source": [
    " 6.Create two matrices X= ([[5, 7, 2], [4, 5, 6], [7, 4 ,2]]) Y= ([[4, 2], [6, 2], [4, 2]]), Is it possible to multiply these matrices? "
   ]
  },
  {
   "cell_type": "code",
   "execution_count": 7,
   "metadata": {},
   "outputs": [
    {
     "name": "stdout",
     "output_type": "stream",
     "text": [
      "Result: \n",
      " [[70 28]\n",
      " [70 30]\n",
      " [60 26]]\n"
     ]
    }
   ],
   "source": [
    "# Create matrices\n",
    "X = np.array([[5, 7, 2], [4, 5, 6], [7, 4 ,2]])\n",
    "Y = np.array([[4, 2], [6, 2], [4, 2]])\n",
    "\n",
    "# Multiply X and Y matrices\n",
    "Z = np.matmul(X, Y) \n",
    "print(\"Result: \\n\", Z)"
   ]
  },
  {
   "attachments": {},
   "cell_type": "markdown",
   "metadata": {},
   "source": [
    "6. b) Demonstrate the case when it is not possible to.\n",
    "   \n",
    "   Ans : To multiply 2 matrices number of columns in first matrix should be  equal to the number of rows in second matrix.\n",
    "         So, we can not multiply Y & X."
   ]
  },
  {
   "cell_type": "code",
   "execution_count": 8,
   "metadata": {},
   "outputs": [
    {
     "ename": "ValueError",
     "evalue": "matmul: Input operand 1 has a mismatch in its core dimension 0, with gufunc signature (n?,k),(k,m?)->(n?,m?) (size 3 is different from 2)",
     "output_type": "error",
     "traceback": [
      "\u001b[1;31m---------------------------------------------------------------------------\u001b[0m",
      "\u001b[1;31mValueError\u001b[0m                                Traceback (most recent call last)",
      "Cell \u001b[1;32mIn[8], line 2\u001b[0m\n\u001b[0;32m      1\u001b[0m \u001b[39m# Multiply Y and X matrices\u001b[39;00m\n\u001b[1;32m----> 2\u001b[0m Z \u001b[39m=\u001b[39m np\u001b[39m.\u001b[39;49mmatmul(Y, X) \n",
      "\u001b[1;31mValueError\u001b[0m: matmul: Input operand 1 has a mismatch in its core dimension 0, with gufunc signature (n?,k),(k,m?)->(n?,m?) (size 3 is different from 2)"
     ]
    }
   ],
   "source": [
    "# Multiply Y and X matrices\n",
    "M = np.matmul(Y, X) "
   ]
  },
  {
   "attachments": {},
   "cell_type": "markdown",
   "metadata": {},
   "source": [
    "7.Create two arrays, x = ([2, -1, -8]) y = ([3, 1, -2]), Find the Shape, Number of dimensions of vector x\n",
    "Reshape the vector x to a matrix of size (3,1) and determine the number of dimensions after reshaping y to a matrix of (3,1)."
   ]
  },
  {
   "cell_type": "code",
   "execution_count": null,
   "metadata": {},
   "outputs": [
    {
     "name": "stdout",
     "output_type": "stream",
     "text": [
      "X : \n",
      " [[5 7 2]\n",
      " [4 5 6]\n",
      " [7 4 2]]\n",
      "Y : \n",
      " [[4 2]\n",
      " [6 2]\n",
      " [4 2]]\n",
      "x shape : \n",
      " (3,)\n",
      "x dimension : \n",
      " 1\n",
      "Reshaped X: \n",
      " [[ 2]\n",
      " [-1]\n",
      " [-8]]\n",
      "Reshaped y: \n",
      " [[ 3]\n",
      " [ 1]\n",
      " [-2]]\n",
      "Reshaped Y dimension : \n",
      " 2\n"
     ]
    }
   ],
   "source": [
    "# Create arrays\n",
    "x = np.array([2, -1, -8])\n",
    "y = np.array([3, 1, -2])\n",
    "print(\"X : \\n\", X)\n",
    "print(\"Y : \\n\", Y)\n",
    "\n",
    "# Find the shape and dimension of x\n",
    "print(\"x shape : \\n\", x.shape)\n",
    "print(\"x dimension : \\n\", x.ndim)\n",
    "\n",
    "# Reshape the vector x and y to a matrix of size (3,1)\n",
    "new_x = x.reshape(3,1)\n",
    "new_y = y.reshape(3,1)\n",
    "print(\"Reshaped X: \\n\", new_x)\n",
    "print(\"Reshaped y: \\n\", new_y)\n",
    "\n",
    "# Find the dimension of reshaped Y\n",
    "print(\"Reshaped Y dimension : \\n\", new_y.ndim)"
   ]
  },
  {
   "attachments": {},
   "cell_type": "markdown",
   "metadata": {},
   "source": [
    " 8. How does broadcasting work? Demonstrate the subtraction, multiplication by considering a 3 x 3 matrix.\n",
    "\n",
    " Broadcasting help to perform operations on arrays with different shapes."
   ]
  },
  {
   "cell_type": "code",
   "execution_count": null,
   "metadata": {},
   "outputs": [
    {
     "name": "stdout",
     "output_type": "stream",
     "text": [
      "Substraction Result : \n",
      " [[ 7  8  9]\n",
      " [10 11 12]\n",
      " [13 14 15]]\n",
      "Multiplication Result : \n",
      " [[ 60  65  70]\n",
      " [ 75  80  85]\n",
      " [ 90  95 100]]\n"
     ]
    }
   ],
   "source": [
    "X = np.array ([[12, 13, 14],\n",
    "               [15, 16, 17],\n",
    "               [18, 19, 20]])\n",
    "Y = 5\n",
    "\n",
    "# Substraction \n",
    "S = X-Y\n",
    "print(\"Substraction Result : \\n\", S)\n",
    "\n",
    "# Multiplication of matrix\n",
    "M = X*Y\n",
    "print(\"Multiplication Result : \\n\", M)"
   ]
  },
  {
   "attachments": {},
   "cell_type": "markdown",
   "metadata": {},
   "source": [
    " 9. Add Markdown text, with a headline, that provides a very brief overview of the graphs (e.g., one sentence for each). \n",
    "    Feel free to add additional Markdown elements (description/additional comments)"
   ]
  },
  {
   "attachments": {},
   "cell_type": "markdown",
   "metadata": {},
   "source": [
    "#### Part B\n",
    "   1.Solve the following two system of linear equations using matrices (find the values of x1 and x2) and \n",
    "     determine the number of solutions using the functions. \n",
    "\t         1.2x1+3x2-4x3=6,x1-4x2=8\n",
    "\t\t\n",
    "\t         2. 3y1-4y2+5y3=10,-y1+2y2-4y3=8\n"
   ]
  },
  {
   "cell_type": "code",
   "execution_count": null,
   "metadata": {},
   "outputs": [
    {
     "name": "stdout",
     "output_type": "stream",
     "text": [
      "Matrix X shape: \n",
      " (2, 3)\n",
      "Matrix Y shape : \n",
      " (2,)\n"
     ]
    },
    {
     "ename": "LinAlgError",
     "evalue": "Last 2 dimensions of the array must be square",
     "output_type": "error",
     "traceback": [
      "\u001b[1;31m---------------------------------------------------------------------------\u001b[0m",
      "\u001b[1;31mLinAlgError\u001b[0m                               Traceback (most recent call last)",
      "Cell \u001b[1;32mIn[10], line 10\u001b[0m\n\u001b[0;32m      7\u001b[0m \u001b[39mprint\u001b[39m(\u001b[39m\"\u001b[39m\u001b[39mMatrix X shape: \u001b[39m\u001b[39m\\n\u001b[39;00m\u001b[39m\"\u001b[39m, X\u001b[39m.\u001b[39mshape)\n\u001b[0;32m      8\u001b[0m \u001b[39mprint\u001b[39m(\u001b[39m\"\u001b[39m\u001b[39mMatrix Y shape : \u001b[39m\u001b[39m\\n\u001b[39;00m\u001b[39m\"\u001b[39m, Y\u001b[39m.\u001b[39mshape)\n\u001b[1;32m---> 10\u001b[0m np\u001b[39m.\u001b[39;49mlinalg\u001b[39m.\u001b[39;49msolve(X,Y)\n",
      "File \u001b[1;32m<__array_function__ internals>:200\u001b[0m, in \u001b[0;36msolve\u001b[1;34m(*args, **kwargs)\u001b[0m\n",
      "File \u001b[1;32mc:\\Users\\aswan\\AI\\FML\\CSCN8010\\venv\\CSCN8010_classic_ml\\Lib\\site-packages\\numpy\\linalg\\linalg.py:373\u001b[0m, in \u001b[0;36msolve\u001b[1;34m(a, b)\u001b[0m\n\u001b[0;32m    371\u001b[0m a, _ \u001b[39m=\u001b[39m _makearray(a)\n\u001b[0;32m    372\u001b[0m _assert_stacked_2d(a)\n\u001b[1;32m--> 373\u001b[0m _assert_stacked_square(a)\n\u001b[0;32m    374\u001b[0m b, wrap \u001b[39m=\u001b[39m _makearray(b)\n\u001b[0;32m    375\u001b[0m t, result_t \u001b[39m=\u001b[39m _commonType(a, b)\n",
      "File \u001b[1;32mc:\\Users\\aswan\\AI\\FML\\CSCN8010\\venv\\CSCN8010_classic_ml\\Lib\\site-packages\\numpy\\linalg\\linalg.py:190\u001b[0m, in \u001b[0;36m_assert_stacked_square\u001b[1;34m(*arrays)\u001b[0m\n\u001b[0;32m    188\u001b[0m m, n \u001b[39m=\u001b[39m a\u001b[39m.\u001b[39mshape[\u001b[39m-\u001b[39m\u001b[39m2\u001b[39m:]\n\u001b[0;32m    189\u001b[0m \u001b[39mif\u001b[39;00m m \u001b[39m!=\u001b[39m n:\n\u001b[1;32m--> 190\u001b[0m     \u001b[39mraise\u001b[39;00m LinAlgError(\u001b[39m'\u001b[39m\u001b[39mLast 2 dimensions of the array must be square\u001b[39m\u001b[39m'\u001b[39m)\n",
      "\u001b[1;31mLinAlgError\u001b[0m: Last 2 dimensions of the array must be square"
     ]
    }
   ],
   "source": [
    "# Create feature matrix - 2x1+3x2-4x3=6,x1-4x2=8\n",
    "X= np.array([[2,3,-4],[1,-4,0]])\n",
    "\n",
    "# Create constants matrix \n",
    "Y = np.array([6,8])\n",
    "\n",
    "print(\"Matrix X shape: \\n\", X.shape)\n",
    "print(\"Matrix Y shape : \\n\", Y.shape)\n",
    "\n",
    "np.linalg.solve(X,Y)"
   ]
  },
  {
   "cell_type": "code",
   "execution_count": null,
   "metadata": {},
   "outputs": [
    {
     "name": "stdout",
     "output_type": "stream",
     "text": [
      "Matrix A shape: \n",
      " (2, 3)\n",
      "Matrix B shape : \n",
      " (2,)\n"
     ]
    },
    {
     "ename": "LinAlgError",
     "evalue": "Last 2 dimensions of the array must be square",
     "output_type": "error",
     "traceback": [
      "\u001b[1;31m---------------------------------------------------------------------------\u001b[0m",
      "\u001b[1;31mLinAlgError\u001b[0m                               Traceback (most recent call last)",
      "Cell \u001b[1;32mIn[11], line 9\u001b[0m\n\u001b[0;32m      7\u001b[0m \u001b[39mprint\u001b[39m(\u001b[39m\"\u001b[39m\u001b[39mMatrix A shape: \u001b[39m\u001b[39m\\n\u001b[39;00m\u001b[39m\"\u001b[39m, A\u001b[39m.\u001b[39mshape)\n\u001b[0;32m      8\u001b[0m \u001b[39mprint\u001b[39m(\u001b[39m\"\u001b[39m\u001b[39mMatrix B shape : \u001b[39m\u001b[39m\\n\u001b[39;00m\u001b[39m\"\u001b[39m, B\u001b[39m.\u001b[39mshape)\n\u001b[1;32m----> 9\u001b[0m np\u001b[39m.\u001b[39;49mlinalg\u001b[39m.\u001b[39;49msolve(X,Y)\n",
      "File \u001b[1;32m<__array_function__ internals>:200\u001b[0m, in \u001b[0;36msolve\u001b[1;34m(*args, **kwargs)\u001b[0m\n",
      "File \u001b[1;32mc:\\Users\\aswan\\AI\\FML\\CSCN8010\\venv\\CSCN8010_classic_ml\\Lib\\site-packages\\numpy\\linalg\\linalg.py:373\u001b[0m, in \u001b[0;36msolve\u001b[1;34m(a, b)\u001b[0m\n\u001b[0;32m    371\u001b[0m a, _ \u001b[39m=\u001b[39m _makearray(a)\n\u001b[0;32m    372\u001b[0m _assert_stacked_2d(a)\n\u001b[1;32m--> 373\u001b[0m _assert_stacked_square(a)\n\u001b[0;32m    374\u001b[0m b, wrap \u001b[39m=\u001b[39m _makearray(b)\n\u001b[0;32m    375\u001b[0m t, result_t \u001b[39m=\u001b[39m _commonType(a, b)\n",
      "File \u001b[1;32mc:\\Users\\aswan\\AI\\FML\\CSCN8010\\venv\\CSCN8010_classic_ml\\Lib\\site-packages\\numpy\\linalg\\linalg.py:190\u001b[0m, in \u001b[0;36m_assert_stacked_square\u001b[1;34m(*arrays)\u001b[0m\n\u001b[0;32m    188\u001b[0m m, n \u001b[39m=\u001b[39m a\u001b[39m.\u001b[39mshape[\u001b[39m-\u001b[39m\u001b[39m2\u001b[39m:]\n\u001b[0;32m    189\u001b[0m \u001b[39mif\u001b[39;00m m \u001b[39m!=\u001b[39m n:\n\u001b[1;32m--> 190\u001b[0m     \u001b[39mraise\u001b[39;00m LinAlgError(\u001b[39m'\u001b[39m\u001b[39mLast 2 dimensions of the array must be square\u001b[39m\u001b[39m'\u001b[39m)\n",
      "\u001b[1;31mLinAlgError\u001b[0m: Last 2 dimensions of the array must be square"
     ]
    }
   ],
   "source": [
    "# Create feature matrix  - 3y1-4y2+5y3 = 10; -y1+2y2-4y3 = 8\n",
    "A = np.array([[3,-4,5],[-1,2,-4]])\n",
    "\n",
    "# Create constants matrix \n",
    "B = np.array([10,8])\n",
    "\n",
    "print(\"Matrix A shape: \\n\", A.shape)\n",
    "print(\"Matrix B shape : \\n\", B.shape)\n",
    "np.linalg.solve(X,Y)"
   ]
  },
  {
   "attachments": {},
   "cell_type": "markdown",
   "metadata": {},
   "source": [
    "From the shape, it's clear that we can not find a solution for these equations. Determinant is used to find the number of solutions of a matrix. We can calculate the determinant of a matrix only if it's a square matrix.  But here, it's not a square matrix."
   ]
  }
 ],
 "metadata": {
  "kernelspec": {
   "display_name": "CSCN8010_classic_ml",
   "language": "python",
   "name": "cscn8010_classic_ml"
  },
  "language_info": {
   "codemirror_mode": {
    "name": "ipython",
    "version": 3
   },
   "file_extension": ".py",
   "mimetype": "text/x-python",
   "name": "python",
   "nbconvert_exporter": "python",
   "pygments_lexer": "ipython3",
   "version": "3.11.3"
  },
  "orig_nbformat": 4
 },
 "nbformat": 4,
 "nbformat_minor": 2
}
