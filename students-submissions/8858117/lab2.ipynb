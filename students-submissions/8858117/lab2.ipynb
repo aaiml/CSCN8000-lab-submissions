{
 "cells": [
  {
   "cell_type": "code",
   "execution_count": 48,
   "metadata": {},
   "outputs": [],
   "source": [
    "import pandas as pd\n",
    "import seaborn as sns\n",
    "from sklearn.model_selection import train_test_split\n",
    "from sklearn.feature_extraction.text import CountVectorizer\n",
    "from sklearn.naive_bayes import GaussianNB, MultinomialNB\n",
    "from sklearn.metrics import accuracy_score"
   ]
  },
  {
   "cell_type": "markdown",
   "metadata": {},
   "source": [
    "* Student Name: Aswani Pottathuparambil Unnikrishnan\n",
    "* Student Id: 8858117"
   ]
  },
  {
   "attachments": {},
   "cell_type": "markdown",
   "metadata": {},
   "source": [
    "PART A\n",
    "* Use the **Lab2 dataset** provided. Load the dataset and split it into test and train. After that, train the model using Gaussian and Multinominal \n",
    "classifiers and post which model performs better. Use the trained model to perform some predictions on test data."
   ]
  },
  {
   "cell_type": "code",
   "execution_count": 49,
   "metadata": {},
   "outputs": [
    {
     "data": {
      "text/html": [
       "<div>\n",
       "<style scoped>\n",
       "    .dataframe tbody tr th:only-of-type {\n",
       "        vertical-align: middle;\n",
       "    }\n",
       "\n",
       "    .dataframe tbody tr th {\n",
       "        vertical-align: top;\n",
       "    }\n",
       "\n",
       "    .dataframe thead th {\n",
       "        text-align: right;\n",
       "    }\n",
       "</style>\n",
       "<table border=\"1\" class=\"dataframe\">\n",
       "  <thead>\n",
       "    <tr style=\"text-align: right;\">\n",
       "      <th></th>\n",
       "      <th>Unnamed: 0</th>\n",
       "      <th>label</th>\n",
       "      <th>text</th>\n",
       "      <th>label_num</th>\n",
       "    </tr>\n",
       "  </thead>\n",
       "  <tbody>\n",
       "    <tr>\n",
       "      <th>4102</th>\n",
       "      <td>5164</td>\n",
       "      <td>spam</td>\n",
       "      <td>Subject: epson inkjet cartridges from 5 . 99\\n...</td>\n",
       "      <td>1</td>\n",
       "    </tr>\n",
       "    <tr>\n",
       "      <th>762</th>\n",
       "      <td>1349</td>\n",
       "      <td>ham</td>\n",
       "      <td>Subject: re : resolved issue : re : meter # 09...</td>\n",
       "      <td>0</td>\n",
       "    </tr>\n",
       "    <tr>\n",
       "      <th>4339</th>\n",
       "      <td>2870</td>\n",
       "      <td>ham</td>\n",
       "      <td>Subject: natural gas nomination for 04 / 01\\ne...</td>\n",
       "      <td>0</td>\n",
       "    </tr>\n",
       "    <tr>\n",
       "      <th>845</th>\n",
       "      <td>1419</td>\n",
       "      <td>ham</td>\n",
       "      <td>Subject: enron actuals for august 17 , 2000\\nt...</td>\n",
       "      <td>0</td>\n",
       "    </tr>\n",
       "    <tr>\n",
       "      <th>3922</th>\n",
       "      <td>5001</td>\n",
       "      <td>spam</td>\n",
       "      <td>Subject: v . i . agra for two . dollars . and ...</td>\n",
       "      <td>1</td>\n",
       "    </tr>\n",
       "  </tbody>\n",
       "</table>\n",
       "</div>"
      ],
      "text/plain": [
       "      Unnamed: 0 label                                               text   \n",
       "4102        5164  spam  Subject: epson inkjet cartridges from 5 . 99\\n...  \\\n",
       "762         1349   ham  Subject: re : resolved issue : re : meter # 09...   \n",
       "4339        2870   ham  Subject: natural gas nomination for 04 / 01\\ne...   \n",
       "845         1419   ham  Subject: enron actuals for august 17 , 2000\\nt...   \n",
       "3922        5001  spam  Subject: v . i . agra for two . dollars . and ...   \n",
       "\n",
       "      label_num  \n",
       "4102          1  \n",
       "762           0  \n",
       "4339          0  \n",
       "845           0  \n",
       "3922          1  "
      ]
     },
     "execution_count": 49,
     "metadata": {},
     "output_type": "execute_result"
    }
   ],
   "source": [
    "# Load the dataset Lab2_dataset.csv\n",
    "df1 = pd.read_csv('C:/Users/aswan/AI/AIML/CSCN8000-lab-submissions/practical_labs/Lab2_dataset.csv')\n",
    "df1.sample(5)"
   ]
  },
  {
   "cell_type": "code",
   "execution_count": 50,
   "metadata": {},
   "outputs": [],
   "source": [
    "# Split the dataset \n",
    "X= df1['text']\n",
    "y= df1['label_num']\n",
    "X_train, X_test, y_train, y_test = train_test_split(X, y, test_size=0.2, random_state=42)"
   ]
  },
  {
   "cell_type": "code",
   "execution_count": 51,
   "metadata": {},
   "outputs": [],
   "source": [
    "# Convert text into numerical features\n",
    "v = CountVectorizer()\n",
    "X_train_v = v.fit_transform(X_train)\n",
    "X_test_v = v.transform(X_test)"
   ]
  },
  {
   "cell_type": "code",
   "execution_count": 52,
   "metadata": {},
   "outputs": [
    {
     "name": "stdout",
     "output_type": "stream",
     "text": [
      " The Gaussian Naive Bayes classifier accuracy is  0.9545893719806763\n"
     ]
    }
   ],
   "source": [
    "# Gaussian Naive Bayes classifier training & accuracy calculation\n",
    "g_nb = GaussianNB()\n",
    "g_nb.fit(X_train_v.toarray(), y_train)\n",
    "g_nb_predictions = g_nb.predict(X_test_v.toarray())\n",
    "g_nb_accuracy = accuracy_score(y_test, g_nb_predictions)\n",
    "print(f' The Gaussian Naive Bayes classifier accuracy is  {g_nb_accuracy}')\n"
   ]
  },
  {
   "cell_type": "code",
   "execution_count": 53,
   "metadata": {},
   "outputs": [
    {
     "name": "stdout",
     "output_type": "stream",
     "text": [
      "The Multinomial Naive Bayes classifier accuracy is  0.9719806763285024\n"
     ]
    }
   ],
   "source": [
    "\n",
    "# Train the Multinomial Naive Bayes classifier training & accuracy calculation\n",
    "m_nb = MultinomialNB()\n",
    "m_nb.fit(X_train_v, y_train)\n",
    "m_nb_predictions = m_nb.predict(X_test_v.toarray())\n",
    "m_nb_accuracy = accuracy_score(y_test, m_nb_predictions)\n",
    "print(f'The Multinomial Naive Bayes classifier accuracy is  {m_nb_accuracy}')"
   ]
  },
  {
   "cell_type": "markdown",
   "metadata": {},
   "source": [
    "## Observation\n",
    "* Both classifiers exhibited great predictive performance overall, with high accuracy ratings. The Multinomial Naive Bayes classifier performed better than the Gaussian Naive Bayes classifier, suggesting that a multinomial distribution assumption would be a better fit for the data. "
   ]
  },
  {
   "cell_type": "markdown",
   "metadata": {},
   "source": [
    "PART B\n",
    "* Use this **air bnb new york city dataset** and remove outliers based on price per night for a given apartment/home. \n",
    "You can demonstrate why using other techniques like mean/median/ percentile works. \n",
    "The task is to come up with a clean dataset that does not have outliers showcasing all the possibilities."
   ]
  },
  {
   "cell_type": "code",
   "execution_count": 54,
   "metadata": {},
   "outputs": [
    {
     "data": {
      "text/html": [
       "<div>\n",
       "<style scoped>\n",
       "    .dataframe tbody tr th:only-of-type {\n",
       "        vertical-align: middle;\n",
       "    }\n",
       "\n",
       "    .dataframe tbody tr th {\n",
       "        vertical-align: top;\n",
       "    }\n",
       "\n",
       "    .dataframe thead th {\n",
       "        text-align: right;\n",
       "    }\n",
       "</style>\n",
       "<table border=\"1\" class=\"dataframe\">\n",
       "  <thead>\n",
       "    <tr style=\"text-align: right;\">\n",
       "      <th></th>\n",
       "      <th>id</th>\n",
       "      <th>name</th>\n",
       "      <th>host_id</th>\n",
       "      <th>host_name</th>\n",
       "      <th>neighbourhood_group</th>\n",
       "      <th>neighbourhood</th>\n",
       "      <th>latitude</th>\n",
       "      <th>longitude</th>\n",
       "      <th>room_type</th>\n",
       "      <th>price</th>\n",
       "      <th>minimum_nights</th>\n",
       "      <th>number_of_reviews</th>\n",
       "      <th>last_review</th>\n",
       "      <th>reviews_per_month</th>\n",
       "      <th>calculated_host_listings_count</th>\n",
       "      <th>availability_365</th>\n",
       "    </tr>\n",
       "  </thead>\n",
       "  <tbody>\n",
       "    <tr>\n",
       "      <th>11723</th>\n",
       "      <td>9115832</td>\n",
       "      <td>Lge bedroom (2 pers) in Bushwick</td>\n",
       "      <td>47501348</td>\n",
       "      <td>Margot</td>\n",
       "      <td>Brooklyn</td>\n",
       "      <td>Bushwick</td>\n",
       "      <td>40.69824</td>\n",
       "      <td>-73.93231</td>\n",
       "      <td>Private room</td>\n",
       "      <td>60</td>\n",
       "      <td>1</td>\n",
       "      <td>0</td>\n",
       "      <td>NaN</td>\n",
       "      <td>NaN</td>\n",
       "      <td>1</td>\n",
       "      <td>0</td>\n",
       "    </tr>\n",
       "    <tr>\n",
       "      <th>16290</th>\n",
       "      <td>13114443</td>\n",
       "      <td>East Village Spacious 3 Bedroom Across from Park</td>\n",
       "      <td>72931015</td>\n",
       "      <td>Spencer</td>\n",
       "      <td>Manhattan</td>\n",
       "      <td>East Village</td>\n",
       "      <td>40.72527</td>\n",
       "      <td>-73.98347</td>\n",
       "      <td>Entire home/apt</td>\n",
       "      <td>206</td>\n",
       "      <td>1</td>\n",
       "      <td>1</td>\n",
       "      <td>2016-06-05</td>\n",
       "      <td>0.03</td>\n",
       "      <td>1</td>\n",
       "      <td>0</td>\n",
       "    </tr>\n",
       "    <tr>\n",
       "      <th>44822</th>\n",
       "      <td>34417565</td>\n",
       "      <td>Friend Hostel</td>\n",
       "      <td>93598122</td>\n",
       "      <td>Evgen</td>\n",
       "      <td>Brooklyn</td>\n",
       "      <td>Brighton Beach</td>\n",
       "      <td>40.58002</td>\n",
       "      <td>-73.96596</td>\n",
       "      <td>Private room</td>\n",
       "      <td>100</td>\n",
       "      <td>2</td>\n",
       "      <td>7</td>\n",
       "      <td>2019-06-23</td>\n",
       "      <td>3.44</td>\n",
       "      <td>1</td>\n",
       "      <td>31</td>\n",
       "    </tr>\n",
       "    <tr>\n",
       "      <th>26786</th>\n",
       "      <td>21263008</td>\n",
       "      <td>4 Beds 4 Baths serviced apartment Palazzo Gram...</td>\n",
       "      <td>153735730</td>\n",
       "      <td>Sudha</td>\n",
       "      <td>Manhattan</td>\n",
       "      <td>Gramercy</td>\n",
       "      <td>40.73680</td>\n",
       "      <td>-73.98307</td>\n",
       "      <td>Entire home/apt</td>\n",
       "      <td>766</td>\n",
       "      <td>30</td>\n",
       "      <td>13</td>\n",
       "      <td>2019-06-15</td>\n",
       "      <td>0.66</td>\n",
       "      <td>2</td>\n",
       "      <td>352</td>\n",
       "    </tr>\n",
       "    <tr>\n",
       "      <th>21472</th>\n",
       "      <td>17155039</td>\n",
       "      <td>East Harlem QtPoC Living Space</td>\n",
       "      <td>46108407</td>\n",
       "      <td>Walesca</td>\n",
       "      <td>Manhattan</td>\n",
       "      <td>East Harlem</td>\n",
       "      <td>40.80224</td>\n",
       "      <td>-73.93732</td>\n",
       "      <td>Private room</td>\n",
       "      <td>48</td>\n",
       "      <td>1</td>\n",
       "      <td>1</td>\n",
       "      <td>2018-04-28</td>\n",
       "      <td>0.07</td>\n",
       "      <td>1</td>\n",
       "      <td>0</td>\n",
       "    </tr>\n",
       "  </tbody>\n",
       "</table>\n",
       "</div>"
      ],
      "text/plain": [
       "             id                                               name    host_id   \n",
       "11723   9115832                   Lge bedroom (2 pers) in Bushwick   47501348  \\\n",
       "16290  13114443   East Village Spacious 3 Bedroom Across from Park   72931015   \n",
       "44822  34417565                                      Friend Hostel   93598122   \n",
       "26786  21263008  4 Beds 4 Baths serviced apartment Palazzo Gram...  153735730   \n",
       "21472  17155039                     East Harlem QtPoC Living Space   46108407   \n",
       "\n",
       "      host_name neighbourhood_group   neighbourhood  latitude  longitude   \n",
       "11723    Margot            Brooklyn        Bushwick  40.69824  -73.93231  \\\n",
       "16290   Spencer           Manhattan    East Village  40.72527  -73.98347   \n",
       "44822     Evgen            Brooklyn  Brighton Beach  40.58002  -73.96596   \n",
       "26786     Sudha           Manhattan        Gramercy  40.73680  -73.98307   \n",
       "21472   Walesca           Manhattan     East Harlem  40.80224  -73.93732   \n",
       "\n",
       "             room_type  price  minimum_nights  number_of_reviews last_review   \n",
       "11723     Private room     60               1                  0         NaN  \\\n",
       "16290  Entire home/apt    206               1                  1  2016-06-05   \n",
       "44822     Private room    100               2                  7  2019-06-23   \n",
       "26786  Entire home/apt    766              30                 13  2019-06-15   \n",
       "21472     Private room     48               1                  1  2018-04-28   \n",
       "\n",
       "       reviews_per_month  calculated_host_listings_count  availability_365  \n",
       "11723                NaN                               1                 0  \n",
       "16290               0.03                               1                 0  \n",
       "44822               3.44                               1                31  \n",
       "26786               0.66                               2               352  \n",
       "21472               0.07                               1                 0  "
      ]
     },
     "execution_count": 54,
     "metadata": {},
     "output_type": "execute_result"
    }
   ],
   "source": [
    "df2 = pd.read_csv('C:/Users/aswan/AI/AIML/CSCN8000-lab-submissions/practical_labs/AB_NYC_2019.csv')\n",
    "df2.sample(5)"
   ]
  },
  {
   "cell_type": "code",
   "execution_count": 55,
   "metadata": {},
   "outputs": [
    {
     "data": {
      "text/plain": [
       "0        149.000000\n",
       "1        225.000000\n",
       "2         50.000000\n",
       "3         89.000000\n",
       "4          8.000000\n",
       "            ...    \n",
       "48890     35.000000\n",
       "48891     10.000000\n",
       "48892     11.500000\n",
       "48893     55.000000\n",
       "48894     12.857143\n",
       "Name: price_per_night, Length: 48895, dtype: float64"
      ]
     },
     "execution_count": 55,
     "metadata": {},
     "output_type": "execute_result"
    }
   ],
   "source": [
    "# Create and analyze the price per night column\n",
    "df2['price_per_night'] = df2['price'] / df2['minimum_nights']\n",
    "df2.price_per_night\n"
   ]
  },
  {
   "cell_type": "code",
   "execution_count": 56,
   "metadata": {},
   "outputs": [
    {
     "data": {
      "text/plain": [
       "count    48895.000000\n",
       "mean        70.174247\n",
       "std        157.620388\n",
       "min          0.000000\n",
       "25%         20.000000\n",
       "50%         44.500000\n",
       "75%         81.500000\n",
       "max       8000.000000\n",
       "Name: price_per_night, dtype: float64"
      ]
     },
     "execution_count": 56,
     "metadata": {},
     "output_type": "execute_result"
    }
   ],
   "source": [
    "df2['price_per_night'].describe()\n"
   ]
  },
  {
   "cell_type": "code",
   "execution_count": 57,
   "metadata": {},
   "outputs": [
    {
     "data": {
      "text/plain": [
       "<Axes: ylabel='price_per_night'>"
      ]
     },
     "execution_count": 57,
     "metadata": {},
     "output_type": "execute_result"
    },
    {
     "data": {
      "image/png": "[encoded data removed]",
      "text/plain": [
       "<Figure size 640x480 with 1 Axes>"
      ]
     },
     "metadata": {},
     "output_type": "display_data"
    }
   ],
   "source": [
    "# Draw Boxplot for price_per_night\n",
    "sns.boxplot(y=df2['price_per_night'])"
   ]
  },
  {
   "cell_type": "code",
   "execution_count": 58,
   "metadata": {},
   "outputs": [
    {
     "data": {
      "text/plain": [
       "<Axes: ylabel='price_per_night'>"
      ]
     },
     "execution_count": 58,
     "metadata": {},
     "output_type": "execute_result"
    },
    {
     "data": {
      "image/png": "[encoded data removed]",
      "text/plain": [
       "<Figure size 640x480 with 1 Axes>"
      ]
     },
     "metadata": {},
     "output_type": "display_data"
    }
   ],
   "source": [
    "# Outliers removal using percentile-based approach\n",
    "p_min= df2.price_per_night.quantile(0.01,interpolation = \"higher\")\n",
    "p_max= df2.price_per_night.quantile(0.99,interpolation = \"lower\")\n",
    "df2_percentile = df2[(df2['price_per_night'] >= p_min) & (df2['price_per_night'] <= p_max)]\n",
    "\n",
    "# Draw Boxplot for price_per_night\n",
    "sns.boxplot(y=df2_percentile['price_per_night'])\n"
   ]
  },
  {
   "cell_type": "code",
   "execution_count": 59,
   "metadata": {},
   "outputs": [
    {
     "data": {
      "text/plain": [
       "<Axes: ylabel='price_per_night'>"
      ]
     },
     "execution_count": 59,
     "metadata": {},
     "output_type": "execute_result"
    },
    {
     "data": {
      "image/png": "[encoded data removed]",
      "text/plain": [
       "<Figure size 640x480 with 1 Axes>"
      ]
     },
     "metadata": {},
     "output_type": "display_data"
    }
   ],
   "source": [
    "# Outliers removal using using mean and standard deviation approach\n",
    "p_mean = df2['price_per_night'].mean()\n",
    "p_std = df2['price_per_night'].std()\n",
    "threshold = 3 \n",
    "df2_std = df2[abs(df2['price_per_night'] - p_mean) <= threshold * p_std]\n",
    "# Draw Boxplot for price_per_night\n",
    "sns.boxplot(y=df2_std['price_per_night'])"
   ]
  },
  {
   "cell_type": "code",
   "execution_count": 60,
   "metadata": {},
   "outputs": [
    {
     "data": {
      "text/plain": [
       "<Axes: ylabel='price_per_night'>"
      ]
     },
     "execution_count": 60,
     "metadata": {},
     "output_type": "execute_result"
    },
    {
     "data": {
      "image/png": "[encoded data removed]",
      "text/plain": [
       "<Figure size 640x480 with 1 Axes>"
      ]
     },
     "metadata": {},
     "output_type": "display_data"
    }
   ],
   "source": [
    "# Outlier removal using IQR\n",
    "# From the above price_per_night description details we got the first, second and third quartile values are 20,44, 81 respectively.\n",
    "\n",
    "q1= 20\n",
    "q2= 44\n",
    "q3= 81\n",
    "# IQR = Third quartile- First quartile\n",
    "iqr = q3- q1\n",
    "\n",
    "# Calculate lower bound\n",
    "l_bound = q1 - 1.5 * iqr\n",
    "# Calculate upper bound\n",
    "u_bound = q3 + 1.5 * iqr\n",
    "\n",
    "# Remove outliers\n",
    "df2_iqr = df2[(df2['price_per_night'] >= l_bound) & (df2['price_per_night'] <= u_bound)]\n",
    "# Draw Boxplot for price_per_night\n",
    "sns.boxplot(y=df2_iqr['price_per_night'])"
   ]
  },
  {
   "cell_type": "code",
   "execution_count": 61,
   "metadata": {},
   "outputs": [
    {
     "data": {
      "text/plain": [
       "count    48895.000000\n",
       "mean        70.174247\n",
       "std        157.620388\n",
       "min          0.000000\n",
       "25%         20.000000\n",
       "50%         44.500000\n",
       "75%         81.500000\n",
       "max       8000.000000\n",
       "Name: price_per_night, dtype: float64"
      ]
     },
     "execution_count": 61,
     "metadata": {},
     "output_type": "execute_result"
    }
   ],
   "source": [
    "df2['price_per_night'].describe()"
   ]
  },
  {
   "cell_type": "code",
   "execution_count": 62,
   "metadata": {},
   "outputs": [
    {
     "data": {
      "text/plain": [
       "count    45558.000000\n",
       "mean        49.170838\n",
       "std         39.045338\n",
       "min          0.000000\n",
       "25%         18.000000\n",
       "50%         40.000000\n",
       "75%         72.000000\n",
       "max        172.500000\n",
       "Name: price_per_night, dtype: float64"
      ]
     },
     "execution_count": 62,
     "metadata": {},
     "output_type": "execute_result"
    }
   ],
   "source": [
    "df2_iqr['price_per_night'].describe()"
   ]
  },
  {
   "cell_type": "markdown",
   "metadata": {},
   "source": [
    "## Observation\n",
    "* From the boxplots and initial(df2) and final(df2_iqr) datasets,  we can easily identify differences of outliers' presence. df2_iqr dataset contains cleaned data. "
   ]
  }
 ],
 "metadata": {
  "kernelspec": {
   "display_name": "CSCN8010_classic_ml",
   "language": "python",
   "name": "cscn8010_classic_ml"
  },
  "language_info": {
   "codemirror_mode": {
    "name": "ipython",
    "version": 3
   },
   "file_extension": ".py",
   "mimetype": "text/x-python",
   "name": "python",
   "nbconvert_exporter": "python",
   "pygments_lexer": "ipython3",
   "version": "3.11.3"
  },
  "orig_nbformat": 4
 },
 "nbformat": 4,
 "nbformat_minor": 2
}
