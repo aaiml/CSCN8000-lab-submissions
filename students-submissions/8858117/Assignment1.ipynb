{
 "cells": [
  {
   "cell_type": "markdown",
   "metadata": {},
   "source": [
    "* Assignment 1\n",
    "* Student Name : Aswani Pottathuparambil Unnikrishnan\n",
    "* Student ID : 8858117"
   ]
  },
  {
   "cell_type": "markdown",
   "metadata": {},
   "source": [
    "1.\tGiven the symptoms exhibited in a patient and a database of anonymized patient records, predict whether the patient is likely to  have an illness (Parkinson’s disease).\n",
    "    A model of this decision problem could be used by a program to provide decision support to medical professionals.\n",
    "  \t\n",
    "   You can follow the following steps :\n",
    "  \t\n",
    "   •\tData Analysis\n",
    "  \t\n",
    "   •\tData Preprocessing\n",
    "  \t\n",
    "   •\tData Standardization\n",
    "  \t\n",
    "   •\tModel Training\n",
    "  \t\n",
    "   •\tMeasure your model’s accuracy.\n",
    "  \t\n",
    "      a.\tUse 80% of samples as training data size.\n",
    "\n",
    "   •\tBuild a predictive system to verify that the model built is able to predict the patient’s Parkinson’s disease with one instance of the dataset."
   ]
  },
  {
   "cell_type": "code",
   "execution_count": 109,
   "metadata": {},
   "outputs": [],
   "source": [
    "import pandas as pd\n",
    "import matplotlib.pyplot as plt\n",
    "from sklearn.preprocessing import StandardScaler\n",
    "from sklearn.model_selection import train_test_split\n",
    "from sklearn.linear_model import LogisticRegression\n",
    "from sklearn.metrics import accuracy_score"
   ]
  },
  {
   "cell_type": "markdown",
   "metadata": {},
   "source": [
    "The objective of this type of binary classification problem is to determine whether a patient has a chance to have a diagnosis of Parkinson's disease (class label 1) or not (class label 0) based on the symptoms and features present. "
   ]
  },
  {
   "cell_type": "markdown",
   "metadata": {},
   "source": [
    "•\t1. Data Analysis"
   ]
  },
  {
   "cell_type": "code",
   "execution_count": 63,
   "metadata": {},
   "outputs": [
    {
     "data": {
      "text/html": [
       "<div>\n",
       "<style scoped>\n",
       "    .dataframe tbody tr th:only-of-type {\n",
       "        vertical-align: middle;\n",
       "    }\n",
       "\n",
       "    .dataframe tbody tr th {\n",
       "        vertical-align: top;\n",
       "    }\n",
       "\n",
       "    .dataframe thead th {\n",
       "        text-align: right;\n",
       "    }\n",
       "</style>\n",
       "<table border=\"1\" class=\"dataframe\">\n",
       "  <thead>\n",
       "    <tr style=\"text-align: right;\">\n",
       "      <th></th>\n",
       "      <th>id</th>\n",
       "      <th>gender</th>\n",
       "      <th>PPE</th>\n",
       "      <th>DFA</th>\n",
       "      <th>RPDE</th>\n",
       "      <th>numPulses</th>\n",
       "      <th>numPeriodsPulses</th>\n",
       "      <th>meanPeriodPulses</th>\n",
       "      <th>stdDevPeriodPulses</th>\n",
       "      <th>locPctJitter</th>\n",
       "      <th>...</th>\n",
       "      <th>tqwt_kurtosisValue_dec_28</th>\n",
       "      <th>tqwt_kurtosisValue_dec_29</th>\n",
       "      <th>tqwt_kurtosisValue_dec_30</th>\n",
       "      <th>tqwt_kurtosisValue_dec_31</th>\n",
       "      <th>tqwt_kurtosisValue_dec_32</th>\n",
       "      <th>tqwt_kurtosisValue_dec_33</th>\n",
       "      <th>tqwt_kurtosisValue_dec_34</th>\n",
       "      <th>tqwt_kurtosisValue_dec_35</th>\n",
       "      <th>tqwt_kurtosisValue_dec_36</th>\n",
       "      <th>class</th>\n",
       "    </tr>\n",
       "  </thead>\n",
       "  <tbody>\n",
       "    <tr>\n",
       "      <th>221</th>\n",
       "      <td>73</td>\n",
       "      <td>1</td>\n",
       "      <td>0.81179</td>\n",
       "      <td>0.65352</td>\n",
       "      <td>0.49225</td>\n",
       "      <td>149</td>\n",
       "      <td>148</td>\n",
       "      <td>0.012966</td>\n",
       "      <td>0.000119</td>\n",
       "      <td>0.00212</td>\n",
       "      <td>...</td>\n",
       "      <td>52.7085</td>\n",
       "      <td>5.0406</td>\n",
       "      <td>2.7179</td>\n",
       "      <td>11.8876</td>\n",
       "      <td>17.4626</td>\n",
       "      <td>7.0548</td>\n",
       "      <td>4.8529</td>\n",
       "      <td>4.6052</td>\n",
       "      <td>3.9747</td>\n",
       "      <td>0</td>\n",
       "    </tr>\n",
       "    <tr>\n",
       "      <th>664</th>\n",
       "      <td>221</td>\n",
       "      <td>0</td>\n",
       "      <td>0.86378</td>\n",
       "      <td>0.62732</td>\n",
       "      <td>0.56231</td>\n",
       "      <td>493</td>\n",
       "      <td>492</td>\n",
       "      <td>0.003918</td>\n",
       "      <td>0.000087</td>\n",
       "      <td>0.00089</td>\n",
       "      <td>...</td>\n",
       "      <td>6.6572</td>\n",
       "      <td>3.7224</td>\n",
       "      <td>3.0976</td>\n",
       "      <td>2.5012</td>\n",
       "      <td>2.5699</td>\n",
       "      <td>3.8843</td>\n",
       "      <td>3.5563</td>\n",
       "      <td>2.8401</td>\n",
       "      <td>3.2706</td>\n",
       "      <td>0</td>\n",
       "    </tr>\n",
       "    <tr>\n",
       "      <th>674</th>\n",
       "      <td>224</td>\n",
       "      <td>0</td>\n",
       "      <td>0.84236</td>\n",
       "      <td>0.60718</td>\n",
       "      <td>0.37996</td>\n",
       "      <td>428</td>\n",
       "      <td>427</td>\n",
       "      <td>0.004509</td>\n",
       "      <td>0.000030</td>\n",
       "      <td>0.00068</td>\n",
       "      <td>...</td>\n",
       "      <td>34.2262</td>\n",
       "      <td>11.2557</td>\n",
       "      <td>4.7290</td>\n",
       "      <td>6.5325</td>\n",
       "      <td>16.2620</td>\n",
       "      <td>9.0620</td>\n",
       "      <td>5.3119</td>\n",
       "      <td>4.2702</td>\n",
       "      <td>6.1970</td>\n",
       "      <td>1</td>\n",
       "    </tr>\n",
       "    <tr>\n",
       "      <th>721</th>\n",
       "      <td>240</td>\n",
       "      <td>0</td>\n",
       "      <td>0.85474</td>\n",
       "      <td>0.74146</td>\n",
       "      <td>0.30378</td>\n",
       "      <td>376</td>\n",
       "      <td>375</td>\n",
       "      <td>0.005132</td>\n",
       "      <td>0.000046</td>\n",
       "      <td>0.00076</td>\n",
       "      <td>...</td>\n",
       "      <td>50.5058</td>\n",
       "      <td>37.7190</td>\n",
       "      <td>21.5737</td>\n",
       "      <td>24.5017</td>\n",
       "      <td>39.8388</td>\n",
       "      <td>44.0667</td>\n",
       "      <td>35.5768</td>\n",
       "      <td>24.1846</td>\n",
       "      <td>70.7515</td>\n",
       "      <td>1</td>\n",
       "    </tr>\n",
       "    <tr>\n",
       "      <th>648</th>\n",
       "      <td>216</td>\n",
       "      <td>0</td>\n",
       "      <td>0.78102</td>\n",
       "      <td>0.66945</td>\n",
       "      <td>0.40831</td>\n",
       "      <td>358</td>\n",
       "      <td>357</td>\n",
       "      <td>0.005388</td>\n",
       "      <td>0.000075</td>\n",
       "      <td>0.00112</td>\n",
       "      <td>...</td>\n",
       "      <td>107.3453</td>\n",
       "      <td>86.8414</td>\n",
       "      <td>89.2767</td>\n",
       "      <td>70.2395</td>\n",
       "      <td>44.3228</td>\n",
       "      <td>27.1005</td>\n",
       "      <td>18.2890</td>\n",
       "      <td>14.8293</td>\n",
       "      <td>5.2528</td>\n",
       "      <td>0</td>\n",
       "    </tr>\n",
       "  </tbody>\n",
       "</table>\n",
       "<p>5 rows × 755 columns</p>\n",
       "</div>"
      ],
      "text/plain": [
       "      id  gender      PPE      DFA     RPDE  numPulses  numPeriodsPulses   \n",
       "221   73       1  0.81179  0.65352  0.49225        149               148  \\\n",
       "664  221       0  0.86378  0.62732  0.56231        493               492   \n",
       "674  224       0  0.84236  0.60718  0.37996        428               427   \n",
       "721  240       0  0.85474  0.74146  0.30378        376               375   \n",
       "648  216       0  0.78102  0.66945  0.40831        358               357   \n",
       "\n",
       "     meanPeriodPulses  stdDevPeriodPulses  locPctJitter  ...   \n",
       "221          0.012966            0.000119       0.00212  ...  \\\n",
       "664          0.003918            0.000087       0.00089  ...   \n",
       "674          0.004509            0.000030       0.00068  ...   \n",
       "721          0.005132            0.000046       0.00076  ...   \n",
       "648          0.005388            0.000075       0.00112  ...   \n",
       "\n",
       "     tqwt_kurtosisValue_dec_28  tqwt_kurtosisValue_dec_29   \n",
       "221                    52.7085                     5.0406  \\\n",
       "664                     6.6572                     3.7224   \n",
       "674                    34.2262                    11.2557   \n",
       "721                    50.5058                    37.7190   \n",
       "648                   107.3453                    86.8414   \n",
       "\n",
       "     tqwt_kurtosisValue_dec_30  tqwt_kurtosisValue_dec_31   \n",
       "221                     2.7179                    11.8876  \\\n",
       "664                     3.0976                     2.5012   \n",
       "674                     4.7290                     6.5325   \n",
       "721                    21.5737                    24.5017   \n",
       "648                    89.2767                    70.2395   \n",
       "\n",
       "     tqwt_kurtosisValue_dec_32  tqwt_kurtosisValue_dec_33   \n",
       "221                    17.4626                     7.0548  \\\n",
       "664                     2.5699                     3.8843   \n",
       "674                    16.2620                     9.0620   \n",
       "721                    39.8388                    44.0667   \n",
       "648                    44.3228                    27.1005   \n",
       "\n",
       "     tqwt_kurtosisValue_dec_34  tqwt_kurtosisValue_dec_35   \n",
       "221                     4.8529                     4.6052  \\\n",
       "664                     3.5563                     2.8401   \n",
       "674                     5.3119                     4.2702   \n",
       "721                    35.5768                    24.1846   \n",
       "648                    18.2890                    14.8293   \n",
       "\n",
       "     tqwt_kurtosisValue_dec_36  class  \n",
       "221                     3.9747      0  \n",
       "664                     3.2706      0  \n",
       "674                     6.1970      1  \n",
       "721                    70.7515      1  \n",
       "648                     5.2528      0  \n",
       "\n",
       "[5 rows x 755 columns]"
      ]
     },
     "execution_count": 63,
     "metadata": {},
     "output_type": "execute_result"
    }
   ],
   "source": [
    "# Load the dataset\n",
    "pd_data = pd.read_csv('C:/Users/aswan/OneDrive/Desktop/AIML/pd_speech_features.csv', header=1)\n",
    "# Display 5 samples randomly\n",
    "pd_data.sample(5)"
   ]
  },
  {
   "cell_type": "code",
   "execution_count": 64,
   "metadata": {},
   "outputs": [
    {
     "data": {
      "text/plain": [
       "(756, 755)"
      ]
     },
     "execution_count": 64,
     "metadata": {},
     "output_type": "execute_result"
    }
   ],
   "source": [
    "# Display the dataset size\n",
    "pd_data.shape"
   ]
  },
  {
   "cell_type": "code",
   "execution_count": 65,
   "metadata": {},
   "outputs": [
    {
     "name": "stdout",
     "output_type": "stream",
     "text": [
      "<class 'pandas.core.frame.DataFrame'>\n",
      "RangeIndex: 756 entries, 0 to 755\n",
      "Columns: 755 entries, id to class\n",
      "dtypes: float64(749), int64(6)\n",
      "memory usage: 4.4 MB\n"
     ]
    }
   ],
   "source": [
    "# Get dataset details\n",
    "pd_data.info()"
   ]
  },
  {
   "cell_type": "code",
   "execution_count": 66,
   "metadata": {},
   "outputs": [
    {
     "name": "stdout",
     "output_type": "stream",
     "text": [
      "class\n",
      "1    564\n",
      "0    192\n",
      "Name: count, dtype: int64\n"
     ]
    }
   ],
   "source": [
    "# Find class feature distribution\n",
    "print(pd_data['class'].value_counts())"
   ]
  },
  {
   "cell_type": "markdown",
   "metadata": {},
   "source": [
    "* 2. Data Preprocessing"
   ]
  },
  {
   "cell_type": "code",
   "execution_count": 67,
   "metadata": {},
   "outputs": [
    {
     "data": {
      "text/plain": [
       "False"
      ]
     },
     "execution_count": 67,
     "metadata": {},
     "output_type": "execute_result"
    }
   ],
   "source": [
    "# Check null values\n",
    "pd_data.isnull().values.any()"
   ]
  },
  {
   "cell_type": "code",
   "execution_count": 68,
   "metadata": {},
   "outputs": [
    {
     "name": "stdout",
     "output_type": "stream",
     "text": [
      "Original data set dimension: (756, 755)\n",
      "Data set dimension after removing duplicates: (755, 755)\n"
     ]
    }
   ],
   "source": [
    "# Remove duplicate values\n",
    "print(f'Original data set dimension: {pd_data.shape}')\n",
    "pd_data.shape\n",
    "pd_data.drop_duplicates(inplace=True)\n",
    "pd_data.shape\n",
    "print(f'Data set dimension after removing duplicates: {pd_data.shape}')"
   ]
  },
  {
   "cell_type": "markdown",
   "metadata": {},
   "source": [
    "1 duplicate row removed"
   ]
  },
  {
   "cell_type": "code",
   "execution_count": 69,
   "metadata": {},
   "outputs": [
    {
     "data": {
      "text/plain": [
       "(755, 314)"
      ]
     },
     "execution_count": 69,
     "metadata": {},
     "output_type": "execute_result"
    }
   ],
   "source": [
    "# Delete highly correlated features \n",
    "columns = list(pd_data.columns)\n",
    "for col in columns:\n",
    "    if col == 'class':\n",
    "        continue\n",
    " \n",
    "    filtered_columns = [col]\n",
    "    for col1 in pd_data.columns:\n",
    "        if((col == col1) | (col == 'class')):\n",
    "            continue\n",
    " \n",
    "        val = pd_data[col].corr(pd_data[col1])\n",
    " \n",
    "        if val > 0.7:\n",
    "            # If the correlation is more than 0.7 remove\n",
    "            columns.remove(col1)\n",
    "            continue\n",
    "        else:\n",
    "            filtered_columns.append(col1)\n",
    " \n",
    "    pd_data = pd_data[filtered_columns]\n",
    "pd_data.shape"
   ]
  },
  {
   "cell_type": "code",
   "execution_count": 70,
   "metadata": {},
   "outputs": [
    {
     "data": {
      "text/plain": [
       "Index(['tqwt_kurtosisValue_dec_34', 'tqwt_kurtosisValue_dec_30',\n",
       "       'tqwt_kurtosisValue_dec_28', 'tqwt_kurtosisValue_dec_26',\n",
       "       'tqwt_kurtosisValue_dec_25', 'tqwt_kurtosisValue_dec_24',\n",
       "       'tqwt_kurtosisValue_dec_23', 'tqwt_kurtosisValue_dec_22',\n",
       "       'tqwt_kurtosisValue_dec_21', 'tqwt_kurtosisValue_dec_16',\n",
       "       ...\n",
       "       'locPctJitter', 'stdDevPeriodPulses', 'meanPeriodPulses', 'numPulses',\n",
       "       'RPDE', 'DFA', 'PPE', 'gender', 'id', 'class'],\n",
       "      dtype='object', length=314)"
      ]
     },
     "execution_count": 70,
     "metadata": {},
     "output_type": "execute_result"
    }
   ],
   "source": [
    "pd_data.columns"
   ]
  },
  {
   "cell_type": "markdown",
   "metadata": {},
   "source": [
    "Reduced feature size to 314 columns from 755 columns"
   ]
  },
  {
   "cell_type": "code",
   "execution_count": 71,
   "metadata": {},
   "outputs": [
    {
     "data": {
      "image/png": "[encoded data removed]",
      "text/plain": [
       "<Figure size 640x480 with 1 Axes>"
      ]
     },
     "metadata": {},
     "output_type": "display_data"
    }
   ],
   "source": [
    "# Check whether the dataset is balanced for both the classes or not.\n",
    "x = pd_data['class'].value_counts()\n",
    "plt.pie(x.values,\n",
    "        labels = x.index,\n",
    "        autopct='%1.1f%%')\n",
    "plt.show()"
   ]
  },
  {
   "cell_type": "markdown",
   "metadata": {},
   "source": [
    "Data imbalance exists"
   ]
  },
  {
   "cell_type": "markdown",
   "metadata": {},
   "source": [
    "* 3. Data Standardization"
   ]
  },
  {
   "cell_type": "code",
   "execution_count": 75,
   "metadata": {},
   "outputs": [
    {
     "data": {
      "text/plain": [
       "((604, 313), (151, 313))"
      ]
     },
     "execution_count": 75,
     "metadata": {},
     "output_type": "execute_result"
    }
   ],
   "source": [
    "X = pd_data.drop('class', axis=1)\n",
    "y = pd_data['class']\n",
    " \n",
    "X_train, X_test,y_train, y_test = train_test_split(X, y,\n",
    "                                      test_size=0.2,\n",
    "                                      random_state=10)\n",
    "X_train.shape, X_test.shape"
   ]
  },
  {
   "cell_type": "code",
   "execution_count": 89,
   "metadata": {},
   "outputs": [],
   "source": [
    "X = pd_data.drop(columns=['class'])\n",
    "y = pd_data['class']"
   ]
  },
  {
   "cell_type": "code",
   "execution_count": 88,
   "metadata": {},
   "outputs": [],
   "source": [
    "# Standardize numerical features\n",
    "scaler = StandardScaler()\n",
    "X = scaler.fit_transform(X)"
   ]
  },
  {
   "cell_type": "markdown",
   "metadata": {},
   "source": [
    "I am going to choose Logistic Regression to build the model since they are recognized for their simplicity and efficacy for binary classification problems given the dataset size is reasonably modest (755 samples) and the number of characteristics is not very large. When trying to anticipate a binary result, logistic regression is frequently applied."
   ]
  },
  {
   "cell_type": "markdown",
   "metadata": {},
   "source": [
    "* 4. Model Training\n",
    "  \t\n",
    "\n",
    "\n",
    "   "
   ]
  },
  {
   "cell_type": "code",
   "execution_count": 90,
   "metadata": {},
   "outputs": [
    {
     "name": "stderr",
     "output_type": "stream",
     "text": [
      "c:\\Users\\aswan\\AI\\FML\\CSCN8010\\venv\\CSCN8010_classic_ml\\Lib\\site-packages\\sklearn\\linear_model\\_logistic.py:458: ConvergenceWarning: lbfgs failed to converge (status=1):\n",
      "STOP: TOTAL NO. of ITERATIONS REACHED LIMIT.\n",
      "\n",
      "Increase the number of iterations (max_iter) or scale the data as shown in:\n",
      "    https://scikit-learn.org/stable/modules/preprocessing.html\n",
      "Please also refer to the documentation for alternative solver options:\n",
      "    https://scikit-learn.org/stable/modules/linear_model.html#logistic-regression\n",
      "  n_iter_i = _check_optimize_result(\n"
     ]
    },
    {
     "data": {
      "text/html": [
       "<style>#sk-container-id-4 {color: black;background-color: white;}#sk-container-id-4 pre{padding: 0;}#sk-container-id-4 div.sk-toggleable {background-color: white;}#sk-container-id-4 label.sk-toggleable__label {cursor: pointer;display: block;width: 100%;margin-bottom: 0;padding: 0.3em;box-sizing: border-box;text-align: center;}#sk-container-id-4 label.sk-toggleable__label-arrow:before {content: \"▸\";float: left;margin-right: 0.25em;color: #696969;}#sk-container-id-4 label.sk-toggleable__label-arrow:hover:before {color: black;}#sk-container-id-4 div.sk-estimator:hover label.sk-toggleable__label-arrow:before {color: black;}#sk-container-id-4 div.sk-toggleable__content {max-height: 0;max-width: 0;overflow: hidden;text-align: left;background-color: #f0f8ff;}#sk-container-id-4 div.sk-toggleable__content pre {margin: 0.2em;color: black;border-radius: 0.25em;background-color: #f0f8ff;}#sk-container-id-4 input.sk-toggleable__control:checked~div.sk-toggleable__content {max-height: 200px;max-width: 100%;overflow: auto;}#sk-container-id-4 input.sk-toggleable__control:checked~label.sk-toggleable__label-arrow:before {content: \"▾\";}#sk-container-id-4 div.sk-estimator input.sk-toggleable__control:checked~label.sk-toggleable__label {background-color: #d4ebff;}#sk-container-id-4 div.sk-label input.sk-toggleable__control:checked~label.sk-toggleable__label {background-color: #d4ebff;}#sk-container-id-4 input.sk-hidden--visually {border: 0;clip: rect(1px 1px 1px 1px);clip: rect(1px, 1px, 1px, 1px);height: 1px;margin: -1px;overflow: hidden;padding: 0;position: absolute;width: 1px;}#sk-container-id-4 div.sk-estimator {font-family: monospace;background-color: #f0f8ff;border: 1px dotted black;border-radius: 0.25em;box-sizing: border-box;margin-bottom: 0.5em;}#sk-container-id-4 div.sk-estimator:hover {background-color: #d4ebff;}#sk-container-id-4 div.sk-parallel-item::after {content: \"\";width: 100%;border-bottom: 1px solid gray;flex-grow: 1;}#sk-container-id-4 div.sk-label:hover label.sk-toggleable__label {background-color: #d4ebff;}#sk-container-id-4 div.sk-serial::before {content: \"\";position: absolute;border-left: 1px solid gray;box-sizing: border-box;top: 0;bottom: 0;left: 50%;z-index: 0;}#sk-container-id-4 div.sk-serial {display: flex;flex-direction: column;align-items: center;background-color: white;padding-right: 0.2em;padding-left: 0.2em;position: relative;}#sk-container-id-4 div.sk-item {position: relative;z-index: 1;}#sk-container-id-4 div.sk-parallel {display: flex;align-items: stretch;justify-content: center;background-color: white;position: relative;}#sk-container-id-4 div.sk-item::before, #sk-container-id-4 div.sk-parallel-item::before {content: \"\";position: absolute;border-left: 1px solid gray;box-sizing: border-box;top: 0;bottom: 0;left: 50%;z-index: -1;}#sk-container-id-4 div.sk-parallel-item {display: flex;flex-direction: column;z-index: 1;position: relative;background-color: white;}#sk-container-id-4 div.sk-parallel-item:first-child::after {align-self: flex-end;width: 50%;}#sk-container-id-4 div.sk-parallel-item:last-child::after {align-self: flex-start;width: 50%;}#sk-container-id-4 div.sk-parallel-item:only-child::after {width: 0;}#sk-container-id-4 div.sk-dashed-wrapped {border: 1px dashed gray;margin: 0 0.4em 0.5em 0.4em;box-sizing: border-box;padding-bottom: 0.4em;background-color: white;}#sk-container-id-4 div.sk-label label {font-family: monospace;font-weight: bold;display: inline-block;line-height: 1.2em;}#sk-container-id-4 div.sk-label-container {text-align: center;}#sk-container-id-4 div.sk-container {/* jupyter's `normalize.less` sets `[hidden] { display: none; }` but bootstrap.min.css set `[hidden] { display: none !important; }` so we also need the `!important` here to be able to override the default hidden behavior on the sphinx rendered scikit-learn.org. See: https://github.com/scikit-learn/scikit-learn/issues/21755 */display: inline-block !important;position: relative;}#sk-container-id-4 div.sk-text-repr-fallback {display: none;}</style><div id=\"sk-container-id-4\" class=\"sk-top-container\"><div class=\"sk-text-repr-fallback\"><pre>LogisticRegression(max_iter=1000)</pre><b>In a Jupyter environment, please rerun this cell to show the HTML representation or trust the notebook. <br />On GitHub, the HTML representation is unable to render, please try loading this page with nbviewer.org.</b></div><div class=\"sk-container\" hidden><div class=\"sk-item\"><div class=\"sk-estimator sk-toggleable\"><input class=\"sk-toggleable__control sk-hidden--visually\" id=\"sk-estimator-id-4\" type=\"checkbox\" checked><label for=\"sk-estimator-id-4\" class=\"sk-toggleable__label sk-toggleable__label-arrow\">LogisticRegression</label><div class=\"sk-toggleable__content\"><pre>LogisticRegression(max_iter=1000)</pre></div></div></div></div></div>"
      ],
      "text/plain": [
       "LogisticRegression(max_iter=1000)"
      ]
     },
     "execution_count": 90,
     "metadata": {},
     "output_type": "execute_result"
    }
   ],
   "source": [
    "X_train, X_test, y_train, y_test = train_test_split(X, y, test_size=0.2, random_state=42)\n",
    "model = LogisticRegression(max_iter=1000)\n",
    "model.fit(X_train, y_train)"
   ]
  },
  {
   "cell_type": "code",
   "execution_count": 91,
   "metadata": {},
   "outputs": [],
   "source": [
    "y_pred = model.predict(X_test)"
   ]
  },
  {
   "cell_type": "markdown",
   "metadata": {},
   "source": [
    "* 5. Measure your model’s accuracy.\n",
    "  \t\n",
    "      a.\tUse 80% of samples as training data size."
   ]
  },
  {
   "cell_type": "code",
   "execution_count": 93,
   "metadata": {},
   "outputs": [
    {
     "name": "stdout",
     "output_type": "stream",
     "text": [
      "Accuracy: 0.8145695364238411\n"
     ]
    }
   ],
   "source": [
    "accuracy = accuracy_score(y_test, y_pred)\n",
    "print(f'Accuracy: {accuracy}')"
   ]
  },
  {
   "cell_type": "code",
   "execution_count": 108,
   "metadata": {},
   "outputs": [
    {
     "name": "stdout",
     "output_type": "stream",
     "text": [
      "              precision    recall  f1-score   support\n",
      "\n",
      "           0       0.84      0.47      0.60        45\n",
      "           1       0.81      0.96      0.88       106\n",
      "\n",
      "    accuracy                           0.81       151\n",
      "   macro avg       0.82      0.71      0.74       151\n",
      "weighted avg       0.82      0.81      0.80       151\n",
      "\n"
     ]
    }
   ],
   "source": [
    "from sklearn import metrics\n",
    "print(metrics.classification_report\n",
    "      (y_test, model.predict(X_test)))"
   ]
  },
  {
   "cell_type": "markdown",
   "metadata": {},
   "source": [
    "* 6. Build a predictive system to verify that the model built is able to predict the patient’s Parkinson’s disease with one instance of the dataset."
   ]
  },
  {
   "cell_type": "markdown",
   "metadata": {},
   "source": []
  },
  {
   "cell_type": "code",
   "execution_count": 94,
   "metadata": {},
   "outputs": [
    {
     "name": "stdout",
     "output_type": "stream",
     "text": [
      "Predicted Class : 1\n"
     ]
    },
    {
     "name": "stderr",
     "output_type": "stream",
     "text": [
      "c:\\Users\\aswan\\AI\\FML\\CSCN8010\\venv\\CSCN8010_classic_ml\\Lib\\site-packages\\sklearn\\base.py:439: UserWarning: X does not have valid feature names, but StandardScaler was fitted with feature names\n",
      "  warnings.warn(\n",
      "c:\\Users\\aswan\\AI\\FML\\CSCN8010\\venv\\CSCN8010_classic_ml\\Lib\\site-packages\\sklearn\\base.py:439: UserWarning: X does not have valid feature names, but LogisticRegression was fitted with feature names\n",
      "  warnings.warn(\n"
     ]
    }
   ],
   "source": [
    "instance = X.iloc[0]\n",
    "instance = instance.values.reshape(1, -1)\n",
    "instance_scaled = scaler.transform(instance)\n",
    "prediction = model.predict(instance_scaled)\n",
    "print(f\"Predicted Class : {prediction[0]}\")"
   ]
  },
  {
   "cell_type": "markdown",
   "metadata": {},
   "source": [
    "Overall the model appears to do rather well, with high accuracy and recall for class 1, showing that it is more adept at accurately predicting instances of class 1 than other classes. The performance for class 0 is, however, noticeably lower, with lower recall, showing that it has trouble reliably identifying class 0 occurrences. It may be due to the data imbalance.\n",
    "Given the class distribution in the test set, the weighted-average F1-score of 0.80 shows that the model's overall performance is respectably strong. \n"
   ]
  }
 ],
 "metadata": {
  "kernelspec": {
   "display_name": "CSCN8010_classic_ml",
   "language": "python",
   "name": "cscn8010_classic_ml"
  },
  "language_info": {
   "codemirror_mode": {
    "name": "ipython",
    "version": 3
   },
   "file_extension": ".py",
   "mimetype": "text/x-python",
   "name": "python",
   "nbconvert_exporter": "python",
   "pygments_lexer": "ipython3",
   "version": "3.11.3"
  },
  "orig_nbformat": 4
 },
 "nbformat": 4,
 "nbformat_minor": 2
}
