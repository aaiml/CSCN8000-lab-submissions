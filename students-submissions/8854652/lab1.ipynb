{
 "cells": [
  {
   "cell_type": "code",
   "execution_count": 1,
   "metadata": {},
   "outputs": [],
   "source": [
    "import numpy as np"
   ]
  },
  {
   "cell_type": "code",
   "execution_count": 2,
   "metadata": {},
   "outputs": [
    {
     "data": {
      "text/plain": [
       "array([ 1,  4,  7, 10, 13, 16, 19])"
      ]
     },
     "execution_count": 2,
     "metadata": {},
     "output_type": "execute_result"
    }
   ],
   "source": [
    "# array that starts from the integer 1, ends at 20, incremented by 3\n",
    "arr1 = np.arange(1,20,3)\n",
    "arr1"
   ]
  },
  {
   "cell_type": "code",
   "execution_count": 9,
   "metadata": {},
   "outputs": [
    {
     "data": {
      "text/plain": [
       "array([0.10636762, 0.32028409, 0.70943187])"
      ]
     },
     "execution_count": 9,
     "metadata": {},
     "output_type": "execute_result"
    }
   ],
   "source": [
    "# Create a new array of shape 3 with random numbers between 0 and 1\n",
    "arr2 = np.random.rand(3)\n",
    "arr2"
   ]
  },
  {
   "cell_type": "code",
   "execution_count": 16,
   "metadata": {},
   "outputs": [
    {
     "data": {
      "text/plain": [
       "array([[10, 20, 45],\n",
       "       [30, 12, 16],\n",
       "       [42, 17, 56]])"
      ]
     },
     "execution_count": 16,
     "metadata": {},
     "output_type": "execute_result"
    }
   ],
   "source": [
    "# Create a 2 D array [[10,20,45], [30,12,16], [42,17,56]]\n",
    "arr2D = np.array([[10,20,45], [30,12,16], [42,17,56]])\n",
    "arr2D"
   ]
  },
  {
   "cell_type": "code",
   "execution_count": 17,
   "metadata": {},
   "outputs": [
    {
     "data": {
      "text/plain": [
       "array([[10, 20, 45],\n",
       "       [30, 12, 16]])"
      ]
     },
     "execution_count": 17,
     "metadata": {},
     "output_type": "execute_result"
    }
   ],
   "source": [
    "# Slice the 2D array to get the first two rows\n",
    "arr2Drowfirst = arr2D[:2,:]\n",
    "arr2Drowfirst"
   ]
  },
  {
   "cell_type": "code",
   "execution_count": 18,
   "metadata": {},
   "outputs": [
    {
     "data": {
      "text/plain": [
       "array([[30, 12, 16],\n",
       "       [42, 17, 56]])"
      ]
     },
     "execution_count": 18,
     "metadata": {},
     "output_type": "execute_result"
    }
   ],
   "source": [
    "# slice the 2D array to get the last two rows\n",
    "arr2Drowlast = arr2D[1:,:]\n",
    "arr2Drowlast"
   ]
  },
  {
   "attachments": {},
   "cell_type": "markdown",
   "metadata": {},
   "source": [
    "### Create two 2x2 arrays and demonstrate how you can stack the elements vertically, horizontally, and split the arrays into smaller arrays."
   ]
  },
  {
   "cell_type": "code",
   "execution_count": 20,
   "metadata": {},
   "outputs": [],
   "source": [
    "# create 2x2 arrays\n",
    "array1 = np.array([[101,102],[103,104]])\n",
    "array2 = np.array([[105,106],[107,108]])"
   ]
  },
  {
   "cell_type": "code",
   "execution_count": 23,
   "metadata": {},
   "outputs": [
    {
     "name": "stdout",
     "output_type": "stream",
     "text": [
      "Vertical stack of array is \n",
      " [[101 102]\n",
      " [103 104]\n",
      " [105 106]\n",
      " [107 108]]\n"
     ]
    }
   ],
   "source": [
    "# stack the elements vertically\n",
    "vertical_stack = np.vstack([array1,array2])\n",
    "print('Vertical stack of array is \\n', vertical_stack)\n"
   ]
  },
  {
   "cell_type": "code",
   "execution_count": 24,
   "metadata": {},
   "outputs": [
    {
     "name": "stdout",
     "output_type": "stream",
     "text": [
      "Horizontal stack of array is \n",
      " [[101 102 105 106]\n",
      " [103 104 107 108]]\n"
     ]
    }
   ],
   "source": [
    "# stack the elements horizontally\n",
    "horizontal_stack = np.hstack([array1,array2])\n",
    "print('Horizontal stack of array is \\n', horizontal_stack)"
   ]
  },
  {
   "cell_type": "code",
   "execution_count": 40,
   "metadata": {},
   "outputs": [
    {
     "name": "stdout",
     "output_type": "stream",
     "text": [
      "Vertical array split vertically: \n",
      " [array([[101, 102],\n",
      "       [103, 104]]), array([[105, 106],\n",
      "       [107, 108]])]\n",
      "\n",
      " Vertical array split horizontally: \n",
      " [array([[101],\n",
      "       [103],\n",
      "       [105],\n",
      "       [107]]), array([[102],\n",
      "       [104],\n",
      "       [106],\n",
      "       [108]])]\n",
      "\n",
      " Horizontal array split vertically: \n",
      " [array([[101, 102, 105, 106]]), array([[103, 104, 107, 108]])]\n",
      "\n",
      " Horizontal array split horizontally: \n",
      " [array([[101, 102],\n",
      "       [103, 104]]), array([[105, 106],\n",
      "       [107, 108]])]\n"
     ]
    }
   ],
   "source": [
    "# split arrays into smaller arrays\n",
    "split_vertical1 = np.vsplit(vertical_stack,2) #split vertically\n",
    "print('Vertical array split vertically: \\n', split_vertical1)\n",
    "\n",
    "split_vertical2 = np.hsplit(vertical_stack,2) #split horizontally\n",
    "print('\\n Vertical array split horizontally: \\n', split_vertical2)\n",
    "\n",
    "split_horizontal1 = np.vsplit(horizontal_stack,2) # split vertically\n",
    "print('\\n Horizontal array split vertically: \\n', split_horizontal1)\n",
    "\n",
    "split_horizontal2 = np.hsplit(horizontal_stack,2) # split horizontally\n",
    "print('\\n Horizontal array split horizontally: \\n', split_horizontal2)"
   ]
  },
  {
   "attachments": {},
   "cell_type": "markdown",
   "metadata": {},
   "source": [
    "### Create two matrices X= ([[5, 7, 2], [4, 5, 6], [7, 4 ,2]]) Y= ([[4, 2], [6, 2], [4, 2]]), Is it possible to multiply these matrices?  Demonstrate the case when it is not possible to"
   ]
  },
  {
   "cell_type": "code",
   "execution_count": 43,
   "metadata": {},
   "outputs": [
    {
     "name": "stdout",
     "output_type": "stream",
     "text": [
      "With matrix multiplication it is important that the number of the columns in the first matrix should match the number of the rows in the second matrix. Hence X*Y is possible where as Y*X is not possible \n",
      "\n",
      "Multiplication is \n",
      " [[70 28]\n",
      " [70 30]\n",
      " [60 26]]\n"
     ]
    }
   ],
   "source": [
    "#create metrix\n",
    "X = ([[5,7,2], [4,5,6], [7,4,2]])\n",
    "Y = ([[4,2], [6,2], [4,2]])\n",
    "\n",
    "print ('With matrix multiplication it is important that the number of the columns in the first matrix should match the number of the rows in the second matrix. Hence X*Y is possible where as Y*X is not possible \\n')\n",
    "\n",
    "# Multiplication of metrix\n",
    "Z = np.dot(X,Y)\n",
    "print ('Multiplication is \\n', Z)"
   ]
  },
  {
   "attachments": {},
   "cell_type": "markdown",
   "metadata": {},
   "source": [
    "### Create two arrays, x = ([2, -1, -8]) y = ([3, 1, -2]), Find the Shape, Number of dimensions of vector x. Reshape the vector x to a matrix of size (3,1) and determine the number of dimensions after reshaping y to a matrix of (3,1)."
   ]
  },
  {
   "cell_type": "code",
   "execution_count": 50,
   "metadata": {},
   "outputs": [
    {
     "name": "stdout",
     "output_type": "stream",
     "text": [
      "Shape of vector x is :  (3,)\n",
      "Dimention of vector x is : 1\n"
     ]
    }
   ],
   "source": [
    "# Create array\n",
    "x = np.array([2,-1,-8])\n",
    "y = np.array([3,1,-2])"
   ]
  },
  {
   "cell_type": "code",
   "execution_count": 51,
   "metadata": {},
   "outputs": [
    {
     "name": "stdout",
     "output_type": "stream",
     "text": [
      "Shape of vector x is :  (3,)\n"
     ]
    }
   ],
   "source": [
    "# find shape of vector x\n",
    "print ('Shape of vector x is : ', x.shape)"
   ]
  },
  {
   "cell_type": "code",
   "execution_count": 52,
   "metadata": {},
   "outputs": [
    {
     "name": "stdout",
     "output_type": "stream",
     "text": [
      "Dimention of vector x is : 1\n"
     ]
    }
   ],
   "source": [
    "# find dimention of vector x\n",
    "print ('Dimention of vector x is :', x.ndim)"
   ]
  },
  {
   "cell_type": "code",
   "execution_count": 56,
   "metadata": {},
   "outputs": [
    {
     "name": "stdout",
     "output_type": "stream",
     "text": [
      "The reshaped vector x is: \n",
      " [[ 2]\n",
      " [-1]\n",
      " [-8]]\n",
      "\n",
      " Dimention of vector y after reshape is : 2\n"
     ]
    }
   ],
   "source": [
    "# Reshape the vector x to a matrix of size (3,1) and determine the number of dimensions after reshaping y to a matrix of (3,1)\n",
    "\n",
    "# reshape the vector x\n",
    "x_reshape = x.reshape((3,1))\n",
    "print('The reshaped vector x is: \\n', x_reshape)\n",
    "\n",
    "# reshape the vector y\n",
    "y_reshape = y.reshape((3,1))\n",
    "\n",
    "# dimention of y after reshape\n",
    "y_dim = y_reshape.ndim\n",
    "print('\\n Dimention of vector y after reshape is :', y_dim)"
   ]
  },
  {
   "attachments": {},
   "cell_type": "markdown",
   "metadata": {},
   "source": [
    "### How does broadcasting work? Demonstrate the subtraction, multiplication by considering a 3 x 3 matrix."
   ]
  },
  {
   "attachments": {},
   "cell_type": "markdown",
   "metadata": {},
   "source": [
    "The way NumPy handles arrays with various shapes while performing arithmetic operations is known as broadcasting. The smaller array is \"broadcast\" across the larger array, subject to specific limitations, ensuring that their forms match.  \n",
    "\n",
    "When operating on two arrays, NumPy compares their shapes element-wise. It starts with the trailing (i.e. rightmost) dimension and works its way left. Two dimensions are compatible when they are equal, or one of them is 1. If these conditions are not met, a ValueError: operands could not be broadcast together exception is thrown, indicating that the arrays have incompatible shapes."
   ]
  },
  {
   "cell_type": "code",
   "execution_count": 67,
   "metadata": {},
   "outputs": [],
   "source": [
    "matrix = np.array([[1,2,3],\n",
    "                   [4,5,6],\n",
    "                   [7,8,9]])\n",
    "number = 6\n",
    "ar = np.array([4,1,3])"
   ]
  },
  {
   "cell_type": "code",
   "execution_count": 69,
   "metadata": {},
   "outputs": [
    {
     "name": "stdout",
     "output_type": "stream",
     "text": [
      "Subtraction of matrix with scalar is : \n",
      " [[-5 -4 -3]\n",
      " [-2 -1  0]\n",
      " [ 1  2  3]]\n",
      "\n",
      " Subtraction of matrix with 1D array is : \n",
      " [[-3  1  0]\n",
      " [ 0  4  3]\n",
      " [ 3  7  6]]\n"
     ]
    }
   ],
   "source": [
    "#subtraction of matrix\n",
    "subtraction1 = matrix - number \n",
    "print('Subtraction of matrix with scalar is : \\n', subtraction1)\n",
    "\n",
    "subtraction2 = matrix - ar\n",
    "print('\\n Subtraction of matrix with 1D array is : \\n', subtraction2)"
   ]
  },
  {
   "cell_type": "code",
   "execution_count": 72,
   "metadata": {},
   "outputs": [
    {
     "name": "stdout",
     "output_type": "stream",
     "text": [
      "Multiplication of matrix with scalar is : \n",
      " [[ 6 12 18]\n",
      " [24 30 36]\n",
      " [42 48 54]]\n",
      "\n",
      " Multiplication of matrix with 1D array is : \n",
      " [[ 4  2  9]\n",
      " [16  5 18]\n",
      " [28  8 27]]\n"
     ]
    }
   ],
   "source": [
    "#multiplication of matrix\n",
    "multiplication1 = matrix * number\n",
    "print('Multiplication of matrix with scalar is : \\n', multiplication1)\n",
    "\n",
    "multiplication2 = matrix * ar\n",
    "print('\\n Multiplication of matrix with 1D array is : \\n', multiplication2)"
   ]
  },
  {
   "attachments": {},
   "cell_type": "markdown",
   "metadata": {},
   "source": [
    "### Solve the following two system of linear equations using matrices (find the values of x1 and x2) and determine the number of solutions using the functions. \n",
    "### 2x1+3x2-4x3=6, x1-4x2=8\n",
    "### 3y1-4y2+5y3=10,-y1+2y2-4y3=8"
   ]
  },
  {
   "attachments": {},
   "cell_type": "markdown",
   "metadata": {},
   "source": [
    "To solve the given system of linear equations using matrices, we can represent the system in matrix form:\n",
    "for first equation:\n",
    "|2 3 -4| = 6\n",
    "|1 -4| = 8\n",
    "If we analyze first equation as a matrix form, both formulas are not in same dimentions. Therefore solution is not possible in first equation.\n",
    "If we consider 0 with multiplication of x3 ( 0x3 = 0) in second equation then matrix would become same in dimention and we may find the value of the x1 and x2.\n",
    "|2 3 -4| = 6\n",
    "|1 -4 0| = 8\n",
    "\n",
    "for second equation:\n",
    "|3 -4 5| = 10\n",
    "|-1 2 -4| = 8"
   ]
  },
  {
   "cell_type": "code",
   "execution_count": 92,
   "metadata": {},
   "outputs": [
    {
     "name": "stdout",
     "output_type": "stream",
     "text": [
      "Both matrices are not square so solution is not possible for given first equation. \n",
      "Shape of coefficient matrice is  (2, 3) and shape of constant matrice is  (2,)\n"
     ]
    }
   ],
   "source": [
    "# for first equation\n",
    "X = np.array([[2,3,-4], [1,-4,0]]) # coefficient matrices\n",
    "c1 = np.array([6,8]) # constant matrices\n",
    "\n",
    "if X.shape == c1.shape:\n",
    "    solution = np.linalg.solve(X,c1)\n",
    "    solution\n",
    "else:\n",
    "    print('Both matrices are not square so solution is not possible for given first equation. \\nShape of coefficient matrice is ', X.shape, 'and shape of constant matrice is ', c1.shape)\n"
   ]
  },
  {
   "cell_type": "code",
   "execution_count": 93,
   "metadata": {},
   "outputs": [
    {
     "name": "stdout",
     "output_type": "stream",
     "text": [
      "Both matrices are not square so solution is not possible for given second equation. \n",
      "Shape of coefficient matrice is  (2, 3) and shape of constant matrice is  (2,)\n"
     ]
    }
   ],
   "source": [
    "# for second equation\n",
    "y = np.array([[3,-4,5],[-1,2,-4]]) # coefficient matrices\n",
    "c2 = np.array([10,8]) # constant matrices\n",
    "\n",
    "if y.shape == c2.shape:\n",
    "    solution = np.linalg.solve(y,c2)\n",
    "    solution\n",
    "else:\n",
    "    print('Both matrices are not square so solution is not possible for given second equation. \\nShape of coefficient matrice is ', y.shape, 'and shape of constant matrice is ', c2.shape)"
   ]
  }
 ],
 "metadata": {
  "kernelspec": {
   "display_name": "CSCN8010_classic_ml",
   "language": "python",
   "name": "cscn8010_classic_ml"
  },
  "language_info": {
   "codemirror_mode": {
    "name": "ipython",
    "version": 3
   },
   "file_extension": ".py",
   "mimetype": "text/x-python",
   "name": "python",
   "nbconvert_exporter": "python",
   "pygments_lexer": "ipython3",
   "version": "3.11.3"
  },
  "orig_nbformat": 4
 },
 "nbformat": 4,
 "nbformat_minor": 2
}
