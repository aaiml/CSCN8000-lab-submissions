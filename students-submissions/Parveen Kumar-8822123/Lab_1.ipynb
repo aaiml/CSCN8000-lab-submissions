{
 "cells": [
  {
   "cell_type": "markdown",
   "id": "c8f0eb9e",
   "metadata": {},
   "source": [
    "# Part-A"
   ]
  },
  {
   "cell_type": "markdown",
   "id": "58670a3d",
   "metadata": {},
   "source": [
    "## 1. Creating an Array\n",
    "\n"
   ]
  },
  {
   "cell_type": "code",
   "execution_count": 4,
   "id": "910bf068",
   "metadata": {},
   "outputs": [],
   "source": [
    "### Create an array that starts from 1, ends at 20, incremented by 3.\n",
    "\n",
    "\n",
    "import numpy as np\n",
    "\n",
    "arr = np.arange(1, 21, 3)\n"
   ]
  },
  {
   "cell_type": "code",
   "execution_count": 5,
   "id": "eac18c71",
   "metadata": {},
   "outputs": [
    {
     "name": "stdout",
     "output_type": "stream",
     "text": [
      "[ 1  4  7 10 13 16 19]\n"
     ]
    }
   ],
   "source": [
    "print(arr)"
   ]
  },
  {
   "cell_type": "markdown",
   "id": "41797dea",
   "metadata": {},
   "source": [
    "# 2. Generating Random Numbers\n",
    "Create a new array of shape 3 with random numbers between 0 and 1."
   ]
  },
  {
   "cell_type": "code",
   "execution_count": 33,
   "id": "845227d5",
   "metadata": {},
   "outputs": [
    {
     "name": "stdout",
     "output_type": "stream",
     "text": [
      "[0.14205799987894907, 0.5619076475756867, 0.003334765091173475]\n"
     ]
    }
   ],
   "source": [
    "import random\n",
    "\n",
    "random_array = []\n",
    "for _ in range(3):\n",
    "    random_number = random.random()\n",
    "    random_array.append(random_number)\n",
    "print (random_array)"
   ]
  },
  {
   "cell_type": "markdown",
   "id": "8a0b61f9",
   "metadata": {},
   "source": [
    "# 3. Slicing a 2D Array\n",
    "Create a 2D array and perform slicing operations."
   ]
  },
  {
   "cell_type": "code",
   "execution_count": 7,
   "id": "d0fb700d",
   "metadata": {},
   "outputs": [
    {
     "name": "stdout",
     "output_type": "stream",
     "text": [
      "Original Array:\n",
      "[[10 20 45]\n",
      " [30 12 16]\n",
      " [42 17 56]]\n"
     ]
    }
   ],
   "source": [
    "arr_2d = np.array([[10, 20, 45], [30, 12, 16], [42, 17, 56]])\n",
    "print(\"Original Array:\")\n",
    "print(arr_2d)\n",
    "\n"
   ]
  },
  {
   "cell_type": "code",
   "execution_count": 8,
   "id": "132af77c",
   "metadata": {},
   "outputs": [
    {
     "name": "stdout",
     "output_type": "stream",
     "text": [
      "First Two Rows:\n",
      "[[10 20 45]\n",
      " [30 12 16]]\n"
     ]
    }
   ],
   "source": [
    "# Slice the 2D array to get the first two rows\n",
    "first_two_rows = arr_2d[:2]\n",
    "print(\"First Two Rows:\")\n",
    "print(first_two_rows)\n",
    "\n"
   ]
  },
  {
   "cell_type": "code",
   "execution_count": 35,
   "id": "c0358d47",
   "metadata": {},
   "outputs": [
    {
     "name": "stdout",
     "output_type": "stream",
     "text": [
      "Last Two Rows:\n",
      "[[30 12 16]\n",
      " [42 17 56]]\n"
     ]
    }
   ],
   "source": [
    "# Slice the 2D array to get the last two rows\n",
    "last_two_rows = arr_2d[-2:]\n",
    "print(\"Last Two Rows:\")\n",
    "print(last_two_rows)"
   ]
  },
  {
   "cell_type": "markdown",
   "id": "810f6d7c",
   "metadata": {},
   "source": [
    "# 4. Stacking and Splitting Arrays\n",
    "Create two 2x2 arrays and demonstrate stacking and splitting operations."
   ]
  },
  {
   "cell_type": "code",
   "execution_count": 20,
   "id": "608ee689",
   "metadata": {},
   "outputs": [],
   "source": [
    "arr1 = np.array([[1, 2], [3, 4]])\n",
    "arr2 = np.array([[5, 6], [7, 8]])\n",
    "\n",
    "\n",
    "\n"
   ]
  },
  {
   "cell_type": "code",
   "execution_count": 21,
   "id": "7a271566",
   "metadata": {},
   "outputs": [
    {
     "name": "stdout",
     "output_type": "stream",
     "text": [
      "[[1 2]\n",
      " [3 4]]\n",
      "     \n",
      "[[5 6]\n",
      " [7 8]]\n"
     ]
    }
   ],
   "source": [
    "print(arr1)\n",
    "print(\"     \")\n",
    "print(arr2)"
   ]
  },
  {
   "cell_type": "code",
   "execution_count": 22,
   "id": "c599593f",
   "metadata": {},
   "outputs": [
    {
     "name": "stdout",
     "output_type": "stream",
     "text": [
      "Vertical Stack:\n",
      "[[1 2]\n",
      " [3 4]\n",
      " [5 6]\n",
      " [7 8]]\n"
     ]
    }
   ],
   "source": [
    "# Stack the arrays vertically\n",
    "vertical_stack = np.vstack((arr1, arr2))\n",
    "print(\"Vertical Stack:\")\n",
    "print(vertical_stack)"
   ]
  },
  {
   "cell_type": "code",
   "execution_count": 12,
   "id": "d7b37675",
   "metadata": {},
   "outputs": [
    {
     "name": "stdout",
     "output_type": "stream",
     "text": [
      "Horizontal Stack:\n",
      "[[1 2 5 6]\n",
      " [3 4 7 8]]\n"
     ]
    }
   ],
   "source": [
    "# Stack the arrays horizontally\n",
    "horizontal_stack = np.hstack((arr1, arr2))\n",
    "print(\"Horizontal Stack:\")\n",
    "print(horizontal_stack)\n"
   ]
  },
  {
   "cell_type": "code",
   "execution_count": 23,
   "id": "1bffc1ef",
   "metadata": {},
   "outputs": [
    {
     "name": "stdout",
     "output_type": "stream",
     "text": [
      "Split Arrays:\n",
      "[array([[1, 2],\n",
      "       [3, 4]]), array([[5, 6],\n",
      "       [7, 8]])]\n"
     ]
    }
   ],
   "source": [
    "\n",
    "# Split the arrays into smaller arrays\n",
    "split_arr = np.hsplit(horizontal_stack, 2)\n",
    "print(\"Split Arrays:\")\n",
    "print(split_arr)"
   ]
  },
  {
   "cell_type": "markdown",
   "id": "1bd2cad2",
   "metadata": {},
   "source": [
    "# 5. Matrix Multiplication\n",
    "Perform matrix multiplication between two matrices."
   ]
  },
  {
   "cell_type": "code",
   "execution_count": 15,
   "id": "0787365e",
   "metadata": {},
   "outputs": [],
   "source": [
    "X = np.array([[5, 7, 2], [4, 5, 6], [7, 4, 2]])\n",
    "Y = np.array([[4, 2], [6, 2], [4, 2]])\n",
    "\n"
   ]
  },
  {
   "cell_type": "code",
   "execution_count": 18,
   "id": "dac6cce5",
   "metadata": {},
   "outputs": [
    {
     "name": "stdout",
     "output_type": "stream",
     "text": [
      "[[5 7 2]\n",
      " [4 5 6]\n",
      " [7 4 2]]\n",
      "     \n",
      "[[4 2]\n",
      " [6 2]\n",
      " [4 2]]\n"
     ]
    }
   ],
   "source": [
    "print(X)\n",
    "print(\"     \")\n",
    "print(Y)"
   ]
  },
  {
   "cell_type": "code",
   "execution_count": 19,
   "id": "471aa708",
   "metadata": {},
   "outputs": [
    {
     "name": "stdout",
     "output_type": "stream",
     "text": [
      "Matrix Multiplication Result:\n",
      "[[70 28]\n",
      " [70 30]\n",
      " [60 26]]\n"
     ]
    }
   ],
   "source": [
    "# Perform matrix multiplication\n",
    "result = np.dot(X, Y)\n",
    "print(\"Matrix Multiplication Result:\")\n",
    "print(result)"
   ]
  },
  {
   "cell_type": "markdown",
   "id": "3dad46ee",
   "metadata": {},
   "source": [
    "# 6. Reshaping Arrays\n",
    "Reshape arrays and determine the number of dimensions."
   ]
  },
  {
   "cell_type": "code",
   "execution_count": 24,
   "id": "4d754a6e",
   "metadata": {},
   "outputs": [
    {
     "name": "stdout",
     "output_type": "stream",
     "text": [
      "Shape of x: (3,)\n",
      "Number of dimensions of x: 1\n"
     ]
    }
   ],
   "source": [
    "x = np.array([2, -1, -8])\n",
    "y = np.array([3, 1, -2])\n",
    "\n",
    "# Find the shape and number of dimensions of vector x\n",
    "print(\"Shape of x:\", x.shape)\n",
    "print(\"Number of dimensions of x:\", x.ndim)\n",
    "\n"
   ]
  },
  {
   "cell_type": "code",
   "execution_count": 25,
   "id": "e7e13a1a",
   "metadata": {},
   "outputs": [
    {
     "name": "stdout",
     "output_type": "stream",
     "text": [
      "Reshaped x:\n",
      "[[ 2]\n",
      " [-1]\n",
      " [-8]]\n",
      "Number of dimensions after reshaping x: 2\n"
     ]
    }
   ],
   "source": [
    "# Reshape vector x to a matrix of size (3,1)\n",
    "x_reshaped = x.reshape((3, 1))\n",
    "print(\"Reshaped x:\")\n",
    "print(x_reshaped)\n",
    "print(\"Number of dimensions after reshaping x:\", x_reshaped.ndim)\n",
    "\n"
   ]
  },
  {
   "cell_type": "code",
   "execution_count": 26,
   "id": "75ed8132",
   "metadata": {},
   "outputs": [
    {
     "name": "stdout",
     "output_type": "stream",
     "text": [
      "Reshaped y:\n",
      "[[ 3]\n",
      " [ 1]\n",
      " [-2]]\n",
      "Number of dimensions after reshaping y: 2\n"
     ]
    }
   ],
   "source": [
    "# Reshape vector y to a matrix of size (3,1)\n",
    "y_reshaped = y.reshape((3, 1))\n",
    "print(\"Reshaped y:\")\n",
    "print(y_reshaped)\n",
    "print(\"Number of dimensions after reshaping y:\", y_reshaped.ndim)"
   ]
  },
  {
   "cell_type": "markdown",
   "id": "202407db",
   "metadata": {},
   "source": [
    "# 7. Broadcasting\n",
    "Demonstrate broadcasting with a 3x3 matrix."
   ]
  },
  {
   "cell_type": "code",
   "execution_count": null,
   "id": "c5b681f5",
   "metadata": {},
   "outputs": [],
   "source": [
    "Broadcasting is a NumPy method that allows arrays of various forms to be utilised in arithmetic calculations. \n",
    "It makes it easier to conduct element-wise operations on arrays of various sizes.\n",
    "Broadcasting in NumPy adheres to a series of principles to align the shapes of the arrays involved in the operation. \n",
    "The following are the rules:\n",
    "\n",
    "1. If the dimensions of the arrays disagree, the array with fewer dimensions is padded with ones on its left side until the dimensions match.\n",
    "2. an error is raised if the form of any dimension of the two arrays differs and is not equal to 1.\n",
    "3. Arrays are compatible and may be used if the sizes in each dimension are either equal or one of them is 1."
   ]
  },
  {
   "cell_type": "code",
   "execution_count": 37,
   "id": "fdaa9cd8",
   "metadata": {},
   "outputs": [
    {
     "name": "stdout",
     "output_type": "stream",
     "text": [
      "matrix a [[1 2 3]\n",
      " [4 5 6]\n",
      " [7 8 9]]\n",
      "        \n",
      "matrix b [1 2 3]\n"
     ]
    }
   ],
   "source": [
    "a = np.array([[1, 2, 3], [4, 5, 6], [7, 8, 9]])\n",
    "b = np.array([1, 2, 3])\n",
    "\n",
    "print(\"matrix a\",a)\n",
    "print(\"        \")\n",
    "print(\"matrix b\",b)\n"
   ]
  },
  {
   "cell_type": "code",
   "execution_count": 38,
   "id": "fd7f10cb",
   "metadata": {},
   "outputs": [
    {
     "name": "stdout",
     "output_type": "stream",
     "text": [
      "Subtraction Result:\n",
      "[[0 0 0]\n",
      " [3 3 3]\n",
      " [6 6 6]]\n"
     ]
    }
   ],
   "source": [
    "# Perform subtraction using broadcasting\n",
    "subtraction_result = a - b\n",
    "print(\"Subtraction Result:\")\n",
    "print(subtraction_result)\n",
    "\n"
   ]
  },
  {
   "cell_type": "code",
   "execution_count": 39,
   "id": "11f95713",
   "metadata": {},
   "outputs": [
    {
     "name": "stdout",
     "output_type": "stream",
     "text": [
      "Multiplication Result:\n",
      "[[ 1  4  9]\n",
      " [ 4 10 18]\n",
      " [ 7 16 27]]\n"
     ]
    }
   ],
   "source": [
    "# Perform multiplication using broadcasting\n",
    "multiplication_result = a * b\n",
    "print(\"Multiplication Result:\")\n",
    "print(multiplication_result)"
   ]
  },
  {
   "cell_type": "code",
   "execution_count": null,
   "id": "fbf4a488",
   "metadata": {},
   "outputs": [],
   "source": []
  },
  {
   "cell_type": "code",
   "execution_count": null,
   "id": "6f2c2e2e",
   "metadata": {},
   "outputs": [],
   "source": []
  },
  {
   "cell_type": "markdown",
   "id": "f445d690",
   "metadata": {},
   "source": [
    "# Part-B"
   ]
  },
  {
   "cell_type": "markdown",
   "id": "147ede4f",
   "metadata": {},
   "source": [
    "## X Coordinates"
   ]
  },
  {
   "cell_type": "code",
   "execution_count": 59,
   "id": "1737e366",
   "metadata": {},
   "outputs": [
    {
     "name": "stdout",
     "output_type": "stream",
     "text": [
      "[[ 2  3 -4]\n",
      " [ 1 -4  0]]\n"
     ]
    }
   ],
   "source": [
    "# Coefficient matrix\n",
    "A = np.array([[2, 3, -4],\n",
    "              [1, -4, 0]])\n",
    "\n",
    "\n",
    "print(A)"
   ]
  },
  {
   "cell_type": "code",
   "execution_count": 61,
   "id": "32db0718",
   "metadata": {},
   "outputs": [
    {
     "name": "stdout",
     "output_type": "stream",
     "text": [
      "[[ 2  3]\n",
      " [ 1 -4]]\n"
     ]
    }
   ],
   "source": [
    "# Convert A to a 2x2 matrix\n",
    "A = A[:2, :2]\n",
    "print(A)"
   ]
  },
  {
   "cell_type": "code",
   "execution_count": 62,
   "id": "c77ef60e",
   "metadata": {},
   "outputs": [
    {
     "name": "stdout",
     "output_type": "stream",
     "text": [
      "[6 8]\n"
     ]
    }
   ],
   "source": [
    "B=np.array([6,8])\n",
    "print(B)"
   ]
  },
  {
   "cell_type": "code",
   "execution_count": 64,
   "id": "dae20dc8",
   "metadata": {},
   "outputs": [],
   "source": [
    "\n",
    "X=np.linalg.solve(A,B)"
   ]
  },
  {
   "cell_type": "code",
   "execution_count": 65,
   "id": "9e8fc949",
   "metadata": {},
   "outputs": [
    {
     "name": "stdout",
     "output_type": "stream",
     "text": [
      "x1 is   4.363636363636363\n",
      "x2 is   -0.9090909090909091\n"
     ]
    }
   ],
   "source": [
    "print(\"x1 is  \",X[0])\n",
    "print(\"x2 is  \",X[1])"
   ]
  },
  {
   "cell_type": "markdown",
   "id": "a71b8804",
   "metadata": {},
   "source": [
    "## Y Cordinates"
   ]
  },
  {
   "cell_type": "code",
   "execution_count": 66,
   "id": "81ba483f",
   "metadata": {},
   "outputs": [
    {
     "name": "stdout",
     "output_type": "stream",
     "text": [
      "[[ 3 -4  5]\n",
      " [-1  2 -4]]\n"
     ]
    }
   ],
   "source": [
    "A2 = np.array([[3, -4, 5],\n",
    "               [-1, 2, -4]])\n",
    "print(A2)"
   ]
  },
  {
   "cell_type": "code",
   "execution_count": 68,
   "id": "117e4f3e",
   "metadata": {},
   "outputs": [
    {
     "name": "stdout",
     "output_type": "stream",
     "text": [
      "[10  8]\n"
     ]
    }
   ],
   "source": [
    "B2=np.array([10,8])\n",
    "print(B2)"
   ]
  },
  {
   "cell_type": "code",
   "execution_count": 73,
   "id": "43945f5d",
   "metadata": {},
   "outputs": [
    {
     "name": "stdout",
     "output_type": "stream",
     "text": [
      "Last two dimensions are not square.\n"
     ]
    }
   ],
   "source": [
    "shape_=A2.shape\n",
    "arr = np.empty(shape_)\n",
    "\n",
    "# Check if the last two dimensions are square\n",
    "if shape_[-1] == shape_[-2]:\n",
    "    print(\"Last two dimensions are square.\")\n",
    "else:\n",
    "    print(\"Last two dimensions are not square.\")"
   ]
  },
  {
   "cell_type": "code",
   "execution_count": 74,
   "id": "6646a9fb",
   "metadata": {},
   "outputs": [],
   "source": [
    "A2=A2[:,:2]"
   ]
  },
  {
   "cell_type": "code",
   "execution_count": 75,
   "id": "68936fa8",
   "metadata": {},
   "outputs": [
    {
     "data": {
      "text/plain": [
       "array([[ 3, -4],\n",
       "       [-1,  2]])"
      ]
     },
     "execution_count": 75,
     "metadata": {},
     "output_type": "execute_result"
    }
   ],
   "source": [
    "A2"
   ]
  },
  {
   "cell_type": "code",
   "execution_count": 76,
   "id": "474ca5d2",
   "metadata": {},
   "outputs": [],
   "source": [
    "Y=np.linalg.solve(A2,B2)"
   ]
  },
  {
   "cell_type": "code",
   "execution_count": 77,
   "id": "1f36f59c",
   "metadata": {},
   "outputs": [
    {
     "name": "stdout",
     "output_type": "stream",
     "text": [
      "y1 is   26.0\n",
      "y2 is   17.0\n"
     ]
    }
   ],
   "source": [
    "print(\"y1 is  \",Y[0])\n",
    "print(\"y2 is  \",Y[1])"
   ]
  },
  {
   "cell_type": "code",
   "execution_count": null,
   "id": "be788d9b",
   "metadata": {},
   "outputs": [],
   "source": []
  }
 ],
 "metadata": {
  "kernelspec": {
   "display_name": "Python 3",
   "language": "python",
   "name": "python3"
  },
  "language_info": {
   "codemirror_mode": {
    "name": "ipython",
    "version": 3
   },
   "file_extension": ".py",
   "mimetype": "text/x-python",
   "name": "python",
   "nbconvert_exporter": "python",
   "pygments_lexer": "ipython3",
   "version": "3.8.8"
  }
 },
 "nbformat": 4,
 "nbformat_minor": 5
}
