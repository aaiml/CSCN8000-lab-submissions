{
 "cells": [
  {
   "attachments": {},
   "cell_type": "markdown",
   "metadata": {},
   "source": [
    "# LAB 1 - SUDHAN SHRESTHA [8889436]\n",
    "\n",
    "#### 1.Create a Notebook to demonstrate NumPy Operations."
   ]
  },
  {
   "cell_type": "code",
   "execution_count": 1,
   "metadata": {},
   "outputs": [],
   "source": [
    "# importing necessary packages\n",
    "import numpy as np"
   ]
  },
  {
   "attachments": {},
   "cell_type": "markdown",
   "metadata": {},
   "source": [
    "### PART A:\n",
    "#### 2. Create an array that starts from the integer 1, ends at 20, incremented by 3."
   ]
  },
  {
   "cell_type": "code",
   "execution_count": 5,
   "metadata": {},
   "outputs": [
    {
     "data": {
      "text/plain": [
       "array([ 1,  4,  7, 10, 13, 16, 19])"
      ]
     },
     "execution_count": 5,
     "metadata": {},
     "output_type": "execute_result"
    }
   ],
   "source": [
    "array1 = np.arange(1,20,3)\n",
    "array1"
   ]
  },
  {
   "attachments": {},
   "cell_type": "markdown",
   "metadata": {},
   "source": [
    "#### 3.Create a new array of shape 3 with random numbers between 0 and 1."
   ]
  },
  {
   "cell_type": "code",
   "execution_count": 9,
   "metadata": {},
   "outputs": [
    {
     "name": "stdout",
     "output_type": "stream",
     "text": [
      "The array: [0.72391922 0.24475003 0.03810084]\n",
      "Shape of the array: (3,)\n"
     ]
    }
   ],
   "source": [
    "array2 = np.random.rand(3)\n",
    "print(\"The array:\", array2)\n",
    "print (\"Shape of the array:\", array2.shape)"
   ]
  },
  {
   "attachments": {},
   "cell_type": "markdown",
   "metadata": {},
   "source": [
    "#### 4.Create a 2 D array [[10,20,45], [30,12,16], [42,17,56]] and perform the following operations: \n",
    "     \n",
    "#### Slice the 2D array to get the first two rows, slice the 2D array to get the last two rows."
   ]
  },
  {
   "cell_type": "code",
   "execution_count": 14,
   "metadata": {},
   "outputs": [
    {
     "name": "stdout",
     "output_type": "stream",
     "text": [
      "The 2D array:\n",
      " [[10 20 45]\n",
      " [30 12 16]\n",
      " [42 17 56]]\n",
      "\n",
      " The dimentions of the array: 2\n"
     ]
    }
   ],
   "source": [
    "# Creating the 2D array.\n",
    "array2D = np.array([[10, 20, 45], [30, 12, 16], [42, 17, 56]])\n",
    "print(\"The 2D array:\\n\",array2D)\n",
    "# Printing out the dimentions\n",
    "print(\"\\n The dimentions of the array:\",array2D.ndim)"
   ]
  },
  {
   "cell_type": "code",
   "execution_count": 17,
   "metadata": {},
   "outputs": [
    {
     "name": "stdout",
     "output_type": "stream",
     "text": [
      "The first two rows:\n",
      " [[10 20 45]\n",
      " [30 12 16]]\n",
      "The last two rows:\n",
      " [[30 12 16]\n",
      " [42 17 56]]\n"
     ]
    }
   ],
   "source": [
    "# Slicing the 2D array to get first two rows\n",
    "print(\"The first two rows:\\n\", array2D[:2])\n",
    "\n",
    "# Slicing the 2D array to get the last two rows\n",
    "print(\"The last two rows:\\n\", array2D[1:])"
   ]
  },
  {
   "attachments": {},
   "cell_type": "markdown",
   "metadata": {},
   "source": [
    "#### 5.Create two 2x2 arrays and demonstrate how you can stack the elements vertically, horizontally, and split the arrays into smaller arrays."
   ]
  },
  {
   "cell_type": "code",
   "execution_count": 38,
   "metadata": {},
   "outputs": [
    {
     "name": "stdout",
     "output_type": "stream",
     "text": [
      "Vertically Stacked Array: \n",
      " [[1 2]\n",
      " [3 4]\n",
      " [5 6]\n",
      " [7 8]]\n",
      "\n",
      "Horizontally Stacked Array: \n",
      " [[1 2 5 6]\n",
      " [3 4 7 8]]\n",
      "Splititing the vertical array: \n",
      " [array([[1, 2],\n",
      "       [3, 4]]), array([[5, 6],\n",
      "       [7, 8]])]\n",
      "Splititing the horizontal array: \n",
      " [array([[1],\n",
      "       [3]]), array([[2],\n",
      "       [4]]), array([[5],\n",
      "       [7]]), array([[6],\n",
      "       [8]])]\n"
     ]
    }
   ],
   "source": [
    "# Creating a 2x2 arrays \n",
    "arrayStack1 = np.array([[1, 2], [3, 4]])\n",
    "arrayStack2 = np.array([[5, 6], [7, 8]])\n",
    "\n",
    "# Vertically stacking the arrays:\n",
    "verticalStack = np.vstack((arrayStack1, arrayStack2))\n",
    "print(\"Vertically Stacked Array: \\n\", verticalStack)\n",
    "\n",
    "# Horizontally stacking the arrays:\n",
    "horizontalStack = np.hstack((arrayStack1, arrayStack2))\n",
    "print(\"\\nHorizontally Stacked Array: \\n\", horizontalStack)\n",
    "\n",
    "# Splitting the arrays into smaller arrays\n",
    "smallArray1 = np.array_split(verticalStack, 2)\n",
    "smallArray2 = np.array_split(horizontalStack, 4,1)\n",
    "print(\"Splititing the vertical array: \\n\",smallArray1)\n",
    "print(\"Splititing the horizontal array: \\n\",smallArray2)"
   ]
  },
  {
   "attachments": {},
   "cell_type": "markdown",
   "metadata": {},
   "source": [
    "#### 6.Create two matrices X= ([[5, 7, 2], [4, 5, 6], [7, 4 ,2]]) Y= ([[4, 2], [6, 2], [4, 2]]), Is it possible to multiply these matrices? \n",
    "#### Demonstrate the case when it is not possible to."
   ]
  },
  {
   "cell_type": "code",
   "execution_count": 44,
   "metadata": {},
   "outputs": [
    {
     "name": "stdout",
     "output_type": "stream",
     "text": [
      "The shape of X:  (3, 3)\n",
      "The shape of Y:  (3, 2)\n",
      "\n",
      "Product of X and Y:\n",
      " [[70 28]\n",
      " [70 30]\n",
      " [60 26]]\n",
      "\n",
      "The shape of the product:  (3, 2)\n"
     ]
    }
   ],
   "source": [
    "# Creating the two matrices \n",
    "X = np.array([[5, 7, 2], [4, 5, 6], [7, 4, 2]])\n",
    "Y = np.array([[4, 2], [6, 2], [4, 2]])\n",
    "\n",
    "# Shape of these matruces \n",
    "print(\"The shape of X: \",X.shape)\n",
    "print(\"The shape of Y: \",Y.shape)\n",
    "# Multiplying these matrices\n",
    "\n",
    "ans = np.matmul( X, Y)\n",
    "print(\"\\nProduct of X and Y:\\n\", ans)\n",
    "print(\"\\nThe shape of the product: \",ans.shape)"
   ]
  },
  {
   "attachments": {},
   "cell_type": "markdown",
   "metadata": {},
   "source": [
    "Yes, the multiplication of theses two matrices is possible because the number of column of first matrix X which is 3, is equals to the number of row of the second matrix Y which is 3 as well.\n",
    "\n",
    "But, in case of mulitplication of Y and X it would not be possile as the number of column of Y which is 2 is not equal to the number of row of X which is 3. Let us demonstrace the case below :"
   ]
  },
  {
   "cell_type": "code",
   "execution_count": 45,
   "metadata": {},
   "outputs": [
    {
     "ename": "ValueError",
     "evalue": "matmul: Input operand 1 has a mismatch in its core dimension 0, with gufunc signature (n?,k),(k,m?)->(n?,m?) (size 3 is different from 2)",
     "output_type": "error",
     "traceback": [
      "\u001b[1;31m---------------------------------------------------------------------------\u001b[0m",
      "\u001b[1;31mValueError\u001b[0m                                Traceback (most recent call last)",
      "Cell \u001b[1;32mIn[45], line 1\u001b[0m\n\u001b[1;32m----> 1\u001b[0m error_ans \u001b[39m=\u001b[39m np\u001b[39m.\u001b[39;49mmatmul(Y,X)\n",
      "\u001b[1;31mValueError\u001b[0m: matmul: Input operand 1 has a mismatch in its core dimension 0, with gufunc signature (n?,k),(k,m?)->(n?,m?) (size 3 is different from 2)"
     ]
    }
   ],
   "source": [
    "error_ans = np.matmul(Y,X) # error due to mismatch dimensions"
   ]
  },
  {
   "attachments": {},
   "cell_type": "markdown",
   "metadata": {},
   "source": [
    "#### 7.Create two arrays, x = ([2, -1, -8]) y = ([3, 1, -2]), Find the Shape, Number of dimensions of vector x.\n",
    "     \n",
    "#### Reshape the vector x to a matrix of size (3,1) and determine the number of dimensions after reshaping y to a matrix of (3,1)."
   ]
  },
  {
   "cell_type": "code",
   "execution_count": 50,
   "metadata": {},
   "outputs": [
    {
     "name": "stdout",
     "output_type": "stream",
     "text": [
      "Shape of vector x:  (3,)\n",
      "Dimension of vector x:  1\n",
      "\n",
      "Shape of x after reshaping:  (3, 1)\n",
      "Shape of y after reshaping:  (3, 1)\n",
      "\n",
      "Dimension of x after reshaping:  2\n",
      "Dimension of y after reshaping:  2\n"
     ]
    }
   ],
   "source": [
    "# Creating the array\n",
    "x = np.array([2, -1, -8])\n",
    "y = np.array([3, 1, -2])\n",
    "\n",
    "# Shape of the vector x\n",
    "print(\"Shape of vector x: \", x.shape)\n",
    "# Dimensions of vector x\n",
    "print(\"Dimension of vector x: \", x.ndim)\n",
    "\n",
    "# Reshaping x to a matrix of size (3,1)\n",
    "x = x.reshape(3,1)\n",
    "# Reshaping y to a matrix of (3,1)\n",
    "y = y.reshape(3,1)\n",
    "\n",
    "# Printing out the shape of x and y after reshaping\n",
    "print(\"\\nShape of x after reshaping: \", x.shape)\n",
    "print(\"Shape of y after reshaping: \", y.shape)\n",
    "\n",
    "# Printing out the dimensions of both x and y after reshaping\n",
    "print(\"\\nDimension of x after reshaping: \", x.ndim)\n",
    "print(\"Dimension of y after reshaping: \", y.ndim)"
   ]
  },
  {
   "attachments": {},
   "cell_type": "markdown",
   "metadata": {},
   "source": [
    "#### 8. How does broadcasting work? Demonstrate the subtraction, multiplication by considering a 3 x 3 matrix."
   ]
  },
  {
   "attachments": {},
   "cell_type": "markdown",
   "metadata": {},
   "source": [
    "The term `broadcasting` refers to how Numpy treats array with different shapes during arithmetic operations. `Boradcasting` works by automatically making changes to the dimensions of two arrays with mismatch shapes to match each other, so that various arthemetic operations could be perfomed between them.\n",
    "\n",
    "Source - [Numpy Docs](https://numpy.org/doc/stable/user/basics.broadcasting.html)"
   ]
  },
  {
   "cell_type": "code",
   "execution_count": 57,
   "metadata": {},
   "outputs": [
    {
     "name": "stdout",
     "output_type": "stream",
     "text": [
      "Subtraction:\n",
      "array3_3 - c = \n",
      " [[-9 -8 -7]\n",
      " [-6 -5 -4]\n",
      " [-3 -2 -1]]\n",
      "\n",
      "Multiplication:\n",
      "array3_3 * c = \n",
      " [[10 20 30]\n",
      " [40 50 60]\n",
      " [70 80 90]]\n"
     ]
    }
   ],
   "source": [
    "# Demonstrating arithematic operations with a 3 x 3 matrix\n",
    "\n",
    "# Demonstrating broadcastin with array and a scalar value\n",
    "array3_3 = np.array([[1, 2, 3], [4, 5, 6], [7, 8, 9]]) \n",
    "c = 10\n",
    "\n",
    "# Subtraction\n",
    "sub = array3_3 - c\n",
    "print(\"Subtraction:\\narray3_3 - c = \\n\", sub)\n",
    "\n",
    "# Multiplication\n",
    "multi = array3_3 * c\n",
    "print(\"\\nMultiplication:\\narray3_3 * c = \\n\", multi)\n"
   ]
  },
  {
   "attachments": {},
   "cell_type": "markdown",
   "metadata": {},
   "source": [
    "### Part B:\n",
    "\n",
    "####   1.Solve the following two system of linear equations using matrices (find the values of x1 and x2) and determine the number of solutions using the functions. \n",
    "####       1.2x1+3x2-4x3=6,x1-4x2=8\n",
    "\t\n",
    "####       2. 3y1-4y2+5y3=10,-y1+2y2-4y3=8"
   ]
  },
  {
   "attachments": {},
   "cell_type": "markdown",
   "metadata": {},
   "source": [
    "##### Solving the first equation that is 2x1+3x2-4x3=6, x1-4x2=8"
   ]
  },
  {
   "cell_type": "code",
   "execution_count": 59,
   "metadata": {},
   "outputs": [
    {
     "ename": "LinAlgError",
     "evalue": "Last 2 dimensions of the array must be square",
     "output_type": "error",
     "traceback": [
      "\u001b[1;31m---------------------------------------------------------------------------\u001b[0m",
      "\u001b[1;31mLinAlgError\u001b[0m                               Traceback (most recent call last)",
      "Cell \u001b[1;32mIn[59], line 8\u001b[0m\n\u001b[0;32m      5\u001b[0m c1 \u001b[39m=\u001b[39m np\u001b[39m.\u001b[39marray([\u001b[39m6\u001b[39m, \u001b[39m8\u001b[39m])\n\u001b[0;32m      7\u001b[0m \u001b[39m# Solving the equation using linear algebra\u001b[39;00m\n\u001b[1;32m----> 8\u001b[0m solution1 \u001b[39m=\u001b[39m np\u001b[39m.\u001b[39;49mlinalg\u001b[39m.\u001b[39;49msolve(eq1, c1)\n",
      "File \u001b[1;32m<__array_function__ internals>:180\u001b[0m, in \u001b[0;36msolve\u001b[1;34m(*args, **kwargs)\u001b[0m\n",
      "File \u001b[1;32me:\\PROGRAMS_SOFTWARES\\Python\\Lib\\site-packages\\numpy\\linalg\\linalg.py:387\u001b[0m, in \u001b[0;36msolve\u001b[1;34m(a, b)\u001b[0m\n\u001b[0;32m    385\u001b[0m a, _ \u001b[39m=\u001b[39m _makearray(a)\n\u001b[0;32m    386\u001b[0m _assert_stacked_2d(a)\n\u001b[1;32m--> 387\u001b[0m _assert_stacked_square(a)\n\u001b[0;32m    388\u001b[0m b, wrap \u001b[39m=\u001b[39m _makearray(b)\n\u001b[0;32m    389\u001b[0m t, result_t \u001b[39m=\u001b[39m _commonType(a, b)\n",
      "File \u001b[1;32me:\\PROGRAMS_SOFTWARES\\Python\\Lib\\site-packages\\numpy\\linalg\\linalg.py:204\u001b[0m, in \u001b[0;36m_assert_stacked_square\u001b[1;34m(*arrays)\u001b[0m\n\u001b[0;32m    202\u001b[0m m, n \u001b[39m=\u001b[39m a\u001b[39m.\u001b[39mshape[\u001b[39m-\u001b[39m\u001b[39m2\u001b[39m:]\n\u001b[0;32m    203\u001b[0m \u001b[39mif\u001b[39;00m m \u001b[39m!=\u001b[39m n:\n\u001b[1;32m--> 204\u001b[0m     \u001b[39mraise\u001b[39;00m LinAlgError(\u001b[39m'\u001b[39m\u001b[39mLast 2 dimensions of the array must be square\u001b[39m\u001b[39m'\u001b[39m)\n",
      "\u001b[1;31mLinAlgError\u001b[0m: Last 2 dimensions of the array must be square"
     ]
    }
   ],
   "source": [
    "\n",
    "# the equation\n",
    "eq1 = np.array([[2, 3, -4], [1, -4, 0]])\n",
    "# the constant\n",
    "c1 = np.array([6, 8])\n",
    "\n",
    "# Solving the equation using linear algebra\n",
    "solution1 = np.linalg.solve(eq1, c1)"
   ]
  },
  {
   "cell_type": "code",
   "execution_count": 60,
   "metadata": {},
   "outputs": [
    {
     "name": "stdout",
     "output_type": "stream",
     "text": [
      "Shape of eq1:  (2, 3)\n"
     ]
    }
   ],
   "source": [
    "print(\"Shape of eq1: \", eq1.shape)"
   ]
  },
  {
   "attachments": {},
   "cell_type": "markdown",
   "metadata": {},
   "source": [
    "As seen above we get an error `LinAlgError: Last 2 dimensions of the array must be square`.\n",
    "This error occurs when we are using the `linalg.solve` as the equation is not a square matrix, meaning the number of rows is not equal to the number of column. For our solution our eq1 has 2 rows and 3 column, which means it is not a square matrix hence it is not solvable."
   ]
  },
  {
   "attachments": {},
   "cell_type": "markdown",
   "metadata": {},
   "source": [
    "##### Sovling equation 2 : 3y1-4y2+5y3=10,-y1+2y2-4y3=8"
   ]
  },
  {
   "cell_type": "code",
   "execution_count": 64,
   "metadata": {},
   "outputs": [
    {
     "ename": "LinAlgError",
     "evalue": "Last 2 dimensions of the array must be square",
     "output_type": "error",
     "traceback": [
      "\u001b[1;31m---------------------------------------------------------------------------\u001b[0m",
      "\u001b[1;31mLinAlgError\u001b[0m                               Traceback (most recent call last)",
      "Cell \u001b[1;32mIn[64], line 6\u001b[0m\n\u001b[0;32m      3\u001b[0m \u001b[39m# the constant for the second equation\u001b[39;00m\n\u001b[0;32m      4\u001b[0m c2 \u001b[39m=\u001b[39m np\u001b[39m.\u001b[39marray([\u001b[39m10\u001b[39m, \u001b[39m8\u001b[39m])\n\u001b[1;32m----> 6\u001b[0m solution2 \u001b[39m=\u001b[39m np\u001b[39m.\u001b[39;49mlinalg\u001b[39m.\u001b[39;49msolve(eq2, c2)\n",
      "File \u001b[1;32m<__array_function__ internals>:180\u001b[0m, in \u001b[0;36msolve\u001b[1;34m(*args, **kwargs)\u001b[0m\n",
      "File \u001b[1;32me:\\PROGRAMS_SOFTWARES\\Python\\Lib\\site-packages\\numpy\\linalg\\linalg.py:387\u001b[0m, in \u001b[0;36msolve\u001b[1;34m(a, b)\u001b[0m\n\u001b[0;32m    385\u001b[0m a, _ \u001b[39m=\u001b[39m _makearray(a)\n\u001b[0;32m    386\u001b[0m _assert_stacked_2d(a)\n\u001b[1;32m--> 387\u001b[0m _assert_stacked_square(a)\n\u001b[0;32m    388\u001b[0m b, wrap \u001b[39m=\u001b[39m _makearray(b)\n\u001b[0;32m    389\u001b[0m t, result_t \u001b[39m=\u001b[39m _commonType(a, b)\n",
      "File \u001b[1;32me:\\PROGRAMS_SOFTWARES\\Python\\Lib\\site-packages\\numpy\\linalg\\linalg.py:204\u001b[0m, in \u001b[0;36m_assert_stacked_square\u001b[1;34m(*arrays)\u001b[0m\n\u001b[0;32m    202\u001b[0m m, n \u001b[39m=\u001b[39m a\u001b[39m.\u001b[39mshape[\u001b[39m-\u001b[39m\u001b[39m2\u001b[39m:]\n\u001b[0;32m    203\u001b[0m \u001b[39mif\u001b[39;00m m \u001b[39m!=\u001b[39m n:\n\u001b[1;32m--> 204\u001b[0m     \u001b[39mraise\u001b[39;00m LinAlgError(\u001b[39m'\u001b[39m\u001b[39mLast 2 dimensions of the array must be square\u001b[39m\u001b[39m'\u001b[39m)\n",
      "\u001b[1;31mLinAlgError\u001b[0m: Last 2 dimensions of the array must be square"
     ]
    }
   ],
   "source": [
    "# the second equation\n",
    "eq2 = np.array([[3, -4, 5], [-1, 2, -4]])\n",
    "# the constant for the second equation\n",
    "c2 = np.array([10, 8])\n",
    "\n",
    "solution2 = np.linalg.solve(eq2, c2)"
   ]
  },
  {
   "cell_type": "code",
   "execution_count": 62,
   "metadata": {},
   "outputs": [
    {
     "name": "stdout",
     "output_type": "stream",
     "text": [
      "Shape of eq2:  (2, 3)\n"
     ]
    }
   ],
   "source": [
    "print(\"Shape of eq2: \", eq2.shape)"
   ]
  },
  {
   "attachments": {},
   "cell_type": "markdown",
   "metadata": {},
   "source": [
    "As in the first equation similar error is thrown, as  our eq2 has 2 rows and 3 column, which means it is not a square matrix hence it is not solvable."
   ]
  }
 ],
 "metadata": {
  "kernelspec": {
   "display_name": "Python 3",
   "language": "python",
   "name": "python3"
  },
  "language_info": {
   "codemirror_mode": {
    "name": "ipython",
    "version": 3
   },
   "file_extension": ".py",
   "mimetype": "text/x-python",
   "name": "python",
   "nbconvert_exporter": "python",
   "pygments_lexer": "ipython3",
   "version": "3.11.1"
  },
  "orig_nbformat": 4
 },
 "nbformat": 4,
 "nbformat_minor": 2
}
