{
 "cells": [
  {
   "attachments": {},
   "cell_type": "markdown",
   "metadata": {},
   "source": [
    "# _**<font color= 'purple'> <u>Lab 1 – Basic NumPy Operations </u></font>**_"
   ]
  },
  {
   "attachments": {},
   "cell_type": "markdown",
   "metadata": {},
   "source": [
    "## _**<font color= 'salmon'><U> Part -A- </U> </font>**_"
   ]
  },
  {
   "attachments": {},
   "cell_type": "markdown",
   "metadata": {},
   "source": [
    ">1.Create a Notebook to demonstrate NumPy Operations. <br>\n",
    ">2.Create an array that starts from the integer 1, ends at 20, incremented by 3.\n"
   ]
  },
  {
   "cell_type": "code",
   "execution_count": 1,
   "metadata": {},
   "outputs": [
    {
     "name": "stdout",
     "output_type": "stream",
     "text": [
      "Array 1: [ 1  4  7 10 13 16 19]\n"
     ]
    }
   ],
   "source": [
    "import numpy as np \n",
    "array1 = np.arange(1, 21, 3)\n",
    "print(\"Array 1:\", array1)"
   ]
  },
  {
   "attachments": {},
   "cell_type": "markdown",
   "metadata": {},
   "source": [
    ">3.Create a new array of shape 3 with random numbers between 0 and 1."
   ]
  },
  {
   "cell_type": "code",
   "execution_count": 2,
   "metadata": {},
   "outputs": [
    {
     "name": "stdout",
     "output_type": "stream",
     "text": [
      "Array 2: [0.35806859 0.41197546 0.2063526 ]\n"
     ]
    }
   ],
   "source": [
    "array2 = np.random.random((3))\n",
    "print(\"Array 2:\", array2)"
   ]
  },
  {
   "attachments": {},
   "cell_type": "markdown",
   "metadata": {},
   "source": [
    ">4.Create a 2 D array [[10,20,45], [30,12,16], [42,17,56]] and perform the following operations: <br>\n",
    "Slice the 2D array to get the first two rows, slice the 2D array to get the last two rows."
   ]
  },
  {
   "cell_type": "code",
   "execution_count": 3,
   "metadata": {},
   "outputs": [
    {
     "name": "stdout",
     "output_type": "stream",
     "text": [
      "2-D array:\n",
      " [[10 20 45]\n",
      " [30 12 16]\n",
      " [42 17 56]]\n",
      "First two rows:\n",
      " [[10 20 45]\n",
      " [30 12 16]]\n",
      "Last two rows:\n",
      " [[30 12 16]\n",
      " [42 17 56]]\n"
     ]
    }
   ],
   "source": [
    "Two_D_array = np.array([[10, 20, 45], [30, 12, 16], [42, 17, 56]])\n",
    "print(\"2-D array:\\n {}\".format(Two_D_array))\n",
    "\n",
    "# Slice the 2D array to get the first two rows\n",
    "First_2_rows =Two_D_array[:2, :]\n",
    "print(\"First two rows:\\n {}\".format(First_2_rows))    \n",
    "\n",
    "# Slice the 2D array to get the last two rows\n",
    "Last_2_rows = Two_D_array[1:, :]\n",
    "print(\"Last two rows:\\n\", Last_2_rows)"
   ]
  },
  {
   "attachments": {},
   "cell_type": "markdown",
   "metadata": {},
   "source": [
    ">5.Create two 2x2 arrays and demonstrate how you can stack the elements vertically, horizontally, and split the arrays into smaller arrays. "
   ]
  },
  {
   "cell_type": "code",
   "execution_count": 4,
   "metadata": {},
   "outputs": [
    {
     "name": "stdout",
     "output_type": "stream",
     "text": [
      "1st Input array : \n",
      " [[7 2]\n",
      " [9 4]]\n",
      "2nd Input array : \n",
      " [[ 5  6]\n",
      " [18  8]]\n",
      "Vertical Stack: [[ 7  2]\n",
      " [ 9  4]\n",
      " [ 5  6]\n",
      " [18  8]]\n",
      "Horizontal Stack: [[ 7  2  5  6]\n",
      " [ 9  4 18  8]]\n",
      "Split Array 1: [array([[7, 2]]), array([[9, 4]])]\n",
      "Split Array 2: [array([[5, 6]]), array([[18,  8]])]\n"
     ]
    }
   ],
   "source": [
    "# Create input array 1 & 2\n",
    "in_arr1 = np.array([[7, 2], [9, 4]])\n",
    "print (\"1st Input array : \\n\", in_arr1) \n",
    "in_arr2 = np.array([[5, 6], [18, 8]])\n",
    "print (\"2nd Input array : \\n\", in_arr2) \n",
    "# Stack the elements vertically\n",
    "Vertical_stack = np.vstack((in_arr1, in_arr2))\n",
    "print(\"Vertical Stack:\",Vertical_stack)\n",
    "\n",
    "# Stack the elements horizontally\n",
    "Horizontal_stack = np.hstack((in_arr1, in_arr2))\n",
    "print(\"Horizontal Stack:\",Horizontal_stack)\n",
    "\n",
    "# Split the arrays into smaller arrays\n",
    "split_in_arr1 = np.split(in_arr1, 2)\n",
    "split_in_arr2 = np.split(in_arr2, 2)\n",
    "print(\"Split Array 1:\", split_in_arr1)\n",
    "print(\"Split Array 2:\",split_in_arr2 )"
   ]
  },
  {
   "attachments": {},
   "cell_type": "markdown",
   "metadata": {},
   "source": [
    "> 6.Create two matrices X= ([[5, 7, 2], [4, 5, 6], [7, 4 ,2]]) Y= ([[4, 2], [6, 2], [4, 2]]),Is it possible to multiply these matrices? Demonstrate the case when it is not possible to."
   ]
  },
  {
   "cell_type": "code",
   "execution_count": 5,
   "metadata": {},
   "outputs": [
    {
     "name": "stdout",
     "output_type": "stream",
     "text": [
      "Matrix multiplication result:\n",
      " [[70 28]\n",
      " [70 30]\n",
      " [60 26]]\n"
     ]
    }
   ],
   "source": [
    "# 6. Create matrices X and Y\n",
    "X = np.array([[5, 7, 2], [4, 5, 6], [7, 4, 2]])\n",
    "Y = np.array([[4, 2], [6, 2], [4, 2]])\n",
    "\n",
    "if X.shape[1] == Y.shape[0]:\n",
    "    result = np.dot(X, Y)\n",
    "    print(\"Matrix multiplication result:\\n\", result)\n",
    "else:\n",
    "    print(\"Matrix multiplication is not possible due to incompatible dimensions.\") "
   ]
  },
  {
   "attachments": {},
   "cell_type": "markdown",
   "metadata": {},
   "source": [
    "> <font color = 'orange'> **To perform matrix multiplication, the number of columns in the first matrix (X) must be equal to the number of rows in the second matrix (Y). In this case, X has 3 columns while Y has 3 rows, which does satisfy the condition for matrix multiplication.\n",
    "Hence, in this example, it is possible to multiply matrices X and Y due to the compatible dimensions.** </font>"
   ]
  },
  {
   "attachments": {},
   "cell_type": "markdown",
   "metadata": {},
   "source": [
    "> 7.Create two arrays, x = ([2, -1, -8]) y = ([3, 1, -2]), Find the Shape, Number of dimensions of vector x.**_ <br> Reshape the vector x to a matrix of size (3,1) and determine the number of dimensions after reshaping y to a matrix of (3,1)."
   ]
  },
  {
   "cell_type": "code",
   "execution_count": 7,
   "metadata": {},
   "outputs": [
    {
     "name": "stdout",
     "output_type": "stream",
     "text": [
      "Shape of vector x:\n",
      " (3,)\n",
      "Number of dimensions of vector x:\n",
      " 1\n",
      "Number of dimensions after reshaping x:2\n",
      "Number of dimensions after reshaping y:2\n"
     ]
    }
   ],
   "source": [
    "# shape (= length of each dimension)  # reshape() to convert the shape # ndim get the number of dimensions of a NumPy array as an integer \n",
    "x = np.array([2, -1, -8])\n",
    "y = np.array([3, 1, -2])\n",
    "shape_x = x.shape\n",
    "num_dim_x = x.ndim\n",
    "print(\"Shape of vector x:\\n\", shape_x)\n",
    "print(\"Number of dimensions of vector x:\\n\", num_dim_x)    \n",
    " \n",
    "# Reshape the vector x to a matrix of size (3,1) and determine the number of dimensions after reshaping y to a matrix of (3,1).\n",
    "# New axis added 'columns ' to the data \n",
    "reshaped_y = y.reshape((3, 1))\n",
    "num_dim_reshaped_y= reshaped_y.ndim\n",
    "reshaped_x = x.reshape((3, 1))\n",
    "num_dim_reshaped_x = reshaped_x.ndim\n",
    "\n",
    "print(\"Number of dimensions after reshaping x:{}\" .format(num_dim_reshaped_x))\n",
    "print(\"Number of dimensions after reshaping y:{}\".format(num_dim_reshaped_y))"
   ]
  },
  {
   "attachments": {},
   "cell_type": "markdown",
   "metadata": {},
   "source": [
    " >8. How does broadcasting work? Demonstrate the subtraction, multiplication by considering a 3 x 3 matrix.\n",
    "   "
   ]
  },
  {
   "attachments": {},
   "cell_type": "markdown",
   "metadata": {},
   "source": [
    "> Broadcasting in NumPy allows arrays of different shapes to be used in arithmetic operations. However, with broadcasting, arrays with different shapes can be used, and the operations are automatically applied to corresponding elements. This allows for seamless computations even when the shapes of the arrays do not match exactly.\n",
    "When working with arrays of different dimensions in NumPy, direct element-wise operations may not be possible. However, NumPy provides the capability of broadcasting, which allows for operations on arrays with dissimilar shapes. Broadcasting involves adjusting the smaller array to match the shape of the larger array so that element-wise operations can be performed. <br>"
   ]
  },
  {
   "cell_type": "code",
   "execution_count": 8,
   "metadata": {},
   "outputs": [
    {
     "name": "stdout",
     "output_type": "stream",
     "text": [
      "Original matrix:\n",
      " [[2 6 3]\n",
      " [8 5 4]\n",
      " [1 7 9]]\n",
      "\n",
      "Result after subtraction:\n",
      " [[-1  3  0]\n",
      " [ 5  2  1]\n",
      " [-2  4  6]]\n",
      "\n",
      "Result after multiplication:\n",
      " [[ 4 12  6]\n",
      " [16 10  8]\n",
      " [ 2 14 18]]\n"
     ]
    }
   ],
   "source": [
    "Matrix = np.array([[2, 6, 3],\n",
    "                   [8, 5, 4],\n",
    "                   [1, 7, 9]])\n",
    "\n",
    "# Perform subtraction with a scalar\n",
    "subtraction_op = Matrix - 3\n",
    "\n",
    "# Perform multiplication with a scalar\n",
    "multiplication_op = Matrix * 2\n",
    "print(\"Original matrix:\\n\", Matrix)\n",
    "print(\"\\nResult after subtraction:\\n\", subtraction_op)\n",
    "print(\"\\nResult after multiplication:\\n\", multiplication_op)"
   ]
  },
  {
   "attachments": {},
   "cell_type": "markdown",
   "metadata": {},
   "source": [
    " ## _**<font color= 'salmon'><U> Part -B- </U> </font>**_"
   ]
  },
  {
   "attachments": {},
   "cell_type": "markdown",
   "metadata": {},
   "source": [
    ">1.Solve the following two system of linear equations using matrices (find the values of x1 and x2) and determine the number of solutions using the functions. <br>\n",
    "> <u> <b>First System </b> </u> <br>\n",
    "> 2x1+3x2-4x3=6,x1-4x2=8"
   ]
  },
  {
   "cell_type": "code",
   "execution_count": 9,
   "metadata": {},
   "outputs": [
    {
     "name": "stdout",
     "output_type": "stream",
     "text": [
      "The shape of A matrix is: \n",
      " (2, 3)\n",
      "The shape of B matrix is: \n",
      " (2,)\n"
     ]
    }
   ],
   "source": [
    "# Coefficient matrix\n",
    "A = np.array([[2, 3, -4],\n",
    "              [1, -4, 0]])\n",
    "\n",
    "# Constant matrix\n",
    "B = np.array([6, 8])\n",
    "\n",
    "print(\"The shape of A matrix is: \\n\", A.shape)\n",
    "print(\"The shape of B matrix is: \\n\", B.shape)"
   ]
  },
  {
   "attachments": {},
   "cell_type": "markdown",
   "metadata": {},
   "source": [
    ">The order of resulting matrix  ~ (2,3)*(3,1) ~ will be the first number by the forth number (2,1) Not possible in our case we suppose to have (3,1) instead.\n",
    "Furthermore, Since the shape of matrix A is 2x3 (non-square), we cannot calculate the determinant and determine if it is non-zero. Without a non-zero determinant, we cannot calculate the inverse of matrix A and find a unique solution to the system of equations. Therefore, it is not possible to find the solution matrix (x1, x2, x3)using matrix operations in this case."
   ]
  },
  {
   "attachments": {},
   "cell_type": "markdown",
   "metadata": {},
   "source": [
    "> <u> <b>Second System </b> </u> <br>\n",
    ">  3y1-4y2+5y3=10,-y1+2y2-4y3=8\n"
   ]
  },
  {
   "cell_type": "code",
   "execution_count": 10,
   "metadata": {},
   "outputs": [
    {
     "name": "stdout",
     "output_type": "stream",
     "text": [
      "The shape of Y matrix is: \n",
      " (2, 3)\n",
      "The shape of Z matrix is: \n",
      " (2,)\n"
     ]
    }
   ],
   "source": [
    "# Coefficient matrix\n",
    "Y = np.array([[3,-4,5],[-1,2,-4]])\n",
    "\n",
    "# Constant matrix\n",
    "Z = np.array([10,8])\n",
    "\n",
    "print(\"The shape of Y matrix is: \\n\", Y.shape)\n",
    "print(\"The shape of Z matrix is: \\n\", Z.shape)"
   ]
  },
  {
   "attachments": {},
   "cell_type": "markdown",
   "metadata": {},
   "source": [
    ">Same reasoning, the order of resulting Matrix is inaccurate \"(2,3)*(3,1) ==> (2,1)\". Moreover, we cannot calculate the determinant of Matrix Y.\n",
    "\n",
    ">Therefore, it is not possible to find the solution matrix [y1, y2, y3] using matrix operations in this case."
   ]
  }
 ],
 "metadata": {
  "kernelspec": {
   "display_name": "CSCN8010_classic_ml",
   "language": "python",
   "name": "cscn8010_classic_ml"
  },
  "language_info": {
   "codemirror_mode": {
    "name": "ipython",
    "version": 3
   },
   "file_extension": ".py",
   "mimetype": "text/x-python",
   "name": "python",
   "nbconvert_exporter": "python",
   "pygments_lexer": "ipython3",
   "version": "3.11.3"
  },
  "orig_nbformat": 4
 },
 "nbformat": 4,
 "nbformat_minor": 2
}
