{
 "cells": [
  {
   "attachments": {},
   "cell_type": "markdown",
   "metadata": {},
   "source": [
    "## Lab 1\n",
    "Part A\n",
    "\n",
    "1. Create a Notebook to demonstrate NumPy Operations."
   ]
  },
  {
   "cell_type": "code",
   "execution_count": 2,
   "metadata": {},
   "outputs": [],
   "source": [
    "import numpy as np"
   ]
  },
  {
   "attachments": {},
   "cell_type": "markdown",
   "metadata": {},
   "source": [
    "2. Create an array that starts from the integer 1, ends at 20, incremented by 3."
   ]
  },
  {
   "cell_type": "code",
   "execution_count": 3,
   "metadata": {},
   "outputs": [
    {
     "data": {
      "text/plain": [
       "array([ 1,  4,  7, 10, 13, 16, 19])"
      ]
     },
     "execution_count": 3,
     "metadata": {},
     "output_type": "execute_result"
    }
   ],
   "source": [
    "np.arange(1, 20, 3)"
   ]
  },
  {
   "attachments": {},
   "cell_type": "markdown",
   "metadata": {},
   "source": [
    "3. Create a new array of shape 3 with random numbers between 0 and 1."
   ]
  },
  {
   "cell_type": "code",
   "execution_count": 4,
   "metadata": {},
   "outputs": [
    {
     "data": {
      "text/plain": [
       "array([0.64589289, 0.9552894 , 0.69020625])"
      ]
     },
     "execution_count": 4,
     "metadata": {},
     "output_type": "execute_result"
    }
   ],
   "source": [
    "np.random.rand(3)"
   ]
  },
  {
   "attachments": {},
   "cell_type": "markdown",
   "metadata": {},
   "source": [
    "4. Create a 2 D array [[10,20,45], [30,12,16], [42,17,56]] and perform the following operations: \n",
    "    *   Slice the 2D array to get the first two rows\n",
    "    *   slice the 2D array to get the last two rows."
   ]
  },
  {
   "cell_type": "code",
   "execution_count": 7,
   "metadata": {},
   "outputs": [
    {
     "name": "stdout",
     "output_type": "stream",
     "text": [
      "Slice the 2D array to get the first two rows\n",
      "[[10 20 45]\n",
      " [30 12 16]]\n",
      "slice the 2D array to get the last two rows.\n",
      "[[30 12 16]\n",
      " [42 17 56]]\n"
     ]
    }
   ],
   "source": [
    "A = np.array([[10,20,45], [30,12,16], [42,17,56]])\n",
    "print('Slice the 2D array to get the first two rows')\n",
    "print(A[:2])\n",
    "print('slice the 2D array to get the last two rows.')\n",
    "print(A[-2:])\n"
   ]
  },
  {
   "attachments": {},
   "cell_type": "markdown",
   "metadata": {},
   "source": [
    "5. Create two 2x2 arrays and demonstrate how you can stack the elements vertically, horizontally, and split the arrays into smaller arrays."
   ]
  },
  {
   "cell_type": "code",
   "execution_count": 26,
   "metadata": {},
   "outputs": [
    {
     "name": "stdout",
     "output_type": "stream",
     "text": [
      "Horizontal stack : \n",
      " [[0 0 1 1]\n",
      " [0 0 1 1]]\n",
      "Vertical stack : \n",
      " [[0 0]\n",
      " [0 0]\n",
      " [1 1]\n",
      " [1 1]]\n",
      "The splitted arrays from horizontal stack [array([[0, 0, 1, 1]]), array([[0, 0, 1, 1]])]\n",
      "The splitted arrays from vertical stack [array([[0, 0],\n",
      "       [0, 0]]), array([[1, 1],\n",
      "       [1, 1]])]\n"
     ]
    }
   ],
   "source": [
    "A = np.zeros((2, 2),dtype=int)\n",
    "B = np.ones((2, 2),dtype=int)\n",
    "print(\"Horizontal stack : \\n\", np.hstack([A,B]))\n",
    "print(\"Vertical stack : \\n\", np.vstack([A,B]))\n",
    "print(\"The splitted arrays from horizontal stack\", np.array_split(np.hstack([A,B]), indices_or_sections = 2, axis = 0))\n",
    "print(\"The splitted arrays from vertical stack\", np.array_split(np.vstack([A,B]), indices_or_sections = 2, axis = 0))"
   ]
  },
  {
   "attachments": {},
   "cell_type": "markdown",
   "metadata": {},
   "source": [
    "6. Create two matrices X= ([[5, 7, 2], [4, 5, 6], [7, 4 ,2]]) Y= ([[4, 2], [6, 2], [4, 2]]), Is it possible to multiply these matrices?"
   ]
  },
  {
   "cell_type": "code",
   "execution_count": 28,
   "metadata": {},
   "outputs": [
    {
     "name": "stdout",
     "output_type": "stream",
     "text": [
      "[[70 28]\n",
      " [70 30]\n",
      " [60 26]]\n"
     ]
    },
    {
     "ename": "ValueError",
     "evalue": "shapes (3,2) and (3,3) not aligned: 2 (dim 1) != 3 (dim 0)",
     "output_type": "error",
     "traceback": [
      "\u001b[0;31m---------------------------------------------------------------------------\u001b[0m",
      "\u001b[0;31mValueError\u001b[0m                                Traceback (most recent call last)",
      "Cell \u001b[0;32mIn[28], line 4\u001b[0m\n\u001b[1;32m      2\u001b[0m Y \u001b[39m=\u001b[39m np\u001b[39m.\u001b[39marray([[\u001b[39m4\u001b[39m, \u001b[39m2\u001b[39m], [\u001b[39m6\u001b[39m, \u001b[39m2\u001b[39m], [\u001b[39m4\u001b[39m, \u001b[39m2\u001b[39m]])\n\u001b[1;32m      3\u001b[0m \u001b[39mprint\u001b[39m(np\u001b[39m.\u001b[39mdot(X,Y))\n\u001b[0;32m----> 4\u001b[0m \u001b[39mprint\u001b[39m(np\u001b[39m.\u001b[39;49mdot(Y,X))\n",
      "File \u001b[0;32m<__array_function__ internals>:200\u001b[0m, in \u001b[0;36mdot\u001b[0;34m(*args, **kwargs)\u001b[0m\n",
      "\u001b[0;31mValueError\u001b[0m: shapes (3,2) and (3,3) not aligned: 2 (dim 1) != 3 (dim 0)"
     ]
    }
   ],
   "source": [
    "X = np.array([[5, 7, 2], [4, 5, 6], [7, 4 ,2]])\n",
    "Y = np.array([[4, 2], [6, 2], [4, 2]])\n",
    "print(np.dot(X,Y))\n",
    "print(np.dot(Y,X))"
   ]
  },
  {
   "attachments": {},
   "cell_type": "markdown",
   "metadata": {},
   "source": [
    "7. Create two arrays, x = ([2, -1, -8]) y = ([3, 1, -2]), Find the Shape, Number of dimensions of vector x Reshape the vector x to a matrix of size (3,1) and determine the number of dimensions after reshaping y to a matrix of (3,1).\n",
    "\n"
   ]
  },
  {
   "cell_type": "code",
   "execution_count": 31,
   "metadata": {},
   "outputs": [
    {
     "name": "stdout",
     "output_type": "stream",
     "text": [
      "Shape\n",
      "(3,)\n",
      "Dimension\n",
      "1\n",
      "Reshaped Y dimension\n",
      "2\n"
     ]
    }
   ],
   "source": [
    "\n",
    "X = np.array([2, -1, -8])\n",
    "Y = np.array([3, 1, -2])\n",
    "print(\"Shape\")\n",
    "print(X.shape)\n",
    "print(\"Dimension\")\n",
    "print(X.ndim)\n",
    "X = np.reshape(X,[3,1])\n",
    "Y = np.reshape(Y,[3,1])\n",
    "print(\"Reshaped Y dimension\")\n",
    "print(Y.ndim)"
   ]
  },
  {
   "attachments": {},
   "cell_type": "markdown",
   "metadata": {},
   "source": [
    "8. How does broadcasting work? Demonstrate the subtraction, multiplication by considering a 3 x 3 matrix.\n",
    "Broadcasting help to perform operations on arrays with different shapes.\n",
    "\n"
   ]
  },
  {
   "cell_type": "code",
   "execution_count": 47,
   "metadata": {},
   "outputs": [
    {
     "name": "stdout",
     "output_type": "stream",
     "text": [
      "[[7 3 0]\n",
      " [8 4 1]\n",
      " [3 8 2]]\n",
      "[[ 6  2 -1]\n",
      " [ 7  3  0]\n",
      " [ 2  7  1]]\n",
      "[[21  9  0]\n",
      " [24 12  3]\n",
      " [ 9 24  6]]\n"
     ]
    }
   ],
   "source": [
    "A = np.random.randint(10,size=(3,3))\n",
    "print(A)\n",
    "print(A-1)\n",
    "print(A*3)"
   ]
  },
  {
   "attachments": {},
   "cell_type": "markdown",
   "metadata": {},
   "source": [
    "Part B\n",
    "1. Solve the following two system of linear equations using matrices (find the values of x1 and x2) and determine the number of solutions using the functions. $2x_1$ + $3x_2$ - $4x_3$ = 6, $x_1$ - $4x_2$ = 8. $3y_1$ - $4y_2$ + $5y_3$ = 10 , $-y_1$ + $2y_2$ - $4y_3$ = 8"
   ]
  },
  {
   "cell_type": "code",
   "execution_count": 48,
   "metadata": {},
   "outputs": [
    {
     "ename": "ValueError",
     "evalue": "setting an array element with a sequence. The requested array has an inhomogeneous shape after 1 dimensions. The detected shape was (2,) + inhomogeneous part.",
     "output_type": "error",
     "traceback": [
      "\u001b[0;31m---------------------------------------------------------------------------\u001b[0m",
      "\u001b[0;31mValueError\u001b[0m                                Traceback (most recent call last)",
      "Cell \u001b[0;32mIn[48], line 1\u001b[0m\n\u001b[0;32m----> 1\u001b[0m A1 \u001b[39m=\u001b[39m np\u001b[39m.\u001b[39;49marray([[\u001b[39m2\u001b[39;49m,\u001b[39m3\u001b[39;49m,\u001b[39m-\u001b[39;49m\u001b[39m4\u001b[39;49m],[\u001b[39m1\u001b[39;49m,\u001b[39m-\u001b[39;49m\u001b[39m4\u001b[39;49m]])\n\u001b[1;32m      2\u001b[0m B1 \u001b[39m=\u001b[39m np\u001b[39m.\u001b[39marray([\u001b[39m6\u001b[39m,\u001b[39m8\u001b[39m])\n\u001b[1;32m      3\u001b[0m X1 \u001b[39m=\u001b[39m np\u001b[39m.\u001b[39mlinalg\u001b[39m.\u001b[39msolve(A1, B1)\n",
      "\u001b[0;31mValueError\u001b[0m: setting an array element with a sequence. The requested array has an inhomogeneous shape after 1 dimensions. The detected shape was (2,) + inhomogeneous part."
     ]
    }
   ],
   "source": [
    "A1 = np.array([[2,3,-4],[1,-4]])\n",
    "B1 = np.array([6,8])\n",
    "X1 = np.linalg.solve(A1, B1)"
   ]
  },
  {
   "cell_type": "code",
   "execution_count": 49,
   "metadata": {},
   "outputs": [
    {
     "ename": "LinAlgError",
     "evalue": "Last 2 dimensions of the array must be square",
     "output_type": "error",
     "traceback": [
      "\u001b[0;31m---------------------------------------------------------------------------\u001b[0m",
      "\u001b[0;31mLinAlgError\u001b[0m                               Traceback (most recent call last)",
      "Cell \u001b[0;32mIn[49], line 3\u001b[0m\n\u001b[1;32m      1\u001b[0m A2 \u001b[39m=\u001b[39m np\u001b[39m.\u001b[39marray([[\u001b[39m3\u001b[39m,\u001b[39m-\u001b[39m\u001b[39m4\u001b[39m,\u001b[39m5\u001b[39m],[\u001b[39m-\u001b[39m\u001b[39m1\u001b[39m,\u001b[39m2\u001b[39m,\u001b[39m-\u001b[39m\u001b[39m4\u001b[39m]])\n\u001b[1;32m      2\u001b[0m B2 \u001b[39m=\u001b[39m np\u001b[39m.\u001b[39marray([\u001b[39m10\u001b[39m,\u001b[39m8\u001b[39m])\n\u001b[0;32m----> 3\u001b[0m X2 \u001b[39m=\u001b[39m np\u001b[39m.\u001b[39;49mlinalg\u001b[39m.\u001b[39;49msolve(A2, B2)\n",
      "File \u001b[0;32m<__array_function__ internals>:200\u001b[0m, in \u001b[0;36msolve\u001b[0;34m(*args, **kwargs)\u001b[0m\n",
      "File \u001b[0;32m~/anaconda3/envs/Py310/lib/python3.10/site-packages/numpy/linalg/linalg.py:373\u001b[0m, in \u001b[0;36msolve\u001b[0;34m(a, b)\u001b[0m\n\u001b[1;32m    371\u001b[0m a, _ \u001b[39m=\u001b[39m _makearray(a)\n\u001b[1;32m    372\u001b[0m _assert_stacked_2d(a)\n\u001b[0;32m--> 373\u001b[0m _assert_stacked_square(a)\n\u001b[1;32m    374\u001b[0m b, wrap \u001b[39m=\u001b[39m _makearray(b)\n\u001b[1;32m    375\u001b[0m t, result_t \u001b[39m=\u001b[39m _commonType(a, b)\n",
      "File \u001b[0;32m~/anaconda3/envs/Py310/lib/python3.10/site-packages/numpy/linalg/linalg.py:190\u001b[0m, in \u001b[0;36m_assert_stacked_square\u001b[0;34m(*arrays)\u001b[0m\n\u001b[1;32m    188\u001b[0m m, n \u001b[39m=\u001b[39m a\u001b[39m.\u001b[39mshape[\u001b[39m-\u001b[39m\u001b[39m2\u001b[39m:]\n\u001b[1;32m    189\u001b[0m \u001b[39mif\u001b[39;00m m \u001b[39m!=\u001b[39m n:\n\u001b[0;32m--> 190\u001b[0m     \u001b[39mraise\u001b[39;00m LinAlgError(\u001b[39m'\u001b[39m\u001b[39mLast 2 dimensions of the array must be square\u001b[39m\u001b[39m'\u001b[39m)\n",
      "\u001b[0;31mLinAlgError\u001b[0m: Last 2 dimensions of the array must be square"
     ]
    }
   ],
   "source": [
    "A2 = np.array([[3,-4,5],[-1,2,-4]])\n",
    "B2 = np.array([10,8])\n",
    "X2 = np.linalg.solve(A2, B2)"
   ]
  },
  {
   "attachments": {},
   "cell_type": "markdown",
   "metadata": {},
   "source": [
    "For matrix determinant or matrix inversion, the matrix has to be square matrices, which defines the number of solutions, hence the system of equations are unsolvable."
   ]
  }
 ],
 "metadata": {
  "kernelspec": {
   "display_name": "Py310",
   "language": "python",
   "name": "python3"
  },
  "language_info": {
   "codemirror_mode": {
    "name": "ipython",
    "version": 3
   },
   "file_extension": ".py",
   "mimetype": "text/x-python",
   "name": "python",
   "nbconvert_exporter": "python",
   "pygments_lexer": "ipython3",
   "version": "3.10.11"
  },
  "orig_nbformat": 4
 },
 "nbformat": 4,
 "nbformat_minor": 2
}
