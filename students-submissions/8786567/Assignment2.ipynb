{
 "cells": [
  {
   "attachments": {},
   "cell_type": "markdown",
   "metadata": {},
   "source": [
    "## Assignment 2\n",
    "## Student Name : Justin Joseph\n",
    "## Student Id : 8786567"
   ]
  },
  {
   "cell_type": "code",
   "execution_count": 77,
   "metadata": {},
   "outputs": [
    {
     "data": {
      "text/html": [
       "<div>\n",
       "<style scoped>\n",
       "    .dataframe tbody tr th:only-of-type {\n",
       "        vertical-align: middle;\n",
       "    }\n",
       "\n",
       "    .dataframe tbody tr th {\n",
       "        vertical-align: top;\n",
       "    }\n",
       "\n",
       "    .dataframe thead th {\n",
       "        text-align: right;\n",
       "    }\n",
       "</style>\n",
       "<table border=\"1\" class=\"dataframe\">\n",
       "  <thead>\n",
       "    <tr style=\"text-align: right;\">\n",
       "      <th></th>\n",
       "      <th>Age</th>\n",
       "      <th>Sex</th>\n",
       "      <th>ChestPainType</th>\n",
       "      <th>RestingBP</th>\n",
       "      <th>Cholesterol</th>\n",
       "      <th>FastingBS</th>\n",
       "      <th>RestingECG</th>\n",
       "      <th>MaxHR</th>\n",
       "      <th>ExerciseAngina</th>\n",
       "      <th>Oldpeak</th>\n",
       "      <th>ST_Slope</th>\n",
       "      <th>HeartDisease</th>\n",
       "    </tr>\n",
       "  </thead>\n",
       "  <tbody>\n",
       "    <tr>\n",
       "      <th>0</th>\n",
       "      <td>40</td>\n",
       "      <td>M</td>\n",
       "      <td>ATA</td>\n",
       "      <td>140</td>\n",
       "      <td>289</td>\n",
       "      <td>0</td>\n",
       "      <td>Normal</td>\n",
       "      <td>172</td>\n",
       "      <td>N</td>\n",
       "      <td>0.0</td>\n",
       "      <td>Up</td>\n",
       "      <td>0</td>\n",
       "    </tr>\n",
       "    <tr>\n",
       "      <th>1</th>\n",
       "      <td>49</td>\n",
       "      <td>F</td>\n",
       "      <td>NAP</td>\n",
       "      <td>160</td>\n",
       "      <td>180</td>\n",
       "      <td>0</td>\n",
       "      <td>Normal</td>\n",
       "      <td>156</td>\n",
       "      <td>N</td>\n",
       "      <td>1.0</td>\n",
       "      <td>Flat</td>\n",
       "      <td>1</td>\n",
       "    </tr>\n",
       "    <tr>\n",
       "      <th>2</th>\n",
       "      <td>37</td>\n",
       "      <td>M</td>\n",
       "      <td>ATA</td>\n",
       "      <td>130</td>\n",
       "      <td>283</td>\n",
       "      <td>0</td>\n",
       "      <td>ST</td>\n",
       "      <td>98</td>\n",
       "      <td>N</td>\n",
       "      <td>0.0</td>\n",
       "      <td>Up</td>\n",
       "      <td>0</td>\n",
       "    </tr>\n",
       "    <tr>\n",
       "      <th>3</th>\n",
       "      <td>48</td>\n",
       "      <td>F</td>\n",
       "      <td>ASY</td>\n",
       "      <td>138</td>\n",
       "      <td>214</td>\n",
       "      <td>0</td>\n",
       "      <td>Normal</td>\n",
       "      <td>108</td>\n",
       "      <td>Y</td>\n",
       "      <td>1.5</td>\n",
       "      <td>Flat</td>\n",
       "      <td>1</td>\n",
       "    </tr>\n",
       "    <tr>\n",
       "      <th>4</th>\n",
       "      <td>54</td>\n",
       "      <td>M</td>\n",
       "      <td>NAP</td>\n",
       "      <td>150</td>\n",
       "      <td>195</td>\n",
       "      <td>0</td>\n",
       "      <td>Normal</td>\n",
       "      <td>122</td>\n",
       "      <td>N</td>\n",
       "      <td>0.0</td>\n",
       "      <td>Up</td>\n",
       "      <td>0</td>\n",
       "    </tr>\n",
       "  </tbody>\n",
       "</table>\n",
       "</div>"
      ],
      "text/plain": [
       "   Age Sex ChestPainType  RestingBP  Cholesterol  FastingBS RestingECG  MaxHR   \n",
       "0   40   M           ATA        140          289          0     Normal    172  \\\n",
       "1   49   F           NAP        160          180          0     Normal    156   \n",
       "2   37   M           ATA        130          283          0         ST     98   \n",
       "3   48   F           ASY        138          214          0     Normal    108   \n",
       "4   54   M           NAP        150          195          0     Normal    122   \n",
       "\n",
       "  ExerciseAngina  Oldpeak ST_Slope  HeartDisease  \n",
       "0              N      0.0       Up             0  \n",
       "1              N      1.0     Flat             1  \n",
       "2              N      0.0       Up             0  \n",
       "3              Y      1.5     Flat             1  \n",
       "4              N      0.0       Up             0  "
      ]
     },
     "execution_count": 77,
     "metadata": {},
     "output_type": "execute_result"
    }
   ],
   "source": [
    "import pandas as pd\n",
    "import numpy as np\n",
    "import matplotlib.pyplot as plt\n",
    "from scipy import stats\n",
    "from sklearn.model_selection import train_test_split\n",
    "from sklearn.preprocessing import LabelEncoder, OneHotEncoder, StandardScaler\n",
    "from sklearn.svm import SVC\n",
    "from sklearn.ensemble import BaggingClassifier\n",
    "from sklearn.tree import DecisionTreeClassifier\n",
    "from sklearn.metrics import confusion_matrix, accuracy_score, precision_score, recall_score, f1_score,roc_auc_score\n",
    "\n",
    "df = pd.read_csv('heart.csv')\n",
    "\n",
    "df.head()"
   ]
  },
  {
   "cell_type": "code",
   "execution_count": 78,
   "metadata": {},
   "outputs": [
    {
     "data": {
      "text/plain": [
       "(918, 12)"
      ]
     },
     "execution_count": 78,
     "metadata": {},
     "output_type": "execute_result"
    }
   ],
   "source": [
    "df.shape"
   ]
  },
  {
   "cell_type": "code",
   "execution_count": 79,
   "metadata": {},
   "outputs": [
    {
     "name": "stdout",
     "output_type": "stream",
     "text": [
      "<class 'pandas.core.frame.DataFrame'>\n",
      "RangeIndex: 918 entries, 0 to 917\n",
      "Data columns (total 12 columns):\n",
      " #   Column          Non-Null Count  Dtype  \n",
      "---  ------          --------------  -----  \n",
      " 0   Age             918 non-null    int64  \n",
      " 1   Sex             918 non-null    object \n",
      " 2   ChestPainType   918 non-null    object \n",
      " 3   RestingBP       918 non-null    int64  \n",
      " 4   Cholesterol     918 non-null    int64  \n",
      " 5   FastingBS       918 non-null    int64  \n",
      " 6   RestingECG      918 non-null    object \n",
      " 7   MaxHR           918 non-null    int64  \n",
      " 8   ExerciseAngina  918 non-null    object \n",
      " 9   Oldpeak         918 non-null    float64\n",
      " 10  ST_Slope        918 non-null    object \n",
      " 11  HeartDisease    918 non-null    int64  \n",
      "dtypes: float64(1), int64(6), object(5)\n",
      "memory usage: 86.2+ KB\n"
     ]
    }
   ],
   "source": [
    "df.info()"
   ]
  },
  {
   "attachments": {},
   "cell_type": "markdown",
   "metadata": {},
   "source": [
    "Removing duplicates and null values"
   ]
  },
  {
   "cell_type": "code",
   "execution_count": 80,
   "metadata": {},
   "outputs": [],
   "source": [
    "df.isnull().values.any()\n",
    "df.drop_duplicates(inplace=True)"
   ]
  },
  {
   "cell_type": "code",
   "execution_count": 81,
   "metadata": {},
   "outputs": [
    {
     "data": {
      "image/png": "[encoded data removed]",
      "text/plain": [
       "<Figure size 640x480 with 1 Axes>"
      ]
     },
     "metadata": {},
     "output_type": "display_data"
    }
   ],
   "source": [
    "\n",
    "class_counts = df['HeartDisease'].value_counts()\n",
    "\n",
    "# Plotting the bar chart\n",
    "plt.bar(class_counts.index, class_counts.values)\n",
    "plt.xlabel('Heart Disease')\n",
    "plt.ylabel('Count')\n",
    "plt.title('Class Distribution of Heart Disease')\n",
    "plt.xticks(class_counts.index, labels=['Healthy', 'Disease'])\n",
    "plt.show()\n"
   ]
  },
  {
   "cell_type": "code",
   "execution_count": 82,
   "metadata": {},
   "outputs": [
    {
     "name": "stderr",
     "output_type": "stream",
     "text": [
      "/tmp/ipykernel_4516/646338361.py:16: SettingWithCopyWarning: \n",
      "A value is trying to be set on a copy of a slice from a DataFrame.\n",
      "Try using .loc[row_indexer,col_indexer] = value instead\n",
      "\n",
      "See the caveats in the documentation: https://pandas.pydata.org/pandas-docs/stable/user_guide/indexing.html#returning-a-view-versus-a-copy\n",
      "  dfNoOutliers[col] = labelEncoder.fit_transform(dfNoOutliers[col])\n"
     ]
    }
   ],
   "source": [
    "# Convert relevant columns to numeric types\n",
    "numericCols = ['Age', 'RestingBP', 'Cholesterol', 'MaxHR', 'Oldpeak']\n",
    "df[numericCols] = df[numericCols].apply(pd.to_numeric)\n",
    "\n",
    "# Removing outliers using Z-score\n",
    "zScores = np.abs(stats.zscore(df[numericCols]))\n",
    "dfNoOutliers = df[(zScores < 3).all(axis=1)]\n",
    "\n",
    "# Convert text columns to numbers using label encoding and one-hot encoding\n",
    "from sklearn.preprocessing import LabelEncoder, OneHotEncoder\n",
    "\n",
    "# Label encoding for binary categorical columns\n",
    "binaryCols = ['Sex', 'FastingBS', 'ExerciseAngina']\n",
    "labelEncoder = LabelEncoder()\n",
    "for col in binaryCols:\n",
    "    dfNoOutliers[col] = labelEncoder.fit_transform(dfNoOutliers[col])\n",
    "\n",
    "# Encoding for non-binary categorical columns\n",
    "categoricalCols = ['ChestPainType', 'RestingECG', 'ST_Slope']\n",
    "dfNoOutliers = pd.get_dummies(dfNoOutliers, columns=categoricalCols)\n",
    "\n",
    "# Apply scaling to the numerical features\n",
    "from sklearn.preprocessing import StandardScaler\n",
    "\n",
    "scaler = StandardScaler()\n",
    "dfNoOutliers[numericCols] = scaler.fit_transform(dfNoOutliers[numericCols])\n"
   ]
  },
  {
   "cell_type": "code",
   "execution_count": 83,
   "metadata": {},
   "outputs": [
    {
     "name": "stdout",
     "output_type": "stream",
     "text": [
      "SVM Standalone Model Accuracy: 0.89\n",
      "Decision Tree Standalone Model Accuracy: 0.79\n"
     ]
    }
   ],
   "source": [
    "# Assuming 'HeartDisease' is the target column\n",
    "X = dfNoOutliers.drop('HeartDisease', axis=1)\n",
    "y = dfNoOutliers['HeartDisease']\n",
    "\n",
    "# Split the data into training and testing sets\n",
    "XTrain, XTest, yTrain, yTest = train_test_split(X, y, test_size=0.2, random_state=42)\n",
    "\n",
    "# SVM standalone model\n",
    "svmModel = SVC(kernel='linear')\n",
    "svmModel.fit(XTrain, yTrain)\n",
    "svmPredictions = svmModel.predict(XTest)\n",
    "svmAccuracy = accuracy_score(yTest, svmPredictions)\n",
    "print(f\"SVM Standalone Model Accuracy: {svmAccuracy:.2f}\")\n",
    "\n",
    "# Decision Tree standalone model\n",
    "dtModel = DecisionTreeClassifier(random_state=42)\n",
    "dtModel.fit(XTrain, yTrain)\n",
    "dtPredictions = dtModel.predict(XTest)\n",
    "dtAccuracy = accuracy_score(yTest, dtPredictions)\n",
    "print(f\"Decision Tree Standalone Model Accuracy: {dtAccuracy:.2f}\")\n",
    "\n"
   ]
  },
  {
   "cell_type": "code",
   "execution_count": 84,
   "metadata": {},
   "outputs": [
    {
     "name": "stderr",
     "output_type": "stream",
     "text": [
      "/home/justin/anaconda3/envs/Py310/lib/python3.10/site-packages/sklearn/ensemble/_base.py:166: FutureWarning: `base_estimator` was renamed to `estimator` in version 1.2 and will be removed in 1.4.\n",
      "  warnings.warn(\n"
     ]
    },
    {
     "name": "stdout",
     "output_type": "stream",
     "text": [
      "SVM Bagging Model Accuracy: 0.89\n",
      "Decision Tree Bagging Model Accuracy: 0.88\n"
     ]
    },
    {
     "name": "stderr",
     "output_type": "stream",
     "text": [
      "/home/justin/anaconda3/envs/Py310/lib/python3.10/site-packages/sklearn/ensemble/_base.py:166: FutureWarning: `base_estimator` was renamed to `estimator` in version 1.2 and will be removed in 1.4.\n",
      "  warnings.warn(\n"
     ]
    }
   ],
   "source": [
    "from sklearn.ensemble import BaggingClassifier\n",
    "\n",
    "# SVM Bagging model\n",
    "svmBaggingModel = BaggingClassifier(base_estimator=SVC(kernel='linear'), random_state=42)\n",
    "svmBaggingModel.fit(XTrain, yTrain)\n",
    "svmBaggingPredictions = svmBaggingModel.predict(XTest)\n",
    "svmBaggingAccuracy = accuracy_score(yTest, svmBaggingPredictions)\n",
    "print(f\"SVM Bagging Model Accuracy: {svmBaggingAccuracy:.2f}\")\n",
    "\n",
    "# Decision Tree Bagging model\n",
    "dtBaggingModel = BaggingClassifier(base_estimator=DecisionTreeClassifier(random_state=42), random_state=42)\n",
    "dtBaggingModel.fit(XTrain, yTrain)\n",
    "dtBaggingPredictions = dtBaggingModel.predict(XTest)\n",
    "dtBaggingAccuracy = accuracy_score(yTest, dtBaggingPredictions)\n",
    "print(f\"Decision Tree Bagging Model Accuracy: {dtBaggingAccuracy:.2f}\")\n",
    "\n"
   ]
  },
  {
   "cell_type": "code",
   "execution_count": 85,
   "metadata": {},
   "outputs": [
    {
     "name": "stdout",
     "output_type": "stream",
     "text": [
      "SVM Standalone Metrics:\n",
      "Accuracy: 0.89\n",
      "Precision: 0.84\n",
      "Recall: 0.98\n",
      "F1-Score: 0.90\n",
      "AUC-ROC: 0.88\n",
      "Confusion Matrix:\n",
      "[[68 18]\n",
      " [ 2 92]]\n",
      "\n",
      "\n",
      "Decision Tree Standalone Metrics:\n",
      "Accuracy: 0.79\n",
      "Precision: 0.81\n",
      "Recall: 0.79\n",
      "F1-Score: 0.80\n",
      "AUC-ROC: 0.79\n",
      "Confusion Matrix:\n",
      "[[69 17]\n",
      " [20 74]]\n",
      "\n",
      "\n",
      "SVM Bagging Metrics:\n",
      "Accuracy: 0.89\n",
      "Precision: 0.85\n",
      "Recall: 0.97\n",
      "F1-Score: 0.91\n",
      "AUC-ROC: 0.89\n",
      "Confusion Matrix:\n",
      "[[70 16]\n",
      " [ 3 91]]\n",
      "\n",
      "\n",
      "Decision Tree Bagging Metrics:\n",
      "Accuracy: 0.88\n",
      "Precision: 0.88\n",
      "Recall: 0.89\n",
      "F1-Score: 0.88\n",
      "AUC-ROC: 0.88\n",
      "Confusion Matrix:\n",
      "[[74 12]\n",
      " [10 84]]\n",
      "\n",
      "\n"
     ]
    }
   ],
   "source": [
    "# Evaluation metrics\n",
    "def printMetrics(yTrue, yPred, modelName):\n",
    "    accuracy = accuracy_score(yTrue, yPred)\n",
    "    precision = precision_score(yTrue, yPred)\n",
    "    recall = recall_score(yTrue, yPred)\n",
    "    f1 = f1_score(yTrue, yPred)\n",
    "    aucRoc = roc_auc_score(yTrue, yPred)\n",
    "    confMatrix = confusion_matrix(yTrue, yPred)\n",
    "    \n",
    "    print(f\"{modelName} Metrics:\")\n",
    "    print(f\"Accuracy: {accuracy:.2f}\")\n",
    "    print(f\"Precision: {precision:.2f}\")\n",
    "    print(f\"Recall: {recall:.2f}\")\n",
    "    print(f\"F1-Score: {f1:.2f}\")\n",
    "    print(f\"AUC-ROC: {aucRoc:.2f}\")\n",
    "    print(\"Confusion Matrix:\")\n",
    "    print(confMatrix)\n",
    "    print(\"\\n\")\n",
    "\n",
    "# Print metrics for standalone models\n",
    "printMetrics(yTest, svmPredictions, \"SVM Standalone\")\n",
    "printMetrics(yTest, dtPredictions, \"Decision Tree Standalone\")\n",
    "\n",
    "# Print metrics for Bagging models\n",
    "printMetrics(yTest, svmBaggingPredictions, \"SVM Bagging\")\n",
    "printMetrics(yTest, dtBaggingPredictions, \"Decision Tree Bagging\")"
   ]
  },
  {
   "attachments": {},
   "cell_type": "markdown",
   "metadata": {},
   "source": [
    "The SVM Standalone model achieves a high accuracy of 0.89 with good precision (84%) and high recall (98%) for identifying positive instances. The Decision Tree Standalone model shows moderate performance with an accuracy of 0.79, precision of 81%, and recall of 79%. However, Bagging significantly improves both models, with SVM Bagging achieving an accuracy of 0.89, precision of 85%, and recall of 97%, and Decision Tree Bagging achieving an accuracy of 0.88, precision of 88%, and recall of 89%. Overall, Bagging enhances the performance of both models, with the Decision Tree model benefiting the most from this approach.\n",
    "\n",
    "\n",
    "\n",
    "\n"
   ]
  }
 ],
 "metadata": {
  "kernelspec": {
   "display_name": "Py310",
   "language": "python",
   "name": "python3"
  },
  "language_info": {
   "codemirror_mode": {
    "name": "ipython",
    "version": 3
   },
   "file_extension": ".py",
   "mimetype": "text/x-python",
   "name": "python",
   "nbconvert_exporter": "python",
   "pygments_lexer": "ipython3",
   "version": "3.10.11"
  },
  "orig_nbformat": 4
 },
 "nbformat": 4,
 "nbformat_minor": 2
}
