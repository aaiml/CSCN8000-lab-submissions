{
 "cells": [
  {
   "attachments": {},
   "cell_type": "markdown",
   "metadata": {},
   "source": [
    "Practical Lab-1  Mohammed Abuzar Younus - 8903244\n",
    "Basic Numpy Operations\n",
    "Part-A\n"
   ]
  },
  {
   "attachments": {},
   "cell_type": "markdown",
   "metadata": {},
   "source": [
    "1.Create a Notebook to demonstrate NumPy Operations."
   ]
  },
  {
   "cell_type": "code",
   "execution_count": 2,
   "metadata": {},
   "outputs": [],
   "source": [
    "import numpy as np \n"
   ]
  },
  {
   "attachments": {},
   "cell_type": "markdown",
   "metadata": {},
   "source": [
    "2.Create an array that starts from the integer 1, ends at 20, incremented by 3."
   ]
  },
  {
   "cell_type": "code",
   "execution_count": 3,
   "metadata": {},
   "outputs": [
    {
     "name": "stdout",
     "output_type": "stream",
     "text": [
      "array_with_steps : [ 1  4  7 10 13 16 19]\n"
     ]
    }
   ],
   "source": [
    "array_with_steps = np.arange(1, 20, 3) # (start,stop, step)\n",
    "print(\"array_with_steps :\", array_with_steps)"
   ]
  },
  {
   "attachments": {},
   "cell_type": "markdown",
   "metadata": {},
   "source": [
    "3.Create a new array of shape 3 with random numbers between 0 and 1"
   ]
  },
  {
   "cell_type": "code",
   "execution_count": 4,
   "metadata": {},
   "outputs": [
    {
     "name": "stdout",
     "output_type": "stream",
     "text": [
      "array_from_0_to_1 : [0.27350078 0.6444539  0.52827136]\n"
     ]
    }
   ],
   "source": [
    "array_from_0_to_1 = np.random.rand(3)\n",
    "print(\"array_from_0_to_1 :\",array_from_0_to_1)"
   ]
  },
  {
   "attachments": {},
   "cell_type": "markdown",
   "metadata": {},
   "source": [
    "4.Create a 2 D array [[10,20,45], [30,12,16], [42,17,56]] and perform the following operations:\n",
    "Slice the 2D array to get the first two rows,\n",
    "slice the 2D array to get the last two rows."
   ]
  },
  {
   "cell_type": "code",
   "execution_count": 5,
   "metadata": {},
   "outputs": [
    {
     "name": "stdout",
     "output_type": "stream",
     "text": [
      "[[10 20 45]\n",
      " [30 12 16]\n",
      " [42 17 56]]\n",
      "The dimensions of the array_2d: 2\n",
      "First two rows: [[10 20 45]\n",
      " [30 12 16]]\n",
      "Last two rows: [[30 12 16]\n",
      " [42 17 56]]\n"
     ]
    }
   ],
   "source": [
    "array = np.array([[10, 20, 45], [30, 12, 16], [42, 17, 56]])\n",
    "print(array)\n",
    "print(\"The dimensions of the array_2d:\", array.ndim)\n",
    "\n",
    "# Slice the 2D array to get the first two rows\n",
    "\n",
    "first_two_rows = array[:2, :]\n",
    "print(\"First two rows:\", first_two_rows)\n",
    "\n",
    "# Slice the 2D array to get the last two rows\n",
    "\n",
    "last_two_rows = array[1:, :]\n",
    "print(\"Last two rows:\", last_two_rows)"
   ]
  },
  {
   "attachments": {},
   "cell_type": "markdown",
   "metadata": {},
   "source": [
    "5. Create two 2x2 arrays and demonstrate how you can stack the elements vertically, horizontally, and split the arrays into smaller arrays."
   ]
  },
  {
   "cell_type": "code",
   "execution_count": 6,
   "metadata": {},
   "outputs": [
    {
     "name": "stdout",
     "output_type": "stream",
     "text": [
      "The horizontally stacked array is : \n",
      " [[11 12 15 16]\n",
      " [13 14 17 18]]\n",
      "The vertically stacked array is : \n",
      " [[11 12]\n",
      " [13 14]\n",
      " [15 16]\n",
      " [17 18]]\n",
      "The splitted arrays generated from h_array splitting are: \n",
      " [array([[11],\n",
      "       [13]]), array([[12],\n",
      "       [14]]), array([[15],\n",
      "       [17]]), array([[16],\n",
      "       [18]])]\n",
      "The splitted arrays generated from v_array splitting are: \n",
      " [array([[11, 12]]), array([[13, 14]]), array([[15, 16]]), array([[17, 18]])]\n"
     ]
    }
   ],
   "source": [
    "# Create the two 2x2 array\n",
    "\n",
    "arr1 = np.array([[11,12],[13,14]])\n",
    "arr2 = np.array([[15,16],[17,18]])\n",
    "\n",
    "# Stack the arrays horizontally\n",
    "h_stack = np.hstack((arr1, arr2))\n",
    "print(\"The horizontally stacked array is : \\n\", h_stack)\n",
    "# Stack the arrays vertically\n",
    "v_stack = np.vstack((arr1, arr2))\n",
    "print(\"The vertically stacked array is : \\n\", v_stack)\n",
    "\n",
    "# Splitting the 2 x 4 horizontally stacked array into 4 smaller arrays along the columns\n",
    "\n",
    "split_h_array = np.array_split(h_stack, indices_or_sections = 4, axis = 1) # Similar to np.vsplit(h_array, 4)\n",
    "print(\"The splitted arrays generated from h_array splitting are: \\n\", split_h_array)\n",
    "\n",
    "# Splitting the 4 x 2 horizontally stacked array into 4 smaller arrays along the rows\n",
    "\n",
    "split_v_array = np.array_split(v_stack, indices_or_sections=4, axis = 0) # Similar to np.hsplit(v_array, 4)\n",
    "print(\"The splitted arrays generated from v_array splitting are: \\n\", split_v_array)\n",
    "\n",
    "\n",
    "\n",
    "\n"
   ]
  },
  {
   "attachments": {},
   "cell_type": "markdown",
   "metadata": {},
   "source": [
    "6. Create two matrices X= ([[5, 7, 2], [4, 5, 6], [7, 4 ,2]]) Y= ([[4, 2], [6, 2], [4, 2]]), Is it possible to multiply these matrices? Demonstrate the case when it is not possible to."
   ]
  },
  {
   "cell_type": "code",
   "execution_count": 7,
   "metadata": {},
   "outputs": [
    {
     "name": "stdout",
     "output_type": "stream",
     "text": [
      "The shape of X matrix is: \n",
      " (3, 3)\n",
      "The shape of Y matrix is: \n",
      " (3, 2)\n",
      "The product of X and Y is a 3 X 2 matrix: \n",
      " [[70 28]\n",
      " [70 30]\n",
      " [60 26]]\n",
      "Yes it is possible and shown in above example.\n"
     ]
    }
   ],
   "source": [
    "X = np.array([[5, 7, 2], [4, 5, 6], [7, 4 ,2]])\n",
    "Y = np.array([[4, 2], [6, 2], [4, 2]])\n",
    "print(\"The shape of X matrix is: \\n\", X.shape)\n",
    "print(\"The shape of Y matrix is: \\n\", Y.shape)\n",
    "\n",
    "# Multiply X and Y matrices\n",
    "\n",
    "# As the number of columns in X matrix is equal to the number of rows in Y matrix, we can multiply X with Y\n",
    "\n",
    "Z = np.matmul(X, Y) # we can achieve the same with Z = X @ Y  or Z = X.dot(Y)\n",
    "\n",
    "print(\"The product of X and Y is a 3 X 2 matrix: \\n\", Z)\n",
    "print(\"Yes it is possible and shown in above example.\")"
   ]
  },
  {
   "attachments": {},
   "cell_type": "markdown",
   "metadata": {},
   "source": [
    "7.Create two arrays, x = ([2, -1, -8]) y = ([3, 1, -2]), Find the Shape, Number of dimensions of vector x.\n",
    "\n",
    "\n",
    "     "
   ]
  },
  {
   "cell_type": "code",
   "execution_count": 8,
   "metadata": {},
   "outputs": [
    {
     "name": "stdout",
     "output_type": "stream",
     "text": [
      "Shape of X: (3,)\n",
      "Shape of Y: (3,)\n",
      "Number of dimensions X: 1\n",
      "Number of dimensions Y: 1\n"
     ]
    }
   ],
   "source": [
    "X = np.array([2, -1, -8])\n",
    "Y = np.array([3, 1, -2])\n",
    "\n",
    "\n",
    "print(\"Shape of X:\", X.shape)\n",
    "print(\"Shape of Y:\", Y.shape)\n",
    "\n",
    "\n",
    "print(\"Number of dimensions X:\", X.ndim)\n",
    "print(\"Number of dimensions Y:\", Y.ndim)"
   ]
  },
  {
   "attachments": {},
   "cell_type": "markdown",
   "metadata": {},
   "source": [
    "Reshape the vector x to a matrix of size (3,1) and determine the number of dimensions after reshaping y to a matrix of (3,1)"
   ]
  },
  {
   "cell_type": "code",
   "execution_count": 9,
   "metadata": {},
   "outputs": [
    {
     "name": "stdout",
     "output_type": "stream",
     "text": [
      "[[ 2]\n",
      " [-1]\n",
      " [-8]]\n",
      "[[ 3]\n",
      " [ 1]\n",
      " [-2]]\n",
      "Number of dimensions after reshaping X: 2\n",
      "Number of dimensions after reshaping Y: 2\n"
     ]
    }
   ],
   "source": [
    "X_reshaped = X.reshape(3, 1)\n",
    "Y_reshaped = Y.reshape(3, 1)\n",
    "print(X_reshaped)\n",
    "print(Y_reshaped)\n",
    "print(\"Number of dimensions after reshaping X:\", X_reshaped.ndim)\n",
    "print(\"Number of dimensions after reshaping Y:\", Y_reshaped.ndim)"
   ]
  },
  {
   "attachments": {},
   "cell_type": "markdown",
   "metadata": {},
   "source": [
    "8. How does broadcasting work? Demonstrate the subtraction, multiplication by considering a 3 x 3 matrix.\n",
    "Broadcasting is a feature of NumPy which used for arithmetic operations on arrays with different matrix sizes. When any arithmetic operation is applied on a matrix, numpy vectorizes the array operation by looping through the matrix element by element. This process is called as broadcasting."
   ]
  },
  {
   "cell_type": "code",
   "execution_count": 10,
   "metadata": {},
   "outputs": [
    {
     "name": "stdout",
     "output_type": "stream",
     "text": [
      "Original Matrix:\n",
      "[[1 2 3]\n",
      " [4 5 6]\n",
      " [7 8 9]]\n",
      "\n",
      "Subtraction Result:\n",
      "[[-1  0  1]\n",
      " [ 2  3  4]\n",
      " [ 5  6  7]]\n",
      "\n",
      "Multiplication Result:\n",
      "[[ 3  6  9]\n",
      " [12 15 18]\n",
      " [21 24 27]]\n"
     ]
    }
   ],
   "source": [
    "\n",
    "\n",
    "# Create a 3x3 matrix\n",
    "mat1 = np.array([[1, 2, 3],[4, 5, 6],[7, 8, 9]])\n",
    "mat2 = 2\n",
    "# Perform subtraction operation\n",
    "subtraction_result = mat1 - mat2\n",
    "\n",
    "# Perform multiplication operation\n",
    "multiplication_result = mat1 * 3\n",
    "\n",
    "# Print the original matrix\n",
    "print(\"Original Matrix:\")\n",
    "print(mat1)\n",
    "\n",
    "# Print the result of subtraction\n",
    "print(\"\\nSubtraction Result:\")\n",
    "print(subtraction_result)\n",
    "\n",
    "# Print the result of multiplication\n",
    "print(\"\\nMultiplication Result:\")\n",
    "print(multiplication_result)\n"
   ]
  },
  {
   "attachments": {},
   "cell_type": "markdown",
   "metadata": {},
   "source": [
    "Part B\n",
    "\n",
    " 1.Solve the following two system of linear equations using matrices (find the values of x1 and x2) and \n",
    "\n",
    "  determine the number of solutions using the functions. \n",
    "         \n",
    "  1.2x1+3x2-4x3=6,x1-4x2=8"
   ]
  },
  {
   "attachments": {},
   "cell_type": "markdown",
   "metadata": {},
   "source": [
    "2x1 + 3x2 - 4x3 = 6\n",
    "x1 - 4x2 = 8\n",
    "We can represent this system in matrix form as AX = B, where A is the coefficient matrix, X is the variable matrix, and B is the constant matrix.\n",
    "\n",
    "Coefficient Matrix (A):\n",
    "\n",
    "|  2   3  -4 |\n",
    "|  1  -4   0 |\n",
    "\n",
    "Variable Matrix (X):\n",
    "| x1 |\n",
    "| x2 |\n",
    "| x3 |\n",
    "\n",
    "|  6 |\n",
    "|  8 |\n",
    "\n",
    "\n",
    "To solve for X, we can use the equation X = A^(-1) * B, where A^(-1) is the inverse of matrix A."
   ]
  },
  {
   "cell_type": "code",
   "execution_count": 11,
   "metadata": {},
   "outputs": [
    {
     "name": "stdout",
     "output_type": "stream",
     "text": [
      "Solution:\n",
      "x1 = 2\n",
      "x2 = -1\n"
     ]
    }
   ],
   "source": [
    "# Coefficient Matrix A\n",
    "A = np.array([[2, 3, -4],\n",
    "              [1, -4, 0]])\n",
    "\n",
    "# Constant Matrix B\n",
    "B = np.array([6, 8])\n",
    "\n",
    "# Solve for X\n",
    "\n",
    "\n",
    "print(\"Solution:\")\n",
    "print(\"x1 =\", X[0])\n",
    "print(\"x2 =\", X[1])"
   ]
  },
  {
   "attachments": {},
   "cell_type": "markdown",
   "metadata": {},
   "source": [
    "X = np.linalg.solve(A, B)\n",
    "\n",
    "When attempting to carry out a matrix operation that needs the array's final two dimensions to be square, the LinAlgError occurs. In other words, the matrix's number of rows and columns must match.\n",
    "\n",
    "When using the np.linalg.solve() function to solve a system of linear equations in the provided code, an error is raised. The number of rows and columns must match for the matrix to be a square matrix, as required by the solution() method.\n",
    "\n",
    "The matrix X in the offered example is 2x3, meaning it has 2 rows and 3 columns. The matrix is not square since the number of rows and columns is not equal, hence the solution() function cannot be used.\n",
    "\n",
    "You must make sure that the matrix used to represent the system of linear equations is square in order to correct this issue. This implies that a square matrix should be produced by having an equal number of equations and unknowns."
   ]
  },
  {
   "attachments": {},
   "cell_type": "markdown",
   "metadata": {},
   "source": [
    " 2. 3y1-4y2+5y3=10,-y1+2y2-4y3=8"
   ]
  },
  {
   "cell_type": "code",
   "execution_count": 12,
   "metadata": {},
   "outputs": [
    {
     "name": "stdout",
     "output_type": "stream",
     "text": [
      "\n",
      "Solution:\n",
      "y1 = 3\n",
      "y2 = 1\n",
      "y3 = -2\n"
     ]
    }
   ],
   "source": [
    "A = np.array([[3, -4, 5],\n",
    "              [-1, 2, -4]])\n",
    "\n",
    "# Constant Matrix C\n",
    "C = np.array([10, 8])\n",
    "\n",
    "# Solve for Y\n",
    "\n",
    "\n",
    "print(\"\\nSolution:\")\n",
    "print(\"y1 =\", Y[0])\n",
    "print(\"y2 =\", Y[1])\n",
    "print(\"y3 =\", Y[2])"
   ]
  },
  {
   "attachments": {},
   "cell_type": "markdown",
   "metadata": {},
   "source": [
    "Y = np.linalg.solve(A, C)\n",
    "\n",
    "When attempting to carry out a matrix operation that needs the array's final two dimensions to be square, the LinAlgError occurs. In other words, the matrix's number of rows and columns must match.\n",
    "\n",
    "When using the np.linalg.solve() function to solve a system of linear equations in the provided code, an error is raised. The number of rows and columns must match for the matrix to be a square matrix, as required by the solution() method.\n",
    "\n",
    "The matrix X in the offered example is 2x3, meaning it has 2 rows and 3 columns. The matrix is not square since the number of rows and columns is not equal, hence the solution() function cannot be used.\n",
    "\n",
    "You must make sure that the matrix used to represent the system of linear equations is square in order to correct this issue. This implies that a square matrix should be produced by having an equal number of equations and unknowns."
   ]
  }
 ],
 "metadata": {
  "kernelspec": {
   "display_name": "Python 3",
   "language": "python",
   "name": "python3"
  },
  "language_info": {
   "codemirror_mode": {
    "name": "ipython",
    "version": 3
   },
   "file_extension": ".py",
   "mimetype": "text/x-python",
   "name": "python",
   "nbconvert_exporter": "python",
   "pygments_lexer": "ipython3",
   "version": "3.11.1"
  },
  "orig_nbformat": 4
 },
 "nbformat": 4,
 "nbformat_minor": 2
}
