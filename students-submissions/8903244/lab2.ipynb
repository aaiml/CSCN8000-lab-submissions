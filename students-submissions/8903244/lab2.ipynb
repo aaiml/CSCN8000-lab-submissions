{
 "cells": [
  {
   "attachments": {},
   "cell_type": "markdown",
   "metadata": {},
   "source": [
    "**Mohammed Abuzar Younus - 8903244**\n"
   ]
  },
  {
   "attachments": {},
   "cell_type": "markdown",
   "metadata": {},
   "source": [
    "***LAB - 2***"
   ]
  },
  {
   "attachments": {},
   "cell_type": "markdown",
   "metadata": {},
   "source": [
    "#### Part A <br>\n",
    "Use the Lab2 dataset provided. Load the dataset and split it into test and train. After that, train the model using Gaussian and Multinominal classifiers and post which model performs better. Use the trained model to perform some predictions on test data."
   ]
  },
  {
   "attachments": {},
   "cell_type": "markdown",
   "metadata": {},
   "source": [
    "Importing all the library requirement"
   ]
  },
  {
   "cell_type": "code",
   "execution_count": 223,
   "metadata": {},
   "outputs": [],
   "source": [
    "import pandas as pd\n",
    "from sklearn.feature_extraction.text import CountVectorizer\n",
    "from sklearn.model_selection import train_test_split\n",
    "from sklearn.naive_bayes import GaussianNB, MultinomialNB\n",
    "from sklearn.metrics import accuracy_score\n",
    "from sklearn.feature_extraction.text import CountVectorizer\n",
    "from sklearn.naive_bayes import GaussianNB\n",
    "from sklearn.naive_bayes import MultinomialNB\n",
    "from sklearn.model_selection import train_test_split\n",
    "from sklearn.metrics import accuracy_score\n",
    "import matplotlib.pyplot as plt"
   ]
  },
  {
   "attachments": {},
   "cell_type": "markdown",
   "metadata": {},
   "source": [
    "Loading the dataset"
   ]
  },
  {
   "cell_type": "code",
   "execution_count": 224,
   "metadata": {},
   "outputs": [
    {
     "data": {
      "text/html": [
       "<div>\n",
       "<style scoped>\n",
       "    .dataframe tbody tr th:only-of-type {\n",
       "        vertical-align: middle;\n",
       "    }\n",
       "\n",
       "    .dataframe tbody tr th {\n",
       "        vertical-align: top;\n",
       "    }\n",
       "\n",
       "    .dataframe thead th {\n",
       "        text-align: right;\n",
       "    }\n",
       "</style>\n",
       "<table border=\"1\" class=\"dataframe\">\n",
       "  <thead>\n",
       "    <tr style=\"text-align: right;\">\n",
       "      <th></th>\n",
       "      <th>Unnamed: 0</th>\n",
       "      <th>label</th>\n",
       "      <th>text</th>\n",
       "      <th>label_num</th>\n",
       "    </tr>\n",
       "  </thead>\n",
       "  <tbody>\n",
       "    <tr>\n",
       "      <th>0</th>\n",
       "      <td>605</td>\n",
       "      <td>ham</td>\n",
       "      <td>Subject: enron methanol ; meter # : 988291\\nth...</td>\n",
       "      <td>0</td>\n",
       "    </tr>\n",
       "    <tr>\n",
       "      <th>1</th>\n",
       "      <td>2349</td>\n",
       "      <td>ham</td>\n",
       "      <td>Subject: hpl nom for january 9 , 2001\\n( see a...</td>\n",
       "      <td>0</td>\n",
       "    </tr>\n",
       "    <tr>\n",
       "      <th>2</th>\n",
       "      <td>3624</td>\n",
       "      <td>ham</td>\n",
       "      <td>Subject: neon retreat\\nho ho ho , we ' re arou...</td>\n",
       "      <td>0</td>\n",
       "    </tr>\n",
       "    <tr>\n",
       "      <th>3</th>\n",
       "      <td>4685</td>\n",
       "      <td>spam</td>\n",
       "      <td>Subject: photoshop , windows , office . cheap ...</td>\n",
       "      <td>1</td>\n",
       "    </tr>\n",
       "    <tr>\n",
       "      <th>4</th>\n",
       "      <td>2030</td>\n",
       "      <td>ham</td>\n",
       "      <td>Subject: re : indian springs\\nthis deal is to ...</td>\n",
       "      <td>0</td>\n",
       "    </tr>\n",
       "    <tr>\n",
       "      <th>...</th>\n",
       "      <td>...</td>\n",
       "      <td>...</td>\n",
       "      <td>...</td>\n",
       "      <td>...</td>\n",
       "    </tr>\n",
       "    <tr>\n",
       "      <th>5166</th>\n",
       "      <td>1518</td>\n",
       "      <td>ham</td>\n",
       "      <td>Subject: put the 10 on the ft\\nthe transport v...</td>\n",
       "      <td>0</td>\n",
       "    </tr>\n",
       "    <tr>\n",
       "      <th>5167</th>\n",
       "      <td>404</td>\n",
       "      <td>ham</td>\n",
       "      <td>Subject: 3 / 4 / 2000 and following noms\\nhpl ...</td>\n",
       "      <td>0</td>\n",
       "    </tr>\n",
       "    <tr>\n",
       "      <th>5168</th>\n",
       "      <td>2933</td>\n",
       "      <td>ham</td>\n",
       "      <td>Subject: calpine daily gas nomination\\n&gt;\\n&gt;\\nj...</td>\n",
       "      <td>0</td>\n",
       "    </tr>\n",
       "    <tr>\n",
       "      <th>5169</th>\n",
       "      <td>1409</td>\n",
       "      <td>ham</td>\n",
       "      <td>Subject: industrial worksheets for august 2000...</td>\n",
       "      <td>0</td>\n",
       "    </tr>\n",
       "    <tr>\n",
       "      <th>5170</th>\n",
       "      <td>4807</td>\n",
       "      <td>spam</td>\n",
       "      <td>Subject: important online banking alert\\ndear ...</td>\n",
       "      <td>1</td>\n",
       "    </tr>\n",
       "  </tbody>\n",
       "</table>\n",
       "<p>5171 rows × 4 columns</p>\n",
       "</div>"
      ],
      "text/plain": [
       "      Unnamed: 0 label                                               text   \n",
       "0            605   ham  Subject: enron methanol ; meter # : 988291\\nth...  \\\n",
       "1           2349   ham  Subject: hpl nom for january 9 , 2001\\n( see a...   \n",
       "2           3624   ham  Subject: neon retreat\\nho ho ho , we ' re arou...   \n",
       "3           4685  spam  Subject: photoshop , windows , office . cheap ...   \n",
       "4           2030   ham  Subject: re : indian springs\\nthis deal is to ...   \n",
       "...          ...   ...                                                ...   \n",
       "5166        1518   ham  Subject: put the 10 on the ft\\nthe transport v...   \n",
       "5167         404   ham  Subject: 3 / 4 / 2000 and following noms\\nhpl ...   \n",
       "5168        2933   ham  Subject: calpine daily gas nomination\\n>\\n>\\nj...   \n",
       "5169        1409   ham  Subject: industrial worksheets for august 2000...   \n",
       "5170        4807  spam  Subject: important online banking alert\\ndear ...   \n",
       "\n",
       "      label_num  \n",
       "0             0  \n",
       "1             0  \n",
       "2             0  \n",
       "3             1  \n",
       "4             0  \n",
       "...         ...  \n",
       "5166          0  \n",
       "5167          0  \n",
       "5168          0  \n",
       "5169          0  \n",
       "5170          1  \n",
       "\n",
       "[5171 rows x 4 columns]"
      ]
     },
     "execution_count": 224,
     "metadata": {},
     "output_type": "execute_result"
    }
   ],
   "source": [
    "# Load the dataset from CSV file\n",
    "data_abu = pd.read_csv('Lab2_dataset.csv')\n",
    "data_abu"
   ]
  },
  {
   "attachments": {},
   "cell_type": "markdown",
   "metadata": {},
   "source": [
    "Checking the top of the dataset"
   ]
  },
  {
   "cell_type": "code",
   "execution_count": 225,
   "metadata": {},
   "outputs": [
    {
     "data": {
      "text/html": [
       "<div>\n",
       "<style scoped>\n",
       "    .dataframe tbody tr th:only-of-type {\n",
       "        vertical-align: middle;\n",
       "    }\n",
       "\n",
       "    .dataframe tbody tr th {\n",
       "        vertical-align: top;\n",
       "    }\n",
       "\n",
       "    .dataframe thead th {\n",
       "        text-align: right;\n",
       "    }\n",
       "</style>\n",
       "<table border=\"1\" class=\"dataframe\">\n",
       "  <thead>\n",
       "    <tr style=\"text-align: right;\">\n",
       "      <th></th>\n",
       "      <th>Unnamed: 0</th>\n",
       "      <th>label</th>\n",
       "      <th>text</th>\n",
       "      <th>label_num</th>\n",
       "    </tr>\n",
       "  </thead>\n",
       "  <tbody>\n",
       "    <tr>\n",
       "      <th>0</th>\n",
       "      <td>605</td>\n",
       "      <td>ham</td>\n",
       "      <td>Subject: enron methanol ; meter # : 988291\\nth...</td>\n",
       "      <td>0</td>\n",
       "    </tr>\n",
       "    <tr>\n",
       "      <th>1</th>\n",
       "      <td>2349</td>\n",
       "      <td>ham</td>\n",
       "      <td>Subject: hpl nom for january 9 , 2001\\n( see a...</td>\n",
       "      <td>0</td>\n",
       "    </tr>\n",
       "    <tr>\n",
       "      <th>2</th>\n",
       "      <td>3624</td>\n",
       "      <td>ham</td>\n",
       "      <td>Subject: neon retreat\\nho ho ho , we ' re arou...</td>\n",
       "      <td>0</td>\n",
       "    </tr>\n",
       "    <tr>\n",
       "      <th>3</th>\n",
       "      <td>4685</td>\n",
       "      <td>spam</td>\n",
       "      <td>Subject: photoshop , windows , office . cheap ...</td>\n",
       "      <td>1</td>\n",
       "    </tr>\n",
       "    <tr>\n",
       "      <th>4</th>\n",
       "      <td>2030</td>\n",
       "      <td>ham</td>\n",
       "      <td>Subject: re : indian springs\\nthis deal is to ...</td>\n",
       "      <td>0</td>\n",
       "    </tr>\n",
       "    <tr>\n",
       "      <th>5</th>\n",
       "      <td>2949</td>\n",
       "      <td>ham</td>\n",
       "      <td>Subject: ehronline web address change\\nthis me...</td>\n",
       "      <td>0</td>\n",
       "    </tr>\n",
       "    <tr>\n",
       "      <th>6</th>\n",
       "      <td>2793</td>\n",
       "      <td>ham</td>\n",
       "      <td>Subject: spring savings certificate - take 30 ...</td>\n",
       "      <td>0</td>\n",
       "    </tr>\n",
       "    <tr>\n",
       "      <th>7</th>\n",
       "      <td>4185</td>\n",
       "      <td>spam</td>\n",
       "      <td>Subject: looking for medication ? we ` re the ...</td>\n",
       "      <td>1</td>\n",
       "    </tr>\n",
       "    <tr>\n",
       "      <th>8</th>\n",
       "      <td>2641</td>\n",
       "      <td>ham</td>\n",
       "      <td>Subject: noms / actual flow for 2 / 26\\nwe agr...</td>\n",
       "      <td>0</td>\n",
       "    </tr>\n",
       "    <tr>\n",
       "      <th>9</th>\n",
       "      <td>1870</td>\n",
       "      <td>ham</td>\n",
       "      <td>Subject: nominations for oct . 21 - 23 , 2000\\...</td>\n",
       "      <td>0</td>\n",
       "    </tr>\n",
       "    <tr>\n",
       "      <th>10</th>\n",
       "      <td>4922</td>\n",
       "      <td>spam</td>\n",
       "      <td>Subject: vocable % rnd - word asceticism\\nvcsc...</td>\n",
       "      <td>1</td>\n",
       "    </tr>\n",
       "    <tr>\n",
       "      <th>11</th>\n",
       "      <td>3799</td>\n",
       "      <td>spam</td>\n",
       "      <td>Subject: report 01405 !\\nwffur attion brom est...</td>\n",
       "      <td>1</td>\n",
       "    </tr>\n",
       "    <tr>\n",
       "      <th>12</th>\n",
       "      <td>1488</td>\n",
       "      <td>ham</td>\n",
       "      <td>Subject: enron / hpl actuals for august 28 , 2...</td>\n",
       "      <td>0</td>\n",
       "    </tr>\n",
       "    <tr>\n",
       "      <th>13</th>\n",
       "      <td>3948</td>\n",
       "      <td>spam</td>\n",
       "      <td>Subject: vic . odin n ^ ow\\nberne hotbox carna...</td>\n",
       "      <td>1</td>\n",
       "    </tr>\n",
       "    <tr>\n",
       "      <th>14</th>\n",
       "      <td>3418</td>\n",
       "      <td>ham</td>\n",
       "      <td>Subject: tenaska iv july\\ndarren :\\nplease rem...</td>\n",
       "      <td>0</td>\n",
       "    </tr>\n",
       "    <tr>\n",
       "      <th>15</th>\n",
       "      <td>4791</td>\n",
       "      <td>spam</td>\n",
       "      <td>Subject: underpriced issue with high return on...</td>\n",
       "      <td>1</td>\n",
       "    </tr>\n",
       "    <tr>\n",
       "      <th>16</th>\n",
       "      <td>2643</td>\n",
       "      <td>ham</td>\n",
       "      <td>Subject: re : first delivery - wheeler operati...</td>\n",
       "      <td>0</td>\n",
       "    </tr>\n",
       "    <tr>\n",
       "      <th>17</th>\n",
       "      <td>3137</td>\n",
       "      <td>ham</td>\n",
       "      <td>Subject: swift - may 2001 vols\\nsean ,\\nfyi , ...</td>\n",
       "      <td>0</td>\n",
       "    </tr>\n",
       "    <tr>\n",
       "      <th>18</th>\n",
       "      <td>1629</td>\n",
       "      <td>ham</td>\n",
       "      <td>Subject: meter variances - ua 4 clean - up\\nda...</td>\n",
       "      <td>0</td>\n",
       "    </tr>\n",
       "    <tr>\n",
       "      <th>19</th>\n",
       "      <td>1858</td>\n",
       "      <td>ham</td>\n",
       "      <td>Subject: additional recruiting\\ni ' m happy to...</td>\n",
       "      <td>0</td>\n",
       "    </tr>\n",
       "  </tbody>\n",
       "</table>\n",
       "</div>"
      ],
      "text/plain": [
       "    Unnamed: 0 label                                               text   \n",
       "0          605   ham  Subject: enron methanol ; meter # : 988291\\nth...  \\\n",
       "1         2349   ham  Subject: hpl nom for january 9 , 2001\\n( see a...   \n",
       "2         3624   ham  Subject: neon retreat\\nho ho ho , we ' re arou...   \n",
       "3         4685  spam  Subject: photoshop , windows , office . cheap ...   \n",
       "4         2030   ham  Subject: re : indian springs\\nthis deal is to ...   \n",
       "5         2949   ham  Subject: ehronline web address change\\nthis me...   \n",
       "6         2793   ham  Subject: spring savings certificate - take 30 ...   \n",
       "7         4185  spam  Subject: looking for medication ? we ` re the ...   \n",
       "8         2641   ham  Subject: noms / actual flow for 2 / 26\\nwe agr...   \n",
       "9         1870   ham  Subject: nominations for oct . 21 - 23 , 2000\\...   \n",
       "10        4922  spam  Subject: vocable % rnd - word asceticism\\nvcsc...   \n",
       "11        3799  spam  Subject: report 01405 !\\nwffur attion brom est...   \n",
       "12        1488   ham  Subject: enron / hpl actuals for august 28 , 2...   \n",
       "13        3948  spam  Subject: vic . odin n ^ ow\\nberne hotbox carna...   \n",
       "14        3418   ham  Subject: tenaska iv july\\ndarren :\\nplease rem...   \n",
       "15        4791  spam  Subject: underpriced issue with high return on...   \n",
       "16        2643   ham  Subject: re : first delivery - wheeler operati...   \n",
       "17        3137   ham  Subject: swift - may 2001 vols\\nsean ,\\nfyi , ...   \n",
       "18        1629   ham  Subject: meter variances - ua 4 clean - up\\nda...   \n",
       "19        1858   ham  Subject: additional recruiting\\ni ' m happy to...   \n",
       "\n",
       "    label_num  \n",
       "0           0  \n",
       "1           0  \n",
       "2           0  \n",
       "3           1  \n",
       "4           0  \n",
       "5           0  \n",
       "6           0  \n",
       "7           1  \n",
       "8           0  \n",
       "9           0  \n",
       "10          1  \n",
       "11          1  \n",
       "12          0  \n",
       "13          1  \n",
       "14          0  \n",
       "15          1  \n",
       "16          0  \n",
       "17          0  \n",
       "18          0  \n",
       "19          0  "
      ]
     },
     "execution_count": 225,
     "metadata": {},
     "output_type": "execute_result"
    }
   ],
   "source": [
    "data_abu.head(20)\n"
   ]
  },
  {
   "attachments": {},
   "cell_type": "markdown",
   "metadata": {},
   "source": [
    "Checking the bottom of the dataset "
   ]
  },
  {
   "cell_type": "code",
   "execution_count": 226,
   "metadata": {},
   "outputs": [
    {
     "data": {
      "text/html": [
       "<div>\n",
       "<style scoped>\n",
       "    .dataframe tbody tr th:only-of-type {\n",
       "        vertical-align: middle;\n",
       "    }\n",
       "\n",
       "    .dataframe tbody tr th {\n",
       "        vertical-align: top;\n",
       "    }\n",
       "\n",
       "    .dataframe thead th {\n",
       "        text-align: right;\n",
       "    }\n",
       "</style>\n",
       "<table border=\"1\" class=\"dataframe\">\n",
       "  <thead>\n",
       "    <tr style=\"text-align: right;\">\n",
       "      <th></th>\n",
       "      <th>Unnamed: 0</th>\n",
       "      <th>label</th>\n",
       "      <th>text</th>\n",
       "      <th>label_num</th>\n",
       "    </tr>\n",
       "  </thead>\n",
       "  <tbody>\n",
       "    <tr>\n",
       "      <th>5151</th>\n",
       "      <td>3762</td>\n",
       "      <td>spam</td>\n",
       "      <td>Subject: fwd : transferring today ?\\nrn $ 0 by...</td>\n",
       "      <td>1</td>\n",
       "    </tr>\n",
       "    <tr>\n",
       "      <th>5152</th>\n",
       "      <td>4778</td>\n",
       "      <td>spam</td>\n",
       "      <td>Subject: oxyyyyconttin no script needeeed\\n{ t...</td>\n",
       "      <td>1</td>\n",
       "    </tr>\n",
       "    <tr>\n",
       "      <th>5153</th>\n",
       "      <td>2583</td>\n",
       "      <td>ham</td>\n",
       "      <td>Subject: feb 12 th sale to aquila\\nfyi\\ndaren ...</td>\n",
       "      <td>0</td>\n",
       "    </tr>\n",
       "    <tr>\n",
       "      <th>5154</th>\n",
       "      <td>2203</td>\n",
       "      <td>ham</td>\n",
       "      <td>Subject: re : hpl meter # 980074 bammel hpl d ...</td>\n",
       "      <td>0</td>\n",
       "    </tr>\n",
       "    <tr>\n",
       "      <th>5155</th>\n",
       "      <td>1904</td>\n",
       "      <td>ham</td>\n",
       "      <td>Subject: cleburne - tenaska iv plant\\ndaren ,\\...</td>\n",
       "      <td>0</td>\n",
       "    </tr>\n",
       "    <tr>\n",
       "      <th>5156</th>\n",
       "      <td>1080</td>\n",
       "      <td>ham</td>\n",
       "      <td>Subject: ami , , ,\\nper our conversation , i w...</td>\n",
       "      <td>0</td>\n",
       "    </tr>\n",
       "    <tr>\n",
       "      <th>5157</th>\n",
       "      <td>256</td>\n",
       "      <td>ham</td>\n",
       "      <td>Subject: 5 th changes @ duke and air liquide\\n...</td>\n",
       "      <td>0</td>\n",
       "    </tr>\n",
       "    <tr>\n",
       "      <th>5158</th>\n",
       "      <td>2789</td>\n",
       "      <td>ham</td>\n",
       "      <td>Subject: imbalance gas\\njust in case worse com...</td>\n",
       "      <td>0</td>\n",
       "    </tr>\n",
       "    <tr>\n",
       "      <th>5159</th>\n",
       "      <td>4381</td>\n",
       "      <td>spam</td>\n",
       "      <td>Subject: pictures\\nstreamlined denizen ajar ch...</td>\n",
       "      <td>1</td>\n",
       "    </tr>\n",
       "    <tr>\n",
       "      <th>5160</th>\n",
       "      <td>760</td>\n",
       "      <td>ham</td>\n",
       "      <td>Subject: mid year prc meeting\\ni would like to...</td>\n",
       "      <td>0</td>\n",
       "    </tr>\n",
       "    <tr>\n",
       "      <th>5161</th>\n",
       "      <td>4979</td>\n",
       "      <td>spam</td>\n",
       "      <td>Subject: penny stocks are about timing\\nnomad ...</td>\n",
       "      <td>1</td>\n",
       "    </tr>\n",
       "    <tr>\n",
       "      <th>5162</th>\n",
       "      <td>4162</td>\n",
       "      <td>spam</td>\n",
       "      <td>Subject: anomaly boys from 3881\\nuosda apaprov...</td>\n",
       "      <td>1</td>\n",
       "    </tr>\n",
       "    <tr>\n",
       "      <th>5163</th>\n",
       "      <td>1428</td>\n",
       "      <td>ham</td>\n",
       "      <td>Subject: re : meter # : 1266 ; august 2000 / a...</td>\n",
       "      <td>0</td>\n",
       "    </tr>\n",
       "    <tr>\n",
       "      <th>5164</th>\n",
       "      <td>4365</td>\n",
       "      <td>spam</td>\n",
       "      <td>Subject: slutty milf wants to meet you\\ntake t...</td>\n",
       "      <td>1</td>\n",
       "    </tr>\n",
       "    <tr>\n",
       "      <th>5165</th>\n",
       "      <td>2849</td>\n",
       "      <td>ham</td>\n",
       "      <td>Subject: fw : crosstex energy , driscoll ranch...</td>\n",
       "      <td>0</td>\n",
       "    </tr>\n",
       "    <tr>\n",
       "      <th>5166</th>\n",
       "      <td>1518</td>\n",
       "      <td>ham</td>\n",
       "      <td>Subject: put the 10 on the ft\\nthe transport v...</td>\n",
       "      <td>0</td>\n",
       "    </tr>\n",
       "    <tr>\n",
       "      <th>5167</th>\n",
       "      <td>404</td>\n",
       "      <td>ham</td>\n",
       "      <td>Subject: 3 / 4 / 2000 and following noms\\nhpl ...</td>\n",
       "      <td>0</td>\n",
       "    </tr>\n",
       "    <tr>\n",
       "      <th>5168</th>\n",
       "      <td>2933</td>\n",
       "      <td>ham</td>\n",
       "      <td>Subject: calpine daily gas nomination\\n&gt;\\n&gt;\\nj...</td>\n",
       "      <td>0</td>\n",
       "    </tr>\n",
       "    <tr>\n",
       "      <th>5169</th>\n",
       "      <td>1409</td>\n",
       "      <td>ham</td>\n",
       "      <td>Subject: industrial worksheets for august 2000...</td>\n",
       "      <td>0</td>\n",
       "    </tr>\n",
       "    <tr>\n",
       "      <th>5170</th>\n",
       "      <td>4807</td>\n",
       "      <td>spam</td>\n",
       "      <td>Subject: important online banking alert\\ndear ...</td>\n",
       "      <td>1</td>\n",
       "    </tr>\n",
       "  </tbody>\n",
       "</table>\n",
       "</div>"
      ],
      "text/plain": [
       "      Unnamed: 0 label                                               text   \n",
       "5151        3762  spam  Subject: fwd : transferring today ?\\nrn $ 0 by...  \\\n",
       "5152        4778  spam  Subject: oxyyyyconttin no script needeeed\\n{ t...   \n",
       "5153        2583   ham  Subject: feb 12 th sale to aquila\\nfyi\\ndaren ...   \n",
       "5154        2203   ham  Subject: re : hpl meter # 980074 bammel hpl d ...   \n",
       "5155        1904   ham  Subject: cleburne - tenaska iv plant\\ndaren ,\\...   \n",
       "5156        1080   ham  Subject: ami , , ,\\nper our conversation , i w...   \n",
       "5157         256   ham  Subject: 5 th changes @ duke and air liquide\\n...   \n",
       "5158        2789   ham  Subject: imbalance gas\\njust in case worse com...   \n",
       "5159        4381  spam  Subject: pictures\\nstreamlined denizen ajar ch...   \n",
       "5160         760   ham  Subject: mid year prc meeting\\ni would like to...   \n",
       "5161        4979  spam  Subject: penny stocks are about timing\\nnomad ...   \n",
       "5162        4162  spam  Subject: anomaly boys from 3881\\nuosda apaprov...   \n",
       "5163        1428   ham  Subject: re : meter # : 1266 ; august 2000 / a...   \n",
       "5164        4365  spam  Subject: slutty milf wants to meet you\\ntake t...   \n",
       "5165        2849   ham  Subject: fw : crosstex energy , driscoll ranch...   \n",
       "5166        1518   ham  Subject: put the 10 on the ft\\nthe transport v...   \n",
       "5167         404   ham  Subject: 3 / 4 / 2000 and following noms\\nhpl ...   \n",
       "5168        2933   ham  Subject: calpine daily gas nomination\\n>\\n>\\nj...   \n",
       "5169        1409   ham  Subject: industrial worksheets for august 2000...   \n",
       "5170        4807  spam  Subject: important online banking alert\\ndear ...   \n",
       "\n",
       "      label_num  \n",
       "5151          1  \n",
       "5152          1  \n",
       "5153          0  \n",
       "5154          0  \n",
       "5155          0  \n",
       "5156          0  \n",
       "5157          0  \n",
       "5158          0  \n",
       "5159          1  \n",
       "5160          0  \n",
       "5161          1  \n",
       "5162          1  \n",
       "5163          0  \n",
       "5164          1  \n",
       "5165          0  \n",
       "5166          0  \n",
       "5167          0  \n",
       "5168          0  \n",
       "5169          0  \n",
       "5170          1  "
      ]
     },
     "execution_count": 226,
     "metadata": {},
     "output_type": "execute_result"
    }
   ],
   "source": [
    "data_abu.tail(20)"
   ]
  },
  {
   "cell_type": "code",
   "execution_count": 227,
   "metadata": {},
   "outputs": [
    {
     "name": "stdout",
     "output_type": "stream",
     "text": [
      "Unnamed: 0    0\n",
      "label         0\n",
      "text          0\n",
      "label_num     0\n",
      "dtype: int64\n"
     ]
    }
   ],
   "source": [
    "# Count how many empty rows there are in each column.\n",
    "\n",
    "empty_rows = data_abu.isnull().sum()\n",
    "print(empty_rows)"
   ]
  },
  {
   "cell_type": "code",
   "execution_count": 228,
   "metadata": {},
   "outputs": [
    {
     "name": "stdout",
     "output_type": "stream",
     "text": [
      "(5171, 4)\n"
     ]
    }
   ],
   "source": [
    "# Returns the number of rows and columns as a tuple\n",
    "shape = data_abu.shape  \n",
    "print(shape)"
   ]
  },
  {
   "cell_type": "code",
   "execution_count": 229,
   "metadata": {},
   "outputs": [
    {
     "name": "stdout",
     "output_type": "stream",
     "text": [
      "Index(['Unnamed: 0', 'label', 'text', 'label_num'], dtype='object')\n",
      "\n",
      "\n",
      "Unnamed: 0     int64\n",
      "label         object\n",
      "text          object\n",
      "label_num      int64\n",
      "dtype: object\n",
      "\n",
      "\n",
      "        Unnamed: 0    label_num\n",
      "count  5171.000000  5171.000000\n",
      "mean   2585.000000     0.289886\n",
      "std    1492.883452     0.453753\n",
      "min       0.000000     0.000000\n",
      "25%    1292.500000     0.000000\n",
      "50%    2585.000000     0.000000\n",
      "75%    3877.500000     1.000000\n",
      "max    5170.000000     1.000000\n"
     ]
    }
   ],
   "source": [
    "columns = data_abu.columns  # Returns the column names\n",
    "data_types = data_abu.dtypes  # Returns the data types of each column\n",
    "summary_statistics = data_abu.describe()  # Returns summary statistics of numerical columns\n",
    "print(columns)\n",
    "print(\"\\n\")\n",
    "print(data_types)\n",
    "print(\"\\n\")\n",
    "print(summary_statistics)"
   ]
  },
  {
   "attachments": {},
   "cell_type": "markdown",
   "metadata": {},
   "source": [
    "x = data_abu.drop('target', axis=1): Creates the feature matrix X by dropping the 'target' column from the DataFrame data_abu using the drop function. The axis=1 parameter indicates that we are dropping a column.\n",
    "y = data_abu['target']: Creates the target array y by assigning the 'target' column from the DataFrame df."
   ]
  },
  {
   "cell_type": "code",
   "execution_count": 230,
   "metadata": {},
   "outputs": [],
   "source": [
    "# Split the dataset into train and test sets\n",
    "x_text = data_abu[\"text\"]\n",
    "y = data_abu[\"label_num\"]\n",
    "\n",
    "\n",
    "# Create an instance of CountVectorizer\n",
    "vectorizer = CountVectorizer()\n",
    "\n",
    "# Fit and transform the text data\n",
    "x = vectorizer.fit_transform(x_text)\n",
    "\n",
    "x_train, x_test, y_train, y_test = train_test_split(x, y, test_size=0.2, random_state=42)\n"
   ]
  },
  {
   "cell_type": "code",
   "execution_count": 231,
   "metadata": {},
   "outputs": [
    {
     "data": {
      "text/html": [
       "<style>#sk-container-id-24 {color: black;background-color: white;}#sk-container-id-24 pre{padding: 0;}#sk-container-id-24 div.sk-toggleable {background-color: white;}#sk-container-id-24 label.sk-toggleable__label {cursor: pointer;display: block;width: 100%;margin-bottom: 0;padding: 0.3em;box-sizing: border-box;text-align: center;}#sk-container-id-24 label.sk-toggleable__label-arrow:before {content: \"▸\";float: left;margin-right: 0.25em;color: #696969;}#sk-container-id-24 label.sk-toggleable__label-arrow:hover:before {color: black;}#sk-container-id-24 div.sk-estimator:hover label.sk-toggleable__label-arrow:before {color: black;}#sk-container-id-24 div.sk-toggleable__content {max-height: 0;max-width: 0;overflow: hidden;text-align: left;background-color: #f0f8ff;}#sk-container-id-24 div.sk-toggleable__content pre {margin: 0.2em;color: black;border-radius: 0.25em;background-color: #f0f8ff;}#sk-container-id-24 input.sk-toggleable__control:checked~div.sk-toggleable__content {max-height: 200px;max-width: 100%;overflow: auto;}#sk-container-id-24 input.sk-toggleable__control:checked~label.sk-toggleable__label-arrow:before {content: \"▾\";}#sk-container-id-24 div.sk-estimator input.sk-toggleable__control:checked~label.sk-toggleable__label {background-color: #d4ebff;}#sk-container-id-24 div.sk-label input.sk-toggleable__control:checked~label.sk-toggleable__label {background-color: #d4ebff;}#sk-container-id-24 input.sk-hidden--visually {border: 0;clip: rect(1px 1px 1px 1px);clip: rect(1px, 1px, 1px, 1px);height: 1px;margin: -1px;overflow: hidden;padding: 0;position: absolute;width: 1px;}#sk-container-id-24 div.sk-estimator {font-family: monospace;background-color: #f0f8ff;border: 1px dotted black;border-radius: 0.25em;box-sizing: border-box;margin-bottom: 0.5em;}#sk-container-id-24 div.sk-estimator:hover {background-color: #d4ebff;}#sk-container-id-24 div.sk-parallel-item::after {content: \"\";width: 100%;border-bottom: 1px solid gray;flex-grow: 1;}#sk-container-id-24 div.sk-label:hover label.sk-toggleable__label {background-color: #d4ebff;}#sk-container-id-24 div.sk-serial::before {content: \"\";position: absolute;border-left: 1px solid gray;box-sizing: border-box;top: 0;bottom: 0;left: 50%;z-index: 0;}#sk-container-id-24 div.sk-serial {display: flex;flex-direction: column;align-items: center;background-color: white;padding-right: 0.2em;padding-left: 0.2em;position: relative;}#sk-container-id-24 div.sk-item {position: relative;z-index: 1;}#sk-container-id-24 div.sk-parallel {display: flex;align-items: stretch;justify-content: center;background-color: white;position: relative;}#sk-container-id-24 div.sk-item::before, #sk-container-id-24 div.sk-parallel-item::before {content: \"\";position: absolute;border-left: 1px solid gray;box-sizing: border-box;top: 0;bottom: 0;left: 50%;z-index: -1;}#sk-container-id-24 div.sk-parallel-item {display: flex;flex-direction: column;z-index: 1;position: relative;background-color: white;}#sk-container-id-24 div.sk-parallel-item:first-child::after {align-self: flex-end;width: 50%;}#sk-container-id-24 div.sk-parallel-item:last-child::after {align-self: flex-start;width: 50%;}#sk-container-id-24 div.sk-parallel-item:only-child::after {width: 0;}#sk-container-id-24 div.sk-dashed-wrapped {border: 1px dashed gray;margin: 0 0.4em 0.5em 0.4em;box-sizing: border-box;padding-bottom: 0.4em;background-color: white;}#sk-container-id-24 div.sk-label label {font-family: monospace;font-weight: bold;display: inline-block;line-height: 1.2em;}#sk-container-id-24 div.sk-label-container {text-align: center;}#sk-container-id-24 div.sk-container {/* jupyter's `normalize.less` sets `[hidden] { display: none; }` but bootstrap.min.css set `[hidden] { display: none !important; }` so we also need the `!important` here to be able to override the default hidden behavior on the sphinx rendered scikit-learn.org. See: https://github.com/scikit-learn/scikit-learn/issues/21755 */display: inline-block !important;position: relative;}#sk-container-id-24 div.sk-text-repr-fallback {display: none;}</style><div id=\"sk-container-id-24\" class=\"sk-top-container\"><div class=\"sk-text-repr-fallback\"><pre>GaussianNB()</pre><b>In a Jupyter environment, please rerun this cell to show the HTML representation or trust the notebook. <br />On GitHub, the HTML representation is unable to render, please try loading this page with nbviewer.org.</b></div><div class=\"sk-container\" hidden><div class=\"sk-item\"><div class=\"sk-estimator sk-toggleable\"><input class=\"sk-toggleable__control sk-hidden--visually\" id=\"sk-estimator-id-24\" type=\"checkbox\" checked><label for=\"sk-estimator-id-24\" class=\"sk-toggleable__label sk-toggleable__label-arrow\">GaussianNB</label><div class=\"sk-toggleable__content\"><pre>GaussianNB()</pre></div></div></div></div></div>"
      ],
      "text/plain": [
       "GaussianNB()"
      ]
     },
     "execution_count": 231,
     "metadata": {},
     "output_type": "execute_result"
    }
   ],
   "source": [
    "# Train Gaussian Naive Bayes classifier\n",
    "gaussian_model = GaussianNB()\n",
    "gaussian_model.fit(x_train.toarray(), y_train)"
   ]
  },
  {
   "cell_type": "code",
   "execution_count": 232,
   "metadata": {},
   "outputs": [
    {
     "name": "stdout",
     "output_type": "stream",
     "text": [
      "[[0 0 0 ... 0 0 0]\n",
      " [0 0 0 ... 0 0 0]\n",
      " [0 1 0 ... 0 0 0]\n",
      " ...\n",
      " [0 0 0 ... 0 0 0]\n",
      " [0 0 0 ... 0 0 0]\n",
      " [0 3 0 ... 0 0 0]]\n",
      "0       0\n",
      "1       0\n",
      "2       0\n",
      "3       1\n",
      "4       0\n",
      "       ..\n",
      "5166    0\n",
      "5167    0\n",
      "5168    0\n",
      "5169    0\n",
      "5170    1\n",
      "Name: label_num, Length: 5171, dtype: int64\n"
     ]
    }
   ],
   "source": [
    "print(x_test.toarray())\n",
    "print(y)"
   ]
  },
  {
   "cell_type": "code",
   "execution_count": 233,
   "metadata": {},
   "outputs": [],
   "source": [
    "# Predict the labels for the test data\n",
    "y_pred = gaussian_model.predict(x_test.toarray())"
   ]
  },
  {
   "cell_type": "code",
   "execution_count": 234,
   "metadata": {},
   "outputs": [
    {
     "name": "stdout",
     "output_type": "stream",
     "text": [
      "Accuracy: 0.9545893719806763\n"
     ]
    }
   ],
   "source": [
    "# Calculate the accuracy of the classifier\n",
    "accuracy = accuracy_score(y_test, y_pred)\n",
    "print(\"Accuracy:\", accuracy)"
   ]
  },
  {
   "cell_type": "code",
   "execution_count": 235,
   "metadata": {},
   "outputs": [
    {
     "data": {
      "text/html": [
       "<style>#sk-container-id-25 {color: black;background-color: white;}#sk-container-id-25 pre{padding: 0;}#sk-container-id-25 div.sk-toggleable {background-color: white;}#sk-container-id-25 label.sk-toggleable__label {cursor: pointer;display: block;width: 100%;margin-bottom: 0;padding: 0.3em;box-sizing: border-box;text-align: center;}#sk-container-id-25 label.sk-toggleable__label-arrow:before {content: \"▸\";float: left;margin-right: 0.25em;color: #696969;}#sk-container-id-25 label.sk-toggleable__label-arrow:hover:before {color: black;}#sk-container-id-25 div.sk-estimator:hover label.sk-toggleable__label-arrow:before {color: black;}#sk-container-id-25 div.sk-toggleable__content {max-height: 0;max-width: 0;overflow: hidden;text-align: left;background-color: #f0f8ff;}#sk-container-id-25 div.sk-toggleable__content pre {margin: 0.2em;color: black;border-radius: 0.25em;background-color: #f0f8ff;}#sk-container-id-25 input.sk-toggleable__control:checked~div.sk-toggleable__content {max-height: 200px;max-width: 100%;overflow: auto;}#sk-container-id-25 input.sk-toggleable__control:checked~label.sk-toggleable__label-arrow:before {content: \"▾\";}#sk-container-id-25 div.sk-estimator input.sk-toggleable__control:checked~label.sk-toggleable__label {background-color: #d4ebff;}#sk-container-id-25 div.sk-label input.sk-toggleable__control:checked~label.sk-toggleable__label {background-color: #d4ebff;}#sk-container-id-25 input.sk-hidden--visually {border: 0;clip: rect(1px 1px 1px 1px);clip: rect(1px, 1px, 1px, 1px);height: 1px;margin: -1px;overflow: hidden;padding: 0;position: absolute;width: 1px;}#sk-container-id-25 div.sk-estimator {font-family: monospace;background-color: #f0f8ff;border: 1px dotted black;border-radius: 0.25em;box-sizing: border-box;margin-bottom: 0.5em;}#sk-container-id-25 div.sk-estimator:hover {background-color: #d4ebff;}#sk-container-id-25 div.sk-parallel-item::after {content: \"\";width: 100%;border-bottom: 1px solid gray;flex-grow: 1;}#sk-container-id-25 div.sk-label:hover label.sk-toggleable__label {background-color: #d4ebff;}#sk-container-id-25 div.sk-serial::before {content: \"\";position: absolute;border-left: 1px solid gray;box-sizing: border-box;top: 0;bottom: 0;left: 50%;z-index: 0;}#sk-container-id-25 div.sk-serial {display: flex;flex-direction: column;align-items: center;background-color: white;padding-right: 0.2em;padding-left: 0.2em;position: relative;}#sk-container-id-25 div.sk-item {position: relative;z-index: 1;}#sk-container-id-25 div.sk-parallel {display: flex;align-items: stretch;justify-content: center;background-color: white;position: relative;}#sk-container-id-25 div.sk-item::before, #sk-container-id-25 div.sk-parallel-item::before {content: \"\";position: absolute;border-left: 1px solid gray;box-sizing: border-box;top: 0;bottom: 0;left: 50%;z-index: -1;}#sk-container-id-25 div.sk-parallel-item {display: flex;flex-direction: column;z-index: 1;position: relative;background-color: white;}#sk-container-id-25 div.sk-parallel-item:first-child::after {align-self: flex-end;width: 50%;}#sk-container-id-25 div.sk-parallel-item:last-child::after {align-self: flex-start;width: 50%;}#sk-container-id-25 div.sk-parallel-item:only-child::after {width: 0;}#sk-container-id-25 div.sk-dashed-wrapped {border: 1px dashed gray;margin: 0 0.4em 0.5em 0.4em;box-sizing: border-box;padding-bottom: 0.4em;background-color: white;}#sk-container-id-25 div.sk-label label {font-family: monospace;font-weight: bold;display: inline-block;line-height: 1.2em;}#sk-container-id-25 div.sk-label-container {text-align: center;}#sk-container-id-25 div.sk-container {/* jupyter's `normalize.less` sets `[hidden] { display: none; }` but bootstrap.min.css set `[hidden] { display: none !important; }` so we also need the `!important` here to be able to override the default hidden behavior on the sphinx rendered scikit-learn.org. See: https://github.com/scikit-learn/scikit-learn/issues/21755 */display: inline-block !important;position: relative;}#sk-container-id-25 div.sk-text-repr-fallback {display: none;}</style><div id=\"sk-container-id-25\" class=\"sk-top-container\"><div class=\"sk-text-repr-fallback\"><pre>MultinomialNB()</pre><b>In a Jupyter environment, please rerun this cell to show the HTML representation or trust the notebook. <br />On GitHub, the HTML representation is unable to render, please try loading this page with nbviewer.org.</b></div><div class=\"sk-container\" hidden><div class=\"sk-item\"><div class=\"sk-estimator sk-toggleable\"><input class=\"sk-toggleable__control sk-hidden--visually\" id=\"sk-estimator-id-25\" type=\"checkbox\" checked><label for=\"sk-estimator-id-25\" class=\"sk-toggleable__label sk-toggleable__label-arrow\">MultinomialNB</label><div class=\"sk-toggleable__content\"><pre>MultinomialNB()</pre></div></div></div></div></div>"
      ],
      "text/plain": [
       "MultinomialNB()"
      ]
     },
     "execution_count": 235,
     "metadata": {},
     "output_type": "execute_result"
    }
   ],
   "source": [
    "# Train Multinomial Naive Bayes classifier\n",
    "multinomial_model = MultinomialNB()\n",
    "multinomial_model.fit(x_train.toarray(), y_train)"
   ]
  },
  {
   "cell_type": "code",
   "execution_count": 236,
   "metadata": {},
   "outputs": [
    {
     "name": "stdout",
     "output_type": "stream",
     "text": [
      "[0 1 0 ... 1 0 0]\n"
     ]
    }
   ],
   "source": [
    "# Predict the labels for the test data\n",
    "multinomial_model_yprediction = multinomial_model.predict(x_test)\n",
    "print(multinomial_model_yprediction)"
   ]
  },
  {
   "cell_type": "code",
   "execution_count": 237,
   "metadata": {},
   "outputs": [
    {
     "name": "stdout",
     "output_type": "stream",
     "text": [
      "Accuracy: 0.978743961352657\n"
     ]
    }
   ],
   "source": [
    "# Calculate the accuracy of the classifier\n",
    "mnbAccuracy = accuracy_score(y_test, multinomial_model_yprediction)\n",
    "print(\"Accuracy:\", mnbAccuracy)"
   ]
  },
  {
   "attachments": {},
   "cell_type": "markdown",
   "metadata": {},
   "source": [
    "For the given data set, we utilised both gaussian and multinomial classifiers, and we evaluated the accuracy of both sets of data. Although the multinomial score is slightly higher, both accuracies are practically identical. <br>\n",
    "Gaussian rating: 0.9545893719806763 <br>\n",
    "multinomial rating: 0.978743961352657"
   ]
  },
  {
   "attachments": {},
   "cell_type": "markdown",
   "metadata": {},
   "source": [
    "### Part B <br>\n",
    "Use this air bnb new york city dataset and remove outliers based on price per night for a given apartment/home. You can demonstrate why using other techniques like mean/median/ percentile works. The task is to come up with a clean dataset that does not have outliers showcasing all the possibilities."
   ]
  },
  {
   "cell_type": "code",
   "execution_count": 238,
   "metadata": {},
   "outputs": [
    {
     "data": {
      "text/html": [
       "<div>\n",
       "<style scoped>\n",
       "    .dataframe tbody tr th:only-of-type {\n",
       "        vertical-align: middle;\n",
       "    }\n",
       "\n",
       "    .dataframe tbody tr th {\n",
       "        vertical-align: top;\n",
       "    }\n",
       "\n",
       "    .dataframe thead th {\n",
       "        text-align: right;\n",
       "    }\n",
       "</style>\n",
       "<table border=\"1\" class=\"dataframe\">\n",
       "  <thead>\n",
       "    <tr style=\"text-align: right;\">\n",
       "      <th></th>\n",
       "      <th>id</th>\n",
       "      <th>name</th>\n",
       "      <th>host_id</th>\n",
       "      <th>host_name</th>\n",
       "      <th>neighbourhood_group</th>\n",
       "      <th>neighbourhood</th>\n",
       "      <th>latitude</th>\n",
       "      <th>longitude</th>\n",
       "      <th>room_type</th>\n",
       "      <th>price</th>\n",
       "      <th>minimum_nights</th>\n",
       "      <th>number_of_reviews</th>\n",
       "      <th>last_review</th>\n",
       "      <th>reviews_per_month</th>\n",
       "      <th>calculated_host_listings_count</th>\n",
       "      <th>availability_365</th>\n",
       "    </tr>\n",
       "  </thead>\n",
       "  <tbody>\n",
       "    <tr>\n",
       "      <th>0</th>\n",
       "      <td>2539</td>\n",
       "      <td>Clean &amp; quiet apt home by the park</td>\n",
       "      <td>2787</td>\n",
       "      <td>John</td>\n",
       "      <td>Brooklyn</td>\n",
       "      <td>Kensington</td>\n",
       "      <td>40.64749</td>\n",
       "      <td>-73.97237</td>\n",
       "      <td>Private room</td>\n",
       "      <td>149</td>\n",
       "      <td>1</td>\n",
       "      <td>9</td>\n",
       "      <td>2018-10-19</td>\n",
       "      <td>0.21</td>\n",
       "      <td>6</td>\n",
       "      <td>365</td>\n",
       "    </tr>\n",
       "    <tr>\n",
       "      <th>1</th>\n",
       "      <td>2595</td>\n",
       "      <td>Skylit Midtown Castle</td>\n",
       "      <td>2845</td>\n",
       "      <td>Jennifer</td>\n",
       "      <td>Manhattan</td>\n",
       "      <td>Midtown</td>\n",
       "      <td>40.75362</td>\n",
       "      <td>-73.98377</td>\n",
       "      <td>Entire home/apt</td>\n",
       "      <td>225</td>\n",
       "      <td>1</td>\n",
       "      <td>45</td>\n",
       "      <td>2019-05-21</td>\n",
       "      <td>0.38</td>\n",
       "      <td>2</td>\n",
       "      <td>355</td>\n",
       "    </tr>\n",
       "    <tr>\n",
       "      <th>2</th>\n",
       "      <td>3647</td>\n",
       "      <td>THE VILLAGE OF HARLEM....NEW YORK !</td>\n",
       "      <td>4632</td>\n",
       "      <td>Elisabeth</td>\n",
       "      <td>Manhattan</td>\n",
       "      <td>Harlem</td>\n",
       "      <td>40.80902</td>\n",
       "      <td>-73.94190</td>\n",
       "      <td>Private room</td>\n",
       "      <td>150</td>\n",
       "      <td>3</td>\n",
       "      <td>0</td>\n",
       "      <td>NaN</td>\n",
       "      <td>NaN</td>\n",
       "      <td>1</td>\n",
       "      <td>365</td>\n",
       "    </tr>\n",
       "    <tr>\n",
       "      <th>3</th>\n",
       "      <td>3831</td>\n",
       "      <td>Cozy Entire Floor of Brownstone</td>\n",
       "      <td>4869</td>\n",
       "      <td>LisaRoxanne</td>\n",
       "      <td>Brooklyn</td>\n",
       "      <td>Clinton Hill</td>\n",
       "      <td>40.68514</td>\n",
       "      <td>-73.95976</td>\n",
       "      <td>Entire home/apt</td>\n",
       "      <td>89</td>\n",
       "      <td>1</td>\n",
       "      <td>270</td>\n",
       "      <td>2019-07-05</td>\n",
       "      <td>4.64</td>\n",
       "      <td>1</td>\n",
       "      <td>194</td>\n",
       "    </tr>\n",
       "    <tr>\n",
       "      <th>4</th>\n",
       "      <td>5022</td>\n",
       "      <td>Entire Apt: Spacious Studio/Loft by central park</td>\n",
       "      <td>7192</td>\n",
       "      <td>Laura</td>\n",
       "      <td>Manhattan</td>\n",
       "      <td>East Harlem</td>\n",
       "      <td>40.79851</td>\n",
       "      <td>-73.94399</td>\n",
       "      <td>Entire home/apt</td>\n",
       "      <td>80</td>\n",
       "      <td>10</td>\n",
       "      <td>9</td>\n",
       "      <td>2018-11-19</td>\n",
       "      <td>0.10</td>\n",
       "      <td>1</td>\n",
       "      <td>0</td>\n",
       "    </tr>\n",
       "    <tr>\n",
       "      <th>...</th>\n",
       "      <td>...</td>\n",
       "      <td>...</td>\n",
       "      <td>...</td>\n",
       "      <td>...</td>\n",
       "      <td>...</td>\n",
       "      <td>...</td>\n",
       "      <td>...</td>\n",
       "      <td>...</td>\n",
       "      <td>...</td>\n",
       "      <td>...</td>\n",
       "      <td>...</td>\n",
       "      <td>...</td>\n",
       "      <td>...</td>\n",
       "      <td>...</td>\n",
       "      <td>...</td>\n",
       "      <td>...</td>\n",
       "    </tr>\n",
       "    <tr>\n",
       "      <th>48890</th>\n",
       "      <td>36484665</td>\n",
       "      <td>Charming one bedroom - newly renovated rowhouse</td>\n",
       "      <td>8232441</td>\n",
       "      <td>Sabrina</td>\n",
       "      <td>Brooklyn</td>\n",
       "      <td>Bedford-Stuyvesant</td>\n",
       "      <td>40.67853</td>\n",
       "      <td>-73.94995</td>\n",
       "      <td>Private room</td>\n",
       "      <td>70</td>\n",
       "      <td>2</td>\n",
       "      <td>0</td>\n",
       "      <td>NaN</td>\n",
       "      <td>NaN</td>\n",
       "      <td>2</td>\n",
       "      <td>9</td>\n",
       "    </tr>\n",
       "    <tr>\n",
       "      <th>48891</th>\n",
       "      <td>36485057</td>\n",
       "      <td>Affordable room in Bushwick/East Williamsburg</td>\n",
       "      <td>6570630</td>\n",
       "      <td>Marisol</td>\n",
       "      <td>Brooklyn</td>\n",
       "      <td>Bushwick</td>\n",
       "      <td>40.70184</td>\n",
       "      <td>-73.93317</td>\n",
       "      <td>Private room</td>\n",
       "      <td>40</td>\n",
       "      <td>4</td>\n",
       "      <td>0</td>\n",
       "      <td>NaN</td>\n",
       "      <td>NaN</td>\n",
       "      <td>2</td>\n",
       "      <td>36</td>\n",
       "    </tr>\n",
       "    <tr>\n",
       "      <th>48892</th>\n",
       "      <td>36485431</td>\n",
       "      <td>Sunny Studio at Historical Neighborhood</td>\n",
       "      <td>23492952</td>\n",
       "      <td>Ilgar &amp; Aysel</td>\n",
       "      <td>Manhattan</td>\n",
       "      <td>Harlem</td>\n",
       "      <td>40.81475</td>\n",
       "      <td>-73.94867</td>\n",
       "      <td>Entire home/apt</td>\n",
       "      <td>115</td>\n",
       "      <td>10</td>\n",
       "      <td>0</td>\n",
       "      <td>NaN</td>\n",
       "      <td>NaN</td>\n",
       "      <td>1</td>\n",
       "      <td>27</td>\n",
       "    </tr>\n",
       "    <tr>\n",
       "      <th>48893</th>\n",
       "      <td>36485609</td>\n",
       "      <td>43rd St. Time Square-cozy single bed</td>\n",
       "      <td>30985759</td>\n",
       "      <td>Taz</td>\n",
       "      <td>Manhattan</td>\n",
       "      <td>Hell's Kitchen</td>\n",
       "      <td>40.75751</td>\n",
       "      <td>-73.99112</td>\n",
       "      <td>Shared room</td>\n",
       "      <td>55</td>\n",
       "      <td>1</td>\n",
       "      <td>0</td>\n",
       "      <td>NaN</td>\n",
       "      <td>NaN</td>\n",
       "      <td>6</td>\n",
       "      <td>2</td>\n",
       "    </tr>\n",
       "    <tr>\n",
       "      <th>48894</th>\n",
       "      <td>36487245</td>\n",
       "      <td>Trendy duplex in the very heart of Hell's Kitchen</td>\n",
       "      <td>68119814</td>\n",
       "      <td>Christophe</td>\n",
       "      <td>Manhattan</td>\n",
       "      <td>Hell's Kitchen</td>\n",
       "      <td>40.76404</td>\n",
       "      <td>-73.98933</td>\n",
       "      <td>Private room</td>\n",
       "      <td>90</td>\n",
       "      <td>7</td>\n",
       "      <td>0</td>\n",
       "      <td>NaN</td>\n",
       "      <td>NaN</td>\n",
       "      <td>1</td>\n",
       "      <td>23</td>\n",
       "    </tr>\n",
       "  </tbody>\n",
       "</table>\n",
       "<p>48895 rows × 16 columns</p>\n",
       "</div>"
      ],
      "text/plain": [
       "             id                                               name   host_id   \n",
       "0          2539                 Clean & quiet apt home by the park      2787  \\\n",
       "1          2595                              Skylit Midtown Castle      2845   \n",
       "2          3647                THE VILLAGE OF HARLEM....NEW YORK !      4632   \n",
       "3          3831                    Cozy Entire Floor of Brownstone      4869   \n",
       "4          5022   Entire Apt: Spacious Studio/Loft by central park      7192   \n",
       "...         ...                                                ...       ...   \n",
       "48890  36484665    Charming one bedroom - newly renovated rowhouse   8232441   \n",
       "48891  36485057      Affordable room in Bushwick/East Williamsburg   6570630   \n",
       "48892  36485431            Sunny Studio at Historical Neighborhood  23492952   \n",
       "48893  36485609               43rd St. Time Square-cozy single bed  30985759   \n",
       "48894  36487245  Trendy duplex in the very heart of Hell's Kitchen  68119814   \n",
       "\n",
       "           host_name neighbourhood_group       neighbourhood  latitude   \n",
       "0               John            Brooklyn          Kensington  40.64749  \\\n",
       "1           Jennifer           Manhattan             Midtown  40.75362   \n",
       "2          Elisabeth           Manhattan              Harlem  40.80902   \n",
       "3        LisaRoxanne            Brooklyn        Clinton Hill  40.68514   \n",
       "4              Laura           Manhattan         East Harlem  40.79851   \n",
       "...              ...                 ...                 ...       ...   \n",
       "48890        Sabrina            Brooklyn  Bedford-Stuyvesant  40.67853   \n",
       "48891        Marisol            Brooklyn            Bushwick  40.70184   \n",
       "48892  Ilgar & Aysel           Manhattan              Harlem  40.81475   \n",
       "48893            Taz           Manhattan      Hell's Kitchen  40.75751   \n",
       "48894     Christophe           Manhattan      Hell's Kitchen  40.76404   \n",
       "\n",
       "       longitude        room_type  price  minimum_nights  number_of_reviews   \n",
       "0      -73.97237     Private room    149               1                  9  \\\n",
       "1      -73.98377  Entire home/apt    225               1                 45   \n",
       "2      -73.94190     Private room    150               3                  0   \n",
       "3      -73.95976  Entire home/apt     89               1                270   \n",
       "4      -73.94399  Entire home/apt     80              10                  9   \n",
       "...          ...              ...    ...             ...                ...   \n",
       "48890  -73.94995     Private room     70               2                  0   \n",
       "48891  -73.93317     Private room     40               4                  0   \n",
       "48892  -73.94867  Entire home/apt    115              10                  0   \n",
       "48893  -73.99112      Shared room     55               1                  0   \n",
       "48894  -73.98933     Private room     90               7                  0   \n",
       "\n",
       "      last_review  reviews_per_month  calculated_host_listings_count   \n",
       "0      2018-10-19               0.21                               6  \\\n",
       "1      2019-05-21               0.38                               2   \n",
       "2             NaN                NaN                               1   \n",
       "3      2019-07-05               4.64                               1   \n",
       "4      2018-11-19               0.10                               1   \n",
       "...           ...                ...                             ...   \n",
       "48890         NaN                NaN                               2   \n",
       "48891         NaN                NaN                               2   \n",
       "48892         NaN                NaN                               1   \n",
       "48893         NaN                NaN                               6   \n",
       "48894         NaN                NaN                               1   \n",
       "\n",
       "       availability_365  \n",
       "0                   365  \n",
       "1                   355  \n",
       "2                   365  \n",
       "3                   194  \n",
       "4                     0  \n",
       "...                 ...  \n",
       "48890                 9  \n",
       "48891                36  \n",
       "48892                27  \n",
       "48893                 2  \n",
       "48894                23  \n",
       "\n",
       "[48895 rows x 16 columns]"
      ]
     },
     "execution_count": 238,
     "metadata": {},
     "output_type": "execute_result"
    }
   ],
   "source": [
    "# Load the dataset from CSV file\n",
    "data_air = pd.read_csv('AB_NYC_2019.csv')\n",
    "data_air"
   ]
  },
  {
   "cell_type": "code",
   "execution_count": 239,
   "metadata": {},
   "outputs": [
    {
     "name": "stdout",
     "output_type": "stream",
     "text": [
      "id                                    0\n",
      "name                                 16\n",
      "host_id                               0\n",
      "host_name                            21\n",
      "neighbourhood_group                   0\n",
      "neighbourhood                         0\n",
      "latitude                              0\n",
      "longitude                             0\n",
      "room_type                             0\n",
      "price                                 0\n",
      "minimum_nights                        0\n",
      "number_of_reviews                     0\n",
      "last_review                       10052\n",
      "reviews_per_month                 10052\n",
      "calculated_host_listings_count        0\n",
      "availability_365                      0\n",
      "dtype: int64\n",
      "Empty DataFrame\n",
      "Columns: [id, name, host_id, host_name, neighbourhood_group, neighbourhood, latitude, longitude, room_type, price, minimum_nights, number_of_reviews, last_review, reviews_per_month, calculated_host_listings_count, availability_365]\n",
      "Index: []\n"
     ]
    }
   ],
   "source": [
    "null_rows = data_air.isnull().sum()\n",
    "duplicate_rows = data_air[data_air.duplicated()]\n",
    "\n",
    "print(null_rows)\n",
    "print(duplicate_rows)"
   ]
  },
  {
   "cell_type": "code",
   "execution_count": 240,
   "metadata": {},
   "outputs": [
    {
     "data": {
      "text/plain": [
       "[<matplotlib.lines.Line2D at 0x25bb33e4250>]"
      ]
     },
     "execution_count": 240,
     "metadata": {},
     "output_type": "execute_result"
    },
    {
     "data": {
      "image/png": "[encoded data removed]",
      "text/plain": [
       "<Figure size 640x480 with 1 Axes>"
      ]
     },
     "metadata": {},
     "output_type": "display_data"
    }
   ],
   "source": [
    "plt.plot(data_air['price']) "
   ]
  },
  {
   "cell_type": "code",
   "execution_count": 241,
   "metadata": {},
   "outputs": [
    {
     "data": {
      "text/plain": [
       "count    48895.000000\n",
       "mean       152.720687\n",
       "std        240.154170\n",
       "min          0.000000\n",
       "25%         69.000000\n",
       "50%        106.000000\n",
       "75%        175.000000\n",
       "max      10000.000000\n",
       "Name: price, dtype: float64"
      ]
     },
     "execution_count": 241,
     "metadata": {},
     "output_type": "execute_result"
    },
    {
     "data": {
      "image/png": "[encoded data removed]",
      "text/plain": [
       "<Figure size 640x480 with 1 Axes>"
      ]
     },
     "metadata": {},
     "output_type": "display_data"
    }
   ],
   "source": [
    "plt.boxplot(data_air[\"price\"])\n",
    "data_air[\"price\"].describe()"
   ]
  },
  {
   "cell_type": "code",
   "execution_count": 242,
   "metadata": {},
   "outputs": [
    {
     "data": {
      "text/plain": [
       "<matplotlib.collections.PathCollection at 0x25bb4df33d0>"
      ]
     },
     "execution_count": 242,
     "metadata": {},
     "output_type": "execute_result"
    },
    {
     "data": {
      "image/png": "[encoded data removed]",
      "text/plain": [
       "<Figure size 640x480 with 1 Axes>"
      ]
     },
     "metadata": {},
     "output_type": "display_data"
    }
   ],
   "source": [
    "plt.scatter(x=data_air['id'], y=data_air['price'])"
   ]
  },
  {
   "attachments": {},
   "cell_type": "markdown",
   "metadata": {},
   "source": [
    "**The IQR approach is what I'm utilising to deal with outliers.**\n",
    "**Fortunately, interquartile ranges are fairly resistant to the effects of outliers.**\n",
    "**Additionally, this approach does not presuppose that the data are distributed normally or in any other way.**\n",
    "\n"
   ]
  },
  {
   "cell_type": "code",
   "execution_count": 243,
   "metadata": {},
   "outputs": [
    {
     "data": {
      "text/plain": [
       "106.0"
      ]
     },
     "execution_count": 243,
     "metadata": {},
     "output_type": "execute_result"
    }
   ],
   "source": [
    "# Calculate the IQR\n",
    "q1 = np.percentile(data_air['price'], 25)\n",
    "q3 = np.percentile(data_air['price'], 75)\n",
    "iqr = q3 - q1\n",
    "iqr"
   ]
  },
  {
   "cell_type": "code",
   "execution_count": 244,
   "metadata": {},
   "outputs": [
    {
     "name": "stdout",
     "output_type": "stream",
     "text": [
      "-90.0\n",
      "334.0\n"
     ]
    }
   ],
   "source": [
    "\n",
    "prices = data_air['price']\n",
    "\n",
    "# Calculate the first quartile (Q1), third quartile (Q3), and IQR\n",
    "q1 = np.percentile(prices, 25)\n",
    "q3 = np.percentile(prices, 75)\n",
    "iqr = q3 - q1\n",
    "\n",
    "# Define the lower and upper boundaries\n",
    "lower_bound = q1 - (1.5 * iqr)\n",
    "upper_bound = q3 + (1.5 * iqr)\n",
    "\n",
    "print(lower_bound)\n",
    "print(upper_bound)"
   ]
  },
  {
   "cell_type": "code",
   "execution_count": 245,
   "metadata": {},
   "outputs": [
    {
     "name": "stdout",
     "output_type": "stream",
     "text": [
      "Outliers:\n",
      "             id  price\n",
      "61        15396    375\n",
      "85        19601    800\n",
      "103       23686    500\n",
      "114       26933    350\n",
      "121       27659    400\n",
      "...         ...    ...\n",
      "48758  36420289    350\n",
      "48833  36450896    475\n",
      "48839  36452721    800\n",
      "48842  36453160    350\n",
      "48856  36457700    345\n",
      "\n",
      "[2972 rows x 2 columns]\n",
      "Outlier IDs:\n",
      "[15396, 19601, 23686, 26933, 27659, 38663, 45910, 60164, 61224, 63693, 68974, 70609, 79067, 80684, 80700, 89427, 103311, 125053, 141335, 141890, 148259, 162493, 165080, 166983, 173742, 174966, 177421, 177495, 188146, 236788, 239826, 241140, 248871, 250537, 250801, 253828, 254168, 255957, 256328, 261781, 265506, 268868, 273190, 276317, 279857, 285492, 289665, 323706, 329064, 339456, 342965, 363673, 369671, 394235, 414801, 437906, 443646, 468613, 471758, 478949, 479002, 484297, 493611, 494937, 509989, 512209, 512210, 512775, 513688, 523123, 531208, 546573, 550858, 576227, 598612, 625197, 634353, 640589, 644464, 644833, 651375, 654005, 664047, 672724, 690934, 692137, 702551, 707396, 710284, 714939, 722451, 725270, 738588, 741783, 749108, 752616, 753399, 762145, 764052, 774899, 794472, 803778, 811198, 815045, 826690, 834968, 836720, 840594, 840667, 840731, 841211, 843524, 883517, 887355, 893413, 909859, 919978, 926337, 949713, 955153, 987616, 990529, 992598, 995169, 999248, 1009883, 1016352, 1027808, 1039983, 1040156, 1053523, 1056256, 1056445, 1067251, 1107092, 1109092, 1146653, 1147507, 1155475, 1171581, 1225110, 1239017, 1260727, 1264663, 1264695, 1284789, 1286024, 1291245, 1300097, 1301321, 1308308, 1313593, 1331231, 1334793, 1370154, 1397705, 1398609, 1448703, 1471244, 1481907, 1489426, 1499635, 1515692, 1567225, 1583335, 1601955, 1615764, 1617488, 1646838, 1655880, 1673040, 1717149, 1731365, 1746726, 1752112, 1755844, 1776732, 1798271, 1803165, 1805261, 1818411, 1821541, 1827723, 1851767, 1853765, 1861281, 1864061, 1864757, 1897001, 1906604, 1908986, 1910270, 1923153, 1931609, 1934804, 1948745, 1959024, 1976123, 1979127, 1981656, 1983531, 1989838, 1994398, 2003807, 2017012, 2022126, 2026434, 2028391, 2037951, 2043060, 2046789, 2050993, 2054899, 2060768, 2070290, 2071464, 2082694, 2083824, 2098817, 2100887, 2103480, 2107372, 2110145, 2124536, 2135766, 2149184, 2150328, 2150727, 2151259, 2158171, 2163602, 2169765, 2172139, 2185842, 2186138, 2186452, 2191591, 2210088, 2214978, 2217398, 2220959, 2222428, 2224896, 2227377, 2228296, 2230982, 2231814, 2237851, 2240196, 2243180, 2243699, 2243769, 2243984, 2248580, 2249878, 2249928, 2250170, 2250372, 2252844, 2253397, 2254469, 2256519, 2257080, 2259331, 2259813, 2260274, 2261367, 2263248, 2268632, 2268845, 2271504, 2272872, 2274084, 2276065, 2276383, 2277707, 2281142, 2282085, 2283143, 2284454, 2285355, 2291943, 2294594, 2294663, 2297192, 2297259, 2298759, 2299633, 2309363, 2309559, 2329047, 2361020, 2385344, 2392051, 2405505, 2425871, 2447138, 2447298, 2478825, 2509617, 2510394, 2514689, 2540173, 2563997, 2606370, 2659183, 2669352, 2698984, 2738377, 2743624, 2791688, 2801214, 2856770, 2887761, 2904330, 2919330, 2952861, 2953058, 2999527, 3010664, 3013158, 3013383, 3019237, 3039332, 3083197, 3105531, 3139749, 3145484, 3162817, 3171234, 3176553, 3186103, 3201696, 3208188, 3225975, 3236977, 3249076, 3270809, 3323189, 3337808, 3343038, 3343299, 3375998, 3408897, 3415102, 3420648, 3426233, 3445138, 3465604, 3487445, 3499174, 3509822, 3530517, 3533180, 3542523, 3552043, 3562245, 3677995, 3678829, 3688168, 3692566, 3742373, 3772256, 3787867, 3827442, 3838056, 3861943, 3928833, 3946115, 3946288, 3979611, 3980487, 4000561, 4016121, 4054450, 4118244, 4137680, 4174115, 4178851, 4194494, 4199411, 4204988, 4209106, 4227161, 4227499, 4262120, 4276532, 4294969, 4318364, 4331684, 4347579, 4358291, 4364924, 4417147, 4428906, 4438029, 4447611, 4467771, 4471513, 4476605, 4479632, 4537389, 4566571, 4586448, 4587321, 4587905, 4611004, 4615887, 4619579, 4622869, 4623622, 4624657, 4644688, 4659285, 4660022, 4662889, 4677056, 4678742, 4698707, 4718436, 4720121, 4720719, 4726941, 4736480, 4737930, 4742102, 4776107, 4777903, 4800921, 4823682, 4854552, 4908978, 4909080, 4932139, 4967114, 4987238, 4988687, 4996877, 5006113, 5013302, 5015281, 5031539, 5041891, 5046189, 5049823, 5078828, 5116726, 5131879, 5146173, 5161173, 5257388, 5279902, 5318322, 5341379, 5402672, 5432089, 5442313, 5476046, 5478741, 5526210, 5562420, 5578843, 5582283, 5604005, 5616298, 5619149, 5649623, 5652403, 5691755, 5757333, 5825911, 5840936, 5967998, 5990045, 6000898, 6004567, 6004786, 6056028, 6059556, 6064471, 6074975, 6107289, 6129158, 6138423, 6165564, 6169068, 6209994, 6220699, 6272125, 6326865, 6344936, 6346456, 6377161, 6377384, 6385547, 6389473, 6390777, 6428913, 6444554, 6458979, 6466301, 6476426, 6478459, 6501082, 6501996, 6509750, 6534409, 6542818, 6543581, 6557289, 6558125, 6560257, 6575471, 6589412, 6599950, 6611652, 6626894, 6642187, 6662241, 6684189, 6692633, 6702693, 6705158, 6713742, 6747685, 6758849, 6797129, 6800548, 6813226, 6833395, 6862482, 6898240, 6908140, 6936794, 6937897, 6939638, 6947196, 6968520, 6969473, 6993265, 7003697, 7006494, 7024342, 7043817, 7047808, 7048418, 7052026, 7063158, 7084621, 7089310, 7093979, 7162435, 7170149, 7174695, 7177666, 7192809, 7194538, 7201615, 7217351, 7225366, 7228397, 7254986, 7279583, 7294225, 7309427, 7310835, 7325230, 7329781, 7380251, 7381236, 7403721, 7418874, 7435904, 7437623, 7471933, 7473810, 7482970, 7496211, 7543993, 7559243, 7581727, 7582706, 7602442, 7602826, 7603640, 7619082, 7632731, 7637112, 7646832, 7679236, 7710608, 7712022, 7762374, 7771170, 7803475, 7815865, 7816449, 7820423, 7820664, 7823495, 7838393, 7851047, 7858023, 7912513, 7913426, 7915831, 7950368, 7952315, 7966358, 7966943, 7967942, 7970578, 7985333, 7987209, 7997433, 8007908, 8029217, 8069030, 8071687, 8072371, 8142536, 8182759, 8193127, 8253376, 8254674, 8272818, 8292864, 8306839, 8312148, 8353055, 8368928, 8369701, 8407577, 8411164, 8427707, 8450523, 8496270, 8498323, 8515213, 8548971, 8551866, 8577949, 8590275, 8594833, 8595191, 8616888, 8629187, 8671786, 8709068, 8713685, 8720865, 8721348, 8736827, 8738438, 8758534, 8761013, 8781837, 8809245, 8810949, 8829421, 8837432, 8840563, 8847577, 8881765, 8883877, 8900026, 8921125, 8924038, 8992423, 8992894, 9023240, 9132731, 9172067, 9197311, 9211087, 9212510, 9222165, 9263457, 9277608, 9288411, 9289159, 9310390, 9314139, 9350295, 9362788, 9382719, 9390729, 9427868, 9444819, 9453653, 9464318, 9479348, 9486229, 9487424, 9488285, 9491126, 9492678, 9495907, 9496176, 9515597, 9519514, 9528920, 9544812, 9549544, 9556028, 9575961, 9591852, 9594892, 9597629, 9607952, 9614672, 9625266, 9654190, 9670233, 9685114, 9685158, 9696139, 9711313, 9711921, 9735957, 9736227, 9737153, 9753240, 9768313, 9770249, 9772486, 9773158, 9775397, 9776054, 9785516, 9793542, 9793676, 9804368, 9806799, 9809784, 9810235, 9819437, 9857920, 9858642, 9864137, 9882440, 9884237, 9919042, 9920363, 9935095, 9935737, 9937547, 9991265, 10002428, 10017050, 10036313, 10038170, 10072750, 10086029, 10089727, 10100241, 10100474, 10101097, 10115792, 10123090, 10133128, 10158141, 10246479, 10268663, 10314411, 10340849, 10377445, 10386936, 10452249, 10454844, 10514203, 10514879, 10548910, 10549650, 10574909, 10585031, 10696159, 10731680, 10836260, 10881164, 10901255, 10928250, 10941762, 10980168, 11007370, 11033590, 11057550, 11060328, 11100490, 11105968, 11130697, 11140165, 11164714, 11234747, 11240650, 11257690, 11356941, 11359913, 11412169, 11458973, 11459958, 11477869, 11478813, 11490215, 11495792, 11495797, 11503509, 11512962, 11553360, 11568026, 11591276, 11595172, 11636784, 11656721, 11667455, 11721727, 11732848, 11741555, 11774815, 11786930, 11788559, 11802086, 11842127, 11890279, 11901356, 11920660, 11933676, 11969727, 12005922, 12020835, 12022833, 12040331, 12064283, 12070965, 12079993, 12096332, 12102526, 12110990, 12111387, 12167819, 12171619, 12204161, 12205049, 12221970, 12242301, 12243378, 12287838, 12302170, 12325291, 12328112, 12339863, 12343098, 12344949, 12346131, 12353119, 12358117, 12362194, 12398308, 12404679, 12404820, 12409364, 12450591, 12496037, 12520066, 12539250, 12539359, 12543988, 12560137, 12561681, 12563738, 12591059, 12657888, 12665113, 12811459, 12812577, 12851307, 12864193, 12864971, 12865981, 12871039, 12873159, 12886380, 12898987, 12916955, 12929852, 12954498, 12967227, 12972320, 12986700, 12990051, 12990587, 12999396, 13025960, 13032261, 13037692, 13040221, 13070577, 13075169, 13084019, 13109326, 13113626, 13116481, 13152955, 13165301, 13173263, 13186374, 13190121, 13208373, 13233830, 13250484, 13294137, 13306081, 13306156, 13309763, 13332859, 13361613, 13373898, 13406622, 13443640, 13495558, 13496318, 13507677, 13508766, 13526990, 13531132, 13601777, 13605192, 13620503, 13623256, 13624795, 13634685, 13697770, 13721612, 13730284, 13732047, 13740409, 13745644, 13777303, 13787558, 13824020, 13841200, 13859707, 13873028, 13880183, 13882394, 13883020, 13891302, 13893494, 13894254, 13894339, 13951405, 13952269, 13963005, 13995008, 14007809, 14012606, 14012748, 14027756, 14028597, 14088558, 14110407, 14111390, 14120620, 14177069, 14191921, 14204631, 14205634, 14219018, 14221071, 14221607, 14231606, 14233670, 14244430, 14280778, 14314562, 14340033, 14401928, 14408114, 14471418, 14473548, 14483469, 14488817, 14518257, 14522966, 14570963, 14590476, 14619860, 14655908, 14668622, 14683983, 14730708, 14738709, 14778622, 14837052, 14840286, 14842856, 14855614, 14899111, 14915616, 14984002, 15018646, 15052112, 15053143, 15068067, 15085833, 15126360, 15140627, 15141661, 15149591, 15162388, 15191225, 15204878, 15205915, 15206157, 15206607, 15206836, 15218066, 15218299, 15218579, 15218699, 15229456, 15230053, 15230339, 15230576, 15230938, 15232776, 15233134, 15233592, 15234201, 15249063, 15260962, 15268654, 15268792, 15286036, 15286858, 15289766, 15314054, 15324045, 15329520, 15340854, 15345019, 15347268, 15360248, 15392689, 15393322, 15436871, 15449415, 15455305, 15494968, 15496314, 15496616, 15497088, 15497229, 15497406, 15497673, 15497821, 15505535, 15508132, 15528972, 15537258, 15563563, 15585484, 15595648, 15704180, 15735305, 15745537, 15758526, 15769652, 15772067, 15784598, 15799563, 15799603, 15801420, 15818608, 15857259, 15857334, 15881766, 15928889, 15954250, 15955961, 15966974, 15970276, 15981246, 16014578, 16018094, 16023497, 16028015, 16069120, 16087249, 16087406, 16098020, 16099666, 16100032, 16120840, 16131672, 16147304, 16157387, 16159901, 16160621, 16173564, 16177263, 16178928, 16205431, 16229585, 16243823, 16251345, 16259629, 16268350, 16281547, 16289292, 16297779, 16302595, 16310798, 16320520, 16331969, 16333020, 16348791, 16349311, 16365302, 16374702, 16409634, 16426123, 16437326, 16442395, 16443158, 16453837, 16475309, 16487823, 16488277, 16489149, 16513698, 16518787, 16542864, 16584878, 16598387, 16634357, 16721040, 16725879, 16807028, 16846366, 16847069, 16855679, 16867024, 16870827, 16899058, 16905585, 16923912, 16994272, 17030043, 17108224, 17116411, 17122333, 17133439, 17149950, 17152737, 17174519, 17256799, 17257473, 17382679, 17433572, 17456932, 17513537, 17520324, 17525806, 17537893, 17549299, 17554541, 17601315, 17632790, 17666300, 17684359, 17756109, 17759520, 17844682, 17849234, 17860684, 17879131, 17929219, 17944802, 17974244, 18024561, 18051877, 18071399, 18074899, 18076385, 18086316, 18094212, 18094418, 18142333, 18175061, 18175675, 18181620, 18201148, 18223667, 18239917, 18271282, 18312034, 18338719, 18358621, 18404373, 18496255, 18506292, 18547663, 18559902, 18570075, 18585546, 18595831, 18610554, 18616208, 18648360, 18649351, 18664875, 18686269, 18737594, 18745487, 18774244, 18776925, 18823750, 18837416, 18840688, 18866187, 18875740, 18894322, 18907166, 18935359, 18948914, 18988814, 18992672, 18996206, 19013613, 19015592, 19018987, 19038705, 19049402, 19053614, 19056212, 19057018, 19058691, 19081969, 19114014, 19114277, 19115443, 19122217, 19122483, 19138221, 19157123, 19182044, 19209474, 19219988, 19226980, 19227532, 19237286, 19246114, 19261252, 19261720, 19269676, 19279519, 19307997, 19310554, 19322515, 19387694, 19408620, 19414281, 19415887, 19490059, 19518453, 19520573, 19544104, 19548503, 19553306, 19554491, 19554980, 19591602, 19653554, 19675166, 19681256, 19698169, 19701427, 19708955, 19717109, 19735722, 19786240, 19791460, 19800250, 19801076, 19811816, 19866106, 19876515, 19880329, 19931860, 19943440, 19943741, 19963733, 19964849, 19970764, 19980048, 19982386, 20001157, 20016493, 20029169, 20055581, 20070296, 20094423, 20131833, 20141920, 20191868, 20193830, 20194454, 20204751, 20205958, 20245130, 20249492, 20292523, 20305160, 20308927, 20309605, 20316497, 20325356, 20330081, 20412884, 20417560, 20420507, 20432888, 20452409, 20460009, 20476397, 20498261, 20500896, 20518193, 20522061, 20570327, 20572019, 20604857, 20620647, 20621413, 20635939, 20636966, 20653657, 20654227, 20679666, 20685952, 20692563, 20698375, 20722067, 20723274, 20783811, 20799032, 20829055, 20848925, 20857788, 20899758, 20900984, 20926888, 20941086, 20953661, 21009737, 21010714, 21020048, 21020869, 21038103, 21044970, 21047121, 21054217, 21072318, 21081975, 21096186, 21111912, 21175139, 21201777, 21211369, 21212060, 21230082, 21238053, 21253502, 21254718, 21259596, 21263008, 21274330, 21288895, 21296227, 21307403, 21313240, 21346494, 21355217, 21366506, 21366948, 21375941, 21379252, 21414167, 21434285, 21434826, 21488093, 21501295, 21535963, 21548054, 21551617, 21591942, 21595314, 21604766, 21609701, 21624775, 21634979, 21649171, 21665632, 21677053, 21684804, 21701058, 21707762, 21709727, 21713419, 21723212, 21725929, 21727407, 21727957, 21738886, 21762711, 21769473, 21771006, 21785385, 21786780, 21794873, 21797820, 21798471, 21810316, 21810960, 21827363, 21828988, 21833755, 21834156, 21836315, 21851100, 21851586, 21852211, 21865416, 21867029, 21867216, 21867375, 21868918, 21880038, 21881605, 21891982, 21913782, 21915201, 21921608, 21933725, 21937197, 21945886, 21947011, 21947039, 21948560, 21950012, 21950138, 21963398, 21966390, 21967259, 21967332, 21967378, 21967615, 21975709, 21976874, 21980723, 21996542, 22000376, 22017344, 22045060, 22074303, 22076359, 22078370, 22084212, 22085782, 22088100, 22090790, 22107371, 22117983, 22120954, 22123573, 22139766, 22142447, 22152785, 22192877, 22193650, 22194459, 22205765, 22206601, 22207357, 22207770, 22227015, 22246294, 22249641, 22263855, 22268514, 22273359, 22294297, 22295960, 22296097, 22296197, 22302785, 22306848, 22328175, 22340808, 22343274, 22360132, 22360921, 22374957, 22389258, 22409383, 22409935, 22419704, 22420010, 22436770, 22436899, 22465327, 22486252, 22503055, 22524272, 22543433, 22544810, 22545760, 22579551, 22579704, 22624247, 22663674, 22669096, 22704069, 22715506, 22733533, 22748332, 22762560, 22779542, 22779726, 22779746, 22780103, 22780158, 22780220, 22790196, 22794272, 22795221, 22830508, 22857268, 22878070, 22985354, 22986139, 23001611, 23002904, 23021573, 23024273, 23035859, 23041312, 23086483, 23091139, 23110266, 23169146, 23184876, 23252443, 23277230, 23293483, 23322795, 23357738, 23370484, 23372850, 23373090, 23377410, 23416536, 23417781, 23450331, 23478580, 23485972, 23508191, 23528303, 23540194, 23565653, 23595420, 23626799, 23627589, 23648504, 23650259, 23668849, 23669006, 23681735, 23682816, 23713359, 23722695, 23744773, 23752922, 23765937, 23766156, 23771486, 23788708, 23804690, 23818526, 23820538, 23827761, 23860219, 23894929, 23900717, 23901030, 23943948, 23955348, 23995936, 24080464, 24086457, 24099296, 24100492, 24101160, 24132058, 24135740, 24136557, 24136740, 24137869, 24156731, 24171777, 24182137, 24205351, 24260247, 24260404, 24287863, 24302828, 24351719, 24370001, 24408535, 24445876, 24528199, 24535740, 24554027, 24593351, 24618542, 24632399, 24633966, 24673017, 24673759, 24677926, 24698087, 24700856, 24733112, 24754074, 24780232, 24808062, 24820939, 24836464, 24852836, 24856020, 24865151, 24895943, 24935048, 24941609, 24945253, 24948017, 24983084, 24992835, 24993467, 25006193, 25018204, 25031387, 25034108, 25048962, 25049405, 25057198, 25074072, 25100219, 25134894, 25135206, 25137887, 25145947, 25166331, 25169866, 25187461, 25190223, 25190757, 25232254, 25264664, 25290572, 25290969, 25311295, 25319136, 25326478, 25338619, 25340516, 25346963, 25367421, 25389925, 25403196, 25416257, 25462356, 25491443, 25511717, 25517197, 25520827, 25538850, 25541772, 25543393, 25543561, 25580113, 25607226, 25677571, 25686640, 25734212, 25776872, 25798461, 25812660, 25813627, 25832504, 25872255, 25872636, 25902370, 25935054, 25940097, 25949539, 25970826, 25973941, 25997567, 25997748, 25997752, 25997937, 26000298, 26002676, 26036438, 26039725, 26057878, 26058634, 26059525, 26061532, 26093497, 26121892, 26139678, 26157426, 26166987, 26188604, 26198112, 26205265, 26247578, 26251659, 26320074, 26320521, 26337439, 26361090, 26366913, 26385422, 26417856, 26424516, 26467543, 26555338, 26561464, 26665387, 26748151, 26750740, 26756546, 26832286, 26837745, 26839759, 26871154, 26914676, 26946903, 26948562, 26960589, 26993244, 27015441, 27015464, 27034834, 27046708, 27047594, 27056608, 27084832, 27089110, 27132102, 27161388, 27161807, 27203347, 27214615, 27215807, 27216072, 27216826, 27222175, 27237510, 27237511, 27237512, 27237516, 27237526, 27237539, 27237549, 27237563, 27237570, 27237572, 27237577, 27237578, 27237583, 27237586, 27237591, 27237604, 27237606, 27237609, 27237610, 27237623, 27237625, 27237631, 27252615, 27277569, 27278017, 27298901, 27299174, 27336951, 27363172, 27365908, 27373536, 27385494, 27385966, 27386339, 27386991, 27387265, 27392814, 27398782, 27406282, 27416658, 27457026, 27461602, 27518599, 27521147, 27526997, 27546818, 27551807, 27573767, 27579698, 27579844, 27579923, 27610009, 27624539, 27627627, 27629043, 27650624, 27656752, 27722209, 27759455, 27765541, 27782804, 27802430, 27831928, 27849339, 27904413, 27906875, 27923577, 27935275, 27948294, 27958825, 27959042, 27959548, 27982303, 27987391, 27992581, 28013709, 28026246, 28031581, 28042839, 28075828, 28100131, 28100333, 28121527, 28128149, 28153873, 28187115, 28242697, 28257309, 28287064, 28287653, 28308278, 28310943, 28314689, 28336933, 28391441, 28426648, 28429572, 28438216, 28439263, 28463654, 28467737, 28483408, 28492753, 28500619, 28501387, 28513450, 28531920, 28536172, 28537361, 28539464, 28542484, 28587806, 28606376, 28635863, 28654606, 28715332, 28734234, 28737860, 28779428, 28785361, 28807969, 28820641, 28864263, 28913683, 28931731, 28933262, 28952972, 28960088, 29005584, 29027424, 29035162, 29037359, 29051841, 29052179, 29059768, 29061711, 29063413, 29078251, 29138655, 29158470, 29181281, 29237220, 29240070, 29242599, 29277834, 29281407, 29295665, 29308138, 29327591, 29332969, 29336271, 29365566, 29393117, 29410763, 29411550, 29424522, 29456271, 29486682, 29495933, 29504721, 29513000, 29517566, 29542012, 29544793, 29547314, 29560863, 29565064, 29584099, 29588371, 29605492, 29614580, 29628834, 29631765, 29650402, 29674246, 29681004, 29704561, 29710463, 29712306, 29734326, 29734919, 29736711, 29800895, 29803428, 29823499, 29847462, 29851718, 29875137, 29875238, 29881620, 29885196, 29899574, 29918219, 29920153, 29923555, 29923582, 29923618, 29923654, 29923697, 29935981, 29942901, 29945516, 29948786, 29958350, 29964348, 29966643, 29983341, 29994325, 30012164, 30014439, 30019462, 30020439, 30020524, 30035166, 30038437, 30046140, 30067470, 30087377, 30089955, 30091241, 30101694, 30102666, 30103053, 30106965, 30122033, 30124398, 30133610, 30142833, 30145754, 30146411, 30152553, 30154255, 30159383, 30177307, 30179242, 30186121, 30193023, 30193024, 30193032, 30193034, 30193035, 30193036, 30193131, 30193136, 30193147, 30193154, 30193183, 30193201, 30193239, 30193258, 30193314, 30193325, 30193326, 30193344, 30193345, 30193375, 30193397, 30193408, 30193428, 30193432, 30193485, 30193536, 30206026, 30227054, 30231478, 30231632, 30253236, 30266235, 30293703, 30295927, 30310672, 30313152, 30313661, 30314104, 30314337, 30314623, 30315087, 30340089, 30340538, 30341514, 30347099, 30348506, 30364369, 30370601, 30370630, 30387064, 30387173, 30387280, 30387305, 30387377, 30387838, 30387856, 30387983, 30388313, 30388449, 30388944, 30389066, 30389115, 30389224, 30389474, 30389559, 30389608, 30392986, 30393194, 30393286, 30393443, 30393555, 30393583, 30393803, 30393921, 30393944, 30394071, 30394105, 30394179, 30394274, 30394467, 30394622, 30398902, 30399838, 30440427, 30443976, 30445156, 30446240, 30460606, 30463419, 30463784, 30464266, 30469464, 30496490, 30499163, 30510553, 30512582, 30526261, 30528551, 30530151, 30530758, 30531270, 30538753, 30552071, 30552204, 30552680, 30552921, 30562364, 30567064, 30568383, 30587461, 30589636, 30656450, 30686886, 30702384, 30714036, 30718238, 30735480, 30737182, 30739837, 30744215, 30744585, 30754138, 30763950, 30764665, 30764972, 30773558, 30792566, 30799299, 30814580, 30814778, 30815072, 30815183, 30818441, 30853297, 30882893, 30884263, 30885018, 30885549, 30904215, 30906400, 30909287, 30910732, 30912652, 30916118, 30924308, 30924783, 30925552, 30927349, 30927844, 30929724, 30930476, 30935679, 30945324, 30950186, 30950513, 30956885, 30962126, 30974737, 30980594, 30981245, 30982372, 31001555, 31014208, 31018438, 31019621, 31020087, 31035955, 31052910, 31059276, 31075136, 31084737, 31088862, 31092944, 31104180, 31120563, 31127742, 31144697, 31149094, 31185117, 31188274, 31190326, 31283531, 31283904, 31287886, 31290477, 31310624, 31325866, 31340283, 31351908, 31352270, 31353429, 31377252, 31389656, 31419862, 31444634, 31465478, 31469483, 31470004, 31475440, 31514807, 31533898, 31534613, 31539570, 31615207, 31652254, 31726939, 31755223, 31799369, 31818460, 31832851, 31884652, 31909623, 31916725, 31925535, 31961731, 31980794, 32007435, 32019847, 32034149, 32035609, 32037930, 32039920, 32047248, 32054416, 32054475, 32054910, 32058864, 32065845, 32080210, 32089161, 32104047, 32123225, 32137481, 32159820, 32168942, 32176821, 32182464, 32191213, 32209753, 32223317, 32224165, 32224211, 32225186, 32225187, 32225206, 32235802, 32236518, 32236951, 32237240, 32237413, 32237493, 32237634, 32237640, 32237692, 32238462, 32238694, 32238730, 32239640, 32240183, 32240788, 32240896, 32240966, 32284628, 32285425, 32306605, 32317538, 32326698, 32327326, 32327466, 32342394, 32342911, 32345140, 32355657, 32370730, 32371865, 32379480, 32400749, 32420792, 32438036, 32457051, 32458305, 32463707, 32476606, 32484743, 32496993, 32523945, 32549039, 32552560, 32560880, 32561334, 32562943, 32563657, 32572192, 32577223, 32608451, 32634265, 32634435, 32634514, 32634671, 32634720, 32634964, 32635018, 32635722, 32657797, 32666534, 32667705, 32668712, 32669067, 32678718, 32681584, 32683422, 32683433, 32695489, 32714417, 32714435, 32721182, 32721316, 32740761, 32760292, 32780360, 32805414, 32814024, 32821769, 32838270, 32861073, 32875637, 32893084, 32926087, 32961345, 33007610, 33029434, 33038567, 33046604, 33068174, 33072230, 33094281, 33097224, 33101286, 33115153, 33129033, 33130688, 33133321, 33137479, 33138120, 33155912, 33171891, 33189755, 33194789, 33228127, 33253620, 33267342, 33279205, 33279239, 33317478, 33326342, 33330161, 33334476, 33341083, 33346748, 33361844, 33365489, 33396290, 33397385, 33400953, 33422875, 33427855, 33429437, 33448577, 33451336, 33467371, 33471012, 33473664, 33513897, 33519952, 33521985, 33526801, 33527778, 33530151, 33530282, 33546136, 33550800, 33558445, 33577934, 33578217, 33580008, 33580893, 33580907, 33583238, 33586722, 33618854, 33641209, 33660911, 33660966, 33664228, 33682555, 33683971, 33687456, 33689606, 33705120, 33709053, 33709253, 33709508, 33709754, 33717623, 33718046, 33718909, 33720269, 33737434, 33741545, 33743424, 33745270, 33781532, 33787919, 33796251, 33800823, 33829538, 33833470, 33833636, 33835408, 33851532, 33878676, 33891559, 33896459, 33909539, 33928971, 33930883, 33944331, 33944634, 33947095, 33970850, 33972459, 33994677, 33998142, 33998269, 33998396, 34008808, 34017043, 34029489, 34029837, 34035902, 34036047, 34056586, 34056750, 34060242, 34082709, 34084341, 34085087, 34086800, 34096795, 34096836, 34096839, 34096841, 34118872, 34119451, 34120534, 34124100, 34127215, 34147375, 34147733, 34150501, 34155626, 34156010, 34157056, 34168420, 34169395, 34177117, 34177796, 34180413, 34181077, 34183825, 34191165, 34202651, 34203594, 34204173, 34208674, 34221161, 34222823, 34233364, 34247014, 34253279, 34256176, 34256683, 34260966, 34278125, 34287159, 34301415, 34304190, 34305085, 34308485, 34311549, 34312320, 34313143, 34313960, 34314231, 34316788, 34318100, 34320892, 34323636, 34331364, 34335188, 34337151, 34340758, 34362400, 34369458, 34372753, 34373538, 34386648, 34389381, 34389997, 34391530, 34391964, 34392073, 34393999, 34397351, 34414240, 34415489, 34415755, 34419834, 34420423, 34428476, 34439212, 34446327, 34447284, 34451494, 34471524, 34473487, 34478718, 34483424, 34483425, 34483426, 34483427, 34483430, 34483431, 34483432, 34483433, 34483434, 34483436, 34483439, 34483440, 34483443, 34492605, 34498121, 34498765, 34502763, 34504058, 34509379, 34511326, 34511422, 34511584, 34514860, 34517087, 34517661, 34517666, 34517668, 34518079, 34518082, 34538751, 34543513, 34543610, 34543674, 34543905, 34549093, 34562857, 34572976, 34592851, 34593016, 34593055, 34595255, 34599215, 34617093, 34641120, 34644063, 34645293, 34648133, 34676486, 34678207, 34678628, 34680900, 34681778, 34686108, 34708657, 34716458, 34719445, 34737386, 34757500, 34785850, 34790450, 34790702, 34805654, 34806115, 34813344, 34816480, 34817571, 34833931, 34835762, 34836737, 34837017, 34837784, 34837940, 34838351, 34840495, 34843761, 34859949, 34864369, 34866447, 34866682, 34867034, 34868182, 34887720, 34889154, 34890465, 34895693, 34901323, 34905935, 34915860, 34922682, 34937287, 34937685, 34938245, 34938631, 34944309, 34944655, 34947011, 34953317, 34967678, 34970373, 34975056, 34976056, 34981466, 34981637, 34983299, 34995443, 34995803, 34996136, 34996955, 34997360, 34997446, 34997773, 34997894, 34998610, 34999415, 35000157, 35000403, 35000596, 35000978, 35000981, 35005222, 35005373, 35005774, 35005797, 35007203, 35007240, 35008478, 35008790, 35021821, 35023464, 35025851, 35028480, 35029551, 35031778, 35037136, 35038048, 35038124, 35050872, 35056734, 35059177, 35060675, 35066396, 35069936, 35070555, 35071302, 35075812, 35092820, 35098251, 35100775, 35108156, 35109246, 35118554, 35122826, 35123753, 35125528, 35128367, 35132016, 35144255, 35147457, 35152601, 35154411, 35154533, 35154668, 35154803, 35154913, 35155176, 35155925, 35161225, 35163290, 35165258, 35166495, 35181903, 35182202, 35183070, 35187654, 35188017, 35189052, 35189990, 35192314, 35193964, 35196447, 35197271, 35198287, 35199464, 35204821, 35206134, 35212471, 35225375, 35226973, 35228596, 35228797, 35229657, 35230465, 35230999, 35231242, 35232437, 35233037, 35233128, 35233606, 35233735, 35233962, 35233998, 35237894, 35249301, 35249610, 35252356, 35252737, 35260994, 35262993, 35263416, 35264260, 35281731, 35288933, 35289022, 35297214, 35310394, 35314580, 35317128, 35330965, 35337180, 35338703, 35341959, 35345358, 35347096, 35348683, 35350827, 35351599, 35353949, 35374230, 35379061, 35380648, 35386983, 35387029, 35388899, 35397690, 35408369, 35412877, 35413988, 35415829, 35416249, 35416343, 35416507, 35416674, 35416914, 35417147, 35417968, 35419996, 35425429, 35425596, 35447651, 35451163, 35451608, 35454095, 35459319, 35464309, 35464492, 35465165, 35465452, 35466749, 35468369, 35475475, 35481836, 35491013, 35492112, 35492876, 35495582, 35515733, 35520176, 35535750, 35540614, 35542412, 35568112, 35569456, 35569459, 35570674, 35573043, 35576863, 35579504, 35579856, 35580335, 35583886, 35595716, 35596923, 35600813, 35602964, 35604874, 35605729, 35606381, 35606542, 35608603, 35615687, 35635841, 35638345, 35639073, 35641231, 35642484, 35646392, 35646539, 35648056, 35653043, 35658677, 35673061, 35677001, 35682980, 35683012, 35683489, 35706068, 35709450, 35709875, 35713184, 35715171, 35717719, 35717735, 35718516, 35719162, 35720329, 35734363, 35740429, 35740468, 35740661, 35740944, 35741268, 35742470, 35757257, 35770104, 35772374, 35772999, 35791325, 35794415, 35800046, 35800764, 35808103, 35808498, 35821347, 35833041, 35846059, 35859800, 35863145, 35864796, 35864932, 35870390, 35871541, 35876236, 35877755, 35880719, 35881797, 35882372, 35884220, 35898307, 35900353, 35902528, 35903155, 35908075, 35909458, 35912059, 35929061, 35933956, 35936418, 35936654, 35937183, 35937891, 35943648, 35946646, 35947579, 35947912, 35954294, 35962668, 35962803, 35966672, 35968862, 35985851, 35991985, 36000376, 36002044, 36002707, 36024736, 36029691, 36056808, 36061406, 36061459, 36074198, 36080023, 36087720, 36097970, 36099118, 36106800, 36114840, 36120857, 36145134, 36146672, 36177241, 36186719, 36189195, 36189257, 36199090, 36207223, 36228909, 36254789, 36260895, 36279099, 36282795, 36283398, 36302780, 36303421, 36304817, 36305881, 36308562, 36309780, 36310353, 36311055, 36315657, 36315692, 36315721, 36315794, 36329299, 36344347, 36349092, 36351333, 36378818, 36382093, 36382761, 36384487, 36388720, 36395677, 36404568, 36404784, 36404972, 36413632, 36415840, 36416759, 36417250, 36419291, 36419574, 36420289, 36450896, 36452721, 36453160, 36457700]\n"
     ]
    }
   ],
   "source": [
    "# Identify the outliers present \n",
    "outliers = data_air[(data_air['price'] < lower_bound) | (data_air['price'] > upper_bound)]\n",
    "\n",
    "# Printing the outliers\n",
    "print(\"Outliers:\")\n",
    "print(outliers[['id', 'price']])\n",
    "\n",
    "# Create a list of outlier IDs\n",
    "outlier_ids = list(outliers['id'])\n",
    "\n",
    "print(\"Outlier IDs:\")\n",
    "print(outlier_ids)\n"
   ]
  },
  {
   "cell_type": "code",
   "execution_count": 246,
   "metadata": {},
   "outputs": [
    {
     "name": "stdout",
     "output_type": "stream",
     "text": [
      "45923\n"
     ]
    }
   ],
   "source": [
    "# delete the outlier's\n",
    "filtered_df = data_air[~data_air['id'].isin(outlier_ids)]\n",
    "filtered_df_length = len(filtered_df)\n",
    "\n",
    "print(filtered_df_length)"
   ]
  },
  {
   "cell_type": "code",
   "execution_count": 247,
   "metadata": {},
   "outputs": [
    {
     "name": "stdout",
     "output_type": "stream",
     "text": [
      "119.97031988328288\n",
      "100.0\n",
      "0\n",
      "334\n"
     ]
    }
   ],
   "source": [
    "price_mean = filtered_df['price'].mean()\n",
    "price_median = filtered_df['price'].median()\n",
    "price_min = filtered_df['price'].min()\n",
    "price_max = filtered_df['price'].max()\n",
    "\n",
    "print(price_mean)\n",
    "print(price_median)\n",
    "print(price_min)\n",
    "print(price_max)"
   ]
  },
  {
   "cell_type": "code",
   "execution_count": 248,
   "metadata": {},
   "outputs": [
    {
     "name": "stdout",
     "output_type": "stream",
     "text": [
      "count    45923.000000\n",
      "mean       119.970320\n",
      "std         68.150148\n",
      "min          0.000000\n",
      "25%         65.000000\n",
      "50%        100.000000\n",
      "75%        159.000000\n",
      "max        334.000000\n",
      "Name: price, dtype: float64\n"
     ]
    }
   ],
   "source": [
    "price_stats = filtered_df['price'].describe()\n",
    "\n",
    "print(price_stats)"
   ]
  }
 ],
 "metadata": {
  "kernelspec": {
   "display_name": "Python 3",
   "language": "python",
   "name": "python3"
  },
  "language_info": {
   "codemirror_mode": {
    "name": "ipython",
    "version": 3
   },
   "file_extension": ".py",
   "mimetype": "text/x-python",
   "name": "python",
   "nbconvert_exporter": "python",
   "pygments_lexer": "ipython3",
   "version": "3.11.1"
  },
  "orig_nbformat": 4
 },
 "nbformat": 4,
 "nbformat_minor": 2
}
