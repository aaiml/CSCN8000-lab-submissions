{
 "cells": [
  {
   "cell_type": "code",
   "execution_count": 1,
   "metadata": {},
   "outputs": [],
   "source": [
    "import numpy as np\n"
   ]
  },
  {
   "attachments": {},
   "cell_type": "markdown",
   "metadata": {},
   "source": [
    "Create an array that starts from 1, ends at 20, and is incremented by 3:"
   ]
  },
  {
   "cell_type": "code",
   "execution_count": 10,
   "metadata": {},
   "outputs": [
    {
     "name": "stdout",
     "output_type": "stream",
     "text": [
      "[ 1  4  7 10 13 16 19]\n"
     ]
    }
   ],
   "source": [
    "array1 = np.arange(1, 21, 3)\n",
    "print(array1)\n"
   ]
  },
  {
   "attachments": {},
   "cell_type": "markdown",
   "metadata": {},
   "source": [
    "Create a new array of shape 3 with random numbers between 0 and 1:"
   ]
  },
  {
   "cell_type": "code",
   "execution_count": 11,
   "metadata": {},
   "outputs": [
    {
     "name": "stdout",
     "output_type": "stream",
     "text": [
      "[0.32679543 0.35788991 0.22762311]\n"
     ]
    }
   ],
   "source": [
    "array2 = np.random.rand(3)\n",
    "print(array2)\n"
   ]
  },
  {
   "attachments": {},
   "cell_type": "markdown",
   "metadata": {},
   "source": [
    "Create a 2D array and perform slicing operations:"
   ]
  },
  {
   "cell_type": "code",
   "execution_count": 16,
   "metadata": {},
   "outputs": [
    {
     "name": "stdout",
     "output_type": "stream",
     "text": [
      "First two rows:\n",
      "[[10 20 45]\n",
      " [30 12 16]]\n",
      "\n",
      "Last two rows:\n",
      "[[30 12 16]\n",
      " [42 17 56]]\n"
     ]
    }
   ],
   "source": [
    "import numpy as np\n",
    "\n",
    "# Creating a 2D array\n",
    "array_2d = np.array([[10, 20, 45],\n",
    "                     [30, 12, 16],\n",
    "                     [42, 17, 56]])\n",
    "\n",
    "# Slicing the first two rows\n",
    "first_two_rows = array_2d[:2, :]\n",
    "\n",
    "# Slicing the last two rows\n",
    "last_two_rows = array_2d[1:, :]\n",
    "\n",
    "# Printing the results\n",
    "print(\"First two rows:\")\n",
    "print(first_two_rows)\n",
    "print()\n",
    "\n",
    "print(\"Last two rows:\")\n",
    "print(last_two_rows)\n",
    "\n"
   ]
  },
  {
   "attachments": {},
   "cell_type": "markdown",
   "metadata": {},
   "source": [
    "Create two 2x2 arrays and demonstrate how you can stack the elements vertically, horizontally, and split the arrays into smaller arrays."
   ]
  },
  {
   "cell_type": "code",
   "execution_count": 18,
   "metadata": {},
   "outputs": [
    {
     "name": "stdout",
     "output_type": "stream",
     "text": [
      "Original Array 1:\n",
      "[[1 2]\n",
      " [3 4]]\n",
      "\n",
      "Original Array 2:\n",
      "[[5 6]\n",
      " [7 8]]\n",
      "\n",
      "Vertically Stacked Array:\n",
      "[[1 2]\n",
      " [3 4]\n",
      " [5 6]\n",
      " [7 8]]\n",
      "\n",
      "Horizontally Stacked Array:\n",
      "[[1 2 5 6]\n",
      " [3 4 7 8]]\n",
      "\n",
      "Split Horizontal Array 1:\n",
      "[[1 2]\n",
      " [3 4]]\n",
      "\n",
      "Split Horizontal Array 2:\n",
      "[[5 6]\n",
      " [7 8]]\n"
     ]
    }
   ],
   "source": [
    "import numpy as np\n",
    "\n",
    "# Creating two 2x2 arrays\n",
    "array1 = np.array([[1, 2],\n",
    "                   [3, 4]])\n",
    "\n",
    "array2 = np.array([[5, 6],\n",
    "                   [7, 8]])\n",
    "\n",
    "# Vertically stacking the arrays\n",
    "vertical_stack = np.vstack((array1, array2))\n",
    "\n",
    "# Horizontally stacking the arrays\n",
    "horizontal_stack = np.hstack((array1, array2))\n",
    "\n",
    "# Splitting the horizontally stacked array\n",
    "split_horizontal = np.hsplit(horizontal_stack, 2)\n",
    "\n",
    "# Printing the original arrays\n",
    "print(\"Original Array 1:\")\n",
    "print(array1)\n",
    "print()\n",
    "\n",
    "print(\"Original Array 2:\")\n",
    "print(array2)\n",
    "print()\n",
    "\n",
    "# Printing the vertically stacked array\n",
    "print(\"Vertically Stacked Array:\")\n",
    "print(vertical_stack)\n",
    "print()\n",
    "\n",
    "# Printing the horizontally stacked array\n",
    "print(\"Horizontally Stacked Array:\")\n",
    "print(horizontal_stack)\n",
    "print()\n",
    "\n",
    "# Printing the split arrays\n",
    "print(\"Split Horizontal Array 1:\")\n",
    "print(split_horizontal[0])\n",
    "print()\n",
    "\n",
    "print(\"Split Horizontal Array 2:\")\n",
    "print(split_horizontal[1])\n",
    "\n"
   ]
  },
  {
   "attachments": {},
   "cell_type": "markdown",
   "metadata": {},
   "source": [
    "Create two matrices X= ([[5, 7, 2], [4, 5, 6], [7, 4 ,2]]) Y= ([[4, 2], [6, 2], [4, 2]]), Is it possible to multiply these matrices? \n",
    "         \n",
    "          Demonstrate the case when it is not possible to."
   ]
  },
  {
   "cell_type": "code",
   "execution_count": 21,
   "metadata": {},
   "outputs": [
    {
     "name": "stdout",
     "output_type": "stream",
     "text": [
      "Matrix multiplication is possible.\n",
      "Result of matrix multiplication:\n",
      "[[70 28]\n",
      " [70 30]\n",
      " [60 26]]\n"
     ]
    }
   ],
   "source": [
    "import numpy as np\n",
    "\n",
    "# Creating matrices X and Y\n",
    "X = np.array([[5, 7, 2],\n",
    "              [4, 5, 6],\n",
    "              [7, 4, 2]])\n",
    "\n",
    "Y = np.array([[4, 2],\n",
    "              [6, 2],\n",
    "              [4, 2]])\n",
    "\n",
    "# Checking if matrix multiplication is possible\n",
    "if X.shape[1] == Y.shape[0]:\n",
    "    result = np.dot(X, Y)\n",
    "    print(\"Matrix multiplication is possible.\")\n",
    "    print(\"Result of matrix multiplication:\")\n",
    "    print(result)\n",
    "else:\n",
    "    print(\"Matrix multiplication is not possible.\")\n",
    "    \n",
    "\n",
    "\n"
   ]
  },
  {
   "attachments": {},
   "cell_type": "markdown",
   "metadata": {},
   "source": [
    "Reason behind matrix multiplication is not possible:\n",
    "\n",
    "If the number of columns in X does not match the number of rows in Y, matrix multiplication is not possible, and an appropriate message will be displayed.\n",
    "\n"
   ]
  },
  {
   "attachments": {},
   "cell_type": "markdown",
   "metadata": {},
   "source": [
    "Create two arrays, x = ([2, -1, -8]) y = ([3, 1, -2]), Find the Shape, Number of dimensions of vector x.\n",
    "         \n",
    "          Reshape the vector x to a matrix of size (3,1) and determine the number of dimensions after reshaping y to a matrix of (3,1).\n",
    "          "
   ]
  },
  {
   "cell_type": "code",
   "execution_count": 22,
   "metadata": {},
   "outputs": [
    {
     "name": "stdout",
     "output_type": "stream",
     "text": [
      "Vector x:\n",
      "Shape: (3,)\n",
      "Number of dimensions: 1\n",
      "\n",
      "Reshaped matrix of x:\n",
      "[[ 2]\n",
      " [-1]\n",
      " [-8]]\n",
      "Number of dimensions after reshaping: 2\n",
      "\n",
      "Reshaped matrix of y:\n",
      "[[ 3]\n",
      " [ 1]\n",
      " [-2]]\n",
      "Number of dimensions after reshaping: 2\n",
      "Dimensions: (2, 3)\n"
     ]
    }
   ],
   "source": [
    "import numpy as np\n",
    "\n",
    "# Creating arrays x and y\n",
    "x = np.array([2, -1, -8])\n",
    "y = np.array([3, 1, -2])\n",
    "\n",
    "# Finding shape and number of dimensions of vector x\n",
    "x_shape = x.shape\n",
    "x_dims = x.ndim\n",
    "\n",
    "# Reshaping x and y to matrices of size (3,1)\n",
    "x_matrix = x.reshape(3, 1)\n",
    "y_matrix = y.reshape(3, 1)\n",
    "\n",
    "# Determining number of dimensions after reshaping\n",
    "x_matrix_dims = x_matrix.ndim\n",
    "y_matrix_dims = y_matrix.ndim\n",
    "\n",
    "# Printing the results\n",
    "print(\"Vector x:\")\n",
    "print(\"Shape:\", x_shape)\n",
    "print(\"Number of dimensions:\", x_dims)\n",
    "print()\n",
    "\n",
    "print(\"Reshaped matrix of x:\")\n",
    "print(x_matrix)\n",
    "print(\"Number of dimensions after reshaping:\", x_matrix_dims)\n",
    "print()\n",
    "\n",
    "print(\"Reshaped matrix of y:\")\n",
    "print(y_matrix)\n",
    "print(\"Number of dimensions after reshaping:\", y_matrix_dims)\n",
    "print(\"Dimensions:\", matrix2.shape)\n"
   ]
  },
  {
   "attachments": {},
   "cell_type": "markdown",
   "metadata": {},
   "source": [
    " How does broadcasting work? Demonstrate the subtraction, multiplication by considering a 3 x 3 matrix."
   ]
  },
  {
   "attachments": {},
   "cell_type": "markdown",
   "metadata": {},
   "source": [
    "The following are NumPy's broadcasting rules:\n",
    "\n",
    "The smaller array is padded with ones on its left side until the number of dimensions match if the arrays have differing numbers of dimensions.\n",
    "\n",
    "The array with shape equal to 1 in that dimension is extended to match the shape of the other array if the shapes of the arrays do not match in any dimension.\n",
    "\n",
    "A \"ValueError: Operands could not be broadcast together\" error is raised if the arrays' matching dimensions' widths are not identical, nor is 1."
   ]
  },
  {
   "cell_type": "code",
   "execution_count": 23,
   "metadata": {},
   "outputs": [
    {
     "name": "stdout",
     "output_type": "stream",
     "text": [
      "Original matrix:\n",
      "[[1 2 3]\n",
      " [4 5 6]\n",
      " [7 8 9]]\n",
      "\n",
      "Matrix after subtraction:\n",
      "[[-1  0  1]\n",
      " [ 2  3  4]\n",
      " [ 5  6  7]]\n",
      "\n",
      "Matrix after multiplication:\n",
      "[[ 3  6  9]\n",
      " [12 15 18]\n",
      " [21 24 27]]\n"
     ]
    }
   ],
   "source": [
    "import numpy as np\n",
    "\n",
    "# Creating a 3x3 matrix\n",
    "matrix = np.array([[1, 2, 3],\n",
    "                   [4, 5, 6],\n",
    "                   [7, 8, 9]])\n",
    "\n",
    "# Broadcasting subtraction\n",
    "subtracted = matrix - 2\n",
    "\n",
    "# Broadcasting multiplication\n",
    "multiplied = matrix * 3\n",
    "\n",
    "# Printing the original matrix and the results\n",
    "print(\"Original matrix:\")\n",
    "print(matrix)\n",
    "print()\n",
    "\n",
    "print(\"Matrix after subtraction:\")\n",
    "print(subtracted)\n",
    "print()\n",
    "\n",
    "print(\"Matrix after multiplication:\")\n",
    "print(multiplied)\n",
    "\n"
   ]
  },
  {
   "attachments": {},
   "cell_type": "markdown",
   "metadata": {},
   "source": [
    "Line Graph: A line graph represents data with continuous variables, where data points are connected by lines to show trends or patterns."
   ]
  },
  {
   "attachments": {},
   "cell_type": "markdown",
   "metadata": {},
   "source": [
    "<!-- Line Graph: A line graph represents data with continuous variables, where data points are connected by lines to show trends or patterns. -->\n"
   ]
  },
  {
   "cell_type": "code",
   "execution_count": 24,
   "metadata": {},
   "outputs": [
    {
     "data": {
      "image/png": "[encoded data removed]",
      "text/plain": [
       "<Figure size 640x480 with 1 Axes>"
      ]
     },
     "metadata": {},
     "output_type": "display_data"
    }
   ],
   "source": [
    "import matplotlib.pyplot as plt\n",
    "\n",
    "# Sample data\n",
    "x = [1, 2, 3, 4, 5]\n",
    "y = [2, 4, 6, 8, 10]\n",
    "\n",
    "# Create the line graph\n",
    "plt.plot(x, y)\n",
    "\n",
    "# Customize the graph\n",
    "plt.title(\"Line Graph\")\n",
    "plt.xlabel(\"X-axis\")\n",
    "plt.ylabel(\"Y-axis\")\n",
    "\n",
    "# Display the graph\n",
    "plt.show()\n"
   ]
  },
  {
   "attachments": {},
   "cell_type": "markdown",
   "metadata": {},
   "source": [
    "Bar Graph: A bar graph displays data using rectangular bars of varying heights. Each bar represents a category, and the height of the bar indicates the value of the category.\n"
   ]
  },
  {
   "cell_type": "code",
   "execution_count": 25,
   "metadata": {},
   "outputs": [
    {
     "data": {
      "image/png": "[encoded data removed]",
      "text/plain": [
       "<Figure size 640x480 with 1 Axes>"
      ]
     },
     "metadata": {},
     "output_type": "display_data"
    }
   ],
   "source": [
    "import matplotlib.pyplot as plt\n",
    "\n",
    "# Sample data\n",
    "categories = ['Category A', 'Category B', 'Category C', 'Category D']\n",
    "values = [25, 50, 30, 45]\n",
    "\n",
    "# Create the bar graph\n",
    "plt.bar(categories, values)\n",
    "\n",
    "# Customize the graph\n",
    "plt.title(\"Bar Graph\")\n",
    "plt.xlabel(\"Categories\")\n",
    "plt.ylabel(\"Values\")\n",
    "\n",
    "# Display the graph\n",
    "plt.show()\n"
   ]
  },
  {
   "attachments": {},
   "cell_type": "markdown",
   "metadata": {},
   "source": [
    "Box Plot: A box plot, also known as a box-and-whisker plot, is a graphical representation of the distribution of a dataset. It provides a summary of the data's central tendency, spread, and outliers."
   ]
  },
  {
   "cell_type": "code",
   "execution_count": 27,
   "metadata": {},
   "outputs": [
    {
     "data": {
      "image/png": "[encoded data removed]",
      "text/plain": [
       "<Figure size 640x480 with 1 Axes>"
      ]
     },
     "metadata": {},
     "output_type": "display_data"
    }
   ],
   "source": [
    "import matplotlib.pyplot as plt\n",
    "import numpy as np\n",
    "\n",
    "# Sample data\n",
    "data1 = np.random.normal(loc=0, scale=1, size=100)\n",
    "data2 = np.random.normal(loc=2, scale=1.5, size=100)\n",
    "data3 = np.random.normal(loc=-2, scale=0.5, size=100)\n",
    "\n",
    "# Combine the data into a list\n",
    "data = [data1, data2, data3]\n",
    "\n",
    "# Create the box plot\n",
    "plt.boxplot(data)\n",
    "\n",
    "# Customize the graph\n",
    "plt.title(\"Box Plot\")\n",
    "plt.xlabel(\"Data Groups\")\n",
    "plt.ylabel(\"Values\")\n",
    "\n",
    "# Display the graph\n",
    "plt.show()\n"
   ]
  },
  {
   "attachments": {},
   "cell_type": "markdown",
   "metadata": {},
   "source": [
    "Scatter Plot: A scatter plot shows the relationship between two variables by plotting individual data points on a graph. Each point represents the values of the two variables."
   ]
  },
  {
   "cell_type": "code",
   "execution_count": 26,
   "metadata": {},
   "outputs": [
    {
     "data": {
      "image/png": "[encoded data removed]",
      "text/plain": [
       "<Figure size 640x480 with 1 Axes>"
      ]
     },
     "metadata": {},
     "output_type": "display_data"
    }
   ],
   "source": [
    "import matplotlib.pyplot as plt\n",
    "\n",
    "# Sample data\n",
    "x = [1, 2, 3, 4, 5]\n",
    "y = [2, 4, 6, 8, 10]\n",
    "\n",
    "# Create the scatter plot\n",
    "plt.scatter(x, y)\n",
    "\n",
    "# Customize the graph\n",
    "plt.title(\"Scatter Plot\")\n",
    "plt.xlabel(\"X-axis\")\n",
    "plt.ylabel(\"Y-axis\")\n",
    "\n",
    "# Display the graph\n",
    "plt.show()\n"
   ]
  },
  {
   "attachments": {},
   "cell_type": "markdown",
   "metadata": {},
   "source": [
    "Histogram:A histogram is a graphical representation of the distribution of a dataset. It provides a visual summary of the underlying frequency or count of values within different intervals or bins. Histograms are commonly used to analyze the shape, central tendency, and spread of continuous or discrete data."
   ]
  },
  {
   "cell_type": "code",
   "execution_count": 28,
   "metadata": {},
   "outputs": [
    {
     "data": {
      "image/png": "[encoded data removed]",
      "text/plain": [
       "<Figure size 640x480 with 1 Axes>"
      ]
     },
     "metadata": {},
     "output_type": "display_data"
    }
   ],
   "source": [
    "import matplotlib.pyplot as plt\n",
    "import numpy as np\n",
    "\n",
    "# Sample data\n",
    "data = np.random.normal(loc=0, scale=1, size=1000)\n",
    "\n",
    "# Create the histogram\n",
    "plt.hist(data, bins=30)\n",
    "\n",
    "# Customize the graph\n",
    "plt.title(\"Histogram\")\n",
    "plt.xlabel(\"Values\")\n",
    "plt.ylabel(\"Frequency\")\n",
    "\n",
    "# Display the graph\n",
    "plt.show()\n"
   ]
  },
  {
   "attachments": {},
   "cell_type": "markdown",
   "metadata": {},
   "source": [
    "Part B: Solve the following two system of linear equations using matrices ( find the value of x1 and x2) and determine the number of solution using the function. Defining the feature matrix for the given set of solutions 2x+3x2-4x3 +6;x1-4x2+4x3=8"
   ]
  },
  {
   "cell_type": "code",
   "execution_count": null,
   "metadata": {},
   "outputs": [
    {
     "ename": "LinAlgError",
     "evalue": "Last 2 dimensions of the array must be square",
     "output_type": "error",
     "traceback": [
      "\u001b[1;31m---------------------------------------------------------------------------\u001b[0m",
      "\u001b[1;31mLinAlgError\u001b[0m                               Traceback (most recent call last)",
      "Cell \u001b[1;32mIn[1], line 12\u001b[0m\n\u001b[0;32m      8\u001b[0m B \u001b[39m=\u001b[39m np\u001b[39m.\u001b[39marray([[\u001b[39m6\u001b[39m],\n\u001b[0;32m      9\u001b[0m               [\u001b[39m8\u001b[39m]])\n\u001b[0;32m     11\u001b[0m \u001b[39m# Calculate the inverse of A\u001b[39;00m\n\u001b[1;32m---> 12\u001b[0m A_inv \u001b[39m=\u001b[39m np\u001b[39m.\u001b[39;49mlinalg\u001b[39m.\u001b[39;49minv(A)\n\u001b[0;32m     14\u001b[0m \u001b[39m# Calculate the solution X\u001b[39;00m\n\u001b[0;32m     15\u001b[0m X \u001b[39m=\u001b[39m np\u001b[39m.\u001b[39mdot(A_inv, B)\n",
      "File \u001b[1;32m<__array_function__ internals>:200\u001b[0m, in \u001b[0;36minv\u001b[1;34m(*args, **kwargs)\u001b[0m\n",
      "File \u001b[1;32mc:\\Users\\asus\\Desktop\\machine_learning\\CSCN8010\\venv\\CSCN8010_classic_ml\\Lib\\site-packages\\numpy\\linalg\\linalg.py:533\u001b[0m, in \u001b[0;36minv\u001b[1;34m(a)\u001b[0m\n\u001b[0;32m    531\u001b[0m a, wrap \u001b[39m=\u001b[39m _makearray(a)\n\u001b[0;32m    532\u001b[0m _assert_stacked_2d(a)\n\u001b[1;32m--> 533\u001b[0m _assert_stacked_square(a)\n\u001b[0;32m    534\u001b[0m t, result_t \u001b[39m=\u001b[39m _commonType(a)\n\u001b[0;32m    536\u001b[0m signature \u001b[39m=\u001b[39m \u001b[39m'\u001b[39m\u001b[39mD->D\u001b[39m\u001b[39m'\u001b[39m \u001b[39mif\u001b[39;00m isComplexType(t) \u001b[39melse\u001b[39;00m \u001b[39m'\u001b[39m\u001b[39md->d\u001b[39m\u001b[39m'\u001b[39m\n",
      "File \u001b[1;32mc:\\Users\\asus\\Desktop\\machine_learning\\CSCN8010\\venv\\CSCN8010_classic_ml\\Lib\\site-packages\\numpy\\linalg\\linalg.py:190\u001b[0m, in \u001b[0;36m_assert_stacked_square\u001b[1;34m(*arrays)\u001b[0m\n\u001b[0;32m    188\u001b[0m m, n \u001b[39m=\u001b[39m a\u001b[39m.\u001b[39mshape[\u001b[39m-\u001b[39m\u001b[39m2\u001b[39m:]\n\u001b[0;32m    189\u001b[0m \u001b[39mif\u001b[39;00m m \u001b[39m!=\u001b[39m n:\n\u001b[1;32m--> 190\u001b[0m     \u001b[39mraise\u001b[39;00m LinAlgError(\u001b[39m'\u001b[39m\u001b[39mLast 2 dimensions of the array must be square\u001b[39m\u001b[39m'\u001b[39m)\n",
      "\u001b[1;31mLinAlgError\u001b[0m: Last 2 dimensions of the array must be square"
     ]
    }
   ],
   "source": [
    "import numpy as np\n",
    "\n",
    "# Coefficient matrix A\n",
    "A = np.array([[2, 3, -4],\n",
    "              [1, -4, 4]])\n",
    "\n",
    "# Constant matrix B\n",
    "B = np.array([[6],\n",
    "              [8]])\n",
    "\n",
    "\n"
   ]
  },
  {
   "attachments": {},
   "cell_type": "markdown",
   "metadata": {},
   "source": [
    "So from this it is concluded that there should be one more equation for this."
   ]
  },
  {
   "attachments": {},
   "cell_type": "markdown",
   "metadata": {},
   "source": [
    "For 2:3y1-4y2+5y3=10;-y1+2y2-4y3"
   ]
  },
  {
   "cell_type": "code",
   "execution_count": 2,
   "metadata": {},
   "outputs": [
    {
     "ename": "LinAlgError",
     "evalue": "Last 2 dimensions of the array must be square",
     "output_type": "error",
     "traceback": [
      "\u001b[1;31m---------------------------------------------------------------------------\u001b[0m",
      "\u001b[1;31mLinAlgError\u001b[0m                               Traceback (most recent call last)",
      "Cell \u001b[1;32mIn[2], line 12\u001b[0m\n\u001b[0;32m      8\u001b[0m B \u001b[39m=\u001b[39m np\u001b[39m.\u001b[39marray([[\u001b[39m10\u001b[39m],\n\u001b[0;32m      9\u001b[0m               [\u001b[39m0\u001b[39m]])\n\u001b[0;32m     11\u001b[0m \u001b[39m# Calculate the inverse of A\u001b[39;00m\n\u001b[1;32m---> 12\u001b[0m A_inv \u001b[39m=\u001b[39m np\u001b[39m.\u001b[39;49mlinalg\u001b[39m.\u001b[39;49minv(A)\n\u001b[0;32m     14\u001b[0m \u001b[39m# Calculate the solution X\u001b[39;00m\n\u001b[0;32m     15\u001b[0m X \u001b[39m=\u001b[39m np\u001b[39m.\u001b[39mdot(A_inv, B)\n",
      "File \u001b[1;32m<__array_function__ internals>:200\u001b[0m, in \u001b[0;36minv\u001b[1;34m(*args, **kwargs)\u001b[0m\n",
      "File \u001b[1;32mc:\\Users\\asus\\Desktop\\machine_learning\\CSCN8010\\venv\\CSCN8010_classic_ml\\Lib\\site-packages\\numpy\\linalg\\linalg.py:533\u001b[0m, in \u001b[0;36minv\u001b[1;34m(a)\u001b[0m\n\u001b[0;32m    531\u001b[0m a, wrap \u001b[39m=\u001b[39m _makearray(a)\n\u001b[0;32m    532\u001b[0m _assert_stacked_2d(a)\n\u001b[1;32m--> 533\u001b[0m _assert_stacked_square(a)\n\u001b[0;32m    534\u001b[0m t, result_t \u001b[39m=\u001b[39m _commonType(a)\n\u001b[0;32m    536\u001b[0m signature \u001b[39m=\u001b[39m \u001b[39m'\u001b[39m\u001b[39mD->D\u001b[39m\u001b[39m'\u001b[39m \u001b[39mif\u001b[39;00m isComplexType(t) \u001b[39melse\u001b[39;00m \u001b[39m'\u001b[39m\u001b[39md->d\u001b[39m\u001b[39m'\u001b[39m\n",
      "File \u001b[1;32mc:\\Users\\asus\\Desktop\\machine_learning\\CSCN8010\\venv\\CSCN8010_classic_ml\\Lib\\site-packages\\numpy\\linalg\\linalg.py:190\u001b[0m, in \u001b[0;36m_assert_stacked_square\u001b[1;34m(*arrays)\u001b[0m\n\u001b[0;32m    188\u001b[0m m, n \u001b[39m=\u001b[39m a\u001b[39m.\u001b[39mshape[\u001b[39m-\u001b[39m\u001b[39m2\u001b[39m:]\n\u001b[0;32m    189\u001b[0m \u001b[39mif\u001b[39;00m m \u001b[39m!=\u001b[39m n:\n\u001b[1;32m--> 190\u001b[0m     \u001b[39mraise\u001b[39;00m LinAlgError(\u001b[39m'\u001b[39m\u001b[39mLast 2 dimensions of the array must be square\u001b[39m\u001b[39m'\u001b[39m)\n",
      "\u001b[1;31mLinAlgError\u001b[0m: Last 2 dimensions of the array must be square"
     ]
    }
   ],
   "source": [
    "import numpy as np\n",
    "\n",
    "# Coefficient matrix A\n",
    "A = np.array([[3, -4, 5],\n",
    "              [-1, 2, -4]])\n",
    "\n",
    "# Constant matrix B\n",
    "B = np.array([[10],\n",
    "              [0]])\n",
    "\n"
   ]
  },
  {
   "attachments": {},
   "cell_type": "markdown",
   "metadata": {},
   "source": [
    "It is not possible because one more equation is required for this."
   ]
  }
 ],
 "metadata": {
  "kernelspec": {
   "display_name": "CSCN8010_classic_ml",
   "language": "python",
   "name": "cscn8010_classic_ml"
  },
  "language_info": {
   "codemirror_mode": {
    "name": "ipython",
    "version": 3
   },
   "file_extension": ".py",
   "mimetype": "text/x-python",
   "name": "python",
   "nbconvert_exporter": "python",
   "pygments_lexer": "ipython3",
   "version": "3.11.3"
  },
  "orig_nbformat": 4
 },
 "nbformat": 4,
 "nbformat_minor": 2
}
