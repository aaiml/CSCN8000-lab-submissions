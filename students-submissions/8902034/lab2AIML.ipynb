{
 "cells": [
  {
   "attachments": {},
   "cell_type": "markdown",
   "metadata": {},
   "source": [
    "Part A:\n",
    "\n",
    "Use the Lab2 dataset provided. Load the dataset and split it into test and train. After that, train the model using Gaussian and Multinominal classifiers and post which model performs better. Use the trained model to perform some predictions on test data."
   ]
  },
  {
   "cell_type": "code",
   "execution_count": 12,
   "metadata": {},
   "outputs": [],
   "source": [
    "import pandas as pd\n",
    "from sklearn.model_selection import train_test_split\n",
    "\n",
    "# Load the dataset from the CSV file\n",
    "data = pd.read_csv('C:/Users/asus/Downloads/lab2_dataset.csv')\n",
    "\n",
    "# Split the data into features (text) and labels\n",
    "X = data['text']\n",
    "y = data['label_num']\n",
    "\n",
    "# Split the data into training and testing sets\n",
    "X_train, X_test, y_train, y_test = train_test_split(X, y, test_size=0.2, random_state=42)\n"
   ]
  },
  {
   "attachments": {},
   "cell_type": "markdown",
   "metadata": {},
   "source": [
    "So may now move on to train and test the Gaussian and Multinomial classifiers after getting the testing and training data ready. These classifiers are implemented by Scikit-Learn as GaussianNB and MultinomialNB, respectively. Here is an illustration of some code:"
   ]
  },
  {
   "cell_type": "code",
   "execution_count": 13,
   "metadata": {},
   "outputs": [
    {
     "name": "stdout",
     "output_type": "stream",
     "text": [
      "Gaussian Classifier Accuracy: 0.9545893719806763\n",
      "Multinomial Classifier Accuracy: 0.9719806763285024\n"
     ]
    }
   ],
   "source": [
    "from sklearn.feature_extraction.text import CountVectorizer\n",
    "from sklearn.naive_bayes import GaussianNB, MultinomialNB\n",
    "from sklearn.metrics import accuracy_score\n",
    "from sklearn.model_selection import train_test_split\n",
    "\n",
    "\n",
    "# Load the dataset from the CSV file\n",
    "data = pd.read_csv('C:/Users/asus/Downloads/lab2_dataset.csv')\n",
    "\n",
    "# Split the data into features (text) and labels\n",
    "X = data['text']\n",
    "y = data['label_num']\n",
    "\n",
    "# Split the data into training and testing sets\n",
    "X_train, X_test, y_train, y_test = train_test_split(X, y, test_size=0.2, random_state=42)\n",
    "\n",
    "# Create a CountVectorizer to convert text data into numerical features\n",
    "vectorizer = CountVectorizer()\n",
    "\n",
    "# Convert text data to numerical features for training and testing sets\n",
    "X_train_vectorized = vectorizer.fit_transform(X_train)\n",
    "X_test_vectorized = vectorizer.transform(X_test)\n",
    "\n",
    "# Train the Gaussian classifier\n",
    "gaussian_clf = GaussianNB()\n",
    "gaussian_clf.fit(X_train_vectorized.toarray(), y_train)\n",
    "\n",
    "# Train the Multinomial classifier\n",
    "multinomial_clf = MultinomialNB()\n",
    "multinomial_clf.fit(X_train_vectorized, y_train)\n",
    "\n",
    "\n",
    "# Make predictions on the test data\n",
    "gaussian_predictions = gaussian_clf.predict(X_test_vectorized.toarray())\n",
    "multinomial_predictions = multinomial_clf.predict(X_test_vectorized)\n",
    "\n",
    "# Evaluate the performance of the classifiers\n",
    "gaussian_accuracy = accuracy_score(y_test, gaussian_predictions)\n",
    "multinomial_accuracy = accuracy_score(y_test, multinomial_predictions)\n",
    "\n",
    "# Print the accuracies\n",
    "print(\"Gaussian Classifier Accuracy:\", gaussian_accuracy)\n",
    "print(\"Multinomial Classifier Accuracy:\", multinomial_accuracy)\n",
    "\n",
    "\n"
   ]
  },
  {
   "cell_type": "markdown",
   "metadata": {},
   "source": [
    "2: Use this air bnb new york city dataset and remove outliers based on price per night for a given apartment/home. You can demonstrate why using other techniques like mean/median/ percentile works. The task is to come up with a clean dataset that does not have outliers showcasing all the possibilities."
   ]
  },
  {
   "cell_type": "markdown",
   "metadata": {},
   "source": [
    "1: Import the pandas library:\n"
   ]
  },
  {
   "cell_type": "code",
   "execution_count": 14,
   "metadata": {},
   "outputs": [],
   "source": [
    "import pandas as pd\n"
   ]
  },
  {
   "cell_type": "markdown",
   "metadata": {},
   "source": [
    "2: Load the dataset:"
   ]
  },
  {
   "cell_type": "code",
   "execution_count": 15,
   "metadata": {},
   "outputs": [],
   "source": [
    "data = pd.read_csv(r\"C:\\Users\\asus\\Downloads\\AB_NYC_2019.csv\")\n"
   ]
  },
  {
   "cell_type": "markdown",
   "metadata": {},
   "source": [
    "This code reads the dataset from the CSV file located at the specified path.\n",
    "\n",
    "3: Calculate the mean and standard deviation of the price per night:"
   ]
  },
  {
   "cell_type": "code",
   "execution_count": 16,
   "metadata": {},
   "outputs": [],
   "source": [
    "mean_price = data['price'].mean()\n",
    "std_price = data['price'].std()\n"
   ]
  },
  {
   "cell_type": "markdown",
   "metadata": {},
   "source": [
    "These above lines calculate the mean and standard deviation of the 'price' column in the dataset."
   ]
  },
  {
   "cell_type": "markdown",
   "metadata": {},
   "source": [
    "4: Define the lower and upper bounds for outliers:"
   ]
  },
  {
   "cell_type": "code",
   "execution_count": 17,
   "metadata": {},
   "outputs": [],
   "source": [
    "lower_bound = mean_price - 3 * std_price\n",
    "upper_bound = mean_price + 3 * std_price\n"
   ]
  },
  {
   "cell_type": "markdown",
   "metadata": {},
   "source": [
    "These lines define the lower and upper bounds for outliers based on three standard deviations away from the mean."
   ]
  },
  {
   "cell_type": "markdown",
   "metadata": {},
   "source": [
    "5: Remove outliers based on price per night:"
   ]
  },
  {
   "cell_type": "code",
   "execution_count": 18,
   "metadata": {},
   "outputs": [],
   "source": [
    "clean_data = data[(data['price'] >= lower_bound) & (data['price'] <= upper_bound)]\n"
   ]
  },
  {
   "cell_type": "markdown",
   "metadata": {},
   "source": [
    "This line creates a new DataFrame called 'clean_data' by filtering out the rows where the price per night falls within the defined bounds."
   ]
  },
  {
   "cell_type": "code",
   "execution_count": 19,
   "metadata": {},
   "outputs": [],
   "source": [
    "\n",
    "# Modify Pandas display options\n",
    "pd.set_option('display.max_rows', None)\n",
    "pd.set_option('display.max_columns', None)"
   ]
  },
  {
   "cell_type": "markdown",
   "metadata": {},
   "source": [
    "6: Print the clean dataset:"
   ]
  },
  {
   "cell_type": "code",
   "execution_count": 21,
   "metadata": {},
   "outputs": [
    {
     "name": "stdout",
     "output_type": "stream",
     "text": [
      "     id                                              name  host_id   \n",
      "0  2539                Clean & quiet apt home by the park     2787  \\\n",
      "1  2595                             Skylit Midtown Castle     2845   \n",
      "2  3647               THE VILLAGE OF HARLEM....NEW YORK !     4632   \n",
      "3  3831                   Cozy Entire Floor of Brownstone     4869   \n",
      "4  5022  Entire Apt: Spacious Studio/Loft by central park     7192   \n",
      "\n",
      "     host_name neighbourhood_group neighbourhood  latitude  longitude   \n",
      "0         John            Brooklyn    Kensington  40.64749  -73.97237  \\\n",
      "1     Jennifer           Manhattan       Midtown  40.75362  -73.98377   \n",
      "2    Elisabeth           Manhattan        Harlem  40.80902  -73.94190   \n",
      "3  LisaRoxanne            Brooklyn  Clinton Hill  40.68514  -73.95976   \n",
      "4        Laura           Manhattan   East Harlem  40.79851  -73.94399   \n",
      "\n",
      "         room_type  price  minimum_nights  number_of_reviews last_review   \n",
      "0     Private room    149               1                  9  2018-10-19  \\\n",
      "1  Entire home/apt    225               1                 45  2019-05-21   \n",
      "2     Private room    150               3                  0         NaN   \n",
      "3  Entire home/apt     89               1                270  2019-07-05   \n",
      "4  Entire home/apt     80              10                  9  2018-11-19   \n",
      "\n",
      "   reviews_per_month  calculated_host_listings_count  availability_365  \n",
      "0               0.21                               6               365  \n",
      "1               0.38                               2               355  \n",
      "2                NaN                               1               365  \n",
      "3               4.64                               1               194  \n",
      "4               0.10                               1                 0  \n"
     ]
    }
   ],
   "source": [
    "print(clean_data.head(5))\n"
   ]
  },
  {
   "cell_type": "markdown",
   "metadata": {},
   "source": [
    "In order to exclude outliers based on price per night from the Airbnb dataset and create a clean dataset free of outliers, the offered code is a full solution. It demonstrates the use of various methods, including mean, median, and percentiles, to locate and eliminate outliers.\n",
    "\n",
    "The algorithm determines the mean and standard deviation of the cost per night, establishes the lower and upper boundaries for outliers based on the mean and standard deviation, and finally filters the dataset to eliminate the outliers. Extreme values that reside outside the specified bounds are regarded as outliers and eliminated from the clean dataset by utilising the mean and standard deviation (or median and IQR)."
   ]
  }
 ],
 "metadata": {
  "kernelspec": {
   "display_name": "CSCN8010_classic_ml",
   "language": "python",
   "name": "cscn8010_classic_ml"
  },
  "language_info": {
   "codemirror_mode": {
    "name": "ipython",
    "version": 3
   },
   "file_extension": ".py",
   "mimetype": "text/x-python",
   "name": "python",
   "nbconvert_exporter": "python",
   "pygments_lexer": "ipython3",
   "version": "3.11.3"
  },
  "orig_nbformat": 4
 },
 "nbformat": 4,
 "nbformat_minor": 2
}
