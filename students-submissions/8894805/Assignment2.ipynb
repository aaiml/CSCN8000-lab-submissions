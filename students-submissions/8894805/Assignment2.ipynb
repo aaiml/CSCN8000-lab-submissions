{
 "cells": [
  {
   "cell_type": "markdown",
   "metadata": {},
   "source": [
    "# Assignment 2\n",
    "# Waseem Raja Shaik\n",
    "# 8894805"
   ]
  },
  {
   "cell_type": "markdown",
   "metadata": {},
   "source": [
    "**Assignment 2 CSCN8000 Artificial Intelligence Algorithms and Mathematics**\n",
    "\n",
    "Download heart disease dataset heart.csv in Resources folder and do following,  https://www.kaggle.com/fedesoriano/heart-failure-prediction\n",
    "\n",
    "1. Consider the heart disease dataset in pandas dataframe\n",
    "2. Remove outliers using mean,median,Z score. \n",
    "3. Convert text columns to numbers using label encoding and one hot encoding\n",
    "4. Apply scaling\n",
    "5. Build a machine learning classification model using support vector machine. \n",
    "  Demonstrate the standalone model as well as Bagging model and include observations about the performance\n",
    "6. Now use decision tree classifier. Use standalone model as well as Bagging and check if you notice any difference in performance\n",
    "7. Comparing performance of svm and decision tree classifier figure out where it makes most sense to use bagging and why. \n",
    "  \n",
    "**Notes: This lab should be submitted as a notebook and an HTML. Follow https://docs.github.com/en/pages/quickstart.**\n",
    "         "
   ]
  },
  {
   "cell_type": "markdown",
   "metadata": {},
   "source": [
    "### Load the heart disease dataset into a pandas dataframe"
   ]
  },
  {
   "cell_type": "code",
   "execution_count": 36,
   "metadata": {},
   "outputs": [
    {
     "data": {
      "text/html": [
       "<div>\n",
       "<style scoped>\n",
       "    .dataframe tbody tr th:only-of-type {\n",
       "        vertical-align: middle;\n",
       "    }\n",
       "\n",
       "    .dataframe tbody tr th {\n",
       "        vertical-align: top;\n",
       "    }\n",
       "\n",
       "    .dataframe thead th {\n",
       "        text-align: right;\n",
       "    }\n",
       "</style>\n",
       "<table border=\"1\" class=\"dataframe\">\n",
       "  <thead>\n",
       "    <tr style=\"text-align: right;\">\n",
       "      <th></th>\n",
       "      <th>Age</th>\n",
       "      <th>Sex</th>\n",
       "      <th>ChestPainType</th>\n",
       "      <th>RestingBP</th>\n",
       "      <th>Cholesterol</th>\n",
       "      <th>FastingBS</th>\n",
       "      <th>RestingECG</th>\n",
       "      <th>MaxHR</th>\n",
       "      <th>ExerciseAngina</th>\n",
       "      <th>Oldpeak</th>\n",
       "      <th>ST_Slope</th>\n",
       "      <th>HeartDisease</th>\n",
       "    </tr>\n",
       "  </thead>\n",
       "  <tbody>\n",
       "    <tr>\n",
       "      <th>0</th>\n",
       "      <td>40</td>\n",
       "      <td>M</td>\n",
       "      <td>ATA</td>\n",
       "      <td>140</td>\n",
       "      <td>289</td>\n",
       "      <td>0</td>\n",
       "      <td>Normal</td>\n",
       "      <td>172</td>\n",
       "      <td>N</td>\n",
       "      <td>0.0</td>\n",
       "      <td>Up</td>\n",
       "      <td>0</td>\n",
       "    </tr>\n",
       "    <tr>\n",
       "      <th>1</th>\n",
       "      <td>49</td>\n",
       "      <td>F</td>\n",
       "      <td>NAP</td>\n",
       "      <td>160</td>\n",
       "      <td>180</td>\n",
       "      <td>0</td>\n",
       "      <td>Normal</td>\n",
       "      <td>156</td>\n",
       "      <td>N</td>\n",
       "      <td>1.0</td>\n",
       "      <td>Flat</td>\n",
       "      <td>1</td>\n",
       "    </tr>\n",
       "    <tr>\n",
       "      <th>2</th>\n",
       "      <td>37</td>\n",
       "      <td>M</td>\n",
       "      <td>ATA</td>\n",
       "      <td>130</td>\n",
       "      <td>283</td>\n",
       "      <td>0</td>\n",
       "      <td>ST</td>\n",
       "      <td>98</td>\n",
       "      <td>N</td>\n",
       "      <td>0.0</td>\n",
       "      <td>Up</td>\n",
       "      <td>0</td>\n",
       "    </tr>\n",
       "    <tr>\n",
       "      <th>3</th>\n",
       "      <td>48</td>\n",
       "      <td>F</td>\n",
       "      <td>ASY</td>\n",
       "      <td>138</td>\n",
       "      <td>214</td>\n",
       "      <td>0</td>\n",
       "      <td>Normal</td>\n",
       "      <td>108</td>\n",
       "      <td>Y</td>\n",
       "      <td>1.5</td>\n",
       "      <td>Flat</td>\n",
       "      <td>1</td>\n",
       "    </tr>\n",
       "    <tr>\n",
       "      <th>4</th>\n",
       "      <td>54</td>\n",
       "      <td>M</td>\n",
       "      <td>NAP</td>\n",
       "      <td>150</td>\n",
       "      <td>195</td>\n",
       "      <td>0</td>\n",
       "      <td>Normal</td>\n",
       "      <td>122</td>\n",
       "      <td>N</td>\n",
       "      <td>0.0</td>\n",
       "      <td>Up</td>\n",
       "      <td>0</td>\n",
       "    </tr>\n",
       "  </tbody>\n",
       "</table>\n",
       "</div>"
      ],
      "text/plain": [
       "   Age Sex ChestPainType  RestingBP  Cholesterol  FastingBS RestingECG  MaxHR   \n",
       "0   40   M           ATA        140          289          0     Normal    172  \\\n",
       "1   49   F           NAP        160          180          0     Normal    156   \n",
       "2   37   M           ATA        130          283          0         ST     98   \n",
       "3   48   F           ASY        138          214          0     Normal    108   \n",
       "4   54   M           NAP        150          195          0     Normal    122   \n",
       "\n",
       "  ExerciseAngina  Oldpeak ST_Slope  HeartDisease  \n",
       "0              N      0.0       Up             0  \n",
       "1              N      1.0     Flat             1  \n",
       "2              N      0.0       Up             0  \n",
       "3              Y      1.5     Flat             1  \n",
       "4              N      0.0       Up             0  "
      ]
     },
     "execution_count": 36,
     "metadata": {},
     "output_type": "execute_result"
    }
   ],
   "source": [
    "import pandas as pd\n",
    "import numpy as np\n",
    "from scipy.stats import zscore\n",
    "import matplotlib.pyplot as plt\n",
    "\n",
    "heart = pd.read_csv(\"../../practical_labs/heart.csv\")\n",
    "heart.head()"
   ]
  },
  {
   "cell_type": "markdown",
   "metadata": {},
   "source": [
    "### Checking null values"
   ]
  },
  {
   "cell_type": "code",
   "execution_count": 37,
   "metadata": {},
   "outputs": [
    {
     "data": {
      "text/plain": [
       "Age               0\n",
       "Sex               0\n",
       "ChestPainType     0\n",
       "RestingBP         0\n",
       "Cholesterol       0\n",
       "FastingBS         0\n",
       "RestingECG        0\n",
       "MaxHR             0\n",
       "ExerciseAngina    0\n",
       "Oldpeak           0\n",
       "ST_Slope          0\n",
       "HeartDisease      0\n",
       "dtype: int64"
      ]
     },
     "execution_count": 37,
     "metadata": {},
     "output_type": "execute_result"
    }
   ],
   "source": [
    "heart.isnull().sum()"
   ]
  },
  {
   "cell_type": "markdown",
   "metadata": {},
   "source": [
    "### Summary"
   ]
  },
  {
   "cell_type": "code",
   "execution_count": 38,
   "metadata": {},
   "outputs": [
    {
     "data": {
      "text/html": [
       "<div>\n",
       "<style scoped>\n",
       "    .dataframe tbody tr th:only-of-type {\n",
       "        vertical-align: middle;\n",
       "    }\n",
       "\n",
       "    .dataframe tbody tr th {\n",
       "        vertical-align: top;\n",
       "    }\n",
       "\n",
       "    .dataframe thead th {\n",
       "        text-align: right;\n",
       "    }\n",
       "</style>\n",
       "<table border=\"1\" class=\"dataframe\">\n",
       "  <thead>\n",
       "    <tr style=\"text-align: right;\">\n",
       "      <th></th>\n",
       "      <th>Age</th>\n",
       "      <th>RestingBP</th>\n",
       "      <th>Cholesterol</th>\n",
       "      <th>FastingBS</th>\n",
       "      <th>MaxHR</th>\n",
       "      <th>Oldpeak</th>\n",
       "      <th>HeartDisease</th>\n",
       "    </tr>\n",
       "  </thead>\n",
       "  <tbody>\n",
       "    <tr>\n",
       "      <th>count</th>\n",
       "      <td>918.000000</td>\n",
       "      <td>918.000000</td>\n",
       "      <td>918.000000</td>\n",
       "      <td>918.000000</td>\n",
       "      <td>918.000000</td>\n",
       "      <td>918.000000</td>\n",
       "      <td>918.000000</td>\n",
       "    </tr>\n",
       "    <tr>\n",
       "      <th>mean</th>\n",
       "      <td>53.510893</td>\n",
       "      <td>132.396514</td>\n",
       "      <td>198.799564</td>\n",
       "      <td>0.233115</td>\n",
       "      <td>136.809368</td>\n",
       "      <td>0.887364</td>\n",
       "      <td>0.553377</td>\n",
       "    </tr>\n",
       "    <tr>\n",
       "      <th>std</th>\n",
       "      <td>9.432617</td>\n",
       "      <td>18.514154</td>\n",
       "      <td>109.384145</td>\n",
       "      <td>0.423046</td>\n",
       "      <td>25.460334</td>\n",
       "      <td>1.066570</td>\n",
       "      <td>0.497414</td>\n",
       "    </tr>\n",
       "    <tr>\n",
       "      <th>min</th>\n",
       "      <td>28.000000</td>\n",
       "      <td>0.000000</td>\n",
       "      <td>0.000000</td>\n",
       "      <td>0.000000</td>\n",
       "      <td>60.000000</td>\n",
       "      <td>-2.600000</td>\n",
       "      <td>0.000000</td>\n",
       "    </tr>\n",
       "    <tr>\n",
       "      <th>25%</th>\n",
       "      <td>47.000000</td>\n",
       "      <td>120.000000</td>\n",
       "      <td>173.250000</td>\n",
       "      <td>0.000000</td>\n",
       "      <td>120.000000</td>\n",
       "      <td>0.000000</td>\n",
       "      <td>0.000000</td>\n",
       "    </tr>\n",
       "    <tr>\n",
       "      <th>50%</th>\n",
       "      <td>54.000000</td>\n",
       "      <td>130.000000</td>\n",
       "      <td>223.000000</td>\n",
       "      <td>0.000000</td>\n",
       "      <td>138.000000</td>\n",
       "      <td>0.600000</td>\n",
       "      <td>1.000000</td>\n",
       "    </tr>\n",
       "    <tr>\n",
       "      <th>75%</th>\n",
       "      <td>60.000000</td>\n",
       "      <td>140.000000</td>\n",
       "      <td>267.000000</td>\n",
       "      <td>0.000000</td>\n",
       "      <td>156.000000</td>\n",
       "      <td>1.500000</td>\n",
       "      <td>1.000000</td>\n",
       "    </tr>\n",
       "    <tr>\n",
       "      <th>max</th>\n",
       "      <td>77.000000</td>\n",
       "      <td>200.000000</td>\n",
       "      <td>603.000000</td>\n",
       "      <td>1.000000</td>\n",
       "      <td>202.000000</td>\n",
       "      <td>6.200000</td>\n",
       "      <td>1.000000</td>\n",
       "    </tr>\n",
       "  </tbody>\n",
       "</table>\n",
       "</div>"
      ],
      "text/plain": [
       "              Age   RestingBP  Cholesterol   FastingBS       MaxHR   \n",
       "count  918.000000  918.000000   918.000000  918.000000  918.000000  \\\n",
       "mean    53.510893  132.396514   198.799564    0.233115  136.809368   \n",
       "std      9.432617   18.514154   109.384145    0.423046   25.460334   \n",
       "min     28.000000    0.000000     0.000000    0.000000   60.000000   \n",
       "25%     47.000000  120.000000   173.250000    0.000000  120.000000   \n",
       "50%     54.000000  130.000000   223.000000    0.000000  138.000000   \n",
       "75%     60.000000  140.000000   267.000000    0.000000  156.000000   \n",
       "max     77.000000  200.000000   603.000000    1.000000  202.000000   \n",
       "\n",
       "          Oldpeak  HeartDisease  \n",
       "count  918.000000    918.000000  \n",
       "mean     0.887364      0.553377  \n",
       "std      1.066570      0.497414  \n",
       "min     -2.600000      0.000000  \n",
       "25%      0.000000      0.000000  \n",
       "50%      0.600000      1.000000  \n",
       "75%      1.500000      1.000000  \n",
       "max      6.200000      1.000000  "
      ]
     },
     "execution_count": 38,
     "metadata": {},
     "output_type": "execute_result"
    }
   ],
   "source": [
    "heart.describe()"
   ]
  },
  {
   "cell_type": "markdown",
   "metadata": {},
   "source": [
    "### Remove outliers using mean, median, and Z-score\n"
   ]
  },
  {
   "cell_type": "code",
   "execution_count": 48,
   "metadata": {},
   "outputs": [
    {
     "data": {
      "image/png": "[encoded data removed]",
      "text/plain": [
       "<Figure size 1000x600 with 1 Axes>"
      ]
     },
     "metadata": {},
     "output_type": "display_data"
    }
   ],
   "source": [
    "# Method 1: Using Mean and Standard Deviation\n",
    "heart_df_mean_std = heart.copy()\n",
    "for column in heart_df_mean_std.select_dtypes(include=[np.number]).columns:\n",
    "    mean = heart_df_mean_std[column].mean()\n",
    "    std = heart_df_mean_std[column].std()\n",
    "    heart_df_mean_std = heart_df_mean_std[(heart_df_mean_std[column] >= mean - 3*std) & (heart_df_mean_std[column] <= mean + 3*std)]\n",
    "\n",
    "# Method 2: Using Median and IQR\n",
    "heart_df_iqr = heart.copy()\n",
    "for column in heart_df_iqr.select_dtypes(include=[np.number]).columns:\n",
    "    Q1 = heart_df_iqr[column].quantile(0.25)\n",
    "    Q3 = heart_df_iqr[column].quantile(0.75)\n",
    "    IQR = Q3 - Q1\n",
    "    heart_df_iqr = heart_df_iqr[(heart_df_iqr[column] >= Q1 - 1.5*IQR) & (heart_df_iqr[column] <= Q3 + 1.5*IQR)]\n",
    "\n",
    "# Method 3: Using Z-Score\n",
    "heart_df_zscore = heart.copy()\n",
    "z_scores = np.abs(zscore(heart_df_zscore.select_dtypes(include=[np.number])))\n",
    "heart_df_zscore = heart_df_zscore[(z_scores < 3).all(axis=1)]\n",
    "\n",
    "methods = ['Original', 'Mean & Std Dev', 'Median & IQR', 'Z-Score']\n",
    "row_counts = [\n",
    "    heart.shape[0],\n",
    "    heart_df_mean_std.shape[0],\n",
    "    heart_df_iqr.shape[0],\n",
    "    heart_df_zscore.shape[0]\n",
    "]\n",
    "\n",
    "# Plotting the results\n",
    "plt.figure(figsize=(10, 6))\n",
    "plt.bar(methods, row_counts, color=['gray', 'blue', 'green', 'cyan'])\n",
    "plt.title('Number of Data Points After Outlier Removal')\n",
    "plt.ylabel('Number of Data Points')\n",
    "plt.xlabel('Outlier Removal Method')\n",
    "plt.tight_layout()\n",
    "plt.show()\n"
   ]
  },
  {
   "cell_type": "markdown",
   "metadata": {},
   "source": [
    "- Original: The dataset's original size before any outlier removal.\n",
    "- Mean & Std Dev: Data points retained after removing outliers based on mean and standard deviation.\n",
    "- Median & IQR: Data points retained after removing outliers using the median and interquartile range (IQR).\n",
    "- Z-Score: Data points retained after removing outliers based on Z-scores.\n",
    "\n",
    "From the graph, we can observe:\n",
    "\n",
    "- The \"Mean & Std Dev\" and \"Z-Score\" methods retain almost the same number of data points, indicating they have similar effectiveness.\n",
    "- The \"Median & IQR\" method is the most aggressive, removing the highest number of outliers.\n",
    "\n",
    "\n",
    "***For the subsequent steps, I will use the dataset obtained from the Z-score method.***"
   ]
  },
  {
   "cell_type": "code",
   "execution_count": 49,
   "metadata": {},
   "outputs": [],
   "source": [
    "heart = heart_df_zscore"
   ]
  },
  {
   "cell_type": "markdown",
   "metadata": {},
   "source": [
    "### Convert text columns to numbers using label encoding and one hot encoding"
   ]
  },
  {
   "cell_type": "code",
   "execution_count": 50,
   "metadata": {},
   "outputs": [
    {
     "data": {
      "text/plain": [
       "{'Sex': array(['M', 'F'], dtype=object),\n",
       " 'ChestPainType': array(['ATA', 'NAP', 'ASY', 'TA'], dtype=object),\n",
       " 'RestingECG': array(['Normal', 'ST', 'LVH'], dtype=object),\n",
       " 'ExerciseAngina': array(['N', 'Y'], dtype=object),\n",
       " 'ST_Slope': array(['Up', 'Flat', 'Down'], dtype=object)}"
      ]
     },
     "execution_count": 50,
     "metadata": {},
     "output_type": "execute_result"
    }
   ],
   "source": [
    "categorical_columns = heart.select_dtypes(include=['object']).columns\n",
    "unique_values = {column: heart[column].unique() for column in categorical_columns}\n",
    "\n",
    "unique_values"
   ]
  },
  {
   "cell_type": "markdown",
   "metadata": {},
   "source": [
    "For columns with only two unique values (like 'Sex' and 'ExerciseAngina'), we can use label encoding. For columns with more than two unique values, we'll use one hot encoding."
   ]
  },
  {
   "cell_type": "code",
   "execution_count": 51,
   "metadata": {},
   "outputs": [
    {
     "data": {
      "text/html": [
       "<div>\n",
       "<style scoped>\n",
       "    .dataframe tbody tr th:only-of-type {\n",
       "        vertical-align: middle;\n",
       "    }\n",
       "\n",
       "    .dataframe tbody tr th {\n",
       "        vertical-align: top;\n",
       "    }\n",
       "\n",
       "    .dataframe thead th {\n",
       "        text-align: right;\n",
       "    }\n",
       "</style>\n",
       "<table border=\"1\" class=\"dataframe\">\n",
       "  <thead>\n",
       "    <tr style=\"text-align: right;\">\n",
       "      <th></th>\n",
       "      <th>Age</th>\n",
       "      <th>Sex</th>\n",
       "      <th>RestingBP</th>\n",
       "      <th>Cholesterol</th>\n",
       "      <th>FastingBS</th>\n",
       "      <th>MaxHR</th>\n",
       "      <th>ExerciseAngina</th>\n",
       "      <th>Oldpeak</th>\n",
       "      <th>HeartDisease</th>\n",
       "      <th>ChestPainType_ATA</th>\n",
       "      <th>ChestPainType_NAP</th>\n",
       "      <th>ChestPainType_TA</th>\n",
       "      <th>RestingECG_Normal</th>\n",
       "      <th>RestingECG_ST</th>\n",
       "      <th>ST_Slope_Flat</th>\n",
       "      <th>ST_Slope_Up</th>\n",
       "    </tr>\n",
       "  </thead>\n",
       "  <tbody>\n",
       "    <tr>\n",
       "      <th>0</th>\n",
       "      <td>40</td>\n",
       "      <td>1</td>\n",
       "      <td>140</td>\n",
       "      <td>289</td>\n",
       "      <td>0</td>\n",
       "      <td>172</td>\n",
       "      <td>0</td>\n",
       "      <td>0.0</td>\n",
       "      <td>0</td>\n",
       "      <td>True</td>\n",
       "      <td>False</td>\n",
       "      <td>False</td>\n",
       "      <td>True</td>\n",
       "      <td>False</td>\n",
       "      <td>False</td>\n",
       "      <td>True</td>\n",
       "    </tr>\n",
       "    <tr>\n",
       "      <th>1</th>\n",
       "      <td>49</td>\n",
       "      <td>0</td>\n",
       "      <td>160</td>\n",
       "      <td>180</td>\n",
       "      <td>0</td>\n",
       "      <td>156</td>\n",
       "      <td>0</td>\n",
       "      <td>1.0</td>\n",
       "      <td>1</td>\n",
       "      <td>False</td>\n",
       "      <td>True</td>\n",
       "      <td>False</td>\n",
       "      <td>True</td>\n",
       "      <td>False</td>\n",
       "      <td>True</td>\n",
       "      <td>False</td>\n",
       "    </tr>\n",
       "    <tr>\n",
       "      <th>2</th>\n",
       "      <td>37</td>\n",
       "      <td>1</td>\n",
       "      <td>130</td>\n",
       "      <td>283</td>\n",
       "      <td>0</td>\n",
       "      <td>98</td>\n",
       "      <td>0</td>\n",
       "      <td>0.0</td>\n",
       "      <td>0</td>\n",
       "      <td>True</td>\n",
       "      <td>False</td>\n",
       "      <td>False</td>\n",
       "      <td>False</td>\n",
       "      <td>True</td>\n",
       "      <td>False</td>\n",
       "      <td>True</td>\n",
       "    </tr>\n",
       "    <tr>\n",
       "      <th>3</th>\n",
       "      <td>48</td>\n",
       "      <td>0</td>\n",
       "      <td>138</td>\n",
       "      <td>214</td>\n",
       "      <td>0</td>\n",
       "      <td>108</td>\n",
       "      <td>1</td>\n",
       "      <td>1.5</td>\n",
       "      <td>1</td>\n",
       "      <td>False</td>\n",
       "      <td>False</td>\n",
       "      <td>False</td>\n",
       "      <td>True</td>\n",
       "      <td>False</td>\n",
       "      <td>True</td>\n",
       "      <td>False</td>\n",
       "    </tr>\n",
       "    <tr>\n",
       "      <th>4</th>\n",
       "      <td>54</td>\n",
       "      <td>1</td>\n",
       "      <td>150</td>\n",
       "      <td>195</td>\n",
       "      <td>0</td>\n",
       "      <td>122</td>\n",
       "      <td>0</td>\n",
       "      <td>0.0</td>\n",
       "      <td>0</td>\n",
       "      <td>False</td>\n",
       "      <td>True</td>\n",
       "      <td>False</td>\n",
       "      <td>True</td>\n",
       "      <td>False</td>\n",
       "      <td>False</td>\n",
       "      <td>True</td>\n",
       "    </tr>\n",
       "  </tbody>\n",
       "</table>\n",
       "</div>"
      ],
      "text/plain": [
       "   Age  Sex  RestingBP  Cholesterol  FastingBS  MaxHR  ExerciseAngina   \n",
       "0   40    1        140          289          0    172               0  \\\n",
       "1   49    0        160          180          0    156               0   \n",
       "2   37    1        130          283          0     98               0   \n",
       "3   48    0        138          214          0    108               1   \n",
       "4   54    1        150          195          0    122               0   \n",
       "\n",
       "   Oldpeak  HeartDisease  ChestPainType_ATA  ChestPainType_NAP   \n",
       "0      0.0             0               True              False  \\\n",
       "1      1.0             1              False               True   \n",
       "2      0.0             0               True              False   \n",
       "3      1.5             1              False              False   \n",
       "4      0.0             0              False               True   \n",
       "\n",
       "   ChestPainType_TA  RestingECG_Normal  RestingECG_ST  ST_Slope_Flat   \n",
       "0             False               True          False          False  \\\n",
       "1             False               True          False           True   \n",
       "2             False              False           True          False   \n",
       "3             False               True          False           True   \n",
       "4             False               True          False          False   \n",
       "\n",
       "   ST_Slope_Up  \n",
       "0         True  \n",
       "1        False  \n",
       "2         True  \n",
       "3        False  \n",
       "4         True  "
      ]
     },
     "execution_count": 51,
     "metadata": {},
     "output_type": "execute_result"
    }
   ],
   "source": [
    "from sklearn.preprocessing import LabelEncoder\n",
    "\n",
    "le = LabelEncoder()\n",
    "heart['Sex'] = le.fit_transform(heart['Sex'])\n",
    "heart['ExerciseAngina'] = le.fit_transform(heart['ExerciseAngina'])\n",
    "heart = pd.get_dummies(heart, columns=['ChestPainType', 'RestingECG', 'ST_Slope'], drop_first=True)\n",
    "heart.head()"
   ]
  },
  {
   "cell_type": "markdown",
   "metadata": {},
   "source": [
    "### Apply Scaling"
   ]
  },
  {
   "cell_type": "code",
   "execution_count": 52,
   "metadata": {},
   "outputs": [
    {
     "data": {
      "text/html": [
       "<div>\n",
       "<style scoped>\n",
       "    .dataframe tbody tr th:only-of-type {\n",
       "        vertical-align: middle;\n",
       "    }\n",
       "\n",
       "    .dataframe tbody tr th {\n",
       "        vertical-align: top;\n",
       "    }\n",
       "\n",
       "    .dataframe thead th {\n",
       "        text-align: right;\n",
       "    }\n",
       "</style>\n",
       "<table border=\"1\" class=\"dataframe\">\n",
       "  <thead>\n",
       "    <tr style=\"text-align: right;\">\n",
       "      <th></th>\n",
       "      <th>Age</th>\n",
       "      <th>Sex</th>\n",
       "      <th>RestingBP</th>\n",
       "      <th>Cholesterol</th>\n",
       "      <th>FastingBS</th>\n",
       "      <th>MaxHR</th>\n",
       "      <th>ExerciseAngina</th>\n",
       "      <th>Oldpeak</th>\n",
       "      <th>ChestPainType_ATA</th>\n",
       "      <th>ChestPainType_NAP</th>\n",
       "      <th>ChestPainType_TA</th>\n",
       "      <th>RestingECG_Normal</th>\n",
       "      <th>RestingECG_ST</th>\n",
       "      <th>ST_Slope_Flat</th>\n",
       "      <th>ST_Slope_Up</th>\n",
       "    </tr>\n",
       "  </thead>\n",
       "  <tbody>\n",
       "    <tr>\n",
       "      <th>0</th>\n",
       "      <td>-1.428154</td>\n",
       "      <td>0.515943</td>\n",
       "      <td>0.465900</td>\n",
       "      <td>0.849636</td>\n",
       "      <td>-0.550362</td>\n",
       "      <td>1.384320</td>\n",
       "      <td>-0.822945</td>\n",
       "      <td>-0.855469</td>\n",
       "      <td>2.063325</td>\n",
       "      <td>-0.534905</td>\n",
       "      <td>-0.22955</td>\n",
       "      <td>0.809702</td>\n",
       "      <td>-0.489898</td>\n",
       "      <td>-0.998888</td>\n",
       "      <td>1.134695</td>\n",
       "    </tr>\n",
       "    <tr>\n",
       "      <th>1</th>\n",
       "      <td>-0.475855</td>\n",
       "      <td>-1.938199</td>\n",
       "      <td>1.634714</td>\n",
       "      <td>-0.168122</td>\n",
       "      <td>-0.550362</td>\n",
       "      <td>0.752973</td>\n",
       "      <td>-0.822945</td>\n",
       "      <td>0.137516</td>\n",
       "      <td>-0.484655</td>\n",
       "      <td>1.869492</td>\n",
       "      <td>-0.22955</td>\n",
       "      <td>0.809702</td>\n",
       "      <td>-0.489898</td>\n",
       "      <td>1.001113</td>\n",
       "      <td>-0.881294</td>\n",
       "    </tr>\n",
       "    <tr>\n",
       "      <th>2</th>\n",
       "      <td>-1.745588</td>\n",
       "      <td>0.515943</td>\n",
       "      <td>-0.118507</td>\n",
       "      <td>0.793612</td>\n",
       "      <td>-0.550362</td>\n",
       "      <td>-1.535661</td>\n",
       "      <td>-0.822945</td>\n",
       "      <td>-0.855469</td>\n",
       "      <td>2.063325</td>\n",
       "      <td>-0.534905</td>\n",
       "      <td>-0.22955</td>\n",
       "      <td>-1.235023</td>\n",
       "      <td>2.041241</td>\n",
       "      <td>-0.998888</td>\n",
       "      <td>1.134695</td>\n",
       "    </tr>\n",
       "    <tr>\n",
       "      <th>3</th>\n",
       "      <td>-0.581666</td>\n",
       "      <td>-1.938199</td>\n",
       "      <td>0.349019</td>\n",
       "      <td>0.149344</td>\n",
       "      <td>-0.550362</td>\n",
       "      <td>-1.141069</td>\n",
       "      <td>1.215148</td>\n",
       "      <td>0.634008</td>\n",
       "      <td>-0.484655</td>\n",
       "      <td>-0.534905</td>\n",
       "      <td>-0.22955</td>\n",
       "      <td>0.809702</td>\n",
       "      <td>-0.489898</td>\n",
       "      <td>1.001113</td>\n",
       "      <td>-0.881294</td>\n",
       "    </tr>\n",
       "    <tr>\n",
       "      <th>4</th>\n",
       "      <td>0.053200</td>\n",
       "      <td>0.515943</td>\n",
       "      <td>1.050307</td>\n",
       "      <td>-0.028064</td>\n",
       "      <td>-0.550362</td>\n",
       "      <td>-0.588640</td>\n",
       "      <td>-0.822945</td>\n",
       "      <td>-0.855469</td>\n",
       "      <td>-0.484655</td>\n",
       "      <td>1.869492</td>\n",
       "      <td>-0.22955</td>\n",
       "      <td>0.809702</td>\n",
       "      <td>-0.489898</td>\n",
       "      <td>-0.998888</td>\n",
       "      <td>1.134695</td>\n",
       "    </tr>\n",
       "  </tbody>\n",
       "</table>\n",
       "</div>"
      ],
      "text/plain": [
       "        Age       Sex  RestingBP  Cholesterol  FastingBS     MaxHR   \n",
       "0 -1.428154  0.515943   0.465900     0.849636  -0.550362  1.384320  \\\n",
       "1 -0.475855 -1.938199   1.634714    -0.168122  -0.550362  0.752973   \n",
       "2 -1.745588  0.515943  -0.118507     0.793612  -0.550362 -1.535661   \n",
       "3 -0.581666 -1.938199   0.349019     0.149344  -0.550362 -1.141069   \n",
       "4  0.053200  0.515943   1.050307    -0.028064  -0.550362 -0.588640   \n",
       "\n",
       "   ExerciseAngina   Oldpeak  ChestPainType_ATA  ChestPainType_NAP   \n",
       "0       -0.822945 -0.855469           2.063325          -0.534905  \\\n",
       "1       -0.822945  0.137516          -0.484655           1.869492   \n",
       "2       -0.822945 -0.855469           2.063325          -0.534905   \n",
       "3        1.215148  0.634008          -0.484655          -0.534905   \n",
       "4       -0.822945 -0.855469          -0.484655           1.869492   \n",
       "\n",
       "   ChestPainType_TA  RestingECG_Normal  RestingECG_ST  ST_Slope_Flat   \n",
       "0          -0.22955           0.809702      -0.489898      -0.998888  \\\n",
       "1          -0.22955           0.809702      -0.489898       1.001113   \n",
       "2          -0.22955          -1.235023       2.041241      -0.998888   \n",
       "3          -0.22955           0.809702      -0.489898       1.001113   \n",
       "4          -0.22955           0.809702      -0.489898      -0.998888   \n",
       "\n",
       "   ST_Slope_Up  \n",
       "0     1.134695  \n",
       "1    -0.881294  \n",
       "2     1.134695  \n",
       "3    -0.881294  \n",
       "4     1.134695  "
      ]
     },
     "execution_count": 52,
     "metadata": {},
     "output_type": "execute_result"
    }
   ],
   "source": [
    "from sklearn.preprocessing import StandardScaler\n",
    "\n",
    "X = heart.drop(\"HeartDisease\", axis=1)\n",
    "y = heart[\"HeartDisease\"]\n",
    "scaler = StandardScaler()\n",
    "X_scaled = scaler.fit_transform(X)\n",
    "X_scaled_df = pd.DataFrame(X_scaled, columns=X.columns)\n",
    "X_scaled_df.head()\n"
   ]
  },
  {
   "cell_type": "markdown",
   "metadata": {},
   "source": [
    "### Build a machine learning classification model using support vector machine."
   ]
  },
  {
   "cell_type": "code",
   "execution_count": 53,
   "metadata": {},
   "outputs": [
    {
     "data": {
      "text/plain": [
       "((629, 15), (270, 15))"
      ]
     },
     "execution_count": 53,
     "metadata": {},
     "output_type": "execute_result"
    }
   ],
   "source": [
    "from sklearn.model_selection import train_test_split\n",
    "\n",
    "# Splitting the data into training and test sets (70% train, 30% test)\n",
    "X_train, X_test, y_train, y_test = train_test_split(X_scaled, y, test_size=0.3, random_state=42)\n",
    "\n",
    "X_train.shape, X_test.shape"
   ]
  },
  {
   "cell_type": "code",
   "execution_count": 56,
   "metadata": {},
   "outputs": [
    {
     "name": "stdout",
     "output_type": "stream",
     "text": [
      "SVM accuracy: 0.8481481481481481\n",
      "SVM Classification\n",
      "              precision    recall  f1-score   support\n",
      "\n",
      "           0       0.87      0.77      0.82       119\n",
      "           1       0.84      0.91      0.87       151\n",
      "\n",
      "    accuracy                           0.85       270\n",
      "   macro avg       0.85      0.84      0.84       270\n",
      "weighted avg       0.85      0.85      0.85       270\n",
      "\n"
     ]
    }
   ],
   "source": [
    "from sklearn.svm import SVC\n",
    "from sklearn.metrics import accuracy_score, classification_report\n",
    "\n",
    "svm_model = SVC().fit(X_train, y_train)\n",
    "\n",
    "svm_predictions = svm_model.predict(X_test)\n",
    "\n",
    "svm_accuracy = accuracy_score(y_test, svm_predictions)\n",
    "svm_classification_report = classification_report(y_test, svm_predictions)\n",
    "\n",
    "print('SVM accuracy:',svm_accuracy)\n",
    "print('SVM Classification')\n",
    "print(svm_classification_report)"
   ]
  },
  {
   "cell_type": "markdown",
   "metadata": {},
   "source": [
    "### Demonstrate the standalone model as well as Bagging model and include observations about the performance"
   ]
  },
  {
   "cell_type": "markdown",
   "metadata": {},
   "source": [
    "#### Bagging classifier with SVM"
   ]
  },
  {
   "cell_type": "code",
   "execution_count": 58,
   "metadata": {},
   "outputs": [
    {
     "name": "stdout",
     "output_type": "stream",
     "text": [
      "Bagging classifier with SVM accuracy: 0.8666666666666667\n",
      "Bagging classifier with SVM Classification\n",
      "              precision    recall  f1-score   support\n",
      "\n",
      "           0       0.87      0.82      0.84       119\n",
      "           1       0.86      0.91      0.88       151\n",
      "\n",
      "    accuracy                           0.87       270\n",
      "   macro avg       0.87      0.86      0.86       270\n",
      "weighted avg       0.87      0.87      0.87       270\n",
      "\n"
     ]
    }
   ],
   "source": [
    "from sklearn.ensemble import BaggingClassifier\n",
    "\n",
    "bagging_svm = BaggingClassifier(estimator=SVC(), n_estimators=10, random_state=42)\n",
    "bagging_svm.fit(X_train, y_train)\n",
    "\n",
    "bagging_svm_predictions = bagging_svm.predict(X_test)\n",
    "\n",
    "bagging_svm_accuracy = accuracy_score(y_test, bagging_svm_predictions)\n",
    "bagging_svm_classification_report = classification_report(y_test, bagging_svm_predictions)\n",
    "\n",
    "print('Bagging classifier with SVM accuracy:',bagging_svm_accuracy)\n",
    "print('Bagging classifier with SVM Classification')\n",
    "print(bagging_svm_classification_report)"
   ]
  },
  {
   "cell_type": "markdown",
   "metadata": {},
   "source": [
    "The standalone SVM model yields an accuracy of 84.81%, while the Bagging classifier with SVM slightly improves this to 86.67%. Precision values are comparable for both models across the two classes. However, the recall for class 0 shows an enhancement in the Bagging classifier, increasing from 77% in SVM to 82%. This indicates that the Bagging classifier is better at correctly identifying true positives for class 0. F1-scores, which balance precision and recall, are marginally higher for the Bagging classifier in both classes, suggesting a more harmonized performance. Overall, while both models exhibit commendable outcomes, the Bagging classifier provides a more balanced prediction across classes. The ensemble approach of Bagging offers better generalization, reducing variance and potentially enhancing performance on unseen data."
   ]
  },
  {
   "cell_type": "markdown",
   "metadata": {},
   "source": [
    "### Now use decision tree classifier."
   ]
  },
  {
   "cell_type": "code",
   "execution_count": 59,
   "metadata": {},
   "outputs": [
    {
     "name": "stdout",
     "output_type": "stream",
     "text": [
      "Decision Tree accuracy: 0.7851851851851852\n",
      "Decision Tree Classification\n",
      "              precision    recall  f1-score   support\n",
      "\n",
      "           0       0.77      0.74      0.75       119\n",
      "           1       0.80      0.82      0.81       151\n",
      "\n",
      "    accuracy                           0.79       270\n",
      "   macro avg       0.78      0.78      0.78       270\n",
      "weighted avg       0.78      0.79      0.78       270\n",
      "\n"
     ]
    }
   ],
   "source": [
    "from sklearn.tree import DecisionTreeClassifier\n",
    "\n",
    "dt_model = DecisionTreeClassifier(random_state=42)\n",
    "dt_model.fit(X_train, y_train)\n",
    "\n",
    "dt_predictions = dt_model.predict(X_test)\n",
    "\n",
    "dt_accuracy = accuracy_score(y_test, dt_predictions)\n",
    "dt_classification_report = classification_report(y_test, dt_predictions)\n",
    "\n",
    "print('Decision Tree accuracy:',dt_accuracy)\n",
    "print('Decision Tree Classification')\n",
    "print(dt_classification_report)"
   ]
  },
  {
   "cell_type": "markdown",
   "metadata": {},
   "source": [
    "### Use standalone model as well as Bagging and check if you notice any difference in performance"
   ]
  },
  {
   "cell_type": "code",
   "execution_count": 61,
   "metadata": {},
   "outputs": [
    {
     "name": "stdout",
     "output_type": "stream",
     "text": [
      "Bagging Classifier with Decision Tree accuracy: 0.825925925925926\n",
      "Bagging Classifier with Decision Tree Classification\n",
      "              precision    recall  f1-score   support\n",
      "\n",
      "           0       0.77      0.87      0.81       119\n",
      "           1       0.88      0.79      0.84       151\n",
      "\n",
      "    accuracy                           0.83       270\n",
      "   macro avg       0.83      0.83      0.83       270\n",
      "weighted avg       0.83      0.83      0.83       270\n",
      "\n"
     ]
    }
   ],
   "source": [
    "bagging_dt = BaggingClassifier(estimator=DecisionTreeClassifier(), n_estimators=10, random_state=42)\n",
    "bagging_dt.fit(X_train, y_train)\n",
    "\n",
    "bagging_dt_predictions = bagging_dt.predict(X_test)\n",
    "\n",
    "bagging_dt_accuracy = accuracy_score(y_test, bagging_dt_predictions)\n",
    "bagging_dt_classification_report = classification_report(y_test, bagging_dt_predictions)\n",
    "\n",
    "print('Bagging Classifier with Decision Tree accuracy:',bagging_dt_accuracy)\n",
    "print('Bagging Classifier with Decision Tree Classification')\n",
    "print(bagging_dt_classification_report)"
   ]
  },
  {
   "cell_type": "markdown",
   "metadata": {},
   "source": [
    "The standalone Decision Tree model achieves an accuracy of 78.52%. When bolstered with Bagging, the accuracy sees an uplift to 82.59%. Precision is consistent for class 0 across both models (77%), but for class 1, there's a noticeable increase from 80% in the standalone model to 88% with Bagging. However, the recall for class 1 drops from 82% in the standalone model to 79% in the Bagged version. This trade-off between precision and recall is further mirrored in the F1-scores: the standalone model presents a balanced score for both classes, while Bagging slightly improves the score for class 0 at the expense of class 1. Summarily, the Bagging classifier enhances the Decision Tree's overall accuracy and precision for class 1 but slightly compromises on its recall. The ensemble method of Bagging seems to make the model more conservative in its predictions for class 1, ensuring fewer false positives but missing out on some true positives. In essence, Bagging provides a more robust model with improved generalization capabilities, though with minor trade-offs in recall."
   ]
  },
  {
   "cell_type": "markdown",
   "metadata": {},
   "source": [
    "### Comparing performance of svm and decision tree classifier figure out where it makes most sense to use bagging and why."
   ]
  },
  {
   "cell_type": "markdown",
   "metadata": {},
   "source": [
    "To compare the performance of the SVM and Decision Tree classifiers and determine where it makes the most sense to use Bagging, we'll visualize the accuracies of both standalone models and their Bagging counterparts. \n",
    "\n",
    "Given the provided results:\n",
    "\n",
    "- SVM accuracy: 84.81%\n",
    "- Bagging classifier with SVM accuracy: 86.67%\n",
    "- Decision Tree accuracy: 78.52%\n",
    "- Bagging classifier with Decision Tree accuracy: 82.59%\n",
    "\n",
    "Let's plot these accuracies to visually compare them."
   ]
  },
  {
   "cell_type": "code",
   "execution_count": 62,
   "metadata": {},
   "outputs": [
    {
     "data": {
      "image/png": "[encoded data removed]",
      "text/plain": [
       "<Figure size 1000x700 with 1 Axes>"
      ]
     },
     "metadata": {},
     "output_type": "display_data"
    }
   ],
   "source": [
    "models = ['SVM', 'Decision Tree']\n",
    "standalone_accuracies = [svm_accuracy, dt_accuracy]\n",
    "bagging_accuracies = [bagging_svm_accuracy, bagging_dt_accuracy]\n",
    "\n",
    "barWidth = 0.3\n",
    "r1 = range(len(standalone_accuracies))\n",
    "r2 = [x + barWidth for x in r1]\n",
    "\n",
    "plt.figure(figsize=(10, 7))\n",
    "plt.bar(r1, standalone_accuracies, width=barWidth, color='blue', edgecolor='grey', label='Standalone')\n",
    "plt.bar(r2, bagging_accuracies, width=barWidth, color='cyan', edgecolor='grey', label='Bagging')\n",
    "\n",
    "plt.xlabel('Models', fontweight='bold', fontsize=15)\n",
    "plt.ylabel('Accuracy', fontweight='bold', fontsize=15)\n",
    "plt.xticks([r + barWidth for r in range(len(standalone_accuracies))], models)\n",
    "plt.title('Comparing Performance of SVM and Decision Tree Classifier', fontweight='bold')\n",
    "plt.legend()\n",
    "\n",
    "plt.tight_layout()\n",
    "plt.show()"
   ]
  },
  {
   "cell_type": "markdown",
   "metadata": {},
   "source": [
    "Here's the comparison between SVM and Decision Tree classifiers:\n",
    "\n",
    "From the graph:\n",
    "\n",
    "1. **SVM**: The Bagging approach offers a modest improvement over the standalone SVM.\n",
    "2. **Decision Tree**: Bagging provides a more significant performance boost compared to its standalone counterpart.\n",
    "\n",
    "**Observations**:\n",
    "- **Bagging with SVM**: The improvement is marginal. SVM inherently tries to maximize the margin between classes, which can already make it relatively robust to noise or minor variations in data.\n",
    "  \n",
    "- **Bagging with Decision Trees**: The improvement is more pronounced. Decision Trees, being high-variance models, can overfit to their training data. Bagging, which involves creating multiple trees on different subsets of data and averaging out their predictions, reduces this variance and overfitting, leading to better performance.\n",
    "\n",
    "**Conclusion**:\n",
    "While Bagging enhances the performance for both models, it's particularly beneficial for high-variance models like Decision Trees. If computational resources allow, it makes sense to use Bagging, especially with algorithms that tend to overfit or show high sensitivity to training data."
   ]
  }
 ],
 "metadata": {
  "kernelspec": {
   "display_name": "aiml_math_class",
   "language": "python",
   "name": "python3"
  },
  "language_info": {
   "codemirror_mode": {
    "name": "ipython",
    "version": 3
   },
   "file_extension": ".py",
   "mimetype": "text/x-python",
   "name": "python",
   "nbconvert_exporter": "python",
   "pygments_lexer": "ipython3",
   "version": "3.11.4"
  },
  "orig_nbformat": 4
 },
 "nbformat": 4,
 "nbformat_minor": 2
}
