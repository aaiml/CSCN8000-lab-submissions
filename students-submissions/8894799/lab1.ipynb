{
 "cells": [
  {
   "cell_type": "markdown",
   "id": "c1141938",
   "metadata": {},
   "source": [
    "# Varun B Majithia\n",
    "# Student ID - 8894799"
   ]
  },
  {
   "cell_type": "markdown",
   "id": "8ab7e306",
   "metadata": {},
   "source": [
    "# Importing the necessary packages"
   ]
  },
  {
   "cell_type": "code",
   "execution_count": 1,
   "id": "cde0f7bd",
   "metadata": {},
   "outputs": [],
   "source": [
    "import numpy as np\n",
    "import pandas as pd"
   ]
  },
  {
   "cell_type": "markdown",
   "id": "9b21575e",
   "metadata": {},
   "source": [
    "## ##Q1) Create an array that starts from the integer 1, ends at 20, incremented by 3"
   ]
  },
  {
   "cell_type": "code",
   "execution_count": 2,
   "id": "840b2773",
   "metadata": {},
   "outputs": [
    {
     "name": "stdout",
     "output_type": "stream",
     "text": [
      "The incremented by 3 numbers [ 1  4  7 10 13 16 19]\n"
     ]
    }
   ],
   "source": [
    "# The numpy arange function is used to create an array in a specified range np.arange(start,stop,step)\n",
    "array1 = np.arange(1,20,3)\n",
    "print(\"The incremented by 3 numbers\",array1)"
   ]
  },
  {
   "cell_type": "markdown",
   "id": "036da06b",
   "metadata": {},
   "source": [
    "## Q2)Create a new array of shape 3 with random numbers between 0 and 1."
   ]
  },
  {
   "cell_type": "code",
   "execution_count": 3,
   "id": "be62faa0",
   "metadata": {},
   "outputs": [
    {
     "data": {
      "text/plain": [
       "array([0.34359619, 0.31194849, 0.15012734])"
      ]
     },
     "execution_count": 3,
     "metadata": {},
     "output_type": "execute_result"
    }
   ],
   "source": [
    "# Creating an array using np.random.rand() function which is used to generate random numbers in a uniform distribution\n",
    "array2 = np.random.rand(3)\n",
    "array2"
   ]
  },
  {
   "cell_type": "markdown",
   "id": "83592363",
   "metadata": {},
   "source": [
    "## Q3)Create a 2 D array [[10,20,45], [30,12,16], [42,17,56]] and perform the following operations: Slice the 2D array to get the first two rows, slice the 2D array to get the last two rows"
   ]
  },
  {
   "cell_type": "code",
   "execution_count": 4,
   "id": "1757e051",
   "metadata": {},
   "outputs": [],
   "source": [
    "# Creating a 2D array\n",
    "array3 = np.array([[10,20,45],[30,12,16],[42,17,56]])\n",
    "array3\n",
    "# This is basically slicing operation performed below inorder to slice certain rows and columns from the data\n",
    "#slicing the first two rows\n",
    "first_two_rows = array3[:2,:]\n",
    "#slcing the last two rows\n",
    "last_two_rows = array3[1:,:]"
   ]
  },
  {
   "cell_type": "code",
   "execution_count": 5,
   "id": "1fde9ac2",
   "metadata": {},
   "outputs": [
    {
     "name": "stdout",
     "output_type": "stream",
     "text": [
      "The first two rows are  \n",
      " [[10 20 45]\n",
      " [30 12 16]]\n"
     ]
    }
   ],
   "source": [
    "print(\"The first two rows are \",\"\\n\",first_two_rows)"
   ]
  },
  {
   "cell_type": "code",
   "execution_count": 6,
   "id": "03590b89",
   "metadata": {},
   "outputs": [
    {
     "name": "stdout",
     "output_type": "stream",
     "text": [
      "The Last two rows are \n",
      " [[30 12 16]\n",
      " [42 17 56]]\n"
     ]
    }
   ],
   "source": [
    "print(\"The Last two rows are\",\"\\n\",last_two_rows)"
   ]
  },
  {
   "cell_type": "markdown",
   "id": "8979efa7",
   "metadata": {},
   "source": [
    "## Q4)Create two 2x2 arrays and demonstrate how you can stack the elements vertically, horizontally, and split the arrays into smaller arrays.\n",
    "     "
   ]
  },
  {
   "cell_type": "code",
   "execution_count": 7,
   "id": "efa44557",
   "metadata": {},
   "outputs": [],
   "source": [
    "# Creating array1 \n",
    "array1 = np.array([[100,101], [102,103]])\n",
    "# Creating array2\n",
    "array2 = np.array([[104,105], [106,107]])"
   ]
  },
  {
   "cell_type": "code",
   "execution_count": 8,
   "id": "04358c76",
   "metadata": {},
   "outputs": [
    {
     "name": "stdout",
     "output_type": "stream",
     "text": [
      "The array1 is \n",
      " [[100 101]\n",
      " [102 103]]\n"
     ]
    }
   ],
   "source": [
    "print(\"The array1 is\",\"\\n\",array1)"
   ]
  },
  {
   "cell_type": "code",
   "execution_count": 9,
   "id": "965c7984",
   "metadata": {},
   "outputs": [
    {
     "name": "stdout",
     "output_type": "stream",
     "text": [
      "the array2 is \n",
      " [[104 105]\n",
      " [106 107]]\n"
     ]
    }
   ],
   "source": [
    "print(\"the array2 is\",\"\\n\",array2)"
   ]
  },
  {
   "cell_type": "code",
   "execution_count": 10,
   "id": "a5ecfe94",
   "metadata": {},
   "outputs": [
    {
     "name": "stdout",
     "output_type": "stream",
     "text": [
      "The vertical stack is \n",
      " [[100 101]\n",
      " [102 103]\n",
      " [104 105]\n",
      " [106 107]]\n"
     ]
    }
   ],
   "source": [
    "#vertical stack\n",
    "# vstack is a function that is used to vertically stack or concatenate arrays\n",
    "arr_3_vstack = np.vstack((array1,array2))\n",
    "print(\"The vertical stack is\",\"\\n\",arr_3_vstack)"
   ]
  },
  {
   "cell_type": "code",
   "execution_count": 11,
   "id": "31d50418",
   "metadata": {},
   "outputs": [
    {
     "name": "stdout",
     "output_type": "stream",
     "text": [
      "The horizontal stack is \n",
      " [[100 101 104 105]\n",
      " [102 103 106 107]]\n"
     ]
    }
   ],
   "source": [
    "#horizontal stack\n",
    "# hstack is a function that is used to horizontally stack or concatenate arrays\n",
    "arr_4_hstack = np.hstack((array1,array2))\n",
    "print(\"The horizontal stack is\",\"\\n\",arr_4_hstack)"
   ]
  },
  {
   "cell_type": "code",
   "execution_count": 12,
   "id": "326836b9",
   "metadata": {},
   "outputs": [
    {
     "name": "stdout",
     "output_type": "stream",
     "text": [
      "Vertical splits is \n",
      " [array([[100, 101],\n",
      "       [102, 103]]), array([[104, 105],\n",
      "       [106, 107]])]\n"
     ]
    }
   ],
   "source": [
    "#create a vertical split of the given arrays\n",
    "vert_split = np.vsplit(arr_3_vstack,2)\n",
    "print(\"Vertical splits is\",\"\\n\",vert_split)"
   ]
  },
  {
   "cell_type": "code",
   "execution_count": 13,
   "id": "2809450b",
   "metadata": {},
   "outputs": [
    {
     "name": "stdout",
     "output_type": "stream",
     "text": [
      "The horizontal split is \n",
      " [array([[100],\n",
      "       [102]]), array([[101],\n",
      "       [103]]), array([[104],\n",
      "       [106]]), array([[105],\n",
      "       [107]])]\n"
     ]
    }
   ],
   "source": [
    "# create horizontal split of the given arrays\n",
    "horizontal_split = np.hsplit(arr_4_hstack,4)\n",
    "print(\"The horizontal split is\",\"\\n\",horizontal_split)"
   ]
  },
  {
   "cell_type": "markdown",
   "id": "f05b6b76",
   "metadata": {},
   "source": [
    "# Q5.Create two matrices X= ([[5, 7, 2], [4, 5, 6], [7, 4 ,2]]) Y= ([[4, 2], [6, 2], [4, 2]]), Is it possible to multiply these matrices"
   ]
  },
  {
   "cell_type": "markdown",
   "id": "f9bea675",
   "metadata": {},
   "source": [
    " we can perform the matrix multiplication of the above given two matrices using matmul. can handle matrix multiplication for arrays of various dimensions and shapes"
   ]
  },
  {
   "cell_type": "code",
   "execution_count": 14,
   "id": "23311867",
   "metadata": {},
   "outputs": [
    {
     "name": "stdout",
     "output_type": "stream",
     "text": [
      "The multiplied matrices are \n",
      " [[70 28]\n",
      " [70 30]\n",
      " [60 26]]\n"
     ]
    }
   ],
   "source": [
    "X = np.array([[5, 7, 2], [4, 5, 6], [7, 4, 2]])\n",
    "Y = np.array([[4, 2], [6, 2], [4, 2]])\n",
    "multiply_matrices = np.matmul(X, Y)\n",
    "print(\"The multiplied matrices are\",\"\\n\",multiply_matrices)"
   ]
  },
  {
   "cell_type": "markdown",
   "id": "fa9a0a59",
   "metadata": {},
   "source": [
    "## Q6 7.Create two arrays, x = ([2, -1, -8]) y = ([3, 1, -2]), Find the Shape, Number of dimensions of vector x"
   ]
  },
  {
   "cell_type": "code",
   "execution_count": 15,
   "id": "a4579dbd",
   "metadata": {},
   "outputs": [],
   "source": [
    "x = np.array([2, -1, -8])\n",
    "y = np.array([3, 1, -2])\n",
    "\n",
    "x_shape = x.shape\n",
    "y_shape = y.shape\n",
    "\n",
    "x_dim = x.ndim\n",
    "y_dim = y.ndim"
   ]
  },
  {
   "cell_type": "code",
   "execution_count": 16,
   "id": "29e29e20",
   "metadata": {},
   "outputs": [
    {
     "name": "stdout",
     "output_type": "stream",
     "text": [
      "The shape of x is (3,)\n",
      "The shape of y is: (3,)\n",
      "Number of dimensions of x: 1\n",
      "Number of dimensions of y: 1\n"
     ]
    }
   ],
   "source": [
    "print(\"The shape of x is\", x_shape)\n",
    "print(\"The shape of y is:\", y_shape)\n",
    "print(\"Number of dimensions of x:\", x_dim)\n",
    "print(\"Number of dimensions of y:\", y_dim)"
   ]
  },
  {
   "cell_type": "code",
   "execution_count": 17,
   "id": "2643fffd",
   "metadata": {},
   "outputs": [
    {
     "name": "stdout",
     "output_type": "stream",
     "text": [
      "Reshaping x \n",
      " [[ 2]\n",
      " [-1]\n",
      " [-8]]\n",
      "Reshaping y \n",
      " [[ 3]\n",
      " [ 1]\n",
      " [-2]]\n"
     ]
    }
   ],
   "source": [
    "reshape_x = print(\"Reshaping x\",\"\\n\",x.reshape(3,1))\n",
    "reshape_y = print(\"Reshaping y\",\"\\n\",y.reshape(3,1))"
   ]
  },
  {
   "cell_type": "markdown",
   "id": "7e76f1ea",
   "metadata": {},
   "source": [
    "## 8. How does broadcasting work? Demonstrate the subtraction, multiplication by considering a 3 x 3 matrix."
   ]
  },
  {
   "cell_type": "markdown",
   "id": "bd15b8a6",
   "metadata": {},
   "source": [
    "Broadcasting is a concept in NumPy that enables us to performing operations between arrays of different shapes. It involves ways to handle operations involving arrays of different shapes and sizes"
   ]
  },
  {
   "cell_type": "code",
   "execution_count": 18,
   "id": "0ce9e66a",
   "metadata": {},
   "outputs": [
    {
     "name": "stdout",
     "output_type": "stream",
     "text": [
      "Matrix 1 is \n",
      " [[121 131 141]\n",
      " [151 161 171]\n",
      " [181 191 200]]\n",
      "matrix 2 is \n",
      " [[11 12 13]\n",
      " [14 15 16]\n",
      " [17 18 19]]\n"
     ]
    }
   ],
   "source": [
    "import numpy as np\n",
    "\n",
    "# Creating a 3x3 matrix\n",
    "mat1 = np.array([[121,131 ,141],\n",
    "                   [151, 161, 171],\n",
    "                   [181, 191, 200]])\n",
    "print(\"Matrix 1 is\",\"\\n\",mat1)\n",
    "\n",
    "mat2 = np.array([[11,12,13],[14,15,16],[17,18,19]])\n",
    "print(\"matrix 2 is\",\"\\n\",mat2)"
   ]
  },
  {
   "cell_type": "markdown",
   "id": "9ca9de9f",
   "metadata": {},
   "source": [
    "# Brief overview of the graphs"
   ]
  },
  {
   "cell_type": "markdown",
   "id": "0d31d78f",
   "metadata": {},
   "source": [
    "# Bar graph"
   ]
  },
  {
   "cell_type": "markdown",
   "id": "fdf0b52c",
   "metadata": {},
   "source": [
    "Bar graphs are used to visualize the categorical features in a discrete data. The length of each bar is associated with\n",
    "with the value of that particular category"
   ]
  },
  {
   "cell_type": "raw",
   "id": "f740d711",
   "metadata": {},
   "source": [
    "plt.bar(categories,value)"
   ]
  },
  {
   "cell_type": "markdown",
   "id": "063982e8",
   "metadata": {},
   "source": [
    "# Scatter Graph"
   ]
  },
  {
   "cell_type": "markdown",
   "id": "3d654cbf",
   "metadata": {},
   "source": [
    "Scatter Plots/graphs are also known as relational graphs where they are used to determine the realtion between two numerical variables"
   ]
  },
  {
   "cell_type": "raw",
   "id": "15af6a7d",
   "metadata": {},
   "source": [
    "plt.scatter(data = data, x = \"num_feature_1\", y = \"num_feature_2\")"
   ]
  },
  {
   "cell_type": "markdown",
   "id": "d46baebc",
   "metadata": {},
   "source": [
    "# Line plot"
   ]
  },
  {
   "cell_type": "markdown",
   "id": "aa811edd",
   "metadata": {},
   "source": [
    "Line plots are  particularly useful for showing trends and patterns in data."
   ]
  },
  {
   "cell_type": "raw",
   "id": "beb5fb78",
   "metadata": {},
   "source": [
    "plt.plot(x,y)"
   ]
  },
  {
   "cell_type": "markdown",
   "id": "da15e52d",
   "metadata": {},
   "source": [
    "# Pie charts"
   ]
  },
  {
   "cell_type": "markdown",
   "id": "2fa2af08",
   "metadata": {},
   "source": [
    "pie charts are used to divide the data into divisions where every division interprets percentage values"
   ]
  },
  {
   "cell_type": "markdown",
   "id": "38bede5e",
   "metadata": {},
   "source": [
    "# Solve the following two system of linear equations using matrices (find the values of x1 and x2) and determine the number of solutions using the functions."
   ]
  },
  {
   "cell_type": "markdown",
   "id": "0549e51b",
   "metadata": {},
   "source": [
    "1.2x1+3x2-4x3=6,x1-4x2=8\n",
    "\n",
    "2. 3y1-4y2+5y3=10,-y1+2y2-4y3=8"
   ]
  },
  {
   "cell_type": "code",
   "execution_count": 19,
   "id": "0c9bbdcc",
   "metadata": {},
   "outputs": [
    {
     "ename": "LinAlgError",
     "evalue": "Last 2 dimensions of the array must be square",
     "output_type": "error",
     "traceback": [
      "\u001b[1;31m---------------------------------------------------------------------------\u001b[0m",
      "\u001b[1;31mLinAlgError\u001b[0m                               Traceback (most recent call last)",
      "\u001b[1;32m<ipython-input-19-4600f3368140>\u001b[0m in \u001b[0;36m<module>\u001b[1;34m\u001b[0m\n\u001b[0;32m      2\u001b[0m \u001b[0mA\u001b[0m\u001b[1;33m=\u001b[0m \u001b[0mnp\u001b[0m\u001b[1;33m.\u001b[0m\u001b[0marray\u001b[0m\u001b[1;33m(\u001b[0m\u001b[1;33m[\u001b[0m\u001b[1;33m[\u001b[0m\u001b[1;36m2\u001b[0m\u001b[1;33m,\u001b[0m\u001b[1;36m3\u001b[0m\u001b[1;33m,\u001b[0m\u001b[1;33m-\u001b[0m\u001b[1;36m4\u001b[0m\u001b[1;33m]\u001b[0m\u001b[1;33m,\u001b[0m\u001b[1;33m[\u001b[0m\u001b[1;36m1\u001b[0m\u001b[1;33m,\u001b[0m\u001b[1;33m-\u001b[0m\u001b[1;36m4\u001b[0m\u001b[1;33m,\u001b[0m\u001b[1;36m0\u001b[0m\u001b[1;33m]\u001b[0m\u001b[1;33m]\u001b[0m\u001b[1;33m)\u001b[0m\u001b[1;33m\u001b[0m\u001b[1;33m\u001b[0m\u001b[0m\n\u001b[0;32m      3\u001b[0m \u001b[0mB\u001b[0m\u001b[1;33m=\u001b[0m\u001b[0mnp\u001b[0m\u001b[1;33m.\u001b[0m\u001b[0marray\u001b[0m\u001b[1;33m(\u001b[0m\u001b[1;33m[\u001b[0m\u001b[1;36m6\u001b[0m\u001b[1;33m,\u001b[0m\u001b[1;36m8.0\u001b[0m\u001b[1;33m]\u001b[0m\u001b[1;33m)\u001b[0m\u001b[1;33m\u001b[0m\u001b[1;33m\u001b[0m\u001b[0m\n\u001b[1;32m----> 4\u001b[1;33m \u001b[0msol\u001b[0m\u001b[1;33m=\u001b[0m\u001b[0mnp\u001b[0m\u001b[1;33m.\u001b[0m\u001b[0mlinalg\u001b[0m\u001b[1;33m.\u001b[0m\u001b[0msolve\u001b[0m\u001b[1;33m(\u001b[0m\u001b[0mA\u001b[0m\u001b[1;33m,\u001b[0m\u001b[0mB\u001b[0m\u001b[1;33m)\u001b[0m\u001b[1;33m\u001b[0m\u001b[1;33m\u001b[0m\u001b[0m\n\u001b[0m\u001b[0;32m      5\u001b[0m \u001b[0msol\u001b[0m\u001b[1;33m\u001b[0m\u001b[1;33m\u001b[0m\u001b[0m\n",
      "\u001b[1;32m<__array_function__ internals>\u001b[0m in \u001b[0;36msolve\u001b[1;34m(*args, **kwargs)\u001b[0m\n",
      "\u001b[1;32m~\\anaconda3\\lib\\site-packages\\numpy\\linalg\\linalg.py\u001b[0m in \u001b[0;36msolve\u001b[1;34m(a, b)\u001b[0m\n\u001b[0;32m    378\u001b[0m     \u001b[0ma\u001b[0m\u001b[1;33m,\u001b[0m \u001b[0m_\u001b[0m \u001b[1;33m=\u001b[0m \u001b[0m_makearray\u001b[0m\u001b[1;33m(\u001b[0m\u001b[0ma\u001b[0m\u001b[1;33m)\u001b[0m\u001b[1;33m\u001b[0m\u001b[1;33m\u001b[0m\u001b[0m\n\u001b[0;32m    379\u001b[0m     \u001b[0m_assert_stacked_2d\u001b[0m\u001b[1;33m(\u001b[0m\u001b[0ma\u001b[0m\u001b[1;33m)\u001b[0m\u001b[1;33m\u001b[0m\u001b[1;33m\u001b[0m\u001b[0m\n\u001b[1;32m--> 380\u001b[1;33m     \u001b[0m_assert_stacked_square\u001b[0m\u001b[1;33m(\u001b[0m\u001b[0ma\u001b[0m\u001b[1;33m)\u001b[0m\u001b[1;33m\u001b[0m\u001b[1;33m\u001b[0m\u001b[0m\n\u001b[0m\u001b[0;32m    381\u001b[0m     \u001b[0mb\u001b[0m\u001b[1;33m,\u001b[0m \u001b[0mwrap\u001b[0m \u001b[1;33m=\u001b[0m \u001b[0m_makearray\u001b[0m\u001b[1;33m(\u001b[0m\u001b[0mb\u001b[0m\u001b[1;33m)\u001b[0m\u001b[1;33m\u001b[0m\u001b[1;33m\u001b[0m\u001b[0m\n\u001b[0;32m    382\u001b[0m     \u001b[0mt\u001b[0m\u001b[1;33m,\u001b[0m \u001b[0mresult_t\u001b[0m \u001b[1;33m=\u001b[0m \u001b[0m_commonType\u001b[0m\u001b[1;33m(\u001b[0m\u001b[0ma\u001b[0m\u001b[1;33m,\u001b[0m \u001b[0mb\u001b[0m\u001b[1;33m)\u001b[0m\u001b[1;33m\u001b[0m\u001b[1;33m\u001b[0m\u001b[0m\n",
      "\u001b[1;32m~\\anaconda3\\lib\\site-packages\\numpy\\linalg\\linalg.py\u001b[0m in \u001b[0;36m_assert_stacked_square\u001b[1;34m(*arrays)\u001b[0m\n\u001b[0;32m    201\u001b[0m         \u001b[0mm\u001b[0m\u001b[1;33m,\u001b[0m \u001b[0mn\u001b[0m \u001b[1;33m=\u001b[0m \u001b[0ma\u001b[0m\u001b[1;33m.\u001b[0m\u001b[0mshape\u001b[0m\u001b[1;33m[\u001b[0m\u001b[1;33m-\u001b[0m\u001b[1;36m2\u001b[0m\u001b[1;33m:\u001b[0m\u001b[1;33m]\u001b[0m\u001b[1;33m\u001b[0m\u001b[1;33m\u001b[0m\u001b[0m\n\u001b[0;32m    202\u001b[0m         \u001b[1;32mif\u001b[0m \u001b[0mm\u001b[0m \u001b[1;33m!=\u001b[0m \u001b[0mn\u001b[0m\u001b[1;33m:\u001b[0m\u001b[1;33m\u001b[0m\u001b[1;33m\u001b[0m\u001b[0m\n\u001b[1;32m--> 203\u001b[1;33m             \u001b[1;32mraise\u001b[0m \u001b[0mLinAlgError\u001b[0m\u001b[1;33m(\u001b[0m\u001b[1;34m'Last 2 dimensions of the array must be square'\u001b[0m\u001b[1;33m)\u001b[0m\u001b[1;33m\u001b[0m\u001b[1;33m\u001b[0m\u001b[0m\n\u001b[0m\u001b[0;32m    204\u001b[0m \u001b[1;33m\u001b[0m\u001b[0m\n\u001b[0;32m    205\u001b[0m \u001b[1;32mdef\u001b[0m \u001b[0m_assert_finite\u001b[0m\u001b[1;33m(\u001b[0m\u001b[1;33m*\u001b[0m\u001b[0marrays\u001b[0m\u001b[1;33m)\u001b[0m\u001b[1;33m:\u001b[0m\u001b[1;33m\u001b[0m\u001b[1;33m\u001b[0m\u001b[0m\n",
      "\u001b[1;31mLinAlgError\u001b[0m: Last 2 dimensions of the array must be square"
     ]
    }
   ],
   "source": [
    "import numpy as np\n",
    "A= np.array([[2,3,-4],[1,-4,0]])\n",
    "B=np.array([6,8.0])\n",
    "sol=np.linalg.solve(A,B)\n",
    "sol"
   ]
  },
  {
   "cell_type": "markdown",
   "id": "34ce181f",
   "metadata": {},
   "source": [
    " 2. 3y1-4y2+5y3=10,-y1+2y2-4y3=8"
   ]
  },
  {
   "cell_type": "code",
   "execution_count": 20,
   "id": "a552f2ea",
   "metadata": {},
   "outputs": [
    {
     "ename": "LinAlgError",
     "evalue": "Last 2 dimensions of the array must be square",
     "output_type": "error",
     "traceback": [
      "\u001b[1;31m---------------------------------------------------------------------------\u001b[0m",
      "\u001b[1;31mLinAlgError\u001b[0m                               Traceback (most recent call last)",
      "\u001b[1;32m<ipython-input-20-62badbcfae5e>\u001b[0m in \u001b[0;36m<module>\u001b[1;34m\u001b[0m\n\u001b[0;32m      1\u001b[0m \u001b[0marray_1\u001b[0m\u001b[1;33m=\u001b[0m\u001b[0mnp\u001b[0m\u001b[1;33m.\u001b[0m\u001b[0marray\u001b[0m\u001b[1;33m(\u001b[0m\u001b[1;33m[\u001b[0m\u001b[1;33m[\u001b[0m\u001b[1;36m3\u001b[0m\u001b[1;33m,\u001b[0m\u001b[1;33m-\u001b[0m\u001b[1;36m4\u001b[0m\u001b[1;33m,\u001b[0m\u001b[1;36m5\u001b[0m\u001b[1;33m]\u001b[0m\u001b[1;33m,\u001b[0m\u001b[1;33m[\u001b[0m\u001b[1;33m-\u001b[0m\u001b[1;36m1\u001b[0m\u001b[1;33m,\u001b[0m\u001b[1;36m2\u001b[0m\u001b[1;33m,\u001b[0m\u001b[1;33m-\u001b[0m\u001b[1;36m4\u001b[0m\u001b[1;33m]\u001b[0m\u001b[1;33m]\u001b[0m\u001b[1;33m)\u001b[0m\u001b[1;33m\u001b[0m\u001b[1;33m\u001b[0m\u001b[0m\n\u001b[0;32m      2\u001b[0m \u001b[0marray_2\u001b[0m\u001b[1;33m=\u001b[0m\u001b[0mnp\u001b[0m\u001b[1;33m.\u001b[0m\u001b[0marray\u001b[0m\u001b[1;33m(\u001b[0m\u001b[1;33m[\u001b[0m\u001b[1;36m10\u001b[0m\u001b[1;33m,\u001b[0m\u001b[1;36m8\u001b[0m\u001b[1;33m]\u001b[0m\u001b[1;33m)\u001b[0m\u001b[1;33m\u001b[0m\u001b[1;33m\u001b[0m\u001b[0m\n\u001b[1;32m----> 3\u001b[1;33m \u001b[0moutput\u001b[0m\u001b[1;33m=\u001b[0m\u001b[0mnp\u001b[0m\u001b[1;33m.\u001b[0m\u001b[0mlinalg\u001b[0m\u001b[1;33m.\u001b[0m\u001b[0msolve\u001b[0m\u001b[1;33m(\u001b[0m\u001b[0marray_1\u001b[0m\u001b[1;33m,\u001b[0m\u001b[0marray_2\u001b[0m\u001b[1;33m)\u001b[0m\u001b[1;33m\u001b[0m\u001b[1;33m\u001b[0m\u001b[0m\n\u001b[0m\u001b[0;32m      4\u001b[0m \u001b[0moutput\u001b[0m\u001b[1;33m\u001b[0m\u001b[1;33m\u001b[0m\u001b[0m\n",
      "\u001b[1;32m<__array_function__ internals>\u001b[0m in \u001b[0;36msolve\u001b[1;34m(*args, **kwargs)\u001b[0m\n",
      "\u001b[1;32m~\\anaconda3\\lib\\site-packages\\numpy\\linalg\\linalg.py\u001b[0m in \u001b[0;36msolve\u001b[1;34m(a, b)\u001b[0m\n\u001b[0;32m    378\u001b[0m     \u001b[0ma\u001b[0m\u001b[1;33m,\u001b[0m \u001b[0m_\u001b[0m \u001b[1;33m=\u001b[0m \u001b[0m_makearray\u001b[0m\u001b[1;33m(\u001b[0m\u001b[0ma\u001b[0m\u001b[1;33m)\u001b[0m\u001b[1;33m\u001b[0m\u001b[1;33m\u001b[0m\u001b[0m\n\u001b[0;32m    379\u001b[0m     \u001b[0m_assert_stacked_2d\u001b[0m\u001b[1;33m(\u001b[0m\u001b[0ma\u001b[0m\u001b[1;33m)\u001b[0m\u001b[1;33m\u001b[0m\u001b[1;33m\u001b[0m\u001b[0m\n\u001b[1;32m--> 380\u001b[1;33m     \u001b[0m_assert_stacked_square\u001b[0m\u001b[1;33m(\u001b[0m\u001b[0ma\u001b[0m\u001b[1;33m)\u001b[0m\u001b[1;33m\u001b[0m\u001b[1;33m\u001b[0m\u001b[0m\n\u001b[0m\u001b[0;32m    381\u001b[0m     \u001b[0mb\u001b[0m\u001b[1;33m,\u001b[0m \u001b[0mwrap\u001b[0m \u001b[1;33m=\u001b[0m \u001b[0m_makearray\u001b[0m\u001b[1;33m(\u001b[0m\u001b[0mb\u001b[0m\u001b[1;33m)\u001b[0m\u001b[1;33m\u001b[0m\u001b[1;33m\u001b[0m\u001b[0m\n\u001b[0;32m    382\u001b[0m     \u001b[0mt\u001b[0m\u001b[1;33m,\u001b[0m \u001b[0mresult_t\u001b[0m \u001b[1;33m=\u001b[0m \u001b[0m_commonType\u001b[0m\u001b[1;33m(\u001b[0m\u001b[0ma\u001b[0m\u001b[1;33m,\u001b[0m \u001b[0mb\u001b[0m\u001b[1;33m)\u001b[0m\u001b[1;33m\u001b[0m\u001b[1;33m\u001b[0m\u001b[0m\n",
      "\u001b[1;32m~\\anaconda3\\lib\\site-packages\\numpy\\linalg\\linalg.py\u001b[0m in \u001b[0;36m_assert_stacked_square\u001b[1;34m(*arrays)\u001b[0m\n\u001b[0;32m    201\u001b[0m         \u001b[0mm\u001b[0m\u001b[1;33m,\u001b[0m \u001b[0mn\u001b[0m \u001b[1;33m=\u001b[0m \u001b[0ma\u001b[0m\u001b[1;33m.\u001b[0m\u001b[0mshape\u001b[0m\u001b[1;33m[\u001b[0m\u001b[1;33m-\u001b[0m\u001b[1;36m2\u001b[0m\u001b[1;33m:\u001b[0m\u001b[1;33m]\u001b[0m\u001b[1;33m\u001b[0m\u001b[1;33m\u001b[0m\u001b[0m\n\u001b[0;32m    202\u001b[0m         \u001b[1;32mif\u001b[0m \u001b[0mm\u001b[0m \u001b[1;33m!=\u001b[0m \u001b[0mn\u001b[0m\u001b[1;33m:\u001b[0m\u001b[1;33m\u001b[0m\u001b[1;33m\u001b[0m\u001b[0m\n\u001b[1;32m--> 203\u001b[1;33m             \u001b[1;32mraise\u001b[0m \u001b[0mLinAlgError\u001b[0m\u001b[1;33m(\u001b[0m\u001b[1;34m'Last 2 dimensions of the array must be square'\u001b[0m\u001b[1;33m)\u001b[0m\u001b[1;33m\u001b[0m\u001b[1;33m\u001b[0m\u001b[0m\n\u001b[0m\u001b[0;32m    204\u001b[0m \u001b[1;33m\u001b[0m\u001b[0m\n\u001b[0;32m    205\u001b[0m \u001b[1;32mdef\u001b[0m \u001b[0m_assert_finite\u001b[0m\u001b[1;33m(\u001b[0m\u001b[1;33m*\u001b[0m\u001b[0marrays\u001b[0m\u001b[1;33m)\u001b[0m\u001b[1;33m:\u001b[0m\u001b[1;33m\u001b[0m\u001b[1;33m\u001b[0m\u001b[0m\n",
      "\u001b[1;31mLinAlgError\u001b[0m: Last 2 dimensions of the array must be square"
     ]
    }
   ],
   "source": [
    "array_1=np.array([[3,-4,5],[-1,2,-4]])\n",
    "array_2=np.array([10,8])\n",
    "output=np.linalg.solve(array_1,array_2)\n",
    "output"
   ]
  },
  {
   "cell_type": "markdown",
   "id": "19710e02",
   "metadata": {},
   "source": [
    "# Inference"
   ]
  },
  {
   "cell_type": "markdown",
   "id": "4b4b3b27",
   "metadata": {},
   "source": [
    "# To solve this, there should be one or more linear equations. To find x1,x2 and x3 we need a third equation. For us to solve system of linear equations it is essential to have same number of equations as the number of variables. . Hence there is no solution"
   ]
  }
 ],
 "metadata": {
  "kernelspec": {
   "display_name": "Python 3",
   "language": "python",
   "name": "python3"
  },
  "language_info": {
   "codemirror_mode": {
    "name": "ipython",
    "version": 3
   },
   "file_extension": ".py",
   "mimetype": "text/x-python",
   "name": "python",
   "nbconvert_exporter": "python",
   "pygments_lexer": "ipython3",
   "version": "3.8.8"
  }
 },
 "nbformat": 4,
 "nbformat_minor": 5
}
