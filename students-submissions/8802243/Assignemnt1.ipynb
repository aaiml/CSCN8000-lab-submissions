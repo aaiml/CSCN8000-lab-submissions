{
 "cells": [
  {
   "cell_type": "code",
   "execution_count": 21,
   "metadata": {},
   "outputs": [],
   "source": [
    "import numpy as np\n",
    "import pandas as pd\n",
    "from sklearn.model_selection import train_test_split\n",
    "from sklearn.metrics import accuracy_score\n",
    "from sklearn.linear_model import LogisticRegression\n",
    "from sklearn.preprocessing import StandardScaler\n",
    "from sklearn.tree import DecisionTreeClassifier\n",
    "from sklearn import tree"
   ]
  },
  {
   "cell_type": "code",
   "execution_count": 22,
   "metadata": {},
   "outputs": [
    {
     "data": {
      "text/html": [
       "<div>\n",
       "<style scoped>\n",
       "    .dataframe tbody tr th:only-of-type {\n",
       "        vertical-align: middle;\n",
       "    }\n",
       "\n",
       "    .dataframe tbody tr th {\n",
       "        vertical-align: top;\n",
       "    }\n",
       "\n",
       "    .dataframe thead th {\n",
       "        text-align: right;\n",
       "    }\n",
       "</style>\n",
       "<table border=\"1\" class=\"dataframe\">\n",
       "  <thead>\n",
       "    <tr style=\"text-align: right;\">\n",
       "      <th></th>\n",
       "      <th>id</th>\n",
       "      <th>gender</th>\n",
       "      <th>PPE</th>\n",
       "      <th>DFA</th>\n",
       "      <th>RPDE</th>\n",
       "      <th>numPulses</th>\n",
       "      <th>numPeriodsPulses</th>\n",
       "      <th>meanPeriodPulses</th>\n",
       "      <th>stdDevPeriodPulses</th>\n",
       "      <th>locPctJitter</th>\n",
       "      <th>...</th>\n",
       "      <th>tqwt_kurtosisValue_dec_28</th>\n",
       "      <th>tqwt_kurtosisValue_dec_29</th>\n",
       "      <th>tqwt_kurtosisValue_dec_30</th>\n",
       "      <th>tqwt_kurtosisValue_dec_31</th>\n",
       "      <th>tqwt_kurtosisValue_dec_32</th>\n",
       "      <th>tqwt_kurtosisValue_dec_33</th>\n",
       "      <th>tqwt_kurtosisValue_dec_34</th>\n",
       "      <th>tqwt_kurtosisValue_dec_35</th>\n",
       "      <th>tqwt_kurtosisValue_dec_36</th>\n",
       "      <th>class</th>\n",
       "    </tr>\n",
       "  </thead>\n",
       "  <tbody>\n",
       "    <tr>\n",
       "      <th>count</th>\n",
       "      <td>756.000000</td>\n",
       "      <td>756.000000</td>\n",
       "      <td>756.000000</td>\n",
       "      <td>756.000000</td>\n",
       "      <td>756.000000</td>\n",
       "      <td>756.000000</td>\n",
       "      <td>756.000000</td>\n",
       "      <td>756.000000</td>\n",
       "      <td>756.000000</td>\n",
       "      <td>756.000000</td>\n",
       "      <td>...</td>\n",
       "      <td>756.000000</td>\n",
       "      <td>756.000000</td>\n",
       "      <td>756.000000</td>\n",
       "      <td>756.000000</td>\n",
       "      <td>756.000000</td>\n",
       "      <td>756.000000</td>\n",
       "      <td>756.000000</td>\n",
       "      <td>756.000000</td>\n",
       "      <td>756.000000</td>\n",
       "      <td>756.000000</td>\n",
       "    </tr>\n",
       "    <tr>\n",
       "      <th>mean</th>\n",
       "      <td>125.500000</td>\n",
       "      <td>0.515873</td>\n",
       "      <td>0.746284</td>\n",
       "      <td>0.700414</td>\n",
       "      <td>0.489058</td>\n",
       "      <td>323.972222</td>\n",
       "      <td>322.678571</td>\n",
       "      <td>0.006360</td>\n",
       "      <td>0.000383</td>\n",
       "      <td>0.002324</td>\n",
       "      <td>...</td>\n",
       "      <td>26.237251</td>\n",
       "      <td>22.840337</td>\n",
       "      <td>18.587888</td>\n",
       "      <td>13.872018</td>\n",
       "      <td>12.218953</td>\n",
       "      <td>12.375335</td>\n",
       "      <td>14.799230</td>\n",
       "      <td>14.751559</td>\n",
       "      <td>31.481110</td>\n",
       "      <td>0.746032</td>\n",
       "    </tr>\n",
       "    <tr>\n",
       "      <th>std</th>\n",
       "      <td>72.793721</td>\n",
       "      <td>0.500079</td>\n",
       "      <td>0.169294</td>\n",
       "      <td>0.069718</td>\n",
       "      <td>0.137442</td>\n",
       "      <td>99.219059</td>\n",
       "      <td>99.402499</td>\n",
       "      <td>0.001826</td>\n",
       "      <td>0.000728</td>\n",
       "      <td>0.002628</td>\n",
       "      <td>...</td>\n",
       "      <td>42.220693</td>\n",
       "      <td>32.626464</td>\n",
       "      <td>25.537464</td>\n",
       "      <td>20.046029</td>\n",
       "      <td>17.783642</td>\n",
       "      <td>16.341665</td>\n",
       "      <td>15.722502</td>\n",
       "      <td>14.432979</td>\n",
       "      <td>34.230991</td>\n",
       "      <td>0.435568</td>\n",
       "    </tr>\n",
       "    <tr>\n",
       "      <th>min</th>\n",
       "      <td>0.000000</td>\n",
       "      <td>0.000000</td>\n",
       "      <td>0.041551</td>\n",
       "      <td>0.543500</td>\n",
       "      <td>0.154300</td>\n",
       "      <td>2.000000</td>\n",
       "      <td>1.000000</td>\n",
       "      <td>0.002107</td>\n",
       "      <td>0.000011</td>\n",
       "      <td>0.000210</td>\n",
       "      <td>...</td>\n",
       "      <td>1.509800</td>\n",
       "      <td>1.531700</td>\n",
       "      <td>1.582900</td>\n",
       "      <td>1.747200</td>\n",
       "      <td>1.789500</td>\n",
       "      <td>1.628700</td>\n",
       "      <td>1.861700</td>\n",
       "      <td>1.955900</td>\n",
       "      <td>2.364000</td>\n",
       "      <td>0.000000</td>\n",
       "    </tr>\n",
       "    <tr>\n",
       "      <th>25%</th>\n",
       "      <td>62.750000</td>\n",
       "      <td>0.000000</td>\n",
       "      <td>0.762833</td>\n",
       "      <td>0.647053</td>\n",
       "      <td>0.386537</td>\n",
       "      <td>251.000000</td>\n",
       "      <td>250.000000</td>\n",
       "      <td>0.005003</td>\n",
       "      <td>0.000049</td>\n",
       "      <td>0.000970</td>\n",
       "      <td>...</td>\n",
       "      <td>2.408675</td>\n",
       "      <td>3.452800</td>\n",
       "      <td>3.354825</td>\n",
       "      <td>3.077450</td>\n",
       "      <td>2.937025</td>\n",
       "      <td>3.114375</td>\n",
       "      <td>3.665925</td>\n",
       "      <td>3.741275</td>\n",
       "      <td>3.948750</td>\n",
       "      <td>0.000000</td>\n",
       "    </tr>\n",
       "    <tr>\n",
       "      <th>50%</th>\n",
       "      <td>125.500000</td>\n",
       "      <td>1.000000</td>\n",
       "      <td>0.809655</td>\n",
       "      <td>0.700525</td>\n",
       "      <td>0.484355</td>\n",
       "      <td>317.000000</td>\n",
       "      <td>316.000000</td>\n",
       "      <td>0.006048</td>\n",
       "      <td>0.000077</td>\n",
       "      <td>0.001495</td>\n",
       "      <td>...</td>\n",
       "      <td>5.586300</td>\n",
       "      <td>7.062750</td>\n",
       "      <td>6.077400</td>\n",
       "      <td>4.770850</td>\n",
       "      <td>4.300450</td>\n",
       "      <td>4.741450</td>\n",
       "      <td>6.725700</td>\n",
       "      <td>7.334250</td>\n",
       "      <td>10.637250</td>\n",
       "      <td>1.000000</td>\n",
       "    </tr>\n",
       "    <tr>\n",
       "      <th>75%</th>\n",
       "      <td>188.250000</td>\n",
       "      <td>1.000000</td>\n",
       "      <td>0.834315</td>\n",
       "      <td>0.754985</td>\n",
       "      <td>0.586515</td>\n",
       "      <td>384.250000</td>\n",
       "      <td>383.250000</td>\n",
       "      <td>0.007528</td>\n",
       "      <td>0.000171</td>\n",
       "      <td>0.002520</td>\n",
       "      <td>...</td>\n",
       "      <td>28.958075</td>\n",
       "      <td>29.830850</td>\n",
       "      <td>21.944050</td>\n",
       "      <td>13.188000</td>\n",
       "      <td>10.876150</td>\n",
       "      <td>12.201325</td>\n",
       "      <td>21.922050</td>\n",
       "      <td>22.495175</td>\n",
       "      <td>61.125325</td>\n",
       "      <td>1.000000</td>\n",
       "    </tr>\n",
       "    <tr>\n",
       "      <th>max</th>\n",
       "      <td>251.000000</td>\n",
       "      <td>1.000000</td>\n",
       "      <td>0.907660</td>\n",
       "      <td>0.852640</td>\n",
       "      <td>0.871230</td>\n",
       "      <td>907.000000</td>\n",
       "      <td>905.000000</td>\n",
       "      <td>0.012966</td>\n",
       "      <td>0.003483</td>\n",
       "      <td>0.027750</td>\n",
       "      <td>...</td>\n",
       "      <td>239.788800</td>\n",
       "      <td>203.311300</td>\n",
       "      <td>121.542900</td>\n",
       "      <td>102.207000</td>\n",
       "      <td>85.571700</td>\n",
       "      <td>73.532200</td>\n",
       "      <td>62.007300</td>\n",
       "      <td>57.544300</td>\n",
       "      <td>156.423700</td>\n",
       "      <td>1.000000</td>\n",
       "    </tr>\n",
       "  </tbody>\n",
       "</table>\n",
       "<p>8 rows × 755 columns</p>\n",
       "</div>"
      ],
      "text/plain": [
       "               id      gender         PPE         DFA        RPDE   numPulses   \n",
       "count  756.000000  756.000000  756.000000  756.000000  756.000000  756.000000  \\\n",
       "mean   125.500000    0.515873    0.746284    0.700414    0.489058  323.972222   \n",
       "std     72.793721    0.500079    0.169294    0.069718    0.137442   99.219059   \n",
       "min      0.000000    0.000000    0.041551    0.543500    0.154300    2.000000   \n",
       "25%     62.750000    0.000000    0.762833    0.647053    0.386537  251.000000   \n",
       "50%    125.500000    1.000000    0.809655    0.700525    0.484355  317.000000   \n",
       "75%    188.250000    1.000000    0.834315    0.754985    0.586515  384.250000   \n",
       "max    251.000000    1.000000    0.907660    0.852640    0.871230  907.000000   \n",
       "\n",
       "       numPeriodsPulses  meanPeriodPulses  stdDevPeriodPulses  locPctJitter   \n",
       "count        756.000000        756.000000          756.000000    756.000000  \\\n",
       "mean         322.678571          0.006360            0.000383      0.002324   \n",
       "std           99.402499          0.001826            0.000728      0.002628   \n",
       "min            1.000000          0.002107            0.000011      0.000210   \n",
       "25%          250.000000          0.005003            0.000049      0.000970   \n",
       "50%          316.000000          0.006048            0.000077      0.001495   \n",
       "75%          383.250000          0.007528            0.000171      0.002520   \n",
       "max          905.000000          0.012966            0.003483      0.027750   \n",
       "\n",
       "       ...  tqwt_kurtosisValue_dec_28  tqwt_kurtosisValue_dec_29   \n",
       "count  ...                 756.000000                 756.000000  \\\n",
       "mean   ...                  26.237251                  22.840337   \n",
       "std    ...                  42.220693                  32.626464   \n",
       "min    ...                   1.509800                   1.531700   \n",
       "25%    ...                   2.408675                   3.452800   \n",
       "50%    ...                   5.586300                   7.062750   \n",
       "75%    ...                  28.958075                  29.830850   \n",
       "max    ...                 239.788800                 203.311300   \n",
       "\n",
       "       tqwt_kurtosisValue_dec_30  tqwt_kurtosisValue_dec_31   \n",
       "count                 756.000000                 756.000000  \\\n",
       "mean                   18.587888                  13.872018   \n",
       "std                    25.537464                  20.046029   \n",
       "min                     1.582900                   1.747200   \n",
       "25%                     3.354825                   3.077450   \n",
       "50%                     6.077400                   4.770850   \n",
       "75%                    21.944050                  13.188000   \n",
       "max                   121.542900                 102.207000   \n",
       "\n",
       "       tqwt_kurtosisValue_dec_32  tqwt_kurtosisValue_dec_33   \n",
       "count                 756.000000                 756.000000  \\\n",
       "mean                   12.218953                  12.375335   \n",
       "std                    17.783642                  16.341665   \n",
       "min                     1.789500                   1.628700   \n",
       "25%                     2.937025                   3.114375   \n",
       "50%                     4.300450                   4.741450   \n",
       "75%                    10.876150                  12.201325   \n",
       "max                    85.571700                  73.532200   \n",
       "\n",
       "       tqwt_kurtosisValue_dec_34  tqwt_kurtosisValue_dec_35   \n",
       "count                 756.000000                 756.000000  \\\n",
       "mean                   14.799230                  14.751559   \n",
       "std                    15.722502                  14.432979   \n",
       "min                     1.861700                   1.955900   \n",
       "25%                     3.665925                   3.741275   \n",
       "50%                     6.725700                   7.334250   \n",
       "75%                    21.922050                  22.495175   \n",
       "max                    62.007300                  57.544300   \n",
       "\n",
       "       tqwt_kurtosisValue_dec_36       class  \n",
       "count                 756.000000  756.000000  \n",
       "mean                   31.481110    0.746032  \n",
       "std                    34.230991    0.435568  \n",
       "min                     2.364000    0.000000  \n",
       "25%                     3.948750    0.000000  \n",
       "50%                    10.637250    1.000000  \n",
       "75%                    61.125325    1.000000  \n",
       "max                   156.423700    1.000000  \n",
       "\n",
       "[8 rows x 755 columns]"
      ]
     },
     "execution_count": 22,
     "metadata": {},
     "output_type": "execute_result"
    }
   ],
   "source": [
    "# Loading the Dataset\n",
    "path = \"C:/Users/ranah/OneDrive/Desktop/AIML/artificial_intelligence_algorithm/CSCN8000-lab-submissions/students-submissions/8802243/pd_speech_features.csv\"\n",
    "speech_data = pd.read_csv(path, header=1)\n",
    "speech_data.describe()"
   ]
  },
  {
   "cell_type": "code",
   "execution_count": 23,
   "metadata": {},
   "outputs": [
    {
     "name": "stdout",
     "output_type": "stream",
     "text": [
      "id                           0\n",
      "gender                       0\n",
      "PPE                          0\n",
      "DFA                          0\n",
      "RPDE                         0\n",
      "                            ..\n",
      "tqwt_kurtosisValue_dec_33    0\n",
      "tqwt_kurtosisValue_dec_34    0\n",
      "tqwt_kurtosisValue_dec_35    0\n",
      "tqwt_kurtosisValue_dec_36    0\n",
      "class                        0\n",
      "Length: 755, dtype: int64\n"
     ]
    }
   ],
   "source": [
    "# Checking if there are any missing values\n",
    "print(speech_data.isnull().sum())"
   ]
  },
  {
   "cell_type": "code",
   "execution_count": 24,
   "metadata": {},
   "outputs": [
    {
     "name": "stdout",
     "output_type": "stream",
     "text": [
      "1\n"
     ]
    }
   ],
   "source": [
    "print(speech_data.duplicated().sum())"
   ]
  },
  {
   "cell_type": "markdown",
   "metadata": {},
   "source": [
    "The above answer depicts that there is one duplicate row in the file. "
   ]
  },
  {
   "cell_type": "code",
   "execution_count": 25,
   "metadata": {},
   "outputs": [
    {
     "data": {
      "text/plain": [
       "0"
      ]
     },
     "execution_count": 25,
     "metadata": {},
     "output_type": "execute_result"
    }
   ],
   "source": [
    "# To remove the duplicate row\n",
    "new_data = (speech_data.drop_duplicates())\n",
    "(new_data.duplicated().sum())"
   ]
  },
  {
   "cell_type": "markdown",
   "metadata": {},
   "source": [
    "I have now removed the duplicate row. Hence the output is 0."
   ]
  },
  {
   "cell_type": "markdown",
   "metadata": {},
   "source": [
    "Now we need to scale the data with two variables which can generate only two classes. Since Gender and Class can depict only two outputs, we can seperate them."
   ]
  },
  {
   "cell_type": "code",
   "execution_count": 26,
   "metadata": {},
   "outputs": [],
   "source": [
    "class_label = new_data['class']\n",
    "gender = new_data['gender']\n",
    "scaled_data = new_data.drop(columns=['gender','class'])"
   ]
  },
  {
   "cell_type": "code",
   "execution_count": 27,
   "metadata": {},
   "outputs": [],
   "source": [
    "#The Data Without both the columns and adding both the value again.\n",
    "standard_scaler = StandardScaler()\n",
    "new_scaled_data = pd.DataFrame(standard_scaler.fit_transform(scaled_data), columns=scaled_data.columns)\n",
    "\n",
    "new_scaled_data['gender'] = gender.values\n",
    "new_scaled_data['class'] = class_label.values"
   ]
  },
  {
   "cell_type": "code",
   "execution_count": 28,
   "metadata": {},
   "outputs": [
    {
     "name": "stderr",
     "output_type": "stream",
     "text": [
      "c:\\ProgramData\\anaconda3\\envs\\CSCN8010_AIML\\Lib\\site-packages\\sklearn\\linear_model\\_logistic.py:458: ConvergenceWarning: lbfgs failed to converge (status=1):\n",
      "STOP: TOTAL NO. of ITERATIONS REACHED LIMIT.\n",
      "\n",
      "Increase the number of iterations (max_iter) or scale the data as shown in:\n",
      "    https://scikit-learn.org/stable/modules/preprocessing.html\n",
      "Please also refer to the documentation for alternative solver options:\n",
      "    https://scikit-learn.org/stable/modules/linear_model.html#logistic-regression\n",
      "  n_iter_i = _check_optimize_result(\n"
     ]
    },
    {
     "data": {
      "text/html": [
       "<style>#sk-container-id-4 {color: black;background-color: white;}#sk-container-id-4 pre{padding: 0;}#sk-container-id-4 div.sk-toggleable {background-color: white;}#sk-container-id-4 label.sk-toggleable__label {cursor: pointer;display: block;width: 100%;margin-bottom: 0;padding: 0.3em;box-sizing: border-box;text-align: center;}#sk-container-id-4 label.sk-toggleable__label-arrow:before {content: \"▸\";float: left;margin-right: 0.25em;color: #696969;}#sk-container-id-4 label.sk-toggleable__label-arrow:hover:before {color: black;}#sk-container-id-4 div.sk-estimator:hover label.sk-toggleable__label-arrow:before {color: black;}#sk-container-id-4 div.sk-toggleable__content {max-height: 0;max-width: 0;overflow: hidden;text-align: left;background-color: #f0f8ff;}#sk-container-id-4 div.sk-toggleable__content pre {margin: 0.2em;color: black;border-radius: 0.25em;background-color: #f0f8ff;}#sk-container-id-4 input.sk-toggleable__control:checked~div.sk-toggleable__content {max-height: 200px;max-width: 100%;overflow: auto;}#sk-container-id-4 input.sk-toggleable__control:checked~label.sk-toggleable__label-arrow:before {content: \"▾\";}#sk-container-id-4 div.sk-estimator input.sk-toggleable__control:checked~label.sk-toggleable__label {background-color: #d4ebff;}#sk-container-id-4 div.sk-label input.sk-toggleable__control:checked~label.sk-toggleable__label {background-color: #d4ebff;}#sk-container-id-4 input.sk-hidden--visually {border: 0;clip: rect(1px 1px 1px 1px);clip: rect(1px, 1px, 1px, 1px);height: 1px;margin: -1px;overflow: hidden;padding: 0;position: absolute;width: 1px;}#sk-container-id-4 div.sk-estimator {font-family: monospace;background-color: #f0f8ff;border: 1px dotted black;border-radius: 0.25em;box-sizing: border-box;margin-bottom: 0.5em;}#sk-container-id-4 div.sk-estimator:hover {background-color: #d4ebff;}#sk-container-id-4 div.sk-parallel-item::after {content: \"\";width: 100%;border-bottom: 1px solid gray;flex-grow: 1;}#sk-container-id-4 div.sk-label:hover label.sk-toggleable__label {background-color: #d4ebff;}#sk-container-id-4 div.sk-serial::before {content: \"\";position: absolute;border-left: 1px solid gray;box-sizing: border-box;top: 0;bottom: 0;left: 50%;z-index: 0;}#sk-container-id-4 div.sk-serial {display: flex;flex-direction: column;align-items: center;background-color: white;padding-right: 0.2em;padding-left: 0.2em;position: relative;}#sk-container-id-4 div.sk-item {position: relative;z-index: 1;}#sk-container-id-4 div.sk-parallel {display: flex;align-items: stretch;justify-content: center;background-color: white;position: relative;}#sk-container-id-4 div.sk-item::before, #sk-container-id-4 div.sk-parallel-item::before {content: \"\";position: absolute;border-left: 1px solid gray;box-sizing: border-box;top: 0;bottom: 0;left: 50%;z-index: -1;}#sk-container-id-4 div.sk-parallel-item {display: flex;flex-direction: column;z-index: 1;position: relative;background-color: white;}#sk-container-id-4 div.sk-parallel-item:first-child::after {align-self: flex-end;width: 50%;}#sk-container-id-4 div.sk-parallel-item:last-child::after {align-self: flex-start;width: 50%;}#sk-container-id-4 div.sk-parallel-item:only-child::after {width: 0;}#sk-container-id-4 div.sk-dashed-wrapped {border: 1px dashed gray;margin: 0 0.4em 0.5em 0.4em;box-sizing: border-box;padding-bottom: 0.4em;background-color: white;}#sk-container-id-4 div.sk-label label {font-family: monospace;font-weight: bold;display: inline-block;line-height: 1.2em;}#sk-container-id-4 div.sk-label-container {text-align: center;}#sk-container-id-4 div.sk-container {/* jupyter's `normalize.less` sets `[hidden] { display: none; }` but bootstrap.min.css set `[hidden] { display: none !important; }` so we also need the `!important` here to be able to override the default hidden behavior on the sphinx rendered scikit-learn.org. See: https://github.com/scikit-learn/scikit-learn/issues/21755 */display: inline-block !important;position: relative;}#sk-container-id-4 div.sk-text-repr-fallback {display: none;}</style><div id=\"sk-container-id-4\" class=\"sk-top-container\"><div class=\"sk-text-repr-fallback\"><pre>LogisticRegression()</pre><b>In a Jupyter environment, please rerun this cell to show the HTML representation or trust the notebook. <br />On GitHub, the HTML representation is unable to render, please try loading this page with nbviewer.org.</b></div><div class=\"sk-container\" hidden><div class=\"sk-item\"><div class=\"sk-estimator sk-toggleable\"><input class=\"sk-toggleable__control sk-hidden--visually\" id=\"sk-estimator-id-4\" type=\"checkbox\" checked><label for=\"sk-estimator-id-4\" class=\"sk-toggleable__label sk-toggleable__label-arrow\">LogisticRegression</label><div class=\"sk-toggleable__content\"><pre>LogisticRegression()</pre></div></div></div></div></div>"
      ],
      "text/plain": [
       "LogisticRegression()"
      ]
     },
     "execution_count": 28,
     "metadata": {},
     "output_type": "execute_result"
    }
   ],
   "source": [
    "X = new_scaled_data.drop(columns=['class'])\n",
    "y = new_scaled_data['class']\n",
    "\n",
    "X_train, X_test, y_train, y_test = train_test_split(X, y, test_size=0.2, random_state=42)\n",
    "\n",
    "#Logistic Reggression for the model\n",
    "\n",
    "logistic_regression_model = LogisticRegression()\n",
    "logistic_regression_model.fit(X_train, y_train)"
   ]
  },
  {
   "cell_type": "code",
   "execution_count": 29,
   "metadata": {},
   "outputs": [
    {
     "name": "stdout",
     "output_type": "stream",
     "text": [
      "Model Accuracy: 0.8344370860927153\n"
     ]
    }
   ],
   "source": [
    "# Checking the model accuracy\n",
    "accuracy_score = accuracy_score(y_test, logistic_regression_model.predict(X_test))\n",
    "print(f\"Model Accuracy: {accuracy_score}\")"
   ]
  },
  {
   "cell_type": "markdown",
   "metadata": {},
   "source": [
    "SUMMARY:\n",
    "\n",
    "The output of the code explains that it is possible of predict whether a patient has Parkinson's disease with the help of tree model."
   ]
  }
 ],
 "metadata": {
  "kernelspec": {
   "display_name": "CSCN8010_AIML",
   "language": "python",
   "name": "python3"
  },
  "language_info": {
   "codemirror_mode": {
    "name": "ipython",
    "version": 3
   },
   "file_extension": ".py",
   "mimetype": "text/x-python",
   "name": "python",
   "nbconvert_exporter": "python",
   "pygments_lexer": "ipython3",
   "version": "3.11.4"
  },
  "orig_nbformat": 4
 },
 "nbformat": 4,
 "nbformat_minor": 2
}
