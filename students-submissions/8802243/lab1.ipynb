{
 "cells": [
  {
   "attachments": {},
   "cell_type": "markdown",
   "metadata": {},
   "source": [
    "##  Hamir Ranavaya - 8802243\n",
    "### Lab-1 Basic Numpy Operations."
   ]
  },
  {
   "attachments": {},
   "cell_type": "markdown",
   "metadata": {},
   "source": [
    "# PART A"
   ]
  },
  {
   "attachments": {},
   "cell_type": "markdown",
   "metadata": {},
   "source": [
    "Q1. Create a Notebook to demonstrate NumPy Operations."
   ]
  },
  {
   "cell_type": "code",
   "execution_count": 3,
   "metadata": {},
   "outputs": [],
   "source": [
    "# Importing necessary packages\n",
    "import numpy as np"
   ]
  },
  {
   "attachments": {},
   "cell_type": "markdown",
   "metadata": {},
   "source": [
    "Q2. Create an array that starts from the integer 1, ends at 20, incremented by 3."
   ]
  },
  {
   "cell_type": "code",
   "execution_count": 5,
   "metadata": {},
   "outputs": [
    {
     "name": "stdout",
     "output_type": "stream",
     "text": [
      "[ 1  4  7 10 13 16 19]\n"
     ]
    }
   ],
   "source": [
    "# Creating an array starting from 1 to 20 with the intervals of 3.\n",
    "array = np.arange(1,20,3)\n",
    "print(array)"
   ]
  },
  {
   "attachments": {},
   "cell_type": "markdown",
   "metadata": {},
   "source": [
    "Q3. Create a new array of shape 3 with random numbers between 0 and 1."
   ]
  },
  {
   "cell_type": "code",
   "execution_count": 10,
   "metadata": {},
   "outputs": [
    {
     "name": "stdout",
     "output_type": "stream",
     "text": [
      "array [0.70714975 0.45726268 0.18736487]\n"
     ]
    }
   ],
   "source": [
    "# Creating another array of shape 3 with random numbers (0 and 1).\n",
    "array = np.random.rand(3)\n",
    "print(\"array\",array)"
   ]
  },
  {
   "attachments": {},
   "cell_type": "markdown",
   "metadata": {},
   "source": [
    "Q4. Create a 2 D array [[10,20,45], [30,12,16], [42,17,56]] and perform the following operations:\n",
    "Slice the 2D array to get the first two rows, slice the 2D array to get the last two rows."
   ]
  },
  {
   "cell_type": "code",
   "execution_count": 16,
   "metadata": {},
   "outputs": [
    {
     "name": "stdout",
     "output_type": "stream",
     "text": [
      "[[10 20 45]\n",
      " [30 12 16]]\n",
      "[[10 20 45]\n",
      " [30 12 16]]\n"
     ]
    }
   ],
   "source": [
    "# Creating a 2-D array\n",
    "array = np.array([[10,20,45],[30,12,16],[42,17,56]])\n",
    "\n",
    "#Slicing first two rows:\n",
    "slf2r = array[0:2]\n",
    "print(slf2r)\n",
    "\n",
    "#Slicing last two rows:\n",
    "sll2r = array[0:-1]\n",
    "print(sll2r)"
   ]
  },
  {
   "attachments": {},
   "cell_type": "markdown",
   "metadata": {},
   "source": [
    "Q5. Create two 2x2 arrays and demonstrate how you can stack the elements vertically, horizontally, and split the arrays into smaller arrays."
   ]
  },
  {
   "cell_type": "code",
   "execution_count": 24,
   "metadata": {},
   "outputs": [
    {
     "name": "stdout",
     "output_type": "stream",
     "text": [
      "[[2 4]\n",
      " [6 8]\n",
      " [3 5]\n",
      " [7 9]]\n",
      "[[2 4 3 5]\n",
      " [6 8 7 9]]\n",
      "[array([[2, 4],\n",
      "       [6, 8]]), array([[3, 5],\n",
      "       [7, 9]])]\n",
      "[array([[2, 4, 3, 5]]), array([[6, 8, 7, 9]])]\n"
     ]
    }
   ],
   "source": [
    "array_1 = np.array([[2,4],[6,8]])\n",
    "array_2 = np.array([[3,5],[7,9]])\n",
    "\n",
    "#Stacking Vertically\n",
    "stackverti = np.vstack([array_1,array_2])\n",
    "print(stackverti)\n",
    "\n",
    "#Stacking Horizontally\n",
    "stackhori = np.hstack([array_1,array_2])\n",
    "print(stackhori)\n",
    "\n",
    "#spliting vertically\n",
    "splverti = np.array_split(stackverti,2)\n",
    "print(splverti)\n",
    "\n",
    "#splitting horizontally\n",
    "splhori = np.array_split(stackhori,2)\n",
    "print(splhori)\n"
   ]
  },
  {
   "attachments": {},
   "cell_type": "markdown",
   "metadata": {},
   "source": [
    "Q6. Create two matrices X= ([[5, 7, 2], [4, 5, 6], [7, 4 ,2]]) Y= ([[4, 2], [6, 2], [4, 2]]), Is it possible to multiply these matrices?\n",
    "Demonstrate the case when it is not possible to."
   ]
  },
  {
   "cell_type": "code",
   "execution_count": 25,
   "metadata": {},
   "outputs": [
    {
     "name": "stdout",
     "output_type": "stream",
     "text": [
      "[[70 28]\n",
      " [70 30]\n",
      " [60 26]]\n"
     ]
    }
   ],
   "source": [
    "#creating 2 Matrices\n",
    "X = np.array([[5, 7, 2], [4, 5, 6], [7, 4 ,2]])\n",
    "Y = np.array([[4, 2], [6, 2], [4, 2]])\n",
    "\n",
    "#Multiplying both the Matrices\n",
    "M = X @ Y\n",
    "print(M)"
   ]
  },
  {
   "attachments": {},
   "cell_type": "markdown",
   "metadata": {},
   "source": [
    "###### Here Martics X has dimensions (3X3), where as Matrics Y has dimesions (3X2). SSince both the matrices has different dimensions, multiplication of matrices would not be possible."
   ]
  },
  {
   "attachments": {},
   "cell_type": "markdown",
   "metadata": {},
   "source": [
    "Q7. Create two arrays, x = ([2, -1, -8]) y = ([3, 1, -2]), Find the Shape, Number of dimensions of vector x.\n",
    "Reshape the vector x to a matrix of size (3,1) and determine the number of dimensions after reshaping y to a matrix of (3,1)."
   ]
  },
  {
   "cell_type": "code",
   "execution_count": 27,
   "metadata": {},
   "outputs": [
    {
     "name": "stdout",
     "output_type": "stream",
     "text": [
      "shape of X is (3,)\n",
      "shape of Y is (3,)\n",
      "Number of Dimensions of X are 1\n",
      "Number of Dimensions of Y are 1\n",
      "reshaping X as [[ 2]\n",
      " [-1]\n",
      " [-8]]\n",
      "reshaping Y to (3,1) matrix and it dimensions are 2\n"
     ]
    }
   ],
   "source": [
    "X = np.array([2, -1, -8])\n",
    "Y = np.array([3, 1, -2])\n",
    "\n",
    "#Finding the shape of X and Y\n",
    "print('shape of X is', X.shape)\n",
    "print('shape of Y is', Y.shape)\n",
    "\n",
    "#Determining the number of Dimensions\n",
    "print('Number of Dimensions of X are', X.ndim)\n",
    "print('Number of Dimensions of Y are', Y.ndim)\n",
    "\n",
    "#Reshaping X\n",
    "print('reshaping X as', X.reshape(3,1))\n",
    "\n",
    "#Reshaping Y to a matrix of (3,1)\n",
    "print('reshaping Y to (3,1) matrix and it dimensions are', Y.reshape((3,1)).ndim)\n",
    "\n"
   ]
  },
  {
   "attachments": {},
   "cell_type": "markdown",
   "metadata": {},
   "source": [
    "Q8. How does broadcasting work? Demonstrate the subtraction, multiplication by considering a 3 x 3 matrix."
   ]
  },
  {
   "attachments": {},
   "cell_type": "markdown",
   "metadata": {},
   "source": [
    "Broadcasting helps arrays of various shapes and combine them together and it also adjust to the shape while managing operations."
   ]
  },
  {
   "cell_type": "code",
   "execution_count": 32,
   "metadata": {},
   "outputs": [
    {
     "name": "stdout",
     "output_type": "stream",
     "text": [
      "Subtraction of matrices are\n",
      "[[1 1 1]\n",
      " [1 1 1]\n",
      " [1 1 1]]\n",
      "Multiplication of matrices are\n",
      "[[ 2 12 30]\n",
      " [ 6 20 42]\n",
      " [56 72 90]]\n"
     ]
    }
   ],
   "source": [
    "X = np.array([[2,4,6],\n",
    "              [3,5,7],\n",
    "              [8,9,10]])\n",
    "Y = np.array([[1,3,5],\n",
    "              [2,4,6],\n",
    "              [7,8,9]])\n",
    "\n",
    "#Subtraction of both the arrays of 3x3 matrix\n",
    "Sub = X - Y\n",
    "print('Subtraction of matrices are')\n",
    "print(Sub)\n",
    "\n",
    "#Multiplication of both the arrays of 3x3 matric\n",
    "Multi = X * Y\n",
    "print('Multiplication of matrices are')\n",
    "print(Multi)\n"
   ]
  },
  {
   "attachments": {},
   "cell_type": "markdown",
   "metadata": {},
   "source": [
    "Q9. Add Markdown text, with a headline, that provides a very brief overview of the graphs (e.g., one sentence for each).\n",
    "Feel free to add additional Markdown elements (description/additional comments)."
   ]
  },
  {
   "attachments": {},
   "cell_type": "markdown",
   "metadata": {},
   "source": [
    "### Scatterplot Graph\n",
    "##### A Scatterplot graph represents the relationship between two different features. The graph provides information in dots(points).\n",
    " \n",
    "### Histogram Plot\n",
    "##### A Histogram plot is mostly used in order to generate a graph for vairous variables or features. One of the example of such a plot is frequency distribution.\n",
    "\n",
    "### Line Graph\n",
    "##### A line graph represents a line on a graph on the basis of the points given to the graph. It plots the graph using straigh lines.\n",
    "\n",
    "### Piechart Graph\n",
    "##### A pie graph is a circular graph which can show the data of various features in form of slices. "
   ]
  },
  {
   "attachments": {},
   "cell_type": "markdown",
   "metadata": {},
   "source": [
    "# Part B\n"
   ]
  },
  {
   "attachments": {},
   "cell_type": "markdown",
   "metadata": {},
   "source": [
    "Q1. Solve the following two system of linear equations using matrices (find the values of x1 and x2) and\n",
    "determine the number of solutions using the functions. \n",
    "1. 2x1+3x2-4x3=6, x1-4x2=8\n",
    "2. 3y1-4y2+5y3=10, -y1+2y2-4y3=8"
   ]
  },
  {
   "attachments": {},
   "cell_type": "markdown",
   "metadata": {},
   "source": [
    "1. For 2x1+3x2-4x3=6, x1-4x2=8"
   ]
  },
  {
   "attachments": {},
   "cell_type": "markdown",
   "metadata": {},
   "source": [
    "##### Here the co-efficients of the above equations for x are x1, x2 and x3 and the co-effiecients of Y are y1 and y2. Inshort, The above equation represents [x1,x2,x3] and [y1,y2]. As mentioned earlier, in order to find a solution, we need atleast 3 variable of y in this condition. We have dimesnions [3x2] which is not possible to get a result. To determine a function is is mandatory to have equall shape such as [2x2] or [3x3].\n"
   ]
  },
  {
   "attachments": {},
   "cell_type": "markdown",
   "metadata": {},
   "source": [
    "If we place any random values of x1, x2 and x3 into the equation (say 2,3,4) respectively, we get:"
   ]
  },
  {
   "attachments": {},
   "cell_type": "markdown",
   "metadata": {},
   "source": [
    "2(2) + 3(3) -4(4) = 6"
   ]
  },
  {
   "attachments": {},
   "cell_type": "markdown",
   "metadata": {},
   "source": [
    "4 + 9 - 16 = 6"
   ]
  },
  {
   "attachments": {},
   "cell_type": "markdown",
   "metadata": {},
   "source": [
    "-3 = 6"
   ]
  },
  {
   "attachments": {},
   "cell_type": "markdown",
   "metadata": {},
   "source": [
    "WHICH DOESNOT SATISFY THE EQUATION. Hence by taking any numbers it would not be possible to solve this equation"
   ]
  },
  {
   "cell_type": "code",
   "execution_count": 39,
   "metadata": {},
   "outputs": [
    {
     "name": "stdout",
     "output_type": "stream",
     "text": [
      "The solution for the equation is [ 4.36363636 -0.90909091]\n"
     ]
    }
   ],
   "source": [
    "#From both the equations, we can determine x1,x2 and x3 as (2,3,-4) and (1,-4,0)\n",
    "A = np.array([[2,3,],[1,-4,]])\n",
    "#From the above equation, we can say that the vector is (6,8)\n",
    "B = np.array([6,8])\n",
    "\n",
    "print('The solution for the equation is', np.linalg.solve(A, B))"
   ]
  },
  {
   "attachments": {},
   "cell_type": "markdown",
   "metadata": {},
   "source": [
    "We were able to solve A and B if I neglect any one co-efficient from x coordinate. Since the dimensions are now [2x2] we were able to solve the equation."
   ]
  },
  {
   "attachments": {},
   "cell_type": "markdown",
   "metadata": {},
   "source": [
    "2. 3y1-4y2+5y3=10, -y1+2y2-4y3=8"
   ]
  },
  {
   "attachments": {},
   "cell_type": "markdown",
   "metadata": {},
   "source": [
    "As mentioned in the case above,we need same dimensions of matrix. If we add a third equation we would be able to solve this equation."
   ]
  },
  {
   "attachments": {},
   "cell_type": "markdown",
   "metadata": {},
   "source": [
    "Taking one more equation into consideration.\n"
   ]
  },
  {
   "attachments": {},
   "cell_type": "markdown",
   "metadata": {},
   "source": [
    "3y1-2y2 = 12"
   ]
  },
  {
   "cell_type": "code",
   "execution_count": 40,
   "metadata": {},
   "outputs": [
    {
     "name": "stdout",
     "output_type": "stream",
     "text": [
      "The solution of the equation is [7.09090909 4.63636364 1.45454545]\n"
     ]
    }
   ],
   "source": [
    "A = np.array([[3, -4, 5], [-1, 2, 4],[3, -2, 0]])\n",
    "B = np.array([10,8, 12])\n",
    "print('The solution of the equation is',np.linalg.solve(A,B))"
   ]
  }
 ],
 "metadata": {
  "kernelspec": {
   "display_name": "Python 3",
   "language": "python",
   "name": "python3"
  },
  "language_info": {
   "codemirror_mode": {
    "name": "ipython",
    "version": 3
   },
   "file_extension": ".py",
   "mimetype": "text/x-python",
   "name": "python",
   "nbconvert_exporter": "python",
   "pygments_lexer": "ipython3",
   "version": "3.11.3"
  },
  "orig_nbformat": 4
 },
 "nbformat": 4,
 "nbformat_minor": 2
}
