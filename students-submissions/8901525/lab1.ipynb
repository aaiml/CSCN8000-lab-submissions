{
 "cells": [
  {
   "attachments": {},
   "cell_type": "markdown",
   "metadata": {},
   "source": [
    "# part 1\n",
    "## 1. Create a note book to demonstrate the numpy operations"
   ]
  },
  {
   "cell_type": "code",
   "execution_count": 6,
   "metadata": {},
   "outputs": [
    {
     "name": "stdout",
     "output_type": "stream",
     "text": [
      "Addition of 2 arrays [ 2  4  6  8 10 12 14 16 18 20]\n",
      "Sub of 2 arrays [0 0 0 0 0 0 0 0 0 0]\n",
      "multiplication of 2 arrays [  1   4   9  16  25  36  49  64  81 100]\n",
      "Division of 2 arrays [1. 1. 1. 1. 1. 1. 1. 1. 1. 1.]\n",
      "Power of 2 of array A [  1   4   9  16  25  36  49  64  81 100]\n",
      "Power of 3 of array B [   1    8   27   64  125  216  343  512  729 1000]\n"
     ]
    }
   ],
   "source": [
    "import numpy as np\n",
    "import matplotlib.pyplot as plt \n",
    "from scipy import linalg\n",
    "\n",
    "#create a numpy operations\n",
    "a = np.array([1,2,3,4,5,6,7,8,9,10])\n",
    "b = np.array([1,2,3,4,5,6,7,8,9,10])\n",
    "\n",
    "#addition\n",
    "c = a + b\n",
    "print(\"Addition of 2 arrays\",c)\n",
    "\n",
    "#subtraction\n",
    "d = a - b\n",
    "print(\"Sub of 2 arrays\",d)\n",
    "\n",
    "#multiplication\n",
    "e = a * b\n",
    "print(\"multiplication of 2 arrays\",e)\n",
    "\n",
    "#division\n",
    "f = a / b\n",
    "print(\"Division of 2 arrays\",f)\n",
    "\n",
    "\n",
    "#power  of 2    \n",
    "g = a ** 2\n",
    "print(\"Power of 2 of array A\",g)\n",
    "\n",
    "#power of 3\n",
    "h = a ** 3\n",
    "print(\"Power of 3 of array B\",h)   "
   ]
  },
  {
   "attachments": {},
   "cell_type": "markdown",
   "metadata": {},
   "source": [
    "## 2.Create an array that starts from the integer 1, ends at 20, incremented by 3."
   ]
  },
  {
   "cell_type": "code",
   "execution_count": 7,
   "metadata": {},
   "outputs": [
    {
     "name": "stdout",
     "output_type": "stream",
     "text": [
      "Array Increment by 3 numbers  [ 1  4  7 10 13 16 19]\n"
     ]
    }
   ],
   "source": [
    "Arr=np.arange(1,20,3)\n",
    "print(\"Array Increment by 3 numbers \",Arr)"
   ]
  },
  {
   "cell_type": "code",
   "execution_count": 8,
   "metadata": {},
   "outputs": [
    {
     "name": "stdout",
     "output_type": "stream",
     "text": [
      "Created array with size of 3 [0.83054459 0.66400538 0.88648282]\n"
     ]
    }
   ],
   "source": [
    "# 3 .Create a new array of shape 3 with random numbers between 0 and 1.\n",
    "Arr1=np.random.rand(3)\n",
    "print(\"Created array with size of 3\",Arr1)\n"
   ]
  },
  {
   "attachments": {},
   "cell_type": "markdown",
   "metadata": {},
   "source": [
    "## 4.Create a 2 D array [[10,20,45], [30,12,16], [42,17,56]] and perform the following operations:"
   ]
  },
  {
   "cell_type": "code",
   "execution_count": 9,
   "metadata": {},
   "outputs": [
    {
     "name": "stdout",
     "output_type": "stream",
     "text": [
      "Printing first two rows [[10 20 30]\n",
      " [30 12 16]]\n",
      "Printing last two rows [[30 12 16]\n",
      " [42 17 56]]\n"
     ]
    }
   ],
   "source": [
    "arr2=np.array([[10,20,30],[30,12,16],[42,17,56]])\n",
    "#print first two rows\n",
    "\n",
    "print(\"Printing first two rows\",arr2[:2])\n",
    "# printi last two rows\n",
    "print(\"Printing last two rows\",arr2[1:])\n"
   ]
  },
  {
   "cell_type": "code",
   "execution_count": 10,
   "metadata": {},
   "outputs": [
    {
     "name": "stdout",
     "output_type": "stream",
     "text": [
      "Vertical stacking:\n",
      " [[10 20]\n",
      " [30 40]\n",
      " [50 60]\n",
      " [70 80]]\n",
      "Horizontal stacking:\n",
      " [[10 20 50 60]\n",
      " [30 40 70 80]]\n",
      "Splitting the arrays into smaller arrays:\n",
      " [array([[10],\n",
      "       [30]]), array([[20],\n",
      "       [40]])]\n",
      "Splitting the arrays into smaller arrays:\n",
      " [array([[10, 20]]), array([[30, 40]])]\n"
     ]
    }
   ],
   "source": [
    "#Create two 2x2 arrays and demonstrate how you can stack the elements vertically, horizontally, and split the arrays into smaller arrays.\n",
    "arr3=np.array([[10,20],[30,40]])\n",
    "arr4=np.array([[50,60],[70,80]])\n",
    "print(\"Vertical stacking:\\n\",np.vstack((arr3,arr4)))\n",
    "print(\"Horizontal stacking:\\n\",np.hstack((arr3,arr4)))\n",
    "print(\"Splitting the arrays into smaller arrays:\\n\",np.hsplit(arr3,2))  \n",
    "print(\"Splitting the arrays into smaller arrays:\\n\",np.vsplit(arr3,2))\n",
    "\n"
   ]
  },
  {
   "cell_type": "code",
   "execution_count": 11,
   "metadata": {},
   "outputs": [
    {
     "name": "stdout",
     "output_type": "stream",
     "text": [
      "Multiplication of two matrices:\n",
      " [[70 28]\n",
      " [70 30]\n",
      " [60 26]]\n"
     ]
    }
   ],
   "source": [
    "# Create two matrices X= ([[5, 7, 2], [4, 5, 6], [7, 4 ,2]]) Y= ([[4, 2], [6, 2], [4, 2]]), Is it possible to multiply these matrices?\n",
    "X=np.array([[5,7,2],[4,5,6],[7,4,2]])\n",
    "Y=np.array([[4,2],[6,2],[4,2]])\n",
    "print(\"Multiplication of two matrices:\\n\",np.dot(X,Y))\n"
   ]
  },
  {
   "cell_type": "code",
   "execution_count": 12,
   "metadata": {},
   "outputs": [
    {
     "name": "stdout",
     "output_type": "stream",
     "text": [
      "Shape of x: (3,)\n",
      "Number of dimensions of vector x: 1\n",
      "Reshaped array: [[ 2]\n",
      " [-1]\n",
      " [-8]]\n",
      "Reshaped array: 2\n"
     ]
    }
   ],
   "source": [
    "# Create two arrays, x = ([2, -1, -8]) y = ([3, 1, -2]), Find the Shape, Number of dimensions of vector x.\n",
    "x=np.array([2,-1,-8])   \n",
    "y=np.array([3,1,-2])\n",
    "print(\"Shape of x:\",x.shape)\n",
    "print(\"Number of dimensions of vector x:\",x.ndim)\n",
    "\n",
    "res=x.reshape(3,1)\n",
    "print(\"Reshaped array:\",res)\n",
    "res1=y.reshape(3,1)\n",
    "print(\"Reshaped array:\",res1.ndim)\n"
   ]
  },
  {
   "cell_type": "code",
   "execution_count": 13,
   "metadata": {},
   "outputs": [
    {
     "name": "stdout",
     "output_type": "stream",
     "text": [
      "Subtraction of two matrices:\n",
      " [[0 0 0]\n",
      " [3 3 3]\n",
      " [6 6 6]]\n",
      "Multiplication of two matrices:\n",
      " [[ 1  4  9]\n",
      " [ 4 10 18]\n",
      " [ 7 16 27]]\n"
     ]
    }
   ],
   "source": [
    "# How does broadcasting work? Demonstrate the subtraction, multiplication by considering a 3 x 3 matrix.\n",
    "#Broadcasting is a mechanism that allows NumPy to perform operations on arrays of different shapes.\n",
    "# Create a 3x3 matrix   \n",
    "x = np.array([[1,2,3],[4,5,6],[7,8,9]])\n",
    "# Create a 1x3 matrix\n",
    "y = np.array([1,2,3])\n",
    "# Subtract x and y\n",
    "print(\"Subtraction of two matrices:\\n\",x-y)\n",
    "# Multiply x and y\n",
    "print(\"Multiplication of two matrices:\\n\",x*y)\n",
    "\n",
    "\n"
   ]
  },
  {
   "attachments": {},
   "cell_type": "markdown",
   "metadata": {},
   "source": [
    "# part 2\n",
    "\n",
    "## linear equation for find x1 and x2\n"
   ]
  },
  {
   "cell_type": "code",
   "execution_count": 14,
   "metadata": {},
   "outputs": [
    {
     "ename": "LinAlgError",
     "evalue": "Last 2 dimensions of the array must be square",
     "output_type": "error",
     "traceback": [
      "\u001b[1;31m---------------------------------------------------------------------------\u001b[0m",
      "\u001b[1;31mLinAlgError\u001b[0m                               Traceback (most recent call last)",
      "Cell \u001b[1;32mIn[14], line 4\u001b[0m\n\u001b[0;32m      2\u001b[0m a\u001b[39m=\u001b[39m np\u001b[39m.\u001b[39marray([[\u001b[39m2\u001b[39m,\u001b[39m3\u001b[39m,\u001b[39m-\u001b[39m\u001b[39m4\u001b[39m],[\u001b[39m1\u001b[39m,\u001b[39m-\u001b[39m\u001b[39m4\u001b[39m,\u001b[39m0\u001b[39m]])\n\u001b[0;32m      3\u001b[0m b\u001b[39m=\u001b[39mnp\u001b[39m.\u001b[39marray([\u001b[39m6\u001b[39m,\u001b[39m8.0\u001b[39m])\n\u001b[1;32m----> 4\u001b[0m x\u001b[39m=\u001b[39mnp\u001b[39m.\u001b[39;49mlinalg\u001b[39m.\u001b[39;49msolve(a,b)\n",
      "File \u001b[1;32m<__array_function__ internals>:200\u001b[0m, in \u001b[0;36msolve\u001b[1;34m(*args, **kwargs)\u001b[0m\n",
      "File \u001b[1;32me:\\CANADA\\STUDY\\lab\\m8010\\CSCN8010\\venv\\CSCN8010_classic_ml\\Lib\\site-packages\\numpy\\linalg\\linalg.py:373\u001b[0m, in \u001b[0;36msolve\u001b[1;34m(a, b)\u001b[0m\n\u001b[0;32m    371\u001b[0m a, _ \u001b[39m=\u001b[39m _makearray(a)\n\u001b[0;32m    372\u001b[0m _assert_stacked_2d(a)\n\u001b[1;32m--> 373\u001b[0m _assert_stacked_square(a)\n\u001b[0;32m    374\u001b[0m b, wrap \u001b[39m=\u001b[39m _makearray(b)\n\u001b[0;32m    375\u001b[0m t, result_t \u001b[39m=\u001b[39m _commonType(a, b)\n",
      "File \u001b[1;32me:\\CANADA\\STUDY\\lab\\m8010\\CSCN8010\\venv\\CSCN8010_classic_ml\\Lib\\site-packages\\numpy\\linalg\\linalg.py:190\u001b[0m, in \u001b[0;36m_assert_stacked_square\u001b[1;34m(*arrays)\u001b[0m\n\u001b[0;32m    188\u001b[0m m, n \u001b[39m=\u001b[39m a\u001b[39m.\u001b[39mshape[\u001b[39m-\u001b[39m\u001b[39m2\u001b[39m:]\n\u001b[0;32m    189\u001b[0m \u001b[39mif\u001b[39;00m m \u001b[39m!=\u001b[39m n:\n\u001b[1;32m--> 190\u001b[0m     \u001b[39mraise\u001b[39;00m LinAlgError(\u001b[39m'\u001b[39m\u001b[39mLast 2 dimensions of the array must be square\u001b[39m\u001b[39m'\u001b[39m)\n",
      "\u001b[1;31mLinAlgError\u001b[0m: Last 2 dimensions of the array must be square"
     ]
    }
   ],
   "source": [
    "import numpy as np\n",
    "a= np.array([[2,3,-4],[1,-4,0]])\n",
    "b=np.array([6,8.0])\n",
    "x=np.linalg.solve(a,b)\n",
    "x"
   ]
  },
  {
   "cell_type": "code",
   "execution_count": 20,
   "metadata": {},
   "outputs": [
    {
     "ename": "LinAlgError",
     "evalue": "Last 2 dimensions of the array must be square",
     "output_type": "error",
     "traceback": [
      "\u001b[1;31m---------------------------------------------------------------------------\u001b[0m",
      "\u001b[1;31mLinAlgError\u001b[0m                               Traceback (most recent call last)",
      "Cell \u001b[1;32mIn[20], line 3\u001b[0m\n\u001b[0;32m      1\u001b[0m y1\u001b[39m=\u001b[39mnp\u001b[39m.\u001b[39marray([[\u001b[39m3\u001b[39m,\u001b[39m-\u001b[39m\u001b[39m4\u001b[39m,\u001b[39m5\u001b[39m],[\u001b[39m-\u001b[39m\u001b[39m1\u001b[39m,\u001b[39m2\u001b[39m,\u001b[39m-\u001b[39m\u001b[39m4\u001b[39m]])\n\u001b[0;32m      2\u001b[0m y2\u001b[39m=\u001b[39mnp\u001b[39m.\u001b[39marray([\u001b[39m10\u001b[39m,\u001b[39m8\u001b[39m])\n\u001b[1;32m----> 3\u001b[0m \u001b[39mif\u001b[39;00m np\u001b[39m.\u001b[39;49mlinalg\u001b[39m.\u001b[39;49mdet(y1)\u001b[39m==\u001b[39m\u001b[39m0\u001b[39m:\n\u001b[0;32m      4\u001b[0m     x\u001b[39m=\u001b[39mnp\u001b[39m.\u001b[39mlinalg\u001b[39m.\u001b[39msolve(y1,y2)\n\u001b[0;32m      5\u001b[0m \u001b[39melse\u001b[39;00m:\n",
      "File \u001b[1;32m<__array_function__ internals>:200\u001b[0m, in \u001b[0;36mdet\u001b[1;34m(*args, **kwargs)\u001b[0m\n",
      "File \u001b[1;32me:\\CANADA\\STUDY\\lab\\m8010\\CSCN8010\\venv\\CSCN8010_classic_ml\\Lib\\site-packages\\numpy\\linalg\\linalg.py:2136\u001b[0m, in \u001b[0;36mdet\u001b[1;34m(a)\u001b[0m\n\u001b[0;32m   2134\u001b[0m a \u001b[39m=\u001b[39m asarray(a)\n\u001b[0;32m   2135\u001b[0m _assert_stacked_2d(a)\n\u001b[1;32m-> 2136\u001b[0m _assert_stacked_square(a)\n\u001b[0;32m   2137\u001b[0m t, result_t \u001b[39m=\u001b[39m _commonType(a)\n\u001b[0;32m   2138\u001b[0m signature \u001b[39m=\u001b[39m \u001b[39m'\u001b[39m\u001b[39mD->D\u001b[39m\u001b[39m'\u001b[39m \u001b[39mif\u001b[39;00m isComplexType(t) \u001b[39melse\u001b[39;00m \u001b[39m'\u001b[39m\u001b[39md->d\u001b[39m\u001b[39m'\u001b[39m\n",
      "File \u001b[1;32me:\\CANADA\\STUDY\\lab\\m8010\\CSCN8010\\venv\\CSCN8010_classic_ml\\Lib\\site-packages\\numpy\\linalg\\linalg.py:190\u001b[0m, in \u001b[0;36m_assert_stacked_square\u001b[1;34m(*arrays)\u001b[0m\n\u001b[0;32m    188\u001b[0m m, n \u001b[39m=\u001b[39m a\u001b[39m.\u001b[39mshape[\u001b[39m-\u001b[39m\u001b[39m2\u001b[39m:]\n\u001b[0;32m    189\u001b[0m \u001b[39mif\u001b[39;00m m \u001b[39m!=\u001b[39m n:\n\u001b[1;32m--> 190\u001b[0m     \u001b[39mraise\u001b[39;00m LinAlgError(\u001b[39m'\u001b[39m\u001b[39mLast 2 dimensions of the array must be square\u001b[39m\u001b[39m'\u001b[39m)\n",
      "\u001b[1;31mLinAlgError\u001b[0m: Last 2 dimensions of the array must be square"
     ]
    }
   ],
   "source": [
    "y1=np.array([[3,-4,5],[-1,2,-4]])\n",
    "y2=np.array([10,8])\n",
    "x=np.linalg.solve(y1,y2)\n",
    "x\n",
    "   \n"
   ]
  },
  {
   "attachments": {},
   "cell_type": "markdown",
   "metadata": {},
   "source": [
    "##  to performing the this linear algerba equation we need a n*n array and here we have [2,3] array so unfortunately we would not get the actual result for both the given equations."
   ]
  }
 ],
 "metadata": {
  "kernelspec": {
   "display_name": "CSCN8010_classic_ml",
   "language": "python",
   "name": "cscn8010_classic_ml"
  },
  "language_info": {
   "codemirror_mode": {
    "name": "ipython",
    "version": 3
   },
   "file_extension": ".py",
   "mimetype": "text/x-python",
   "name": "python",
   "nbconvert_exporter": "python",
   "pygments_lexer": "ipython3",
   "version": "3.11.1"
  },
  "orig_nbformat": 4
 },
 "nbformat": 4,
 "nbformat_minor": 2
}
