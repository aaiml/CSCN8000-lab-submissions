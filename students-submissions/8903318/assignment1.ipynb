{
 "cells": [
  {
   "attachments": {},
   "cell_type": "markdown",
   "metadata": {},
   "source": [
    "## Assignment-1\n",
    "### Name: Harshitha Anishetty\n",
    "### StudenID: 8903318"
   ]
  },
  {
   "attachments": {},
   "cell_type": "markdown",
   "metadata": {},
   "source": [
    "Given the symptoms exhibited in a patient and a database of anonymized patient records, predict whether the patient is likely to have an illness (Parkinson’s disease).\n",
    "A model of this decision problem could be used by a program to provide decision support to medical professionals.\n",
    "  \t\n",
    "   You can follow the following steps :\n",
    "  \t\n",
    "   •\tData Analysis\n",
    "  \t\n",
    "   •\tData Preprocessing\n",
    "  \t\n",
    "   •\tData Standardization\n",
    "  \t\n",
    "   •\tModel Training\n",
    "  \t\n",
    "   •\tMeasure your model’s accuracy.\n",
    "  \t   \n",
    "      Use 80% of samples as training data size.\n",
    "\n",
    "   •\tBuild a predictive system to verify that the model built is able to predict the patient’s Parkinson’s disease with one instance of the dataset.\n",
    "  \t\n",
    "You can download the Dataset from: https://archive.ics.uci.edu/dataset/470/parkinson+s+disease+classification  \n"
   ]
  },
  {
   "cell_type": "markdown",
   "metadata": {},
   "source": [
    "#### Step 1: Data Analysis and Understanding"
   ]
  },
  {
   "cell_type": "markdown",
   "metadata": {},
   "source": [
    "#### Import the libraries"
   ]
  },
  {
   "cell_type": "code",
   "execution_count": 271,
   "metadata": {},
   "outputs": [],
   "source": [
    "import pandas as pd\n",
    "import numpy as np\n",
    "from sklearn.model_selection import train_test_split\n",
    "from sklearn.preprocessing import StandardScaler\n",
    "from sklearn.linear_model import LogisticRegression\n",
    "from sklearn.metrics import accuracy_score, classification_report, confusion_matrix\n",
    "import matplotlib.pyplot as plt\n",
    "import seaborn as sns"
   ]
  },
  {
   "cell_type": "markdown",
   "metadata": {},
   "source": [
    "#### Load the Dataset"
   ]
  },
  {
   "cell_type": "code",
   "execution_count": 272,
   "metadata": {},
   "outputs": [
    {
     "data": {
      "text/html": [
       "<div>\n",
       "<style scoped>\n",
       "    .dataframe tbody tr th:only-of-type {\n",
       "        vertical-align: middle;\n",
       "    }\n",
       "\n",
       "    .dataframe tbody tr th {\n",
       "        vertical-align: top;\n",
       "    }\n",
       "\n",
       "    .dataframe thead th {\n",
       "        text-align: right;\n",
       "    }\n",
       "</style>\n",
       "<table border=\"1\" class=\"dataframe\">\n",
       "  <thead>\n",
       "    <tr style=\"text-align: right;\">\n",
       "      <th></th>\n",
       "      <th>id</th>\n",
       "      <th>gender</th>\n",
       "      <th>PPE</th>\n",
       "      <th>DFA</th>\n",
       "      <th>RPDE</th>\n",
       "      <th>numPulses</th>\n",
       "      <th>numPeriodsPulses</th>\n",
       "      <th>meanPeriodPulses</th>\n",
       "      <th>stdDevPeriodPulses</th>\n",
       "      <th>locPctJitter</th>\n",
       "      <th>...</th>\n",
       "      <th>tqwt_kurtosisValue_dec_28</th>\n",
       "      <th>tqwt_kurtosisValue_dec_29</th>\n",
       "      <th>tqwt_kurtosisValue_dec_30</th>\n",
       "      <th>tqwt_kurtosisValue_dec_31</th>\n",
       "      <th>tqwt_kurtosisValue_dec_32</th>\n",
       "      <th>tqwt_kurtosisValue_dec_33</th>\n",
       "      <th>tqwt_kurtosisValue_dec_34</th>\n",
       "      <th>tqwt_kurtosisValue_dec_35</th>\n",
       "      <th>tqwt_kurtosisValue_dec_36</th>\n",
       "      <th>class</th>\n",
       "    </tr>\n",
       "  </thead>\n",
       "  <tbody>\n",
       "    <tr>\n",
       "      <th>0</th>\n",
       "      <td>0</td>\n",
       "      <td>1</td>\n",
       "      <td>0.85247</td>\n",
       "      <td>0.71826</td>\n",
       "      <td>0.57227</td>\n",
       "      <td>240</td>\n",
       "      <td>239</td>\n",
       "      <td>0.008064</td>\n",
       "      <td>0.000087</td>\n",
       "      <td>0.00218</td>\n",
       "      <td>...</td>\n",
       "      <td>1.5620</td>\n",
       "      <td>2.6445</td>\n",
       "      <td>3.8686</td>\n",
       "      <td>4.2105</td>\n",
       "      <td>5.1221</td>\n",
       "      <td>4.4625</td>\n",
       "      <td>2.6202</td>\n",
       "      <td>3.0004</td>\n",
       "      <td>18.9405</td>\n",
       "      <td>1</td>\n",
       "    </tr>\n",
       "    <tr>\n",
       "      <th>1</th>\n",
       "      <td>0</td>\n",
       "      <td>1</td>\n",
       "      <td>0.76686</td>\n",
       "      <td>0.69481</td>\n",
       "      <td>0.53966</td>\n",
       "      <td>234</td>\n",
       "      <td>233</td>\n",
       "      <td>0.008258</td>\n",
       "      <td>0.000073</td>\n",
       "      <td>0.00195</td>\n",
       "      <td>...</td>\n",
       "      <td>1.5589</td>\n",
       "      <td>3.6107</td>\n",
       "      <td>23.5155</td>\n",
       "      <td>14.1962</td>\n",
       "      <td>11.0261</td>\n",
       "      <td>9.5082</td>\n",
       "      <td>6.5245</td>\n",
       "      <td>6.3431</td>\n",
       "      <td>45.1780</td>\n",
       "      <td>1</td>\n",
       "    </tr>\n",
       "    <tr>\n",
       "      <th>2</th>\n",
       "      <td>0</td>\n",
       "      <td>1</td>\n",
       "      <td>0.85083</td>\n",
       "      <td>0.67604</td>\n",
       "      <td>0.58982</td>\n",
       "      <td>232</td>\n",
       "      <td>231</td>\n",
       "      <td>0.008340</td>\n",
       "      <td>0.000060</td>\n",
       "      <td>0.00176</td>\n",
       "      <td>...</td>\n",
       "      <td>1.5643</td>\n",
       "      <td>2.3308</td>\n",
       "      <td>9.4959</td>\n",
       "      <td>10.7458</td>\n",
       "      <td>11.0177</td>\n",
       "      <td>4.8066</td>\n",
       "      <td>2.9199</td>\n",
       "      <td>3.1495</td>\n",
       "      <td>4.7666</td>\n",
       "      <td>1</td>\n",
       "    </tr>\n",
       "    <tr>\n",
       "      <th>3</th>\n",
       "      <td>1</td>\n",
       "      <td>0</td>\n",
       "      <td>0.41121</td>\n",
       "      <td>0.79672</td>\n",
       "      <td>0.59257</td>\n",
       "      <td>178</td>\n",
       "      <td>177</td>\n",
       "      <td>0.010858</td>\n",
       "      <td>0.000183</td>\n",
       "      <td>0.00419</td>\n",
       "      <td>...</td>\n",
       "      <td>3.7805</td>\n",
       "      <td>3.5664</td>\n",
       "      <td>5.2558</td>\n",
       "      <td>14.0403</td>\n",
       "      <td>4.2235</td>\n",
       "      <td>4.6857</td>\n",
       "      <td>4.8460</td>\n",
       "      <td>6.2650</td>\n",
       "      <td>4.0603</td>\n",
       "      <td>1</td>\n",
       "    </tr>\n",
       "    <tr>\n",
       "      <th>4</th>\n",
       "      <td>1</td>\n",
       "      <td>0</td>\n",
       "      <td>0.32790</td>\n",
       "      <td>0.79782</td>\n",
       "      <td>0.53028</td>\n",
       "      <td>236</td>\n",
       "      <td>235</td>\n",
       "      <td>0.008162</td>\n",
       "      <td>0.002669</td>\n",
       "      <td>0.00535</td>\n",
       "      <td>...</td>\n",
       "      <td>6.1727</td>\n",
       "      <td>5.8416</td>\n",
       "      <td>6.0805</td>\n",
       "      <td>5.7621</td>\n",
       "      <td>7.7817</td>\n",
       "      <td>11.6891</td>\n",
       "      <td>8.2103</td>\n",
       "      <td>5.0559</td>\n",
       "      <td>6.1164</td>\n",
       "      <td>1</td>\n",
       "    </tr>\n",
       "    <tr>\n",
       "      <th>5</th>\n",
       "      <td>1</td>\n",
       "      <td>0</td>\n",
       "      <td>0.50780</td>\n",
       "      <td>0.78744</td>\n",
       "      <td>0.65451</td>\n",
       "      <td>226</td>\n",
       "      <td>221</td>\n",
       "      <td>0.007631</td>\n",
       "      <td>0.002696</td>\n",
       "      <td>0.00783</td>\n",
       "      <td>...</td>\n",
       "      <td>4.8025</td>\n",
       "      <td>5.0734</td>\n",
       "      <td>7.0166</td>\n",
       "      <td>5.9966</td>\n",
       "      <td>5.2065</td>\n",
       "      <td>7.4246</td>\n",
       "      <td>3.4153</td>\n",
       "      <td>3.5046</td>\n",
       "      <td>3.2250</td>\n",
       "      <td>1</td>\n",
       "    </tr>\n",
       "    <tr>\n",
       "      <th>6</th>\n",
       "      <td>2</td>\n",
       "      <td>1</td>\n",
       "      <td>0.76095</td>\n",
       "      <td>0.62145</td>\n",
       "      <td>0.54543</td>\n",
       "      <td>322</td>\n",
       "      <td>321</td>\n",
       "      <td>0.005991</td>\n",
       "      <td>0.000107</td>\n",
       "      <td>0.00222</td>\n",
       "      <td>...</td>\n",
       "      <td>117.2678</td>\n",
       "      <td>75.3156</td>\n",
       "      <td>32.0478</td>\n",
       "      <td>7.7060</td>\n",
       "      <td>3.1060</td>\n",
       "      <td>4.6206</td>\n",
       "      <td>12.8353</td>\n",
       "      <td>13.8300</td>\n",
       "      <td>7.7693</td>\n",
       "      <td>1</td>\n",
       "    </tr>\n",
       "    <tr>\n",
       "      <th>7</th>\n",
       "      <td>2</td>\n",
       "      <td>1</td>\n",
       "      <td>0.83671</td>\n",
       "      <td>0.62079</td>\n",
       "      <td>0.51179</td>\n",
       "      <td>318</td>\n",
       "      <td>317</td>\n",
       "      <td>0.006074</td>\n",
       "      <td>0.000136</td>\n",
       "      <td>0.00282</td>\n",
       "      <td>...</td>\n",
       "      <td>3.8564</td>\n",
       "      <td>11.8909</td>\n",
       "      <td>7.2891</td>\n",
       "      <td>4.3682</td>\n",
       "      <td>3.6443</td>\n",
       "      <td>5.9610</td>\n",
       "      <td>11.7552</td>\n",
       "      <td>18.0927</td>\n",
       "      <td>5.0448</td>\n",
       "      <td>1</td>\n",
       "    </tr>\n",
       "    <tr>\n",
       "      <th>8</th>\n",
       "      <td>2</td>\n",
       "      <td>1</td>\n",
       "      <td>0.80826</td>\n",
       "      <td>0.61766</td>\n",
       "      <td>0.50447</td>\n",
       "      <td>318</td>\n",
       "      <td>317</td>\n",
       "      <td>0.006057</td>\n",
       "      <td>0.000069</td>\n",
       "      <td>0.00161</td>\n",
       "      <td>...</td>\n",
       "      <td>2.2640</td>\n",
       "      <td>6.3993</td>\n",
       "      <td>4.4165</td>\n",
       "      <td>4.2662</td>\n",
       "      <td>3.6357</td>\n",
       "      <td>3.7346</td>\n",
       "      <td>2.9394</td>\n",
       "      <td>3.6216</td>\n",
       "      <td>3.8430</td>\n",
       "      <td>1</td>\n",
       "    </tr>\n",
       "    <tr>\n",
       "      <th>9</th>\n",
       "      <td>3</td>\n",
       "      <td>0</td>\n",
       "      <td>0.85302</td>\n",
       "      <td>0.62247</td>\n",
       "      <td>0.54855</td>\n",
       "      <td>493</td>\n",
       "      <td>492</td>\n",
       "      <td>0.003910</td>\n",
       "      <td>0.000040</td>\n",
       "      <td>0.00075</td>\n",
       "      <td>...</td>\n",
       "      <td>1.6796</td>\n",
       "      <td>2.0474</td>\n",
       "      <td>2.8117</td>\n",
       "      <td>3.5070</td>\n",
       "      <td>3.2727</td>\n",
       "      <td>3.8415</td>\n",
       "      <td>3.9439</td>\n",
       "      <td>5.8807</td>\n",
       "      <td>38.7211</td>\n",
       "      <td>1</td>\n",
       "    </tr>\n",
       "  </tbody>\n",
       "</table>\n",
       "<p>10 rows × 755 columns</p>\n",
       "</div>"
      ],
      "text/plain": [
       "   id  gender      PPE      DFA     RPDE  numPulses  numPeriodsPulses   \n",
       "0   0       1  0.85247  0.71826  0.57227        240               239  \\\n",
       "1   0       1  0.76686  0.69481  0.53966        234               233   \n",
       "2   0       1  0.85083  0.67604  0.58982        232               231   \n",
       "3   1       0  0.41121  0.79672  0.59257        178               177   \n",
       "4   1       0  0.32790  0.79782  0.53028        236               235   \n",
       "5   1       0  0.50780  0.78744  0.65451        226               221   \n",
       "6   2       1  0.76095  0.62145  0.54543        322               321   \n",
       "7   2       1  0.83671  0.62079  0.51179        318               317   \n",
       "8   2       1  0.80826  0.61766  0.50447        318               317   \n",
       "9   3       0  0.85302  0.62247  0.54855        493               492   \n",
       "\n",
       "   meanPeriodPulses  stdDevPeriodPulses  locPctJitter  ...   \n",
       "0          0.008064            0.000087       0.00218  ...  \\\n",
       "1          0.008258            0.000073       0.00195  ...   \n",
       "2          0.008340            0.000060       0.00176  ...   \n",
       "3          0.010858            0.000183       0.00419  ...   \n",
       "4          0.008162            0.002669       0.00535  ...   \n",
       "5          0.007631            0.002696       0.00783  ...   \n",
       "6          0.005991            0.000107       0.00222  ...   \n",
       "7          0.006074            0.000136       0.00282  ...   \n",
       "8          0.006057            0.000069       0.00161  ...   \n",
       "9          0.003910            0.000040       0.00075  ...   \n",
       "\n",
       "   tqwt_kurtosisValue_dec_28  tqwt_kurtosisValue_dec_29   \n",
       "0                     1.5620                     2.6445  \\\n",
       "1                     1.5589                     3.6107   \n",
       "2                     1.5643                     2.3308   \n",
       "3                     3.7805                     3.5664   \n",
       "4                     6.1727                     5.8416   \n",
       "5                     4.8025                     5.0734   \n",
       "6                   117.2678                    75.3156   \n",
       "7                     3.8564                    11.8909   \n",
       "8                     2.2640                     6.3993   \n",
       "9                     1.6796                     2.0474   \n",
       "\n",
       "   tqwt_kurtosisValue_dec_30  tqwt_kurtosisValue_dec_31   \n",
       "0                     3.8686                     4.2105  \\\n",
       "1                    23.5155                    14.1962   \n",
       "2                     9.4959                    10.7458   \n",
       "3                     5.2558                    14.0403   \n",
       "4                     6.0805                     5.7621   \n",
       "5                     7.0166                     5.9966   \n",
       "6                    32.0478                     7.7060   \n",
       "7                     7.2891                     4.3682   \n",
       "8                     4.4165                     4.2662   \n",
       "9                     2.8117                     3.5070   \n",
       "\n",
       "   tqwt_kurtosisValue_dec_32  tqwt_kurtosisValue_dec_33   \n",
       "0                     5.1221                     4.4625  \\\n",
       "1                    11.0261                     9.5082   \n",
       "2                    11.0177                     4.8066   \n",
       "3                     4.2235                     4.6857   \n",
       "4                     7.7817                    11.6891   \n",
       "5                     5.2065                     7.4246   \n",
       "6                     3.1060                     4.6206   \n",
       "7                     3.6443                     5.9610   \n",
       "8                     3.6357                     3.7346   \n",
       "9                     3.2727                     3.8415   \n",
       "\n",
       "   tqwt_kurtosisValue_dec_34  tqwt_kurtosisValue_dec_35   \n",
       "0                     2.6202                     3.0004  \\\n",
       "1                     6.5245                     6.3431   \n",
       "2                     2.9199                     3.1495   \n",
       "3                     4.8460                     6.2650   \n",
       "4                     8.2103                     5.0559   \n",
       "5                     3.4153                     3.5046   \n",
       "6                    12.8353                    13.8300   \n",
       "7                    11.7552                    18.0927   \n",
       "8                     2.9394                     3.6216   \n",
       "9                     3.9439                     5.8807   \n",
       "\n",
       "   tqwt_kurtosisValue_dec_36  class  \n",
       "0                    18.9405      1  \n",
       "1                    45.1780      1  \n",
       "2                     4.7666      1  \n",
       "3                     4.0603      1  \n",
       "4                     6.1164      1  \n",
       "5                     3.2250      1  \n",
       "6                     7.7693      1  \n",
       "7                     5.0448      1  \n",
       "8                     3.8430      1  \n",
       "9                    38.7211      1  \n",
       "\n",
       "[10 rows x 755 columns]"
      ]
     },
     "execution_count": 272,
     "metadata": {},
     "output_type": "execute_result"
    }
   ],
   "source": [
    "data = pd.read_csv('../../practical_labs/pd_speech_features.csv', header=1)\n",
    "data.head(10)"
   ]
  },
  {
   "cell_type": "markdown",
   "metadata": {},
   "source": [
    "#### Explore the dataset"
   ]
  },
  {
   "cell_type": "code",
   "execution_count": 273,
   "metadata": {},
   "outputs": [
    {
     "name": "stdout",
     "output_type": "stream",
     "text": [
      "<class 'pandas.core.frame.DataFrame'>\n",
      "RangeIndex: 756 entries, 0 to 755\n",
      "Columns: 755 entries, id to class\n",
      "dtypes: float64(749), int64(6)\n",
      "memory usage: 4.4 MB\n",
      "None\n",
      "               id      gender         PPE         DFA        RPDE   numPulses   \n",
      "count  756.000000  756.000000  756.000000  756.000000  756.000000  756.000000  \\\n",
      "mean   125.500000    0.515873    0.746284    0.700414    0.489058  323.972222   \n",
      "std     72.793721    0.500079    0.169294    0.069718    0.137442   99.219059   \n",
      "min      0.000000    0.000000    0.041551    0.543500    0.154300    2.000000   \n",
      "25%     62.750000    0.000000    0.762833    0.647053    0.386537  251.000000   \n",
      "50%    125.500000    1.000000    0.809655    0.700525    0.484355  317.000000   \n",
      "75%    188.250000    1.000000    0.834315    0.754985    0.586515  384.250000   \n",
      "max    251.000000    1.000000    0.907660    0.852640    0.871230  907.000000   \n",
      "\n",
      "       numPeriodsPulses  meanPeriodPulses  stdDevPeriodPulses  locPctJitter   \n",
      "count        756.000000        756.000000          756.000000    756.000000  \\\n",
      "mean         322.678571          0.006360            0.000383      0.002324   \n",
      "std           99.402499          0.001826            0.000728      0.002628   \n",
      "min            1.000000          0.002107            0.000011      0.000210   \n",
      "25%          250.000000          0.005003            0.000049      0.000970   \n",
      "50%          316.000000          0.006048            0.000077      0.001495   \n",
      "75%          383.250000          0.007528            0.000171      0.002520   \n",
      "max          905.000000          0.012966            0.003483      0.027750   \n",
      "\n",
      "       ...  tqwt_kurtosisValue_dec_28  tqwt_kurtosisValue_dec_29   \n",
      "count  ...                 756.000000                 756.000000  \\\n",
      "mean   ...                  26.237251                  22.840337   \n",
      "std    ...                  42.220693                  32.626464   \n",
      "min    ...                   1.509800                   1.531700   \n",
      "25%    ...                   2.408675                   3.452800   \n",
      "50%    ...                   5.586300                   7.062750   \n",
      "75%    ...                  28.958075                  29.830850   \n",
      "max    ...                 239.788800                 203.311300   \n",
      "\n",
      "       tqwt_kurtosisValue_dec_30  tqwt_kurtosisValue_dec_31   \n",
      "count                 756.000000                 756.000000  \\\n",
      "mean                   18.587888                  13.872018   \n",
      "std                    25.537464                  20.046029   \n",
      "min                     1.582900                   1.747200   \n",
      "25%                     3.354825                   3.077450   \n",
      "50%                     6.077400                   4.770850   \n",
      "75%                    21.944050                  13.188000   \n",
      "max                   121.542900                 102.207000   \n",
      "\n",
      "       tqwt_kurtosisValue_dec_32  tqwt_kurtosisValue_dec_33   \n",
      "count                 756.000000                 756.000000  \\\n",
      "mean                   12.218953                  12.375335   \n",
      "std                    17.783642                  16.341665   \n",
      "min                     1.789500                   1.628700   \n",
      "25%                     2.937025                   3.114375   \n",
      "50%                     4.300450                   4.741450   \n",
      "75%                    10.876150                  12.201325   \n",
      "max                    85.571700                  73.532200   \n",
      "\n",
      "       tqwt_kurtosisValue_dec_34  tqwt_kurtosisValue_dec_35   \n",
      "count                 756.000000                 756.000000  \\\n",
      "mean                   14.799230                  14.751559   \n",
      "std                    15.722502                  14.432979   \n",
      "min                     1.861700                   1.955900   \n",
      "25%                     3.665925                   3.741275   \n",
      "50%                     6.725700                   7.334250   \n",
      "75%                    21.922050                  22.495175   \n",
      "max                    62.007300                  57.544300   \n",
      "\n",
      "       tqwt_kurtosisValue_dec_36       class  \n",
      "count                 756.000000  756.000000  \n",
      "mean                   31.481110    0.746032  \n",
      "std                    34.230991    0.435568  \n",
      "min                     2.364000    0.000000  \n",
      "25%                     3.948750    0.000000  \n",
      "50%                    10.637250    1.000000  \n",
      "75%                    61.125325    1.000000  \n",
      "max                   156.423700    1.000000  \n",
      "\n",
      "[8 rows x 755 columns]\n"
     ]
    }
   ],
   "source": [
    "# Summary of the dataset, including data types and missing values\n",
    "print(data.info())\n",
    "print(data.describe())"
   ]
  },
  {
   "cell_type": "markdown",
   "metadata": {},
   "source": [
    "#### Step 2: Data Preprocessing"
   ]
  },
  {
   "cell_type": "code",
   "execution_count": 274,
   "metadata": {},
   "outputs": [
    {
     "name": "stdout",
     "output_type": "stream",
     "text": [
      "id                           0\n",
      "gender                       0\n",
      "PPE                          0\n",
      "DFA                          0\n",
      "RPDE                         0\n",
      "                            ..\n",
      "tqwt_kurtosisValue_dec_33    0\n",
      "tqwt_kurtosisValue_dec_34    0\n",
      "tqwt_kurtosisValue_dec_35    0\n",
      "tqwt_kurtosisValue_dec_36    0\n",
      "class                        0\n",
      "Length: 755, dtype: int64\n"
     ]
    }
   ],
   "source": [
    "# check for missing values\n",
    "print(data.isnull().sum())"
   ]
  },
  {
   "cell_type": "code",
   "execution_count": 275,
   "metadata": {},
   "outputs": [],
   "source": [
    "# Drop the 'id' column as it does not contribute to the prediction\n",
    "data.drop(columns=['id'], inplace=True)"
   ]
  },
  {
   "cell_type": "code",
   "execution_count": 276,
   "metadata": {},
   "outputs": [],
   "source": [
    "\n",
    "# Split the data into features (X) and the target variable (y)\n",
    "X = data.drop(columns=['class'])\n",
    "y = data['class']\n"
   ]
  },
  {
   "cell_type": "markdown",
   "metadata": {},
   "source": [
    "##### Disctribution of target variable"
   ]
  },
  {
   "cell_type": "code",
   "execution_count": 277,
   "metadata": {},
   "outputs": [
    {
     "data": {
      "image/png": "[encoded data removed]",
      "text/plain": [
       "<Figure size 600x400 with 1 Axes>"
      ]
     },
     "metadata": {},
     "output_type": "display_data"
    }
   ],
   "source": [
    "plt.figure(figsize=(6, 4))\n",
    "sns.countplot(data, x='class')\n",
    "plt.title('Distribution of Target Variable (Class)')\n",
    "plt.show()"
   ]
  },
  {
   "cell_type": "markdown",
   "metadata": {},
   "source": [
    "#### Step 3: Data Standardization"
   ]
  },
  {
   "cell_type": "code",
   "execution_count": 278,
   "metadata": {},
   "outputs": [],
   "source": [
    "scaler = StandardScaler()\n",
    "X_scaled = scaler.fit_transform(X)"
   ]
  },
  {
   "cell_type": "markdown",
   "metadata": {},
   "source": [
    "#### Split the data into train and test"
   ]
  },
  {
   "cell_type": "code",
   "execution_count": 279,
   "metadata": {},
   "outputs": [],
   "source": [
    "# Split the data into training and testing sets (80% for training, 20% for testing)\n",
    "X_train, X_test, y_train, y_test = train_test_split(\n",
    "    X_scaled, y, test_size=0.2, random_state=42)\n"
   ]
  },
  {
   "cell_type": "markdown",
   "metadata": {},
   "source": [
    "#### Step 4: Model Training"
   ]
  },
  {
   "cell_type": "code",
   "execution_count": 280,
   "metadata": {},
   "outputs": [
    {
     "name": "stderr",
     "output_type": "stream",
     "text": [
      "/Users/harshithaanishetty/Desktop/MLFoundations/CSCN8010/venv/CSCN8010_classic_ml/lib/python3.11/site-packages/sklearn/linear_model/_logistic.py:458: ConvergenceWarning: lbfgs failed to converge (status=1):\n",
      "STOP: TOTAL NO. of ITERATIONS REACHED LIMIT.\n",
      "\n",
      "Increase the number of iterations (max_iter) or scale the data as shown in:\n",
      "    https://scikit-learn.org/stable/modules/preprocessing.html\n",
      "Please also refer to the documentation for alternative solver options:\n",
      "    https://scikit-learn.org/stable/modules/linear_model.html#logistic-regression\n",
      "  n_iter_i = _check_optimize_result(\n"
     ]
    },
    {
     "data": {
      "text/html": [
       "<style>#sk-container-id-19 {color: black;background-color: white;}#sk-container-id-19 pre{padding: 0;}#sk-container-id-19 div.sk-toggleable {background-color: white;}#sk-container-id-19 label.sk-toggleable__label {cursor: pointer;display: block;width: 100%;margin-bottom: 0;padding: 0.3em;box-sizing: border-box;text-align: center;}#sk-container-id-19 label.sk-toggleable__label-arrow:before {content: \"▸\";float: left;margin-right: 0.25em;color: #696969;}#sk-container-id-19 label.sk-toggleable__label-arrow:hover:before {color: black;}#sk-container-id-19 div.sk-estimator:hover label.sk-toggleable__label-arrow:before {color: black;}#sk-container-id-19 div.sk-toggleable__content {max-height: 0;max-width: 0;overflow: hidden;text-align: left;background-color: #f0f8ff;}#sk-container-id-19 div.sk-toggleable__content pre {margin: 0.2em;color: black;border-radius: 0.25em;background-color: #f0f8ff;}#sk-container-id-19 input.sk-toggleable__control:checked~div.sk-toggleable__content {max-height: 200px;max-width: 100%;overflow: auto;}#sk-container-id-19 input.sk-toggleable__control:checked~label.sk-toggleable__label-arrow:before {content: \"▾\";}#sk-container-id-19 div.sk-estimator input.sk-toggleable__control:checked~label.sk-toggleable__label {background-color: #d4ebff;}#sk-container-id-19 div.sk-label input.sk-toggleable__control:checked~label.sk-toggleable__label {background-color: #d4ebff;}#sk-container-id-19 input.sk-hidden--visually {border: 0;clip: rect(1px 1px 1px 1px);clip: rect(1px, 1px, 1px, 1px);height: 1px;margin: -1px;overflow: hidden;padding: 0;position: absolute;width: 1px;}#sk-container-id-19 div.sk-estimator {font-family: monospace;background-color: #f0f8ff;border: 1px dotted black;border-radius: 0.25em;box-sizing: border-box;margin-bottom: 0.5em;}#sk-container-id-19 div.sk-estimator:hover {background-color: #d4ebff;}#sk-container-id-19 div.sk-parallel-item::after {content: \"\";width: 100%;border-bottom: 1px solid gray;flex-grow: 1;}#sk-container-id-19 div.sk-label:hover label.sk-toggleable__label {background-color: #d4ebff;}#sk-container-id-19 div.sk-serial::before {content: \"\";position: absolute;border-left: 1px solid gray;box-sizing: border-box;top: 0;bottom: 0;left: 50%;z-index: 0;}#sk-container-id-19 div.sk-serial {display: flex;flex-direction: column;align-items: center;background-color: white;padding-right: 0.2em;padding-left: 0.2em;position: relative;}#sk-container-id-19 div.sk-item {position: relative;z-index: 1;}#sk-container-id-19 div.sk-parallel {display: flex;align-items: stretch;justify-content: center;background-color: white;position: relative;}#sk-container-id-19 div.sk-item::before, #sk-container-id-19 div.sk-parallel-item::before {content: \"\";position: absolute;border-left: 1px solid gray;box-sizing: border-box;top: 0;bottom: 0;left: 50%;z-index: -1;}#sk-container-id-19 div.sk-parallel-item {display: flex;flex-direction: column;z-index: 1;position: relative;background-color: white;}#sk-container-id-19 div.sk-parallel-item:first-child::after {align-self: flex-end;width: 50%;}#sk-container-id-19 div.sk-parallel-item:last-child::after {align-self: flex-start;width: 50%;}#sk-container-id-19 div.sk-parallel-item:only-child::after {width: 0;}#sk-container-id-19 div.sk-dashed-wrapped {border: 1px dashed gray;margin: 0 0.4em 0.5em 0.4em;box-sizing: border-box;padding-bottom: 0.4em;background-color: white;}#sk-container-id-19 div.sk-label label {font-family: monospace;font-weight: bold;display: inline-block;line-height: 1.2em;}#sk-container-id-19 div.sk-label-container {text-align: center;}#sk-container-id-19 div.sk-container {/* jupyter's `normalize.less` sets `[hidden] { display: none; }` but bootstrap.min.css set `[hidden] { display: none !important; }` so we also need the `!important` here to be able to override the default hidden behavior on the sphinx rendered scikit-learn.org. See: https://github.com/scikit-learn/scikit-learn/issues/21755 */display: inline-block !important;position: relative;}#sk-container-id-19 div.sk-text-repr-fallback {display: none;}</style><div id=\"sk-container-id-19\" class=\"sk-top-container\"><div class=\"sk-text-repr-fallback\"><pre>LogisticRegression(random_state=42)</pre><b>In a Jupyter environment, please rerun this cell to show the HTML representation or trust the notebook. <br />On GitHub, the HTML representation is unable to render, please try loading this page with nbviewer.org.</b></div><div class=\"sk-container\" hidden><div class=\"sk-item\"><div class=\"sk-estimator sk-toggleable\"><input class=\"sk-toggleable__control sk-hidden--visually\" id=\"sk-estimator-id-19\" type=\"checkbox\" checked><label for=\"sk-estimator-id-19\" class=\"sk-toggleable__label sk-toggleable__label-arrow\">LogisticRegression</label><div class=\"sk-toggleable__content\"><pre>LogisticRegression(random_state=42)</pre></div></div></div></div></div>"
      ],
      "text/plain": [
       "LogisticRegression(random_state=42)"
      ]
     },
     "execution_count": 280,
     "metadata": {},
     "output_type": "execute_result"
    }
   ],
   "source": [
    "\n",
    "# Initialize the Logistic Regression model\n",
    "model = LogisticRegression(random_state=42)\n",
    "\n",
    "# Train the model on the training data\n",
    "model.fit(X_train, y_train)"
   ]
  },
  {
   "cell_type": "markdown",
   "metadata": {},
   "source": [
    "#### Step 5: Measure Model Accuracy"
   ]
  },
  {
   "cell_type": "code",
   "execution_count": 281,
   "metadata": {},
   "outputs": [
    {
     "name": "stdout",
     "output_type": "stream",
     "text": [
      "Model Accuracy: 0.8618421052631579\n",
      "\n",
      "Classification Report:\n",
      "              precision    recall  f1-score   support\n",
      "\n",
      "           0       0.76      0.66      0.70        38\n",
      "           1       0.89      0.93      0.91       114\n",
      "\n",
      "    accuracy                           0.86       152\n",
      "   macro avg       0.82      0.79      0.81       152\n",
      "weighted avg       0.86      0.86      0.86       152\n",
      "\n",
      "\n",
      "Confusion Matrix:\n",
      "[[ 25  13]\n",
      " [  8 106]]\n"
     ]
    }
   ],
   "source": [
    "# Make predictions on the test set\n",
    "y_pred = model.predict(X_test)\n",
    "\n",
    "# Measure the accuracy of the model\n",
    "accuracy = accuracy_score(y_test, y_pred)\n",
    "print(\"Model Accuracy:\", accuracy)\n",
    "\n",
    "# Display a classification report and confusion matrix for more detailed evaluation\n",
    "print(\"\\nClassification Report:\")\n",
    "print(classification_report(y_test, y_pred))\n",
    "\n",
    "print(\"\\nConfusion Matrix:\")\n",
    "print(confusion_matrix(y_test, y_pred))\n"
   ]
  },
  {
   "cell_type": "markdown",
   "metadata": {},
   "source": [
    "#### Step 6: Build a Predictive System"
   ]
  },
  {
   "cell_type": "code",
   "execution_count": 282,
   "metadata": {},
   "outputs": [
    {
     "name": "stdout",
     "output_type": "stream",
     "text": [
      "The patient is likely to have Parkinson's disease.\n"
     ]
    },
    {
     "name": "stderr",
     "output_type": "stream",
     "text": [
      "/Users/harshithaanishetty/Desktop/MLFoundations/CSCN8010/venv/CSCN8010_classic_ml/lib/python3.11/site-packages/sklearn/base.py:439: UserWarning: X does not have valid feature names, but StandardScaler was fitted with feature names\n",
      "  warnings.warn(\n"
     ]
    }
   ],
   "source": [
    "\n",
    "single_instance = data.iloc[0, :-1].values\n",
    "\n",
    "# Standardize the single instance data using the same scaler\n",
    "single_instance = scaler.transform(single_instance.reshape(1, -1))\n",
    "\n",
    "# Make a prediction for the single instance\n",
    "prediction = model.predict(single_instance)\n",
    "\n",
    "# Print the prediction\n",
    "if prediction[0] == 1:\n",
    "    print(\"The patient is likely to have Parkinson's disease.\")\n",
    "else:\n",
    "    print(\"The patient is not likely to have Parkinson's disease.\")\n"
   ]
  }
 ],
 "metadata": {
  "kernelspec": {
   "display_name": "CSCN8010_classic_ml",
   "language": "python",
   "name": "python3"
  },
  "language_info": {
   "codemirror_mode": {
    "name": "ipython",
    "version": 3
   },
   "file_extension": ".py",
   "mimetype": "text/x-python",
   "name": "python",
   "nbconvert_exporter": "python",
   "pygments_lexer": "ipython3",
   "version": "3.11.3"
  },
  "orig_nbformat": 4
 },
 "nbformat": 4,
 "nbformat_minor": 2
}
