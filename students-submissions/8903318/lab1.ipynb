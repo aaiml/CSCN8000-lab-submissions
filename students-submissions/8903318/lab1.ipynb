{
 "cells": [
  {
   "attachments": {},
   "cell_type": "markdown",
   "metadata": {},
   "source": [
    "## LAB-1\n",
    "### Name: Harshitha Anishetty\n",
    "### StudenID: 8903318"
   ]
  },
  {
   "attachments": {},
   "cell_type": "markdown",
   "metadata": {},
   "source": [
    "## PART-A"
   ]
  },
  {
   "attachments": {},
   "cell_type": "markdown",
   "metadata": {},
   "source": [
    "##### 1.Create a Notebook to demonstrate NumPy Operations."
   ]
  },
  {
   "cell_type": "code",
   "execution_count": 273,
   "metadata": {},
   "outputs": [],
   "source": [
    "import numpy as np"
   ]
  },
  {
   "attachments": {},
   "cell_type": "markdown",
   "metadata": {},
   "source": [
    "##### 2.Create an array that starts from the integer 1, ends at 20, incremented by 3."
   ]
  },
  {
   "cell_type": "code",
   "execution_count": 274,
   "metadata": {},
   "outputs": [
    {
     "data": {
      "text/plain": [
       "array([ 1,  4,  7, 10, 13, 16, 19])"
      ]
     },
     "execution_count": 274,
     "metadata": {},
     "output_type": "execute_result"
    }
   ],
   "source": [
    "np.arange(1,20,3)"
   ]
  },
  {
   "attachments": {},
   "cell_type": "markdown",
   "metadata": {},
   "source": [
    "##### 3.Create a new array of shape 3 with random numbers between 0 and 1."
   ]
  },
  {
   "cell_type": "code",
   "execution_count": 275,
   "metadata": {},
   "outputs": [
    {
     "data": {
      "text/plain": [
       "array([0.28361182, 0.25305624, 0.55138613])"
      ]
     },
     "execution_count": 275,
     "metadata": {},
     "output_type": "execute_result"
    }
   ],
   "source": [
    "np.random.rand(3)"
   ]
  },
  {
   "attachments": {},
   "cell_type": "markdown",
   "metadata": {},
   "source": [
    "##### 4.Create a 2 D array [[10,20,45], [30,12,16], [42,17,56]] and perform the following operations: \n",
    "     \n",
    "#####       Slice the 2D array to get the first two rows, slice the 2D array to get the last two rows."
   ]
  },
  {
   "cell_type": "code",
   "execution_count": 276,
   "metadata": {},
   "outputs": [
    {
     "name": "stdout",
     "output_type": "stream",
     "text": [
      "2D array:\n",
      "[[10 20 45]\n",
      " [30 12 16]\n",
      " [42 17 56]]\n",
      "First two rows:\n",
      "[[10 20 45]\n",
      " [30 12 16]]\n",
      "Last two rows:\n",
      "[[30 12 16]\n",
      " [42 17 56]]\n"
     ]
    }
   ],
   "source": [
    "#Create the 2D array\n",
    "arr = np.array([[10, 20, 45], [30, 12, 16], [42, 17, 56]])\n",
    "print(\"2D array:\")\n",
    "print(arr)\n",
    "# Slice to get the first two rows\n",
    "firstTwoRows = arr[:2]\n",
    "print(\"First two rows:\")\n",
    "print(firstTwoRows)\n",
    "\n",
    "# Slice to get the last two rows\n",
    "lastTwoRows = arr[-2:]\n",
    "print(\"Last two rows:\")\n",
    "print(lastTwoRows)"
   ]
  },
  {
   "attachments": {},
   "cell_type": "markdown",
   "metadata": {},
   "source": [
    "##### 5.Create two 2x2 arrays and demonstrate how you can stack the elements vertically, horizontally, and split the arrays into smaller arrays.\n",
    "     "
   ]
  },
  {
   "cell_type": "code",
   "execution_count": 277,
   "metadata": {},
   "outputs": [
    {
     "name": "stdout",
     "output_type": "stream",
     "text": [
      "Vertical stack:\n",
      "[[1 8]\n",
      " [3 7]\n",
      " [4 3]\n",
      " [5 9]]\n",
      "Horizontal stack:\n",
      "[[1 8 4 3]\n",
      " [3 7 5 9]]\n",
      "Split vertically:\n",
      "[array([[1, 8]]), array([[3, 7]]), array([[4, 3]]), array([[5, 9]])]\n",
      "Split horizontally:\n",
      "[array([[1],\n",
      "       [3]]), array([[8],\n",
      "       [7]]), array([[4],\n",
      "       [5]]), array([[3],\n",
      "       [9]])]\n"
     ]
    }
   ],
   "source": [
    "arr1 = np.array([[1,8],[3,7]])\n",
    "arr2 = np.array([[4,3],[5,9]])\n",
    "\n",
    "# Stack the arrays vertically\n",
    "verticalStack = np.vstack((arr1, arr2))\n",
    "print(\"Vertical stack:\")\n",
    "print(verticalStack)\n",
    "\n",
    "# Stack the arrays horizontally\n",
    "horizontalStack = np.hstack((arr1, arr2))\n",
    "print(\"Horizontal stack:\")\n",
    "print(horizontalStack)\n",
    "\n",
    "# Split the vertical stack into smaller arrays\n",
    "splitVertical = np.vsplit(verticalStack, 4)\n",
    "print(\"Split vertically:\")\n",
    "print(splitVertical)\n",
    "\n",
    "# Split the horizontal stack into smaller arrays\n",
    "splitHorizontal = np.hsplit(horizontalStack, 4)\n",
    "print(\"Split horizontally:\")\n",
    "print(splitHorizontal)\n"
   ]
  },
  {
   "attachments": {},
   "cell_type": "markdown",
   "metadata": {},
   "source": [
    "#####  6.Create two matrices X= ([[5, 7, 2], [4, 5, 6], [7, 4 ,2]]) Y= ([[4, 2], [6, 2], [4, 2]]), Is it possible to multiply these matrices? \n",
    "     \n",
    "#####     Demonstrate the case when it is not possible to.\n",
    "      \n",
    "    "
   ]
  },
  {
   "cell_type": "code",
   "execution_count": 278,
   "metadata": {},
   "outputs": [
    {
     "name": "stdout",
     "output_type": "stream",
     "text": [
      "Shape of X matrix:  (3, 3)\n",
      "Shape of Y matrix:  (3, 2)\n",
      "It is possible multiply X with Y, as the number of columns in matrix X is equal to the number of rows in matrix Y.\n",
      "Result Matrix: \n",
      "[[70 28]\n",
      " [70 30]\n",
      " [60 26]]\n",
      "When we try to multiply Y and X using np.dot(Y, X), matrix multiplication is not possible due to incompatible dimensions, and an error is raised.\n"
     ]
    }
   ],
   "source": [
    "X = np.array([[5, 7, 2], [4, 5, 6], [7, 4, 2]])\n",
    "Y = np.array([[4, 2], [6, 2], [4, 2]])\n",
    "\n",
    "print(\"Shape of X matrix: \",X.shape)\n",
    "print(\"Shape of Y matrix: \", Y.shape)\n",
    "\n",
    "print(\"It is possible multiply X with Y, as the number of columns in matrix X is equal to the number of rows in matrix Y.\")\n",
    "\n",
    "result = np.dot(X, Y)\n",
    "\n",
    "print(\"Result Matrix: \")\n",
    "print(result)\n",
    "\n",
    "# Demonstrate the case when it is not possible to.\n",
    "print(\"When we try to multiply Y and X using np.dot(Y, X), matrix multiplication is not possible due to incompatible dimensions, and an error is raised.\")\n"
   ]
  },
  {
   "attachments": {},
   "cell_type": "markdown",
   "metadata": {},
   "source": [
    "#####  7.Create two arrays, x = ([2, -1, -8]) y = ([3, 1, -2]), Find the Shape, Number of dimensions of vector x.\n",
    "     \n",
    "#####      Reshape the vector x to a matrix of size (3,1) and determine the number of dimensions after reshaping y to a matrix of (3,1).\n",
    "      \n",
    "     "
   ]
  },
  {
   "cell_type": "code",
   "execution_count": 279,
   "metadata": {},
   "outputs": [
    {
     "name": "stdout",
     "output_type": "stream",
     "text": [
      "Shape of x: (3,)\n",
      "Number of dimensions of x: 1\n",
      "Reshaped x:\n",
      "[[ 2]\n",
      " [-1]\n",
      " [-8]]\n",
      "Reshaped y:\n",
      "[[ 3]\n",
      " [ 1]\n",
      " [-2]]\n",
      "No. of dimensions of y after reshape: 2\n"
     ]
    }
   ],
   "source": [
    "x = np.array([2, -1, -8])\n",
    "y = np.array([3, 1, -2])\n",
    "\n",
    "# Find shape and number of dimensions of x\n",
    "xShape = x.shape\n",
    "xDimensions = x.ndim\n",
    "print(\"Shape of x:\", xShape)\n",
    "print(\"Number of dimensions of x:\", xDimensions)\n",
    "\n",
    "# Reshape x to a (3, 1) matrix\n",
    "xReshaped = x.reshape((3, 1))\n",
    "print(\"Reshaped x:\")\n",
    "print(xReshaped)\n",
    "\n",
    "# Reshape y to a (3, 1) matrix and determine the number of dimensions\n",
    "yReshaped = y.reshape((3, 1))\n",
    "yDimensions = yReshaped.ndim\n",
    "print(\"Reshaped y:\")\n",
    "print(yReshaped)\n",
    "print(\"No. of dimensions of y after reshape:\", yDimensions)"
   ]
  },
  {
   "attachments": {},
   "cell_type": "markdown",
   "metadata": {},
   "source": [
    "##### 8. How does broadcasting work? Demonstrate the subtraction, multiplication by considering a 3 x 3 matrix."
   ]
  },
  {
   "cell_type": "code",
   "execution_count": 280,
   "metadata": {},
   "outputs": [
    {
     "name": "stdout",
     "output_type": "stream",
     "text": [
      "Subtraction result:\n",
      "[[-1  0  1]\n",
      " [ 2  3  4]\n",
      " [ 5  6  7]]\n",
      "\n",
      "Multiplication result:\n",
      "[[ 2  4  6]\n",
      " [ 8 10 12]\n",
      " [14 16 18]]\n"
     ]
    }
   ],
   "source": [
    "A = np.array([[1, 2, 3],[4, 5, 6],[7, 8, 9]])\n",
    "\n",
    "# Create a scalar value\n",
    "b = 2\n",
    "\n",
    "# subtraction using broadcasting\n",
    "subtractionResult = A - b\n",
    "print(\"Subtraction result:\")\n",
    "print(subtractionResult)\n",
    "\n",
    "# multiplication using broadcasting\n",
    "multiplicationResult = A * b\n",
    "print(\"\\nMultiplication result:\")\n",
    "print(multiplicationResult)\n"
   ]
  },
  {
   "attachments": {},
   "cell_type": "markdown",
   "metadata": {},
   "source": [
    "## PART-B"
   ]
  },
  {
   "attachments": {},
   "cell_type": "markdown",
   "metadata": {},
   "source": [
    "#####     Solve the following two system of linear equations using matrices (find the values of x1 and x2) and determine the number of solutions using the functions. \n",
    "#####         1. 2x1+3x2-4x3=6, x1-4x2=8\n"
   ]
  },
  {
   "cell_type": "code",
   "execution_count": 281,
   "metadata": {},
   "outputs": [],
   "source": [
    "x = np.array([[2, 3, -4], [1, -4, 0]])\n",
    "y = np.array([6, 8])\n",
    "#z = np.linalg.solve(x, y)"
   ]
  },
  {
   "attachments": {},
   "cell_type": "markdown",
   "metadata": {},
   "source": [
    "#####        2. 3y1-4y2+5y3=10, -y1+2y2-4y3=8"
   ]
  },
  {
   "cell_type": "code",
   "execution_count": 282,
   "metadata": {},
   "outputs": [],
   "source": [
    "x = np.array([[3, -4, -5], [-1, 2, -4]])\n",
    "y = np.array([10, 8])\n",
    "#z = np.linalg.solve(x, y)"
   ]
  },
  {
   "attachments": {},
   "cell_type": "markdown",
   "metadata": {},
   "source": [
    "##### There is no solution for above equations, as the number of equations are not equal to number of variables."
   ]
  }
 ],
 "metadata": {
  "kernelspec": {
   "display_name": "CSCN8010_classic_ml",
   "language": "python",
   "name": "python3"
  },
  "language_info": {
   "codemirror_mode": {
    "name": "ipython",
    "version": 3
   },
   "file_extension": ".py",
   "mimetype": "text/x-python",
   "name": "python",
   "nbconvert_exporter": "python",
   "pygments_lexer": "ipython3",
   "version": "3.11.3"
  },
  "orig_nbformat": 4
 },
 "nbformat": 4,
 "nbformat_minor": 2
}
