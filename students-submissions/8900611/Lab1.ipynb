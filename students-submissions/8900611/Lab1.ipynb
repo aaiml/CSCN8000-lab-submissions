{
 "cells": [
  {
   "attachments": {},
   "cell_type": "markdown",
   "metadata": {},
   "source": [
    "## NAME:AYODELE JAMES\n",
    "SUDENT ID:8900611"
   ]
  },
  {
   "attachments": {},
   "cell_type": "markdown",
   "metadata": {},
   "source": [
    "Create a Notebook to demonstrate NumPy Operations"
   ]
  },
  {
   "cell_type": "code",
   "execution_count": 29,
   "metadata": {},
   "outputs": [],
   "source": [
    "import numpy as np "
   ]
  },
  {
   "attachments": {},
   "cell_type": "markdown",
   "metadata": {},
   "source": [
    "#question2:Create an array that starts from the integer 1, ends at 20, incremented by 3"
   ]
  },
  {
   "cell_type": "code",
   "execution_count": 30,
   "metadata": {},
   "outputs": [
    {
     "data": {
      "text/plain": [
       "array([ 1,  4,  7, 10, 13, 16, 19])"
      ]
     },
     "execution_count": 30,
     "metadata": {},
     "output_type": "execute_result"
    }
   ],
   "source": [
    "np.arange(1, 20, 3)"
   ]
  },
  {
   "attachments": {},
   "cell_type": "markdown",
   "metadata": {},
   "source": [
    "#3:.Create a new array of shape 3 with random numbers between 0 and 1."
   ]
  },
  {
   "cell_type": "code",
   "execution_count": 31,
   "metadata": {},
   "outputs": [
    {
     "name": "stdout",
     "output_type": "stream",
     "text": [
      "Array 2: [0.1663005  0.37703223 0.46028673]\n"
     ]
    }
   ],
   "source": [
    "array2 = np.random.random((3))\n",
    "print(\"Array 2:\", array2)"
   ]
  },
  {
   "attachments": {},
   "cell_type": "markdown",
   "metadata": {},
   "source": [
    "#question 4: Create a 2 D array [[10,20,45], [30,12,16], [42,17,56]] and perform the following operations:\n",
    "\n",
    "Slice the 2D array to get the first two rows, slice the 2D array to get the last two rows"
   ]
  },
  {
   "cell_type": "code",
   "execution_count": 32,
   "metadata": {},
   "outputs": [
    {
     "name": "stdout",
     "output_type": "stream",
     "text": [
      "2-D array:\n",
      " [[10 20 45]\n",
      " [30 12 16]\n",
      " [42 17 56]]\n",
      "First two rows:\n",
      " [[10 20 45]\n",
      " [30 12 16]]\n",
      "Last two rows:\n",
      " [[30 12 16]\n",
      " [42 17 56]]\n"
     ]
    }
   ],
   "source": [
    "Two_D_array = np.array([[10, 20, 45], [30, 12, 16], [42, 17, 56]])\n",
    "print(\"2-D array:\\n {}\".format(Two_D_array))\n",
    "\n",
    "# Slice the 2D array to get the first two rows\n",
    "First_2_rows =Two_D_array[:2, :]\n",
    "print(\"First two rows:\\n {}\".format(First_2_rows))    \n",
    "\n",
    "# Slice the 2D array to get the last two rows\n",
    "Last_2_rows = Two_D_array[1:, :]\n",
    "print(\"Last two rows:\\n\", Last_2_rows)"
   ]
  },
  {
   "attachments": {},
   "cell_type": "markdown",
   "metadata": {},
   "source": [
    "#question 5: Create two 2x2 arrays and demonstrate how you can stack the elements vertically, horizontally, and split the arrays into smaller arrays."
   ]
  },
  {
   "cell_type": "code",
   "execution_count": 33,
   "metadata": {},
   "outputs": [
    {
     "name": "stdout",
     "output_type": "stream",
     "text": [
      "1st Input array : \n",
      " [[7 2]\n",
      " [9 4]]\n",
      "2nd Input array : \n",
      " [[ 5  6]\n",
      " [18  8]]\n",
      "Vertical Stack: [[ 7  2]\n",
      " [ 9  4]\n",
      " [ 5  6]\n",
      " [18  8]]\n",
      "Horizontal Stack: [[ 7  2  5  6]\n",
      " [ 9  4 18  8]]\n",
      "Split Array 1: [array([[7, 2]]), array([[9, 4]])]\n",
      "Split Array 2: [array([[5, 6]]), array([[18,  8]])]\n"
     ]
    }
   ],
   "source": [
    "# Create input array 1 & 2\n",
    "in_arr1 = np.array([[7, 2], [9, 4]])\n",
    "print (\"1st Input array : \\n\", in_arr1) \n",
    "in_arr2 = np.array([[5, 6], [18, 8]])\n",
    "print (\"2nd Input array : \\n\", in_arr2) \n",
    "# Stack the elements vertically\n",
    "Vertical_stack = np.vstack((in_arr1, in_arr2))\n",
    "print(\"Vertical Stack:\",Vertical_stack)\n",
    "\n",
    "# Stack the elements horizontally\n",
    "Horizontal_stack = np.hstack((in_arr1, in_arr2))\n",
    "print(\"Horizontal Stack:\",Horizontal_stack)\n",
    "\n",
    "# Split the arrays into smaller arrays\n",
    "split_in_arr1 = np.split(in_arr1, 2)\n",
    "split_in_arr2 = np.split(in_arr2, 2)\n",
    "print(\"Split Array 1:\", split_in_arr1)\n",
    "print(\"Split Array 2:\",split_in_arr2 )"
   ]
  },
  {
   "attachments": {},
   "cell_type": "markdown",
   "metadata": {},
   "source": [
    "question 6:.Create two matrices X= ([[5, 7, 2], [4, 5, 6], [7, 4 ,2]]) Y= ([[4, 2], [6, 2], [4, 2]]), Is it possible to multiply these matrices?"
   ]
  },
  {
   "cell_type": "code",
   "execution_count": 34,
   "metadata": {},
   "outputs": [
    {
     "name": "stdout",
     "output_type": "stream",
     "text": [
      "[[70 28]\n",
      " [70 30]\n",
      " [60 26]]\n"
     ]
    }
   ],
   "source": [
    "X = np.array([[5, 7, 2], [4, 5, 6], [7, 4, 2]])\n",
    "Y = np.array([[4, 2], [6, 2], [4, 2]])\n",
    "\n",
    "result = np.dot(X, Y)\n",
    "\n",
    "print(result)"
   ]
  },
  {
   "attachments": {},
   "cell_type": "markdown",
   "metadata": {},
   "source": [
    "This is the result of multiplying X and Y.\n",
    "\n",
    "Now, if we try to multiply matrices with incompatible shapes, we will get an error. For example,X=[1, 2, 3]and Z=[4, 5, 6]"
   ]
  },
  {
   "cell_type": "code",
   "execution_count": 35,
   "metadata": {},
   "outputs": [
    {
     "ename": "ValueError",
     "evalue": "shapes (3,3) and (2,3) not aligned: 3 (dim 1) != 2 (dim 0)",
     "output_type": "error",
     "traceback": [
      "\u001b[1;31m---------------------------------------------------------------------------\u001b[0m",
      "\u001b[1;31mValueError\u001b[0m                                Traceback (most recent call last)",
      "Cell \u001b[1;32mIn[35], line 2\u001b[0m\n\u001b[0;32m      1\u001b[0m Z \u001b[39m=\u001b[39m np\u001b[39m.\u001b[39marray([[\u001b[39m1\u001b[39m, \u001b[39m2\u001b[39m, \u001b[39m3\u001b[39m], [\u001b[39m4\u001b[39m, \u001b[39m5\u001b[39m, \u001b[39m6\u001b[39m]])\n\u001b[1;32m----> 2\u001b[0m result \u001b[39m=\u001b[39m np\u001b[39m.\u001b[39;49mdot(X, Z)  \u001b[39m# This will raise a ValueError\u001b[39;00m\n",
      "File \u001b[1;32m<__array_function__ internals>:200\u001b[0m, in \u001b[0;36mdot\u001b[1;34m(*args, **kwargs)\u001b[0m\n",
      "\u001b[1;31mValueError\u001b[0m: shapes (3,3) and (2,3) not aligned: 3 (dim 1) != 2 (dim 0)"
     ]
    }
   ],
   "source": [
    "Z = np.array([[1, 2, 3], [4, 5, 6]])\n",
    "result = np.dot(X, Z)  # This will raise a ValueError"
   ]
  },
  {
   "attachments": {},
   "cell_type": "markdown",
   "metadata": {},
   "source": [
    "#This is because the number of columns in the first matrix (3) doesn't match the number of rows in the second matrix (2)."
   ]
  },
  {
   "attachments": {},
   "cell_type": "markdown",
   "metadata": {},
   "source": [
    "#question 7:Create two arrays, x = ([2, -1, -8]) y = ([3, 1, -2]), Find the Shape, Number of dimensions of vector x.\n",
    "         \n",
    " Reshape the vector x to a matrix of size (3,1) and determine the number of dimensions after reshaping y to a matrix of (3,1).\n",
    "          "
   ]
  },
  {
   "cell_type": "code",
   "execution_count": null,
   "metadata": {},
   "outputs": [
    {
     "name": "stdout",
     "output_type": "stream",
     "text": [
      "(3,)\n",
      "1\n"
     ]
    }
   ],
   "source": [
    "# create array x\n",
    "x = np.array([2, -1, -8])\n",
    "\n",
    "# create array y\n",
    "y = np.array([3, 1, -2])\n",
    "\n",
    "# find the shape of x\n",
    "print(x.shape)  # output: (3,)\n",
    "\n",
    "# find the number of dimensions of x\n",
    "print(x.ndim)  # output: 1"
   ]
  },
  {
   "cell_type": "code",
   "execution_count": null,
   "metadata": {},
   "outputs": [
    {
     "name": "stdout",
     "output_type": "stream",
     "text": [
      "2\n"
     ]
    }
   ],
   "source": [
    "# reshape x to a matrix of size (3, 1)\n",
    "x_matrix = x.reshape(3, 1)\n",
    "\n",
    "# find the number of dimensions of x_matrix\n",
    "print(x_matrix.ndim)  # output: 2"
   ]
  },
  {
   "cell_type": "code",
   "execution_count": null,
   "metadata": {},
   "outputs": [
    {
     "name": "stdout",
     "output_type": "stream",
     "text": [
      "2\n"
     ]
    }
   ],
   "source": [
    "# reshape y to a matrix of size (3, 1)\n",
    "y_matrix = y.reshape(3, 1)\n",
    "\n",
    "# find the number of dimensions of y_matrix\n",
    "print(y_matrix.ndim)  # output: 2"
   ]
  },
  {
   "attachments": {},
   "cell_type": "markdown",
   "metadata": {},
   "source": [
    "#Note that both x_matrix and y_matrix are 2-dimensional arrays/matrices after the reshaping operation."
   ]
  },
  {
   "attachments": {},
   "cell_type": "markdown",
   "metadata": {},
   "source": [
    "# question 8:How does broadcasting work? Demonstrate the subtraction, multiplication by considering a 3 x 3 matrix."
   ]
  },
  {
   "attachments": {},
   "cell_type": "markdown",
   "metadata": {},
   "source": [
    "Broadcasting allows mathematical operations on arrays of unequal shapes by treating them as if their contents have been replicated along appropriate dimensions [2]. In NumPy, broadcast-compatible arrays must have aligned dimensions with the same size or one dimension with a size of 1 [2].examples using 3*3 matrice"
   ]
  },
  {
   "cell_type": "code",
   "execution_count": null,
   "metadata": {},
   "outputs": [
    {
     "name": "stdout",
     "output_type": "stream",
     "text": [
      "[[-9 -9 -9]\n",
      " [-9 -9 -9]\n",
      " [-9 -9 -9]]\n",
      "[[ 10  22  36]\n",
      " [ 52  70  90]\n",
      " [112 136 162]]\n"
     ]
    }
   ],
   "source": [
    "# Create two matrices\n",
    "A = np.array([[1, 2, 3], [4, 5, 6], [7, 8, 9]])\n",
    "B = np.array([[10, 11, 12], [13, 14, 15], [16, 17, 18]])\n",
    "\n",
    "# Subtract B from A\n",
    "C = A - B\n",
    "print(C)\n",
    "\n",
    "# Multiply A and B\n",
    "D = A * B\n",
    "print(D)"
   ]
  },
  {
   "attachments": {},
   "cell_type": "markdown",
   "metadata": {},
   "source": [
    "#Note that the shapes of the matrices must be compatible for broadcasting to work. In this case, both matrices have the same shape, so broadcasting is not an issue. However, if the matrices had different shapes, we would need to use the broadcast_to function to reshape them appropriately,Additionally, if the shapes are incompatible, NumPy will raise a ValueError indicating that the operation cannot be performed."
   ]
  },
  {
   "attachments": {},
   "cell_type": "markdown",
   "metadata": {},
   "source": [
    "#question 8:Add Markdown text, with a headline, that provides a very brief overview of the graphs (e.g., one sentence for each). \n",
    "\n",
    "\n",
    "LINE GRAPH: information is shown as a series of data points connected by straight line segments.\n",
    "\n",
    "BAR GRAPH: is a form of graph in which data is represented by rectangular bars.\n",
    "\n",
    "A scatter plot is a form of graph that shows values for two variables as a collection of points.\n"
   ]
  },
  {
   "attachments": {},
   "cell_type": "markdown",
   "metadata": {},
   "source": [
    "#part B\n",
    "\n",
    "1.Solve the following two system of linear equations using matrices (find the values of x1 and x2) and \n",
    "          determine the number of solutions using the functions. \n",
    "\t         1. 2x1+3x2-4x3=6,x1-4x2=8\n",
    "\n",
    "             \n",
    "\t         2. 3y1-4y2+5y3=10,-y1+2y2-4y3=8"
   ]
  },
  {
   "cell_type": "code",
   "execution_count": null,
   "metadata": {},
   "outputs": [
    {
     "ename": "LinAlgError",
     "evalue": "Last 2 dimensions of the array must be square",
     "output_type": "error",
     "traceback": [
      "\u001b[1;31m---------------------------------------------------------------------------\u001b[0m",
      "\u001b[1;31mLinAlgError\u001b[0m                               Traceback (most recent call last)",
      "Cell \u001b[1;32mIn[27], line 7\u001b[0m\n\u001b[0;32m      4\u001b[0m B \u001b[39m=\u001b[39m np\u001b[39m.\u001b[39marray([\u001b[39m6\u001b[39m, \u001b[39m8\u001b[39m])\n\u001b[0;32m      6\u001b[0m \u001b[39m# Solve for x using matrix multiplication\u001b[39;00m\n\u001b[1;32m----> 7\u001b[0m x \u001b[39m=\u001b[39m np\u001b[39m.\u001b[39;49mlinalg\u001b[39m.\u001b[39;49msolve(A, B)\n\u001b[0;32m      8\u001b[0m \u001b[39mprint\u001b[39m(x)\n",
      "File \u001b[1;32m<__array_function__ internals>:200\u001b[0m, in \u001b[0;36msolve\u001b[1;34m(*args, **kwargs)\u001b[0m\n",
      "File \u001b[1;32mc:\\8010 LABSUBMISSION\\CSCN8010\\venv\\CSCN8010_classic_ml\\Lib\\site-packages\\numpy\\linalg\\linalg.py:373\u001b[0m, in \u001b[0;36msolve\u001b[1;34m(a, b)\u001b[0m\n\u001b[0;32m    371\u001b[0m a, _ \u001b[39m=\u001b[39m _makearray(a)\n\u001b[0;32m    372\u001b[0m _assert_stacked_2d(a)\n\u001b[1;32m--> 373\u001b[0m _assert_stacked_square(a)\n\u001b[0;32m    374\u001b[0m b, wrap \u001b[39m=\u001b[39m _makearray(b)\n\u001b[0;32m    375\u001b[0m t, result_t \u001b[39m=\u001b[39m _commonType(a, b)\n",
      "File \u001b[1;32mc:\\8010 LABSUBMISSION\\CSCN8010\\venv\\CSCN8010_classic_ml\\Lib\\site-packages\\numpy\\linalg\\linalg.py:190\u001b[0m, in \u001b[0;36m_assert_stacked_square\u001b[1;34m(*arrays)\u001b[0m\n\u001b[0;32m    188\u001b[0m m, n \u001b[39m=\u001b[39m a\u001b[39m.\u001b[39mshape[\u001b[39m-\u001b[39m\u001b[39m2\u001b[39m:]\n\u001b[0;32m    189\u001b[0m \u001b[39mif\u001b[39;00m m \u001b[39m!=\u001b[39m n:\n\u001b[1;32m--> 190\u001b[0m     \u001b[39mraise\u001b[39;00m LinAlgError(\u001b[39m'\u001b[39m\u001b[39mLast 2 dimensions of the array must be square\u001b[39m\u001b[39m'\u001b[39m)\n",
      "\u001b[1;31mLinAlgError\u001b[0m: Last 2 dimensions of the array must be square"
     ]
    }
   ],
   "source": [
    "import numpy as np\n",
    "\n",
    "A = np.array([[2, 3, -4], [1, -4, 0]])\n",
    "B = np.array([6, 8])\n",
    "\n",
    "# Solve for x using matrix multiplication\n",
    "x = np.linalg.solve(A, B)\n",
    "print(x)"
   ]
  },
  {
   "attachments": {},
   "cell_type": "markdown",
   "metadata": {},
   "source": [
    "2:3y1-4y2+5y3=10,-y1+2y2-4y3=8"
   ]
  },
  {
   "cell_type": "code",
   "execution_count": null,
   "metadata": {},
   "outputs": [
    {
     "ename": "LinAlgError",
     "evalue": "Last 2 dimensions of the array must be square",
     "output_type": "error",
     "traceback": [
      "\u001b[1;31m---------------------------------------------------------------------------\u001b[0m",
      "\u001b[1;31mLinAlgError\u001b[0m                               Traceback (most recent call last)",
      "Cell \u001b[1;32mIn[28], line 5\u001b[0m\n\u001b[0;32m      2\u001b[0m B \u001b[39m=\u001b[39m np\u001b[39m.\u001b[39marray([\u001b[39m10\u001b[39m, \u001b[39m8\u001b[39m])\n\u001b[0;32m      4\u001b[0m \u001b[39m# Solve for y using matrix multiplication\u001b[39;00m\n\u001b[1;32m----> 5\u001b[0m y \u001b[39m=\u001b[39m np\u001b[39m.\u001b[39;49mlinalg\u001b[39m.\u001b[39;49msolve(A, B)\n\u001b[0;32m      6\u001b[0m \u001b[39mprint\u001b[39m(y)\n",
      "File \u001b[1;32m<__array_function__ internals>:200\u001b[0m, in \u001b[0;36msolve\u001b[1;34m(*args, **kwargs)\u001b[0m\n",
      "File \u001b[1;32mc:\\8010 LABSUBMISSION\\CSCN8010\\venv\\CSCN8010_classic_ml\\Lib\\site-packages\\numpy\\linalg\\linalg.py:373\u001b[0m, in \u001b[0;36msolve\u001b[1;34m(a, b)\u001b[0m\n\u001b[0;32m    371\u001b[0m a, _ \u001b[39m=\u001b[39m _makearray(a)\n\u001b[0;32m    372\u001b[0m _assert_stacked_2d(a)\n\u001b[1;32m--> 373\u001b[0m _assert_stacked_square(a)\n\u001b[0;32m    374\u001b[0m b, wrap \u001b[39m=\u001b[39m _makearray(b)\n\u001b[0;32m    375\u001b[0m t, result_t \u001b[39m=\u001b[39m _commonType(a, b)\n",
      "File \u001b[1;32mc:\\8010 LABSUBMISSION\\CSCN8010\\venv\\CSCN8010_classic_ml\\Lib\\site-packages\\numpy\\linalg\\linalg.py:190\u001b[0m, in \u001b[0;36m_assert_stacked_square\u001b[1;34m(*arrays)\u001b[0m\n\u001b[0;32m    188\u001b[0m m, n \u001b[39m=\u001b[39m a\u001b[39m.\u001b[39mshape[\u001b[39m-\u001b[39m\u001b[39m2\u001b[39m:]\n\u001b[0;32m    189\u001b[0m \u001b[39mif\u001b[39;00m m \u001b[39m!=\u001b[39m n:\n\u001b[1;32m--> 190\u001b[0m     \u001b[39mraise\u001b[39;00m LinAlgError(\u001b[39m'\u001b[39m\u001b[39mLast 2 dimensions of the array must be square\u001b[39m\u001b[39m'\u001b[39m)\n",
      "\u001b[1;31mLinAlgError\u001b[0m: Last 2 dimensions of the array must be square"
     ]
    }
   ],
   "source": [
    "A = np.array([[3, -4, 5], [-1, 2, -4]])\n",
    "B = np.array([10, 8])\n",
    "\n",
    "# Solve for y using matrix multiplication\n",
    "y = np.linalg.solve(A, B)\n",
    "print(y)"
   ]
  },
  {
   "attachments": {},
   "cell_type": "markdown",
   "metadata": {},
   "source": [
    "#To determine the number of solutions, we can look at the rank of the coefficient matrix and the augmented matrix. If the rank of the coefficient matrix is equal to the rank of the augmented matrix, then there is a unique solution. If the rank of the coefficient matrix is less than the rank of the augmented matrix, then there are infinitely many solutions"
   ]
  }
 ],
 "metadata": {
  "kernelspec": {
   "display_name": "CSCN8010_classic_ml",
   "language": "python",
   "name": "cscn8010_classic_ml"
  },
  "language_info": {
   "codemirror_mode": {
    "name": "ipython",
    "version": 3
   },
   "file_extension": ".py",
   "mimetype": "text/x-python",
   "name": "python",
   "nbconvert_exporter": "python",
   "pygments_lexer": "ipython3",
   "version": "3.11.3"
  },
  "orig_nbformat": 4
 },
 "nbformat": 4,
 "nbformat_minor": 2
}
