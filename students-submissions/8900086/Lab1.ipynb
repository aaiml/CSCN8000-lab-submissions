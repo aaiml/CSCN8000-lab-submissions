{
 "cells": [
  {
   "attachments": {},
   "cell_type": "markdown",
   "metadata": {},
   "source": [
    "## Part A"
   ]
  },
  {
   "attachments": {},
   "cell_type": "markdown",
   "metadata": {},
   "source": [
    "Create an array that starts from the integer 1, ends at 20, incremented by 3."
   ]
  },
  {
   "cell_type": "code",
   "execution_count": 14,
   "metadata": {},
   "outputs": [
    {
     "name": "stdout",
     "output_type": "stream",
     "text": [
      "[ 1  4  7 10 13 16 19]\n"
     ]
    }
   ],
   "source": [
    "#Create an array that starts from the integer 1, ends at 20, incremented by 3. using numpy\n",
    "import numpy as np\n",
    "Array1 = np.arange(1,20,3)\n",
    "print(Array1)\n"
   ]
  },
  {
   "attachments": {},
   "cell_type": "markdown",
   "metadata": {},
   "source": [
    "Create a new array of shape 3 with random numbers between 0 and 1."
   ]
  },
  {
   "cell_type": "code",
   "execution_count": 15,
   "metadata": {},
   "outputs": [
    {
     "name": "stdout",
     "output_type": "stream",
     "text": [
      "[0.79186736 0.54251308 0.49447488]\n"
     ]
    }
   ],
   "source": [
    "#Create a new array of shape 3 with random numbers between 0 and 1.\n",
    "Array2 = np.random.rand(3)\n",
    "print(Array2)"
   ]
  },
  {
   "attachments": {},
   "cell_type": "markdown",
   "metadata": {},
   "source": [
    "Create a 2 D array [[10,20,45], [30,12,16], [42,17,56]] and perform the following operations:\n",
    "\n",
    "Slice the 2D array to get the first two rows, slice the 2D array to get the last two rows."
   ]
  },
  {
   "cell_type": "code",
   "execution_count": 16,
   "metadata": {},
   "outputs": [
    {
     "name": "stdout",
     "output_type": "stream",
     "text": [
      "[[10 20 45]\n",
      " [30 12 16]]\n",
      "[[30 12 16]\n",
      " [42 17 56]]\n"
     ]
    }
   ],
   "source": [
    "#Create a 2 D array [[10,20,45], [30,12,16], [42,17,56]]\n",
    "Array3 = np.array([[10,20,45], [30,12,16], [42,17,56]])\n",
    "#Slice the 2D array to get the first two rows, slice the 2D array to get the last two rows.\n",
    "print(Array3[0:2])\n",
    "print(Array3[1:3])"
   ]
  },
  {
   "attachments": {},
   "cell_type": "markdown",
   "metadata": {},
   "source": [
    "Create two 2x2 arrays and demonstrate how you can stack the elements vertically, horizontally, and split the arrays into smaller arrays."
   ]
  },
  {
   "cell_type": "code",
   "execution_count": 17,
   "metadata": {},
   "outputs": [
    {
     "name": "stdout",
     "output_type": "stream",
     "text": [
      "[[1 2]\n",
      " [3 4]\n",
      " [5 6]\n",
      " [7 8]]\n",
      "[[1 2 5 6]\n",
      " [3 4 7 8]]\n",
      "[array([[1, 2]]), array([[3, 4]])]\n",
      "[array([[5, 6]]), array([[7, 8]])]\n"
     ]
    }
   ],
   "source": [
    "#Create two 2x2 arrays and demonstrate how you can stack the elements vertically, horizontally, and split the arrays into smaller arrays.\n",
    "Array4 = np.array([[1,2],[3,4]])\n",
    "Array5 = np.array([[5,6],[7,8]])\n",
    "print(np.vstack((Array4,Array5)))\n",
    "print(np.hstack((Array4,Array5)))\n",
    "#split the arrays into smaller arrays.\n",
    "print(np.split(Array4,2))\n",
    "print(np.split(Array5,2))\n",
    "\n"
   ]
  },
  {
   "attachments": {},
   "cell_type": "markdown",
   "metadata": {},
   "source": [
    "Create two matrices X= ([[5, 7, 2], [4, 5, 6], [7, 4 ,2]]) Y= ([[4, 2], [6, 2], [4, 2]]), Is it possible to multiply these matrices? \n",
    "     \n",
    "Demonstrate the case when it is not possible to."
   ]
  },
  {
   "cell_type": "code",
   "execution_count": 18,
   "metadata": {},
   "outputs": [
    {
     "name": "stdout",
     "output_type": "stream",
     "text": [
      "[[70 28]\n",
      " [70 30]\n",
      " [60 26]]\n"
     ]
    }
   ],
   "source": [
    "#Create two matrices X= ([[5, 7, 2], [4, 5, 6], [7, 4 ,2]]) Y= ([[4, 2], [6, 2], [4, 2]]), Is it possible to multiply these matrices? \n",
    "     \n",
    "      #Demonstrate the case when it is not possible to.\n",
    "X = np.array([[5, 7, 2], [4, 5, 6], [7, 4 ,2]])\n",
    "Y = np.array([[4, 2], [6, 2], [4, 2]])\n",
    "print(np.dot(X,Y))\n"
   ]
  },
  {
   "attachments": {},
   "cell_type": "markdown",
   "metadata": {},
   "source": [
    "It is not possible to multiply these matrices because the number of columns in the first matrix is not equal to the number of rows in the second matrix"
   ]
  },
  {
   "attachments": {},
   "cell_type": "markdown",
   "metadata": {},
   "source": [
    "Create two arrays, x = ([2, -1, -8]) y = ([3, 1, -2]), Find the Shape, Number of dimensions of vector x.\n",
    "\n",
    "Reshape the vector x to a matrix of size (3,1) and determine the number of dimensions after reshaping y to a matrix of (3,1).\n"
   ]
  },
  {
   "cell_type": "code",
   "execution_count": 19,
   "metadata": {},
   "outputs": [
    {
     "name": "stdout",
     "output_type": "stream",
     "text": [
      "(3,)\n",
      "[[ 2]\n",
      " [-1]\n",
      " [-8]]\n"
     ]
    }
   ],
   "source": [
    "#Create two arrays, x = ([2, -1, -8]) y = ([3, 1, -2]), Find the Shape, Number of dimensions of vector x.\n",
    "x = np.array([2, -1, -8])\n",
    "y = np.array([3, 1, -2])\n",
    "print(x.shape)\n",
    "\n",
    "#Reshape the vector x to a matrix of size (3,1) and determine the number of dimensions after reshaping y to a matrix of (3,1).\n",
    "print(x.reshape(3,1))"
   ]
  },
  {
   "attachments": {},
   "cell_type": "markdown",
   "metadata": {},
   "source": [
    "How does broadcasting work? Demonstrate the subtraction, multiplication by considering a 3 x 3 matrix."
   ]
  },
  {
   "cell_type": "code",
   "execution_count": 20,
   "metadata": {},
   "outputs": [
    {
     "name": "stdout",
     "output_type": "stream",
     "text": [
      "[[0 0 0]\n",
      " [0 0 0]\n",
      " [0 0 0]]\n",
      "[[ 1  4  9]\n",
      " [16 25 36]\n",
      " [49 64 81]]\n"
     ]
    }
   ],
   "source": [
    "# Demonstrate the subtraction, multiplication by considering a 3 x 3 matrix. using broadcasting\n",
    "matrixA = np.array([[1,2,3],[4,5,6],[7,8,9]])\n",
    "matrixB = np.array([[1,2,3],[4,5,6],[7,8,9]])\n",
    "print(matrixA-matrixB)\n",
    "print(matrixA*matrixB)\n",
    "\n",
    "\n",
    "\n"
   ]
  },
  {
   "attachments": {},
   "cell_type": "markdown",
   "metadata": {},
   "source": [
    "Broadcasting is used to create arrays with different shapes which can be used to arithmetic operations such as subtractions, multiplications and more."
   ]
  },
  {
   "attachments": {},
   "cell_type": "markdown",
   "metadata": {},
   "source": [
    "## Part B"
   ]
  },
  {
   "attachments": {},
   "cell_type": "markdown",
   "metadata": {},
   "source": [
    "Solve the following two system of linear equations using matrices (find the values of x1 and x2) and \n",
    "      determine the number of solutions using the functions. \n",
    "      \n",
    "         1.2x1+3x2-4x3=6,   x1-4x2=8\n",
    "\t\n",
    "         2. 3y1-4y2+5y3=10,  -y1+2y2-4y3=8"
   ]
  },
  {
   "cell_type": "code",
   "execution_count": 27,
   "metadata": {},
   "outputs": [
    {
     "ename": "LinAlgError",
     "evalue": "Last 2 dimensions of the array must be square",
     "output_type": "error",
     "traceback": [
      "\u001b[1;31m---------------------------------------------------------------------------\u001b[0m",
      "\u001b[1;31mLinAlgError\u001b[0m                               Traceback (most recent call last)",
      "Cell \u001b[1;32mIn[27], line 5\u001b[0m\n\u001b[0;32m      1\u001b[0m arrayA\u001b[39m=\u001b[39m np\u001b[39m.\u001b[39marray([[\u001b[39m2\u001b[39m,\u001b[39m3\u001b[39m,\u001b[39m-\u001b[39m\u001b[39m4\u001b[39m],\n\u001b[0;32m      2\u001b[0m                   [\u001b[39m1\u001b[39m,\u001b[39m-\u001b[39m\u001b[39m4\u001b[39m,\u001b[39m0\u001b[39m]])\n\u001b[0;32m      3\u001b[0m arrayB \u001b[39m=\u001b[39m np\u001b[39m.\u001b[39marray([[\u001b[39m6\u001b[39m],\n\u001b[0;32m      4\u001b[0m                    [\u001b[39m8\u001b[39m]])\n\u001b[1;32m----> 5\u001b[0m resultX \u001b[39m=\u001b[39m np\u001b[39m.\u001b[39;49mlinalg\u001b[39m.\u001b[39;49msolve(arrayA,arrayB)\n\u001b[0;32m      6\u001b[0m x1 \u001b[39m=\u001b[39m resultX[\u001b[39m0\u001b[39m][\u001b[39m0\u001b[39m]\n\u001b[0;32m      7\u001b[0m x2 \u001b[39m=\u001b[39m resultX[\u001b[39m1\u001b[39m][\u001b[39m0\u001b[39m]\n",
      "File \u001b[1;32m<__array_function__ internals>:200\u001b[0m, in \u001b[0;36msolve\u001b[1;34m(*args, **kwargs)\u001b[0m\n",
      "File \u001b[1;32mc:\\projects\\notebooks\\CSCN8010\\venv\\CSCN8010_classic_ml\\Lib\\site-packages\\numpy\\linalg\\linalg.py:373\u001b[0m, in \u001b[0;36msolve\u001b[1;34m(a, b)\u001b[0m\n\u001b[0;32m    371\u001b[0m a, _ \u001b[39m=\u001b[39m _makearray(a)\n\u001b[0;32m    372\u001b[0m _assert_stacked_2d(a)\n\u001b[1;32m--> 373\u001b[0m _assert_stacked_square(a)\n\u001b[0;32m    374\u001b[0m b, wrap \u001b[39m=\u001b[39m _makearray(b)\n\u001b[0;32m    375\u001b[0m t, result_t \u001b[39m=\u001b[39m _commonType(a, b)\n",
      "File \u001b[1;32mc:\\projects\\notebooks\\CSCN8010\\venv\\CSCN8010_classic_ml\\Lib\\site-packages\\numpy\\linalg\\linalg.py:190\u001b[0m, in \u001b[0;36m_assert_stacked_square\u001b[1;34m(*arrays)\u001b[0m\n\u001b[0;32m    188\u001b[0m m, n \u001b[39m=\u001b[39m a\u001b[39m.\u001b[39mshape[\u001b[39m-\u001b[39m\u001b[39m2\u001b[39m:]\n\u001b[0;32m    189\u001b[0m \u001b[39mif\u001b[39;00m m \u001b[39m!=\u001b[39m n:\n\u001b[1;32m--> 190\u001b[0m     \u001b[39mraise\u001b[39;00m LinAlgError(\u001b[39m'\u001b[39m\u001b[39mLast 2 dimensions of the array must be square\u001b[39m\u001b[39m'\u001b[39m)\n",
      "\u001b[1;31mLinAlgError\u001b[0m: Last 2 dimensions of the array must be square"
     ]
    }
   ],
   "source": [
    "arrayA= np.array([[2,3,-4],\n",
    "                  [1,-4,0]])\n",
    "arrayB = np.array([[6],\n",
    "                   [8]])\n",
    "resultX = np.linalg.solve(arrayA,arrayB)\n",
    "x1 = resultX[0][0]\n",
    "x2 = resultX[1][0]\n",
    "print(x1,x2)"
   ]
  },
  {
   "attachments": {},
   "cell_type": "markdown",
   "metadata": {},
   "source": [
    "To solve this question we need one more equation because it is necessary that all have same number of variables therefore there is error and have no solution."
   ]
  }
 ],
 "metadata": {
  "kernelspec": {
   "display_name": "CSCN8010_classic_ml",
   "language": "python",
   "name": "cscn8010_classic_ml"
  },
  "language_info": {
   "codemirror_mode": {
    "name": "ipython",
    "version": 3
   },
   "file_extension": ".py",
   "mimetype": "text/x-python",
   "name": "python",
   "nbconvert_exporter": "python",
   "pygments_lexer": "ipython3",
   "version": "3.11.3"
  },
  "orig_nbformat": 4
 },
 "nbformat": 4,
 "nbformat_minor": 2
}
