{
 "cells": [
  {
   "cell_type": "markdown",
   "id": "f570f7b4",
   "metadata": {},
   "source": [
    "## 1. Creating an Array\n",
    "\n"
   ]
  },
  {
   "cell_type": "code",
   "execution_count": 4,
   "id": "3ef6ce88",
   "metadata": {},
   "outputs": [],
   "source": [
    "### Create an array that starts from 1, ends at 20, incremented by 3.\n",
    "\n",
    "\n",
    "import numpy as np\n",
    "\n",
    "arr = np.arange(1, 21, 3)\n"
   ]
  },
  {
   "cell_type": "code",
   "execution_count": 5,
   "id": "f536a7e7",
   "metadata": {},
   "outputs": [
    {
     "name": "stdout",
     "output_type": "stream",
     "text": [
      "[ 1  4  7 10 13 16 19]\n"
     ]
    }
   ],
   "source": [
    "print(arr)"
   ]
  },
  {
   "cell_type": "markdown",
   "id": "87fe239b",
   "metadata": {},
   "source": [
    "# 2. Generating Random Numbers\n",
    "Create a new array of shape 3 with random numbers between 0 and 1."
   ]
  },
  {
   "cell_type": "code",
   "execution_count": 33,
   "id": "e8327e25",
   "metadata": {},
   "outputs": [
    {
     "name": "stdout",
     "output_type": "stream",
     "text": [
      "[0.14205799987894907, 0.5619076475756867, 0.003334765091173475]\n"
     ]
    }
   ],
   "source": [
    "import random\n",
    "\n",
    "random_array = []\n",
    "for _ in range(3):\n",
    "    random_number = random.random()\n",
    "    random_array.append(random_number)\n",
    "print (random_array)"
   ]
  },
  {
   "cell_type": "markdown",
   "id": "3c7987c4",
   "metadata": {},
   "source": [
    "# 3. Slicing a 2D Array\n",
    "Create a 2D array and perform slicing operations."
   ]
  },
  {
   "cell_type": "code",
   "execution_count": 7,
   "id": "a4a060b8",
   "metadata": {},
   "outputs": [
    {
     "name": "stdout",
     "output_type": "stream",
     "text": [
      "Original Array:\n",
      "[[10 20 45]\n",
      " [30 12 16]\n",
      " [42 17 56]]\n"
     ]
    }
   ],
   "source": [
    "arr_2d = np.array([[10, 20, 45], [30, 12, 16], [42, 17, 56]])\n",
    "print(\"Original Array:\")\n",
    "print(arr_2d)\n",
    "\n"
   ]
  },
  {
   "cell_type": "code",
   "execution_count": 8,
   "id": "b59ed153",
   "metadata": {},
   "outputs": [
    {
     "name": "stdout",
     "output_type": "stream",
     "text": [
      "First Two Rows:\n",
      "[[10 20 45]\n",
      " [30 12 16]]\n"
     ]
    }
   ],
   "source": [
    "# Slice the 2D array to get the first two rows\n",
    "first_two_rows = arr_2d[:2]\n",
    "print(\"First Two Rows:\")\n",
    "print(first_two_rows)\n",
    "\n"
   ]
  },
  {
   "cell_type": "code",
   "execution_count": 35,
   "id": "1b43ca3f",
   "metadata": {},
   "outputs": [
    {
     "name": "stdout",
     "output_type": "stream",
     "text": [
      "Last Two Rows:\n",
      "[[30 12 16]\n",
      " [42 17 56]]\n"
     ]
    }
   ],
   "source": [
    "# Slice the 2D array to get the last two rows\n",
    "last_two_rows = arr_2d[-2:]\n",
    "print(\"Last Two Rows:\")\n",
    "print(last_two_rows)"
   ]
  },
  {
   "cell_type": "markdown",
   "id": "44ecd614",
   "metadata": {},
   "source": [
    "# 4. Stacking and Splitting Arrays\n",
    "Create two 2x2 arrays and demonstrate stacking and splitting operations."
   ]
  },
  {
   "cell_type": "code",
   "execution_count": 20,
   "id": "360a0daf",
   "metadata": {},
   "outputs": [],
   "source": [
    "arr1 = np.array([[1, 2], [3, 4]])\n",
    "arr2 = np.array([[5, 6], [7, 8]])\n",
    "\n",
    "\n",
    "\n"
   ]
  },
  {
   "cell_type": "code",
   "execution_count": 21,
   "id": "1cc16384",
   "metadata": {},
   "outputs": [
    {
     "name": "stdout",
     "output_type": "stream",
     "text": [
      "[[1 2]\n",
      " [3 4]]\n",
      "     \n",
      "[[5 6]\n",
      " [7 8]]\n"
     ]
    }
   ],
   "source": [
    "print(arr1)\n",
    "print(\"     \")\n",
    "print(arr2)"
   ]
  },
  {
   "cell_type": "code",
   "execution_count": 22,
   "id": "c3c27446",
   "metadata": {},
   "outputs": [
    {
     "name": "stdout",
     "output_type": "stream",
     "text": [
      "Vertical Stack:\n",
      "[[1 2]\n",
      " [3 4]\n",
      " [5 6]\n",
      " [7 8]]\n"
     ]
    }
   ],
   "source": [
    "# Stack the arrays vertically\n",
    "vertical_stack = np.vstack((arr1, arr2))\n",
    "print(\"Vertical Stack:\")\n",
    "print(vertical_stack)"
   ]
  },
  {
   "cell_type": "code",
   "execution_count": 12,
   "id": "37ff452a",
   "metadata": {},
   "outputs": [
    {
     "name": "stdout",
     "output_type": "stream",
     "text": [
      "Horizontal Stack:\n",
      "[[1 2 5 6]\n",
      " [3 4 7 8]]\n"
     ]
    }
   ],
   "source": [
    "# Stack the arrays horizontally\n",
    "horizontal_stack = np.hstack((arr1, arr2))\n",
    "print(\"Horizontal Stack:\")\n",
    "print(horizontal_stack)\n"
   ]
  },
  {
   "cell_type": "code",
   "execution_count": 23,
   "id": "bd303b55",
   "metadata": {},
   "outputs": [
    {
     "name": "stdout",
     "output_type": "stream",
     "text": [
      "Split Arrays:\n",
      "[array([[1, 2],\n",
      "       [3, 4]]), array([[5, 6],\n",
      "       [7, 8]])]\n"
     ]
    }
   ],
   "source": [
    "\n",
    "# Split the arrays into smaller arrays\n",
    "split_arr = np.hsplit(horizontal_stack, 2)\n",
    "print(\"Split Arrays:\")\n",
    "print(split_arr)"
   ]
  },
  {
   "cell_type": "markdown",
   "id": "8fc30c24",
   "metadata": {},
   "source": [
    "# 5. Matrix Multiplication\n",
    "Perform matrix multiplication between two matrices."
   ]
  },
  {
   "cell_type": "code",
   "execution_count": 15,
   "id": "5a878b59",
   "metadata": {},
   "outputs": [],
   "source": [
    "X = np.array([[5, 7, 2], [4, 5, 6], [7, 4, 2]])\n",
    "Y = np.array([[4, 2], [6, 2], [4, 2]])\n",
    "\n"
   ]
  },
  {
   "cell_type": "code",
   "execution_count": 18,
   "id": "8555f8c3",
   "metadata": {},
   "outputs": [
    {
     "name": "stdout",
     "output_type": "stream",
     "text": [
      "[[5 7 2]\n",
      " [4 5 6]\n",
      " [7 4 2]]\n",
      "     \n",
      "[[4 2]\n",
      " [6 2]\n",
      " [4 2]]\n"
     ]
    }
   ],
   "source": [
    "print(X)\n",
    "print(\"     \")\n",
    "print(Y)"
   ]
  },
  {
   "cell_type": "code",
   "execution_count": 19,
   "id": "ded510f2",
   "metadata": {},
   "outputs": [
    {
     "name": "stdout",
     "output_type": "stream",
     "text": [
      "Matrix Multiplication Result:\n",
      "[[70 28]\n",
      " [70 30]\n",
      " [60 26]]\n"
     ]
    }
   ],
   "source": [
    "# Perform matrix multiplication\n",
    "result = np.dot(X, Y)\n",
    "print(\"Matrix Multiplication Result:\")\n",
    "print(result)"
   ]
  },
  {
   "cell_type": "markdown",
   "id": "5feaf9ae",
   "metadata": {},
   "source": [
    "# 6. Reshaping Arrays\n",
    "Reshape arrays and determine the number of dimensions."
   ]
  },
  {
   "cell_type": "code",
   "execution_count": 24,
   "id": "61e7653e",
   "metadata": {},
   "outputs": [
    {
     "name": "stdout",
     "output_type": "stream",
     "text": [
      "Shape of x: (3,)\n",
      "Number of dimensions of x: 1\n"
     ]
    }
   ],
   "source": [
    "x = np.array([2, -1, -8])\n",
    "y = np.array([3, 1, -2])\n",
    "\n",
    "# Find the shape and number of dimensions of vector x\n",
    "print(\"Shape of x:\", x.shape)\n",
    "print(\"Number of dimensions of x:\", x.ndim)\n",
    "\n"
   ]
  },
  {
   "cell_type": "code",
   "execution_count": 25,
   "id": "262d48b8",
   "metadata": {},
   "outputs": [
    {
     "name": "stdout",
     "output_type": "stream",
     "text": [
      "Reshaped x:\n",
      "[[ 2]\n",
      " [-1]\n",
      " [-8]]\n",
      "Number of dimensions after reshaping x: 2\n"
     ]
    }
   ],
   "source": [
    "# Reshape vector x to a matrix of size (3,1)\n",
    "x_reshaped = x.reshape((3, 1))\n",
    "print(\"Reshaped x:\")\n",
    "print(x_reshaped)\n",
    "print(\"Number of dimensions after reshaping x:\", x_reshaped.ndim)\n",
    "\n"
   ]
  },
  {
   "cell_type": "code",
   "execution_count": 26,
   "id": "27162a2d",
   "metadata": {},
   "outputs": [
    {
     "name": "stdout",
     "output_type": "stream",
     "text": [
      "Reshaped y:\n",
      "[[ 3]\n",
      " [ 1]\n",
      " [-2]]\n",
      "Number of dimensions after reshaping y: 2\n"
     ]
    }
   ],
   "source": [
    "# Reshape vector y to a matrix of size (3,1)\n",
    "y_reshaped = y.reshape((3, 1))\n",
    "print(\"Reshaped y:\")\n",
    "print(y_reshaped)\n",
    "print(\"Number of dimensions after reshaping y:\", y_reshaped.ndim)"
   ]
  },
  {
   "cell_type": "markdown",
   "id": "0146b551",
   "metadata": {},
   "source": [
    "# 7. Broadcasting\n",
    "Demonstrate broadcasting with a 3x3 matrix."
   ]
  },
  {
   "cell_type": "code",
   "execution_count": null,
   "id": "3af1a35c",
   "metadata": {},
   "outputs": [],
   "source": [
    "Broadcasting is a NumPy method that allows arrays of various forms to be utilised in arithmetic calculations. \n",
    "It makes it easier to conduct element-wise operations on arrays of various sizes.\n",
    "Broadcasting in NumPy adheres to a series of principles to align the shapes of the arrays involved in the operation. \n",
    "The following are the rules:\n",
    "\n",
    "1. If the dimensions of the arrays disagree, the array with fewer dimensions is padded with ones on its left side until the dimensions match.\n",
    "2. an error is raised if the form of any dimension of the two arrays differs and is not equal to 1.\n",
    "3. Arrays are compatible and may be used if the sizes in each dimension are either equal or one of them is 1."
   ]
  },
  {
   "cell_type": "code",
   "execution_count": 37,
   "id": "e228363a",
   "metadata": {},
   "outputs": [
    {
     "name": "stdout",
     "output_type": "stream",
     "text": [
      "matrix a [[1 2 3]\n",
      " [4 5 6]\n",
      " [7 8 9]]\n",
      "        \n",
      "matrix b [1 2 3]\n"
     ]
    }
   ],
   "source": [
    "a = np.array([[1, 2, 3], [4, 5, 6], [7, 8, 9]])\n",
    "b = np.array([1, 2, 3])\n",
    "\n",
    "print(\"matrix a\",a)\n",
    "print(\"        \")\n",
    "print(\"matrix b\",b)\n"
   ]
  },
  {
   "cell_type": "code",
   "execution_count": 38,
   "id": "5f7dde4b",
   "metadata": {},
   "outputs": [
    {
     "name": "stdout",
     "output_type": "stream",
     "text": [
      "Subtraction Result:\n",
      "[[0 0 0]\n",
      " [3 3 3]\n",
      " [6 6 6]]\n"
     ]
    }
   ],
   "source": [
    "# Perform subtraction using broadcasting\n",
    "subtraction_result = a - b\n",
    "print(\"Subtraction Result:\")\n",
    "print(subtraction_result)\n",
    "\n"
   ]
  },
  {
   "cell_type": "code",
   "execution_count": 39,
   "id": "5dbc88ec",
   "metadata": {},
   "outputs": [
    {
     "name": "stdout",
     "output_type": "stream",
     "text": [
      "Multiplication Result:\n",
      "[[ 1  4  9]\n",
      " [ 4 10 18]\n",
      " [ 7 16 27]]\n"
     ]
    }
   ],
   "source": [
    "# Perform multiplication using broadcasting\n",
    "multiplication_result = a * b\n",
    "print(\"Multiplication Result:\")\n",
    "print(multiplication_result)"
   ]
  },
  {
   "cell_type": "code",
   "execution_count": null,
   "id": "9e13f0c8",
   "metadata": {},
   "outputs": [],
   "source": []
  }
 ],
 "metadata": {
  "kernelspec": {
   "display_name": "Python 3",
   "language": "python",
   "name": "python3"
  },
  "language_info": {
   "codemirror_mode": {
    "name": "ipython",
    "version": 3
   },
   "file_extension": ".py",
   "mimetype": "text/x-python",
   "name": "python",
   "nbconvert_exporter": "python",
   "pygments_lexer": "ipython3",
   "version": "3.8.8"
  }
 },
 "nbformat": 4,
 "nbformat_minor": 5
}
