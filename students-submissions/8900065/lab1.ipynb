{
 "cells": [
  {
   "attachments": {},
   "cell_type": "markdown",
   "metadata": {},
   "source": [
    "# Lab 1"
   ]
  },
  {
   "attachments": {},
   "cell_type": "markdown",
   "metadata": {},
   "source": [
    "# Kishankumar Sathvara (8900065)"
   ]
  },
  {
   "attachments": {},
   "cell_type": "markdown",
   "metadata": {},
   "source": [
    "## Part: 1"
   ]
  },
  {
   "attachments": {},
   "cell_type": "markdown",
   "metadata": {},
   "source": [
    "### 1. Create a Notebook to demonstrate NumPy Operations."
   ]
  },
  {
   "cell_type": "code",
   "execution_count": 1,
   "metadata": {},
   "outputs": [],
   "source": [
    "import numpy as np"
   ]
  },
  {
   "attachments": {},
   "cell_type": "markdown",
   "metadata": {},
   "source": [
    "### 2. Create an array that starts from the integer 1, ends at 20, incremented by 3."
   ]
  },
  {
   "cell_type": "code",
   "execution_count": 2,
   "metadata": {},
   "outputs": [
    {
     "name": "stdout",
     "output_type": "stream",
     "text": [
      "[ 1  4  7 10 13 16 19]\n"
     ]
    }
   ],
   "source": [
    "array = np.arange(1, 20, 3)\n",
    "print(array)"
   ]
  },
  {
   "attachments": {},
   "cell_type": "markdown",
   "metadata": {},
   "source": [
    "### 3. Create a new array of shape 3 with random numbers between 0 and 1."
   ]
  },
  {
   "cell_type": "code",
   "execution_count": 3,
   "metadata": {},
   "outputs": [
    {
     "name": "stdout",
     "output_type": "stream",
     "text": [
      "[0.52969384 0.66663191 0.15364685]\n"
     ]
    }
   ],
   "source": [
    "array1 = np.random.rand(3)\n",
    "print(array1)"
   ]
  },
  {
   "attachments": {},
   "cell_type": "markdown",
   "metadata": {},
   "source": [
    "### 4. Create a 2 D array [[10,20,45], [30,12,16], [42,17,56]] and perform the following operations"
   ]
  },
  {
   "cell_type": "code",
   "execution_count": 4,
   "metadata": {},
   "outputs": [
    {
     "name": "stdout",
     "output_type": "stream",
     "text": [
      "[[10 20 45]\n",
      " [30 12 16]\n",
      " [42 17 56]]\n"
     ]
    }
   ],
   "source": [
    "array2 = np.array([[10,20,45], [30,12,16], [42,17,56]])\n",
    "print(array2)"
   ]
  },
  {
   "attachments": {},
   "cell_type": "markdown",
   "metadata": {},
   "source": [
    "### Slice the 2D array to get the first two rows, slice the 2D array to get the last two rows"
   ]
  },
  {
   "cell_type": "code",
   "execution_count": 5,
   "metadata": {},
   "outputs": [
    {
     "name": "stdout",
     "output_type": "stream",
     "text": [
      "First 2 rows\n",
      " [[10 20 45]\n",
      " [30 12 16]]\n",
      "Last 2 rows\n",
      " [[30 12 16]\n",
      " [42 17 56]]\n"
     ]
    }
   ],
   "source": [
    "print(\"First 2 rows\\n\",array2[:2])\n",
    "\n",
    "print(\"Last 2 rows\\n\",array2[1:])"
   ]
  },
  {
   "attachments": {},
   "cell_type": "markdown",
   "metadata": {},
   "source": [
    "### 5. Create two 2x2 arrays and demonstrate how you can stack the elements vertically, horizontally, and split the arrays into smaller arrays."
   ]
  },
  {
   "cell_type": "code",
   "execution_count": 6,
   "metadata": {},
   "outputs": [
    {
     "name": "stdout",
     "output_type": "stream",
     "text": [
      "Vertical stacking:- [[19 29]\n",
      " [39 49]\n",
      " [59 69]\n",
      " [79 89]]\n",
      "\n",
      " Horizontal stacking: [[19 29 59 69]\n",
      " [39 49 79 89]]\n",
      "\n",
      " Splitting vertically: [array([[19, 29]]), array([[39, 49]])]\n",
      "\n",
      " Splitting horizontally: [array([[19],\n",
      "       [39]]), array([[29],\n",
      "       [49]])]\n"
     ]
    }
   ],
   "source": [
    "array3=np.array([[19,29],[39,49]])\n",
    "array4=np.array([[59,69],[79,89]])\n",
    "\n",
    "print(\"Vertical stacking:-\", np.vstack((array3, array4)))\n",
    "\n",
    "print(\"\\n Horizontal stacking:\", np.hstack((array3, array4)))\n",
    "\n",
    "print(\"\\n Splitting vertically:\", np.vsplit(array3, 2))\n",
    "\n",
    "print(\"\\n Splitting horizontally:\", np.hsplit(array3, 2))"
   ]
  },
  {
   "attachments": {},
   "cell_type": "markdown",
   "metadata": {},
   "source": [
    "### 6. Create two matrices X= ([[5, 7, 2], [4, 5, 6], [7, 4 ,2]]) Y= ([[4, 2], [6, 2], [4, 2]]), Is it possible to multiply these matrices?"
   ]
  },
  {
   "cell_type": "code",
   "execution_count": 7,
   "metadata": {},
   "outputs": [
    {
     "name": "stdout",
     "output_type": "stream",
     "text": [
      "Multiplication :\n",
      " [[70 28]\n",
      " [70 30]\n",
      " [60 26]]\n"
     ]
    }
   ],
   "source": [
    "A=np.array([[5,7,2],[4,5,6],[7,4,2]])\n",
    "B=np.array([[4,2],[6,2],[4,2]])\n",
    "\n",
    "print(\"Multiplication :\\n\",np.dot(A,B))"
   ]
  },
  {
   "attachments": {},
   "cell_type": "markdown",
   "metadata": {},
   "source": [
    "Here, we are able to multiply A and B matrices since they have the same raw and column values. However, we cannot multiply B with A because the column and raw values do not match."
   ]
  },
  {
   "attachments": {},
   "cell_type": "markdown",
   "metadata": {},
   "source": [
    "### 7. Create two arrays, x = ([2, -1, -8]) y = ([3, 1, -2]), Find the Shape, Number of dimensions of vector x."
   ]
  },
  {
   "cell_type": "code",
   "execution_count": 8,
   "metadata": {},
   "outputs": [
    {
     "name": "stdout",
     "output_type": "stream",
     "text": [
      "Shape of vector x:  (3,)\n",
      "Dimensions of vector x:  1\n"
     ]
    }
   ],
   "source": [
    "x = np.array([2, -1, -8])\n",
    "y = np.array([3, 1, -2])\n",
    "\n",
    "print(\"Shape of vector x: \" ,x.shape)\n",
    "\n",
    "print(\"Dimensions of vector x: \", x.ndim)"
   ]
  },
  {
   "attachments": {},
   "cell_type": "markdown",
   "metadata": {},
   "source": [
    "### Reshape the vector x to a matrix of size (3,1) and determine the number of dimensions after reshaping y to a matrix of (3,1)."
   ]
  },
  {
   "cell_type": "code",
   "execution_count": 9,
   "metadata": {},
   "outputs": [
    {
     "name": "stdout",
     "output_type": "stream",
     "text": [
      "Reshaped array x:\n",
      " [[ 2]\n",
      " [-1]\n",
      " [-8]]\n",
      "Reshaped array y:\n",
      " [[ 3]\n",
      " [ 1]\n",
      " [-2]]\n",
      "Dimensions of x:  2\n",
      "Dimensions of y:  2\n"
     ]
    }
   ],
   "source": [
    "x = x.reshape(3, 1)\n",
    "y = y.reshape(3, 1)\n",
    "\n",
    "print(\"Reshaped array x:\\n\", x)\n",
    "print(\"Reshaped array y:\\n\", y)\n",
    "\n",
    "print(\"Dimensions of x: \", x.ndim)\n",
    "print(\"Dimensions of y: \", y.ndim)"
   ]
  },
  {
   "attachments": {},
   "cell_type": "markdown",
   "metadata": {},
   "source": [
    "### 8. How does broadcasting work? Demonstrate the subtraction, multiplication by considering a 3 x 3 matrix."
   ]
  },
  {
   "attachments": {},
   "cell_type": "markdown",
   "metadata": {},
   "source": [
    "The word \"broadcasting\" refers to how Numpy handles information in various formats when doing math operations. Whenever a math operation is performed on a grid, Numpy vectorizes the described case by iterating through the lattice component by component."
   ]
  },
  {
   "cell_type": "code",
   "execution_count": 10,
   "metadata": {},
   "outputs": [
    {
     "name": "stdout",
     "output_type": "stream",
     "text": [
      "Subtraction:\n",
      " [[14 24 34]\n",
      " [44 54 64]\n",
      " [74 84 94]]\n",
      "Multiplication:\n",
      " [[ 95 145 195]\n",
      " [245 295 345]\n",
      " [395 445 495]]\n"
     ]
    }
   ],
   "source": [
    "X = np.array([[19, 29, 39], [49, 59, 69], [79, 89, 99]])\n",
    "Y = 5\n",
    "\n",
    "print(\"Subtraction:\\n\", X - Y)\n",
    "\n",
    "print(\"Multiplication:\\n\", X * Y)"
   ]
  },
  {
   "attachments": {},
   "cell_type": "markdown",
   "metadata": {},
   "source": [
    "# Part:2"
   ]
  },
  {
   "attachments": {},
   "cell_type": "markdown",
   "metadata": {},
   "source": [
    "### 1. Solve the following two system of linear equations using matrices (find the values of x1 and x2) and determine the number of solutions using the functions.\n",
    "        "
   ]
  },
  {
   "attachments": {},
   "cell_type": "markdown",
   "metadata": {},
   "source": [
    "#### 2x1+3x2-4x3=6,x1-4x2=8\n",
    "#### 3y1-4y2+5y3=10,-y1+2y2-4y3=8"
   ]
  },
  {
   "attachments": {},
   "cell_type": "markdown",
   "metadata": {},
   "source": [
    "For the first equation, we have variables represented by x and y. The first set of equations involves three variables (x1, x2, x3) and two variables (y1, y2) in the second set. To find a solution, we need at least three variables in the second set of equations. However, the dimensions of the two sets of equations are not compatible. In order to determine a solution, the dimensions of the equations should match, such as having a 2x2 or 3x3 system."
   ]
  },
  {
   "attachments": {},
   "cell_type": "markdown",
   "metadata": {},
   "source": [
    "Also we cannot take any random number to solve the equation."
   ]
  },
  {
   "cell_type": "code",
   "execution_count": 11,
   "metadata": {},
   "outputs": [
    {
     "name": "stdout",
     "output_type": "stream",
     "text": [
      "solution :  [ 4.36363636 -0.90909091]\n"
     ]
    }
   ],
   "source": [
    "A = np.array([[2,3],[1,-4]])\n",
    "\n",
    "B = np.array([6,8])\n",
    "\n",
    "print('solution : ', np.linalg.solve(A, B))"
   ]
  },
  {
   "attachments": {},
   "cell_type": "markdown",
   "metadata": {},
   "source": [
    "We are able to solve this equation because the dimension is (2*2)\n",
    "\n",
    "For the second equation, we use the same method we use in first equation to get solution."
   ]
  },
  {
   "cell_type": "code",
   "execution_count": 12,
   "metadata": {},
   "outputs": [
    {
     "name": "stdout",
     "output_type": "stream",
     "text": [
      "solution : [7.09090909 4.63636364 1.45454545]\n"
     ]
    }
   ],
   "source": [
    "A = np.array([[3, -4, 5], [-1, 2, 4],[3, -2, 0]])\n",
    "\n",
    "B = np.array([10,8, 12])\n",
    "\n",
    "print('solution :',np.linalg.solve(A,B))"
   ]
  },
  {
   "cell_type": "code",
   "execution_count": null,
   "metadata": {},
   "outputs": [],
   "source": []
  }
 ],
 "metadata": {
  "kernelspec": {
   "display_name": "CSCN8010_classic_ml",
   "language": "python",
   "name": "cscn8010_classic_ml"
  },
  "language_info": {
   "codemirror_mode": {
    "name": "ipython",
    "version": 3
   },
   "file_extension": ".py",
   "mimetype": "text/x-python",
   "name": "python",
   "nbconvert_exporter": "python",
   "pygments_lexer": "ipython3",
   "version": "3.11.3"
  },
  "orig_nbformat": 4
 },
 "nbformat": 4,
 "nbformat_minor": 2
}
