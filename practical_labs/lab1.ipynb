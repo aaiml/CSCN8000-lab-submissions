{
 "cells": [
  {
   "attachments": {},
   "cell_type": "markdown",
   "metadata": {},
   "source": [
    "#### <span style='color:#30c9b5'> Student Name & ID: ARJUN KC(8773456)  </span>"
   ]
  },
  {
   "cell_type": "code",
   "execution_count": 26,
   "metadata": {},
   "outputs": [],
   "source": [
    "import numpy as np\n",
    "import pandas as pd\n",
    "import matplotlib.pyplot as plt\n",
    "import seaborn as sns\n"
   ]
  },
  {
   "attachments": {},
   "cell_type": "markdown",
   "metadata": {},
   "source": [
    "### Part 1"
   ]
  },
  {
   "attachments": {},
   "cell_type": "markdown",
   "metadata": {},
   "source": [
    "#### 1) Create a Notebook to demonstrate NumPy Operations."
   ]
  },
  {
   "cell_type": "code",
   "execution_count": 2,
   "metadata": {},
   "outputs": [],
   "source": [
    "import numpy as np  #The Python package NumPy is used to manipulate arrays. Additionally, it contains matrices, Fourier transform, and functions for working in the area of linear algebra."
   ]
  },
  {
   "attachments": {},
   "cell_type": "markdown",
   "metadata": {},
   "source": [
    "#### 2) Create an array that starts from the integer 1, ends at 20, incremented by 3."
   ]
  },
  {
   "cell_type": "code",
   "execution_count": 13,
   "metadata": {},
   "outputs": [
    {
     "data": {
      "text/plain": [
       "array([ 1,  4,  7, 10, 13, 16, 19])"
      ]
     },
     "execution_count": 13,
     "metadata": {},
     "output_type": "execute_result"
    }
   ],
   "source": [
    "arj = np.arange(1,20,3)  # there are three arguments in arange() which is \"start\" =1, \"stop\"=20 and \"step size\"=3\n",
    "arj"
   ]
  },
  {
   "attachments": {},
   "cell_type": "markdown",
   "metadata": {},
   "source": [
    "#### 3)Create a new array of shape 3 with random numbers between 0 and 1."
   ]
  },
  {
   "cell_type": "code",
   "execution_count": 18,
   "metadata": {},
   "outputs": [
    {
     "name": "stdout",
     "output_type": "stream",
     "text": [
      "[0.70539113 0.90866113 0.02111375]\n",
      "(3,)\n"
     ]
    }
   ],
   "source": [
    "arr = np.random.rand(3)\n",
    "print(arr) # create the random number between 0 and 1 using random module of numpy() \n",
    "print(arr.shape)  # determine the shape of array using shape() from numpy"
   ]
  },
  {
   "attachments": {},
   "cell_type": "markdown",
   "metadata": {},
   "source": [
    "#### 4) Create a 2 D array [[10,20,45], [30,12,16], [42,17,56]] and perform the following operations: Slice the 2D array to get the first two rows, slice the 2D array to get the last two rows."
   ]
  },
  {
   "cell_type": "code",
   "execution_count": 22,
   "metadata": {},
   "outputs": [
    {
     "data": {
      "text/plain": [
       "array([[10, 20, 45],\n",
       "       [30, 12, 16],\n",
       "       [42, 17, 56]])"
      ]
     },
     "execution_count": 22,
     "metadata": {},
     "output_type": "execute_result"
    }
   ],
   "source": [
    "arry = np.array([[10,20,45], [30,12,16], [42,17,56]])\n",
    "arry  #this is the two dimension array"
   ]
  },
  {
   "cell_type": "code",
   "execution_count": 31,
   "metadata": {},
   "outputs": [
    {
     "name": "stdout",
     "output_type": "stream",
     "text": [
      "First two rows: \n",
      " [[10 20 45]\n",
      " [30 12 16]]\n"
     ]
    }
   ],
   "source": [
    "print(\"First two rows:\",\"\\n\",arry[0:2] ) #taking the first two of 2D array where indexing start from first row and stop at second row"
   ]
  },
  {
   "cell_type": "code",
   "execution_count": 32,
   "metadata": {},
   "outputs": [
    {
     "name": "stdout",
     "output_type": "stream",
     "text": [
      "Last two row of 2D array: \n",
      " [[30 12 16]\n",
      " [42 17 56]]\n"
     ]
    }
   ],
   "source": [
    "print(\"Last two row of 2D array:\",\"\\n\",arry[1:]) # indexing start from second row and stop at last rows"
   ]
  },
  {
   "attachments": {},
   "cell_type": "markdown",
   "metadata": {},
   "source": [
    "#### 5)Create two 2x2 arrays and demonstrate how you can stack the elements vertically, horizontally, and split the arrays into smaller arrays."
   ]
  },
  {
   "cell_type": "code",
   "execution_count": 62,
   "metadata": {},
   "outputs": [
    {
     "name": "stdout",
     "output_type": "stream",
     "text": [
      "This is vertically stacked array of 2x2 Matrices: \n",
      " [[3 4]\n",
      " [5 6]\n",
      " [7 8]\n",
      " [9 2]]\n",
      "This is horizontally stacked array of 2x2 Matrices: \n",
      " [[3 4 7 8]\n",
      " [5 6 9 2]]\n",
      "This is vertically splited array of 2x2 Matrices:: \n",
      " [array([[3, 4],\n",
      "       [5, 6]]), array([[7, 8],\n",
      "       [9, 2]])]\n",
      "This is horizontally splited array of 2x2 Matrices: \n",
      " [array([[3],\n",
      "       [5]]), array([[4],\n",
      "       [6]]), array([[7],\n",
      "       [9]]), array([[8],\n",
      "       [2]])]\n"
     ]
    }
   ],
   "source": [
    "arj1 = np.array([[3,4],[5,6]])  #first  2X2 array\n",
    "arj2 = np.array([[7,8],[9,2]])  #second 2x2 array\n",
    "vertical_stack_array = np.vstack((arj1,arj2)) # create the vertical stack of given 2 array\n",
    "horizontal_stack_array = np.hstack((arj1,arj2)) # create the horizontal stack of given 2 array\n",
    "vertical_split_array = np.vsplit(vertical_stack_array,2) # create the vertical split of given 2 array into smaller aaray\n",
    "horizontal_split_array= np.hsplit(horizontal_stack_array,4) # create the horizontal split of given 2 array into smaller aaray\n",
    "print(\"This is vertically stacked array of 2x2 Matrices:\",\"\\n\",vertical_stack_array)\n",
    "print(\"This is horizontally stacked array of 2x2 Matrices:\",\"\\n\",horizontal_stack_array)\n",
    "print(\"This is vertically splited array of 2x2 Matrices::\",\"\\n\",vertical_split_array)\n",
    "print(\"This is horizontally splited array of 2x2 Matrices:\",\"\\n\",horizontal_split_array)\n",
    "\n"
   ]
  },
  {
   "attachments": {},
   "cell_type": "markdown",
   "metadata": {},
   "source": [
    "#### 6)Create two matrices X= ([[5, 7, 2], [4, 5, 6], [7, 4 ,2]]) Y= ([[4, 2], [6, 2], [4, 2]]), Is it possible to multiply these matrices? Demonstrate the case when it is not possible to."
   ]
  },
  {
   "cell_type": "code",
   "execution_count": 105,
   "metadata": {},
   "outputs": [
    {
     "name": "stdout",
     "output_type": "stream",
     "text": [
      "(3, 3)\n",
      "(3, 2)\n"
     ]
    }
   ],
   "source": [
    "x = np.array([[5, 7, 2], [4, 5, 6], [7, 4 ,2]])\n",
    "y = np.array([[4, 2], [6, 2], [4, 2]])\n",
    "print(x.shape)\n",
    "print(y.shape)"
   ]
  },
  {
   "attachments": {},
   "cell_type": "markdown",
   "metadata": {},
   "source": [
    "#### Yes, we can do multiplication of these two matrice but only uisng dot product or matmultiplication'''\n",
    "####  -->np.dot(array a, array b): as it returns the scalar or dot product of two arrays'''\n",
    "#### -->np.matmul(array a, array b): as it returns the matrix product of two arrays"
   ]
  },
  {
   "cell_type": "code",
   "execution_count": 102,
   "metadata": {},
   "outputs": [
    {
     "name": "stdout",
     "output_type": "stream",
     "text": [
      "Using dot product: \n",
      " [[70 28]\n",
      " [70 30]\n",
      " [60 26]]\n",
      "Using matrix product: \n",
      " [[70 28]\n",
      " [70 30]\n",
      " [60 26]]\n"
     ]
    }
   ],
   "source": [
    "arj_dot = np.dot(x,y)\n",
    "print(\"Using dot product:\",\"\\n\",arj_dot)\n",
    "arj_mat = np.matmul(x,y)\n",
    "print(\"Using matrix product:\",\"\\n\",arj_mat)\n"
   ]
  },
  {
   "attachments": {},
   "cell_type": "markdown",
   "metadata": {},
   "source": [
    "#### Below we have a case when it is not possible"
   ]
  },
  {
   "attachments": {},
   "cell_type": "markdown",
   "metadata": {},
   "source": [
    "#### But we can not do multiplication of these matrices using --> np.multiply(array a, array b): as it returns the element-wise matrix multiplication of two arrays"
   ]
  },
  {
   "cell_type": "code",
   "execution_count": 103,
   "metadata": {},
   "outputs": [
    {
     "ename": "ValueError",
     "evalue": "operands could not be broadcast together with shapes (3,3) (3,2) ",
     "output_type": "error",
     "traceback": [
      "\u001b[1;31m---------------------------------------------------------------------------\u001b[0m",
      "\u001b[1;31mValueError\u001b[0m                                Traceback (most recent call last)",
      "Cell \u001b[1;32mIn[103], line 1\u001b[0m\n\u001b[1;32m----> 1\u001b[0m arj_mul \u001b[39m=\u001b[39m np\u001b[39m.\u001b[39;49mmultiply(x,y)\n",
      "\u001b[1;31mValueError\u001b[0m: operands could not be broadcast together with shapes (3,3) (3,2) "
     ]
    }
   ],
   "source": [
    "arj_mul = np.multiply(x,y)"
   ]
  },
  {
   "attachments": {},
   "cell_type": "markdown",
   "metadata": {},
   "source": [
    "#### because the number of columns in X (3) is not equal to the number of rows in Y (3). Matrix multiplication requires that the number of columns in the first matrix matches the number of rows in the second matrix."
   ]
  },
  {
   "attachments": {},
   "cell_type": "markdown",
   "metadata": {},
   "source": [
    "#### 7) Create two arrays, x = ([2, -1, -8]) y = ([3, 1, -2]), Find the Shape, Number of dimensions of vector x. Reshape the vector x to a matrix of size (3,1) and determine the number of dimensions after reshaping y to a matrix of (3,1)."
   ]
  },
  {
   "cell_type": "code",
   "execution_count": 131,
   "metadata": {},
   "outputs": [],
   "source": [
    "x = np.array([2, -1, -8]) #given vector of x and y\n",
    "y = np.array([3, 1, -2])"
   ]
  },
  {
   "cell_type": "code",
   "execution_count": 135,
   "metadata": {},
   "outputs": [
    {
     "name": "stdout",
     "output_type": "stream",
     "text": [
      "Initial Shape of Vector x: [ 2 -1 -8]\n",
      "Initial dimension of vector x: 1\n",
      "Reshaping the vector x to (3,1): \n",
      " [[ 2]\n",
      " [-1]\n",
      " [-8]]\n",
      "After reshaping, the shape of vector x: \n",
      " (3, 1)\n",
      "After reshaping, the dimension of vector X: 2\n"
     ]
    }
   ],
   "source": [
    "print(\"Initial Shape of Vector x:\",x) # intial vector of x without changes\n",
    "print(\"Initial dimension of vector x:\",x.ndim) #gives the dimension of x vector\n",
    "X = x.reshape(3,1) # #reshaping the vector of x to the given matrxi of (3,1)\n",
    "print(\"Reshaping the vector x to (3,1):\",\"\\n\",X) \n",
    "print(\"After reshaping, the shape of vector x:\",\"\\n\",X.shape) # checking the shape of vector after changes\n",
    "print(\"After reshaping, the dimension of vector X:\",X.ndim) #checking the dimension of vector after reshaping"
   ]
  },
  {
   "cell_type": "code",
   "execution_count": 137,
   "metadata": {},
   "outputs": [
    {
     "name": "stdout",
     "output_type": "stream",
     "text": [
      "Initial Shape of Vector y: [ 3  1 -2]\n",
      "Initial dimension of vector y: 1\n",
      "Reshaping the vector y to (3,1): \n",
      " [[ 3]\n",
      " [ 1]\n",
      " [-2]]\n",
      "After reshaping,the shape of vector y: \n",
      " (3, 1)\n",
      "After reshaping, the dimension of vecto Y: 2\n"
     ]
    }
   ],
   "source": [
    "print(\"Initial Shape of Vector y:\",y) # intial vector of y without changes\n",
    "print(\"Initial dimension of vector y:\",y.ndim) #gives the dimension of y vector\n",
    "Y = y.reshape(3,1) #reshaping the vector of y to the given matrxi of (3,1)\n",
    "print(\"Reshaping the vector y to (3,1):\",\"\\n\",Y) \n",
    "print(\"After reshaping,the shape of vector y:\",\"\\n\",Y.shape) # checking the shape of vector after changes\n",
    "print(\"After reshaping, the dimension of vecto Y:\",Y.ndim) #checking the dimension of vector after reshaping"
   ]
  },
  {
   "attachments": {},
   "cell_type": "markdown",
   "metadata": {},
   "source": [
    "#### 8)How does broadcasting work? Demonstrate the subtraction, multiplication by considering a 3 x 3 matrix."
   ]
  },
  {
   "attachments": {},
   "cell_type": "markdown",
   "metadata": {},
   "source": [
    "#### The term broadcasting describes how NumPy treats arrays with different shapes during arithmetic operations.It simplifies operations by automatically adjusting the shape of arrays to make them compatible for element-wise operations."
   ]
  },
  {
   "attachments": {},
   "cell_type": "markdown",
   "metadata": {},
   "source": [
    "#### Lets create  3x3 matrix"
   ]
  },
  {
   "cell_type": "code",
   "execution_count": 27,
   "metadata": {},
   "outputs": [
    {
     "name": "stdout",
     "output_type": "stream",
     "text": [
      "3X3 Matrice: \n",
      " [[2 3 4]\n",
      " [5 6 7]\n",
      " [9 7 8]]\n",
      "Shape of 3X3 Matrice: \n",
      " (3, 3)\n"
     ]
    }
   ],
   "source": [
    "a_matx = np.array([[2,3,4],[5,6,7],[9,7,8]])\n",
    "print(\"3X3 Matrice:\",\"\\n\",a_matx)\n",
    "print(\"Shape of 3X3 Matrice:\",\"\\n\",a_matx.shape)\n"
   ]
  },
  {
   "cell_type": "code",
   "execution_count": 158,
   "metadata": {},
   "outputs": [
    {
     "name": "stdout",
     "output_type": "stream",
     "text": [
      "Subtraction of Matrix using broadcasting: \n",
      " [[-1  0  1]\n",
      " [ 2  3  4]\n",
      " [ 6  4  5]]\n"
     ]
    }
   ],
   "source": [
    "# Lets do Subraction using broadcasting\n",
    "b_matx = 3\n",
    "c_matx = a-b_matx #To match the matrix's form, the scalar value b_matx is automatically broadcasted. \n",
    "print(\"Subtraction of Matrix using broadcasting:\",\"\\n\",c_matx)"
   ]
  },
  {
   "cell_type": "code",
   "execution_count": 164,
   "metadata": {},
   "outputs": [
    {
     "name": "stdout",
     "output_type": "stream",
     "text": [
      "Multiplication of Matrix using broadcasting: \n",
      " [[10 15 20]\n",
      " [25 30 35]\n",
      " [45 35 40]]\n"
     ]
    }
   ],
   "source": [
    "# Lets do Multiplication using broadcasting\n",
    "d_matx = 5\n",
    "Mul_matx = a*d_matx #To match the matrix's form, the scalar value d_matx is automatically broadcasted. \n",
    "print(\"Multiplication of Matrix using broadcasting:\",\"\\n\",Mul_matx)"
   ]
  },
  {
   "attachments": {},
   "cell_type": "markdown",
   "metadata": {},
   "source": [
    "#### Part 2"
   ]
  },
  {
   "attachments": {},
   "cell_type": "markdown",
   "metadata": {},
   "source": [
    "#### Solve the following two system of linear equations using matrices (find the values of x1 and x2) and determine the number of solutions using the functions. "
   ]
  },
  {
   "attachments": {},
   "cell_type": "markdown",
   "metadata": {},
   "source": [
    "#### 1.2x1+3x2-4x3=6,x1-4x2=8\n",
    "#### 2. 3y1-4y2+5y3=10,-y1+2y2-4y3=8"
   ]
  },
  {
   "cell_type": "code",
   "execution_count": 48,
   "metadata": {},
   "outputs": [
    {
     "name": "stdout",
     "output_type": "stream",
     "text": [
      "The coeff of first linear system: (2, 3)\n",
      "The constant of first linear system: (2,)\n"
     ]
    },
    {
     "ename": "LinAlgError",
     "evalue": "Last 2 dimensions of the array must be square",
     "output_type": "error",
     "traceback": [
      "\u001b[1;31m---------------------------------------------------------------------------\u001b[0m",
      "\u001b[1;31mLinAlgError\u001b[0m                               Traceback (most recent call last)",
      "Cell \u001b[1;32mIn[48], line 9\u001b[0m\n\u001b[0;32m      7\u001b[0m \u001b[39mprint\u001b[39m(\u001b[39m\"\u001b[39m\u001b[39mThe coeff of first linear system:\u001b[39m\u001b[39m\"\u001b[39m,sys_1\u001b[39m.\u001b[39mshape)\n\u001b[0;32m      8\u001b[0m \u001b[39mprint\u001b[39m(\u001b[39m\"\u001b[39m\u001b[39mThe constant of first linear system:\u001b[39m\u001b[39m\"\u001b[39m,c\u001b[39m.\u001b[39mshape)\n\u001b[1;32m----> 9\u001b[0m lin_eqtn \u001b[39m=\u001b[39m np\u001b[39m.\u001b[39;49mlinalg\u001b[39m.\u001b[39;49msolve(sys_1,c)\u001b[39m#Solving a linear matrix equation, or system of linear scalar equations.\u001b[39;00m\n\u001b[0;32m     10\u001b[0m \u001b[39mprint\u001b[39m(lin_eqtn)\n\u001b[0;32m     12\u001b[0m \u001b[39m# it will raise error as we have 3 different variable for x1,x2,x3 and we only have two equation so we need one more equation to compile it\u001b[39;00m\n\u001b[0;32m     13\u001b[0m \u001b[39m# we need equal number of row and column ie square matrix to compute this equation.\u001b[39;00m\n",
      "File \u001b[1;32m<__array_function__ internals>:200\u001b[0m, in \u001b[0;36msolve\u001b[1;34m(*args, **kwargs)\u001b[0m\n",
      "File \u001b[1;32mf:\\Conestoga_college_course\\AI_ML\\CSCN8010_23S_SC1_Foundation_of_Machine_Learning\\week_2_lab\\CSCN8010\\venv\\CSCN8010_classic_ml\\Lib\\site-packages\\numpy\\linalg\\linalg.py:373\u001b[0m, in \u001b[0;36msolve\u001b[1;34m(a, b)\u001b[0m\n\u001b[0;32m    371\u001b[0m a, _ \u001b[39m=\u001b[39m _makearray(a)\n\u001b[0;32m    372\u001b[0m _assert_stacked_2d(a)\n\u001b[1;32m--> 373\u001b[0m _assert_stacked_square(a)\n\u001b[0;32m    374\u001b[0m b, wrap \u001b[39m=\u001b[39m _makearray(b)\n\u001b[0;32m    375\u001b[0m t, result_t \u001b[39m=\u001b[39m _commonType(a, b)\n",
      "File \u001b[1;32mf:\\Conestoga_college_course\\AI_ML\\CSCN8010_23S_SC1_Foundation_of_Machine_Learning\\week_2_lab\\CSCN8010\\venv\\CSCN8010_classic_ml\\Lib\\site-packages\\numpy\\linalg\\linalg.py:190\u001b[0m, in \u001b[0;36m_assert_stacked_square\u001b[1;34m(*arrays)\u001b[0m\n\u001b[0;32m    188\u001b[0m m, n \u001b[39m=\u001b[39m a\u001b[39m.\u001b[39mshape[\u001b[39m-\u001b[39m\u001b[39m2\u001b[39m:]\n\u001b[0;32m    189\u001b[0m \u001b[39mif\u001b[39;00m m \u001b[39m!=\u001b[39m n:\n\u001b[1;32m--> 190\u001b[0m     \u001b[39mraise\u001b[39;00m LinAlgError(\u001b[39m'\u001b[39m\u001b[39mLast 2 dimensions of the array must be square\u001b[39m\u001b[39m'\u001b[39m)\n",
      "\u001b[1;31mLinAlgError\u001b[0m: Last 2 dimensions of the array must be square"
     ]
    }
   ],
   "source": [
    "## 1. 2x1+3x2-4x3=6,x1-4x2=8\n",
    "#A = [2,3,-4]\n",
    "#B = [1,-4,0]\n",
    "#C = ?\n",
    "sys_1 = np.array([[2,3,-4],[1,-4,0]])\n",
    "c = np.array([6,8])\n",
    "print(\"The coeff of first linear system:\",sys_1.shape)\n",
    "print(\"The constant of first linear system:\",c.shape)\n",
    "lin_eqtn = np.linalg.solve(sys_1,c)#Solving a linear matrix equation, or system of linear scalar equations.\n",
    "print(lin_eqtn)\n",
    "       \n",
    "# it will raise error as we have 3 different variable for x1,x2,x3 and we only have two equation so we need one more equation to compile it\n",
    "# we need equal number of row and column ie square matrix to compute this equation.\n"
   ]
  },
  {
   "cell_type": "code",
   "execution_count": 50,
   "metadata": {},
   "outputs": [
    {
     "name": "stdout",
     "output_type": "stream",
     "text": [
      "The coeff of first linear system: (2, 3)\n",
      "The constant of first linear system: (2,)\n"
     ]
    },
    {
     "ename": "LinAlgError",
     "evalue": "Last 2 dimensions of the array must be square",
     "output_type": "error",
     "traceback": [
      "\u001b[1;31m---------------------------------------------------------------------------\u001b[0m",
      "\u001b[1;31mLinAlgError\u001b[0m                               Traceback (most recent call last)",
      "Cell \u001b[1;32mIn[50], line 9\u001b[0m\n\u001b[0;32m      7\u001b[0m \u001b[39mprint\u001b[39m(\u001b[39m\"\u001b[39m\u001b[39mThe coeff of first linear system:\u001b[39m\u001b[39m\"\u001b[39m,sys_2\u001b[39m.\u001b[39mshape)\n\u001b[0;32m      8\u001b[0m \u001b[39mprint\u001b[39m(\u001b[39m\"\u001b[39m\u001b[39mThe constant of first linear system:\u001b[39m\u001b[39m\"\u001b[39m,c2\u001b[39m.\u001b[39mshape)\n\u001b[1;32m----> 9\u001b[0m lin_eqtn \u001b[39m=\u001b[39m np\u001b[39m.\u001b[39;49mlinalg\u001b[39m.\u001b[39;49msolve(sys_2,c2)\u001b[39m#Solving a linear matrix equation, or system of linear scalar equations.\u001b[39;00m\n\u001b[0;32m     10\u001b[0m \u001b[39mprint\u001b[39m(lin_eqtn)\n\u001b[0;32m     12\u001b[0m \u001b[39m# it will raise same error over here as we have 3 different variable for y1,y2,y3 and we only have two equation so we need one more equation to compile it\u001b[39;00m\n\u001b[0;32m     13\u001b[0m \u001b[39m# we need equal number of row and column ie square matrix to compute this equation.\u001b[39;00m\n\u001b[0;32m     14\u001b[0m \u001b[39m# LinAlgError: Last 2 dimensions of the array must be square\u001b[39;00m\n",
      "File \u001b[1;32m<__array_function__ internals>:200\u001b[0m, in \u001b[0;36msolve\u001b[1;34m(*args, **kwargs)\u001b[0m\n",
      "File \u001b[1;32mf:\\Conestoga_college_course\\AI_ML\\CSCN8010_23S_SC1_Foundation_of_Machine_Learning\\week_2_lab\\CSCN8010\\venv\\CSCN8010_classic_ml\\Lib\\site-packages\\numpy\\linalg\\linalg.py:373\u001b[0m, in \u001b[0;36msolve\u001b[1;34m(a, b)\u001b[0m\n\u001b[0;32m    371\u001b[0m a, _ \u001b[39m=\u001b[39m _makearray(a)\n\u001b[0;32m    372\u001b[0m _assert_stacked_2d(a)\n\u001b[1;32m--> 373\u001b[0m _assert_stacked_square(a)\n\u001b[0;32m    374\u001b[0m b, wrap \u001b[39m=\u001b[39m _makearray(b)\n\u001b[0;32m    375\u001b[0m t, result_t \u001b[39m=\u001b[39m _commonType(a, b)\n",
      "File \u001b[1;32mf:\\Conestoga_college_course\\AI_ML\\CSCN8010_23S_SC1_Foundation_of_Machine_Learning\\week_2_lab\\CSCN8010\\venv\\CSCN8010_classic_ml\\Lib\\site-packages\\numpy\\linalg\\linalg.py:190\u001b[0m, in \u001b[0;36m_assert_stacked_square\u001b[1;34m(*arrays)\u001b[0m\n\u001b[0;32m    188\u001b[0m m, n \u001b[39m=\u001b[39m a\u001b[39m.\u001b[39mshape[\u001b[39m-\u001b[39m\u001b[39m2\u001b[39m:]\n\u001b[0;32m    189\u001b[0m \u001b[39mif\u001b[39;00m m \u001b[39m!=\u001b[39m n:\n\u001b[1;32m--> 190\u001b[0m     \u001b[39mraise\u001b[39;00m LinAlgError(\u001b[39m'\u001b[39m\u001b[39mLast 2 dimensions of the array must be square\u001b[39m\u001b[39m'\u001b[39m)\n",
      "\u001b[1;31mLinAlgError\u001b[0m: Last 2 dimensions of the array must be square"
     ]
    }
   ],
   "source": [
    "# 2. 3y1-4y2+5y3=10,-y1+2y2-4y3=8\n",
    "# A = [3,-4,5]\n",
    "# B = [-1,2,-4]\n",
    "# C = ?\n",
    "sys_2 = np.array([[3,-4,5],[1,2,-4]])\n",
    "c2 = np.array([10,8])\n",
    "print(\"The coeff of first linear system:\",sys_2.shape)\n",
    "print(\"The constant of first linear system:\",c2.shape)\n",
    "lin_eqtn = np.linalg.solve(sys_2,c2) #Solving a linear matrix equation, or system of linear scalar equations.\n",
    "print(lin_eqtn)\n",
    "\n",
    "# it will raise same error over here as we have 3 different variable for y1,y2,y3 and we only have two equation so we need one more equation to compile it\n",
    "# we need equal number of row and column ie square matrix to compute this equation.\n",
    "# LinAlgError: Last 2 dimensions of the array must be square"
   ]
  },
  {
   "cell_type": "code",
   "execution_count": null,
   "metadata": {},
   "outputs": [],
   "source": []
  }
 ],
 "metadata": {
  "kernelspec": {
   "display_name": "CSCN8010_classic_ml",
   "language": "python",
   "name": "python3"
  },
  "language_info": {
   "codemirror_mode": {
    "name": "ipython",
    "version": 3
   },
   "file_extension": ".py",
   "mimetype": "text/x-python",
   "name": "python",
   "nbconvert_exporter": "python",
   "pygments_lexer": "ipython3",
   "version": "3.11.3"
  },
  "orig_nbformat": 4
 },
 "nbformat": 4,
 "nbformat_minor": 2
}
